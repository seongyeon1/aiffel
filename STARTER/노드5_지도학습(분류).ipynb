{
 "cells": [
  {
   "cell_type": "markdown",
   "id": "78f1e89f",
   "metadata": {},
   "source": [
    "## 노드5 지도학습(분류)"
   ]
  },
  {
   "cell_type": "markdown",
   "id": "ebc82f9a",
   "metadata": {},
   "source": [
    "- 분류모델\n",
    "    - 의사결정나무\n",
    "    - 랜덤포레스트\n",
    "    - xgboost\n",
    "- 교차검증\n",
    "- 평가(분류)"
   ]
  },
  {
   "cell_type": "code",
   "execution_count": 1,
   "id": "6c3d376c",
   "metadata": {},
   "outputs": [],
   "source": [
    "# 라이브러리 불러오기\n",
    "import pandas as pd\n",
    "from sklearn.model_selection import train_test_split\n",
    "from sklearn.metrics import accuracy_score"
   ]
  },
  {
   "cell_type": "markdown",
   "id": "a9d2047e",
   "metadata": {},
   "source": [
    "## 데이터 불러오기"
   ]
  },
  {
   "cell_type": "code",
   "execution_count": 2,
   "id": "e3c926d0",
   "metadata": {},
   "outputs": [
    {
     "data": {
      "text/plain": [
       "((284, 30), (285, 30), (284,), (285,))"
      ]
     },
     "execution_count": 2,
     "metadata": {},
     "output_type": "execute_result"
    }
   ],
   "source": [
    "# 데이터 생성\n",
    "from sklearn.datasets import load_breast_cancer\n",
    "\n",
    "def make_dataset():\n",
    "    iris = load_breast_cancer()\n",
    "    df = d=pd.DataFrame(iris.data, columns=iris.feature_names)\n",
    "    df['target'] = iris.target\n",
    "    X_train, X_test, y_train, y_test = train_test_split(\n",
    "        df.drop('target', axis=1), df['target'], test_size=0.5, random_state=1004)\n",
    "    return X_train, X_test, y_train, y_test\n",
    "\n",
    "X_train, X_test, y_train, y_test = make_dataset()\n",
    "X_train.shape, X_test.shape, y_train.shape, y_test.shape"
   ]
  },
  {
   "cell_type": "code",
   "execution_count": 3,
   "id": "740b2ce6",
   "metadata": {
    "scrolled": true
   },
   "outputs": [
    {
     "data": {
      "text/plain": [
       "1    190\n",
       "0     94\n",
       "Name: target, dtype: int64"
      ]
     },
     "execution_count": 3,
     "metadata": {},
     "output_type": "execute_result"
    }
   ],
   "source": [
    "y_train.value_counts()"
   ]
  },
  {
   "cell_type": "markdown",
   "id": "51df8756",
   "metadata": {},
   "source": [
    "## 의사결정나무\n",
    "- 지도학습(분류)에서 가장 유용하게 사용되고 있는 기법 중 하나임\n",
    "- 트리의 루트(root)에서 시작해서 정보이득이 최대가 되는 특성으로 데이터를 나눔\n",
    "- 정보이득(Infomation gain)이 최대가 되는 특성을 나누는 기준(불순도를 측정하는 기준)은 '지니'와 '엔트로피'가 사용됨\n",
    "- 데이터가 한 종류만 있다면 엔트로피/지니 불순도는 0에 가까움, 서로 다른 데이터의 비율이 비슷하면 1에 가까움\n",
    "- 정보이득(Infomation gain)이 최대라는 것은 붙순도를 최소화 하는 방향임 (1-불순도)"
   ]
  },
  {
   "cell_type": "code",
   "execution_count": 4,
   "id": "e6540cdc",
   "metadata": {},
   "outputs": [
    {
     "data": {
      "text/plain": [
       "0.9263157894736842"
      ]
     },
     "execution_count": 4,
     "metadata": {},
     "output_type": "execute_result"
    }
   ],
   "source": [
    "# 의사결정나무\n",
    "from sklearn.tree import DecisionTreeClassifier\n",
    "model = DecisionTreeClassifier(random_state=0)\n",
    "model.fit(X_train, y_train)\n",
    "pred = model.predict(X_test)\n",
    "accuracy_score(y_test, pred)"
   ]
  },
  {
   "cell_type": "markdown",
   "id": "b80ab0f7",
   "metadata": {},
   "source": [
    "## 의사결정나무 하이퍼파라미터\n",
    "- criterion(기본값 gini) : 불순도 지표 (또는 엔트로피 불순도 entropy)\n",
    "- max_depth(기본값 Nane): 최대 한도 깊이\n",
    "- max leaf_ modes(기본값 None): 리프 노드의 최대 개수\n",
    "- min_samples split(기본값 2): 자식 노드들 갖기 위한 최소한의 데이터 수\n",
    "- min_samples leatf(기본값 1): 리프 노드가 되기 위한 최소 샘플 수"
   ]
  },
  {
   "cell_type": "code",
   "execution_count": 9,
   "id": "dc2d314f",
   "metadata": {},
   "outputs": [
    {
     "data": {
      "text/plain": [
       "0.9403508771929825"
      ]
     },
     "execution_count": 9,
     "metadata": {},
     "output_type": "execute_result"
    }
   ],
   "source": [
    "# 의사결정나무\n",
    "from sklearn.tree import DecisionTreeClassifier\n",
    "model = DecisionTreeClassifier(\n",
    "    criterion = 'entropy', \n",
    "    max_depth = 5,\n",
    "    min_samples_split=6,\n",
    "    min_samples_leaf=2,\n",
    "    random_state=0)\n",
    "model.fit(X_train, y_train)\n",
    "pred = model.predict(X_test)\n",
    "accuracy_score(y_test, pred)"
   ]
  },
  {
   "cell_type": "markdown",
   "id": "a7635406",
   "metadata": {},
   "source": [
    "## 랜덤포레스트"
   ]
  },
  {
   "cell_type": "markdown",
   "id": "3a50dba2",
   "metadata": {},
   "source": [
    "- 여러개의 의사결정 트리로 구성\n",
    "- 앙상블 방법 중 배깅(BAGGING) 방식\n",
    "- 부트스트랩 샘플링 (데이터셋 중복 허용)\n",
    "- 최종 다수결 투표"
   ]
  },
  {
   "cell_type": "code",
   "execution_count": 11,
   "id": "dfa9c845",
   "metadata": {},
   "outputs": [
    {
     "data": {
      "text/plain": [
       "0.9438596491228071"
      ]
     },
     "execution_count": 11,
     "metadata": {},
     "output_type": "execute_result"
    }
   ],
   "source": [
    "from sklearn.ensemble import RandomForestClassifier\n",
    "model = RandomForestClassifier(random_state=0)\n",
    "model.fit(X_train, y_train)\n",
    "pred = model.predict(X_test)\n",
    "accuracy_score(y_test, pred)"
   ]
  },
  {
   "cell_type": "markdown",
   "id": "7ece62fe",
   "metadata": {},
   "source": [
    "## 랜덤포레스트 하이퍼파라미터\n",
    "- n_estimators[](기본값 100): 트리의 수\n",
    "- criterion(기본값 gini): 불순도 지표\n",
    "- max depth(기본값 None): 최대 한도 깊이\n",
    "- min_samples_split(기본값 2): 자식 노드를 갖기 위한 최소한의 데이터 수\n",
    "- min_samples_leaf(기본값 1): 리프 노드가 되기 위한 최소 샘플 수"
   ]
  },
  {
   "cell_type": "code",
   "execution_count": 15,
   "id": "24064b41",
   "metadata": {},
   "outputs": [
    {
     "data": {
      "text/plain": [
       "0.9473684210526315"
      ]
     },
     "execution_count": 15,
     "metadata": {},
     "output_type": "execute_result"
    }
   ],
   "source": [
    "# 랜덤포레스트 하이퍼파라미터\n",
    "from sklearn.ensemble import RandomForestClassifier\n",
    "model = RandomForestClassifier(n_estimators=500, max_depth=5, random_state=0)\n",
    "model.fit(X_train, y_train)\n",
    "pred = model.predict(X_test)\n",
    "accuracy_score(y_test, pred)\n",
    "\n",
    "# 0.9473684210526315"
   ]
  },
  {
   "cell_type": "markdown",
   "id": "80734584",
   "metadata": {},
   "source": [
    "## xgboost"
   ]
  },
  {
   "cell_type": "markdown",
   "id": "1270492a",
   "metadata": {},
   "source": [
    "- 부스팅(앙상블) 기반의 알고리즘\n",
    "- 캐글(글로벌 AI 경진대회) 뛰어난 성능을 보이면서 인기가 높아짐"
   ]
  },
  {
   "cell_type": "code",
   "execution_count": 20,
   "id": "b45970be",
   "metadata": {},
   "outputs": [
    {
     "data": {
      "text/plain": [
       "0.9508771929824561"
      ]
     },
     "execution_count": 20,
     "metadata": {},
     "output_type": "execute_result"
    }
   ],
   "source": [
    "# xgboost\n",
    "from xgboost import XGBClassifier\n",
    "model = XGBClassifier(random_state=0, use_label_encoder=False, eval_metric='logloss')\n",
    "model.fit(X_train, y_train)\n",
    "pred = model.predict(X_test)\n",
    "accuracy_score(y_test, pred)"
   ]
  },
  {
   "cell_type": "markdown",
   "id": "e5efbcc6",
   "metadata": {},
   "source": [
    "### xgboost 하이퍼파라미터\n",
    "- booster(기본값 gbtree): 부스팅 알고리즘 (또는 dart, gblinear)\n",
    "- objective(기본값 binary:logistic): 이진분류 (다중분류: multi:softmax)\n",
    "- max_depth(기본값 6): 최대 한도 깊이\n",
    "- learning_rate(기본값 0.1): 학습률\n",
    "- n_estimators(기본값 100): 트리의 수\n",
    "- subsample(기본값 1): 훈련 샘플 개수의 비율\n",
    "- colsample_bytree(기본값 1): 특성 개수의 비율\n",
    "- n_jobs(기본값 1): 사용 코어 수 (-1: 모든 코어를 다 사용)"
   ]
  },
  {
   "cell_type": "code",
   "execution_count": 26,
   "id": "d01a14f7",
   "metadata": {},
   "outputs": [
    {
     "data": {
      "text/plain": [
       "0.9649122807017544"
      ]
     },
     "execution_count": 26,
     "metadata": {},
     "output_type": "execute_result"
    }
   ],
   "source": [
    "# xgboost\n",
    "from xgboost import XGBClassifier\n",
    "model = XGBClassifier(random_state=0, use_label_encoder=False, eval_metric='logloss',\n",
    "                      booster = 'gbtree',\n",
    "                      objective = 'binary:logistic',\n",
    "                      max_depth = 5,\n",
    "                      learning_rate = 0.05,\n",
    "                      n_estimators = 700,\n",
    "                      subsample = 1, \n",
    "                      colsample_bytree = 1,\n",
    "                      n_jobs = -1)\n",
    "model.fit(X_train, y_train)\n",
    "pred = model.predict(X_test)\n",
    "accuracy_score(y_test, pred)"
   ]
  },
  {
   "cell_type": "code",
   "execution_count": 27,
   "id": "310268d9",
   "metadata": {},
   "outputs": [
    {
     "name": "stdout",
     "output_type": "stream",
     "text": [
      "[0]\tvalidation_0-logloss:0.65391\n",
      "[1]\tvalidation_0-logloss:0.61861\n",
      "[2]\tvalidation_0-logloss:0.58697\n",
      "[3]\tvalidation_0-logloss:0.55756\n",
      "[4]\tvalidation_0-logloss:0.53038\n",
      "[5]\tvalidation_0-logloss:0.50611\n",
      "[6]\tvalidation_0-logloss:0.48363\n",
      "[7]\tvalidation_0-logloss:0.46304\n",
      "[8]\tvalidation_0-logloss:0.44332\n",
      "[9]\tvalidation_0-logloss:0.42512\n",
      "[10]\tvalidation_0-logloss:0.40821\n",
      "[11]\tvalidation_0-logloss:0.39260\n",
      "[12]\tvalidation_0-logloss:0.37838\n",
      "[13]\tvalidation_0-logloss:0.36512\n",
      "[14]\tvalidation_0-logloss:0.35276\n",
      "[15]\tvalidation_0-logloss:0.34090\n",
      "[16]\tvalidation_0-logloss:0.33018\n",
      "[17]\tvalidation_0-logloss:0.31967\n",
      "[18]\tvalidation_0-logloss:0.30998\n",
      "[19]\tvalidation_0-logloss:0.30105\n",
      "[20]\tvalidation_0-logloss:0.29259\n",
      "[21]\tvalidation_0-logloss:0.28478\n",
      "[22]\tvalidation_0-logloss:0.27725\n",
      "[23]\tvalidation_0-logloss:0.27027\n",
      "[24]\tvalidation_0-logloss:0.26359\n",
      "[25]\tvalidation_0-logloss:0.25755\n",
      "[26]\tvalidation_0-logloss:0.25139\n",
      "[27]\tvalidation_0-logloss:0.24593\n",
      "[28]\tvalidation_0-logloss:0.24103\n",
      "[29]\tvalidation_0-logloss:0.23648\n",
      "[30]\tvalidation_0-logloss:0.23197\n",
      "[31]\tvalidation_0-logloss:0.22778\n",
      "[32]\tvalidation_0-logloss:0.22354\n",
      "[33]\tvalidation_0-logloss:0.21985\n",
      "[34]\tvalidation_0-logloss:0.21678\n",
      "[35]\tvalidation_0-logloss:0.21353\n",
      "[36]\tvalidation_0-logloss:0.21061\n",
      "[37]\tvalidation_0-logloss:0.20800\n",
      "[38]\tvalidation_0-logloss:0.20558\n",
      "[39]\tvalidation_0-logloss:0.20268\n",
      "[40]\tvalidation_0-logloss:0.20042\n",
      "[41]\tvalidation_0-logloss:0.19771\n",
      "[42]\tvalidation_0-logloss:0.19510\n",
      "[43]\tvalidation_0-logloss:0.19354\n",
      "[44]\tvalidation_0-logloss:0.19128\n",
      "[45]\tvalidation_0-logloss:0.18976\n",
      "[46]\tvalidation_0-logloss:0.18854\n",
      "[47]\tvalidation_0-logloss:0.18668\n",
      "[48]\tvalidation_0-logloss:0.18535\n",
      "[49]\tvalidation_0-logloss:0.18346\n",
      "[50]\tvalidation_0-logloss:0.18234\n",
      "[51]\tvalidation_0-logloss:0.18057\n",
      "[52]\tvalidation_0-logloss:0.17897\n",
      "[53]\tvalidation_0-logloss:0.17816\n",
      "[54]\tvalidation_0-logloss:0.17703\n",
      "[55]\tvalidation_0-logloss:0.17564\n",
      "[56]\tvalidation_0-logloss:0.17445\n",
      "[57]\tvalidation_0-logloss:0.17335\n",
      "[58]\tvalidation_0-logloss:0.17179\n",
      "[59]\tvalidation_0-logloss:0.17106\n",
      "[60]\tvalidation_0-logloss:0.17022\n",
      "[61]\tvalidation_0-logloss:0.16983\n",
      "[62]\tvalidation_0-logloss:0.16899\n",
      "[63]\tvalidation_0-logloss:0.16851\n",
      "[64]\tvalidation_0-logloss:0.16776\n",
      "[65]\tvalidation_0-logloss:0.16681\n",
      "[66]\tvalidation_0-logloss:0.16665\n",
      "[67]\tvalidation_0-logloss:0.16632\n",
      "[68]\tvalidation_0-logloss:0.16533\n",
      "[69]\tvalidation_0-logloss:0.16539\n",
      "[70]\tvalidation_0-logloss:0.16520\n",
      "[71]\tvalidation_0-logloss:0.16446\n",
      "[72]\tvalidation_0-logloss:0.16442\n",
      "[73]\tvalidation_0-logloss:0.16449\n",
      "[74]\tvalidation_0-logloss:0.16469\n",
      "[75]\tvalidation_0-logloss:0.16493\n",
      "[76]\tvalidation_0-logloss:0.16526\n",
      "[77]\tvalidation_0-logloss:0.16542\n",
      "[78]\tvalidation_0-logloss:0.16545\n",
      "[79]\tvalidation_0-logloss:0.16448\n",
      "[80]\tvalidation_0-logloss:0.16470\n",
      "[81]\tvalidation_0-logloss:0.16494\n",
      "[82]\tvalidation_0-logloss:0.16506\n"
     ]
    },
    {
     "data": {
      "text/plain": [
       "0.9473684210526315"
      ]
     },
     "execution_count": 27,
     "metadata": {},
     "output_type": "execute_result"
    }
   ],
   "source": [
    "# 조기종료\n",
    "model = XGBClassifier(random_state=0, use_label_encoder=False, eval_metric='logloss', \n",
    "                     learning_rate = 0.05,\n",
    "                      n_estimators = 500)\n",
    "eval_set = [(X_test, y_test)]\n",
    "model.fit(X_train, y_train, eval_set=eval_set, early_stopping_rounds=10)\n",
    "pred = model.predict(X_test)\n",
    "accuracy_score(y_test, pred)"
   ]
  },
  {
   "cell_type": "markdown",
   "id": "6ea1f575",
   "metadata": {},
   "source": [
    "## 교차검증"
   ]
  },
  {
   "cell_type": "code",
   "execution_count": 29,
   "id": "bac931ca",
   "metadata": {},
   "outputs": [],
   "source": [
    "# 데이터셋 로드\n",
    "def make_dataset2():\n",
    "    bc = load_breast_cancer()\n",
    "    df = pd.DataFrame(bc.data, columns=bc.feature_names)\n",
    "    df['target'] = bc.target\n",
    "    return df.drop('target', axis=1), df['target']\n",
    "X, y = make_dataset2()"
   ]
  },
  {
   "cell_type": "markdown",
   "id": "7c54c26d",
   "metadata": {},
   "source": [
    "Kfold\n",
    "- 일반적으로 사용되는 교차검증 방법"
   ]
  },
  {
   "cell_type": "code",
   "execution_count": 31,
   "id": "dfb840b5",
   "metadata": {},
   "outputs": [
    {
     "name": "stdout",
     "output_type": "stream",
     "text": [
      "0.8771929824561403\n",
      "0.9122807017543859\n",
      "0.9473684210526315\n",
      "0.9385964912280702\n",
      "0.8407079646017699\n"
     ]
    }
   ],
   "source": [
    "from sklearn.model_selection import KFold\n",
    "model = DecisionTreeClassifier(random_state=0)\n",
    "\n",
    "kfold = KFold(n_splits=5)\n",
    "for train_idx, test_idx in kfold.split(X):\n",
    "    X_train, X_test = X.iloc[train_idx], X.iloc[test_idx]\n",
    "    y_train, y_test = y.iloc[train_idx], y.iloc[test_idx]\n",
    "    \n",
    "    model.fit(X_train, y_train)\n",
    "    pred = model.predict(X_test)\n",
    "    print(accuracy_score(y_test, pred))\n",
    "    "
   ]
  },
  {
   "cell_type": "markdown",
   "id": "9c1ebae7",
   "metadata": {},
   "source": [
    "StratofiedKfold\n",
    "- 불균형한 타겟 비율을 가진 데이터가 한쪽으로 치우치는 것을 방지"
   ]
  },
  {
   "cell_type": "code",
   "execution_count": 32,
   "id": "11b29306",
   "metadata": {},
   "outputs": [
    {
     "name": "stdout",
     "output_type": "stream",
     "text": [
      "0.9035087719298246\n",
      "0.9210526315789473\n",
      "0.9122807017543859\n",
      "0.9473684210526315\n",
      "0.9026548672566371\n"
     ]
    }
   ],
   "source": [
    "from sklearn.model_selection import StratifiedKFold\n",
    "model = DecisionTreeClassifier(random_state=0)\n",
    "\n",
    "kfold = StratifiedKFold(n_splits=5)\n",
    "for train_idx, test_idx in kfold.split(X, y):\n",
    "    X_train, X_test = X.iloc[train_idx], X.iloc[test_idx]\n",
    "    y_train, y_test = y.iloc[train_idx], y.iloc[test_idx]\n",
    "    \n",
    "    model.fit(X_train, y_train)\n",
    "    pred = model.predict(X_test)\n",
    "    print(accuracy_score(y_test, pred))"
   ]
  },
  {
   "cell_type": "markdown",
   "id": "7a71a8ef",
   "metadata": {},
   "source": [
    "### 사이킷런 교차검증\n",
    "- 내부 API를 통해 fit - predict - evaluation"
   ]
  },
  {
   "cell_type": "code",
   "execution_count": 34,
   "id": "180ca6fd",
   "metadata": {},
   "outputs": [
    {
     "data": {
      "text/plain": [
       "array([0.88947368, 0.94210526, 0.86243386])"
      ]
     },
     "execution_count": 34,
     "metadata": {},
     "output_type": "execute_result"
    }
   ],
   "source": [
    "from sklearn.model_selection import cross_val_score\n",
    "scores = cross_val_score(model, X, y, cv=3)\n",
    "scores"
   ]
  },
  {
   "cell_type": "code",
   "execution_count": 35,
   "id": "278b9719",
   "metadata": {},
   "outputs": [
    {
     "data": {
      "text/plain": [
       "0.8980042699340944"
      ]
     },
     "execution_count": 35,
     "metadata": {},
     "output_type": "execute_result"
    }
   ],
   "source": [
    "# 평균 점수\n",
    "scores.mean()"
   ]
  },
  {
   "cell_type": "code",
   "execution_count": 36,
   "id": "98973d72",
   "metadata": {},
   "outputs": [
    {
     "data": {
      "text/plain": [
       "array([0.90350877, 0.92105263, 0.9122807 , 0.94736842, 0.90265487])"
      ]
     },
     "execution_count": 36,
     "metadata": {},
     "output_type": "execute_result"
    }
   ],
   "source": [
    "# 교차 검증 StratifiedKFold\n",
    "kfold = StratifiedKFold(n_splits=5)\n",
    "scores = cross_val_score(model, X, y, cv=kfold)\n",
    "scores"
   ]
  },
  {
   "cell_type": "code",
   "execution_count": 37,
   "id": "cb60819b",
   "metadata": {},
   "outputs": [
    {
     "data": {
      "text/plain": [
       "0.9173730787144851"
      ]
     },
     "execution_count": 37,
     "metadata": {},
     "output_type": "execute_result"
    }
   ],
   "source": [
    "# 평균 점수\n",
    "scores.mean()"
   ]
  },
  {
   "cell_type": "markdown",
   "id": "d7abd9b8",
   "metadata": {},
   "source": [
    "## 평가(분류)"
   ]
  },
  {
   "cell_type": "markdown",
   "id": "a978a045",
   "metadata": {},
   "source": [
    "- **정확도 Accuracy**: 실젯값과 예측값이 일치 비율\n",
    "- **정밀도 precision**: 양성이라고 예측한 값 중 실제 양성인 값 (암이라고 예측 한 값 중 실제 암일 확률)\n",
    "- 재현율 recall: 실제 양성 값 중 양성으로 예측한 값 (실제 암인 값 중 예측도 암인 확률)\n",
    "- F1: 정밀도와 재현율 조화 평균\n",
    "- ROC-AUC\n",
    "    - ROC: 참 양성 비율(True Positive Rate)에 대한 거짓 양성 비율(False Positive Rate) 곡선\n",
    "    - AUC: ROC곡선 면적 아래 (완벽하게 분류되면 AUC가 1임)"
   ]
  },
  {
   "cell_type": "code",
   "execution_count": 38,
   "id": "e08daa0b",
   "metadata": {},
   "outputs": [
    {
     "data": {
      "text/plain": [
       "0.9026548672566371"
      ]
     },
     "execution_count": 38,
     "metadata": {},
     "output_type": "execute_result"
    }
   ],
   "source": [
    "# 정확도\n",
    "from sklearn.metrics import accuracy_score\n",
    "accuracy_score(y_test, pred)"
   ]
  },
  {
   "cell_type": "code",
   "execution_count": 39,
   "id": "002d0066",
   "metadata": {},
   "outputs": [
    {
     "data": {
      "text/plain": [
       "0.9545454545454546"
      ]
     },
     "execution_count": 39,
     "metadata": {},
     "output_type": "execute_result"
    }
   ],
   "source": [
    "# 정밀도\n",
    "from sklearn.metrics import precision_score\n",
    "precision_score(y_test, pred)"
   ]
  },
  {
   "cell_type": "code",
   "execution_count": 40,
   "id": "b74cce5f",
   "metadata": {},
   "outputs": [
    {
     "data": {
      "text/plain": [
       "0.8873239436619719"
      ]
     },
     "execution_count": 40,
     "metadata": {},
     "output_type": "execute_result"
    }
   ],
   "source": [
    "# 재현율\n",
    "from sklearn.metrics import recall_score\n",
    "recall_score(y_test, pred)"
   ]
  },
  {
   "cell_type": "code",
   "execution_count": 41,
   "id": "a0101f9c",
   "metadata": {},
   "outputs": [
    {
     "data": {
      "text/plain": [
       "0.9197080291970803"
      ]
     },
     "execution_count": 41,
     "metadata": {},
     "output_type": "execute_result"
    }
   ],
   "source": [
    "# f1\n",
    "from sklearn.metrics import f1_score\n",
    "f1_score(y_test, pred)"
   ]
  },
  {
   "cell_type": "code",
   "execution_count": 46,
   "id": "8f56a3f2",
   "metadata": {},
   "outputs": [
    {
     "data": {
      "text/plain": [
       "0.999664654594232"
      ]
     },
     "execution_count": 46,
     "metadata": {},
     "output_type": "execute_result"
    }
   ],
   "source": [
    "# roc_auc\n",
    "from sklearn.metrics import roc_auc_score\n",
    "\n",
    "model = XGBClassifier(random_state=0, use_label_encoder=False, eval_metric='logloss')\n",
    "model.fit(X_train, y_train)\n",
    "pred = model.predict_proba(X_test)\n",
    "roc_auc_score(y_test, pred[:,1])"
   ]
  },
  {
   "cell_type": "code",
   "execution_count": null,
   "id": "256663ba",
   "metadata": {},
   "outputs": [],
   "source": []
  },
  {
   "cell_type": "code",
   "execution_count": null,
   "id": "695db98f",
   "metadata": {},
   "outputs": [],
   "source": []
  }
 ],
 "metadata": {
  "kernelspec": {
   "display_name": "Python 3 (ipykernel)",
   "language": "python",
   "name": "python3"
  },
  "language_info": {
   "codemirror_mode": {
    "name": "ipython",
    "version": 3
   },
   "file_extension": ".py",
   "mimetype": "text/x-python",
   "name": "python",
   "nbconvert_exporter": "python",
   "pygments_lexer": "ipython3",
   "version": "3.9.7"
  }
 },
 "nbformat": 4,
 "nbformat_minor": 5
}
