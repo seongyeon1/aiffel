{
 "cells": [
  {
   "cell_type": "code",
   "execution_count": null,
   "id": "c2f866f5",
   "metadata": {},
   "outputs": [],
   "source": []
  },
  {
   "cell_type": "markdown",
   "id": "1f5864ed",
   "metadata": {},
   "source": [
    "## 딥러닝 구조와 레이어(Layer)"
   ]
  },
  {
   "cell_type": "code",
   "execution_count": null,
   "id": "d3dff744",
   "metadata": {},
   "outputs": [],
   "source": []
  },
  {
   "cell_type": "markdown",
   "id": "b35ad5eb",
   "metadata": {},
   "source": [
    "## 딥러닝 모델"
   ]
  },
  {
   "cell_type": "code",
   "execution_count": 1,
   "id": "57f4c7f7",
   "metadata": {},
   "outputs": [],
   "source": [
    "from tensorflow.keras import models, utils, layers"
   ]
  },
  {
   "cell_type": "markdown",
   "id": "13e35345",
   "metadata": {},
   "source": [
    "### Sequential API\n",
    "------\n",
    "- Sequential API를 이용하는 방법은 모델이 순차적인 구조로 진행할 때 사용하는 간단한 방법입니다. 다만 이 방법은 다중 입력 및 출력이 존재하는 등의 복잡한 모델을 구성할 수 없습니다.\n",
    "\n",
    "- Sequential API를 이용한 방법 중 첫번째는 `Sequential` 객체 생성 후, `add()`를 이용하여 사용할 레이어들을 추가하는 방법입니다."
   ]
  },
  {
   "cell_type": "code",
   "execution_count": 2,
   "id": "3a23501f",
   "metadata": {},
   "outputs": [
    {
     "name": "stdout",
     "output_type": "stream",
     "text": [
      "Model: \"sequential\"\n",
      "_________________________________________________________________\n",
      "Layer (type)                 Output Shape              Param #   \n",
      "=================================================================\n",
      "dense (Dense)                (None, 28, 300)           8700      \n",
      "_________________________________________________________________\n",
      "dense_1 (Dense)              (None, 28, 100)           30100     \n",
      "_________________________________________________________________\n",
      "dense_2 (Dense)              (None, 28, 10)            1010      \n",
      "=================================================================\n",
      "Total params: 39,810\n",
      "Trainable params: 39,810\n",
      "Non-trainable params: 0\n",
      "_________________________________________________________________\n"
     ]
    }
   ],
   "source": [
    "model = models.Sequential()\n",
    "model.add(layers.Input(shape=(28, 28)))\n",
    "model.add(layers.Dense(300, activation='relu'))\n",
    "model.add(layers.Dense(100, activation='relu'))\n",
    "model.add(layers.Dense(10, activation='softmax'))\n",
    "model.summary()"
   ]
  },
  {
   "cell_type": "markdown",
   "id": "7c9f9c97",
   "metadata": {},
   "source": [
    "`plot_model()` 함수를 통해 딥러닝 모델의 모습을 시각적으로 확인할 수 있습니다."
   ]
  },
  {
   "cell_type": "code",
   "execution_count": 3,
   "id": "83b97503",
   "metadata": {},
   "outputs": [
    {
     "data": {
      "image/png": "[encoded data removed]",
      "text/plain": [
       "<IPython.core.display.Image object>"
      ]
     },
     "execution_count": 3,
     "metadata": {},
     "output_type": "execute_result"
    }
   ],
   "source": [
    "utils.plot_model(model)"
   ]
  },
  {
   "cell_type": "code",
   "execution_count": 4,
   "id": "013ba11c",
   "metadata": {},
   "outputs": [
    {
     "name": "stdout",
     "output_type": "stream",
     "text": [
      "Model: \"sequential_1\"\n",
      "_________________________________________________________________\n",
      "Layer (type)                 Output Shape              Param #   \n",
      "=================================================================\n",
      "Dense1 (Dense)               (None, 28, 300)           8700      \n",
      "_________________________________________________________________\n",
      "Dense2 (Dense)               (None, 28, 100)           30100     \n",
      "_________________________________________________________________\n",
      "Output (Dense)               (None, 28, 10)            1010      \n",
      "=================================================================\n",
      "Total params: 39,810\n",
      "Trainable params: 39,810\n",
      "Non-trainable params: 0\n",
      "_________________________________________________________________\n"
     ]
    }
   ],
   "source": [
    "# Sequential 인자에 한번에 추가하는 방법\n",
    "model = models.Sequential([layers.Input(shape=(28, 28), name='Input'),\n",
    "                           layers.Dense(300, activation='relu', name='Dense1'),\n",
    "                           layers.Dense(100, activation='relu', name='Dense2'),\n",
    "                           layers.Dense(10, activation='softmax', name='Output')])\n",
    "model.summary()"
   ]
  },
  {
   "cell_type": "code",
   "execution_count": 5,
   "id": "bee922c6",
   "metadata": {},
   "outputs": [
    {
     "data": {
      "image/png": "[encoded data removed]",
      "text/plain": [
       "<IPython.core.display.Image object>"
      ]
     },
     "execution_count": 5,
     "metadata": {},
     "output_type": "execute_result"
    }
   ],
   "source": [
    "utils.plot_model(model)"
   ]
  },
  {
   "cell_type": "markdown",
   "id": "e403f723",
   "metadata": {},
   "source": [
    "### Functional API\n",
    "------\n",
    "- 모델 생성에 Functional API를 이용하는 방법은 가장 권장되는 방법입니다. Functional API는 딥러닝 모델을 복잡하고, 유연하게 구성하는 것이 가능하며, 다중 입출력을 다룰 수 있습니다."
   ]
  },
  {
   "cell_type": "code",
   "execution_count": 6,
   "id": "02f45d08",
   "metadata": {},
   "outputs": [
    {
     "name": "stdout",
     "output_type": "stream",
     "text": [
      "Model: \"model\"\n",
      "_________________________________________________________________\n",
      "Layer (type)                 Output Shape              Param #   \n",
      "=================================================================\n",
      "input_2 (InputLayer)         [(None, 28, 28, 1)]       0         \n",
      "_________________________________________________________________\n",
      "flatten (Flatten)            (None, 784)               0         \n",
      "_________________________________________________________________\n",
      "dense_3 (Dense)              (None, 300)               235500    \n",
      "_________________________________________________________________\n",
      "dense_4 (Dense)              (None, 100)               30100     \n",
      "_________________________________________________________________\n",
      "dense_5 (Dense)              (None, 10)                1010      \n",
      "=================================================================\n",
      "Total params: 266,610\n",
      "Trainable params: 266,610\n",
      "Non-trainable params: 0\n",
      "_________________________________________________________________\n"
     ]
    }
   ],
   "source": [
    "inputs = layers.Input(shape=(28, 28, 1))\n",
    "x = layers.Flatten(input_shape=(28, 28, 1))(inputs)\n",
    "x = layers.Dense(300, activation='relu')(x)\n",
    "x = layers.Dense(100, activation='relu')(x)\n",
    "x = layers.Dense(10, activation='softmax')(x)\n",
    "\n",
    "model = models.Model(inputs=inputs, outputs=x)\n",
    "model.summary()"
   ]
  },
  {
   "cell_type": "code",
   "execution_count": 7,
   "id": "94abfc5d",
   "metadata": {},
   "outputs": [
    {
     "data": {
      "image/png": "[encoded data removed]",
      "text/plain": [
       "<IPython.core.display.Image object>"
      ]
     },
     "execution_count": 7,
     "metadata": {},
     "output_type": "execute_result"
    }
   ],
   "source": [
    "utils.plot_model(model)"
   ]
  },
  {
   "cell_type": "markdown",
   "id": "a39918dd",
   "metadata": {},
   "source": [
    "- Functional API를 이용하면 Input 객체를 여러 레이어에서 사용하는 것이 가능합니다. \n",
    "- 아래의 예제에서는 Concatenate()를 이용하여 Dense 레이어 결과와 Input을 결합하였습니다."
   ]
  },
  {
   "cell_type": "code",
   "execution_count": 8,
   "id": "bd97855c",
   "metadata": {},
   "outputs": [
    {
     "name": "stdout",
     "output_type": "stream",
     "text": [
      "Model: \"model_1\"\n",
      "__________________________________________________________________________________________________\n",
      "Layer (type)                    Output Shape         Param #     Connected to                     \n",
      "==================================================================================================\n",
      "input_3 (InputLayer)            [(None, 28, 28)]     0                                            \n",
      "__________________________________________________________________________________________________\n",
      "dense_6 (Dense)                 (None, 28, 100)      2900        input_3[0][0]                    \n",
      "__________________________________________________________________________________________________\n",
      "dense_7 (Dense)                 (None, 28, 30)       3030        dense_6[0][0]                    \n",
      "__________________________________________________________________________________________________\n",
      "concatenate (Concatenate)       (None, 28, 58)       0           input_3[0][0]                    \n",
      "                                                                 dense_7[0][0]                    \n",
      "__________________________________________________________________________________________________\n",
      "dense_8 (Dense)                 (None, 28, 1)        59          concatenate[0][0]                \n",
      "==================================================================================================\n",
      "Total params: 5,989\n",
      "Trainable params: 5,989\n",
      "Non-trainable params: 0\n",
      "__________________________________________________________________________________________________\n"
     ]
    }
   ],
   "source": [
    "from tensorflow.keras.layers import Input, Dense, Concatenate\n",
    "from tensorflow.keras.models import Model\n",
    "\n",
    "inputs = Input(shape=(28, 28))\n",
    "hidden1 = Dense(100, activation='relu')(inputs)\n",
    "hidden2 = Dense(30, activation='relu')(hidden1)\n",
    "concat = Concatenate()([inputs, hidden2])\n",
    "output = Dense(1)(concat)\n",
    "\n",
    "model = Model(inputs=[inputs], outputs=[output])\n",
    "model.summary()"
   ]
  },
  {
   "cell_type": "code",
   "execution_count": 9,
   "id": "42192f7c",
   "metadata": {},
   "outputs": [
    {
     "data": {
      "image/png": "[encoded data removed]",
      "text/plain": [
       "<IPython.core.display.Image object>"
      ]
     },
     "execution_count": 9,
     "metadata": {},
     "output_type": "execute_result"
    }
   ],
   "source": [
    "utils.plot_model(model)"
   ]
  },
  {
   "cell_type": "markdown",
   "id": "56ab9f4a",
   "metadata": {},
   "source": [
    "- Functional API를 이용하면 여러 Input 객체를 사용하는 것도 가능합니다."
   ]
  },
  {
   "cell_type": "code",
   "execution_count": 10,
   "id": "c5bcd2a7",
   "metadata": {},
   "outputs": [
    {
     "name": "stdout",
     "output_type": "stream",
     "text": [
      "Model: \"model_2\"\n",
      "__________________________________________________________________________________________________\n",
      "Layer (type)                    Output Shape         Param #     Connected to                     \n",
      "==================================================================================================\n",
      "Input_2 (InputLayer)            [(None, 10, 28)]     0                                            \n",
      "__________________________________________________________________________________________________\n",
      "dense_9 (Dense)                 (None, 10, 100)      2900        Input_2[0][0]                    \n",
      "__________________________________________________________________________________________________\n",
      "Input_1 (InputLayer)            [(None, 10, 10)]     0                                            \n",
      "__________________________________________________________________________________________________\n",
      "dense_10 (Dense)                (None, 10, 10)       1010        dense_9[0][0]                    \n",
      "__________________________________________________________________________________________________\n",
      "concatenate_1 (Concatenate)     (None, 10, 20)       0           Input_1[0][0]                    \n",
      "                                                                 dense_10[0][0]                   \n",
      "__________________________________________________________________________________________________\n",
      "output (Dense)                  (None, 10, 1)        21          concatenate_1[0][0]              \n",
      "==================================================================================================\n",
      "Total params: 3,931\n",
      "Trainable params: 3,931\n",
      "Non-trainable params: 0\n",
      "__________________________________________________________________________________________________\n"
     ]
    }
   ],
   "source": [
    "input_1 = Input(shape=(10, 10), name='Input_1')\n",
    "input_2 = Input(shape=(10, 28), name='Input_2')\n",
    "\n",
    "hidden1 = Dense(100, activation='relu')(input_2)\n",
    "hidden2 = Dense(10, activation='relu')(hidden1)\n",
    "concat = Concatenate()([input_1, hidden2])\n",
    "output = Dense(1, activation='sigmoid', name='output')(concat)\n",
    "\n",
    "model = Model(inputs=[input_1, input_2], outputs=[output])\n",
    "model.summary()"
   ]
  },
  {
   "cell_type": "code",
   "execution_count": 11,
   "id": "24ff17f0",
   "metadata": {},
   "outputs": [
    {
     "data": {
      "image/png": "[encoded data removed]",
      "text/plain": [
       "<IPython.core.display.Image object>"
      ]
     },
     "execution_count": 11,
     "metadata": {},
     "output_type": "execute_result"
    }
   ],
   "source": [
    "utils.plot_model(model)"
   ]
  },
  {
   "cell_type": "code",
   "execution_count": 13,
   "id": "5a038cd9",
   "metadata": {},
   "outputs": [
    {
     "name": "stdout",
     "output_type": "stream",
     "text": [
      "Model: \"model_3\"\n",
      "__________________________________________________________________________________________________\n",
      "Layer (type)                    Output Shape         Param #     Connected to                     \n",
      "==================================================================================================\n",
      "input_ (InputLayer)             [(None, 10, 10)]     0                                            \n",
      "__________________________________________________________________________________________________\n",
      "dense_11 (Dense)                (None, 10, 100)      1100        input_[0][0]                     \n",
      "__________________________________________________________________________________________________\n",
      "dense_12 (Dense)                (None, 10, 10)       1010        dense_11[0][0]                   \n",
      "__________________________________________________________________________________________________\n",
      "main_output (Dense)             (None, 10, 1)        11          dense_12[0][0]                   \n",
      "__________________________________________________________________________________________________\n",
      "sum_output (Dense)              (None, 10, 1)        11          dense_12[0][0]                   \n",
      "==================================================================================================\n",
      "Total params: 2,132\n",
      "Trainable params: 2,132\n",
      "Non-trainable params: 0\n",
      "__________________________________________________________________________________________________\n"
     ]
    }
   ],
   "source": [
    "# Functional API를 이용하면 결과를 여러개로 나눠서 사용하는 것도 가능\n",
    "input_ = Input(shape=(10, 10), name='input_')\n",
    "hidden1 = Dense(100, activation='relu')(input_)\n",
    "hidden2 = Dense(10, activation='relu')(hidden1)\n",
    "output = Dense(1, activation='sigmoid', name='main_output')(hidden2)\n",
    "sub_out = Dense(1, name='sum_output')(hidden2)\n",
    "\n",
    "model = Model(inputs=[input_], outputs=[output, sub_out])\n",
    "model.summary()"
   ]
  },
  {
   "cell_type": "code",
   "execution_count": 14,
   "id": "72d032a5",
   "metadata": {},
   "outputs": [
    {
     "data": {
      "image/png": "[encoded data removed]",
      "text/plain": [
       "<IPython.core.display.Image object>"
      ]
     },
     "execution_count": 14,
     "metadata": {},
     "output_type": "execute_result"
    }
   ],
   "source": [
    "utils.plot_model(model)"
   ]
  },
  {
   "cell_type": "code",
   "execution_count": 15,
   "id": "054f3c38",
   "metadata": {},
   "outputs": [
    {
     "name": "stdout",
     "output_type": "stream",
     "text": [
      "Model: \"model_4\"\n",
      "__________________________________________________________________________________________________\n",
      "Layer (type)                    Output Shape         Param #     Connected to                     \n",
      "==================================================================================================\n",
      "input_2 (InputLayer)            [(None, 10, 28)]     0                                            \n",
      "__________________________________________________________________________________________________\n",
      "dense_13 (Dense)                (None, 10, 100)      2900        input_2[0][0]                    \n",
      "__________________________________________________________________________________________________\n",
      "input_1 (InputLayer)            [(None, 10, 10)]     0                                            \n",
      "__________________________________________________________________________________________________\n",
      "dense_14 (Dense)                (None, 10, 10)       1010        dense_13[0][0]                   \n",
      "__________________________________________________________________________________________________\n",
      "concatenate_2 (Concatenate)     (None, 10, 20)       0           input_1[0][0]                    \n",
      "                                                                 dense_14[0][0]                   \n",
      "__________________________________________________________________________________________________\n",
      "main_output (Dense)             (None, 10, 1)        21          concatenate_2[0][0]              \n",
      "__________________________________________________________________________________________________\n",
      "sum_output (Dense)              (None, 10, 1)        11          dense_14[0][0]                   \n",
      "==================================================================================================\n",
      "Total params: 3,942\n",
      "Trainable params: 3,942\n",
      "Non-trainable params: 0\n",
      "__________________________________________________________________________________________________\n"
     ]
    }
   ],
   "source": [
    "# Functional API를 이용하여 다중 입력과 다중 출력이 가능한 모델도 만들 수 있습니다.\n",
    "input_1 = Input(shape=(10, 10), name='input_1')\n",
    "input_2 = Input(shape=(10, 28), name='input_2')\n",
    "hidden1 = Dense(100, activation='relu')(input_2)\n",
    "hidden2 = Dense(10, activation='relu')(hidden1)\n",
    "concat = Concatenate()([input_1, hidden2])\n",
    "output = Dense(1, activation='sigmoid', name='main_output')(concat)\n",
    "sub_out = Dense(1, name='sum_output')(hidden2)\n",
    "\n",
    "model = Model(inputs=[input_1, input_2], outputs=[output, sub_out])\n",
    "model.summary()"
   ]
  },
  {
   "cell_type": "code",
   "execution_count": 16,
   "id": "3543a80a",
   "metadata": {},
   "outputs": [
    {
     "data": {
      "image/png": "[encoded data removed]",
      "text/plain": [
       "<IPython.core.display.Image object>"
      ]
     },
     "execution_count": 16,
     "metadata": {},
     "output_type": "execute_result"
    }
   ],
   "source": [
    "utils.plot_model(model)"
   ]
  },
  {
   "cell_type": "markdown",
   "id": "365c1dc8",
   "metadata": {},
   "source": [
    "## Subclassing API\n",
    "----\n",
    "서브클래싱(Subclassing) 방법은 커스터마이징에 최적화된 방법으로, Model 클래스를 상속받아서 사용하고 모델에 포함되는 다음과 같은 기능을 사용할 수 있습니다.\n",
    "\n",
    "- `fit()`: 모델 학습\n",
    "- `evaluate()`: 모델 평가\n",
    "- `predict()`: 모델 예측\n",
    "- `save()`: 모델 저장\n",
    "- `load()`: 모델 불러오기\n",
    "- `call()`: 메소드안에서 원하는 계산 가능\n",
    "\n",
    "Subclassing API를 사용하면 Functional API로도 구현할 수 없는 모델들도 구현이 가능하지만, 객체지향 프로그래밍\n",
    "(Object-oriented Programming)에 익숙해야 합니다.\n"
   ]
  },
  {
   "cell_type": "code",
   "execution_count": 17,
   "id": "4af5b9d7",
   "metadata": {},
   "outputs": [],
   "source": [
    "# Subclassing API의 예시\n",
    "class MyModel(models.Model):\n",
    "  def __init__(self, units=30, activation='relu', **kwargs):\n",
    "    super(MyModel, self).__init__(**kwargs)\n",
    "    self.dense_layer1 = layers.Dense(300, activation=activation)\n",
    "    self.dense_layer2 = layers.Dense(100, activation=activation)\n",
    "    self.dense_layer3 = layers.Dense(units, activation=activation)\n",
    "    self.output_layer = layers.Dense(10, activation='softmax')\n",
    "\n",
    "  def call(self, inputs):\n",
    "    x = self.dense_layer1(inputs)\n",
    "    x = self.dense_layer2(x)\n",
    "    x = self.dense_layer3(x)\n",
    "    x = self.output_layer(x)\n",
    "    return x"
   ]
  },
  {
   "cell_type": "markdown",
   "id": "777f0c53",
   "metadata": {},
   "source": [
    "## 실습"
   ]
  },
  {
   "cell_type": "markdown",
   "id": "e2fc9c86",
   "metadata": {},
   "source": [
    "### Q. 아래 주석을 따라 Seqential API 모델을 완성해 보세요."
   ]
  },
  {
   "cell_type": "code",
   "execution_count": 18,
   "id": "c1bb2396",
   "metadata": {},
   "outputs": [
    {
     "name": "stdout",
     "output_type": "stream",
     "text": [
      "Model: \"sequential_2\"\n",
      "_________________________________________________________________\n",
      "Layer (type)                 Output Shape              Param #   \n",
      "=================================================================\n",
      "flatten_1 (Flatten)          (None, 30000)             0         \n",
      "_________________________________________________________________\n",
      "dense_15 (Dense)             (None, 400)               12000400  \n",
      "_________________________________________________________________\n",
      "dense_16 (Dense)             (None, 200)               80200     \n",
      "_________________________________________________________________\n",
      "dense_17 (Dense)             (None, 100)               20100     \n",
      "=================================================================\n",
      "Total params: 12,100,700\n",
      "Trainable params: 12,100,700\n",
      "Non-trainable params: 0\n",
      "_________________________________________________________________\n"
     ]
    }
   ],
   "source": [
    "model = models.Sequential()\n",
    "\n",
    "# (100, 100, 3) 형태의 데이터를 받는 Input 레이어를 쌓으세요.\n",
    "model.add(layers.Input(shape= (100, 100, 3)))\n",
    "\n",
    "# Flatten 레이어를 쌓으세요.\n",
    "model.add(layers.Flatten())\n",
    "\n",
    "# Unit의 수는 400, 활성화함수는 ReLU를 사용하는 Dense 레이어를 쌓으세요.\n",
    "model.add(layers.Dense(400, activation='relu'))\n",
    "\n",
    "# Unit의 수는 200, 활성화함수는 ReLU를 사용하는 Dense 레이어를 쌓으세요.\n",
    "model.add(layers.Dense(200, activation='relu'))\n",
    "\n",
    "# Unit의 수는 100, 활성화함수는 Softmax를 사용하는 Dense 레이어를 쌓으세요.\n",
    "model.add(layers.Dense(100, activation='softmax'))\n",
    "\n",
    "model.summary()"
   ]
  },
  {
   "cell_type": "markdown",
   "id": "174b3e1d",
   "metadata": {},
   "source": [
    "### Q. 아래 주석을 따라 Functional API 모델을 완성해 보세요."
   ]
  },
  {
   "cell_type": "code",
   "execution_count": 19,
   "id": "901f1362",
   "metadata": {},
   "outputs": [
    {
     "name": "stdout",
     "output_type": "stream",
     "text": [
      "Model: \"model_5\"\n",
      "_________________________________________________________________\n",
      "Layer (type)                 Output Shape              Param #   \n",
      "=================================================================\n",
      "input_5 (InputLayer)         [(None, 100, 100, 3)]     0         \n",
      "_________________________________________________________________\n",
      "flatten_2 (Flatten)          (None, 30000)             0         \n",
      "_________________________________________________________________\n",
      "dense_18 (Dense)             (None, 400)               12000400  \n",
      "_________________________________________________________________\n",
      "dense_19 (Dense)             (None, 200)               80200     \n",
      "_________________________________________________________________\n",
      "dense_20 (Dense)             (None, 100)               20100     \n",
      "=================================================================\n",
      "Total params: 12,100,700\n",
      "Trainable params: 12,100,700\n",
      "Non-trainable params: 0\n",
      "_________________________________________________________________\n"
     ]
    }
   ],
   "source": [
    "# (100, 100, 3) 형태의 데이터를 받는 Input 레이어를 쌓으세요\n",
    "inputs = layers.Input(shape=(100, 100, 3))\n",
    "\n",
    "# Flatten 레이어를 쌓으세요.\n",
    "x = layers.Flatten(input_shape=(100, 100, 3))(inputs)\n",
    "\n",
    "# Unit의 수는 400, 활성화함수는 ReLU를 사용하는 Dense 레이어를 쌓으세요.\n",
    "x = layers.Dense(400, activation='relu')(x)\n",
    "\n",
    "# Unit의 수는 200, 활성화함수는 ReLU를 사용하는 Dense 레이어를 쌓으세요.\n",
    "x = layers.Dense(200, activation='relu')(x)\n",
    "\n",
    "# Unit의 수는 100, 활성화함수는 Softmax를 사용하는 Dense 레이어를 쌓으세요.\n",
    "x = layers.Dense(100, activation='softmax')(x)\n",
    "\n",
    "model = models.Model(inputs = inputs, outputs = x)\n",
    "model.summary()"
   ]
  },
  {
   "cell_type": "markdown",
   "id": "3854b6fb",
   "metadata": {},
   "source": [
    "### Q. 아래 주석을 따라 Subclassing API 모델을 완성해 보세요."
   ]
  },
  {
   "cell_type": "code",
   "execution_count": 20,
   "id": "ee8fb3b6",
   "metadata": {},
   "outputs": [
    {
     "name": "stdout",
     "output_type": "stream",
     "text": [
      "Model: \"your_model\"\n",
      "_________________________________________________________________\n",
      "Layer (type)                 Output Shape              Param #   \n",
      "=================================================================\n",
      "flatten_3 (Flatten)          multiple                  0         \n",
      "_________________________________________________________________\n",
      "dense_21 (Dense)             multiple                  12000400  \n",
      "_________________________________________________________________\n",
      "dense_22 (Dense)             multiple                  80200     \n",
      "_________________________________________________________________\n",
      "dense_23 (Dense)             multiple                  20100     \n",
      "=================================================================\n",
      "Total params: 12,100,700\n",
      "Trainable params: 12,100,700\n",
      "Non-trainable params: 0\n",
      "_________________________________________________________________\n"
     ]
    }
   ],
   "source": [
    "import tensorflow as tf\n",
    "\n",
    "class YourModel(models.Model):\n",
    "  def __init__(self, **kwargs):\n",
    "    super(YourModel, self).__init__(**kwargs)\n",
    "    # Flatten 레이어를 쌓으세요.\n",
    "    self.flat_layer = layers.Flatten()\n",
    "    # Unit의 수는 400, 활성화함수는 ReLU를 사용하는 Dense 레이어를 쌓으세요.\n",
    "    self.dense_layer1 = layers.Dense(400, activation='relu')\n",
    "    # Unit의 수는 200, 활성화함수는 ReLU를 사용하는 Dense 레이어를 쌓으세요.\n",
    "    self.dense_layer2 = layers.Dense(200, activation='relu')\n",
    "    # Unit의 수는 100, 활성화함수는 Softmax를 사용하는 Dense 레이어를 쌓으세요.\n",
    "    self.output_layer = layers.Dense(100, activation='softmax')\n",
    "\n",
    "  def call(self, inputs):\n",
    "    # Flatten 레이어를 통과한 뒤 Dense 레이어를 400 -> 200 -> 100 순으로 통과하도록 쌓으세요.\n",
    "    x = self.flat_layer(inputs)\n",
    "    x = self.dense_layer1(x)\n",
    "    x = self.dense_layer2(x)\n",
    "    x = self.output_layer(x)\n",
    "    return x\n",
    "\n",
    "# (100, 100, 3) 형태를 가진 임의의 텐서를 생성해줍니다.\n",
    "data = tf.random.normal([100, 100, 3])\n",
    "# 데이터는 일반적으로 batch 단위로 들어가기 때문에 batch 차원을 추가해주겠습니다.\n",
    "data = tf.reshape(x, shape=(-1, 100, 100, 3))\n",
    "model = YourModel()\n",
    "model(data)\n",
    "\n",
    "model.summary()"
   ]
  },
  {
   "cell_type": "code",
   "execution_count": 21,
   "id": "85f230d2",
   "metadata": {},
   "outputs": [
    {
     "name": "stdout",
     "output_type": "stream",
     "text": [
      "Model: \"your_model_1\"\n",
      "_________________________________________________________________\n",
      "Layer (type)                 Output Shape              Param #   \n",
      "=================================================================\n",
      "flatten_4 (Flatten)          multiple                  0         \n",
      "_________________________________________________________________\n",
      "dense_24 (Dense)             multiple                  12000400  \n",
      "_________________________________________________________________\n",
      "dense_25 (Dense)             multiple                  80200     \n",
      "_________________________________________________________________\n",
      "dense_26 (Dense)             multiple                  20100     \n",
      "=================================================================\n",
      "Total params: 12,100,700\n",
      "Trainable params: 12,100,700\n",
      "Non-trainable params: 0\n",
      "_________________________________________________________________\n"
     ]
    }
   ],
   "source": [
    "import tensorflow as tf\n",
    "from tensorflow.keras import layers, models\n",
    "\n",
    "class YourModel(models.Model):\n",
    "  def __init__(self, **kwargs):\n",
    "    super(YourModel, self).__init__(**kwargs)\n",
    "    # Flatten 레이어를 쌓으세요.\n",
    "    self.flat_layer = layers.Flatten()\n",
    "    # Unit의 수는 400, 활성화함수는 ReLU를 사용하는 Dense 레이어를 쌓으세요.\n",
    "    self.dense_layer1 = layers.Dense(400, activation='relu')\n",
    "    # Unit의 수는 200, 활성화함수는 ReLU를 사용하는 Dense 레이어를 쌓으세요.\n",
    "    self.dense_layer2 = layers.Dense(200, activation='relu')\n",
    "    # Unit의 수는 100, 활성화함수는 Softmax를 사용하는 Dense 레이어를 쌓으세요.\n",
    "    self.output_layer = layers.Dense(100, activation='softmax')\n",
    "\n",
    "  def call(self, inputs):\n",
    "    # Flatten 레이어를 통과한 뒤 Dense 레이어를 400 -> 200 -> 100 순으로 통과하도록 쌓으세요.\n",
    "    x = self.flat_layer(inputs)\n",
    "    x = self.dense_layer1(x)\n",
    "    x = self.dense_layer2(x)\n",
    "    x = self.output_layer(x)\n",
    "    return x\n",
    "\n",
    "# (100, 100, 3) 형태를 가진 임의의 텐서를 생성해줍니다.\n",
    "data = tf.random.normal([100, 100, 3])\n",
    "# 데이터는 일반적으로 batch 단위로 들어가기 때문에 batch 차원을 추가해주겠습니다.\n",
    "data = tf.expand_dims(data, axis=0)\n",
    "model = YourModel()\n",
    "output = model(data)\n",
    "\n",
    "model.summary()\n"
   ]
  },
  {
   "cell_type": "markdown",
   "id": "66e6ec4d",
   "metadata": {},
   "source": [
    "### 종합 퀴즈"
   ]
  },
  {
   "cell_type": "code",
   "execution_count": 30,
   "id": "4bf63d30",
   "metadata": {},
   "outputs": [
    {
     "name": "stdout",
     "output_type": "stream",
     "text": [
      "Model: \"model_10\"\n",
      "__________________________________________________________________________________________________\n",
      "Layer (type)                    Output Shape         Param #     Connected to                     \n",
      "==================================================================================================\n",
      "input_1 (InputLayer)            [(None, 40)]         0                                            \n",
      "__________________________________________________________________________________________________\n",
      "input_2 (InputLayer)            [(None, 10)]         0                                            \n",
      "__________________________________________________________________________________________________\n",
      "dense_48 (Dense)                (None, 100)          4100        input_1[0][0]                    \n",
      "__________________________________________________________________________________________________\n",
      "dense_49 (Dense)                (None, 100)          1100        input_2[0][0]                    \n",
      "__________________________________________________________________________________________________\n",
      "concatenate_7 (Concatenate)     (None, 200)          0           dense_48[0][0]                   \n",
      "                                                                 dense_49[0][0]                   \n",
      "__________________________________________________________________________________________________\n",
      "dense_50 (Dense)                (None, 40)           8040        concatenate_7[0][0]              \n",
      "__________________________________________________________________________________________________\n",
      "dense_52 (Dense)                (None, 10)           410         dense_50[0][0]                   \n",
      "__________________________________________________________________________________________________\n",
      "dense_51 (Dense)                (None, 1)            201         concatenate_7[0][0]              \n",
      "==================================================================================================\n",
      "Total params: 13,851\n",
      "Trainable params: 13,851\n",
      "Non-trainable params: 0\n",
      "__________________________________________________________________________________________________\n"
     ]
    }
   ],
   "source": [
    "input_1 = Input(shape=(40), name='input_1')\n",
    "input_2 = Input(shape=(10), name='input_2')\n",
    "\n",
    "hidden1 = Dense(100)(input_1)\n",
    "hidden2 = Dense(100)(input_2)\n",
    "\n",
    "concat = Concatenate()([hidden1, hidden2])\n",
    "\n",
    "hidden3 = Dense(40)(concat)\n",
    "sub_out = Dense(1)(concat)\n",
    "\n",
    "output = Dense(10)(hidden3)\n",
    "\n",
    "model = Model(inputs=[input_1, input_2], outputs=[output, sub_out])\n",
    "model.summary()"
   ]
  },
  {
   "cell_type": "code",
   "execution_count": 31,
   "id": "38ee290a",
   "metadata": {},
   "outputs": [
    {
     "data": {
      "image/png": "[encoded data removed]",
      "text/plain": [
       "<IPython.core.display.Image object>"
      ]
     },
     "execution_count": 31,
     "metadata": {},
     "output_type": "execute_result"
    }
   ],
   "source": [
    "utils.plot_model(model)"
   ]
  }
 ],
 "metadata": {
  "kernelspec": {
   "display_name": "Python 3 (ipykernel)",
   "language": "python",
   "name": "python3"
  },
  "language_info": {
   "codemirror_mode": {
    "name": "ipython",
    "version": 3
   },
   "file_extension": ".py",
   "mimetype": "text/x-python",
   "name": "python",
   "nbconvert_exporter": "python",
   "pygments_lexer": "ipython3",
   "version": "3.9.7"
  }
 },
 "nbformat": 4,
 "nbformat_minor": 5
}
