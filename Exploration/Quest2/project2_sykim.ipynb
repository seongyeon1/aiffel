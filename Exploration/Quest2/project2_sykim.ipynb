{
 "cells": [
  {
   "cell_type": "markdown",
   "id": "ff86ff78",
   "metadata": {},
   "source": [
    "## 프로젝트 2 : 날씨 좋은 월요일 오후 세 시, 자전거 타는 사람은 몇 명?"
   ]
  },
  {
   "cell_type": "markdown",
   "id": "e73c3fcc",
   "metadata": {},
   "source": [
    "### (1) 데이터 가져오기\n",
    "- 터미널에서 ~/data/data/bike-sharing-demand 경로에 train.csv 데이터를 train 변수로 가져 옵니다.\n",
    "- 여기에서 데이터를 상세히 확인할 수 있습니다."
   ]
  },
  {
   "cell_type": "code",
   "execution_count": 1,
   "id": "6a473f23",
   "metadata": {},
   "outputs": [],
   "source": [
    "import warnings\n",
    "warnings.filterwarnings('ignore')"
   ]
  },
  {
   "cell_type": "code",
   "execution_count": 2,
   "id": "1e5849ab",
   "metadata": {},
   "outputs": [],
   "source": [
    "import pandas as pd\n",
    "\n",
    "train = pd.read_csv('~/data/data/bike-sharing-demand/train.csv')"
   ]
  },
  {
   "cell_type": "markdown",
   "id": "d9327688",
   "metadata": {},
   "source": [
    "### (2) datetime 컬럼을 datetime 자료형으로 변환하고 연, 월, 일, 시, 분, 초까지 6가지 컬럼 생성하기"
   ]
  },
  {
   "cell_type": "code",
   "execution_count": 3,
   "id": "a2dc9632",
   "metadata": {},
   "outputs": [],
   "source": [
    "# train['datetime'] = pd.to_datetime(train['datetime'])\n",
    "# train['year'] = train['datetime'].dt.year\n",
    "# train['month'] = train['datetime'].dt.month\n",
    "# train['day'] = train['datetime'].dt.day\n",
    "# train['hour'] = train['datetime'].dt.hour\n",
    "# train['minute'] = train['datetime'].dt.minute\n",
    "# train['second'] = train['datetime'].dt.second"
   ]
  },
  {
   "cell_type": "code",
   "execution_count": 4,
   "id": "07b66427",
   "metadata": {},
   "outputs": [],
   "source": [
    "# datetime 컬럼을 datetime 자료형으로 변환\n",
    "train['datetime'] = pd.to_datetime(train['datetime'])\n",
    "\n",
    "# 추출할 시간 관련 속성들\n",
    "time_attrs = ['year', 'month', 'day', 'hour', 'minute', 'second']\n",
    "\n",
    "# for 루프를 사용하여 각 속성을 추출하고 저장\n",
    "for attr in time_attrs:\n",
    "    train[attr] = getattr(train['datetime'].dt, attr)"
   ]
  },
  {
   "cell_type": "markdown",
   "id": "4237e50b",
   "metadata": {},
   "source": [
    "### (3) year, month, day, hour, minute, second 데이터 개수 시각화하기\n",
    "- sns.countplot 활용해서 시각화하기\n",
    "- subplot을 활용해서 한 번에 6개의 그래프 함께 시각화하기"
   ]
  },
  {
   "cell_type": "code",
   "execution_count": 5,
   "id": "a38f8b13",
   "metadata": {},
   "outputs": [
    {
     "data": {
      "image/png": "[encoded data removed]",
      "text/plain": [
       "<Figure size 864x432 with 6 Axes>"
      ]
     },
     "metadata": {
      "needs_background": "light"
     },
     "output_type": "display_data"
    }
   ],
   "source": [
    "import matplotlib.pyplot as plt\n",
    "import seaborn as sns\n",
    "\n",
    "plt.figure(figsize=(12, 6))\n",
    "for i in range(6):\n",
    "    plt.subplot(2,3,i+1)\n",
    "    sns.countplot(train[time_attrs[i]])\n",
    "    plt.title(time_attrs[i])"
   ]
  },
  {
   "cell_type": "markdown",
   "id": "713b2e17",
   "metadata": {},
   "source": [
    "### (4) X, y 컬럼 선택 및 train/test 데이터 분리\n",
    "- X(feature) 에는 어떤 데이터 컬럼을 넣어야 될지 고민해 봅시다 데이터 컬럼을 추가하거나 빼면서 잘 조합하여 데이터를 넣기 바랍니다. 만일 모든 데이터 컬럼(특징)을 넣는다면 오차 값이 말도 안 되게 적게 나올 수도 있습니다. \n",
    "ex) count를 예측하는데 casual,registered 컬럼이 필요할까요?\n",
    "\n",
    "- count 값을 맞추고자 하므로, y 변수에 count 컬럼의 데이터 넣기"
   ]
  },
  {
   "cell_type": "markdown",
   "id": "87a2bbfc",
   "metadata": {},
   "source": [
    "#### 데이터 필드 구성\n",
    "- datetime : 기록 일시(1시간 간격)\n",
    "- season : 계절(1봄, 2여름, 3가을, 4겨울)\n",
    "- holiday : 공휴일 여부(0공휴일 아님, 1공휴일)\n",
    "- workingday : 근무일 여부(0근무일 아님, 1근무일_주말과 공휴일이 아니면 근무일로 간주)\n",
    "- weather : 날씨(1맑음, 2옅은 안개 및 약간 흐림, 3약간의 눈이나 비 천둥번개와 흐림, 4폭우와 천둥번개 및 눈 짙은 안개)\n",
    "- temp : 실제 온도\n",
    "- atemp : 체감 온도\n",
    "- humidity : 상대 습도\n",
    "- windspeed : 풍속\n",
    "--------------------------\n",
    "#### train 데이터에만 존재하는 feature\n",
    "- casual : 등록되지 않은 사용자(비회원) 대여 수량\n",
    "- registered : 등록된 사용자(회원) 대여 수량\n",
    "\n",
    "#### 예측해야 할 타깃값\n",
    "- count : 자전거 대여 수량 (회원 + 비회원)"
   ]
  },
  {
   "cell_type": "code",
   "execution_count": 6,
   "id": "ab89368f",
   "metadata": {},
   "outputs": [
    {
     "data": {
      "text/plain": [
       "Index(['datetime', 'season', 'holiday', 'workingday', 'weather', 'temp',\n",
       "       'atemp', 'humidity', 'windspeed', 'casual', 'registered', 'count',\n",
       "       'year', 'month', 'day', 'hour', 'minute', 'second'],\n",
       "      dtype='object')"
      ]
     },
     "execution_count": 6,
     "metadata": {},
     "output_type": "execute_result"
    }
   ],
   "source": [
    "train.columns"
   ]
  },
  {
   "cell_type": "code",
   "execution_count": 7,
   "id": "2ec9044f",
   "metadata": {},
   "outputs": [],
   "source": [
    "# 예측에 필요없는 변수 제거\n",
    "train.drop(['datetime','minute','second','casual','registered'], axis=1, inplace=True)"
   ]
  },
  {
   "cell_type": "code",
   "execution_count": 8,
   "id": "b5ca5a4a",
   "metadata": {},
   "outputs": [
    {
     "data": {
      "text/html": [
       "<div>\n",
       "<style scoped>\n",
       "    .dataframe tbody tr th:only-of-type {\n",
       "        vertical-align: middle;\n",
       "    }\n",
       "\n",
       "    .dataframe tbody tr th {\n",
       "        vertical-align: top;\n",
       "    }\n",
       "\n",
       "    .dataframe thead th {\n",
       "        text-align: right;\n",
       "    }\n",
       "</style>\n",
       "<table border=\"1\" class=\"dataframe\">\n",
       "  <thead>\n",
       "    <tr style=\"text-align: right;\">\n",
       "      <th></th>\n",
       "      <th>season</th>\n",
       "      <th>holiday</th>\n",
       "      <th>workingday</th>\n",
       "      <th>weather</th>\n",
       "      <th>temp</th>\n",
       "      <th>atemp</th>\n",
       "      <th>humidity</th>\n",
       "      <th>windspeed</th>\n",
       "      <th>count</th>\n",
       "      <th>year</th>\n",
       "      <th>month</th>\n",
       "      <th>day</th>\n",
       "      <th>hour</th>\n",
       "    </tr>\n",
       "  </thead>\n",
       "  <tbody>\n",
       "    <tr>\n",
       "      <th>0</th>\n",
       "      <td>1</td>\n",
       "      <td>0</td>\n",
       "      <td>0</td>\n",
       "      <td>1</td>\n",
       "      <td>9.84</td>\n",
       "      <td>14.395</td>\n",
       "      <td>81</td>\n",
       "      <td>0.0</td>\n",
       "      <td>16</td>\n",
       "      <td>2011</td>\n",
       "      <td>1</td>\n",
       "      <td>1</td>\n",
       "      <td>0</td>\n",
       "    </tr>\n",
       "    <tr>\n",
       "      <th>1</th>\n",
       "      <td>1</td>\n",
       "      <td>0</td>\n",
       "      <td>0</td>\n",
       "      <td>1</td>\n",
       "      <td>9.02</td>\n",
       "      <td>13.635</td>\n",
       "      <td>80</td>\n",
       "      <td>0.0</td>\n",
       "      <td>40</td>\n",
       "      <td>2011</td>\n",
       "      <td>1</td>\n",
       "      <td>1</td>\n",
       "      <td>1</td>\n",
       "    </tr>\n",
       "    <tr>\n",
       "      <th>2</th>\n",
       "      <td>1</td>\n",
       "      <td>0</td>\n",
       "      <td>0</td>\n",
       "      <td>1</td>\n",
       "      <td>9.02</td>\n",
       "      <td>13.635</td>\n",
       "      <td>80</td>\n",
       "      <td>0.0</td>\n",
       "      <td>32</td>\n",
       "      <td>2011</td>\n",
       "      <td>1</td>\n",
       "      <td>1</td>\n",
       "      <td>2</td>\n",
       "    </tr>\n",
       "    <tr>\n",
       "      <th>3</th>\n",
       "      <td>1</td>\n",
       "      <td>0</td>\n",
       "      <td>0</td>\n",
       "      <td>1</td>\n",
       "      <td>9.84</td>\n",
       "      <td>14.395</td>\n",
       "      <td>75</td>\n",
       "      <td>0.0</td>\n",
       "      <td>13</td>\n",
       "      <td>2011</td>\n",
       "      <td>1</td>\n",
       "      <td>1</td>\n",
       "      <td>3</td>\n",
       "    </tr>\n",
       "    <tr>\n",
       "      <th>4</th>\n",
       "      <td>1</td>\n",
       "      <td>0</td>\n",
       "      <td>0</td>\n",
       "      <td>1</td>\n",
       "      <td>9.84</td>\n",
       "      <td>14.395</td>\n",
       "      <td>75</td>\n",
       "      <td>0.0</td>\n",
       "      <td>1</td>\n",
       "      <td>2011</td>\n",
       "      <td>1</td>\n",
       "      <td>1</td>\n",
       "      <td>4</td>\n",
       "    </tr>\n",
       "  </tbody>\n",
       "</table>\n",
       "</div>"
      ],
      "text/plain": [
       "   season  holiday  workingday  weather  temp   atemp  humidity  windspeed  \\\n",
       "0       1        0           0        1  9.84  14.395        81        0.0   \n",
       "1       1        0           0        1  9.02  13.635        80        0.0   \n",
       "2       1        0           0        1  9.02  13.635        80        0.0   \n",
       "3       1        0           0        1  9.84  14.395        75        0.0   \n",
       "4       1        0           0        1  9.84  14.395        75        0.0   \n",
       "\n",
       "   count  year  month  day  hour  \n",
       "0     16  2011      1    1     0  \n",
       "1     40  2011      1    1     1  \n",
       "2     32  2011      1    1     2  \n",
       "3     13  2011      1    1     3  \n",
       "4      1  2011      1    1     4  "
      ]
     },
     "execution_count": 8,
     "metadata": {},
     "output_type": "execute_result"
    }
   ],
   "source": [
    "train.head()"
   ]
  },
  {
   "cell_type": "markdown",
   "id": "e052d3a1",
   "metadata": {},
   "source": [
    "#### 날씨 관련 수치형(연속형) 데이터 (temp, atemp, humidity, windspeed)\n",
    "  - 이상치 파악"
   ]
  },
  {
   "cell_type": "code",
   "execution_count": 9,
   "id": "b8e28b88",
   "metadata": {},
   "outputs": [
    {
     "data": {
      "text/html": [
       "<div>\n",
       "<style scoped>\n",
       "    .dataframe tbody tr th:only-of-type {\n",
       "        vertical-align: middle;\n",
       "    }\n",
       "\n",
       "    .dataframe tbody tr th {\n",
       "        vertical-align: top;\n",
       "    }\n",
       "\n",
       "    .dataframe thead th {\n",
       "        text-align: right;\n",
       "    }\n",
       "</style>\n",
       "<table border=\"1\" class=\"dataframe\">\n",
       "  <thead>\n",
       "    <tr style=\"text-align: right;\">\n",
       "      <th></th>\n",
       "      <th>temp</th>\n",
       "      <th>atemp</th>\n",
       "      <th>humidity</th>\n",
       "      <th>windspeed</th>\n",
       "    </tr>\n",
       "  </thead>\n",
       "  <tbody>\n",
       "    <tr>\n",
       "      <th>count</th>\n",
       "      <td>10886.00000</td>\n",
       "      <td>10886.000000</td>\n",
       "      <td>10886.000000</td>\n",
       "      <td>10886.000000</td>\n",
       "    </tr>\n",
       "    <tr>\n",
       "      <th>mean</th>\n",
       "      <td>20.23086</td>\n",
       "      <td>23.655084</td>\n",
       "      <td>61.886460</td>\n",
       "      <td>12.799395</td>\n",
       "    </tr>\n",
       "    <tr>\n",
       "      <th>std</th>\n",
       "      <td>7.79159</td>\n",
       "      <td>8.474601</td>\n",
       "      <td>19.245033</td>\n",
       "      <td>8.164537</td>\n",
       "    </tr>\n",
       "    <tr>\n",
       "      <th>min</th>\n",
       "      <td>0.82000</td>\n",
       "      <td>0.760000</td>\n",
       "      <td>0.000000</td>\n",
       "      <td>0.000000</td>\n",
       "    </tr>\n",
       "    <tr>\n",
       "      <th>25%</th>\n",
       "      <td>13.94000</td>\n",
       "      <td>16.665000</td>\n",
       "      <td>47.000000</td>\n",
       "      <td>7.001500</td>\n",
       "    </tr>\n",
       "    <tr>\n",
       "      <th>50%</th>\n",
       "      <td>20.50000</td>\n",
       "      <td>24.240000</td>\n",
       "      <td>62.000000</td>\n",
       "      <td>12.998000</td>\n",
       "    </tr>\n",
       "    <tr>\n",
       "      <th>75%</th>\n",
       "      <td>26.24000</td>\n",
       "      <td>31.060000</td>\n",
       "      <td>77.000000</td>\n",
       "      <td>16.997900</td>\n",
       "    </tr>\n",
       "    <tr>\n",
       "      <th>max</th>\n",
       "      <td>41.00000</td>\n",
       "      <td>45.455000</td>\n",
       "      <td>100.000000</td>\n",
       "      <td>56.996900</td>\n",
       "    </tr>\n",
       "  </tbody>\n",
       "</table>\n",
       "</div>"
      ],
      "text/plain": [
       "              temp         atemp      humidity     windspeed\n",
       "count  10886.00000  10886.000000  10886.000000  10886.000000\n",
       "mean      20.23086     23.655084     61.886460     12.799395\n",
       "std        7.79159      8.474601     19.245033      8.164537\n",
       "min        0.82000      0.760000      0.000000      0.000000\n",
       "25%       13.94000     16.665000     47.000000      7.001500\n",
       "50%       20.50000     24.240000     62.000000     12.998000\n",
       "75%       26.24000     31.060000     77.000000     16.997900\n",
       "max       41.00000     45.455000    100.000000     56.996900"
      ]
     },
     "execution_count": 9,
     "metadata": {},
     "output_type": "execute_result"
    }
   ],
   "source": [
    "numerical = ['temp','atemp', 'humidity', 'windspeed']\n",
    "train[numerical].describe()"
   ]
  },
  {
   "cell_type": "markdown",
   "id": "871ab741",
   "metadata": {},
   "source": [
    "- humidity와 windspeed의 데이터에서 최솟값으로 0이 있는데, 이것이 실제로 가능한 수치인지 생각해 볼 필요가 있다.\n",
    "- 체감온도와 실제온도는 관련성이 높은 feature로 보이기에 두 데이터 간의 차이가 너무 크다면 이 또한 이상치로 보아야할 것이다."
   ]
  },
  {
   "cell_type": "markdown",
   "id": "b28ec915",
   "metadata": {},
   "source": [
    "#### 분포 파악"
   ]
  },
  {
   "cell_type": "code",
   "execution_count": 10,
   "id": "712793ef",
   "metadata": {},
   "outputs": [
    {
     "data": {
      "image/png": "[encoded data removed]",
      "text/plain": [
       "<Figure size 864x288 with 4 Axes>"
      ]
     },
     "metadata": {
      "needs_background": "light"
     },
     "output_type": "display_data"
    }
   ],
   "source": [
    "# 4개의 feature에 대한 distplot 그리기\n",
    "plt.figure(figsize=(12, 4))\n",
    "for i, feature in enumerate(numerical):\n",
    "    plt.subplot(1, 4, i + 1)\n",
    "    sns.distplot(train[feature], kde=True)\n",
    "    plt.title(feature)"
   ]
  },
  {
   "cell_type": "code",
   "execution_count": 11,
   "id": "74265650",
   "metadata": {},
   "outputs": [
    {
     "data": {
      "image/png": "[encoded data removed]",
      "text/plain": [
       "<Figure size 864x288 with 4 Axes>"
      ]
     },
     "metadata": {
      "needs_background": "light"
     },
     "output_type": "display_data"
    }
   ],
   "source": [
    "from scipy import stats\n",
    "\n",
    "# 4개의 feature에 대한 qqplot 그리기\n",
    "plt.figure(figsize=(12, 4))\n",
    "for i, feature in enumerate(numerical):\n",
    "    plt.subplot(1, 4, i + 1)\n",
    "    stats.probplot(train[feature], dist=\"norm\", plot=plt)\n",
    "    plt.title(feature)"
   ]
  },
  {
   "cell_type": "markdown",
   "id": "bdaf6a45",
   "metadata": {},
   "source": [
    "- 풍속(windspeed)의 경우 왼쪽으로 치우쳐져 있는 것을 볼 수 있다.\n",
    "- 로그 변환을 고려해볼 필요가 있다.\n",
    "- 풍속(windspeed)은 0이 될 수 없으므로 사실상 이상치라 볼 수 있고 이를 다른 값으로 대체해 주는 것이 바람직 해 보인다."
   ]
  },
  {
   "cell_type": "markdown",
   "id": "e0adf4bc",
   "metadata": {},
   "source": [
    "### 수치형 데이터의 상관관계 파악\n",
    "- 온도와 체감온도에 대한 산점도"
   ]
  },
  {
   "cell_type": "code",
   "execution_count": 12,
   "id": "ac960692",
   "metadata": {},
   "outputs": [
    {
     "data": {
      "image/png": "[encoded data removed]",
      "text/plain": [
       "<Figure size 432x288 with 1 Axes>"
      ]
     },
     "metadata": {
      "needs_background": "light"
     },
     "output_type": "display_data"
    }
   ],
   "source": [
    "# 온도와 체감 온도에 대한 산점도 그리기\n",
    "plt.scatter(train['temp'], train['atemp'])\n",
    "plt.xlabel('Temperature')\n",
    "plt.ylabel('Apparent Temperature')\n",
    "plt.show()"
   ]
  },
  {
   "cell_type": "markdown",
   "id": "17277a98",
   "metadata": {},
   "source": [
    "- 온도와 체감온도가 상당히 차이가 많이 나는 데이터 확인 후 이상치 처리를 해볼 것이다.\n",
    "- 유독 차이가 많이 나는 부분이 체감온도가 하나의 값인 것으로 보아 기록시 나타난 이상치로 보인다"
   ]
  },
  {
   "cell_type": "markdown",
   "id": "9ebbd0a4",
   "metadata": {},
   "source": [
    "### 이상치 처리\n",
    "- 실제온도 / 체감온도의 비율로 이상치를 파악해보았다.\n",
    "- 이 비율이 2를 넘어가면 이상치로 처리해주었다"
   ]
  },
  {
   "cell_type": "code",
   "execution_count": 13,
   "id": "71a40832",
   "metadata": {},
   "outputs": [],
   "source": [
    "train.loc[train['temp'] / train['atemp'] > 2,'atemp_out'] = 1\n",
    "train.atemp_out.fillna(0, inplace=True)"
   ]
  },
  {
   "cell_type": "code",
   "execution_count": 14,
   "id": "1d79e9d7",
   "metadata": {},
   "outputs": [
    {
     "data": {
      "image/png": "[encoded data removed]",
      "text/plain": [
       "<Figure size 432x288 with 1 Axes>"
      ]
     },
     "metadata": {
      "needs_background": "light"
     },
     "output_type": "display_data"
    }
   ],
   "source": [
    "sns.scatterplot(data=train, x='temp', y='atemp', hue='atemp_out')\n",
    "plt.xlabel('Temperature')\n",
    "plt.ylabel('Apparent Temperature')\n",
    "plt.show()"
   ]
  },
  {
   "cell_type": "code",
   "execution_count": 15,
   "id": "4784225c",
   "metadata": {},
   "outputs": [
    {
     "data": {
      "text/html": [
       "<div>\n",
       "<style scoped>\n",
       "    .dataframe tbody tr th:only-of-type {\n",
       "        vertical-align: middle;\n",
       "    }\n",
       "\n",
       "    .dataframe tbody tr th {\n",
       "        vertical-align: top;\n",
       "    }\n",
       "\n",
       "    .dataframe thead th {\n",
       "        text-align: right;\n",
       "    }\n",
       "</style>\n",
       "<table border=\"1\" class=\"dataframe\">\n",
       "  <thead>\n",
       "    <tr style=\"text-align: right;\">\n",
       "      <th></th>\n",
       "      <th>season</th>\n",
       "      <th>holiday</th>\n",
       "      <th>workingday</th>\n",
       "      <th>weather</th>\n",
       "      <th>temp</th>\n",
       "      <th>atemp</th>\n",
       "      <th>humidity</th>\n",
       "      <th>windspeed</th>\n",
       "      <th>count</th>\n",
       "      <th>year</th>\n",
       "      <th>month</th>\n",
       "      <th>day</th>\n",
       "      <th>hour</th>\n",
       "      <th>atemp_out</th>\n",
       "    </tr>\n",
       "  </thead>\n",
       "  <tbody>\n",
       "    <tr>\n",
       "      <th>8991</th>\n",
       "      <td>3</td>\n",
       "      <td>0</td>\n",
       "      <td>1</td>\n",
       "      <td>1</td>\n",
       "      <td>27.88</td>\n",
       "      <td>12.12</td>\n",
       "      <td>57</td>\n",
       "      <td>11.0014</td>\n",
       "      <td>88</td>\n",
       "      <td>2012</td>\n",
       "      <td>8</td>\n",
       "      <td>17</td>\n",
       "      <td>0</td>\n",
       "      <td>1.0</td>\n",
       "    </tr>\n",
       "    <tr>\n",
       "      <th>8992</th>\n",
       "      <td>3</td>\n",
       "      <td>0</td>\n",
       "      <td>1</td>\n",
       "      <td>1</td>\n",
       "      <td>27.06</td>\n",
       "      <td>12.12</td>\n",
       "      <td>65</td>\n",
       "      <td>7.0015</td>\n",
       "      <td>54</td>\n",
       "      <td>2012</td>\n",
       "      <td>8</td>\n",
       "      <td>17</td>\n",
       "      <td>1</td>\n",
       "      <td>1.0</td>\n",
       "    </tr>\n",
       "    <tr>\n",
       "      <th>8993</th>\n",
       "      <td>3</td>\n",
       "      <td>0</td>\n",
       "      <td>1</td>\n",
       "      <td>1</td>\n",
       "      <td>27.06</td>\n",
       "      <td>12.12</td>\n",
       "      <td>61</td>\n",
       "      <td>8.9981</td>\n",
       "      <td>19</td>\n",
       "      <td>2012</td>\n",
       "      <td>8</td>\n",
       "      <td>17</td>\n",
       "      <td>2</td>\n",
       "      <td>1.0</td>\n",
       "    </tr>\n",
       "    <tr>\n",
       "      <th>8994</th>\n",
       "      <td>3</td>\n",
       "      <td>0</td>\n",
       "      <td>1</td>\n",
       "      <td>1</td>\n",
       "      <td>26.24</td>\n",
       "      <td>12.12</td>\n",
       "      <td>65</td>\n",
       "      <td>7.0015</td>\n",
       "      <td>6</td>\n",
       "      <td>2012</td>\n",
       "      <td>8</td>\n",
       "      <td>17</td>\n",
       "      <td>3</td>\n",
       "      <td>1.0</td>\n",
       "    </tr>\n",
       "    <tr>\n",
       "      <th>8995</th>\n",
       "      <td>3</td>\n",
       "      <td>0</td>\n",
       "      <td>1</td>\n",
       "      <td>1</td>\n",
       "      <td>26.24</td>\n",
       "      <td>12.12</td>\n",
       "      <td>73</td>\n",
       "      <td>11.0014</td>\n",
       "      <td>9</td>\n",
       "      <td>2012</td>\n",
       "      <td>8</td>\n",
       "      <td>17</td>\n",
       "      <td>4</td>\n",
       "      <td>1.0</td>\n",
       "    </tr>\n",
       "    <tr>\n",
       "      <th>8996</th>\n",
       "      <td>3</td>\n",
       "      <td>0</td>\n",
       "      <td>1</td>\n",
       "      <td>1</td>\n",
       "      <td>26.24</td>\n",
       "      <td>12.12</td>\n",
       "      <td>73</td>\n",
       "      <td>7.0015</td>\n",
       "      <td>36</td>\n",
       "      <td>2012</td>\n",
       "      <td>8</td>\n",
       "      <td>17</td>\n",
       "      <td>5</td>\n",
       "      <td>1.0</td>\n",
       "    </tr>\n",
       "    <tr>\n",
       "      <th>8997</th>\n",
       "      <td>3</td>\n",
       "      <td>0</td>\n",
       "      <td>1</td>\n",
       "      <td>1</td>\n",
       "      <td>25.42</td>\n",
       "      <td>12.12</td>\n",
       "      <td>78</td>\n",
       "      <td>8.9981</td>\n",
       "      <td>157</td>\n",
       "      <td>2012</td>\n",
       "      <td>8</td>\n",
       "      <td>17</td>\n",
       "      <td>6</td>\n",
       "      <td>1.0</td>\n",
       "    </tr>\n",
       "    <tr>\n",
       "      <th>8998</th>\n",
       "      <td>3</td>\n",
       "      <td>0</td>\n",
       "      <td>1</td>\n",
       "      <td>1</td>\n",
       "      <td>26.24</td>\n",
       "      <td>12.12</td>\n",
       "      <td>73</td>\n",
       "      <td>7.0015</td>\n",
       "      <td>379</td>\n",
       "      <td>2012</td>\n",
       "      <td>8</td>\n",
       "      <td>17</td>\n",
       "      <td>7</td>\n",
       "      <td>1.0</td>\n",
       "    </tr>\n",
       "    <tr>\n",
       "      <th>8999</th>\n",
       "      <td>3</td>\n",
       "      <td>0</td>\n",
       "      <td>1</td>\n",
       "      <td>1</td>\n",
       "      <td>27.88</td>\n",
       "      <td>12.12</td>\n",
       "      <td>65</td>\n",
       "      <td>8.9981</td>\n",
       "      <td>668</td>\n",
       "      <td>2012</td>\n",
       "      <td>8</td>\n",
       "      <td>17</td>\n",
       "      <td>8</td>\n",
       "      <td>1.0</td>\n",
       "    </tr>\n",
       "    <tr>\n",
       "      <th>9000</th>\n",
       "      <td>3</td>\n",
       "      <td>0</td>\n",
       "      <td>1</td>\n",
       "      <td>1</td>\n",
       "      <td>28.70</td>\n",
       "      <td>12.12</td>\n",
       "      <td>58</td>\n",
       "      <td>7.0015</td>\n",
       "      <td>378</td>\n",
       "      <td>2012</td>\n",
       "      <td>8</td>\n",
       "      <td>17</td>\n",
       "      <td>9</td>\n",
       "      <td>1.0</td>\n",
       "    </tr>\n",
       "    <tr>\n",
       "      <th>9001</th>\n",
       "      <td>3</td>\n",
       "      <td>0</td>\n",
       "      <td>1</td>\n",
       "      <td>1</td>\n",
       "      <td>30.34</td>\n",
       "      <td>12.12</td>\n",
       "      <td>55</td>\n",
       "      <td>11.0014</td>\n",
       "      <td>231</td>\n",
       "      <td>2012</td>\n",
       "      <td>8</td>\n",
       "      <td>17</td>\n",
       "      <td>10</td>\n",
       "      <td>1.0</td>\n",
       "    </tr>\n",
       "    <tr>\n",
       "      <th>9002</th>\n",
       "      <td>3</td>\n",
       "      <td>0</td>\n",
       "      <td>1</td>\n",
       "      <td>1</td>\n",
       "      <td>31.16</td>\n",
       "      <td>12.12</td>\n",
       "      <td>52</td>\n",
       "      <td>19.0012</td>\n",
       "      <td>303</td>\n",
       "      <td>2012</td>\n",
       "      <td>8</td>\n",
       "      <td>17</td>\n",
       "      <td>11</td>\n",
       "      <td>1.0</td>\n",
       "    </tr>\n",
       "    <tr>\n",
       "      <th>9003</th>\n",
       "      <td>3</td>\n",
       "      <td>0</td>\n",
       "      <td>1</td>\n",
       "      <td>1</td>\n",
       "      <td>33.62</td>\n",
       "      <td>12.12</td>\n",
       "      <td>41</td>\n",
       "      <td>15.0013</td>\n",
       "      <td>365</td>\n",
       "      <td>2012</td>\n",
       "      <td>8</td>\n",
       "      <td>17</td>\n",
       "      <td>12</td>\n",
       "      <td>1.0</td>\n",
       "    </tr>\n",
       "    <tr>\n",
       "      <th>9004</th>\n",
       "      <td>3</td>\n",
       "      <td>0</td>\n",
       "      <td>1</td>\n",
       "      <td>1</td>\n",
       "      <td>34.44</td>\n",
       "      <td>12.12</td>\n",
       "      <td>36</td>\n",
       "      <td>26.0027</td>\n",
       "      <td>357</td>\n",
       "      <td>2012</td>\n",
       "      <td>8</td>\n",
       "      <td>17</td>\n",
       "      <td>13</td>\n",
       "      <td>1.0</td>\n",
       "    </tr>\n",
       "    <tr>\n",
       "      <th>9005</th>\n",
       "      <td>3</td>\n",
       "      <td>0</td>\n",
       "      <td>1</td>\n",
       "      <td>1</td>\n",
       "      <td>35.26</td>\n",
       "      <td>12.12</td>\n",
       "      <td>34</td>\n",
       "      <td>27.9993</td>\n",
       "      <td>328</td>\n",
       "      <td>2012</td>\n",
       "      <td>8</td>\n",
       "      <td>17</td>\n",
       "      <td>14</td>\n",
       "      <td>1.0</td>\n",
       "    </tr>\n",
       "    <tr>\n",
       "      <th>9006</th>\n",
       "      <td>3</td>\n",
       "      <td>0</td>\n",
       "      <td>1</td>\n",
       "      <td>1</td>\n",
       "      <td>35.26</td>\n",
       "      <td>12.12</td>\n",
       "      <td>30</td>\n",
       "      <td>31.0009</td>\n",
       "      <td>383</td>\n",
       "      <td>2012</td>\n",
       "      <td>8</td>\n",
       "      <td>17</td>\n",
       "      <td>15</td>\n",
       "      <td>1.0</td>\n",
       "    </tr>\n",
       "    <tr>\n",
       "      <th>9007</th>\n",
       "      <td>3</td>\n",
       "      <td>0</td>\n",
       "      <td>1</td>\n",
       "      <td>2</td>\n",
       "      <td>34.44</td>\n",
       "      <td>12.12</td>\n",
       "      <td>32</td>\n",
       "      <td>30.0026</td>\n",
       "      <td>488</td>\n",
       "      <td>2012</td>\n",
       "      <td>8</td>\n",
       "      <td>17</td>\n",
       "      <td>16</td>\n",
       "      <td>1.0</td>\n",
       "    </tr>\n",
       "    <tr>\n",
       "      <th>9008</th>\n",
       "      <td>3</td>\n",
       "      <td>0</td>\n",
       "      <td>1</td>\n",
       "      <td>1</td>\n",
       "      <td>33.62</td>\n",
       "      <td>12.12</td>\n",
       "      <td>36</td>\n",
       "      <td>22.0028</td>\n",
       "      <td>791</td>\n",
       "      <td>2012</td>\n",
       "      <td>8</td>\n",
       "      <td>17</td>\n",
       "      <td>17</td>\n",
       "      <td>1.0</td>\n",
       "    </tr>\n",
       "    <tr>\n",
       "      <th>9009</th>\n",
       "      <td>3</td>\n",
       "      <td>0</td>\n",
       "      <td>1</td>\n",
       "      <td>2</td>\n",
       "      <td>33.62</td>\n",
       "      <td>12.12</td>\n",
       "      <td>38</td>\n",
       "      <td>16.9979</td>\n",
       "      <td>669</td>\n",
       "      <td>2012</td>\n",
       "      <td>8</td>\n",
       "      <td>17</td>\n",
       "      <td>18</td>\n",
       "      <td>1.0</td>\n",
       "    </tr>\n",
       "    <tr>\n",
       "      <th>9010</th>\n",
       "      <td>3</td>\n",
       "      <td>0</td>\n",
       "      <td>1</td>\n",
       "      <td>2</td>\n",
       "      <td>30.34</td>\n",
       "      <td>12.12</td>\n",
       "      <td>55</td>\n",
       "      <td>26.0027</td>\n",
       "      <td>491</td>\n",
       "      <td>2012</td>\n",
       "      <td>8</td>\n",
       "      <td>17</td>\n",
       "      <td>19</td>\n",
       "      <td>1.0</td>\n",
       "    </tr>\n",
       "    <tr>\n",
       "      <th>9011</th>\n",
       "      <td>3</td>\n",
       "      <td>0</td>\n",
       "      <td>1</td>\n",
       "      <td>2</td>\n",
       "      <td>29.52</td>\n",
       "      <td>12.12</td>\n",
       "      <td>58</td>\n",
       "      <td>15.0013</td>\n",
       "      <td>359</td>\n",
       "      <td>2012</td>\n",
       "      <td>8</td>\n",
       "      <td>17</td>\n",
       "      <td>20</td>\n",
       "      <td>1.0</td>\n",
       "    </tr>\n",
       "    <tr>\n",
       "      <th>9012</th>\n",
       "      <td>3</td>\n",
       "      <td>0</td>\n",
       "      <td>1</td>\n",
       "      <td>2</td>\n",
       "      <td>27.88</td>\n",
       "      <td>12.12</td>\n",
       "      <td>69</td>\n",
       "      <td>19.9995</td>\n",
       "      <td>255</td>\n",
       "      <td>2012</td>\n",
       "      <td>8</td>\n",
       "      <td>17</td>\n",
       "      <td>21</td>\n",
       "      <td>1.0</td>\n",
       "    </tr>\n",
       "    <tr>\n",
       "      <th>9013</th>\n",
       "      <td>3</td>\n",
       "      <td>0</td>\n",
       "      <td>1</td>\n",
       "      <td>3</td>\n",
       "      <td>27.06</td>\n",
       "      <td>12.12</td>\n",
       "      <td>83</td>\n",
       "      <td>12.9980</td>\n",
       "      <td>213</td>\n",
       "      <td>2012</td>\n",
       "      <td>8</td>\n",
       "      <td>17</td>\n",
       "      <td>22</td>\n",
       "      <td>1.0</td>\n",
       "    </tr>\n",
       "    <tr>\n",
       "      <th>9014</th>\n",
       "      <td>3</td>\n",
       "      <td>0</td>\n",
       "      <td>1</td>\n",
       "      <td>3</td>\n",
       "      <td>26.24</td>\n",
       "      <td>12.12</td>\n",
       "      <td>83</td>\n",
       "      <td>15.0013</td>\n",
       "      <td>121</td>\n",
       "      <td>2012</td>\n",
       "      <td>8</td>\n",
       "      <td>17</td>\n",
       "      <td>23</td>\n",
       "      <td>1.0</td>\n",
       "    </tr>\n",
       "  </tbody>\n",
       "</table>\n",
       "</div>"
      ],
      "text/plain": [
       "      season  holiday  workingday  weather   temp  atemp  humidity  windspeed  \\\n",
       "8991       3        0           1        1  27.88  12.12        57    11.0014   \n",
       "8992       3        0           1        1  27.06  12.12        65     7.0015   \n",
       "8993       3        0           1        1  27.06  12.12        61     8.9981   \n",
       "8994       3        0           1        1  26.24  12.12        65     7.0015   \n",
       "8995       3        0           1        1  26.24  12.12        73    11.0014   \n",
       "8996       3        0           1        1  26.24  12.12        73     7.0015   \n",
       "8997       3        0           1        1  25.42  12.12        78     8.9981   \n",
       "8998       3        0           1        1  26.24  12.12        73     7.0015   \n",
       "8999       3        0           1        1  27.88  12.12        65     8.9981   \n",
       "9000       3        0           1        1  28.70  12.12        58     7.0015   \n",
       "9001       3        0           1        1  30.34  12.12        55    11.0014   \n",
       "9002       3        0           1        1  31.16  12.12        52    19.0012   \n",
       "9003       3        0           1        1  33.62  12.12        41    15.0013   \n",
       "9004       3        0           1        1  34.44  12.12        36    26.0027   \n",
       "9005       3        0           1        1  35.26  12.12        34    27.9993   \n",
       "9006       3        0           1        1  35.26  12.12        30    31.0009   \n",
       "9007       3        0           1        2  34.44  12.12        32    30.0026   \n",
       "9008       3        0           1        1  33.62  12.12        36    22.0028   \n",
       "9009       3        0           1        2  33.62  12.12        38    16.9979   \n",
       "9010       3        0           1        2  30.34  12.12        55    26.0027   \n",
       "9011       3        0           1        2  29.52  12.12        58    15.0013   \n",
       "9012       3        0           1        2  27.88  12.12        69    19.9995   \n",
       "9013       3        0           1        3  27.06  12.12        83    12.9980   \n",
       "9014       3        0           1        3  26.24  12.12        83    15.0013   \n",
       "\n",
       "      count  year  month  day  hour  atemp_out  \n",
       "8991     88  2012      8   17     0        1.0  \n",
       "8992     54  2012      8   17     1        1.0  \n",
       "8993     19  2012      8   17     2        1.0  \n",
       "8994      6  2012      8   17     3        1.0  \n",
       "8995      9  2012      8   17     4        1.0  \n",
       "8996     36  2012      8   17     5        1.0  \n",
       "8997    157  2012      8   17     6        1.0  \n",
       "8998    379  2012      8   17     7        1.0  \n",
       "8999    668  2012      8   17     8        1.0  \n",
       "9000    378  2012      8   17     9        1.0  \n",
       "9001    231  2012      8   17    10        1.0  \n",
       "9002    303  2012      8   17    11        1.0  \n",
       "9003    365  2012      8   17    12        1.0  \n",
       "9004    357  2012      8   17    13        1.0  \n",
       "9005    328  2012      8   17    14        1.0  \n",
       "9006    383  2012      8   17    15        1.0  \n",
       "9007    488  2012      8   17    16        1.0  \n",
       "9008    791  2012      8   17    17        1.0  \n",
       "9009    669  2012      8   17    18        1.0  \n",
       "9010    491  2012      8   17    19        1.0  \n",
       "9011    359  2012      8   17    20        1.0  \n",
       "9012    255  2012      8   17    21        1.0  \n",
       "9013    213  2012      8   17    22        1.0  \n",
       "9014    121  2012      8   17    23        1.0  "
      ]
     },
     "execution_count": 15,
     "metadata": {},
     "output_type": "execute_result"
    }
   ],
   "source": [
    "train[train.atemp_out == 1]"
   ]
  },
  {
   "cell_type": "markdown",
   "id": "685430fd",
   "metadata": {},
   "source": [
    "- 데이터를 확인해보니 2012년 08월 17일의 체감온도가 12.12로 일정하게 잘 못 기록된 것으로 보인다.\n",
    "- 랜덤 포레스트를 활용하여 이상치를 보간해 주었다."
   ]
  },
  {
   "cell_type": "code",
   "execution_count": 16,
   "id": "fbd92fb4",
   "metadata": {},
   "outputs": [],
   "source": [
    "from sklearn.ensemble import RandomForestRegressor\n",
    "# atemp_out이 1인 데이터의 인덱스를 추출\n",
    "index_outlier = train[train['atemp_out'] == 1].index\n",
    "\n",
    "# atemp_out이 0인 데이터를 학습 데이터로 사용\n",
    "X_train = train[train['atemp_out'] == 0][['temp', 'humidity', 'windspeed','month','hour']]\n",
    "y_train = train[train['atemp_out'] == 0]['atemp']\n",
    "\n",
    "# 랜덤 포레스트 모델 생성\n",
    "model = RandomForestRegressor()\n",
    "\n",
    "# 모델 학습\n",
    "model.fit(X_train, y_train)\n",
    "\n",
    "# atemp_out이 1인 데이터의 온도, 습도, 풍속을 사용하여 체감온도 예측\n",
    "y_pred = model.predict(train[train['atemp_out'] == 1][['temp', 'humidity', 'windspeed','month','hour']])\n",
    "\n",
    "# 예측한 체감온도를 train 데이터에 업데이트\n",
    "train.loc[index_outlier, 'atemp'] = y_pred"
   ]
  },
  {
   "cell_type": "code",
   "execution_count": 17,
   "id": "6aa9c3bb",
   "metadata": {},
   "outputs": [
    {
     "data": {
      "text/plain": [
       "array([31.82   , 31.06   , 31.06   , 30.305  , 30.305  , 30.305  ,\n",
       "       29.545  , 30.305  , 31.82   , 32.575  , 34.09   , 34.85   ,\n",
       "       37.1579 , 37.0294 , 37.8724 , 37.1276 , 36.34975, 36.3801 ,\n",
       "       36.365  , 34.09   , 33.335  , 31.82   , 30.305  , 28.79   ])"
      ]
     },
     "execution_count": 17,
     "metadata": {},
     "output_type": "execute_result"
    }
   ],
   "source": [
    "y_pred"
   ]
  },
  {
   "cell_type": "code",
   "execution_count": 18,
   "id": "c6cb3549",
   "metadata": {},
   "outputs": [
    {
     "data": {
      "image/png": "[encoded data removed]",
      "text/plain": [
       "<Figure size 432x288 with 1 Axes>"
      ]
     },
     "metadata": {
      "needs_background": "light"
     },
     "output_type": "display_data"
    }
   ],
   "source": [
    "sns.scatterplot(data=train, x='temp', y='atemp', hue='atemp_out')\n",
    "plt.xlabel('Temperature')\n",
    "plt.ylabel('Apparent Temperature')\n",
    "plt.show()"
   ]
  },
  {
   "cell_type": "code",
   "execution_count": 19,
   "id": "ae4a712e",
   "metadata": {},
   "outputs": [],
   "source": [
    "# atemp_out 열을 삭제\n",
    "train.drop('atemp_out', axis=1, inplace=True)"
   ]
  },
  {
   "cell_type": "markdown",
   "id": "77430ba4",
   "metadata": {},
   "source": [
    "### 다른 변수 간의 산점도\n",
    "- 습도와 체감온도, 체감온도와 풍속, 습도와 풍속 등 일반적으로 관계가 있을 것이라 알려진 데이터 들의 관계를 파악해보고자 scatterplot을 확인해보았다\n",
    "- 크게 관계는 없어보이나 풍속이 0인 경우가 있는데 이는 실제로 가능한 수치가 아니므로 확인해보아야할 것 같다"
   ]
  },
  {
   "cell_type": "code",
   "execution_count": 20,
   "id": "058528ff",
   "metadata": {},
   "outputs": [
    {
     "data": {
      "image/png": "[encoded data removed]",
      "text/plain": [
       "<Figure size 864x288 with 3 Axes>"
      ]
     },
     "metadata": {
      "needs_background": "light"
     },
     "output_type": "display_data"
    }
   ],
   "source": [
    "plt.figure(figsize=(12, 4))\n",
    "plt.subplot(1, 3, 1)\n",
    "sns.scatterplot(data=train, x='humidity', y='atemp')\n",
    "plt.xlabel('Humidity')\n",
    "plt.ylabel('Apparent Temperature')\n",
    "\n",
    "plt.subplot(1, 3, 2)\n",
    "sns.scatterplot(data=train, x='windspeed', y='atemp')\n",
    "plt.xlabel('Windspeed')\n",
    "plt.ylabel('Apparent Temperature')\n",
    "\n",
    "plt.subplot(1, 3, 3)\n",
    "sns.scatterplot(data=train, x='humidity', y='windspeed')\n",
    "plt.xlabel('Humidity')\n",
    "plt.ylabel('Windspeed')\n",
    "\n",
    "plt.tight_layout()\n",
    "plt.show()"
   ]
  },
  {
   "cell_type": "markdown",
   "id": "d5a6fa62",
   "metadata": {},
   "source": [
    "### 풍속 0인 데이터 처리"
   ]
  },
  {
   "cell_type": "code",
   "execution_count": 21,
   "id": "956ccd9a",
   "metadata": {
    "scrolled": false
   },
   "outputs": [
    {
     "data": {
      "text/html": [
       "<div>\n",
       "<style scoped>\n",
       "    .dataframe tbody tr th:only-of-type {\n",
       "        vertical-align: middle;\n",
       "    }\n",
       "\n",
       "    .dataframe tbody tr th {\n",
       "        vertical-align: top;\n",
       "    }\n",
       "\n",
       "    .dataframe thead th {\n",
       "        text-align: right;\n",
       "    }\n",
       "</style>\n",
       "<table border=\"1\" class=\"dataframe\">\n",
       "  <thead>\n",
       "    <tr style=\"text-align: right;\">\n",
       "      <th></th>\n",
       "      <th>season</th>\n",
       "      <th>holiday</th>\n",
       "      <th>workingday</th>\n",
       "      <th>weather</th>\n",
       "      <th>temp</th>\n",
       "      <th>atemp</th>\n",
       "      <th>humidity</th>\n",
       "      <th>windspeed</th>\n",
       "      <th>count</th>\n",
       "      <th>year</th>\n",
       "      <th>month</th>\n",
       "      <th>day</th>\n",
       "      <th>hour</th>\n",
       "    </tr>\n",
       "  </thead>\n",
       "  <tbody>\n",
       "    <tr>\n",
       "      <th>0</th>\n",
       "      <td>1</td>\n",
       "      <td>0</td>\n",
       "      <td>0</td>\n",
       "      <td>1</td>\n",
       "      <td>9.84</td>\n",
       "      <td>14.395</td>\n",
       "      <td>81</td>\n",
       "      <td>0.0</td>\n",
       "      <td>16</td>\n",
       "      <td>2011</td>\n",
       "      <td>1</td>\n",
       "      <td>1</td>\n",
       "      <td>0</td>\n",
       "    </tr>\n",
       "    <tr>\n",
       "      <th>1</th>\n",
       "      <td>1</td>\n",
       "      <td>0</td>\n",
       "      <td>0</td>\n",
       "      <td>1</td>\n",
       "      <td>9.02</td>\n",
       "      <td>13.635</td>\n",
       "      <td>80</td>\n",
       "      <td>0.0</td>\n",
       "      <td>40</td>\n",
       "      <td>2011</td>\n",
       "      <td>1</td>\n",
       "      <td>1</td>\n",
       "      <td>1</td>\n",
       "    </tr>\n",
       "    <tr>\n",
       "      <th>2</th>\n",
       "      <td>1</td>\n",
       "      <td>0</td>\n",
       "      <td>0</td>\n",
       "      <td>1</td>\n",
       "      <td>9.02</td>\n",
       "      <td>13.635</td>\n",
       "      <td>80</td>\n",
       "      <td>0.0</td>\n",
       "      <td>32</td>\n",
       "      <td>2011</td>\n",
       "      <td>1</td>\n",
       "      <td>1</td>\n",
       "      <td>2</td>\n",
       "    </tr>\n",
       "    <tr>\n",
       "      <th>3</th>\n",
       "      <td>1</td>\n",
       "      <td>0</td>\n",
       "      <td>0</td>\n",
       "      <td>1</td>\n",
       "      <td>9.84</td>\n",
       "      <td>14.395</td>\n",
       "      <td>75</td>\n",
       "      <td>0.0</td>\n",
       "      <td>13</td>\n",
       "      <td>2011</td>\n",
       "      <td>1</td>\n",
       "      <td>1</td>\n",
       "      <td>3</td>\n",
       "    </tr>\n",
       "    <tr>\n",
       "      <th>4</th>\n",
       "      <td>1</td>\n",
       "      <td>0</td>\n",
       "      <td>0</td>\n",
       "      <td>1</td>\n",
       "      <td>9.84</td>\n",
       "      <td>14.395</td>\n",
       "      <td>75</td>\n",
       "      <td>0.0</td>\n",
       "      <td>1</td>\n",
       "      <td>2011</td>\n",
       "      <td>1</td>\n",
       "      <td>1</td>\n",
       "      <td>4</td>\n",
       "    </tr>\n",
       "    <tr>\n",
       "      <th>...</th>\n",
       "      <td>...</td>\n",
       "      <td>...</td>\n",
       "      <td>...</td>\n",
       "      <td>...</td>\n",
       "      <td>...</td>\n",
       "      <td>...</td>\n",
       "      <td>...</td>\n",
       "      <td>...</td>\n",
       "      <td>...</td>\n",
       "      <td>...</td>\n",
       "      <td>...</td>\n",
       "      <td>...</td>\n",
       "      <td>...</td>\n",
       "    </tr>\n",
       "    <tr>\n",
       "      <th>10826</th>\n",
       "      <td>4</td>\n",
       "      <td>0</td>\n",
       "      <td>1</td>\n",
       "      <td>2</td>\n",
       "      <td>16.40</td>\n",
       "      <td>20.455</td>\n",
       "      <td>87</td>\n",
       "      <td>0.0</td>\n",
       "      <td>232</td>\n",
       "      <td>2012</td>\n",
       "      <td>12</td>\n",
       "      <td>17</td>\n",
       "      <td>12</td>\n",
       "    </tr>\n",
       "    <tr>\n",
       "      <th>10829</th>\n",
       "      <td>4</td>\n",
       "      <td>0</td>\n",
       "      <td>1</td>\n",
       "      <td>2</td>\n",
       "      <td>17.22</td>\n",
       "      <td>21.210</td>\n",
       "      <td>88</td>\n",
       "      <td>0.0</td>\n",
       "      <td>211</td>\n",
       "      <td>2012</td>\n",
       "      <td>12</td>\n",
       "      <td>17</td>\n",
       "      <td>15</td>\n",
       "    </tr>\n",
       "    <tr>\n",
       "      <th>10846</th>\n",
       "      <td>4</td>\n",
       "      <td>0</td>\n",
       "      <td>1</td>\n",
       "      <td>1</td>\n",
       "      <td>15.58</td>\n",
       "      <td>19.695</td>\n",
       "      <td>94</td>\n",
       "      <td>0.0</td>\n",
       "      <td>662</td>\n",
       "      <td>2012</td>\n",
       "      <td>12</td>\n",
       "      <td>18</td>\n",
       "      <td>8</td>\n",
       "    </tr>\n",
       "    <tr>\n",
       "      <th>10860</th>\n",
       "      <td>4</td>\n",
       "      <td>0</td>\n",
       "      <td>1</td>\n",
       "      <td>1</td>\n",
       "      <td>13.94</td>\n",
       "      <td>16.665</td>\n",
       "      <td>49</td>\n",
       "      <td>0.0</td>\n",
       "      <td>132</td>\n",
       "      <td>2012</td>\n",
       "      <td>12</td>\n",
       "      <td>18</td>\n",
       "      <td>22</td>\n",
       "    </tr>\n",
       "    <tr>\n",
       "      <th>10862</th>\n",
       "      <td>4</td>\n",
       "      <td>0</td>\n",
       "      <td>1</td>\n",
       "      <td>1</td>\n",
       "      <td>12.30</td>\n",
       "      <td>15.910</td>\n",
       "      <td>61</td>\n",
       "      <td>0.0</td>\n",
       "      <td>41</td>\n",
       "      <td>2012</td>\n",
       "      <td>12</td>\n",
       "      <td>19</td>\n",
       "      <td>0</td>\n",
       "    </tr>\n",
       "  </tbody>\n",
       "</table>\n",
       "<p>1313 rows × 13 columns</p>\n",
       "</div>"
      ],
      "text/plain": [
       "       season  holiday  workingday  weather   temp   atemp  humidity  \\\n",
       "0           1        0           0        1   9.84  14.395        81   \n",
       "1           1        0           0        1   9.02  13.635        80   \n",
       "2           1        0           0        1   9.02  13.635        80   \n",
       "3           1        0           0        1   9.84  14.395        75   \n",
       "4           1        0           0        1   9.84  14.395        75   \n",
       "...       ...      ...         ...      ...    ...     ...       ...   \n",
       "10826       4        0           1        2  16.40  20.455        87   \n",
       "10829       4        0           1        2  17.22  21.210        88   \n",
       "10846       4        0           1        1  15.58  19.695        94   \n",
       "10860       4        0           1        1  13.94  16.665        49   \n",
       "10862       4        0           1        1  12.30  15.910        61   \n",
       "\n",
       "       windspeed  count  year  month  day  hour  \n",
       "0            0.0     16  2011      1    1     0  \n",
       "1            0.0     40  2011      1    1     1  \n",
       "2            0.0     32  2011      1    1     2  \n",
       "3            0.0     13  2011      1    1     3  \n",
       "4            0.0      1  2011      1    1     4  \n",
       "...          ...    ...   ...    ...  ...   ...  \n",
       "10826        0.0    232  2012     12   17    12  \n",
       "10829        0.0    211  2012     12   17    15  \n",
       "10846        0.0    662  2012     12   18     8  \n",
       "10860        0.0    132  2012     12   18    22  \n",
       "10862        0.0     41  2012     12   19     0  \n",
       "\n",
       "[1313 rows x 13 columns]"
      ]
     },
     "execution_count": 21,
     "metadata": {},
     "output_type": "execute_result"
    }
   ],
   "source": [
    "train[train.windspeed == 0]"
   ]
  },
  {
   "cell_type": "markdown",
   "id": "29f5a712",
   "metadata": {},
   "source": [
    "- 풍속이 0인 데이터는 1313개로 상당히 많아서 제거하기에는 너무 큰 숫자로 보인다\n",
    "- 좀 더 자세한 분석을 통해 처리 방법을 고려해보자"
   ]
  },
  {
   "cell_type": "code",
   "execution_count": 22,
   "id": "dcae4c2c",
   "metadata": {},
   "outputs": [
    {
     "data": {
      "text/plain": [
       "<AxesSubplot:xlabel='windspeed', ylabel='count'>"
      ]
     },
     "execution_count": 22,
     "metadata": {},
     "output_type": "execute_result"
    },
    {
     "data": {
      "image/png": "[encoded data removed]",
      "text/plain": [
       "<Figure size 432x288 with 1 Axes>"
      ]
     },
     "metadata": {
      "needs_background": "light"
     },
     "output_type": "display_data"
    }
   ],
   "source": [
    "sns.countplot(train.windspeed)"
   ]
  },
  {
   "cell_type": "code",
   "execution_count": 23,
   "id": "acf140ed",
   "metadata": {
    "scrolled": true
   },
   "outputs": [
    {
     "data": {
      "text/plain": [
       "count    10886.000000\n",
       "mean        12.799395\n",
       "std          8.164537\n",
       "min          0.000000\n",
       "25%          7.001500\n",
       "50%         12.998000\n",
       "75%         16.997900\n",
       "max         56.996900\n",
       "Name: windspeed, dtype: float64"
      ]
     },
     "execution_count": 23,
     "metadata": {},
     "output_type": "execute_result"
    }
   ],
   "source": [
    "train.windspeed.describe()"
   ]
  },
  {
   "cell_type": "code",
   "execution_count": 24,
   "id": "3517b7f3",
   "metadata": {
    "scrolled": true
   },
   "outputs": [
    {
     "data": {
      "text/plain": [
       "28"
      ]
     },
     "execution_count": 24,
     "metadata": {},
     "output_type": "execute_result"
    }
   ],
   "source": [
    "train.windspeed.nunique()"
   ]
  },
  {
   "cell_type": "code",
   "execution_count": 25,
   "id": "101cb448",
   "metadata": {
    "scrolled": true
   },
   "outputs": [
    {
     "data": {
      "text/plain": [
       "array([ 0.    ,  6.0032, 16.9979, 19.0012, 19.9995, 12.998 , 15.0013,\n",
       "        8.9981, 11.0014, 22.0028, 30.0026, 23.9994, 27.9993, 26.0027,\n",
       "        7.0015, 32.9975, 36.9974, 31.0009, 35.0008, 39.0007, 43.9989,\n",
       "       40.9973, 51.9987, 46.0022, 50.0021, 43.0006, 56.9969, 47.9988])"
      ]
     },
     "execution_count": 25,
     "metadata": {},
     "output_type": "execute_result"
    }
   ],
   "source": [
    "train.windspeed.unique()"
   ]
  },
  {
   "cell_type": "code",
   "execution_count": 26,
   "id": "16f8cff7",
   "metadata": {
    "scrolled": true
   },
   "outputs": [
    {
     "data": {
      "text/plain": [
       "0.0000     1313\n",
       "6.0032      872\n",
       "7.0015     1034\n",
       "8.9981     1120\n",
       "11.0014    1057\n",
       "12.9980    1042\n",
       "15.0013     961\n",
       "16.9979     824\n",
       "19.0012     676\n",
       "19.9995     492\n",
       "22.0028     372\n",
       "23.9994     274\n",
       "26.0027     235\n",
       "27.9993     187\n",
       "30.0026     111\n",
       "31.0009      89\n",
       "32.9975      80\n",
       "35.0008      58\n",
       "36.9974      22\n",
       "39.0007      27\n",
       "40.9973      11\n",
       "43.0006      12\n",
       "43.9989       8\n",
       "46.0022       3\n",
       "47.9988       2\n",
       "50.0021       1\n",
       "51.9987       1\n",
       "56.9969       2\n",
       "Name: windspeed, dtype: int64"
      ]
     },
     "execution_count": 26,
     "metadata": {},
     "output_type": "execute_result"
    }
   ],
   "source": [
    "train.windspeed.value_counts().sort_index()"
   ]
  },
  {
   "cell_type": "markdown",
   "id": "6adaa0e5",
   "metadata": {},
   "source": [
    "- 풍속 데이터를 확인해보니 linear 한 형태가 아니라 ordinal한 형태를 띄고 있음을 볼 수 있었다."
   ]
  },
  {
   "cell_type": "markdown",
   "id": "4a50b6be",
   "metadata": {},
   "source": [
    "## 범주형 데이터 분석\n",
    "- season 데이터는 범주형 데이터이지만 날씨의 특성상 여름, 봄, 가을, 겨울 순으로 온도가 낮아지기에 이를 순서형으로도 볼 수 있다. 데이터 분석을 통해 단순 명목형으로 볼 것인지 혹은 순서형으로 변환해 볼지 고민해 볼 계정이다.\n",
    "- weather 데이터는 1은 맑은 날씨고 4로 갈수록 자전거 타기 어려운 날씨로 보여진다.\n",
    "  - 따라서 순서형 데이터로 생각하고 데이터를 분석할 예정이다.\n",
    "- 시각화 시 의미가 잘 드러나도록 문자열로 바꾸고 진행한다."
   ]
  },
  {
   "cell_type": "code",
   "execution_count": 27,
   "id": "f803bd1a",
   "metadata": {},
   "outputs": [
    {
     "data": {
      "image/png": "[encoded data removed]",
      "text/plain": [
       "<Figure size 1080x360 with 3 Axes>"
      ]
     },
     "metadata": {
      "needs_background": "light"
     },
     "output_type": "display_data"
    }
   ],
   "source": [
    "fig, axes = plt.subplots(1, 3, figsize=(15, 5))\n",
    "\n",
    "# holiday\n",
    "sns.countplot(x='holiday', data=train, ax=axes[0])\n",
    "axes[0].set_title('Holiday')\n",
    "axes[0].set_xticklabels(['No Holiday', 'Holiday'])\n",
    "for p in axes[0].patches:\n",
    "    axes[0].annotate(format(p.get_height(), '.0f'), (p.get_x() + p.get_width() / 2., p.get_height()), ha = 'center', va = 'center', xytext = (0, 10), textcoords = 'offset points')\n",
    "\n",
    "# workingday\n",
    "sns.countplot(x='workingday', data=train, ax=axes[1])\n",
    "axes[1].set_title('Working Day')\n",
    "axes[1].set_xticklabels(['No Workingday', 'Workingday'])\n",
    "for p in axes[1].patches:\n",
    "    axes[1].annotate(format(p.get_height(), '.0f'), (p.get_x() + p.get_width() / 2., p.get_height()), ha = 'center', va = 'center', xytext = (0, 10), textcoords = 'offset points')\n",
    "\n",
    "# weather\n",
    "sns.countplot(x='weather', data=train, ax=axes[2])\n",
    "axes[2].set_title('Weather')\n",
    "axes[2].set_xticklabels(['Clear', 'Mist, Few clouds', 'Light Snow, Rain, Thunderstorm', 'Heavy Rain, Thunderstorm, Snow, Fog'])\n",
    "axes[2].set_xticklabels(['Clear', 'Mist, Few clouds', 'Light Snow, Rain, Thunderstorm', 'Heavy Rain, Thunderstorm, Snow, Fog'], rotation=15)\n",
    "for p in axes[2].patches:\n",
    "    axes[2].annotate(format(p.get_height(), '.0f'), (p.get_x() + p.get_width() / 2., p.get_height()), ha = 'center', va = 'center', xytext = (0, 10), textcoords = 'offset points')\n",
    "\n",
    "plt.tight_layout()\n",
    "plt.show()\n"
   ]
  },
  {
   "cell_type": "code",
   "execution_count": 28,
   "id": "aebc6f1d",
   "metadata": {
    "scrolled": true
   },
   "outputs": [
    {
     "data": {
      "text/plain": [
       "((array([-3.83154229, -3.60754977, -3.48462983, ...,  3.48462983,\n",
       "          3.60754977,  3.83154229]),\n",
       "  array([  1,   1,   1, ..., 968, 970, 977])),\n",
       " (169.82942673231386, 191.5741319125482, 0.9372682766213176))"
      ]
     },
     "execution_count": 28,
     "metadata": {},
     "output_type": "execute_result"
    },
    {
     "data": {
      "image/png": "[encoded data removed]",
      "text/plain": [
       "<Figure size 432x288 with 1 Axes>"
      ]
     },
     "metadata": {
      "needs_background": "light"
     },
     "output_type": "display_data"
    }
   ],
   "source": [
    "stats.probplot(train['count'], dist=\"norm\", plot=plt)"
   ]
  },
  {
   "cell_type": "markdown",
   "id": "49df6d20",
   "metadata": {},
   "source": [
    "- 분포가 왼쪽으로 많이 편향되어있는 것을 볼 수 있음.\n",
    "- 회귀 모델이 좋은 성능을 내려면 데이터가 정규분포를 따라야 함\n",
    "- 현재 타깃값인 count는 정규분포를 따르지 않아 현재 타깃값을 그대로 사용해 모델링하면 좋은 성능 기대 어려움\n",
    "- 이에 따라 데이터 분포를 정규분포에 가깝게 만들기 위해 로그변환을 하고자 한다"
   ]
  },
  {
   "cell_type": "code",
   "execution_count": 29,
   "id": "e02b43da",
   "metadata": {},
   "outputs": [],
   "source": [
    "import numpy as np"
   ]
  },
  {
   "cell_type": "code",
   "execution_count": 30,
   "id": "9ae999ff",
   "metadata": {
    "scrolled": true
   },
   "outputs": [
    {
     "data": {
      "text/plain": [
       "((array([-3.83154229, -3.60754977, -3.48462983, ...,  3.48462983,\n",
       "          3.60754977,  3.83154229]),\n",
       "  array([0.69314718, 0.69314718, 0.69314718, ..., 6.87626461, 6.87832647,\n",
       "         6.88550967])),\n",
       " (1.3647396459244172, 4.591363690454027, 0.9611793780126952))"
      ]
     },
     "execution_count": 30,
     "metadata": {},
     "output_type": "execute_result"
    }
   ],
   "source": [
    "stats.probplot(np.log1p(train['count']), dist=\"norm\")"
   ]
  },
  {
   "cell_type": "markdown",
   "id": "58d0a7e1",
   "metadata": {},
   "source": [
    "###  타겟값과 범주형 변수 간의 관계"
   ]
  },
  {
   "cell_type": "code",
   "execution_count": 31,
   "id": "6da55241",
   "metadata": {},
   "outputs": [
    {
     "data": {
      "text/plain": [
       "[Text(0.5, 0, 'Working Day'),\n",
       " Text(0, 0.5, 'Count'),\n",
       " Text(0.5, 1.0, 'Box Plot On Count Across Working Day')]"
      ]
     },
     "execution_count": 31,
     "metadata": {},
     "output_type": "execute_result"
    },
    {
     "data": {
      "image/png": "[encoded data removed]",
      "text/plain": [
       "<Figure size 864x720 with 4 Axes>"
      ]
     },
     "metadata": {
      "needs_background": "light"
     },
     "output_type": "display_data"
    }
   ],
   "source": [
    "fig, axes = plt.subplots(nrows=2,ncols=2)\n",
    "fig.set_size_inches(12, 10)\n",
    "sns.boxplot(data=train, y=\"count\", orient=\"v\",ax=axes[0][0])\n",
    "sns.boxplot(data=train, y=\"count\", x=\"season\",orient=\"v\",ax=axes[0][1])\n",
    "sns.boxplot(data=train, y=\"count\", x=\"hour\",orient=\"v\",ax=axes[1][0])\n",
    "sns.boxplot(data=train, y=\"count\", x=\"workingday\",orient=\"v\",ax=axes[1][1])\n",
    "\n",
    "axes[0][0].set(ylabel='Count',title=\"Box Plot On Count\")\n",
    "axes[0][1].set(xlabel='Season', ylabel='Count',title=\"Box Plot On Count Across Season\")\n",
    "axes[1][0].set(xlabel='Hour Of The Day', ylabel='Count',title=\"Box Plot On Count Across Hour Of The Day\")\n",
    "axes[1][1].set(xlabel='Working Day', ylabel='Count',title=\"Box Plot On Count Across Working Day\")"
   ]
  },
  {
   "cell_type": "markdown",
   "id": "1dfc6978",
   "metadata": {},
   "source": [
    "- 계절(Season) : 대여량의 중앙값을 비교해보면, 계절의 따른 대여량 차이에는 봄이 다른 계절에 비해 대여량이 낮은 것으로 보인다.\n",
    "- 시간대(Hour of the Day) : 대여량의 중앙값을 비교해보면, 아침 7-9시, 저녁 5-6시 시간대에 대여량이 다른 시간대에 비해 상당히 많음을 볼 수 있다. 이는 출퇴근 시간대에 자전거를 이용하여 대여량이 많은 것으로 유추할 수 있다.\n",
    "- 이에 대한 증거로, 대부분의 이상치 값(대여량이 높은 데이터)들은 평일에 분포되어 있음을 볼 수 있다."
   ]
  },
  {
   "cell_type": "code",
   "execution_count": 32,
   "id": "987ca04b",
   "metadata": {},
   "outputs": [
    {
     "data": {
      "image/png": "[encoded data removed]",
      "text/plain": [
       "<Figure size 720x216 with 3 Axes>"
      ]
     },
     "metadata": {
      "needs_background": "light"
     },
     "output_type": "display_data"
    }
   ],
   "source": [
    "figure, axes = plt.subplots(nrows=1, ncols=3) # 3행 2열 Figure 생성\n",
    "plt.tight_layout() # 그래프 사이에 여백 확보\n",
    "figure.set_size_inches(10, 3) # 전체 Figure 크기를 5x3인치로 설정\n",
    "\n",
    "sns.barplot(x='year', y='count', data=train, ax=axes[0]) # ax 파라미터에는 AxesSubplot 객체를 전달\n",
    "sns.barplot(x='month', y='count', data=train, ax=axes[1]) # 0행 0열의 축부터 2행 1열의 축까지 순서대로 전달\n",
    "sns.barplot(x='hour', y='count', data=train, ax=axes[2])\n",
    "\n",
    "axes[0].set(title='Rental amounts by year')\n",
    "axes[1].set(title='Rental amounts by month')\n",
    "axes[2].set(title='Rental amounts by hour')\n",
    "\n",
    "axes[0].tick_params(axis='x', labelrotation=45)\n",
    "axes[1].tick_params(axis='x', labelrotation=90)"
   ]
  },
  {
   "cell_type": "code",
   "execution_count": 33,
   "id": "03d177ec",
   "metadata": {},
   "outputs": [
    {
     "name": "stdout",
     "output_type": "stream",
     "text": [
      "Contingency Table:\n"
     ]
    },
    {
     "data": {
      "image/png": "[encoded data removed]",
      "text/plain": [
       "<Figure size 576x432 with 2 Axes>"
      ]
     },
     "metadata": {
      "needs_background": "light"
     },
     "output_type": "display_data"
    }
   ],
   "source": [
    "# Contingency Table 생성\n",
    "contingency_table = pd.crosstab(train['holiday'], train['workingday'])\n",
    "\n",
    "print(\"Contingency Table:\")\n",
    "# 시각화\n",
    "import seaborn as sns\n",
    "import matplotlib.pyplot as plt\n",
    "\n",
    "plt.figure(figsize=(8, 6))\n",
    "sns.heatmap(contingency_table, annot=True, cmap=\"YlGnBu\", fmt='g')\n",
    "\n",
    "plt.xlabel('Working Day')\n",
    "plt.ylabel('Holiday')\n",
    "plt.title('Contingency Table of Holiday vs Working Day')\n",
    "\n",
    "plt.show()"
   ]
  },
  {
   "cell_type": "code",
   "execution_count": 34,
   "id": "81090152",
   "metadata": {},
   "outputs": [],
   "source": [
    "# 0 : 휴일아닌 평일\n",
    "# 1 : 휴일아닌 주말\n",
    "# -1 : 휴일인 주말\n",
    "train['day_off'] = train.holiday * (-1) + train.workingday + 1"
   ]
  },
  {
   "cell_type": "code",
   "execution_count": 35,
   "id": "bde74250",
   "metadata": {},
   "outputs": [
    {
     "data": {
      "text/plain": [
       "2    7412\n",
       "1    3163\n",
       "0     311\n",
       "Name: day_off, dtype: int64"
      ]
     },
     "execution_count": 35,
     "metadata": {},
     "output_type": "execute_result"
    }
   ],
   "source": [
    "train.day_off.value_counts()"
   ]
  },
  {
   "cell_type": "code",
   "execution_count": 36,
   "id": "617996c6",
   "metadata": {},
   "outputs": [],
   "source": [
    "train.drop(['holiday','workingday'], axis=1, inplace=True)"
   ]
  },
  {
   "cell_type": "markdown",
   "id": "f0dc402d",
   "metadata": {},
   "source": [
    "## weather 변수"
   ]
  },
  {
   "cell_type": "code",
   "execution_count": 37,
   "id": "a932b2f9",
   "metadata": {},
   "outputs": [
    {
     "data": {
      "text/plain": [
       "<AxesSubplot:xlabel='weather', ylabel='count'>"
      ]
     },
     "execution_count": 37,
     "metadata": {},
     "output_type": "execute_result"
    },
    {
     "data": {
      "image/png": "[encoded data removed]",
      "text/plain": [
       "<Figure size 432x288 with 1 Axes>"
      ]
     },
     "metadata": {
      "needs_background": "light"
     },
     "output_type": "display_data"
    }
   ],
   "source": [
    "sns.countplot(train.weather)"
   ]
  },
  {
   "cell_type": "code",
   "execution_count": 38,
   "id": "a145d7bf",
   "metadata": {},
   "outputs": [],
   "source": [
    "train['weather'] = train['weather'].replace({4: 3})"
   ]
  },
  {
   "cell_type": "code",
   "execution_count": 39,
   "id": "da722e43",
   "metadata": {},
   "outputs": [],
   "source": [
    "# One-hot encoding for categorical variables\n",
    "train = pd.get_dummies(train, columns=['season', 'day_off']) # weather은 1,2,3이 순서가 있다고 생각해서 그대로사용"
   ]
  },
  {
   "cell_type": "code",
   "execution_count": 40,
   "id": "7e442d44",
   "metadata": {},
   "outputs": [],
   "source": [
    "from sklearn.decomposition import PCA\n",
    "\n",
    "pca = PCA(n_components=1)\n",
    "train['temperature'] = pca.fit_transform(train[['temp', 'atemp']])"
   ]
  },
  {
   "cell_type": "code",
   "execution_count": 41,
   "id": "7c168ec6",
   "metadata": {},
   "outputs": [],
   "source": [
    "train.drop(['temp','atemp'], axis=1, inplace=True)"
   ]
  },
  {
   "cell_type": "code",
   "execution_count": 47,
   "id": "16063ea0",
   "metadata": {
    "scrolled": false
   },
   "outputs": [
    {
     "data": {
      "text/plain": [
       "Index(['weather', 'humidity', 'windspeed', 'count', 'year', 'month', 'day',\n",
       "       'hour', 'season_1', 'season_2', 'season_3', 'season_4', 'temperature',\n",
       "       'day_off_0', 'day_off_1', 'day_off_2'],\n",
       "      dtype='object')"
      ]
     },
     "execution_count": 47,
     "metadata": {},
     "output_type": "execute_result"
    }
   ],
   "source": [
    "train.columns"
   ]
  },
  {
   "cell_type": "code",
   "execution_count": 49,
   "id": "ab652185",
   "metadata": {
    "scrolled": true
   },
   "outputs": [],
   "source": [
    "# train['count'] = np.log1p(train['count'])"
   ]
  },
  {
   "cell_type": "code",
   "execution_count": 52,
   "id": "3d46f745",
   "metadata": {},
   "outputs": [],
   "source": [
    "# train['count'] = np.expm1(train['count'])"
   ]
  },
  {
   "cell_type": "code",
   "execution_count": 54,
   "id": "164b187f",
   "metadata": {},
   "outputs": [
    {
     "name": "stdout",
     "output_type": "stream",
     "text": [
      "학습 데이터: (8708, 15) 레이블: (8708,)\n",
      "테스트 데이터: (2178, 15) 레이블: (2178,)\n"
     ]
    }
   ],
   "source": [
    "from sklearn.model_selection import train_test_split\n",
    "\n",
    "X_train, X_test, y_train, y_test = train_test_split(train.drop('count', axis=1), train['count'], test_size=0.2, random_state=123)\n",
    "\n",
    "print(f\"학습 데이터: {X_train.shape} 레이블: {y_train.shape}\")\n",
    "print(f\"테스트 데이터: {X_test.shape} 레이블: {y_test.shape}\")"
   ]
  },
  {
   "cell_type": "code",
   "execution_count": 57,
   "id": "f4fb700b",
   "metadata": {},
   "outputs": [
    {
     "data": {
      "text/plain": [
       "Index(['weather', 'humidity', 'windspeed', 'year', 'month', 'day', 'hour',\n",
       "       'season_1', 'season_2', 'season_3', 'season_4', 'temperature',\n",
       "       'day_off_0', 'day_off_1', 'day_off_2'],\n",
       "      dtype='object')"
      ]
     },
     "execution_count": 57,
     "metadata": {},
     "output_type": "execute_result"
    }
   ],
   "source": [
    "X_train.columns"
   ]
  },
  {
   "cell_type": "code",
   "execution_count": 58,
   "id": "85032aab",
   "metadata": {},
   "outputs": [],
   "source": [
    "# scikit-learn 패키지의 MinMaxScaler 클래스를 불러옵니다.\n",
    "from sklearn.preprocessing import MinMaxScaler\n",
    "\n",
    "# MinMaxScaler 객체를 생성합니다.\n",
    "minmax_scaler = MinMaxScaler()\n",
    "\n",
    "# fit_transform()을 사용해서 학습과 스케일링을 한 번에 적용합니다.\n",
    "train_minmax = minmax_scaler.fit_transform(X_train)\n",
    "\n",
    "# Min-Max 스케일링이 완료된 데이터를 데이터프레임 형태로 변환합니다.\n",
    "train_minmax = pd.DataFrame(train_minmax, \n",
    "                            index=X_train.index, \n",
    "                            columns=X_train.columns)"
   ]
  },
  {
   "cell_type": "code",
   "execution_count": 59,
   "id": "7477fbde",
   "metadata": {},
   "outputs": [
    {
     "data": {
      "text/html": [
       "<div>\n",
       "<style scoped>\n",
       "    .dataframe tbody tr th:only-of-type {\n",
       "        vertical-align: middle;\n",
       "    }\n",
       "\n",
       "    .dataframe tbody tr th {\n",
       "        vertical-align: top;\n",
       "    }\n",
       "\n",
       "    .dataframe thead th {\n",
       "        text-align: right;\n",
       "    }\n",
       "</style>\n",
       "<table border=\"1\" class=\"dataframe\">\n",
       "  <thead>\n",
       "    <tr style=\"text-align: right;\">\n",
       "      <th></th>\n",
       "      <th>weather</th>\n",
       "      <th>humidity</th>\n",
       "      <th>windspeed</th>\n",
       "      <th>year</th>\n",
       "      <th>month</th>\n",
       "      <th>day</th>\n",
       "      <th>hour</th>\n",
       "      <th>season_1</th>\n",
       "      <th>season_2</th>\n",
       "      <th>season_3</th>\n",
       "      <th>season_4</th>\n",
       "      <th>temperature</th>\n",
       "      <th>day_off_0</th>\n",
       "      <th>day_off_1</th>\n",
       "      <th>day_off_2</th>\n",
       "    </tr>\n",
       "  </thead>\n",
       "  <tbody>\n",
       "    <tr>\n",
       "      <th>9395</th>\n",
       "      <td>0.0</td>\n",
       "      <td>0.61</td>\n",
       "      <td>0.122840</td>\n",
       "      <td>1.0</td>\n",
       "      <td>0.727273</td>\n",
       "      <td>0.722222</td>\n",
       "      <td>0.869565</td>\n",
       "      <td>0.0</td>\n",
       "      <td>0.0</td>\n",
       "      <td>1.0</td>\n",
       "      <td>0.0</td>\n",
       "      <td>0.320302</td>\n",
       "      <td>0.0</td>\n",
       "      <td>0.0</td>\n",
       "      <td>1.0</td>\n",
       "    </tr>\n",
       "    <tr>\n",
       "      <th>8023</th>\n",
       "      <td>0.0</td>\n",
       "      <td>0.51</td>\n",
       "      <td>0.333373</td>\n",
       "      <td>1.0</td>\n",
       "      <td>0.454545</td>\n",
       "      <td>0.722222</td>\n",
       "      <td>0.695652</td>\n",
       "      <td>0.0</td>\n",
       "      <td>1.0</td>\n",
       "      <td>0.0</td>\n",
       "      <td>0.0</td>\n",
       "      <td>0.262029</td>\n",
       "      <td>0.0</td>\n",
       "      <td>0.0</td>\n",
       "      <td>1.0</td>\n",
       "    </tr>\n",
       "    <tr>\n",
       "      <th>1503</th>\n",
       "      <td>1.0</td>\n",
       "      <td>0.66</td>\n",
       "      <td>0.263195</td>\n",
       "      <td>0.0</td>\n",
       "      <td>0.272727</td>\n",
       "      <td>0.388889</td>\n",
       "      <td>0.521739</td>\n",
       "      <td>0.0</td>\n",
       "      <td>1.0</td>\n",
       "      <td>0.0</td>\n",
       "      <td>0.0</td>\n",
       "      <td>0.601856</td>\n",
       "      <td>0.0</td>\n",
       "      <td>0.0</td>\n",
       "      <td>1.0</td>\n",
       "    </tr>\n",
       "    <tr>\n",
       "      <th>493</th>\n",
       "      <td>0.0</td>\n",
       "      <td>0.37</td>\n",
       "      <td>0.298225</td>\n",
       "      <td>0.0</td>\n",
       "      <td>0.090909</td>\n",
       "      <td>0.111111</td>\n",
       "      <td>0.695652</td>\n",
       "      <td>1.0</td>\n",
       "      <td>0.0</td>\n",
       "      <td>0.0</td>\n",
       "      <td>0.0</td>\n",
       "      <td>0.796086</td>\n",
       "      <td>0.0</td>\n",
       "      <td>0.0</td>\n",
       "      <td>1.0</td>\n",
       "    </tr>\n",
       "    <tr>\n",
       "      <th>6317</th>\n",
       "      <td>0.5</td>\n",
       "      <td>0.56</td>\n",
       "      <td>0.386035</td>\n",
       "      <td>1.0</td>\n",
       "      <td>0.090909</td>\n",
       "      <td>1.000000</td>\n",
       "      <td>0.478261</td>\n",
       "      <td>1.0</td>\n",
       "      <td>0.0</td>\n",
       "      <td>0.0</td>\n",
       "      <td>0.0</td>\n",
       "      <td>0.766957</td>\n",
       "      <td>0.0</td>\n",
       "      <td>1.0</td>\n",
       "      <td>0.0</td>\n",
       "    </tr>\n",
       "    <tr>\n",
       "      <th>...</th>\n",
       "      <td>...</td>\n",
       "      <td>...</td>\n",
       "      <td>...</td>\n",
       "      <td>...</td>\n",
       "      <td>...</td>\n",
       "      <td>...</td>\n",
       "      <td>...</td>\n",
       "      <td>...</td>\n",
       "      <td>...</td>\n",
       "      <td>...</td>\n",
       "      <td>...</td>\n",
       "      <td>...</td>\n",
       "      <td>...</td>\n",
       "      <td>...</td>\n",
       "      <td>...</td>\n",
       "    </tr>\n",
       "    <tr>\n",
       "      <th>9785</th>\n",
       "      <td>0.0</td>\n",
       "      <td>0.66</td>\n",
       "      <td>0.105325</td>\n",
       "      <td>1.0</td>\n",
       "      <td>0.818182</td>\n",
       "      <td>0.611111</td>\n",
       "      <td>0.086957</td>\n",
       "      <td>0.0</td>\n",
       "      <td>0.0</td>\n",
       "      <td>0.0</td>\n",
       "      <td>1.0</td>\n",
       "      <td>0.582410</td>\n",
       "      <td>0.0</td>\n",
       "      <td>0.0</td>\n",
       "      <td>1.0</td>\n",
       "    </tr>\n",
       "    <tr>\n",
       "      <th>7763</th>\n",
       "      <td>0.0</td>\n",
       "      <td>0.39</td>\n",
       "      <td>0.228047</td>\n",
       "      <td>1.0</td>\n",
       "      <td>0.454545</td>\n",
       "      <td>0.111111</td>\n",
       "      <td>0.869565</td>\n",
       "      <td>0.0</td>\n",
       "      <td>1.0</td>\n",
       "      <td>0.0</td>\n",
       "      <td>0.0</td>\n",
       "      <td>0.320302</td>\n",
       "      <td>0.0</td>\n",
       "      <td>1.0</td>\n",
       "      <td>0.0</td>\n",
       "    </tr>\n",
       "    <tr>\n",
       "      <th>5218</th>\n",
       "      <td>0.0</td>\n",
       "      <td>0.35</td>\n",
       "      <td>0.000000</td>\n",
       "      <td>0.0</td>\n",
       "      <td>1.000000</td>\n",
       "      <td>0.555556</td>\n",
       "      <td>0.521739</td>\n",
       "      <td>0.0</td>\n",
       "      <td>0.0</td>\n",
       "      <td>0.0</td>\n",
       "      <td>1.0</td>\n",
       "      <td>0.718338</td>\n",
       "      <td>0.0</td>\n",
       "      <td>1.0</td>\n",
       "      <td>0.0</td>\n",
       "    </tr>\n",
       "    <tr>\n",
       "      <th>1346</th>\n",
       "      <td>0.0</td>\n",
       "      <td>0.61</td>\n",
       "      <td>0.105325</td>\n",
       "      <td>0.0</td>\n",
       "      <td>0.272727</td>\n",
       "      <td>0.000000</td>\n",
       "      <td>1.000000</td>\n",
       "      <td>0.0</td>\n",
       "      <td>1.0</td>\n",
       "      <td>0.0</td>\n",
       "      <td>0.0</td>\n",
       "      <td>0.689209</td>\n",
       "      <td>0.0</td>\n",
       "      <td>0.0</td>\n",
       "      <td>1.0</td>\n",
       "    </tr>\n",
       "    <tr>\n",
       "      <th>3582</th>\n",
       "      <td>0.0</td>\n",
       "      <td>0.83</td>\n",
       "      <td>0.000000</td>\n",
       "      <td>0.0</td>\n",
       "      <td>0.636364</td>\n",
       "      <td>1.000000</td>\n",
       "      <td>0.173913</td>\n",
       "      <td>0.0</td>\n",
       "      <td>0.0</td>\n",
       "      <td>1.0</td>\n",
       "      <td>0.0</td>\n",
       "      <td>0.359144</td>\n",
       "      <td>0.0</td>\n",
       "      <td>0.0</td>\n",
       "      <td>1.0</td>\n",
       "    </tr>\n",
       "  </tbody>\n",
       "</table>\n",
       "<p>8708 rows × 15 columns</p>\n",
       "</div>"
      ],
      "text/plain": [
       "      weather  humidity  windspeed  year     month       day      hour  \\\n",
       "9395      0.0      0.61   0.122840   1.0  0.727273  0.722222  0.869565   \n",
       "8023      0.0      0.51   0.333373   1.0  0.454545  0.722222  0.695652   \n",
       "1503      1.0      0.66   0.263195   0.0  0.272727  0.388889  0.521739   \n",
       "493       0.0      0.37   0.298225   0.0  0.090909  0.111111  0.695652   \n",
       "6317      0.5      0.56   0.386035   1.0  0.090909  1.000000  0.478261   \n",
       "...       ...       ...        ...   ...       ...       ...       ...   \n",
       "9785      0.0      0.66   0.105325   1.0  0.818182  0.611111  0.086957   \n",
       "7763      0.0      0.39   0.228047   1.0  0.454545  0.111111  0.869565   \n",
       "5218      0.0      0.35   0.000000   0.0  1.000000  0.555556  0.521739   \n",
       "1346      0.0      0.61   0.105325   0.0  0.272727  0.000000  1.000000   \n",
       "3582      0.0      0.83   0.000000   0.0  0.636364  1.000000  0.173913   \n",
       "\n",
       "      season_1  season_2  season_3  season_4  temperature  day_off_0  \\\n",
       "9395       0.0       0.0       1.0       0.0     0.320302        0.0   \n",
       "8023       0.0       1.0       0.0       0.0     0.262029        0.0   \n",
       "1503       0.0       1.0       0.0       0.0     0.601856        0.0   \n",
       "493        1.0       0.0       0.0       0.0     0.796086        0.0   \n",
       "6317       1.0       0.0       0.0       0.0     0.766957        0.0   \n",
       "...        ...       ...       ...       ...          ...        ...   \n",
       "9785       0.0       0.0       0.0       1.0     0.582410        0.0   \n",
       "7763       0.0       1.0       0.0       0.0     0.320302        0.0   \n",
       "5218       0.0       0.0       0.0       1.0     0.718338        0.0   \n",
       "1346       0.0       1.0       0.0       0.0     0.689209        0.0   \n",
       "3582       0.0       0.0       1.0       0.0     0.359144        0.0   \n",
       "\n",
       "      day_off_1  day_off_2  \n",
       "9395        0.0        1.0  \n",
       "8023        0.0        1.0  \n",
       "1503        0.0        1.0  \n",
       "493         0.0        1.0  \n",
       "6317        1.0        0.0  \n",
       "...         ...        ...  \n",
       "9785        0.0        1.0  \n",
       "7763        1.0        0.0  \n",
       "5218        1.0        0.0  \n",
       "1346        0.0        1.0  \n",
       "3582        0.0        1.0  \n",
       "\n",
       "[8708 rows x 15 columns]"
      ]
     },
     "execution_count": 59,
     "metadata": {},
     "output_type": "execute_result"
    }
   ],
   "source": [
    "train_minmax"
   ]
  },
  {
   "cell_type": "code",
   "execution_count": 60,
   "id": "9920e5b0",
   "metadata": {},
   "outputs": [],
   "source": [
    "y_train = np.log1p(y_train)"
   ]
  },
  {
   "cell_type": "markdown",
   "id": "ebc4eea1",
   "metadata": {},
   "source": [
    "### (5) LinearRegression 모델 학습\n",
    "- sklearn의 LinearRegression 모델 불러오기 및 학습하기"
   ]
  },
  {
   "cell_type": "code",
   "execution_count": 66,
   "id": "7a8b7aee",
   "metadata": {},
   "outputs": [],
   "source": [
    "from sklearn.linear_model import LinearRegression\n",
    "\n",
    "# scikit-learn에서 제공하는 선형 회귀 모델\n",
    "skmodel=LinearRegression()\n",
    "\n",
    "# model을 x와 y 데이터셋을 이용하여 학습시킴\n",
    "skmodel.fit(train_minmax, y_train)\n",
    "\n",
    "test_minmax = minmax_scaler.fit_transform(X_test)\n",
    "\n",
    "# model이 test 데이터에 대해 예측한 값을 array로 반환\n",
    "y_pred = skmodel.predict(test_minmax)"
   ]
  },
  {
   "cell_type": "code",
   "execution_count": 67,
   "id": "ee3ac03a",
   "metadata": {},
   "outputs": [
    {
     "data": {
      "text/plain": [
       "array([5.4765625 , 3.45703125, 3.80175781, ..., 3.95019531, 4.98730469,\n",
       "       3.83496094])"
      ]
     },
     "execution_count": 67,
     "metadata": {},
     "output_type": "execute_result"
    }
   ],
   "source": [
    "y_pred"
   ]
  },
  {
   "cell_type": "code",
   "execution_count": 73,
   "id": "40499bdc",
   "metadata": {},
   "outputs": [],
   "source": [
    "y_pred = np.expm1(y_pred)"
   ]
  },
  {
   "cell_type": "code",
   "execution_count": 74,
   "id": "307782f8",
   "metadata": {
    "scrolled": true
   },
   "outputs": [
    {
     "data": {
      "text/plain": [
       "(2178,)"
      ]
     },
     "execution_count": 74,
     "metadata": {},
     "output_type": "execute_result"
    }
   ],
   "source": [
    "y_pred.shape"
   ]
  },
  {
   "cell_type": "code",
   "execution_count": 75,
   "id": "a7be30f1",
   "metadata": {},
   "outputs": [
    {
     "data": {
      "text/plain": [
       "(2178,)"
      ]
     },
     "execution_count": 75,
     "metadata": {},
     "output_type": "execute_result"
    }
   ],
   "source": [
    "y_test.shape"
   ]
  },
  {
   "cell_type": "code",
   "execution_count": 76,
   "id": "8bef1089",
   "metadata": {},
   "outputs": [
    {
     "data": {
      "text/plain": [
       "24672.950942564206"
      ]
     },
     "execution_count": 76,
     "metadata": {},
     "output_type": "execute_result"
    }
   ],
   "source": [
    "((y_pred - y_test) ** 2).mean()"
   ]
  }
 ],
 "metadata": {
  "kernelspec": {
   "display_name": "Python 3 (ipykernel)",
   "language": "python",
   "name": "python3"
  },
  "language_info": {
   "codemirror_mode": {
    "name": "ipython",
    "version": 3
   },
   "file_extension": ".py",
   "mimetype": "text/x-python",
   "name": "python",
   "nbconvert_exporter": "python",
   "pygments_lexer": "ipython3",
   "version": "3.9.7"
  }
 },
 "nbformat": 4,
 "nbformat_minor": 5
}
