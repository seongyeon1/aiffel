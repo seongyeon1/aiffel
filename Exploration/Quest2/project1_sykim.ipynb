{
 "cells": [
  {
   "cell_type": "markdown",
   "id": "6cc0358c",
   "metadata": {},
   "source": [
    "## 프로젝트 1 : 손수 설계하는 선형회귀, 당뇨병 수치를 맞춰보자!\n"
   ]
  },
  {
   "cell_type": "markdown",
   "id": "c21764e6",
   "metadata": {},
   "source": [
    "### (1) 데이터 가져오기\n",
    "- sklearn.datasets의 load_diabetes에서 데이터를 가져와주세요.\n",
    "- diabetes의 data를 df_X에, target을 df_y에 저장해주세요.\n"
   ]
  },
  {
   "cell_type": "code",
   "execution_count": 4,
   "id": "7666e37a",
   "metadata": {},
   "outputs": [],
   "source": [
    "from sklearn.datasets import load_diabetes\n",
    "\n",
    "diabetes = load_diabetes()"
   ]
  },
  {
   "cell_type": "code",
   "execution_count": 5,
   "id": "d580d650",
   "metadata": {},
   "outputs": [],
   "source": [
    "df_X = diabetes.data\n",
    "df_y = diabetes.target"
   ]
  },
  {
   "cell_type": "markdown",
   "id": "1ccc0640",
   "metadata": {},
   "source": [
    "### (2) 모델에 입력할 데이터 X 준비하기\n",
    "- df_X에 있는 값들을 numpy array로 변환해서 저장해주세요."
   ]
  },
  {
   "cell_type": "code",
   "execution_count": 7,
   "id": "1d3d9b6c",
   "metadata": {},
   "outputs": [],
   "source": [
    "import numpy as np\n",
    "\n",
    "df_X = np.array(df_X)\n",
    "df_X.shape"
   ]
  },
  {
   "cell_type": "markdown",
   "id": "8eab8625",
   "metadata": {},
   "source": [
    "### (3) 모델에 예측할 데이터 y 준비하기\n",
    "- df_y에 있는 값들을 numpy array로 변환해서 저장해주세요."
   ]
  },
  {
   "cell_type": "code",
   "execution_count": 11,
   "id": "3ccf4d53",
   "metadata": {},
   "outputs": [],
   "source": [
    "df_y = np.array(df_y)"
   ]
  },
  {
   "cell_type": "markdown",
   "id": "7c8e6ddf",
   "metadata": {},
   "source": [
    "### (4) train 데이터와 test 데이터로 분리하기\n",
    "- X와 y 데이터를 각각 train 데이터와 test 데이터로 분리해주세요."
   ]
  },
  {
   "cell_type": "code",
   "execution_count": 21,
   "id": "bbe283b8",
   "metadata": {},
   "outputs": [],
   "source": [
    "from sklearn.model_selection import train_test_split\n",
    "\n",
    "X_train, X_test, y_train, y_test = train_test_split(df_X, df_y, test_size=0.2, random_state=123)\n",
    "\n",
    "print(f\"전체 학습 데이터: {df_X.shape} 레이블: {df_y.shape}\")\n",
    "print(f\"학습 데이터: {X_train.shape} 레이블: {y_train.shape}\")\n",
    "print(f\"테스트 데이터: {X_test.shape} 레이블: {y_test.shape}\")"
   ]
  },
  {
   "cell_type": "markdown",
   "id": "13460c82",
   "metadata": {},
   "source": [
    "### (5) 모델 준비하기\n",
    "- 입력 데이터 개수에 맞는 가중치 W와 b를 준비해주세요.\n",
    "- 모델 함수를 구현해주세요."
   ]
  },
  {
   "cell_type": "code",
   "execution_count": 26,
   "id": "2375e6ff",
   "metadata": {},
   "outputs": [],
   "source": [
    "W = np.ones(shape=(10,))\n",
    "b = 0"
   ]
  },
  {
   "cell_type": "markdown",
   "id": "37377c8d",
   "metadata": {},
   "source": [
    "### (6) 손실함수 loss 정의하기\n",
    "- 손실함수를 MSE 함수로 정의해주세요."
   ]
  },
  {
   "cell_type": "code",
   "execution_count": 85,
   "id": "37ddbdcc",
   "metadata": {},
   "outputs": [],
   "source": [
    "def loss(y, y_pred):\n",
    "    return ((y_pred - y) ** 2).mean()"
   ]
  },
  {
   "cell_type": "markdown",
   "id": "43471d65",
   "metadata": {},
   "source": [
    "### (7) 기울기를 구하는 gradient 함수 구현하기\n",
    "- 기울기를 계산하는 gradient 함수를 구현해주세요."
   ]
  },
  {
   "cell_type": "code",
   "execution_count": 152,
   "id": "d108cd70",
   "metadata": {},
   "outputs": [],
   "source": [
    "def gradient(x, y, y_pred):\n",
    "    error = y_pred - y\n",
    "    w_grad = 2 * np.dot(x.T, error) / len(y)\n",
    "    b_grad = 2 * error.mean()\n",
    "    return w_grad, b_grad"
   ]
  },
  {
   "cell_type": "markdown",
   "id": "8e40706b",
   "metadata": {},
   "source": [
    "### (8) 하이퍼 파라미터인 학습률 설정하기\n",
    "- 학습률, learning rate 를 설정해주세요\n",
    "- 만약 학습이 잘 되지 않는다면 learning rate 값을 한번 여러 가지로 설정하며 실험해 보세요.\n"
   ]
  },
  {
   "cell_type": "code",
   "execution_count": 153,
   "id": "89b6ec16",
   "metadata": {},
   "outputs": [],
   "source": [
    "learning_rate = 0.5"
   ]
  },
  {
   "cell_type": "markdown",
   "id": "f66b595d",
   "metadata": {},
   "source": [
    "### (9) 모델 학습하기\n",
    "- 정의된 손실함수와 기울기 함수로 모델을 학습해주세요.\n",
    "- loss값이 충분히 떨어질 때까지 학습을 진행해주세요.\n",
    "- 입력하는 데이터인 X에 들어가는 특성 컬럼들을 몇 개 빼도 괜찮습니다. 다양한 데이터로 실험해 보세요.\n"
   ]
  },
  {
   "cell_type": "code",
   "execution_count": 154,
   "id": "df7b5f7e",
   "metadata": {},
   "outputs": [],
   "source": [
    "epochs = 10"
   ]
  },
  {
   "cell_type": "code",
   "execution_count": 155,
   "id": "0e92bb1f",
   "metadata": {},
   "outputs": [],
   "source": [
    "losses = []\n",
    "weight_history = []\n",
    "bias_history = []"
   ]
  },
  {
   "cell_type": "code",
   "execution_count": 157,
   "id": "356fe928",
   "metadata": {},
   "outputs": [
    {
     "name": "stdout",
     "output_type": "stream",
     "text": [
      "epoch 1, loss: 0\n",
      "epoch 2, loss: 0\n",
      "epoch 3, loss: 0\n",
      "epoch 4, loss: 0\n",
      "epoch 5, loss: 0\n",
      "epoch 6, loss: 0\n",
      "epoch 7, loss: 0\n",
      "epoch 8, loss: 0\n",
      "epoch 9, loss: 0\n",
      "epoch 10, loss: 0\n"
     ]
    }
   ],
   "source": [
    "for epoch in range(epochs):\n",
    "    \n",
    "    # 예측값 계산\n",
    "    y_pred = np.dot(X_train, W) + b\n",
    "\n",
    "    # 손실 계산\n",
    "    l = loss(y_train, y_pred)\n",
    "    \n",
    "    # 기울기 계산\n",
    "    w_grad, b_grad = gradient(X_train, y_train, y_pred)\n",
    "    l = 0\n",
    "    \n",
    "    # 가중치와 편향 업데이트\n",
    "    W -= learning_rate * w_grad\n",
    "    b -= learning_rate * b_grad\n",
    "\n",
    "    print(f'epoch {epoch + 1}, loss: {l}')\n",
    "\n",
    "    # 손실 및 가중치 저장\n",
    "    losses.append(l)\n",
    "    weight_history.append(W.copy())\n",
    "    bias_history.append(b)"
   ]
  },
  {
   "cell_type": "code",
   "execution_count": 158,
   "id": "6acc35f4",
   "metadata": {
    "scrolled": true
   },
   "outputs": [
    {
     "name": "stdout",
     "output_type": "stream",
     "text": [
      "epoch 1, loss: 5103.897672263694\n",
      "epoch 2, loss: 5077.2103121491955\n",
      "epoch 3, loss: 5050.951888265126\n",
      "epoch 4, loss: 5025.114791349792\n",
      "epoch 5, loss: 4999.691551258295\n",
      "epoch 6, loss: 4974.674834396143\n",
      "epoch 7, loss: 4950.057441200323\n",
      "epoch 8, loss: 4925.832303666974\n",
      "epoch 9, loss: 4901.992482924797\n",
      "epoch 10, loss: 4878.531166853346\n",
      "최종 가중치: [ 18.25287577   5.56341593  62.4175868   44.46440065  18.63171347\n",
      "  15.85459946 -42.27399597  46.3415227   57.42429347  42.67407756]\n",
      "최종 편향: 152.37294639507755\n"
     ]
    }
   ],
   "source": [
    "for epoch in range(epochs):\n",
    "\n",
    "    # 예측값 계산\n",
    "    y_pred = np.dot(X_train, W) + b\n",
    "\n",
    "    # 손실 계산\n",
    "    l = loss(y_train, y_pred)\n",
    "\n",
    "    # 기울기 계산\n",
    "    w_grad, b_grad = gradient(X_train, y_train, y_pred)\n",
    "\n",
    "\n",
    "    # 가중치와 편향 업데이트\n",
    "    W -= learning_rate * w_grad\n",
    "    b -= learning_rate * b_grad\n",
    "\n",
    "    print(f'epoch {epoch + 1}, loss: {l}')\n",
    "\n",
    "\n",
    "    # 손실 및 가중치 저장\n",
    "    losses.append(l)\n",
    "    weight_history.append(W.copy())\n",
    "    bias_history.append(b)\n",
    "\n",
    "\n",
    "print(\"최종 가중치:\", W)\n",
    "print(\"최종 편향:\", b)"
   ]
  },
  {
   "cell_type": "markdown",
   "id": "eb1b9082",
   "metadata": {},
   "source": [
    "### (10) test 데이터에 대한 성능 확인하기\n",
    "- test 데이터에 대한 성능을 확인해주세요.\n"
   ]
  },
  {
   "cell_type": "code",
   "execution_count": 166,
   "id": "83613506",
   "metadata": {},
   "outputs": [],
   "source": [
    "y_pred = np.dot(X_test, W) + b"
   ]
  },
  {
   "cell_type": "code",
   "execution_count": 167,
   "id": "9825544d",
   "metadata": {
    "scrolled": false
   },
   "outputs": [
    {
     "data": {
      "text/plain": [
       "array([185., 150., 246., 184., 110., 202., 336.,  69.,  69.,  87.,  66.,\n",
       "       164., 265., 198., 248., 171., 102., 182., 262., 233., 151., 275.,\n",
       "       230.,  39.,  42., 122.,  81.,  31., 156., 161.,  80., 215., 310.,\n",
       "       163., 265.,  84.,  54., 137., 248.,  72., 248.,  59.,  97.,  61.,\n",
       "        72., 296.,  55.,  75.,  53., 173., 158.,  96., 140., 186.,  93.,\n",
       "       123., 237., 138., 292.,  78., 182., 127., 321., 109., 212.,  45.,\n",
       "        96., 109.,  89.,  96.,  60.,  51., 200., 265.,  68.,  91., 172.,\n",
       "       115., 125.,  53.,  63., 259., 214., 195., 258., 235., 173.,  59.,\n",
       "       219.])"
      ]
     },
     "execution_count": 167,
     "metadata": {},
     "output_type": "execute_result"
    }
   ],
   "source": [
    "y_test"
   ]
  },
  {
   "cell_type": "code",
   "execution_count": 168,
   "id": "d85648ba",
   "metadata": {},
   "outputs": [
    {
     "data": {
      "text/plain": [
       "5293.843653602478"
      ]
     },
     "execution_count": 168,
     "metadata": {},
     "output_type": "execute_result"
    }
   ],
   "source": [
    "loss(y_test, y_pred)"
   ]
  },
  {
   "cell_type": "markdown",
   "id": "9a081da4",
   "metadata": {},
   "source": [
    "### (11) 정답 데이터와 예측한 데이터 시각화하기\n",
    "- x축에는 X 데이터의 첫 번째 컬럼을, y축에는 정답인 target 데이터를 넣어서 모델이 예측한 데이터를 시각화해 주세요."
   ]
  },
  {
   "cell_type": "code",
   "execution_count": 169,
   "id": "7140f5ac",
   "metadata": {},
   "outputs": [
    {
     "data": {
      "image/png": "[encoded data removed]",
      "text/plain": [
       "<Figure size 720x432 with 1 Axes>"
      ]
     },
     "metadata": {
      "needs_background": "light"
     },
     "output_type": "display_data"
    }
   ],
   "source": [
    "plt.figure(figsize=(10, 6))\n",
    "plt.scatter(X_test[:, 0], y_test, color='blue', label='Actual')\n",
    "plt.scatter(X_test[:, 0], y_pred, color='red', label='Predicted')\n",
    "\n",
    "plt.xlabel('X_train 첫 번째 컬럼')\n",
    "plt.ylabel('Target 값')\n",
    "plt.title('예측 vs 실제 값')\n",
    "\n",
    "plt.legend()\n",
    "plt.show()"
   ]
  },
  {
   "cell_type": "code",
   "execution_count": null,
   "id": "7f549fc3",
   "metadata": {},
   "outputs": [],
   "source": []
  }
 ],
 "metadata": {
  "kernelspec": {
   "display_name": "Python 3 (ipykernel)",
   "language": "python",
   "name": "python3"
  },
  "language_info": {
   "codemirror_mode": {
    "name": "ipython",
    "version": 3
   },
   "file_extension": ".py",
   "mimetype": "text/x-python",
   "name": "python",
   "nbconvert_exporter": "python",
   "pygments_lexer": "ipython3",
   "version": "3.9.7"
  }
 },
 "nbformat": 4,
 "nbformat_minor": 5
}
