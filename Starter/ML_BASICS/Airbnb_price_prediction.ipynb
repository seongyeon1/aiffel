{
 "cells": [
  {
   "cell_type": "markdown",
   "metadata": {
    "id": "ySTMVUAR458d"
   },
   "source": [
    "# 머신러닝 프로젝트"
   ]
  },
  {
   "cell_type": "markdown",
   "metadata": {
    "id": "KWE9ZloU48sf"
   },
   "source": [
    "## Airbnb (New York City)\n",
    "- 미국 NYC Airbnb 목록(2019)\n",
    "- 데이터 출처:https://www.kaggle.com/datasets/dgomonov/new-york-city-airbnb-open-data (License CC0: Public Domain)\n",
    "- 프로젝트 목적: 가격 예측(price)\n",
    "- 제공 데이터(3개): train.csv, test.csv, y_test(최종 채점용)\n",
    "- 평가 방식: MSE\n"
   ]
  },
  {
   "cell_type": "code",
   "execution_count": 1,
   "metadata": {
    "executionInfo": {
     "elapsed": 274,
     "status": "ok",
     "timestamp": 1654407659997,
     "user": {
      "displayName": "Tae Heon Kim",
      "userId": "07653788752262629837"
     },
     "user_tz": -540
    },
    "id": "UHaAsvYa9jAX"
   },
   "source": [
    "# 라이브러리 \n",
    "import pandas as pd"
   ],
   "outputs": []
  },
  {
   "cell_type": "code",
   "execution_count": 2,
   "metadata": {
    "executionInfo": {
     "elapsed": 418,
     "status": "ok",
     "timestamp": 1654407660942,
     "user": {
      "displayName": "Tae Heon Kim",
      "userId": "07653788752262629837"
     },
     "user_tz": -540
    },
    "id": "b8ar8Ohk_h4Z"
   },
   "source": [
    "# 데이터 불러오기\n",
    "train = pd.read_csv('../data/train.csv')\n",
    "test = pd.read_csv('../data/test.csv')"
   ],
   "outputs": []
  },
  {
   "cell_type": "markdown",
   "metadata": {
    "id": "1BPuoeckATA3"
   },
   "source": [
    "## EDA"
   ]
  },
  {
   "cell_type": "code",
   "execution_count": 3,
   "metadata": {
    "colab": {
     "base_uri": "https://localhost:8080/"
    },
    "executionInfo": {
     "elapsed": 21,
     "status": "ok",
     "timestamp": 1654407660942,
     "user": {
      "displayName": "Tae Heon Kim",
      "userId": "07653788752262629837"
     },
     "user_tz": -540
    },
    "id": "3URb2ddyAHMc",
    "outputId": "10dc3207-23ca-4479-fced-6044e844d28e"
   },
   "source": [
    "# 데이터 크기\n",
    "train.shape, test.shape"
   ],
   "outputs": []
  },
  {
   "cell_type": "code",
   "execution_count": 4,
   "metadata": {
    "colab": {
     "base_uri": "https://localhost:8080/",
     "height": 531
    },
    "executionInfo": {
     "elapsed": 20,
     "status": "ok",
     "timestamp": 1654407660943,
     "user": {
      "displayName": "Tae Heon Kim",
      "userId": "07653788752262629837"
     },
     "user_tz": -540
    },
    "id": "BwkRFT7oART_",
    "outputId": "4781f6ff-d9b7-476c-aad4-a771ccaccae9"
   },
   "source": [
    "# 데이터 샘플\n",
    "display(train.head(2))\n",
    "display(test.head(2))"
   ],
   "outputs": []
  },
  {
   "cell_type": "markdown",
   "metadata": {
    "id": "0DlUNAusB8Qr"
   },
   "source": [
    "## 데이터 전처리"
   ]
  },
  {
   "cell_type": "code",
   "execution_count": 5,
   "metadata": {},
   "source": [
    "# Importing necessary libraries for analysing the dataset\n",
    "import numpy as np\n",
    "import pandas as pd\n",
    "import matplotlib.pyplot as plt\n",
    "import seaborn as sns\n",
    "%matplotlib inline"
   ],
   "outputs": []
  },
  {
   "cell_type": "code",
   "execution_count": 6,
   "metadata": {
    "executionInfo": {
     "elapsed": 37,
     "status": "ok",
     "timestamp": 1654407661723,
     "user": {
      "displayName": "Tae Heon Kim",
      "userId": "07653788752262629837"
     },
     "user_tz": -540
    },
    "id": "-aYOjQUGDVwV"
   },
   "source": [
    "# 결측치 컬럼 삭제 (last_review)\n",
    "train = train.drop('last_review', axis=1)\n",
    "test = test.drop('last_review', axis=1)"
   ],
   "outputs": []
  },
  {
   "cell_type": "code",
   "execution_count": 7,
   "metadata": {
    "executionInfo": {
     "elapsed": 37,
     "status": "ok",
     "timestamp": 1654407661724,
     "user": {
      "displayName": "Tae Heon Kim",
      "userId": "07653788752262629837"
     },
     "user_tz": -540
    },
    "id": "2eZXEkTNDpjJ"
   },
   "source": [
    "# 결측치 채우기\n",
    "train['reviews_per_month'].fillna(0, inplace = True)\n",
    "test['reviews_per_month'].fillna(0, inplace = True)\n",
    "\n",
    "train.fillna('Absent', inplace = True)\n",
    "test.fillna('Absent', inplace = True)"
   ],
   "outputs": []
  },
  {
   "cell_type": "code",
   "execution_count": 8,
   "metadata": {
    "colab": {
     "base_uri": "https://localhost:8080/"
    },
    "executionInfo": {
     "elapsed": 39,
     "status": "ok",
     "timestamp": 1654407661726,
     "user": {
      "displayName": "Tae Heon Kim",
      "userId": "07653788752262629837"
     },
     "user_tz": -540
    },
    "id": "ZmhF7Wu2EHjD",
    "outputId": "a24dcb9b-0b18-41d0-98cc-39b80402ee7f",
    "scrolled": true
   },
   "source": [
    "# 결측치 확인\n",
    "train.isnull().sum()"
   ],
   "outputs": []
  },
  {
   "cell_type": "code",
   "execution_count": 9,
   "metadata": {},
   "source": [
    "train.columns"
   ],
   "outputs": []
  },
  {
   "cell_type": "code",
   "execution_count": 10,
   "metadata": {
    "scrolled": true
   },
   "source": [
    "train.nunique()"
   ],
   "outputs": []
  },
  {
   "cell_type": "markdown",
   "metadata": {},
   "source": [
    "## Feature 분석"
   ]
  },
  {
   "cell_type": "markdown",
   "metadata": {},
   "source": [
    "### Target"
   ]
  },
  {
   "cell_type": "markdown",
   "metadata": {},
   "source": [
    "- 가격 데이터가 너무 한 쪽으로 치우쳐져 있으므로 log 변환을 한 뒤에 예측을 하고 값을 다시 되돌려준다"
   ]
  },
  {
   "cell_type": "code",
   "execution_count": 11,
   "metadata": {},
   "source": [
    "# 가격 값 복사\n",
    "target = train['price']\n",
    "train.head()"
   ],
   "outputs": []
  },
  {
   "cell_type": "code",
   "execution_count": 12,
   "metadata": {
    "scrolled": true
   },
   "source": [
    "target.hist(bins=100)"
   ],
   "outputs": []
  },
  {
   "cell_type": "code",
   "execution_count": 13,
   "metadata": {
    "colab": {
     "base_uri": "https://localhost:8080/"
    },
    "executionInfo": {
     "elapsed": 11,
     "status": "ok",
     "timestamp": 1654407661368,
     "user": {
      "displayName": "Tae Heon Kim",
      "userId": "07653788752262629837"
     },
     "user_tz": -540
    },
    "id": "4e-J3bK4QoXU",
    "outputId": "82d2df35-b8fc-4898-885e-48f3c9891467",
    "scrolled": true
   },
   "source": [
    "print(target[:3])\n",
    "print(np.log1p(target[:3]))\n",
    "print(np.expm1(np.log1p(target)[:3]))"
   ],
   "outputs": []
  },
  {
   "cell_type": "code",
   "execution_count": 14,
   "metadata": {
    "colab": {
     "base_uri": "https://localhost:8080/",
     "height": 283
    },
    "executionInfo": {
     "elapsed": 363,
     "status": "ok",
     "timestamp": 1654407661722,
     "user": {
      "displayName": "Tae Heon Kim",
      "userId": "07653788752262629837"
     },
     "user_tz": -540
    },
    "id": "GIli-YOSRZlI",
    "outputId": "1b30cedb-4225-4d16-c808-149d35e6289f"
   },
   "source": [
    "target = np.log1p(target)\n",
    "target.hist(bins=100)"
   ],
   "outputs": []
  },
  {
   "cell_type": "markdown",
   "metadata": {},
   "source": [
    "- 로그변환후 값이 정규분포에 가까워진 것을 볼 수 있다"
   ]
  },
  {
   "cell_type": "markdown",
   "metadata": {},
   "source": [
    "### 위도, 경도 활용"
   ]
  },
  {
   "cell_type": "markdown",
   "metadata": {},
   "source": [
    "- folium을 통해 지도에 시각화 하려 하였으나 구역이 제한적이고 표현이 어려울 것 같아서 scatterplot에 시각화를 하였다"
   ]
  },
  {
   "cell_type": "code",
   "execution_count": 15,
   "metadata": {},
   "source": [
    "# !pip install folium\n",
    "# import folium\n",
    "\n",
    "# m = folium.Map(location=[n_train.latitude[0], n_train.longitude[0]], zoom_start=14)\n",
    "# m"
   ],
   "outputs": []
  },
  {
   "cell_type": "code",
   "execution_count": 16,
   "metadata": {},
   "source": [
    "import seaborn as sns"
   ],
   "outputs": []
  },
  {
   "cell_type": "code",
   "execution_count": 17,
   "metadata": {
    "scrolled": true
   },
   "source": [
    "sns.scatterplot(x='latitude', y='longitude', data=train, hue='neighbourhood_group')"
   ],
   "outputs": []
  },
  {
   "cell_type": "markdown",
   "metadata": {},
   "source": [
    "- 위도와 경도에 대한 정보가 neighbourhood_group의 정보와 겹치고 오히려 가격을 예측하는 데에 neighbourhood_group 정보가 유용할 것이라 생각되어 위도와 경도는 제거를 고려해봐도 좋을 것 같다"
   ]
  },
  {
   "cell_type": "markdown",
   "metadata": {},
   "source": [
    "## neighbourhood_group 별 차이 시각화\n",
    "- 위 데이터는 지리적 위치를 나타내는 피처들이 많이 존재한다. 그중에 neighbourhood_group이 5개로 나뉘어져 있어서 시각화 하기 좋다\n",
    "- 피처의 frequency가 너무 크면 예측하는 데 유용하지 않을 가능성이 높으므로 제거하거나 합쳐주는 작업들이 필요하다\n",
    "    - neighbourhood가 합쳐져서 neighbourhood_group이 된 것으로 보이므로 neighbourhood 피처를 제거한다"
   ]
  },
  {
   "cell_type": "code",
   "execution_count": 18,
   "metadata": {},
   "source": [
    "data = train.groupby(['neighbourhood_group'])['id'].count().reset_index().rename(columns = {'id':'count'}).sort_values(by='count', ascending = False)\n",
    "data.head()"
   ],
   "outputs": []
  },
  {
   "cell_type": "code",
   "execution_count": 19,
   "metadata": {
    "scrolled": true
   },
   "source": [
    "plt.rcParams['figure.figsize'] = (12,6)\n",
    "ax = sns.barplot(x = data['neighbourhood_group'], y = data['count'], data = data)\n",
    "ax.set_xlabel('Neighbourhood Group')\n",
    "ax.set_ylabel('Number of listings')\n",
    "ax.set_title('Number of listings in each neighbourhood group')\n",
    "plt.show()"
   ],
   "outputs": []
  },
  {
   "cell_type": "code",
   "execution_count": 20,
   "metadata": {},
   "source": [
    "# Finding which neighbourhood has got maximum number of reviews. \n",
    "areas_reviews = train.groupby(['neighbourhood_group'])['number_of_reviews'].max().reset_index().sort_values(by = 'number_of_reviews', ascending = False)\n",
    "areas_reviews"
   ],
   "outputs": []
  },
  {
   "cell_type": "code",
   "execution_count": 21,
   "metadata": {},
   "source": [
    "# Visualising the number of reviews in each neighbourhood group through pie chart\n",
    "plt.rcParams['figure.figsize'] = (13,8)\n",
    "reviews = areas_reviews['number_of_reviews']\n",
    "plt.pie(reviews, labels = areas_reviews['neighbourhood_group'], autopct ='%0.2f%%', startangle =90, explode = [0.1,0.1,0.1,0.1,0.1], shadow = True )\n",
    "plt.title('Number of reviews in each neighbourhood group', {'fontsize': 18})\n",
    "plt.show()"
   ],
   "outputs": []
  },
  {
   "cell_type": "markdown",
   "metadata": {},
   "source": [
    "### 가격 분포"
   ]
  },
  {
   "cell_type": "code",
   "execution_count": 22,
   "metadata": {
    "scrolled": false
   },
   "source": [
    "plt.figure(figsize=(12,8))\n",
    "ax = sns.violinplot(x=\"neighbourhood_group\", y=\"price\", data=train).set_title('Price Distribution by neighbourhood groups')\n",
    "plt.show()"
   ],
   "outputs": []
  },
  {
   "cell_type": "code",
   "execution_count": 23,
   "metadata": {
    "scrolled": false
   },
   "source": [
    "# Now lets see the price distribution by neighbourhood gropus\n",
    "plt.figure(figsize=(12,8))\n",
    "ax = sns.violinplot(x=\"neighbourhood_group\", y=np.log1p(train.price), data=train).set_title('Log Price Distribution by neighbourhood groups')\n",
    "plt.show()"
   ],
   "outputs": []
  },
  {
   "cell_type": "code",
   "execution_count": 24,
   "metadata": {
    "scrolled": true
   },
   "source": [
    "# Plotting histogram for room types to look for which are most preferred room types.\n",
    "plt.rcParams['figure.figsize'] = (10,5)\n",
    "hp = sns.countplot(train['room_type'])\n",
    "hp.set_xlabel('Room type') \n",
    "hp.set_ylabel('Number of listings')\n",
    "plt.show()"
   ],
   "outputs": []
  },
  {
   "cell_type": "code",
   "execution_count": 25,
   "metadata": {},
   "source": [
    "plt.figure(figsize=(10, 6))\n",
    "sns.barplot(x = train['room_type'], y = train['price'], hue = train['neighbourhood_group'])\n",
    "plt.title('Average price by Room Type and Neighbourhood Group')\n",
    "plt.xlabel('Room Types')\n",
    "plt.ylabel('Average Price')\n",
    "plt.show()"
   ],
   "outputs": []
  },
  {
   "cell_type": "markdown",
   "metadata": {},
   "source": [
    "### 가장 많이 등록된 neighbourhood 10개를 시각화 해보고자 한다"
   ]
  },
  {
   "cell_type": "code",
   "execution_count": 26,
   "metadata": {},
   "source": [
    "df1 = train.groupby(['neighbourhood'])['id'].count().nlargest(10)\n",
    "df1"
   ],
   "outputs": []
  },
  {
   "cell_type": "code",
   "execution_count": 27,
   "metadata": {
    "scrolled": true
   },
   "source": [
    "# Visualizing the top 10 neighbourhood listings through bar plot\n",
    "plt.figure(figsize=(12,6))\n",
    "x = list(df1.index)\n",
    "y = list(df1.values)\n",
    "x.reverse()\n",
    "y.reverse()\n",
    "\n",
    "plt.title(\"Top 10 Neighbourhoods with the Most Listings\", {'fontsize':18})\n",
    "plt.ylabel(\"Neighbourhood\", {'fontsize':18})\n",
    "plt.xlabel(\"Total Listings\", {'fontsize':18})\n",
    "\n",
    "plt.barh(x, y)\n",
    "plt.show()"
   ],
   "outputs": []
  },
  {
   "cell_type": "code",
   "execution_count": 28,
   "metadata": {},
   "source": [
    "train.groupby(['neighbourhood_group', 'neighbourhood', 'room_type'])['number_of_reviews'].max().reset_index().sort_values(by = 'number_of_reviews', ascending = False).head(10)"
   ],
   "outputs": []
  },
  {
   "cell_type": "markdown",
   "metadata": {},
   "source": [
    "## 수치형 변수"
   ]
  },
  {
   "cell_type": "code",
   "execution_count": 29,
   "metadata": {
    "scrolled": false
   },
   "source": [
    "train.host_name.value_counts()"
   ],
   "outputs": []
  },
  {
   "cell_type": "code",
   "execution_count": 30,
   "metadata": {
    "scrolled": true
   },
   "source": [
    "train.host_id.value_counts().describe()"
   ],
   "outputs": []
  },
  {
   "cell_type": "markdown",
   "metadata": {},
   "source": [
    "- host_name과 host_id 모두 변수로써 큰 의미가 없어보인다\n",
    "- frequency가 너무 크기 때문 (unique 값이 너무 많다)\n",
    "- host_name은 동명이인일 가능성이 높아보임\n",
    "- 변수를 통해 파생변수 생성하여 사용"
   ]
  },
  {
   "cell_type": "code",
   "execution_count": 31,
   "metadata": {
    "executionInfo": {
     "elapsed": 37,
     "status": "ok",
     "timestamp": 1654407661728,
     "user": {
      "displayName": "Tae Heon Kim",
      "userId": "07653788752262629837"
     },
     "user_tz": -540
    },
    "id": "xNP-SnrcB_HK"
   },
   "source": [
    "# 수치형 데이터와 범주형 데이터 분리 \n",
    "n_train = train.select_dtypes(exclude='object').copy()\n",
    "c_train = train.select_dtypes(include='object').copy()\n",
    "n_test = test.select_dtypes(exclude='object').copy()\n",
    "c_test = test.select_dtypes(include='object').copy()"
   ],
   "outputs": []
  },
  {
   "cell_type": "code",
   "execution_count": 32,
   "metadata": {},
   "source": [
    "n_train.columns"
   ],
   "outputs": []
  },
  {
   "cell_type": "code",
   "execution_count": 33,
   "metadata": {
    "scrolled": true
   },
   "source": [
    "n_train.head()"
   ],
   "outputs": []
  },
  {
   "cell_type": "markdown",
   "metadata": {},
   "source": [
    "### 수치형 변수와 target 값과의 상관관계 분석"
   ]
  },
  {
   "cell_type": "code",
   "execution_count": 34,
   "metadata": {
    "scrolled": false
   },
   "source": [
    "sns.heatmap(n_train.loc[:,n_train.columns.str.contains('id') == False].corr().round(2), annot=True)"
   ],
   "outputs": []
  },
  {
   "cell_type": "code",
   "execution_count": 35,
   "metadata": {},
   "source": [
    "n_train['price'] = np.log1p(n_train['price'])"
   ],
   "outputs": []
  },
  {
   "cell_type": "code",
   "execution_count": 36,
   "metadata": {
    "scrolled": false
   },
   "source": [
    "sns.heatmap(n_train.loc[:,n_train.columns.str.contains('id') == False].corr().round(2), annot=True)"
   ],
   "outputs": []
  },
  {
   "cell_type": "markdown",
   "metadata": {},
   "source": [
    "- `target값과 변수 간의 상관관계`\n",
    "    - price와 longitude의 상관관계가 상당히 높은 것으로 보아 경도 관련 변수를 제거하면 예측력이 낮아질 수도 있을 것으로 보인다\n",
    "- `변수들 간의 상관관계`\n",
    "    - number_of_reviews와 reviews_per_month간의 상관관계가 높다. (0.59)\n",
    "    - 이는 review에 대한 정보이므로 상관관계가 높을 수 밖에 없는 변수이다.\n",
    "    - 둘 중 하나의 변수를 사용하거나 PCA 등의 방법을 통해 변수를 축소시킨다"
   ]
  },
  {
   "cell_type": "code",
   "execution_count": 37,
   "metadata": {},
   "source": [
    "n_train.drop('price', axis=1, inplace=True)"
   ],
   "outputs": []
  },
  {
   "cell_type": "code",
   "execution_count": 38,
   "metadata": {},
   "source": [
    "n_train.head()"
   ],
   "outputs": []
  },
  {
   "cell_type": "code",
   "execution_count": 39,
   "metadata": {},
   "source": [
    "n_train.hist()"
   ],
   "outputs": []
  },
  {
   "cell_type": "code",
   "execution_count": 40,
   "metadata": {
    "scrolled": true
   },
   "source": [
    "np.log1p(n_train).hist()"
   ],
   "outputs": []
  },
  {
   "cell_type": "code",
   "execution_count": 41,
   "metadata": {
    "scrolled": true
   },
   "source": [
    "n_train.columns"
   ],
   "outputs": []
  },
  {
   "cell_type": "markdown",
   "metadata": {},
   "source": [
    "### 예측력을 높이기 위해 skewness가 높아보이는 데이터들의 경우는 log변환을 해준다"
   ]
  },
  {
   "cell_type": "code",
   "execution_count": 42,
   "metadata": {
    "scrolled": true
   },
   "source": [
    "log_cols = ['minimum_nights',\n",
    "       'number_of_reviews', 'reviews_per_month',\n",
    "       'calculated_host_listings_count', 'availability_365']\n",
    "\n",
    "n_train[log_cols] = np.log1p(n_train[log_cols])\n",
    "n_test[log_cols] = np.log1p(n_test[log_cols])"
   ],
   "outputs": []
  },
  {
   "cell_type": "code",
   "execution_count": 44,
   "metadata": {},
   "source": [
    "n_train.hist()"
   ],
   "outputs": []
  },
  {
   "cell_type": "code",
   "execution_count": 45,
   "metadata": {},
   "source": [
    "n_train.drop(['id','host_id'], axis=1, inplace=True)\n",
    "n_test.drop(['id','host_id'], axis=1, inplace=True)"
   ],
   "outputs": []
  },
  {
   "cell_type": "code",
   "execution_count": 46,
   "metadata": {
    "scrolled": true
   },
   "source": [
    "# 수치형 변수\n",
    "from sklearn.preprocessing import MinMaxScaler\n",
    "scaler = MinMaxScaler()"
   ],
   "outputs": []
  },
  {
   "cell_type": "code",
   "execution_count": 47,
   "metadata": {},
   "source": [
    "cols = n_train.columns"
   ],
   "outputs": []
  },
  {
   "cell_type": "code",
   "execution_count": 48,
   "metadata": {},
   "source": [
    "n_train = scaler.fit_transform(n_train)\n",
    "n_test = scaler.transform(n_test)\n",
    "\n",
    "n_train = pd.DataFrame(n_train, columns = cols)\n",
    "n_test = pd.DataFrame(n_test, columns = cols)"
   ],
   "outputs": []
  },
  {
   "cell_type": "markdown",
   "metadata": {},
   "source": [
    "## 범주형 변수"
   ]
  },
  {
   "cell_type": "markdown",
   "metadata": {},
   "source": [
    "- 에어비엔비 사용자라고 생각했을 때 아무래도 name이 수요(인기도)에 영향을 미치기도 할 것이고 가격 예측의 중요한 요인으로 보여진다\n",
    "- `name` 피처 : 자연어 처리를 통해 300개의 피처로 백터화 후 칼럼으로 이용한다"
   ]
  },
  {
   "cell_type": "code",
   "execution_count": 49,
   "metadata": {},
   "source": [
    "import nltk\n",
    "from nltk.corpus import stopwords\n",
    "from nltk.tokenize import word_tokenize\n",
    "from nltk.stem import WordNetLemmatizer\n",
    "import re\n",
    "from wordcloud import WordCloud"
   ],
   "outputs": []
  },
  {
   "cell_type": "code",
   "execution_count": 50,
   "metadata": {
    "scrolled": true
   },
   "source": [
    "c_train"
   ],
   "outputs": []
  },
  {
   "cell_type": "code",
   "execution_count": 51,
   "metadata": {},
   "source": [
    "def remove_characters(text):\n",
    "    text = re.sub(r'[^\\w\\s]', '', text)\n",
    "    return text\n",
    "\n",
    "def remove_stopwords(text):\n",
    "    stop_words = set(stopwords.words('english'))\n",
    "    tokens = [word for word in word_tokenize(text) if word.lower() not in stop_words]\n",
    "    return ' '.join(tokens)\n",
    "\n",
    "def lemmatize_text(text):\n",
    "    lemmatizer = WordNetLemmatizer()\n",
    "    lemmatized_tokens = [lemmatizer.lemmatize(word) for word in word_tokenize(text)]\n",
    "    return ' '.join(lemmatized_tokens)\n"
   ],
   "outputs": []
  },
  {
   "cell_type": "code",
   "execution_count": 52,
   "metadata": {},
   "source": [
    "nltk.download('stopwords')"
   ],
   "outputs": []
  },
  {
   "cell_type": "code",
   "execution_count": 53,
   "metadata": {},
   "source": [
    "nltk.download('punkt')"
   ],
   "outputs": []
  },
  {
   "cell_type": "code",
   "execution_count": 54,
   "metadata": {},
   "source": [
    "# text preprocessing\n",
    "\n",
    "c_train['name'].fillna('', inplace=True)\n",
    "c_train['name'] = c_train['name'].apply(lambda x: x.lower())\n",
    "c_train['name'] = c_train['name'].apply(lambda x: remove_stopwords(x))\n",
    "c_train['name'] = c_train['name'].apply(lambda x: remove_characters(x))"
   ],
   "outputs": []
  },
  {
   "cell_type": "code",
   "execution_count": 55,
   "metadata": {},
   "source": [
    "# wordcloud representation\n",
    "corpus = ' '.join(c_train['name'])\n",
    "\n",
    "wordcloud = WordCloud(width=800, height=400, background_color='white').generate(corpus)\n",
    "\n",
    "plt.figure(figsize=(10, 5))\n",
    "plt.imshow(wordcloud, interpolation='bilinear')\n",
    "plt.axis('off')\n",
    "plt.show()"
   ],
   "outputs": []
  },
  {
   "cell_type": "markdown",
   "metadata": {},
   "source": [
    "## Extracting features/vectors"
   ]
  },
  {
   "cell_type": "code",
   "execution_count": 56,
   "metadata": {},
   "source": [
    "!pip uninstall spacy -y"
   ],
   "outputs": []
  },
  {
   "cell_type": "code",
   "execution_count": 57,
   "metadata": {},
   "source": [
    "!pip install spacy\n",
    "!python -m spacy download en_core_web_md"
   ],
   "outputs": []
  },
  {
   "cell_type": "code",
   "execution_count": 58,
   "metadata": {
    "scrolled": true
   },
   "source": [
    "import spacy"
   ],
   "outputs": []
  },
  {
   "cell_type": "code",
   "execution_count": 60,
   "metadata": {},
   "source": [
    "# feature engineering\n",
    "nlp = spacy.load('en_core_web_md')\n",
    "\n",
    "c_train['vectors'] = c_train['name'].apply(lambda x:nlp(x).vector)\n",
    "c_test['vectors'] = c_test['name'].apply(lambda x:nlp(x).vector)"
   ],
   "outputs": []
  },
  {
   "cell_type": "code",
   "execution_count": 63,
   "metadata": {},
   "source": [
    "v_train = c_train['vectors'].copy()\n",
    "v_test = c_test['vectors'].copy()"
   ],
   "outputs": []
  },
  {
   "cell_type": "markdown",
   "metadata": {},
   "source": [
    "- 나머지 범주형 변수들은 label encoding을 진행한다."
   ]
  },
  {
   "cell_type": "code",
   "execution_count": 64,
   "metadata": {},
   "source": [
    "# 범주형 변수\n",
    "from sklearn.preprocessing import LabelEncoder\n",
    "le = LabelEncoder()\n",
    "cols = [\n",
    "        'neighbourhood_group',\n",
    "        'neighbourhood',\n",
    "        'room_type'\n",
    "        ]\n",
    "\n",
    "for col in cols:\n",
    "    c_train[col] = le.fit_transform(c_train[col])\n",
    "    c_test[col] = le.transform(c_test[col])\n",
    "\n",
    "del_cols =['name','host_name']\n",
    "c_train = c_train.drop(del_cols, axis=1)\n",
    "c_test = c_test.drop(del_cols, axis=1)"
   ],
   "outputs": []
  },
  {
   "cell_type": "markdown",
   "metadata": {},
   "source": [
    "## 분리한 데이터 다시 합침"
   ]
  },
  {
   "cell_type": "code",
   "execution_count": 65,
   "metadata": {},
   "source": [
    "xf = pd.concat([n_train, c_train], axis=1)\n",
    "test = pd.concat([n_test, c_test], axis=1)\n",
    "print(train.shape, test.shape)\n",
    "train.head()"
   ],
   "outputs": []
  },
  {
   "cell_type": "code",
   "execution_count": 69,
   "metadata": {},
   "source": [
    "train.head()"
   ],
   "outputs": []
  },
  {
   "cell_type": "code",
   "execution_count": 66,
   "metadata": {},
   "source": [
    "target"
   ],
   "outputs": []
  },
  {
   "cell_type": "code",
   "execution_count": 70,
   "metadata": {},
   "source": [
    "df = train.copy()\n",
    "df['price'] = target"
   ],
   "outputs": []
  },
  {
   "cell_type": "code",
   "execution_count": 71,
   "metadata": {},
   "source": [
    "# splitting dat into dependent and independent variables\n",
    "X = df[['neighbourhood_group', 'room_type', 'minimum_nights',\n",
    "        'number_of_reviews', 'reviews_per_month',\n",
    "        'calculated_host_listings_count', 'availability_365']]\n",
    "y = df['price']"
   ],
   "outputs": []
  },
  {
   "cell_type": "code",
   "execution_count": 72,
   "metadata": {},
   "source": [
    "text_vector_dimensions = pd.DataFrame(df['vectors'].to_list(), columns=[f'text_dim_{i}' for i in range(300)])  # Assuming 300 dimensions\n",
    "X = pd.concat([X, text_vector_dimensions], axis=1)"
   ],
   "outputs": []
  },
  {
   "cell_type": "code",
   "execution_count": 74,
   "metadata": {},
   "source": [
    "X_test = test[['neighbourhood_group', 'room_type', 'minimum_nights',\n",
    "        'number_of_reviews', 'reviews_per_month',\n",
    "        'calculated_host_listings_count', 'availability_365']]\n",
    "text_vector_dimensions = pd.DataFrame(test['vectors'].to_list(), columns=[f'text_dim_{i}' for i in range(300)])  # Assuming 300 dimensions\n",
    "X_test = pd.concat([X_test, text_vector_dimensions], axis=1)"
   ],
   "outputs": []
  },
  {
   "cell_type": "code",
   "execution_count": 75,
   "metadata": {},
   "source": [
    "X.shape, X_test.shape"
   ],
   "outputs": []
  },
  {
   "cell_type": "markdown",
   "metadata": {
    "id": "CJ_v5LsbBJDz"
   },
   "source": [
    "## 검증 데이터 분리"
   ]
  },
  {
   "cell_type": "code",
   "execution_count": 77,
   "metadata": {
    "colab": {
     "base_uri": "https://localhost:8080/"
    },
    "executionInfo": {
     "elapsed": 257,
     "status": "ok",
     "timestamp": 1654407696859,
     "user": {
      "displayName": "Tae Heon Kim",
      "userId": "07653788752262629837"
     },
     "user_tz": -540
    },
    "id": "IHaYuF40BLJY",
    "outputId": "5888e9f3-2878-4c63-bf29-6bea194a5bf0"
   },
   "source": [
    "# 검증 데이터 분리\n",
    "from sklearn.model_selection import train_test_split\n",
    "\n",
    "X_train, X_val, y_train, y_val = train_test_split(X, y, test_size=0.2, random_state=2022)\n",
    "X_train.shape, X_val.shape, y_train.shape, y_val.shape"
   ],
   "outputs": []
  },
  {
   "cell_type": "markdown",
   "metadata": {
    "id": "0vuCvtU_B4Nb"
   },
   "source": [
    "## 머신러닝"
   ]
  },
  {
   "cell_type": "code",
   "execution_count": 78,
   "metadata": {},
   "source": [
    "# Linear Regression\n",
    "from sklearn.linear_model import LinearRegression\n",
    "from sklearn.metrics import mean_squared_error\n",
    "\n",
    "lr_model = LinearRegression()\n",
    "lr_model.fit(X_train, y_train)\n",
    "pred = lr_model.predict(X_val)\n",
    "\n",
    "pred = np.expm1(pred)\n",
    "mean_squared_error(y_val, pred)"
   ],
   "outputs": []
  },
  {
   "cell_type": "code",
   "execution_count": 79,
   "metadata": {},
   "source": [
    "# Ridge\n",
    "from sklearn.linear_model import Ridge\n",
    "\n",
    "ridge = Ridge()\n",
    "ridge.fit(X_train, y_train)\n",
    "\n",
    "pred=ridge.predict(X_val)\n",
    "pred = np.expm1(pred)\n",
    "mean_squared_error(y_val, pred)"
   ],
   "outputs": []
  },
  {
   "cell_type": "code",
   "execution_count": 80,
   "metadata": {},
   "source": [
    "# Lasso\n",
    "from sklearn.linear_model import Lasso\n",
    "\n",
    "lasso = Lasso(alpha=10,max_iter = 10000)\n",
    "lasso.fit(X_train, y_train)\n",
    "\n",
    "pred = lasso.predict(X_val)\n",
    "pred = np.expm1(pred)\n",
    "mean_squared_error(y_val, pred)"
   ],
   "outputs": []
  },
  {
   "cell_type": "code",
   "execution_count": 81,
   "metadata": {
    "colab": {
     "base_uri": "https://localhost:8080/"
    },
    "executionInfo": {
     "elapsed": 45082,
     "status": "ok",
     "timestamp": 1654408150815,
     "user": {
      "displayName": "Tae Heon Kim",
      "userId": "07653788752262629837"
     },
     "user_tz": -540
    },
    "id": "rJ8ECneaG3dc",
    "outputId": "a12c41e2-4a17-4610-c4fc-30ce62d556b8"
   },
   "source": [
    "# 랜덤포레스트\n",
    "from sklearn.ensemble import RandomForestRegressor\n",
    "from sklearn.metrics import mean_squared_error\n",
    "\n",
    "rf_model = RandomForestRegressor(random_state=2022, n_estimators=200)\n",
    "rf_model.fit(X_train, y_train)\n",
    "pred = rf_model.predict(X_val)\n",
    "\n",
    "pred = np.expm1(pred)\n",
    "mean_squared_error(y_val, pred)"
   ],
   "outputs": []
  },
  {
   "cell_type": "code",
   "execution_count": 82,
   "metadata": {
    "colab": {
     "base_uri": "https://localhost:8080/"
    },
    "executionInfo": {
     "elapsed": 34774,
     "status": "ok",
     "timestamp": 1654408323848,
     "user": {
      "displayName": "Tae Heon Kim",
      "userId": "07653788752262629837"
     },
     "user_tz": -540
    },
    "id": "yqEzdSnSG3gV",
    "outputId": "c8ca8722-e919-4571-8388-620bef5a8f0e"
   },
   "source": [
    "# Xgboost\n",
    "from xgboost import XGBRegressor\n",
    "xgb_model = XGBRegressor(max_depth=10,\n",
    "                     learning_rate=0.02,\n",
    "                     n_estimators=500,\n",
    "                     random_state=2022)\n",
    "\n",
    "xgb_model.fit(X_train, y_train)\n",
    "pred = xgb_model.predict(X_val)\n",
    "\n",
    "pred = np.expm1(pred)\n",
    "mean_squared_error(y_val, pred)"
   ],
   "outputs": []
  },
  {
   "cell_type": "code",
   "execution_count": null,
   "metadata": {},
   "source": [
    "# # 라이브러리 불러오기\n",
    "# from sklearn.model_selection import GridSearchCV\n",
    "\n",
    "# # 하이퍼파라미터\n",
    "# params={'learning_rate':[0.07, 0.05], \n",
    "#         'max_depth':[3, 5, 7], \n",
    "#         'n_estimators':[100, 200],\n",
    "#         'subsample':[0.9, 0.8, 0.7]\n",
    "#         }\n",
    "\n",
    "# # GridSearchCV\n",
    "# grid = GridSearchCV(xgb_model, params, cv=3, n_jobs=-1)\n",
    "# grid.fit(train, target)"
   ],
   "outputs": []
  },
  {
   "cell_type": "code",
   "execution_count": null,
   "metadata": {},
   "source": [
    "# 최적의 하이퍼 파라미터를 찾음\n",
    "# grid.best_params_"
   ],
   "outputs": []
  },
  {
   "cell_type": "markdown",
   "metadata": {
    "id": "OVVOOGAkIb8R"
   },
   "source": [
    "## 채점\n",
    "- test 결과와 validation 결과가 너무 많이 달라서 train, validation과 test 데이터간의 차이가 큰 것 같음"
   ]
  },
  {
   "cell_type": "code",
   "execution_count": 85,
   "metadata": {
    "colab": {
     "base_uri": "https://localhost:8080/"
    },
    "executionInfo": {
     "elapsed": 1105,
     "status": "ok",
     "timestamp": 1654408331733,
     "user": {
      "displayName": "Tae Heon Kim",
      "userId": "07653788752262629837"
     },
     "user_tz": -540
    },
    "id": "62aQrZeyG3nb",
    "outputId": "f73e32d4-4d2e-409d-fa87-a14f3f02a4ad"
   },
   "source": [
    "# test 데이터 예측 및 평가\n",
    "y_test = pd.read_csv('../data/y_test.csv')\n",
    "\n",
    "# lasso\n",
    "pred = lasso.predict(X_test)\n",
    "pred = np.expm1(pred)\n",
    "\n",
    "mean_squared_error(y_test, pred)"
   ],
   "outputs": []
  },
  {
   "cell_type": "code",
   "execution_count": 86,
   "metadata": {
    "colab": {
     "base_uri": "https://localhost:8080/"
    },
    "executionInfo": {
     "elapsed": 1105,
     "status": "ok",
     "timestamp": 1654408331733,
     "user": {
      "displayName": "Tae Heon Kim",
      "userId": "07653788752262629837"
     },
     "user_tz": -540
    },
    "id": "62aQrZeyG3nb",
    "outputId": "f73e32d4-4d2e-409d-fa87-a14f3f02a4ad"
   },
   "source": [
    "# Xgboost\n",
    "pred = xgb_model.predict(X_test)\n",
    "pred = np.expm1(pred)\n",
    "\n",
    "mean_squared_error(y_test, pred)"
   ],
   "outputs": []
  }
 ],
 "metadata": {
  "colab": {
   "authorship_tag": "ABX9TyMwWhKBT8hxADeG/1F1qBkW",
   "name": "머신러닝_기초_노드10_프로젝트(성능향상).ipynb",
   "provenance": []
  },
  "kernelspec": {
   "display_name": "Python 3 (ipykernel)",
   "language": "python",
   "name": "python3"
  },
  "language_info": {
   "codemirror_mode": {
    "name": "ipython",
    "version": 3
   },
   "file_extension": ".py",
   "mimetype": "text/x-python",
   "name": "python",
   "nbconvert_exporter": "python",
   "pygments_lexer": "ipython3",
   "version": "3.9.7"
  }
 },
 "nbformat": 4,
 "nbformat_minor": 1
}
