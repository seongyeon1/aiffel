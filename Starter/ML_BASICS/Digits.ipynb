{
 "cells": [
  {
   "cell_type": "markdown",
   "id": "fc20ec0d",
   "metadata": {},
   "source": [
    "## load_digits : 손글씨를 분류해 봅시다"
   ]
  },
  {
   "cell_type": "code",
   "execution_count": 1,
   "id": "5ea47d65",
   "metadata": {},
   "source": [
    "import sklearn\n",
    "\n",
    "print(sklearn.__version__)"
   ],
   "outputs": []
  },
  {
   "cell_type": "markdown",
   "id": "ea994c16",
   "metadata": {},
   "source": [
    "## 1. 필요한 모듈 import하기"
   ]
  },
  {
   "cell_type": "code",
   "execution_count": 2,
   "id": "a065b4b5",
   "metadata": {},
   "source": [
    "from sklearn.datasets import load_digits\n",
    "from sklearn.model_selection import train_test_split\n",
    "from sklearn.metrics import classification_report"
   ],
   "outputs": []
  },
  {
   "cell_type": "markdown",
   "id": "5181f3c3",
   "metadata": {},
   "source": [
    "## 2. 데이터 준비\n",
    "load_digits 메서드를 사용합니다."
   ]
  },
  {
   "cell_type": "code",
   "execution_count": 9,
   "id": "f1868a04",
   "metadata": {},
   "source": [
    "from sklearn.datasets import load_digits\n",
    "\n",
    "digits = load_digits() # Dictionary 자료형과 유사한 sklearn.utils.Bunch 자료형 \n",
    "digits.keys()"
   ],
   "outputs": []
  },
  {
   "cell_type": "markdown",
   "id": "8f85c756",
   "metadata": {},
   "source": [
    "## 3. 데이터 이해하기\n",
    "지피지기면 백전불태! 다루어야 할 데이터를 자세히 살펴봅시다.\n",
    "- Feature Data 지정하기\n",
    "- Label Data 지정하기\n",
    "- Target Names 출력해 보기\n",
    "- 데이터 Describe 해 보기"
   ]
  },
  {
   "cell_type": "code",
   "execution_count": 10,
   "id": "95f15436",
   "metadata": {
    "scrolled": true
   },
   "source": [
    "digits_data = digits.data\n",
    "digits_data.shape  # (손글씨 이미지의 개수, 이미지 당 Pixel 수)"
   ],
   "outputs": []
  },
  {
   "cell_type": "code",
   "execution_count": 11,
   "id": "d433b12c",
   "metadata": {},
   "source": [
    "digits_label = digits.target # 각 이미지가 나타내는 숫자를 의미합니다.\n",
    "print(digits_label.shape)\n",
    "digits_label[:20]"
   ],
   "outputs": []
  },
  {
   "cell_type": "code",
   "execution_count": 13,
   "id": "2d668fab",
   "metadata": {},
   "source": [
    "import matplotlib.pyplot as plt\n",
    "%matplotlib inline \n",
    "# 브라우저에서 바로 그림을 볼 수 있게 해주는 역할을 합니다 \n",
    "\n",
    "plt.imshow(digits.data[0].reshape(8, 8), cmap='gray')\n",
    "plt.axis('off')\n",
    "plt.show()"
   ],
   "outputs": []
  },
  {
   "cell_type": "code",
   "execution_count": 14,
   "id": "4d5c1b0d",
   "metadata": {},
   "source": [
    "for i in range(10):\n",
    "    plt.subplot(2, 5, i+1) # 10개의 이미지를 2행 5열로 표시\n",
    "    plt.imshow(digits.data[i].reshape(8, 8), cmap='gray') \n",
    "    # plt.imshow()는 (m,n) 형태의 데이터를 입력으로 받기 때문에\n",
    "    # 데이터셋 내의 1열로 펼쳐진 64개의 데이터를 원래의 이미지 형태인 (8,8)로 복원\n",
    "    # cmap은 해당 이미지의 색상을 지정(gray는 흑백으로 출력)\n",
    "    plt.axis('off') # 축을 보이지 않게 해줍니다. \n",
    "plt.show()"
   ],
   "outputs": []
  },
  {
   "cell_type": "code",
   "execution_count": 15,
   "id": "32df34be",
   "metadata": {},
   "source": [
    "digits_label = digits.target # 각 이미지가 나타내는 숫자를 의미합니다.\n",
    "print(digits_label.shape)\n",
    "digits_label[:20]"
   ],
   "outputs": []
  },
  {
   "cell_type": "code",
   "execution_count": 22,
   "id": "30c21ae9",
   "metadata": {},
   "source": [
    "from collections import Counter"
   ],
   "outputs": []
  },
  {
   "cell_type": "code",
   "execution_count": 26,
   "id": "feaea7d2",
   "metadata": {
    "scrolled": true
   },
   "source": [
    "cnt_label = Counter(digits_label)\n",
    "cnt_label"
   ],
   "outputs": []
  },
  {
   "cell_type": "code",
   "execution_count": 25,
   "id": "ad2333d0",
   "metadata": {},
   "source": [
    "import seaborn as sns\n",
    "sns.countplot(digits_label)"
   ],
   "outputs": []
  },
  {
   "cell_type": "markdown",
   "id": "9a101688",
   "metadata": {},
   "source": [
    "## 4. train, test 데이터 분리\n",
    "모델 학습과 테스트용 문제지와 정답지를 준비해 봅시다.\n",
    "X_train, X_test, y_train, y_test를 생성하는 방법을 참고해 보세요."
   ]
  },
  {
   "cell_type": "code",
   "execution_count": 27,
   "id": "c4da7a20",
   "metadata": {},
   "source": [
    "# train, test 데이터 분리\n",
    "from sklearn.model_selection import train_test_split\n",
    "\n",
    "X_train, X_test, y_train, y_test = train_test_split(digits_data, \n",
    "                                                    digits_label, \n",
    "                                                    test_size=0.2, \n",
    "                                                    random_state=7)"
   ],
   "outputs": []
  },
  {
   "cell_type": "code",
   "execution_count": 28,
   "id": "bd0d4088",
   "metadata": {},
   "source": [
    "X_train.shape, y_train.shape\n",
    "# train의 형상정보 확인"
   ],
   "outputs": []
  },
  {
   "cell_type": "code",
   "execution_count": 29,
   "id": "7eb93bbf",
   "metadata": {},
   "source": [
    "X_test.shape, y_test.shape\n",
    "# test의 형상정보 확인"
   ],
   "outputs": []
  },
  {
   "cell_type": "code",
   "execution_count": 30,
   "id": "48fb7877",
   "metadata": {},
   "source": [
    "y_train, y_test\n",
    "# label이 잘 분리되었는지 확인"
   ],
   "outputs": []
  },
  {
   "cell_type": "markdown",
   "id": "9ae6c6c3",
   "metadata": {},
   "source": [
    "## 5. 다양한 모델로 학습시켜보기\n",
    "학습데이터 X_train, y_train 을 활용해 분류기 모델을 만들어 봅시다. 어떤 모델이 가장 좋은 성능을 보일까요?\n",
    "\n",
    "- Decision Tree 사용해 보기\n",
    "- Random Forest 사용해 보기\n",
    "- SVM 사용해 보기\n",
    "- SGD Classifier 사용해 보기\n",
    "- Logistic Regression 사용해 보기"
   ]
  },
  {
   "cell_type": "code",
   "execution_count": 31,
   "id": "cf27903b",
   "metadata": {},
   "source": [
    "# DecisionTree\n",
    "from sklearn.tree import DecisionTreeClassifier\n",
    "from sklearn.metrics import classification_report\n",
    "\n",
    "decision_tree = DecisionTreeClassifier(random_state=32)\n",
    "decision_tree.fit(X_train, y_train) \n",
    "y_pred = decision_tree.predict(X_test)\n",
    "\n",
    "print(classification_report(y_test, y_pred))"
   ],
   "outputs": []
  },
  {
   "cell_type": "code",
   "execution_count": 32,
   "id": "248fab5c",
   "metadata": {},
   "source": [
    "# RandomForest \n",
    "from sklearn.ensemble import RandomForestClassifier\n",
    "\n",
    "random_forest = RandomForestClassifier(random_state=32) # RandomForest분류기 객체를 생성\n",
    "random_forest.fit(X_train, y_train) # 훈련\n",
    "y_pred = random_forest.predict(X_test) # 예측\n",
    "\n",
    "print(classification_report(y_test, y_pred)) # 결과 지표를 확인"
   ],
   "outputs": []
  },
  {
   "cell_type": "code",
   "execution_count": 33,
   "id": "94e58652",
   "metadata": {},
   "source": [
    "# SVM\n",
    "from sklearn import svm\n",
    "svm_model = svm.SVC()\n",
    "svm_model.fit(X_train, y_train)\n",
    "y_pred = svm_model.predict(X_test)\n",
    "\n",
    "print(classification_report(y_test, y_pred)) "
   ],
   "outputs": []
  },
  {
   "cell_type": "code",
   "execution_count": 34,
   "id": "b8b912d6",
   "metadata": {},
   "source": [
    "# SGD\n",
    "from sklearn.linear_model import SGDClassifier\n",
    "sgd_model = SGDClassifier()\n",
    "\n",
    "sgd_model.fit(X_train, y_train) \n",
    "y_pred = sgd_model.predict(X_test)\n",
    "\n",
    "print(classification_report(y_test, y_pred)) "
   ],
   "outputs": []
  },
  {
   "cell_type": "code",
   "execution_count": 35,
   "id": "e6c30123",
   "metadata": {},
   "source": [
    "# Logistic Regression\n",
    "from sklearn.linear_model import LogisticRegression \n",
    "logistic_model = LogisticRegression() \n",
    "\n",
    "logistic_model.fit(X_train, y_train)\n",
    "y_pred = logistic_model.predict(X_test)\n",
    "\n",
    "print(classification_report(y_test, y_pred))"
   ],
   "outputs": []
  },
  {
   "cell_type": "markdown",
   "id": "3c9efab4",
   "metadata": {},
   "source": [
    "## 6. 모델을 평가해 보기\n",
    "학습된 모델들의 테스트데이터 예측 결과를 어떻게 해석해야 할까요? 모델의 성능을 평가하는 지표로는 무엇이 좋을까요? sklearn.metrics 에서 제공하는 평가지표 중 적절한 것을 선택해 보세요. 선택하신 이유도 설명해 주세요."
   ]
  },
  {
   "cell_type": "markdown",
   "id": "fc8adf4e",
   "metadata": {},
   "source": [
    "- 모델의 label이 꽤 균형적이므로 accuracy를 이용한다"
   ]
  },
  {
   "cell_type": "code",
   "execution_count": 37,
   "id": "a9d3f78a",
   "metadata": {},
   "source": [
    "from sklearn.metrics import accuracy_score"
   ],
   "outputs": []
  },
  {
   "cell_type": "code",
   "execution_count": 38,
   "id": "c1cef62f",
   "metadata": {},
   "source": [
    "print('< Accuracy Score >')\n",
    "decision_tree = DecisionTreeClassifier(random_state=32)\n",
    "decision_tree.fit(X_train, y_train) \n",
    "y_pred = decision_tree.predict(X_test)\n",
    "print(\"decision_tree :\", accuracy_score(y_test, y_pred))\n",
    "\n",
    "random_forest = RandomForestClassifier(random_state=32) # RandomForest분류기 객체를 생성\n",
    "random_forest.fit(X_train, y_train) # 훈련\n",
    "y_pred = random_forest.predict(X_test)\n",
    "print(\"random_forest :\", accuracy_score(y_test, y_pred))\n",
    "\n",
    "svm_model = svm.SVC() # 모델 객체를 만든다.\n",
    "svm_model.fit(X_train, y_train) # 훈련\n",
    "y_pred = svm_model.predict(X_test)\n",
    "print(\"svm_model :\", accuracy_score(y_test, y_pred))\n",
    "\n",
    "sgd_model = SGDClassifier()\n",
    "sgd_model.fit(X_train, y_train)\n",
    "y_pred = sgd_model.predict(X_test)\n",
    "print(\"sgd_model  :\", accuracy_score(y_test, y_pred))\n",
    "\n",
    "logistic_model = LogisticRegression()\n",
    "logistic_model.fit(X_train, y_train) \n",
    "y_pred = logistic_model.predict(X_test)\n",
    "print(\"logistic_model :\", accuracy_score(y_test, y_pred))"
   ],
   "outputs": []
  }
 ],
 "metadata": {
  "kernelspec": {
   "display_name": "Python 3 (ipykernel)",
   "language": "python",
   "name": "python3"
  },
  "language_info": {
   "codemirror_mode": {
    "name": "ipython",
    "version": 3
   },
   "file_extension": ".py",
   "mimetype": "text/x-python",
   "name": "python",
   "nbconvert_exporter": "python",
   "pygments_lexer": "ipython3",
   "version": "3.9.7"
  }
 },
 "nbformat": 4,
 "nbformat_minor": 5
}
