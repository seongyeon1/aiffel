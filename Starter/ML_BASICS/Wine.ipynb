{
 "cells": [
  {
   "cell_type": "markdown",
   "id": "eb6a9579",
   "metadata": {},
   "source": [
    "## load_wine : 와인을 분류해 봅시다"
   ]
  },
  {
   "cell_type": "markdown",
   "id": "8326fd24",
   "metadata": {},
   "source": [
    "## 1. 필요한 모듈 import하기"
   ]
  },
  {
   "cell_type": "code",
   "execution_count": 1,
   "id": "ebc84243",
   "metadata": {},
   "source": [
    "from sklearn.datasets import load_wine\n",
    "from sklearn.model_selection import train_test_split\n",
    "from sklearn.metrics import classification_report"
   ],
   "outputs": []
  },
  {
   "cell_type": "markdown",
   "id": "dd36b96c",
   "metadata": {},
   "source": [
    "## 2. 데이터 준비\n",
    "- `load_wine` 메서드를 사용합니다."
   ]
  },
  {
   "cell_type": "code",
   "execution_count": 2,
   "id": "17023547",
   "metadata": {},
   "source": [
    "from sklearn.datasets import load_wine\n",
    "# sklearn 라이브러리의 datasets 패키지에서 load_wine 함수를 임포트함\n",
    "\n",
    "wine = load_wine()\n",
    "# load_wine 함수는 wine 데이터셋을 로드하는 함수\n",
    "# 로드된 wine 데이터셋을 wine 라는 변수에 저장\n",
    "\n",
    "print(dir(wine))\n",
    "# dir()는 객체가 어떤 변수와 메서드를 가지고 있는지 나열함"
   ],
   "outputs": []
  },
  {
   "cell_type": "code",
   "execution_count": 3,
   "id": "15705df9",
   "metadata": {
    "scrolled": false
   },
   "source": [
    "wine.keys() # wine 데이터셋에 담긴 정보 종류 확인"
   ],
   "outputs": []
  },
  {
   "cell_type": "markdown",
   "id": "c657e618",
   "metadata": {},
   "source": [
    "## 3. 데이터 이해하기\n",
    "지피지기면 백전불태! 다루어야 할 데이터를 자세히 살펴봅시다.\n",
    "- Feature Data 지정하기\n",
    "- Label Data 지정하기\n",
    "- Target Names 출력해 보기\n",
    "- 데이터 Describe 해 보기"
   ]
  },
  {
   "cell_type": "code",
   "execution_count": 4,
   "id": "fe9a071d",
   "metadata": {},
   "source": [
    "wine_data = wine.data\n",
    "\n",
    "print(wine_data.shape) \n",
    "# shape는 배열의 형상정보를 출력"
   ],
   "outputs": []
  },
  {
   "cell_type": "code",
   "execution_count": 5,
   "id": "4d4d6238",
   "metadata": {},
   "source": [
    "wine_data[0]\n",
    "# 150개의 데이터 중 첫 번째 데이터 출력"
   ],
   "outputs": []
  },
  {
   "cell_type": "code",
   "execution_count": 6,
   "id": "dc2c635d",
   "metadata": {},
   "source": [
    "wine_label = wine.target\n",
    "\n",
    "print(wine_label.shape)\n",
    "wine_label"
   ],
   "outputs": []
  },
  {
   "cell_type": "code",
   "execution_count": 7,
   "id": "89499e96",
   "metadata": {},
   "source": [
    "wine.target_names"
   ],
   "outputs": []
  },
  {
   "cell_type": "code",
   "execution_count": 23,
   "id": "17742d72",
   "metadata": {},
   "source": [
    "# print(wine.DESCR)\n",
    "# keys에서 확인한 정보 중 DESCR을 변수에 따로 저장하지 않고 호출\n",
    "# 데이터셋 설명서 출력"
   ],
   "outputs": []
  },
  {
   "cell_type": "code",
   "execution_count": 9,
   "id": "69705e1b",
   "metadata": {},
   "source": [
    "wine.feature_names"
   ],
   "outputs": []
  },
  {
   "cell_type": "code",
   "execution_count": 10,
   "id": "a81b7a8b",
   "metadata": {},
   "source": [
    "import pandas as pd"
   ],
   "outputs": []
  },
  {
   "cell_type": "code",
   "execution_count": 11,
   "id": "de47dc9d",
   "metadata": {},
   "source": [
    "type(wine_data)\n",
    "# iris_data의 데이터 타입은 numpy의 ndarray인 것을 확인할 수 있음"
   ],
   "outputs": []
  },
  {
   "cell_type": "code",
   "execution_count": 12,
   "id": "f86e4526",
   "metadata": {},
   "source": [
    "wine_df = pd.DataFrame(data=wine_data, columns=wine.feature_names)\n",
    "wine_df[\"label\"] = wine.target\n",
    "wine_df"
   ],
   "outputs": []
  },
  {
   "cell_type": "code",
   "execution_count": 24,
   "id": "eb8f12a2",
   "metadata": {},
   "source": [
    "wine_df.describe()"
   ],
   "outputs": []
  },
  {
   "cell_type": "code",
   "execution_count": 56,
   "id": "02efdc67",
   "metadata": {},
   "source": [
    "wine_df.label.value_counts()"
   ],
   "outputs": []
  },
  {
   "cell_type": "code",
   "execution_count": 26,
   "id": "95b723d9",
   "metadata": {},
   "source": [
    "wine_df.label.value_counts().plot(kind='bar')"
   ],
   "outputs": []
  },
  {
   "cell_type": "markdown",
   "id": "c4906289",
   "metadata": {},
   "source": [
    "## 4. train, test 데이터 분리\n",
    "모델 학습과 테스트용 문제지와 정답지를 준비해 봅시다.\n",
    "X_train, X_test, y_train, y_test를 생성하는 방법을 참고해 보세요."
   ]
  },
  {
   "cell_type": "code",
   "execution_count": 40,
   "id": "d7e18cd7",
   "metadata": {},
   "source": [
    "from sklearn.model_selection import train_test_split\n",
    "# sklearn model_selection패키지의 train_test_split 함수를 임포트\n",
    "\n",
    "X_train, X_test, y_train, y_test = train_test_split(wine_data, \n",
    "                                                    wine_label, \n",
    "                                                    test_size=0.2, \n",
    "                                                    random_state=7)\n",
    "\n",
    "print('X_train 개수: ', len(X_train),', X_test 개수: ', len(X_test))\n",
    "# len은 배열의 길이를 출력"
   ],
   "outputs": []
  },
  {
   "cell_type": "code",
   "execution_count": 41,
   "id": "ef820e68",
   "metadata": {},
   "source": [
    "X_train.shape, y_train.shape\n",
    "# train의 형상정보 확인"
   ],
   "outputs": []
  },
  {
   "cell_type": "code",
   "execution_count": 42,
   "id": "73c8353e",
   "metadata": {},
   "source": [
    "X_test.shape, y_test.shape\n",
    "# test의 형상정보 확인"
   ],
   "outputs": []
  },
  {
   "cell_type": "code",
   "execution_count": 43,
   "id": "10210052",
   "metadata": {},
   "source": [
    "y_train, y_test\n",
    "# label이 잘 분리되었는지 확인"
   ],
   "outputs": []
  },
  {
   "cell_type": "markdown",
   "id": "7573d5e2",
   "metadata": {},
   "source": [
    "## 5. 다양한 모델로 학습시켜보기\n",
    "학습데이터 X_train, y_train 을 활용해 분류기 모델을 만들어 봅시다. 어떤 모델이 가장 좋은 성능을 보일까요?\n",
    "\n",
    "- Decision Tree 사용해 보기\n",
    "- Random Forest 사용해 보기\n",
    "- SVM 사용해 보기\n",
    "- SGD Classifier 사용해 보기\n",
    "- Logistic Regression 사용해 보기"
   ]
  },
  {
   "cell_type": "markdown",
   "id": "c0cc4e68",
   "metadata": {},
   "source": [
    "### Decision Tree"
   ]
  },
  {
   "cell_type": "code",
   "execution_count": 51,
   "id": "f343a392",
   "metadata": {},
   "source": [
    "from sklearn.tree import DecisionTreeClassifier\n",
    "from sklearn.metrics import classification_report\n",
    "\n",
    "decision_tree = DecisionTreeClassifier(random_state=32)\n",
    "decision_tree.fit(X_train, y_train) \n",
    "y_pred = decision_tree.predict(X_test)\n",
    "\n",
    "print(classification_report(y_test, y_pred))"
   ],
   "outputs": []
  },
  {
   "cell_type": "markdown",
   "id": "09ba0dd5",
   "metadata": {},
   "source": [
    "### Random Forest"
   ]
  },
  {
   "cell_type": "code",
   "execution_count": 52,
   "id": "07bd0f65",
   "metadata": {},
   "source": [
    "from sklearn.ensemble import RandomForestClassifier\n",
    "\n",
    "random_forest = RandomForestClassifier(random_state=32) # RandomForest분류기 객체를 생성\n",
    "random_forest.fit(X_train, y_train) # 훈련\n",
    "y_pred = random_forest.predict(X_test) # 예측\n",
    "\n",
    "print(classification_report(y_test, y_pred)) # 결과 지표를 확인"
   ],
   "outputs": []
  },
  {
   "cell_type": "markdown",
   "id": "1802d611",
   "metadata": {},
   "source": [
    "### SVM 사용해 보기"
   ]
  },
  {
   "cell_type": "code",
   "execution_count": 57,
   "id": "d1b08932",
   "metadata": {},
   "source": [
    "from sklearn import svm\n",
    "svm_model = svm.SVC()\n",
    "svm_model.fit(X_train, y_train)\n",
    "y_pred = svm_model.predict(X_test)\n",
    "\n",
    "print(classification_report(y_test, y_pred)) "
   ],
   "outputs": []
  },
  {
   "cell_type": "markdown",
   "id": "5faf1f3e",
   "metadata": {},
   "source": [
    "### SGD Classifier 사용해 보기"
   ]
  },
  {
   "cell_type": "code",
   "execution_count": 54,
   "id": "b845daee",
   "metadata": {},
   "source": [
    "from sklearn.linear_model import SGDClassifier #선형분류기인 SGDClassifier를 사용하기 위한 import\n",
    "sgd_model = SGDClassifier() # 모델 객체 생성\n",
    "\n",
    "sgd_model.fit(X_train, y_train) # sgd모델로 훈련데이터로 훈련시킨다.\n",
    "y_pred = sgd_model.predict(X_test)# 그 모델로 test데이터를 사용해 예측\n",
    "\n",
    "print(classification_report(y_test, y_pred)) # 결과 지표를 확인"
   ],
   "outputs": []
  },
  {
   "cell_type": "markdown",
   "id": "2cee5afb",
   "metadata": {},
   "source": [
    "### Logistic Regression 사용해 보기"
   ]
  },
  {
   "cell_type": "code",
   "execution_count": 55,
   "id": "f6b9a316",
   "metadata": {},
   "source": [
    "from sklearn.linear_model import LogisticRegression # 선형분류기인 LogisticRegression를 사용하기 위한 import\n",
    "logistic_model = LogisticRegression() # 모델 객체 생성\n",
    "\n",
    "logistic_model.fit(X_train, y_train) #LogisticRegression모델로 훈련데이터를 가지고 훈련시킨다.\n",
    "y_pred = logistic_model.predict(X_test) # 예측\n",
    "\n",
    "print(classification_report(y_test, y_pred))"
   ],
   "outputs": []
  },
  {
   "cell_type": "markdown",
   "id": "5c958896",
   "metadata": {},
   "source": [
    "## 6. 모델을 평가해 보기\n",
    "학습된 모델들의 테스트데이터 예측 결과를 어떻게 해석해야 할까요? 모델의 성능을 평가하는 지표로는 무엇이 좋을까요? sklearn.metrics 에서 제공하는 평가지표 중 적절한 것을 선택해 보세요. 선택하신 이유도 설명해 주세요."
   ]
  },
  {
   "cell_type": "markdown",
   "id": "3b43cfbb",
   "metadata": {},
   "source": [
    "### Macro F1 score을 사용하였습니다.\n",
    "\n",
    "F1 Score는 Precision과 Recall의 조화 평균으로 계산되며, 모델이 클래스 불균형 문제를 얼마나 잘 처리하는지 측정하는 데 도움이 된다.\n",
    "\n",
    "Macro F1 Score는 다중 클래스 분류 문제에서 모델의 성능을 평가하는 데 사용되는 지표 중 하나이다. \n",
    "Macro F1 Score는 각 클래스별로 계산된 F1 Score의 평균을 구하여 모델의 전체 성능을 평가한다. \n",
    "\n",
    "Macro F1 Score는 모든 클래스에 대한 F1 Score의 평균으로 계산됩니다.\n",
    "\n",
    "- F1 Score = $2 * \\frac{Precision * Recall}{Precision + Recall}$\n",
    "\n",
    "wine data는 class 0이 59개, 1이 71개, 2가 48개로 레이블이 약간 불균형하기에 f1 score을 이용하고자 하였다."
   ]
  },
  {
   "cell_type": "code",
   "execution_count": 59,
   "id": "d3dc257f",
   "metadata": {},
   "source": [
    "import numpy as np\n",
    "from sklearn.metrics import f1_score\n",
    "\n",
    "\n",
    "def macro_f1_score(y_true, y_pred, n_classes):\n",
    "    f1_scores = []\n",
    "    for c in range(n_classes):\n",
    "        y_true_c = (y_true == c)\n",
    "        y_pred_c = (y_pred == c)\n",
    "        f1_c = f1_score(y_true_c, y_pred_c)\n",
    "        f1_scores.append(f1_c)\n",
    "    return np.mean(f1_scores)\n",
    "\n",
    "\n",
    "# Macro F1 Score 계산\n",
    "n_classes = 3"
   ],
   "outputs": []
  },
  {
   "cell_type": "code",
   "execution_count": 61,
   "id": "8a38ccb0",
   "metadata": {},
   "source": [
    "print('< Macro F1 Score >')\n",
    "decision_tree = DecisionTreeClassifier(random_state=32)\n",
    "decision_tree.fit(X_train, y_train) \n",
    "y_pred = decision_tree.predict(X_test)\n",
    "macro_f1 = macro_f1_score(y_test, y_pred, n_classes)\n",
    "print(\"decision_tree :\", macro_f1)\n",
    "\n",
    "random_forest = RandomForestClassifier(random_state=32) # RandomForest분류기 객체를 생성\n",
    "random_forest.fit(X_train, y_train) # 훈련\n",
    "y_pred = random_forest.predict(X_test)\n",
    "macro_f1 = macro_f1_score(y_test, y_pred, n_classes)\n",
    "print(\"random_forest :\", macro_f1)\n",
    "\n",
    "svm_model = svm.SVC() # 모델 객체를 만든다.\n",
    "svm_model.fit(X_train, y_train) # 훈련\n",
    "y_pred = svm_model.predict(X_test)\n",
    "macro_f1 = macro_f1_score(y_test, y_pred, n_classes)\n",
    "print(\"svm_model :\", macro_f1)\n",
    "\n",
    "sgd_model = SGDClassifier()\n",
    "sgd_model.fit(X_train, y_train)\n",
    "y_pred = sgd_model.predict(X_test)\n",
    "macro_f1 = macro_f1_score(y_test, y_pred, n_classes)\n",
    "print(\"sgd_model  :\", macro_f1)\n",
    "\n",
    "logistic_model = LogisticRegression()\n",
    "logistic_model.fit(X_train, y_train) \n",
    "y_pred = logistic_model.predict(X_test)\n",
    "macro_f1 = macro_f1_score(y_test, y_pred, n_classes)\n",
    "print(\"logistic_model :\", macro_f1)"
   ],
   "outputs": []
  },
  {
   "cell_type": "code",
   "execution_count": null,
   "id": "5e25570c",
   "metadata": {},
   "source": [],
   "outputs": []
  }
 ],
 "metadata": {
  "kernelspec": {
   "display_name": "Python 3 (ipykernel)",
   "language": "python",
   "name": "python3"
  },
  "language_info": {
   "codemirror_mode": {
    "name": "ipython",
    "version": 3
   },
   "file_extension": ".py",
   "mimetype": "text/x-python",
   "name": "python",
   "nbconvert_exporter": "python",
   "pygments_lexer": "ipython3",
   "version": "3.9.7"
  }
 },
 "nbformat": 4,
 "nbformat_minor": 5
}
