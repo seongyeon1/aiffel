{
 "cells": [
  {
   "cell_type": "markdown",
   "id": "2a238f3b",
   "metadata": {},
   "source": [
    "## load_breast_cancer : 유방암 여부를 진단해 봅시다\n"
   ]
  },
  {
   "cell_type": "markdown",
   "id": "c430f130",
   "metadata": {},
   "source": [
    "## 1. 필요한 모듈 import하기"
   ]
  },
  {
   "cell_type": "code",
   "execution_count": 4,
   "id": "58ce9de1",
   "metadata": {},
   "source": [
    "from sklearn.datasets import load_breast_cancer\n",
    "from sklearn.model_selection import train_test_split\n",
    "from sklearn.metrics import classification_report"
   ],
   "outputs": []
  },
  {
   "cell_type": "markdown",
   "id": "0a88de87",
   "metadata": {},
   "source": [
    "## 2. 데이터 준비\n",
    "- `load_breast_cancer` 메서드를 사용합니다."
   ]
  },
  {
   "cell_type": "code",
   "execution_count": 5,
   "id": "519b048c",
   "metadata": {},
   "source": [
    "from sklearn.datasets import load_breast_cancer\n",
    "\n",
    "cancer = load_breast_cancer()\n",
    "\n",
    "print(dir(cancer))\n",
    "# dir()는 객체가 어떤 변수와 메서드를 가지고 있는지 나열함"
   ],
   "outputs": []
  },
  {
   "cell_type": "code",
   "execution_count": 6,
   "id": "9cf6abc3",
   "metadata": {},
   "source": [
    "cancer.keys() # wine 데이터셋에 담긴 정보 종류 확인"
   ],
   "outputs": []
  },
  {
   "cell_type": "markdown",
   "id": "d6184e98",
   "metadata": {},
   "source": [
    "## 3. 데이터 이해하기\n",
    "지피지기면 백전불태! 다루어야 할 데이터를 자세히 살펴봅시다.\n",
    "- Feature Data 지정하기\n",
    "- Label Data 지정하기\n",
    "- Target Names 출력해 보기\n",
    "- 데이터 Describe 해 보기"
   ]
  },
  {
   "cell_type": "code",
   "execution_count": 7,
   "id": "33d3698c",
   "metadata": {},
   "source": [
    "cancer_data = cancer.data\n",
    "\n",
    "print(cancer_data.shape) \n",
    "# shape는 배열의 형상정보를 출력"
   ],
   "outputs": []
  },
  {
   "cell_type": "code",
   "execution_count": 8,
   "id": "61ff06d8",
   "metadata": {},
   "source": [
    "cancer_data[0]\n",
    "# 150개의 데이터 중 첫 번째 데이터 출력"
   ],
   "outputs": []
  },
  {
   "cell_type": "code",
   "execution_count": 9,
   "id": "c80fdcb5",
   "metadata": {},
   "source": [
    "cancer_label = cancer.target\n",
    "\n",
    "print(cancer_label.shape)\n",
    "cancer_label"
   ],
   "outputs": []
  },
  {
   "cell_type": "code",
   "execution_count": 10,
   "id": "5c4df689",
   "metadata": {},
   "source": [
    "cancer.target_names"
   ],
   "outputs": []
  },
  {
   "cell_type": "code",
   "execution_count": 11,
   "id": "e86d488f",
   "metadata": {},
   "source": [
    "print(cancer.DESCR)\n",
    "# keys에서 확인한 정보 중 DESCR을 변수에 따로 저장하지 않고 호출\n",
    "# 데이터셋 설명서 출력"
   ],
   "outputs": []
  },
  {
   "cell_type": "code",
   "execution_count": 12,
   "id": "6659e16a",
   "metadata": {},
   "source": [
    "cancer.feature_names"
   ],
   "outputs": []
  },
  {
   "cell_type": "code",
   "execution_count": 13,
   "id": "ce295ed0",
   "metadata": {},
   "source": [
    "import pandas as pd"
   ],
   "outputs": []
  },
  {
   "cell_type": "code",
   "execution_count": 14,
   "id": "55ee5e89",
   "metadata": {},
   "source": [
    "type(cancer_data)"
   ],
   "outputs": []
  },
  {
   "cell_type": "code",
   "execution_count": 16,
   "id": "fc0fb7cf",
   "metadata": {},
   "source": [
    "cancer_df = pd.DataFrame(data=cancer_data, columns=cancer.feature_names)"
   ],
   "outputs": []
  },
  {
   "cell_type": "code",
   "execution_count": 17,
   "id": "0bd77e43",
   "metadata": {},
   "source": [
    "cancer_df[\"label\"] = cancer.target\n",
    "cancer_df"
   ],
   "outputs": []
  },
  {
   "cell_type": "markdown",
   "id": "7bfdef18",
   "metadata": {},
   "source": [
    "## 4. train, test 데이터 분리\n",
    "모델 학습과 테스트용 문제지와 정답지를 준비해 봅시다.\n",
    "X_train, X_test, y_train, y_test를 생성하는 방법을 참고해 보세요."
   ]
  },
  {
   "cell_type": "code",
   "execution_count": 19,
   "id": "6766674e",
   "metadata": {},
   "source": [
    "from sklearn.model_selection import train_test_split\n",
    "# sklearn model_selection패키지의 train_test_split 함수를 임포트\n",
    "\n",
    "X_train, X_test, y_train, y_test = train_test_split(cancer_data, \n",
    "                                                    cancer_label, \n",
    "                                                    test_size=0.2, \n",
    "                                                    random_state=7)\n",
    "# 나눠야 할 데이터(문제지, X): iris_data\n",
    "# 데이터의 라벨(정답, y): iris_label\n",
    "# iris_data와 iris_label를 각각 train:test = 8:2의 비율로 잘라서 \n",
    "# X_train, X_test, y_train, y_test에 저장\n",
    "\n",
    "\n",
    "print('X_train 개수: ', len(X_train),', X_test 개수: ', len(X_test))\n",
    "# len은 배열의 길이를 출력"
   ],
   "outputs": []
  },
  {
   "cell_type": "code",
   "execution_count": 20,
   "id": "0371b3c4",
   "metadata": {},
   "source": [
    "X_train.shape, y_train.shape\n",
    "# train의 형상정보 확인"
   ],
   "outputs": []
  },
  {
   "cell_type": "code",
   "execution_count": 21,
   "id": "a16d1eb0",
   "metadata": {},
   "source": [
    "X_test.shape, y_test.shape\n",
    "# test의 형상정보 확인"
   ],
   "outputs": []
  },
  {
   "cell_type": "code",
   "execution_count": 22,
   "id": "f00db3ca",
   "metadata": {},
   "source": [
    "y_train, y_test\n",
    "# label이 잘 분리되었는지 확인"
   ],
   "outputs": []
  },
  {
   "cell_type": "code",
   "execution_count": 24,
   "id": "7b60eb03",
   "metadata": {},
   "source": [
    "cancer_df.label.value_counts()"
   ],
   "outputs": []
  },
  {
   "cell_type": "code",
   "execution_count": 23,
   "id": "57640aba",
   "metadata": {
    "scrolled": true
   },
   "source": [
    "cancer_df.label.value_counts().plot(kind='bar')"
   ],
   "outputs": []
  },
  {
   "cell_type": "markdown",
   "id": "87c1433a",
   "metadata": {},
   "source": [
    "## 5. 다양한 모델로 학습시켜보기\n",
    "학습데이터 X_train, y_train 을 활용해 분류기 모델을 만들어 봅시다. 어떤 모델이 가장 좋은 성능을 보일까요?\n",
    "\n",
    "- Decision Tree 사용해 보기\n",
    "- Random Forest 사용해 보기\n",
    "- SVM 사용해 보기\n",
    "- SGD Classifier 사용해 보기\n",
    "- Logistic Regression 사용해 보기"
   ]
  },
  {
   "cell_type": "code",
   "execution_count": 25,
   "id": "129ff1c1",
   "metadata": {},
   "source": [
    "from sklearn.tree import DecisionTreeClassifier\n",
    "\n",
    "decision_tree = DecisionTreeClassifier(random_state=32)\n",
    "decision_tree.fit(X_train, y_train) \n",
    "y_pred = decision_tree.predict(X_test)\n",
    "\n",
    "print(classification_report(y_test, y_pred))"
   ],
   "outputs": []
  },
  {
   "cell_type": "code",
   "execution_count": 26,
   "id": "484edbe9",
   "metadata": {},
   "source": [
    "from sklearn.ensemble import RandomForestClassifier\n",
    "\n",
    "random_forest = RandomForestClassifier(random_state=32) # RandomForest분류기 객체를 생성\n",
    "random_forest.fit(X_train, y_train) # 훈련\n",
    "y_pred = random_forest.predict(X_test) # 예측\n",
    "\n",
    "print(classification_report(y_test, y_pred)) # 결과 지표를 확인"
   ],
   "outputs": []
  },
  {
   "cell_type": "code",
   "execution_count": 27,
   "id": "36a70abb",
   "metadata": {},
   "source": [
    "from sklearn import svm\n",
    "svm_model = svm.SVC()\n",
    "svm_model.fit(X_train, y_train)\n",
    "y_pred = svm_model.predict(X_test)\n",
    "\n",
    "print(classification_report(y_test, y_pred)) "
   ],
   "outputs": []
  },
  {
   "cell_type": "code",
   "execution_count": 28,
   "id": "bf1ff9f1",
   "metadata": {},
   "source": [
    "from sklearn.linear_model import SGDClassifier #선형분류기인 SGDClassifier를 사용하기 위한 import\n",
    "sgd_model = SGDClassifier() # 모델 객체 생성\n",
    "\n",
    "sgd_model.fit(X_train, y_train) # sgd모델로 훈련데이터로 훈련시킨다.\n",
    "y_pred = sgd_model.predict(X_test)# 그 모델로 test데이터를 사용해 예측\n",
    "\n",
    "print(classification_report(y_test, y_pred)) # 결과 지표를 확인"
   ],
   "outputs": []
  },
  {
   "cell_type": "code",
   "execution_count": 29,
   "id": "0ecc7d8f",
   "metadata": {},
   "source": [
    "from sklearn.linear_model import LogisticRegression # 선형분류기인 LogisticRegression를 사용하기 위한 import\n",
    "logistic_model = LogisticRegression() # 모델 객체 생성\n",
    "\n",
    "logistic_model.fit(X_train, y_train) #LogisticRegression모델로 훈련데이터를 가지고 훈련시킨다.\n",
    "y_pred = logistic_model.predict(X_test) # 예측\n",
    "\n",
    "print(classification_report(y_test, y_pred))"
   ],
   "outputs": []
  },
  {
   "cell_type": "markdown",
   "id": "fed87e2e",
   "metadata": {},
   "source": [
    "## 6. 모델을 평가해 보기\n",
    "학습된 모델들의 테스트데이터 예측 결과를 어떻게 해석해야 할까요? 모델의 성능을 평가하는 지표로는 무엇이 좋을까요? sklearn.metrics 에서 제공하는 평가지표 중 적절한 것을 선택해 보세요. 선택하신 이유도 설명해 주세요."
   ]
  },
  {
   "cell_type": "markdown",
   "id": "c830809d",
   "metadata": {},
   "source": [
    "class 1은 count 값이 357이고 class 0은 212로 불균형 데이터이므로 f1 score을 사용하였다"
   ]
  },
  {
   "cell_type": "code",
   "execution_count": 32,
   "id": "674d3b9b",
   "metadata": {},
   "source": [
    "import numpy as np\n",
    "from sklearn.metrics import f1_score\n",
    "\n",
    "print('< F1 Score >')\n",
    "decision_tree = DecisionTreeClassifier(random_state=32)\n",
    "decision_tree.fit(X_train, y_train) \n",
    "y_pred = decision_tree.predict(X_test)\n",
    "print(\"decision_tree :\", f1_score(y_test, y_pred))\n",
    "\n",
    "random_forest = RandomForestClassifier(random_state=32) # RandomForest분류기 객체를 생성\n",
    "random_forest.fit(X_train, y_train) # 훈련\n",
    "y_pred = random_forest.predict(X_test)\n",
    "print(\"random_forest :\", f1_score(y_test, y_pred))\n",
    "\n",
    "svm_model = svm.SVC() # 모델 객체를 만든다.\n",
    "svm_model.fit(X_train, y_train) # 훈련\n",
    "y_pred = svm_model.predict(X_test)\n",
    "print(\"svm_model :\", f1_score(y_test, y_pred))\n",
    "\n",
    "sgd_model = SGDClassifier()\n",
    "sgd_model.fit(X_train, y_train)\n",
    "y_pred = sgd_model.predict(X_test)\n",
    "print(\"sgd_model :\", f1_score(y_test, y_pred))\n",
    "\n",
    "logistic_model = LogisticRegression()\n",
    "logistic_model.fit(X_train, y_train) \n",
    "y_pred = logistic_model.predict(X_test)\n",
    "print(\"logistic_model :\", f1_score(y_test, y_pred))"
   ],
   "outputs": []
  },
  {
   "cell_type": "code",
   "execution_count": null,
   "id": "b9d71865",
   "metadata": {},
   "source": [],
   "outputs": []
  }
 ],
 "metadata": {
  "kernelspec": {
   "display_name": "Python 3 (ipykernel)",
   "language": "python",
   "name": "python3"
  },
  "language_info": {
   "codemirror_mode": {
    "name": "ipython",
    "version": 3
   },
   "file_extension": ".py",
   "mimetype": "text/x-python",
   "name": "python",
   "nbconvert_exporter": "python",
   "pygments_lexer": "ipython3",
   "version": "3.9.7"
  }
 },
 "nbformat": 4,
 "nbformat_minor": 5
}
