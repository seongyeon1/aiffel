{
 "cells": [
  {
   "metadata": {},
   "cell_type": "markdown",
   "source": "# HuggingFace 커스텀 프로젝트 만들기 [프로젝트]",
   "id": "b9611606a44f6438"
  },
  {
   "cell_type": "markdown",
   "id": "afed52bc",
   "metadata": {},
   "source": [
    "### 라이브러리 버전을 확인"
   ]
  },
  {
   "cell_type": "code",
   "execution_count": 1,
   "id": "d7cb6bd7",
   "metadata": {
    "scrolled": true
   },
   "outputs": [
    {
     "name": "stdout",
     "output_type": "stream",
     "text": [
      "2.6.0\n",
      "1.21.4\n",
      "4.11.3\n",
      "1.14.0\n"
     ]
    }
   ],
   "source": [
    "import tensorflow\n",
    "import numpy\n",
    "import transformers\n",
    "import datasets\n",
    "\n",
    "print(tensorflow.__version__)\n",
    "print(numpy.__version__)\n",
    "print(transformers.__version__)\n",
    "print(datasets.__version__)"
   ]
  },
  {
   "cell_type": "code",
   "execution_count": 2,
   "id": "baac8188",
   "metadata": {},
   "outputs": [],
   "source": [
    "import torch"
   ]
  },
  {
   "cell_type": "code",
   "execution_count": 3,
   "id": "b4334945",
   "metadata": {},
   "outputs": [],
   "source": [
    "device = torch.device(\"cuda\" if torch.cuda.is_available() else \"cpu\")"
   ]
  },
  {
   "cell_type": "code",
   "execution_count": 4,
   "id": "19414629",
   "metadata": {},
   "outputs": [
    {
     "data": {
      "text/plain": [
       "device(type='cuda')"
      ]
     },
     "execution_count": 4,
     "metadata": {},
     "output_type": "execute_result"
    }
   ],
   "source": [
    "device"
   ]
  },
  {
   "cell_type": "code",
   "execution_count": 5,
   "id": "3306bb0e",
   "metadata": {},
   "outputs": [],
   "source": [
    "import os\n",
    "import numpy as np\n",
    "from transformers import Trainer, TrainingArguments"
   ]
  },
  {
   "cell_type": "markdown",
   "id": "e2a5510d",
   "metadata": {},
   "source": [
    "### STEP 1. NSMC 데이터 분석 및 Huggingface dataset 구성\n",
    "- 데이터셋은 깃허브에서 다운받거나, Huggingface datasets에서 가져올 수 있습니다. 앞에서 배운 방법들을 활용해봅시다!"
   ]
  },
  {
   "cell_type": "code",
   "execution_count": 6,
   "id": "5eb02371",
   "metadata": {},
   "outputs": [],
   "source": [
    "import datasets\n",
    "from datasets import load_dataset"
   ]
  },
  {
   "cell_type": "code",
   "execution_count": 7,
   "id": "942d5abc",
   "metadata": {},
   "outputs": [
    {
     "name": "stderr",
     "output_type": "stream",
     "text": [
      "Using custom data configuration default\n",
      "Reusing dataset nsmc (/aiffel/.cache/huggingface/datasets/nsmc/default/1.1.0/bfd4729bf1a67114e5267e6916b9e4807010aeb238e4a3c2b95fbfa3a014b5f3)\n"
     ]
    },
    {
     "data": {
      "application/vnd.jupyter.widget-view+json": {
       "model_id": "2b6c7a6d9e4b44f3853089ddcd296909",
       "version_major": 2,
       "version_minor": 0
      },
      "text/plain": [
       "  0%|          | 0/2 [00:00<?, ?it/s]"
      ]
     },
     "metadata": {},
     "output_type": "display_data"
    },
    {
     "name": "stdout",
     "output_type": "stream",
     "text": [
      "DatasetDict({\n",
      "    train: Dataset({\n",
      "        features: ['id', 'document', 'label'],\n",
      "        num_rows: 150000\n",
      "    })\n",
      "    test: Dataset({\n",
      "        features: ['id', 'document', 'label'],\n",
      "        num_rows: 50000\n",
      "    })\n",
      "})\n"
     ]
    }
   ],
   "source": [
    "dataset = load_dataset('nsmc')\n",
    "print(dataset)"
   ]
  },
  {
   "cell_type": "code",
   "execution_count": 8,
   "id": "05bb50f6",
   "metadata": {},
   "outputs": [
    {
     "data": {
      "text/plain": [
       "{'label': 1,\n",
       " 'id': '10044377',\n",
       " 'document': '신카이 마코토의 작화와,미유와 하나카나가 연기를 잘해줘서 더대박이였다.'}"
      ]
     },
     "execution_count": 8,
     "metadata": {},
     "output_type": "execute_result"
    }
   ],
   "source": [
    "dataset['train'][100]"
   ]
  },
  {
   "cell_type": "markdown",
   "id": "d7fd37d4",
   "metadata": {},
   "source": [
    "### STEP 2. klue/bert-base model 및 tokenizer 불러오기"
   ]
  },
  {
   "cell_type": "code",
   "execution_count": 43,
   "id": "412ba50d",
   "metadata": {},
   "outputs": [],
   "source": [
    "# del model\n",
    "# del trainer\n",
    "# torch.cuda.empty_cache()"
   ]
  },
  {
   "cell_type": "code",
   "id": "90cd6653",
   "metadata": {
    "ExecuteTime": {
     "end_time": "2024-07-19T11:30:06.987054Z",
     "start_time": "2024-07-19T11:30:06.985581Z"
    }
   },
   "source": [
    "from transformers import AutoTokenizer, AutoModelForSequenceClassification\n",
    "\n",
    "tokenizer = AutoTokenizer.from_pretrained(\"klue/bert-base\")\n",
    "model = AutoModelForSequenceClassification.from_pretrained(\"klue/bert-base\")\n",
    "model.to(device)"
   ],
   "outputs": [],
   "execution_count": 1
  },
  {
   "cell_type": "markdown",
   "id": "0f95c927",
   "metadata": {},
   "source": [
    "## finetuning하지 않았을 때의 성능"
   ]
  },
  {
   "cell_type": "code",
   "execution_count": 63,
   "id": "4ba2306e",
   "metadata": {},
   "outputs": [],
   "source": [
    "# 모델 예측 및 메트릭 계산\n",
    "model.eval()\n",
    "all_logits = []\n",
    "all_labels = []"
   ]
  },
  {
   "cell_type": "code",
   "execution_count": 64,
   "id": "dcf8582a",
   "metadata": {},
   "outputs": [
    {
     "name": "stderr",
     "output_type": "stream",
     "text": [
      "100%|██████████| 1563/1563 [02:44<00:00,  9.51it/s]\n"
     ]
    }
   ],
   "source": [
    "with torch.no_grad():\n",
    "    for batch in tqdm(test_dataloader):\n",
    "        input_ids = batch['input_ids'].to(device)\n",
    "        attention_mask = batch['attention_mask'].to(device)\n",
    "        labels = batch['label'].to(device)\n",
    "        \n",
    "        outputs = model(input_ids, attention_mask=attention_mask)\n",
    "        logits = outputs.logits\n",
    "        \n",
    "        all_logits.append(logits.cpu().numpy())\n",
    "        all_labels.append(labels.cpu().numpy())"
   ]
  },
  {
   "cell_type": "code",
   "execution_count": 65,
   "id": "e1592c96",
   "metadata": {},
   "outputs": [
    {
     "name": "stdout",
     "output_type": "stream",
     "text": [
      "{'accuracy': 0.40602}\n"
     ]
    }
   ],
   "source": [
    "# 모든 로짓과 라벨을 하나의 배열로 결합\n",
    "all_logits = np.concatenate(all_logits, axis=0)\n",
    "all_labels = np.concatenate(all_labels, axis=0)\n",
    "\n",
    "# 메트릭 계산\n",
    "metrics = compute_metrics((all_logits, all_labels))\n",
    "\n",
    "print(metrics)"
   ]
  },
  {
   "cell_type": "markdown",
   "id": "6937967a",
   "metadata": {},
   "source": [
    "### STEP 3. 위에서 불러온 tokenizer으로 데이터셋을 전처리하고, model 학습 진행해 보기"
   ]
  },
  {
   "cell_type": "markdown",
   "id": "08cfd612",
   "metadata": {},
   "source": [
    "- 토큰의 갯수를 확인해보기 위해 패딩을 하지 않고 시각화를 해보았고, 시각화 결과에 따라 maxlen을 55로 설정하였다\n",
    "- bert model의 default값은 256으로 너무 커서 시간이 오래걸리기 때문이다"
   ]
  },
  {
   "cell_type": "code",
   "execution_count": 11,
   "id": "281030b0",
   "metadata": {},
   "outputs": [],
   "source": [
    "def tokenize_function(examples):\n",
    "    encodings = tokenizer(examples['document'], truncation=True, padding=False)\n",
    "    return encodings"
   ]
  },
  {
   "cell_type": "code",
   "execution_count": 12,
   "id": "35a7886d",
   "metadata": {},
   "outputs": [
    {
     "data": {
      "application/vnd.jupyter.widget-view+json": {
       "model_id": "6762957d58f943dda3b6d4599a530f84",
       "version_major": 2,
       "version_minor": 0
      },
      "text/plain": [
       "  0%|          | 0/150 [00:00<?, ?ba/s]"
      ]
     },
     "metadata": {},
     "output_type": "display_data"
    },
    {
     "data": {
      "application/vnd.jupyter.widget-view+json": {
       "model_id": "fe9d7724b7f64fd2a4cd32e4d7c477d0",
       "version_major": 2,
       "version_minor": 0
      },
      "text/plain": [
       "  0%|          | 0/50 [00:00<?, ?ba/s]"
      ]
     },
     "metadata": {},
     "output_type": "display_data"
    }
   ],
   "source": [
    "tokenized_datasets = dataset.map(tokenize_function, batched=True)"
   ]
  },
  {
   "cell_type": "markdown",
   "id": "11b87ce9",
   "metadata": {},
   "source": [
    "### Train, validation, test dataset 준비"
   ]
  },
  {
   "cell_type": "code",
   "execution_count": 13,
   "id": "82f0158d",
   "metadata": {
    "scrolled": true
   },
   "outputs": [],
   "source": [
    "import seaborn as sns\n",
    "import matplotlib.pyplot as plt"
   ]
  },
  {
   "cell_type": "code",
   "execution_count": 14,
   "id": "7025b2f6",
   "metadata": {},
   "outputs": [],
   "source": [
    "def get_token_len(token_list, max_tokens=None, hist=False):\n",
    "    num_tokens = [len(tokens) for tokens in token_list]\n",
    "    num_tokens = np.array(num_tokens)\n",
    "\n",
    "    # 평균값, 최댓값, 표준편차\n",
    "    print(f\"토큰 길이 평균: {np.mean(num_tokens)}\")\n",
    "    print(f\"토큰 길이 최소: {np.min(num_tokens)}\")\n",
    "    print(f\"토큰 길이 최대: {np.max(num_tokens)}\")\n",
    "    print(f\"토큰 길이 표준편차: {np.std(num_tokens)}\")\n",
    "    \n",
    "    if max_tokens==None:\n",
    "        max_tokens = np.mean(num_tokens) + 2 * np.std(num_tokens)\n",
    "    maxlen = int(max_tokens)\n",
    "    print(f'설정 최대 길이: {maxlen}')\n",
    "    ratio = np.sum(num_tokens < max_tokens) / len(num_tokens) * 100\n",
    "    print(f'전체 문장의 {round(ratio, 1)}%가 설정값인 {maxlen}에 포함됩니다.')\n",
    "    \n",
    "    if hist:\n",
    "        plt.hist(num_tokens, bins=50)\n",
    "        plt.axvline(maxlen, color='r', linestyle='dashed', linewidth=1)\n",
    "        plt.xlabel('length of samples')\n",
    "        plt.ylabel('number of samples')\n",
    "        plt.title('Distribution of token lengths')\n",
    "        plt.show();"
   ]
  },
  {
   "cell_type": "code",
   "execution_count": 15,
   "id": "aada4cba",
   "metadata": {},
   "outputs": [
    {
     "name": "stdout",
     "output_type": "stream",
     "text": [
      "토큰 길이 평균: 22.275513333333333\n",
      "토큰 길이 최소: 2\n",
      "토큰 길이 최대: 142\n",
      "토큰 길이 표준편차: 16.69378983543947\n",
      "설정 최대 길이: 55\n",
      "전체 문장의 93.5%가 설정값인 55에 포함됩니다.\n"
     ]
    },
    {
     "data": {
      "image/png": "[encoded data removed]",
      "text/plain": [
       "<Figure size 432x288 with 1 Axes>"
      ]
     },
     "metadata": {
      "needs_background": "light"
     },
     "output_type": "display_data"
    }
   ],
   "source": [
    "get_token_len(tokenized_datasets['train']['input_ids'], max_tokens=None, hist=True)"
   ]
  },
  {
   "cell_type": "code",
   "execution_count": 16,
   "id": "f4f458fa",
   "metadata": {},
   "outputs": [
    {
     "name": "stdout",
     "output_type": "stream",
     "text": [
      "토큰 길이 평균: 22.275513333333333\n",
      "토큰 길이 최소: 2\n",
      "토큰 길이 최대: 142\n",
      "토큰 길이 표준편차: 16.69378983543947\n",
      "설정 최대 길이: 55\n",
      "전체 문장의 93.5%가 설정값인 55에 포함됩니다.\n"
     ]
    },
    {
     "data": {
      "image/png": "[encoded data removed]",
      "text/plain": [
       "<Figure size 432x288 with 1 Axes>"
      ]
     },
     "metadata": {
      "needs_background": "light"
     },
     "output_type": "display_data"
    }
   ],
   "source": [
    "get_token_len(tokenized_datasets['train']['input_ids'], max_tokens=None, hist=True)"
   ]
  },
  {
   "cell_type": "code",
   "execution_count": 15,
   "id": "0c5c4f2b",
   "metadata": {},
   "outputs": [],
   "source": [
    "maxlen = 55\n",
    "\n",
    "def tokenize_function_with_max(examples, maxlen=maxlen):\n",
    "    encodings = tokenizer(examples['document'],max_length=maxlen, truncation=True, padding='max_length')\n",
    "    return encodings"
   ]
  },
  {
   "cell_type": "code",
   "execution_count": 16,
   "id": "7bc6d4eb",
   "metadata": {
    "scrolled": true
   },
   "outputs": [
    {
     "data": {
      "application/vnd.jupyter.widget-view+json": {
       "model_id": "dcc32138cbaa46508ccc7c7a05797caa",
       "version_major": 2,
       "version_minor": 0
      },
      "text/plain": [
       "  0%|          | 0/150 [00:00<?, ?ba/s]"
      ]
     },
     "metadata": {},
     "output_type": "display_data"
    },
    {
     "data": {
      "application/vnd.jupyter.widget-view+json": {
       "model_id": "8ddcabd3f00c4808b4fa2138f2a7a670",
       "version_major": 2,
       "version_minor": 0
      },
      "text/plain": [
       "  0%|          | 0/50 [00:00<?, ?ba/s]"
      ]
     },
     "metadata": {},
     "output_type": "display_data"
    }
   ],
   "source": [
    "tokenized_datasets = dataset.map(tokenize_function_with_max, batched=True)"
   ]
  },
  {
   "cell_type": "code",
   "execution_count": 17,
   "id": "e192094b",
   "metadata": {},
   "outputs": [],
   "source": [
    "train_dataset = tokenized_datasets['train']\n",
    "test_dataset = tokenized_datasets[\"test\"]\n",
    "\n",
    "train_val_dataset = train_dataset.train_test_split(test_size=0.2)\n",
    "\n",
    "train_dataset = train_val_dataset['train']\n",
    "val_dataset = train_val_dataset['test']"
   ]
  },
  {
   "cell_type": "code",
   "execution_count": 18,
   "id": "fd6b247e",
   "metadata": {},
   "outputs": [
    {
     "data": {
      "text/plain": [
       "Dataset({\n",
       "    features: ['attention_mask', 'document', 'id', 'input_ids', 'label', 'token_type_ids'],\n",
       "    num_rows: 120000\n",
       "})"
      ]
     },
     "execution_count": 18,
     "metadata": {},
     "output_type": "execute_result"
    }
   ],
   "source": [
    "train_dataset"
   ]
  },
  {
   "cell_type": "markdown",
   "id": "b6faf320",
   "metadata": {},
   "source": [
    "#### 실험 결과 전체 데이터셋으로 실행하는 경우 9시간이 걸려서 작은 데이터셋으로 먼저 실험을 해보기로 결정했다"
   ]
  },
  {
   "cell_type": "code",
   "execution_count": 19,
   "id": "f5e3650c",
   "metadata": {},
   "outputs": [],
   "source": [
    "small_train_dataset = train_dataset.shuffle(seed=42).select(range(5000))\n",
    "small_eval_dataset = val_dataset.shuffle(seed=42).select(range(1000))"
   ]
  },
  {
   "cell_type": "markdown",
   "id": "af390f20",
   "metadata": {},
   "source": [
    "### model 학습"
   ]
  },
  {
   "cell_type": "code",
   "execution_count": 20,
   "id": "21a68ab4",
   "metadata": {},
   "outputs": [],
   "source": [
    "output_dir = os.getenv('HOME')+'/aiffel/huggingface'\n",
    "\n",
    "training_arguments = TrainingArguments(\n",
    "    output_dir,                                         # output이 저장될 경로\n",
    "    evaluation_strategy=\"epoch\",           #evaluation하는 빈도\n",
    "    learning_rate = 2e-5,                         #learning_rate\n",
    "    per_device_train_batch_size = 32,   # 각 device 당 batch size\n",
    "    per_device_eval_batch_size = 32,    # evaluation 시에 batch size\n",
    "    num_train_epochs = 2,                     # train 시킬 총 epochs\n",
    "    weight_decay = 0.01,                        # weight decay\n",
    ")"
   ]
  },
  {
   "cell_type": "code",
   "execution_count": 21,
   "id": "06824416",
   "metadata": {},
   "outputs": [],
   "source": [
    "from datasets import load_metric\n",
    "\n",
    "# binary classification이고 label이 고르게 나눠져 있다고 한다\n",
    "metric = load_metric('accuracy')"
   ]
  },
  {
   "cell_type": "code",
   "execution_count": 27,
   "id": "1d228f6f",
   "metadata": {},
   "outputs": [],
   "source": [
    "# !pip install evaluate"
   ]
  },
  {
   "cell_type": "code",
   "execution_count": 45,
   "id": "469be05c",
   "metadata": {},
   "outputs": [],
   "source": [
    "# import evaluate\n",
    "\n",
    "# metric = evaluate.load(\"accuracy\")"
   ]
  },
  {
   "cell_type": "code",
   "execution_count": 22,
   "id": "f996a2d4",
   "metadata": {},
   "outputs": [],
   "source": [
    "def compute_metrics(eval_pred):\n",
    "    logits, labels = eval_pred\n",
    "    predictions = np.argmax(logits, axis=-1)\n",
    "    return metric.compute(predictions=predictions, references=labels)"
   ]
  },
  {
   "cell_type": "code",
   "execution_count": null,
   "id": "61610169",
   "metadata": {},
   "outputs": [],
   "source": [
    "trainer = Trainer(\n",
    "    model=model,\n",
    "    args=training_arguments,\n",
    "    train_dataset=small_train_dataset,\n",
    "    eval_dataset=small_eval_dataset,\n",
    "    compute_metrics=compute_metrics,\n",
    ")\n",
    "trainer.train()"
   ]
  },
  {
   "cell_type": "code",
   "execution_count": null,
   "id": "589fd69f",
   "metadata": {},
   "outputs": [],
   "source": [
    "trainer.save_model(\"./my_model_small\")"
   ]
  },
  {
   "cell_type": "markdown",
   "id": "192ac987",
   "metadata": {},
   "source": [
    "### STEP 4. Fine-tuning을 통하여 모델 성능(accuarcy) 향상시키기\n",
    "- 데이터 전처리, TrainingArguments 등을 조정하여 모델의 정확도를 90% 이상으로 끌어올려봅시다."
   ]
  },
  {
   "cell_type": "code",
   "execution_count": null,
   "id": "baa820e1",
   "metadata": {},
   "outputs": [],
   "source": [
    "trainer2 = Trainer(\n",
    "    model=model,\n",
    "    args=training_arguments,\n",
    "    train_dataset=train_dataset,\n",
    "    eval_dataset=val_dataset,\n",
    "    compute_metrics=compute_metrics,\n",
    ")\n",
    "trainer2.train()"
   ]
  },
  {
   "cell_type": "code",
   "execution_count": null,
   "id": "fce3e1c1",
   "metadata": {
    "scrolled": false
   },
   "outputs": [],
   "source": [
    "trainer.evaluate(test_dataset)"
   ]
  },
  {
   "cell_type": "code",
   "execution_count": null,
   "id": "857db1b3",
   "metadata": {
    "scrolled": true
   },
   "outputs": [],
   "source": [
    "trainer2.evaluate(test_dataset)"
   ]
  },
  {
   "cell_type": "code",
   "execution_count": 24,
   "id": "91a549de",
   "metadata": {},
   "outputs": [],
   "source": [
    "trainer2.save_model('./my_model_base')"
   ]
  },
  {
   "cell_type": "code",
   "execution_count": 59,
   "id": "71071b00",
   "metadata": {},
   "outputs": [],
   "source": [
    "del model\n",
    "torch.cuda.empty_cache()"
   ]
  },
  {
   "cell_type": "code",
   "execution_count": 45,
   "id": "0023881d",
   "metadata": {},
   "outputs": [],
   "source": [
    "model.save_pretrained('./my_model_base')"
   ]
  },
  {
   "cell_type": "code",
   "execution_count": 47,
   "id": "761493f2",
   "metadata": {},
   "outputs": [],
   "source": [
    "# # 테스트 데이터셋 준비\n",
    "# test_dataset = test_dataset.remove_columns(['id', 'document'])  # 필요한 컬럼만 남기기\n",
    "# test_dataset.set_format(type='torch', columns=['input_ids', 'attention_mask', 'label'])\n",
    "\n",
    "# # 데이터 로더 생성\n",
    "# test_dataloader = torch.utils.data.DataLoader(test_dataset, batch_size=32)"
   ]
  },
  {
   "cell_type": "code",
   "execution_count": 62,
   "id": "e46cbd7b",
   "metadata": {},
   "outputs": [],
   "source": [
    "# 예측 수행 및 메트릭 계산 함수 정의\n",
    "def compute_metrics(eval_pred):\n",
    "    logits, labels = eval_pred\n",
    "    predictions = np.argmax(logits, axis=-1)\n",
    "    return metric.compute(predictions=predictions, references=labels)"
   ]
  },
  {
   "cell_type": "code",
   "execution_count": 49,
   "id": "5080b31c",
   "metadata": {},
   "outputs": [],
   "source": [
    "from tqdm import tqdm"
   ]
  },
  {
   "cell_type": "code",
   "id": "12b97bad",
   "metadata": {
    "ExecuteTime": {
     "end_time": "2024-07-19T11:30:16.871558Z",
     "start_time": "2024-07-19T11:30:16.869578Z"
    }
   },
   "source": [
    "from transformers import AutoTokenizer, AutoModelForSequenceClassification\n",
    "\n",
    "tokenizer = AutoTokenizer.from_pretrained(\"klue/bert-base\")\n",
    "model = AutoModelForSequenceClassification.from_pretrained(\"klue/bert-base\")\n",
    "model.to(device)"
   ],
   "outputs": [],
   "execution_count": 2
  },
  {
   "cell_type": "markdown",
   "id": "a2d4add6",
   "metadata": {},
   "source": [
    "### STEP 5. Bucketing을 적용하여 학습시키고, STEP 4의 결과와의 비교\n",
    "- 아래 링크를 바탕으로 bucketing과 dynamic padding이 무엇인지 알아보고, 이들을 적용하여 model을 학습시킵니다.\n",
    "\n",
    "    - Data Collator\n",
    "    - Trainer.TrainingArguments 의 group_by_length\n",
    "\n",
    "- STEP 4에 학습한 결과와 bucketing을 적용하여 학습시킨 결과를 비교해보고, 모델 성능 향상과 훈련 시간 두 가지 측면에서 각각 어떤 이점이 있는지 비교해봅시다."
   ]
  },
  {
   "cell_type": "code",
   "execution_count": 66,
   "id": "f4c23c8f",
   "metadata": {},
   "outputs": [],
   "source": [
    "from transformers import AutoTokenizer, AutoModelForSequenceClassification, TrainingArguments, Trainer, DataCollatorWithPadding"
   ]
  },
  {
   "cell_type": "code",
   "execution_count": 34,
   "id": "4d5ce1b3",
   "metadata": {},
   "outputs": [],
   "source": [
    "tokenizer = AutoTokenizer.from_pretrained(\"klue/bert-base\")\n",
    "model = AutoModelForSequenceClassification.from_pretrained(\"klue/bert-base\")\n",
    "model.to(device)"
   ]
  },
  {
   "cell_type": "code",
   "execution_count": 67,
   "id": "083edfbd",
   "metadata": {},
   "outputs": [
    {
     "name": "stderr",
     "output_type": "stream",
     "text": [
      "Loading cached processed dataset at /aiffel/.cache/huggingface/datasets/nsmc/default/1.1.0/bfd4729bf1a67114e5267e6916b9e4807010aeb238e4a3c2b95fbfa3a014b5f3/cache-19a39e6d9a0133be.arrow\n"
     ]
    },
    {
     "data": {
      "application/vnd.jupyter.widget-view+json": {
       "model_id": "d9e6a16bd4dd4922b6de0325ec976826",
       "version_major": 2,
       "version_minor": 0
      },
      "text/plain": [
       "  0%|          | 0/50 [00:00<?, ?ba/s]"
      ]
     },
     "metadata": {},
     "output_type": "display_data"
    }
   ],
   "source": [
    "tokenized_datasets = dataset.map(tokenize_function, batched=True)"
   ]
  },
  {
   "cell_type": "code",
   "execution_count": 68,
   "id": "c4c1b377",
   "metadata": {},
   "outputs": [
    {
     "data": {
      "text/plain": [
       "DatasetDict({\n",
       "    train: Dataset({\n",
       "        features: ['attention_mask', 'document', 'id', 'input_ids', 'label', 'token_type_ids'],\n",
       "        num_rows: 150000\n",
       "    })\n",
       "    test: Dataset({\n",
       "        features: ['attention_mask', 'document', 'id', 'input_ids', 'label', 'token_type_ids'],\n",
       "        num_rows: 50000\n",
       "    })\n",
       "})"
      ]
     },
     "execution_count": 68,
     "metadata": {},
     "output_type": "execute_result"
    }
   ],
   "source": [
    "tokenized_datasets"
   ]
  },
  {
   "cell_type": "code",
   "execution_count": 15,
   "id": "c73cd5e5",
   "metadata": {},
   "outputs": [],
   "source": [
    "train_dataset = tokenized_datasets['train']\n",
    "test_dataset = tokenized_datasets[\"test\"]\n",
    "\n",
    "train_val_dataset = train_dataset.train_test_split(test_size=0.2)\n",
    "\n",
    "train_dataset = train_val_dataset['train']\n",
    "val_dataset = train_val_dataset['test']"
   ]
  },
  {
   "cell_type": "code",
   "execution_count": 20,
   "id": "b3fa3f73",
   "metadata": {
    "scrolled": true
   },
   "outputs": [
    {
     "name": "stdout",
     "output_type": "stream",
     "text": [
      "토큰 길이 평균: 22.275513333333333\n",
      "토큰 길이 최소: 2\n",
      "토큰 길이 최대: 142\n",
      "토큰 길이 표준편차: 16.69378983543947\n",
      "설정 최대 길이: 55\n",
      "전체 문장의 93.5%가 설정값인 55에 포함됩니다.\n"
     ]
    },
    {
     "data": {
      "image/png": "[encoded data removed]",
      "text/plain": [
       "<Figure size 432x288 with 1 Axes>"
      ]
     },
     "metadata": {
      "needs_background": "light"
     },
     "output_type": "display_data"
    }
   ],
   "source": [
    "get_token_len(tokenized_datasets['train']['input_ids'], max_tokens=None, hist=True)"
   ]
  },
  {
   "cell_type": "code",
   "execution_count": 42,
   "id": "90323ce4",
   "metadata": {},
   "outputs": [],
   "source": [
    "del trainer\n",
    "torch.cuda.empty_cache()"
   ]
  },
  {
   "cell_type": "code",
   "execution_count": 43,
   "id": "3bc3e3f6",
   "metadata": {},
   "outputs": [
    {
     "name": "stderr",
     "output_type": "stream",
     "text": [
      "PyTorch: setting up devices\n",
      "The default value for the training argument `--report_to` will change in v5 (from all installed integrations to none). In v5, you will need to use `--report_to all` to get the same behavior as now. You should start updating your code and make this info disappear :-).\n",
      "The following columns in the training set  don't have a corresponding argument in `BertForSequenceClassification.forward` and have been ignored: document, id.\n",
      "***** Running training *****\n",
      "  Num examples = 120000\n",
      "  Num Epochs = 2\n",
      "  Instantaneous batch size per device = 32\n",
      "  Total train batch size (w. parallel, distributed & accumulation) = 32\n",
      "  Gradient Accumulation steps = 1\n",
      "  Total optimization steps = 7500\n"
     ]
    },
    {
     "data": {
      "text/html": [
       "\n",
       "    <div>\n",
       "      \n",
       "      <progress value='7500' max='7500' style='width:300px; height:20px; vertical-align: middle;'></progress>\n",
       "      [7500/7500 29:23, Epoch 2/2]\n",
       "    </div>\n",
       "    <table border=\"1\" class=\"dataframe\">\n",
       "  <thead>\n",
       "    <tr style=\"text-align: left;\">\n",
       "      <th>Epoch</th>\n",
       "      <th>Training Loss</th>\n",
       "      <th>Validation Loss</th>\n",
       "      <th>Accuracy</th>\n",
       "    </tr>\n",
       "  </thead>\n",
       "  <tbody>\n",
       "    <tr>\n",
       "      <td>1</td>\n",
       "      <td>0.248300</td>\n",
       "      <td>0.243435</td>\n",
       "      <td>0.902400</td>\n",
       "    </tr>\n",
       "    <tr>\n",
       "      <td>2</td>\n",
       "      <td>0.170700</td>\n",
       "      <td>0.260654</td>\n",
       "      <td>0.903633</td>\n",
       "    </tr>\n",
       "  </tbody>\n",
       "</table><p>"
      ],
      "text/plain": [
       "<IPython.core.display.HTML object>"
      ]
     },
     "metadata": {},
     "output_type": "display_data"
    },
    {
     "name": "stderr",
     "output_type": "stream",
     "text": [
      "Saving model checkpoint to ./dc/checkpoint-500\n",
      "Configuration saved in ./dc/checkpoint-500/config.json\n",
      "Model weights saved in ./dc/checkpoint-500/pytorch_model.bin\n",
      "Saving model checkpoint to ./dc/checkpoint-1000\n",
      "Configuration saved in ./dc/checkpoint-1000/config.json\n",
      "Model weights saved in ./dc/checkpoint-1000/pytorch_model.bin\n",
      "Saving model checkpoint to ./dc/checkpoint-1500\n",
      "Configuration saved in ./dc/checkpoint-1500/config.json\n",
      "Model weights saved in ./dc/checkpoint-1500/pytorch_model.bin\n",
      "Saving model checkpoint to ./dc/checkpoint-2000\n",
      "Configuration saved in ./dc/checkpoint-2000/config.json\n",
      "Model weights saved in ./dc/checkpoint-2000/pytorch_model.bin\n",
      "Saving model checkpoint to ./dc/checkpoint-2500\n",
      "Configuration saved in ./dc/checkpoint-2500/config.json\n",
      "Model weights saved in ./dc/checkpoint-2500/pytorch_model.bin\n",
      "Saving model checkpoint to ./dc/checkpoint-3000\n",
      "Configuration saved in ./dc/checkpoint-3000/config.json\n",
      "Model weights saved in ./dc/checkpoint-3000/pytorch_model.bin\n",
      "Saving model checkpoint to ./dc/checkpoint-3500\n",
      "Configuration saved in ./dc/checkpoint-3500/config.json\n",
      "Model weights saved in ./dc/checkpoint-3500/pytorch_model.bin\n",
      "The following columns in the evaluation set  don't have a corresponding argument in `BertForSequenceClassification.forward` and have been ignored: document, id.\n",
      "***** Running Evaluation *****\n",
      "  Num examples = 30000\n",
      "  Batch size = 32\n",
      "Saving model checkpoint to ./dc/checkpoint-4000\n",
      "Configuration saved in ./dc/checkpoint-4000/config.json\n",
      "Model weights saved in ./dc/checkpoint-4000/pytorch_model.bin\n",
      "Saving model checkpoint to ./dc/checkpoint-4500\n",
      "Configuration saved in ./dc/checkpoint-4500/config.json\n",
      "Model weights saved in ./dc/checkpoint-4500/pytorch_model.bin\n",
      "Saving model checkpoint to ./dc/checkpoint-5000\n",
      "Configuration saved in ./dc/checkpoint-5000/config.json\n",
      "Model weights saved in ./dc/checkpoint-5000/pytorch_model.bin\n",
      "Saving model checkpoint to ./dc/checkpoint-5500\n",
      "Configuration saved in ./dc/checkpoint-5500/config.json\n",
      "Model weights saved in ./dc/checkpoint-5500/pytorch_model.bin\n",
      "Saving model checkpoint to ./dc/checkpoint-6000\n",
      "Configuration saved in ./dc/checkpoint-6000/config.json\n",
      "Model weights saved in ./dc/checkpoint-6000/pytorch_model.bin\n",
      "Saving model checkpoint to ./dc/checkpoint-6500\n",
      "Configuration saved in ./dc/checkpoint-6500/config.json\n",
      "Model weights saved in ./dc/checkpoint-6500/pytorch_model.bin\n",
      "Saving model checkpoint to ./dc/checkpoint-7000\n",
      "Configuration saved in ./dc/checkpoint-7000/config.json\n",
      "Model weights saved in ./dc/checkpoint-7000/pytorch_model.bin\n",
      "Saving model checkpoint to ./dc/checkpoint-7500\n",
      "Configuration saved in ./dc/checkpoint-7500/config.json\n",
      "Model weights saved in ./dc/checkpoint-7500/pytorch_model.bin\n",
      "The following columns in the evaluation set  don't have a corresponding argument in `BertForSequenceClassification.forward` and have been ignored: document, id.\n",
      "***** Running Evaluation *****\n",
      "  Num examples = 30000\n",
      "  Batch size = 32\n",
      "\n",
      "\n",
      "Training completed. Do not forget to share your model on huggingface.co/models =)\n",
      "\n",
      "\n"
     ]
    },
    {
     "data": {
      "text/plain": [
       "TrainOutput(global_step=7500, training_loss=0.221409912109375, metrics={'train_runtime': 1764.1497, 'train_samples_per_second': 136.043, 'train_steps_per_second': 4.251, 'total_flos': 2893662497967360.0, 'train_loss': 0.221409912109375, 'epoch': 2.0})"
      ]
     },
     "execution_count": 43,
     "metadata": {},
     "output_type": "execute_result"
    }
   ],
   "source": [
    "# Data collator with padding for dynamic padding\n",
    "data_collator = DataCollatorWithPadding(tokenizer=tokenizer)\n",
    "\n",
    "# Training arguments with group_by_length enabled\n",
    "training_args = TrainingArguments(\n",
    "    output_dir=\"./dc\",\n",
    "    evaluation_strategy=\"epoch\",\n",
    "    learning_rate=2e-5,\n",
    "    per_device_train_batch_size=32,\n",
    "    per_device_eval_batch_size=32,\n",
    "    num_train_epochs=2,\n",
    "    weight_decay=0.01,\n",
    "    group_by_length=True,\n",
    ")\n",
    "\n",
    "# Trainer\n",
    "trainer = Trainer(\n",
    "    model=model,\n",
    "    args=training_args,\n",
    "    train_dataset=train_dataset,\n",
    "    eval_dataset=val_dataset,\n",
    "    data_collator=data_collator,\n",
    "    compute_metrics=compute_metrics,\n",
    ")\n",
    "\n",
    "# Train the model\n",
    "trainer.train()"
   ]
  },
  {
   "cell_type": "markdown",
   "id": "30f5d7be",
   "metadata": {},
   "source": [
    "- 확실히 training 속도가 엄청 빨라짐을 볼 수 있다"
   ]
  },
  {
   "cell_type": "code",
   "execution_count": 44,
   "id": "eb5a7e96",
   "metadata": {},
   "outputs": [
    {
     "name": "stderr",
     "output_type": "stream",
     "text": [
      "The following columns in the evaluation set  don't have a corresponding argument in `BertForSequenceClassification.forward` and have been ignored: document, id.\n",
      "***** Running Evaluation *****\n",
      "  Num examples = 50000\n",
      "  Batch size = 32\n"
     ]
    },
    {
     "data": {
      "text/html": [
       "\n",
       "    <div>\n",
       "      \n",
       "      <progress value='1563' max='1563' style='width:300px; height:20px; vertical-align: middle;'></progress>\n",
       "      [1563/1563 03:34]\n",
       "    </div>\n",
       "    "
      ],
      "text/plain": [
       "<IPython.core.display.HTML object>"
      ]
     },
     "metadata": {},
     "output_type": "display_data"
    },
    {
     "data": {
      "text/plain": [
       "{'eval_loss': 0.2583564519882202,\n",
       " 'eval_accuracy': 0.90442,\n",
       " 'eval_runtime': 214.9711,\n",
       " 'eval_samples_per_second': 232.589,\n",
       " 'eval_steps_per_second': 7.271,\n",
       " 'epoch': 2.0}"
      ]
     },
     "execution_count": 44,
     "metadata": {},
     "output_type": "execute_result"
    }
   ],
   "source": [
    "trainer.evaluate(test_dataset)"
   ]
  },
  {
   "cell_type": "code",
   "execution_count": 45,
   "id": "b2fef98e",
   "metadata": {},
   "outputs": [
    {
     "name": "stderr",
     "output_type": "stream",
     "text": [
      "Saving model checkpoint to ./my_model_bucket\n",
      "Configuration saved in ./my_model_bucket/config.json\n",
      "Model weights saved in ./my_model_bucket/pytorch_model.bin\n"
     ]
    }
   ],
   "source": [
    "trainer.save_model(\"./my_model_bucket\")"
   ]
  },
  {
   "cell_type": "code",
   "execution_count": 113,
   "id": "960b80ef",
   "metadata": {},
   "outputs": [],
   "source": [
    "import pandas as pd"
   ]
  },
  {
   "cell_type": "code",
   "execution_count": 124,
   "id": "81551ae5",
   "metadata": {},
   "outputs": [],
   "source": [
    "base_model = {'eval_loss': 0.2689264714717865,\n",
    " 'eval_accuracy': 0.90304,\n",
    " 'eval_runtime': 170.5276,\n",
    " 'eval_samples_per_second': 293.208,\n",
    " 'eval_steps_per_second': 9.166,\n",
    " 'epoch': 2.0}\n",
    "\n",
    "bucket_model = {'eval_loss': 0.44552838802337646,\n",
    " 'eval_accuracy': 0.90024,\n",
    " 'eval_runtime': 225.0268,\n",
    " 'eval_samples_per_second': 222.196,\n",
    " 'eval_steps_per_second': 6.946,\n",
    " 'epoch': 2.0}\n",
    "\n",
    "models = dict()\n",
    "models['base_model'] = base_model\n",
    "models['bucket_model'] = bucket_model"
   ]
  },
  {
   "cell_type": "code",
   "execution_count": 116,
   "id": "acf4d9d1",
   "metadata": {
    "scrolled": true
   },
   "outputs": [
    {
     "data": {
      "text/html": [
       "<div>\n",
       "<style scoped>\n",
       "    .dataframe tbody tr th:only-of-type {\n",
       "        vertical-align: middle;\n",
       "    }\n",
       "\n",
       "    .dataframe tbody tr th {\n",
       "        vertical-align: top;\n",
       "    }\n",
       "\n",
       "    .dataframe thead th {\n",
       "        text-align: right;\n",
       "    }\n",
       "</style>\n",
       "<table border=\"1\" class=\"dataframe\">\n",
       "  <thead>\n",
       "    <tr style=\"text-align: right;\">\n",
       "      <th></th>\n",
       "      <th>eval_loss</th>\n",
       "      <th>eval_accuracy</th>\n",
       "      <th>eval_runtime</th>\n",
       "      <th>eval_samples_per_second</th>\n",
       "      <th>eval_steps_per_second</th>\n",
       "      <th>epoch</th>\n",
       "    </tr>\n",
       "  </thead>\n",
       "  <tbody>\n",
       "    <tr>\n",
       "      <th>base_model</th>\n",
       "      <td>0.268926</td>\n",
       "      <td>0.90304</td>\n",
       "      <td>170.5276</td>\n",
       "      <td>293.208</td>\n",
       "      <td>9.166</td>\n",
       "      <td>2.0</td>\n",
       "    </tr>\n",
       "    <tr>\n",
       "      <th>bucket_model</th>\n",
       "      <td>0.445528</td>\n",
       "      <td>0.90024</td>\n",
       "      <td>225.0268</td>\n",
       "      <td>222.196</td>\n",
       "      <td>6.946</td>\n",
       "      <td>2.0</td>\n",
       "    </tr>\n",
       "  </tbody>\n",
       "</table>\n",
       "</div>"
      ],
      "text/plain": [
       "              eval_loss  eval_accuracy  eval_runtime  eval_samples_per_second  \\\n",
       "base_model     0.268926        0.90304      170.5276                  293.208   \n",
       "bucket_model   0.445528        0.90024      225.0268                  222.196   \n",
       "\n",
       "              eval_steps_per_second  epoch  \n",
       "base_model                    9.166    2.0  \n",
       "bucket_model                  6.946    2.0  "
      ]
     },
     "execution_count": 116,
     "metadata": {},
     "output_type": "execute_result"
    }
   ],
   "source": [
    "pd.DataFrame(models).T"
   ]
  },
  {
   "cell_type": "code",
   "execution_count": 117,
   "id": "d61b720e",
   "metadata": {},
   "outputs": [],
   "source": [
    "models_train = dict()\n",
    "models_train['base']={'train_runtime': 2821.7386, 'train_samples_per_second': 85.054, 'train_steps_per_second': 2.658, 'total_flos': 6783331896000000.0, 'train_loss': 0.22245600280761718, 'epoch': 2.0}\n",
    "models_train['bucket']={'train_runtime': 1684.084, 'train_samples_per_second': 142.511, 'train_steps_per_second': 4.453, 'total_flos': 2893662497967360.0, 'train_loss': 0.07406029764811198, 'epoch': 2.0}"
   ]
  },
  {
   "cell_type": "code",
   "execution_count": 118,
   "id": "49b8b5ca",
   "metadata": {},
   "outputs": [
    {
     "data": {
      "text/html": [
       "<div>\n",
       "<style scoped>\n",
       "    .dataframe tbody tr th:only-of-type {\n",
       "        vertical-align: middle;\n",
       "    }\n",
       "\n",
       "    .dataframe tbody tr th {\n",
       "        vertical-align: top;\n",
       "    }\n",
       "\n",
       "    .dataframe thead th {\n",
       "        text-align: right;\n",
       "    }\n",
       "</style>\n",
       "<table border=\"1\" class=\"dataframe\">\n",
       "  <thead>\n",
       "    <tr style=\"text-align: right;\">\n",
       "      <th></th>\n",
       "      <th>train_runtime</th>\n",
       "      <th>train_samples_per_second</th>\n",
       "      <th>train_steps_per_second</th>\n",
       "      <th>total_flos</th>\n",
       "      <th>train_loss</th>\n",
       "      <th>epoch</th>\n",
       "    </tr>\n",
       "  </thead>\n",
       "  <tbody>\n",
       "    <tr>\n",
       "      <th>base</th>\n",
       "      <td>2821.7386</td>\n",
       "      <td>85.054</td>\n",
       "      <td>2.658</td>\n",
       "      <td>6.783332e+15</td>\n",
       "      <td>0.222456</td>\n",
       "      <td>2.0</td>\n",
       "    </tr>\n",
       "    <tr>\n",
       "      <th>bucket</th>\n",
       "      <td>1684.0840</td>\n",
       "      <td>142.511</td>\n",
       "      <td>4.453</td>\n",
       "      <td>2.893662e+15</td>\n",
       "      <td>0.074060</td>\n",
       "      <td>2.0</td>\n",
       "    </tr>\n",
       "  </tbody>\n",
       "</table>\n",
       "</div>"
      ],
      "text/plain": [
       "        train_runtime  train_samples_per_second  train_steps_per_second  \\\n",
       "base        2821.7386                    85.054                   2.658   \n",
       "bucket      1684.0840                   142.511                   4.453   \n",
       "\n",
       "          total_flos  train_loss  epoch  \n",
       "base    6.783332e+15    0.222456    2.0  \n",
       "bucket  2.893662e+15    0.074060    2.0  "
      ]
     },
     "execution_count": 118,
     "metadata": {},
     "output_type": "execute_result"
    }
   ],
   "source": [
    "pd.DataFrame(models_train).T"
   ]
  },
  {
   "cell_type": "markdown",
   "id": "15acd64c",
   "metadata": {},
   "source": [
    "## change params"
   ]
  },
  {
   "cell_type": "code",
   "execution_count": null,
   "id": "a22dd1c9",
   "metadata": {},
   "outputs": [],
   "source": [
    "# del model\n",
    "# del trainer\n",
    "# torch.cuda.empty_cache()"
   ]
  },
  {
   "cell_type": "code",
   "execution_count": 96,
   "id": "fecdc700",
   "metadata": {},
   "outputs": [],
   "source": [
    "from transformers import AutoTokenizer, AutoModelForSequenceClassification"
   ]
  },
  {
   "cell_type": "code",
   "id": "8f928547",
   "metadata": {
    "ExecuteTime": {
     "end_time": "2024-07-19T11:30:28.920130Z",
     "start_time": "2024-07-19T11:30:28.917208Z"
    }
   },
   "source": [
    "tokenizer = AutoTokenizer.from_pretrained(\"klue/bert-base\")\n",
    "model = AutoModelForSequenceClassification.from_pretrained(\"klue/bert-base\")\n",
    "model.to(device)"
   ],
   "outputs": [],
   "execution_count": 3
  },
  {
   "cell_type": "code",
   "execution_count": null,
   "id": "0dc3d63a",
   "metadata": {},
   "outputs": [
    {
     "name": "stderr",
     "output_type": "stream",
     "text": [
      "PyTorch: setting up devices\n",
      "The default value for the training argument `--report_to` will change in v5 (from all installed integrations to none). In v5, you will need to use `--report_to all` to get the same behavior as now. You should start updating your code and make this info disappear :-).\n",
      "The following columns in the training set  don't have a corresponding argument in `BertForSequenceClassification.forward` and have been ignored: document, id.\n",
      "***** Running training *****\n",
      "  Num examples = 120000\n",
      "  Num Epochs = 10\n",
      "  Instantaneous batch size per device = 32\n",
      "  Total train batch size (w. parallel, distributed & accumulation) = 32\n",
      "  Gradient Accumulation steps = 1\n",
      "  Total optimization steps = 37500\n"
     ]
    },
    {
     "data": {
      "text/html": [
       "\n",
       "    <div>\n",
       "      \n",
       "      <progress value='34300' max='37500' style='width:300px; height:20px; vertical-align: middle;'></progress>\n",
       "      [34300/37500 2:02:07 < 11:23, 4.68 it/s, Epoch 9.15/10]\n",
       "    </div>\n",
       "    <table border=\"1\" class=\"dataframe\">\n",
       "  <thead>\n",
       "    <tr style=\"text-align: left;\">\n",
       "      <th>Epoch</th>\n",
       "      <th>Training Loss</th>\n",
       "      <th>Validation Loss</th>\n",
       "      <th>Accuracy</th>\n",
       "    </tr>\n",
       "  </thead>\n",
       "  <tbody>\n",
       "    <tr>\n",
       "      <td>1</td>\n",
       "      <td>0.083300</td>\n",
       "      <td>0.360882</td>\n",
       "      <td>0.901200</td>\n",
       "    </tr>\n",
       "    <tr>\n",
       "      <td>2</td>\n",
       "      <td>0.154600</td>\n",
       "      <td>0.324261</td>\n",
       "      <td>0.903000</td>\n",
       "    </tr>\n",
       "    <tr>\n",
       "      <td>3</td>\n",
       "      <td>0.117200</td>\n",
       "      <td>0.335040</td>\n",
       "      <td>0.902833</td>\n",
       "    </tr>\n",
       "    <tr>\n",
       "      <td>4</td>\n",
       "      <td>0.110300</td>\n",
       "      <td>0.361037</td>\n",
       "      <td>0.903667</td>\n",
       "    </tr>\n",
       "    <tr>\n",
       "      <td>5</td>\n",
       "      <td>0.106300</td>\n",
       "      <td>0.383624</td>\n",
       "      <td>0.903500</td>\n",
       "    </tr>\n",
       "    <tr>\n",
       "      <td>6</td>\n",
       "      <td>0.095200</td>\n",
       "      <td>0.390023</td>\n",
       "      <td>0.902500</td>\n",
       "    </tr>\n",
       "    <tr>\n",
       "      <td>7</td>\n",
       "      <td>0.087500</td>\n",
       "      <td>0.407823</td>\n",
       "      <td>0.902767</td>\n",
       "    </tr>\n",
       "    <tr>\n",
       "      <td>8</td>\n",
       "      <td>0.083500</td>\n",
       "      <td>0.423076</td>\n",
       "      <td>0.902500</td>\n",
       "    </tr>\n",
       "    <tr>\n",
       "      <td>9</td>\n",
       "      <td>0.078300</td>\n",
       "      <td>0.430707</td>\n",
       "      <td>0.902633</td>\n",
       "    </tr>\n",
       "  </tbody>\n",
       "</table><p>"
      ],
      "text/plain": [
       "<IPython.core.display.HTML object>"
      ]
     },
     "metadata": {},
     "output_type": "display_data"
    },
    {
     "name": "stderr",
     "output_type": "stream",
     "text": [
      "Saving model checkpoint to ./dc/checkpoint-500\n",
      "Configuration saved in ./dc/checkpoint-500/config.json\n",
      "Model weights saved in ./dc/checkpoint-500/pytorch_model.bin\n",
      "Saving model checkpoint to ./dc/checkpoint-1000\n",
      "Configuration saved in ./dc/checkpoint-1000/config.json\n",
      "Model weights saved in ./dc/checkpoint-1000/pytorch_model.bin\n",
      "Saving model checkpoint to ./dc/checkpoint-1500\n",
      "Configuration saved in ./dc/checkpoint-1500/config.json\n",
      "Model weights saved in ./dc/checkpoint-1500/pytorch_model.bin\n",
      "Saving model checkpoint to ./dc/checkpoint-2000\n",
      "Configuration saved in ./dc/checkpoint-2000/config.json\n",
      "Model weights saved in ./dc/checkpoint-2000/pytorch_model.bin\n",
      "Saving model checkpoint to ./dc/checkpoint-2500\n",
      "Configuration saved in ./dc/checkpoint-2500/config.json\n",
      "Model weights saved in ./dc/checkpoint-2500/pytorch_model.bin\n",
      "Saving model checkpoint to ./dc/checkpoint-3000\n",
      "Configuration saved in ./dc/checkpoint-3000/config.json\n",
      "Model weights saved in ./dc/checkpoint-3000/pytorch_model.bin\n",
      "Saving model checkpoint to ./dc/checkpoint-3500\n",
      "Configuration saved in ./dc/checkpoint-3500/config.json\n",
      "Model weights saved in ./dc/checkpoint-3500/pytorch_model.bin\n",
      "The following columns in the evaluation set  don't have a corresponding argument in `BertForSequenceClassification.forward` and have been ignored: document, id.\n",
      "***** Running Evaluation *****\n",
      "  Num examples = 30000\n",
      "  Batch size = 32\n",
      "Saving model checkpoint to ./dc/checkpoint-4000\n",
      "Configuration saved in ./dc/checkpoint-4000/config.json\n",
      "Model weights saved in ./dc/checkpoint-4000/pytorch_model.bin\n",
      "Saving model checkpoint to ./dc/checkpoint-4500\n",
      "Configuration saved in ./dc/checkpoint-4500/config.json\n",
      "Model weights saved in ./dc/checkpoint-4500/pytorch_model.bin\n",
      "Saving model checkpoint to ./dc/checkpoint-5000\n",
      "Configuration saved in ./dc/checkpoint-5000/config.json\n",
      "Model weights saved in ./dc/checkpoint-5000/pytorch_model.bin\n",
      "Saving model checkpoint to ./dc/checkpoint-5500\n",
      "Configuration saved in ./dc/checkpoint-5500/config.json\n",
      "Model weights saved in ./dc/checkpoint-5500/pytorch_model.bin\n",
      "Saving model checkpoint to ./dc/checkpoint-6000\n",
      "Configuration saved in ./dc/checkpoint-6000/config.json\n",
      "Model weights saved in ./dc/checkpoint-6000/pytorch_model.bin\n",
      "Saving model checkpoint to ./dc/checkpoint-6500\n",
      "Configuration saved in ./dc/checkpoint-6500/config.json\n",
      "Model weights saved in ./dc/checkpoint-6500/pytorch_model.bin\n",
      "Saving model checkpoint to ./dc/checkpoint-7000\n",
      "Configuration saved in ./dc/checkpoint-7000/config.json\n",
      "Model weights saved in ./dc/checkpoint-7000/pytorch_model.bin\n",
      "Saving model checkpoint to ./dc/checkpoint-7500\n",
      "Configuration saved in ./dc/checkpoint-7500/config.json\n",
      "Model weights saved in ./dc/checkpoint-7500/pytorch_model.bin\n",
      "The following columns in the evaluation set  don't have a corresponding argument in `BertForSequenceClassification.forward` and have been ignored: document, id.\n",
      "***** Running Evaluation *****\n",
      "  Num examples = 30000\n",
      "  Batch size = 32\n",
      "Saving model checkpoint to ./dc/checkpoint-8000\n",
      "Configuration saved in ./dc/checkpoint-8000/config.json\n",
      "Model weights saved in ./dc/checkpoint-8000/pytorch_model.bin\n",
      "Saving model checkpoint to ./dc/checkpoint-8500\n",
      "Configuration saved in ./dc/checkpoint-8500/config.json\n",
      "Model weights saved in ./dc/checkpoint-8500/pytorch_model.bin\n",
      "Saving model checkpoint to ./dc/checkpoint-9000\n",
      "Configuration saved in ./dc/checkpoint-9000/config.json\n",
      "Model weights saved in ./dc/checkpoint-9000/pytorch_model.bin\n",
      "Saving model checkpoint to ./dc/checkpoint-9500\n",
      "Configuration saved in ./dc/checkpoint-9500/config.json\n",
      "Model weights saved in ./dc/checkpoint-9500/pytorch_model.bin\n",
      "Saving model checkpoint to ./dc/checkpoint-10000\n",
      "Configuration saved in ./dc/checkpoint-10000/config.json\n",
      "Model weights saved in ./dc/checkpoint-10000/pytorch_model.bin\n",
      "Saving model checkpoint to ./dc/checkpoint-10500\n",
      "Configuration saved in ./dc/checkpoint-10500/config.json\n",
      "Model weights saved in ./dc/checkpoint-10500/pytorch_model.bin\n",
      "The following columns in the evaluation set  don't have a corresponding argument in `BertForSequenceClassification.forward` and have been ignored: document, id.\n",
      "***** Running Evaluation *****\n",
      "  Num examples = 30000\n",
      "  Batch size = 32\n",
      "Saving model checkpoint to ./dc/checkpoint-11500\n",
      "Configuration saved in ./dc/checkpoint-11500/config.json\n",
      "Model weights saved in ./dc/checkpoint-11500/pytorch_model.bin\n",
      "Saving model checkpoint to ./dc/checkpoint-12000\n",
      "Configuration saved in ./dc/checkpoint-12000/config.json\n",
      "Model weights saved in ./dc/checkpoint-12000/pytorch_model.bin\n",
      "Saving model checkpoint to ./dc/checkpoint-12500\n",
      "Configuration saved in ./dc/checkpoint-12500/config.json\n",
      "Model weights saved in ./dc/checkpoint-12500/pytorch_model.bin\n",
      "Saving model checkpoint to ./dc/checkpoint-13000\n",
      "Configuration saved in ./dc/checkpoint-13000/config.json\n",
      "Model weights saved in ./dc/checkpoint-13000/pytorch_model.bin\n",
      "Saving model checkpoint to ./dc/checkpoint-13500\n",
      "Configuration saved in ./dc/checkpoint-13500/config.json\n",
      "Model weights saved in ./dc/checkpoint-13500/pytorch_model.bin\n",
      "Saving model checkpoint to ./dc/checkpoint-14000\n",
      "Configuration saved in ./dc/checkpoint-14000/config.json\n",
      "Model weights saved in ./dc/checkpoint-14000/pytorch_model.bin\n",
      "Saving model checkpoint to ./dc/checkpoint-14500\n",
      "Configuration saved in ./dc/checkpoint-14500/config.json\n",
      "Model weights saved in ./dc/checkpoint-14500/pytorch_model.bin\n",
      "Saving model checkpoint to ./dc/checkpoint-15000\n",
      "Configuration saved in ./dc/checkpoint-15000/config.json\n",
      "Model weights saved in ./dc/checkpoint-15000/pytorch_model.bin\n",
      "The following columns in the evaluation set  don't have a corresponding argument in `BertForSequenceClassification.forward` and have been ignored: document, id.\n",
      "***** Running Evaluation *****\n",
      "  Num examples = 30000\n",
      "  Batch size = 32\n",
      "Saving model checkpoint to ./dc/checkpoint-15500\n",
      "Configuration saved in ./dc/checkpoint-15500/config.json\n",
      "Model weights saved in ./dc/checkpoint-15500/pytorch_model.bin\n",
      "Saving model checkpoint to ./dc/checkpoint-16000\n",
      "Configuration saved in ./dc/checkpoint-16000/config.json\n",
      "Model weights saved in ./dc/checkpoint-16000/pytorch_model.bin\n",
      "Saving model checkpoint to ./dc/checkpoint-16500\n",
      "Configuration saved in ./dc/checkpoint-16500/config.json\n",
      "Model weights saved in ./dc/checkpoint-16500/pytorch_model.bin\n",
      "Saving model checkpoint to ./dc/checkpoint-17000\n",
      "Configuration saved in ./dc/checkpoint-17000/config.json\n",
      "Model weights saved in ./dc/checkpoint-17000/pytorch_model.bin\n",
      "Saving model checkpoint to ./dc/checkpoint-17500\n",
      "Configuration saved in ./dc/checkpoint-17500/config.json\n",
      "Model weights saved in ./dc/checkpoint-17500/pytorch_model.bin\n",
      "Saving model checkpoint to ./dc/checkpoint-18000\n",
      "Configuration saved in ./dc/checkpoint-18000/config.json\n",
      "Model weights saved in ./dc/checkpoint-18000/pytorch_model.bin\n",
      "Saving model checkpoint to ./dc/checkpoint-18500\n",
      "Configuration saved in ./dc/checkpoint-18500/config.json\n",
      "Model weights saved in ./dc/checkpoint-18500/pytorch_model.bin\n",
      "The following columns in the evaluation set  don't have a corresponding argument in `BertForSequenceClassification.forward` and have been ignored: document, id.\n",
      "***** Running Evaluation *****\n",
      "  Num examples = 30000\n",
      "  Batch size = 32\n",
      "Saving model checkpoint to ./dc/checkpoint-19000\n",
      "Configuration saved in ./dc/checkpoint-19000/config.json\n",
      "Model weights saved in ./dc/checkpoint-19000/pytorch_model.bin\n",
      "Saving model checkpoint to ./dc/checkpoint-19500\n",
      "Configuration saved in ./dc/checkpoint-19500/config.json\n",
      "Model weights saved in ./dc/checkpoint-19500/pytorch_model.bin\n",
      "Saving model checkpoint to ./dc/checkpoint-20000\n",
      "Configuration saved in ./dc/checkpoint-20000/config.json\n",
      "Model weights saved in ./dc/checkpoint-20000/pytorch_model.bin\n",
      "Saving model checkpoint to ./dc/checkpoint-20500\n",
      "Configuration saved in ./dc/checkpoint-20500/config.json\n",
      "Model weights saved in ./dc/checkpoint-20500/pytorch_model.bin\n",
      "Saving model checkpoint to ./dc/checkpoint-21000\n",
      "Configuration saved in ./dc/checkpoint-21000/config.json\n",
      "Model weights saved in ./dc/checkpoint-21000/pytorch_model.bin\n",
      "Saving model checkpoint to ./dc/checkpoint-21500\n",
      "Configuration saved in ./dc/checkpoint-21500/config.json\n",
      "Model weights saved in ./dc/checkpoint-21500/pytorch_model.bin\n",
      "Saving model checkpoint to ./dc/checkpoint-22000\n",
      "Configuration saved in ./dc/checkpoint-22000/config.json\n",
      "Model weights saved in ./dc/checkpoint-22000/pytorch_model.bin\n",
      "Saving model checkpoint to ./dc/checkpoint-22500\n",
      "Configuration saved in ./dc/checkpoint-22500/config.json\n",
      "Model weights saved in ./dc/checkpoint-22500/pytorch_model.bin\n",
      "The following columns in the evaluation set  don't have a corresponding argument in `BertForSequenceClassification.forward` and have been ignored: document, id.\n",
      "***** Running Evaluation *****\n",
      "  Num examples = 30000\n",
      "  Batch size = 32\n",
      "Saving model checkpoint to ./dc/checkpoint-23000\n",
      "Configuration saved in ./dc/checkpoint-23000/config.json\n",
      "Model weights saved in ./dc/checkpoint-23000/pytorch_model.bin\n",
      "Saving model checkpoint to ./dc/checkpoint-23500\n",
      "Configuration saved in ./dc/checkpoint-23500/config.json\n",
      "Model weights saved in ./dc/checkpoint-23500/pytorch_model.bin\n",
      "Saving model checkpoint to ./dc/checkpoint-24000\n",
      "Configuration saved in ./dc/checkpoint-24000/config.json\n",
      "Model weights saved in ./dc/checkpoint-24000/pytorch_model.bin\n",
      "Saving model checkpoint to ./dc/checkpoint-24500\n",
      "Configuration saved in ./dc/checkpoint-24500/config.json\n",
      "Model weights saved in ./dc/checkpoint-24500/pytorch_model.bin\n",
      "Saving model checkpoint to ./dc/checkpoint-25000\n",
      "Configuration saved in ./dc/checkpoint-25000/config.json\n",
      "Model weights saved in ./dc/checkpoint-25000/pytorch_model.bin\n",
      "Saving model checkpoint to ./dc/checkpoint-25500\n",
      "Configuration saved in ./dc/checkpoint-25500/config.json\n",
      "Model weights saved in ./dc/checkpoint-25500/pytorch_model.bin\n",
      "Saving model checkpoint to ./dc/checkpoint-26000\n",
      "Configuration saved in ./dc/checkpoint-26000/config.json\n",
      "Model weights saved in ./dc/checkpoint-26000/pytorch_model.bin\n",
      "The following columns in the evaluation set  don't have a corresponding argument in `BertForSequenceClassification.forward` and have been ignored: document, id.\n",
      "***** Running Evaluation *****\n",
      "  Num examples = 30000\n",
      "  Batch size = 32\n",
      "Saving model checkpoint to ./dc/checkpoint-26500\n",
      "Configuration saved in ./dc/checkpoint-26500/config.json\n",
      "Model weights saved in ./dc/checkpoint-26500/pytorch_model.bin\n",
      "Saving model checkpoint to ./dc/checkpoint-27000\n",
      "Configuration saved in ./dc/checkpoint-27000/config.json\n",
      "Model weights saved in ./dc/checkpoint-27000/pytorch_model.bin\n",
      "Saving model checkpoint to ./dc/checkpoint-27500\n",
      "Configuration saved in ./dc/checkpoint-27500/config.json\n",
      "Model weights saved in ./dc/checkpoint-27500/pytorch_model.bin\n",
      "Saving model checkpoint to ./dc/checkpoint-28000\n",
      "Configuration saved in ./dc/checkpoint-28000/config.json\n",
      "Model weights saved in ./dc/checkpoint-28000/pytorch_model.bin\n",
      "Saving model checkpoint to ./dc/checkpoint-28500\n",
      "Configuration saved in ./dc/checkpoint-28500/config.json\n",
      "Model weights saved in ./dc/checkpoint-28500/pytorch_model.bin\n",
      "Saving model checkpoint to ./dc/checkpoint-29000\n",
      "Configuration saved in ./dc/checkpoint-29000/config.json\n",
      "Model weights saved in ./dc/checkpoint-29000/pytorch_model.bin\n",
      "Saving model checkpoint to ./dc/checkpoint-29500\n",
      "Configuration saved in ./dc/checkpoint-29500/config.json\n",
      "Model weights saved in ./dc/checkpoint-29500/pytorch_model.bin\n",
      "Saving model checkpoint to ./dc/checkpoint-30000\n",
      "Configuration saved in ./dc/checkpoint-30000/config.json\n",
      "Model weights saved in ./dc/checkpoint-30000/pytorch_model.bin\n",
      "The following columns in the evaluation set  don't have a corresponding argument in `BertForSequenceClassification.forward` and have been ignored: document, id.\n",
      "***** Running Evaluation *****\n",
      "  Num examples = 30000\n",
      "  Batch size = 32\n",
      "Saving model checkpoint to ./dc/checkpoint-30500\n",
      "Configuration saved in ./dc/checkpoint-30500/config.json\n",
      "Model weights saved in ./dc/checkpoint-30500/pytorch_model.bin\n",
      "Saving model checkpoint to ./dc/checkpoint-31000\n",
      "Configuration saved in ./dc/checkpoint-31000/config.json\n",
      "Model weights saved in ./dc/checkpoint-31000/pytorch_model.bin\n",
      "Saving model checkpoint to ./dc/checkpoint-31500\n",
      "Configuration saved in ./dc/checkpoint-31500/config.json\n",
      "Model weights saved in ./dc/checkpoint-31500/pytorch_model.bin\n",
      "Saving model checkpoint to ./dc/checkpoint-32000\n",
      "Configuration saved in ./dc/checkpoint-32000/config.json\n",
      "Model weights saved in ./dc/checkpoint-32000/pytorch_model.bin\n",
      "Saving model checkpoint to ./dc/checkpoint-32500\n",
      "Configuration saved in ./dc/checkpoint-32500/config.json\n",
      "Model weights saved in ./dc/checkpoint-32500/pytorch_model.bin\n",
      "Saving model checkpoint to ./dc/checkpoint-33000\n",
      "Configuration saved in ./dc/checkpoint-33000/config.json\n",
      "Model weights saved in ./dc/checkpoint-33000/pytorch_model.bin\n",
      "Saving model checkpoint to ./dc/checkpoint-33500\n",
      "Configuration saved in ./dc/checkpoint-33500/config.json\n",
      "Model weights saved in ./dc/checkpoint-33500/pytorch_model.bin\n",
      "The following columns in the evaluation set  don't have a corresponding argument in `BertForSequenceClassification.forward` and have been ignored: document, id.\n",
      "***** Running Evaluation *****\n",
      "  Num examples = 30000\n",
      "  Batch size = 32\n",
      "Saving model checkpoint to ./dc/checkpoint-34000\n",
      "Configuration saved in ./dc/checkpoint-34000/config.json\n",
      "Model weights saved in ./dc/checkpoint-34000/pytorch_model.bin\n"
     ]
    }
   ],
   "source": [
    "# Data collator with padding for dynamic padding\n",
    "data_collator = DataCollatorWithPadding(tokenizer=tokenizer)\n",
    "\n",
    "# Training arguments with group_by_length enabled\n",
    "training_args = TrainingArguments(\n",
    "    output_dir=\"./dc\",\n",
    "    evaluation_strategy=\"epoch\",\n",
    "    learning_rate=2e-6,\n",
    "    per_device_train_batch_size=32,\n",
    "    per_device_eval_batch_size=32,\n",
    "    num_train_epochs=10,\n",
    "    weight_decay=0.01,\n",
    "    group_by_length=True,\n",
    ")\n",
    "\n",
    "# Trainer\n",
    "trainer = Trainer(\n",
    "    model=model,\n",
    "    args=training_args,\n",
    "    train_dataset=train_dataset,\n",
    "    eval_dataset=val_dataset,\n",
    "    data_collator=data_collator,\n",
    "    compute_metrics=compute_metrics,\n",
    ")\n",
    "\n",
    "# Train the model\n",
    "trainer.train()"
   ]
  },
  {
   "cell_type": "code",
   "execution_count": 69,
   "id": "22df1539",
   "metadata": {},
   "outputs": [
    {
     "name": "stderr",
     "output_type": "stream",
     "text": [
      "The following columns in the training set  don't have a corresponding argument in `BertForSequenceClassification.forward` and have been ignored: id, document.\n",
      "***** Running training *****\n",
      "  Num examples = 120000\n",
      "  Num Epochs = 1\n",
      "  Instantaneous batch size per device = 32\n",
      "  Total train batch size (w. parallel, distributed & accumulation) = 32\n",
      "  Gradient Accumulation steps = 1\n",
      "  Total optimization steps = 3750\n"
     ]
    },
    {
     "data": {
      "text/html": [
       "\n",
       "    <div>\n",
       "      \n",
       "      <progress value='3750' max='3750' style='width:300px; height:20px; vertical-align: middle;'></progress>\n",
       "      [3750/3750 23:12, Epoch 1/1]\n",
       "    </div>\n",
       "    <table border=\"1\" class=\"dataframe\">\n",
       "  <thead>\n",
       "    <tr style=\"text-align: left;\">\n",
       "      <th>Epoch</th>\n",
       "      <th>Training Loss</th>\n",
       "      <th>Validation Loss</th>\n",
       "      <th>Accuracy</th>\n",
       "    </tr>\n",
       "  </thead>\n",
       "  <tbody>\n",
       "    <tr>\n",
       "      <td>1</td>\n",
       "      <td>0.309100</td>\n",
       "      <td>0.305548</td>\n",
       "      <td>0.870633</td>\n",
       "    </tr>\n",
       "  </tbody>\n",
       "</table><p>"
      ],
      "text/plain": [
       "<IPython.core.display.HTML object>"
      ]
     },
     "metadata": {},
     "output_type": "display_data"
    },
    {
     "name": "stderr",
     "output_type": "stream",
     "text": [
      "Saving model checkpoint to ./dc/checkpoint-500\n",
      "Configuration saved in ./dc/checkpoint-500/config.json\n",
      "Model weights saved in ./dc/checkpoint-500/pytorch_model.bin\n",
      "Saving model checkpoint to ./dc/checkpoint-1000\n",
      "Configuration saved in ./dc/checkpoint-1000/config.json\n",
      "Model weights saved in ./dc/checkpoint-1000/pytorch_model.bin\n",
      "Saving model checkpoint to ./dc/checkpoint-1500\n",
      "Configuration saved in ./dc/checkpoint-1500/config.json\n",
      "Model weights saved in ./dc/checkpoint-1500/pytorch_model.bin\n",
      "Saving model checkpoint to ./dc/checkpoint-2000\n",
      "Configuration saved in ./dc/checkpoint-2000/config.json\n",
      "Model weights saved in ./dc/checkpoint-2000/pytorch_model.bin\n",
      "Saving model checkpoint to ./dc/checkpoint-2500\n",
      "Configuration saved in ./dc/checkpoint-2500/config.json\n",
      "Model weights saved in ./dc/checkpoint-2500/pytorch_model.bin\n",
      "Saving model checkpoint to ./dc/checkpoint-3000\n",
      "Configuration saved in ./dc/checkpoint-3000/config.json\n",
      "Model weights saved in ./dc/checkpoint-3000/pytorch_model.bin\n",
      "Saving model checkpoint to ./dc/checkpoint-3500\n",
      "Configuration saved in ./dc/checkpoint-3500/config.json\n",
      "Model weights saved in ./dc/checkpoint-3500/pytorch_model.bin\n",
      "The following columns in the evaluation set  don't have a corresponding argument in `BertForSequenceClassification.forward` and have been ignored: id, document.\n",
      "***** Running Evaluation *****\n",
      "  Num examples = 30000\n",
      "  Batch size = 32\n",
      "\n",
      "\n",
      "Training completed. Do not forget to share your model on huggingface.co/models =)\n",
      "\n",
      "\n"
     ]
    },
    {
     "data": {
      "text/plain": [
       "TrainOutput(global_step=3750, training_loss=0.3474164123535156, metrics={'train_runtime': 1393.3961, 'train_samples_per_second': 86.121, 'train_steps_per_second': 2.691, 'total_flos': 3391665948000000.0, 'train_loss': 0.3474164123535156, 'epoch': 1.0})"
      ]
     },
     "execution_count": 69,
     "metadata": {},
     "output_type": "execute_result"
    }
   ],
   "source": [
    "model.save_pretrained('./dc/checkpoint-34000/')\n",
    "\n",
    "# Data collator with padding for dynamic padding\n",
    "data_collator = DataCollatorWithPadding(tokenizer=tokenizer)\n",
    "\n",
    "# Training arguments with group_by_length enabled\n",
    "training_args = TrainingArguments(\n",
    "    output_dir=\"./dc\",\n",
    "    evaluation_strategy=\"epoch\",\n",
    "    learning_rate=2e-6,\n",
    "    per_device_train_batch_size=32,\n",
    "    per_device_eval_batch_size=32,\n",
    "    num_train_epochs=1,\n",
    "    weight_decay=0.01,\n",
    "    group_by_length=True,\n",
    ")\n",
    "\n",
    "# Trainer\n",
    "trainer = Trainer(\n",
    "    model=model,\n",
    "    args=training_args,\n",
    "    train_dataset=train_dataset,\n",
    "    eval_dataset=val_dataset,\n",
    "    data_collator=data_collator,\n",
    "    compute_metrics=compute_metrics,\n",
    ")\n",
    "\n",
    "# Train the model\n",
    "trainer.train()"
   ]
  },
  {
   "cell_type": "code",
   "execution_count": 70,
   "id": "9426c3c5",
   "metadata": {},
   "outputs": [
    {
     "name": "stderr",
     "output_type": "stream",
     "text": [
      "***** Running Evaluation *****\n",
      "  Num examples = 50000\n",
      "  Batch size = 32\n"
     ]
    },
    {
     "data": {
      "text/html": [
       "\n",
       "    <div>\n",
       "      \n",
       "      <progress value='1563' max='1563' style='width:300px; height:20px; vertical-align: middle;'></progress>\n",
       "      [1563/1563 02:46]\n",
       "    </div>\n",
       "    "
      ],
      "text/plain": [
       "<IPython.core.display.HTML object>"
      ]
     },
     "metadata": {},
     "output_type": "display_data"
    },
    {
     "data": {
      "text/plain": [
       "{'eval_loss': 0.31138962507247925,\n",
       " 'eval_accuracy': 0.86698,\n",
       " 'eval_runtime': 166.8412,\n",
       " 'eval_samples_per_second': 299.686,\n",
       " 'eval_steps_per_second': 9.368,\n",
       " 'epoch': 1.0}"
      ]
     },
     "execution_count": 70,
     "metadata": {},
     "output_type": "execute_result"
    }
   ],
   "source": [
    "trainer.evaluate(test_dataset)"
   ]
  },
  {
   "cell_type": "code",
   "execution_count": 123,
   "id": "9cd71dd0",
   "metadata": {},
   "outputs": [],
   "source": [
    "models_train['lr_2e6'] = {'train_runtime': 1393.3961, 'train_samples_per_second': 86.121, 'train_steps_per_second': 2.691, 'total_flos': 3391665948000000.0, 'train_loss': 0.3474164123535156, 'epoch': 1.0}"
   ]
  },
  {
   "cell_type": "markdown",
   "id": "12e214ee",
   "metadata": {},
   "source": [
    "## 원 데이터에서 성능 올리기"
   ]
  },
  {
   "cell_type": "code",
   "execution_count": 71,
   "id": "712e3195",
   "metadata": {
    "scrolled": true
   },
   "outputs": [
    {
     "name": "stderr",
     "output_type": "stream",
     "text": [
      "Loading cached processed dataset at /aiffel/.cache/huggingface/datasets/nsmc/default/1.1.0/bfd4729bf1a67114e5267e6916b9e4807010aeb238e4a3c2b95fbfa3a014b5f3/cache-e20a56b80389f406.arrow\n"
     ]
    },
    {
     "data": {
      "application/vnd.jupyter.widget-view+json": {
       "model_id": "30e042a91fc547daaa405494d0ca9193",
       "version_major": 2,
       "version_minor": 0
      },
      "text/plain": [
       "  0%|          | 0/50 [00:00<?, ?ba/s]"
      ]
     },
     "metadata": {},
     "output_type": "display_data"
    }
   ],
   "source": [
    "tokenized_datasets = dataset.map(tokenize_function_with_max, batched=True)"
   ]
  },
  {
   "cell_type": "code",
   "execution_count": 72,
   "id": "0901271c",
   "metadata": {},
   "outputs": [],
   "source": [
    "train_dataset = tokenized_datasets['train']\n",
    "test_dataset = tokenized_datasets[\"test\"]\n",
    "\n",
    "train_val_dataset = train_dataset.train_test_split(test_size=0.2)\n",
    "\n",
    "train_dataset = train_val_dataset['train']\n",
    "val_dataset = train_val_dataset['test']"
   ]
  },
  {
   "cell_type": "code",
   "execution_count": 73,
   "id": "09f81f57",
   "metadata": {},
   "outputs": [
    {
     "name": "stderr",
     "output_type": "stream",
     "text": [
      "PyTorch: setting up devices\n",
      "The default value for the training argument `--report_to` will change in v5 (from all installed integrations to none). In v5, you will need to use `--report_to all` to get the same behavior as now. You should start updating your code and make this info disappear :-).\n",
      "The following columns in the training set  don't have a corresponding argument in `BertForSequenceClassification.forward` and have been ignored: id, document.\n",
      "***** Running training *****\n",
      "  Num examples = 120000\n",
      "  Num Epochs = 2\n",
      "  Instantaneous batch size per device = 32\n",
      "  Total train batch size (w. parallel, distributed & accumulation) = 32\n",
      "  Gradient Accumulation steps = 1\n",
      "  Total optimization steps = 7500\n"
     ]
    },
    {
     "data": {
      "text/html": [
       "\n",
       "    <div>\n",
       "      \n",
       "      <progress value='7500' max='7500' style='width:300px; height:20px; vertical-align: middle;'></progress>\n",
       "      [7500/7500 45:05, Epoch 2/2]\n",
       "    </div>\n",
       "    <table border=\"1\" class=\"dataframe\">\n",
       "  <thead>\n",
       "    <tr style=\"text-align: left;\">\n",
       "      <th>Epoch</th>\n",
       "      <th>Training Loss</th>\n",
       "      <th>Validation Loss</th>\n",
       "      <th>Accuracy</th>\n",
       "    </tr>\n",
       "  </thead>\n",
       "  <tbody>\n",
       "    <tr>\n",
       "      <td>1</td>\n",
       "      <td>0.283400</td>\n",
       "      <td>0.274432</td>\n",
       "      <td>0.886833</td>\n",
       "    </tr>\n",
       "    <tr>\n",
       "      <td>2</td>\n",
       "      <td>0.261700</td>\n",
       "      <td>0.271819</td>\n",
       "      <td>0.888867</td>\n",
       "    </tr>\n",
       "  </tbody>\n",
       "</table><p>"
      ],
      "text/plain": [
       "<IPython.core.display.HTML object>"
      ]
     },
     "metadata": {},
     "output_type": "display_data"
    },
    {
     "name": "stderr",
     "output_type": "stream",
     "text": [
      "Saving model checkpoint to ./test/checkpoint-500\n",
      "Configuration saved in ./test/checkpoint-500/config.json\n",
      "Model weights saved in ./test/checkpoint-500/pytorch_model.bin\n",
      "Saving model checkpoint to ./test/checkpoint-1000\n",
      "Configuration saved in ./test/checkpoint-1000/config.json\n",
      "Model weights saved in ./test/checkpoint-1000/pytorch_model.bin\n",
      "Saving model checkpoint to ./test/checkpoint-1500\n",
      "Configuration saved in ./test/checkpoint-1500/config.json\n",
      "Model weights saved in ./test/checkpoint-1500/pytorch_model.bin\n",
      "Saving model checkpoint to ./test/checkpoint-2000\n",
      "Configuration saved in ./test/checkpoint-2000/config.json\n",
      "Model weights saved in ./test/checkpoint-2000/pytorch_model.bin\n",
      "Saving model checkpoint to ./test/checkpoint-2500\n",
      "Configuration saved in ./test/checkpoint-2500/config.json\n",
      "Model weights saved in ./test/checkpoint-2500/pytorch_model.bin\n",
      "Saving model checkpoint to ./test/checkpoint-3000\n",
      "Configuration saved in ./test/checkpoint-3000/config.json\n",
      "Model weights saved in ./test/checkpoint-3000/pytorch_model.bin\n",
      "Saving model checkpoint to ./test/checkpoint-3500\n",
      "Configuration saved in ./test/checkpoint-3500/config.json\n",
      "Model weights saved in ./test/checkpoint-3500/pytorch_model.bin\n",
      "The following columns in the evaluation set  don't have a corresponding argument in `BertForSequenceClassification.forward` and have been ignored: id, document.\n",
      "***** Running Evaluation *****\n",
      "  Num examples = 30000\n",
      "  Batch size = 32\n",
      "Saving model checkpoint to ./test/checkpoint-4000\n",
      "Configuration saved in ./test/checkpoint-4000/config.json\n",
      "Model weights saved in ./test/checkpoint-4000/pytorch_model.bin\n",
      "Saving model checkpoint to ./test/checkpoint-4500\n",
      "Configuration saved in ./test/checkpoint-4500/config.json\n",
      "Model weights saved in ./test/checkpoint-4500/pytorch_model.bin\n",
      "Saving model checkpoint to ./test/checkpoint-5000\n",
      "Configuration saved in ./test/checkpoint-5000/config.json\n",
      "Model weights saved in ./test/checkpoint-5000/pytorch_model.bin\n",
      "Saving model checkpoint to ./test/checkpoint-5500\n",
      "Configuration saved in ./test/checkpoint-5500/config.json\n",
      "Model weights saved in ./test/checkpoint-5500/pytorch_model.bin\n",
      "Saving model checkpoint to ./test/checkpoint-6000\n",
      "Configuration saved in ./test/checkpoint-6000/config.json\n",
      "Model weights saved in ./test/checkpoint-6000/pytorch_model.bin\n",
      "Saving model checkpoint to ./test/checkpoint-6500\n",
      "Configuration saved in ./test/checkpoint-6500/config.json\n",
      "Model weights saved in ./test/checkpoint-6500/pytorch_model.bin\n",
      "Saving model checkpoint to ./test/checkpoint-7000\n",
      "Configuration saved in ./test/checkpoint-7000/config.json\n",
      "Model weights saved in ./test/checkpoint-7000/pytorch_model.bin\n",
      "Saving model checkpoint to ./test/checkpoint-7500\n",
      "Configuration saved in ./test/checkpoint-7500/config.json\n",
      "Model weights saved in ./test/checkpoint-7500/pytorch_model.bin\n",
      "The following columns in the evaluation set  don't have a corresponding argument in `BertForSequenceClassification.forward` and have been ignored: id, document.\n",
      "***** Running Evaluation *****\n",
      "  Num examples = 30000\n",
      "  Batch size = 32\n",
      "\n",
      "\n",
      "Training completed. Do not forget to share your model on huggingface.co/models =)\n",
      "\n",
      "\n"
     ]
    },
    {
     "data": {
      "text/plain": [
       "TrainOutput(global_step=7500, training_loss=0.27669736124674477, metrics={'train_runtime': 2705.9997, 'train_samples_per_second': 88.692, 'train_steps_per_second': 2.772, 'total_flos': 6783331896000000.0, 'train_loss': 0.27669736124674477, 'epoch': 2.0})"
      ]
     },
     "execution_count": 73,
     "metadata": {},
     "output_type": "execute_result"
    }
   ],
   "source": [
    "training_args = TrainingArguments(\n",
    "    output_dir=\"./test\",\n",
    "    evaluation_strategy=\"epoch\",\n",
    "    learning_rate=2e-6,\n",
    "    per_device_train_batch_size=32,\n",
    "    per_device_eval_batch_size=32,\n",
    "    num_train_epochs=2,\n",
    "    weight_decay=0.01,\n",
    ")\n",
    "\n",
    "# Trainer\n",
    "trainer = Trainer(\n",
    "    model=model,\n",
    "    args=training_args,\n",
    "    train_dataset=train_dataset,\n",
    "    eval_dataset=val_dataset,\n",
    "    compute_metrics=compute_metrics,\n",
    ")\n",
    "\n",
    "# Train the model\n",
    "trainer.train()"
   ]
  },
  {
   "cell_type": "code",
   "execution_count": 74,
   "id": "359c34d5",
   "metadata": {
    "scrolled": true
   },
   "outputs": [
    {
     "name": "stderr",
     "output_type": "stream",
     "text": [
      "The following columns in the evaluation set  don't have a corresponding argument in `BertForSequenceClassification.forward` and have been ignored: id, document.\n",
      "***** Running Evaluation *****\n",
      "  Num examples = 50000\n",
      "  Batch size = 32\n"
     ]
    },
    {
     "data": {
      "text/html": [
       "\n",
       "    <div>\n",
       "      \n",
       "      <progress value='1563' max='1563' style='width:300px; height:20px; vertical-align: middle;'></progress>\n",
       "      [1563/1563 02:43]\n",
       "    </div>\n",
       "    "
      ],
      "text/plain": [
       "<IPython.core.display.HTML object>"
      ]
     },
     "metadata": {},
     "output_type": "display_data"
    },
    {
     "data": {
      "text/plain": [
       "{'eval_loss': 0.278146356344223,\n",
       " 'eval_accuracy': 0.88564,\n",
       " 'eval_runtime': 163.6872,\n",
       " 'eval_samples_per_second': 305.461,\n",
       " 'eval_steps_per_second': 9.549,\n",
       " 'epoch': 2.0}"
      ]
     },
     "execution_count": 74,
     "metadata": {},
     "output_type": "execute_result"
    }
   ],
   "source": [
    "trainer.evaluate(test_dataset)"
   ]
  },
  {
   "cell_type": "code",
   "execution_count": 128,
   "id": "8fa59c8a",
   "metadata": {},
   "outputs": [],
   "source": [
    "models['lr_2e6_model'] = {'eval_loss': 0.278146356344223,\n",
    " 'eval_accuracy': 0.88564,\n",
    " 'eval_runtime': 163.6872,\n",
    " 'eval_samples_per_second': 305.461,\n",
    " 'eval_steps_per_second': 9.549,\n",
    " 'epoch': 2.0}"
   ]
  },
  {
   "cell_type": "code",
   "execution_count": 77,
   "id": "7a5346df",
   "metadata": {},
   "outputs": [],
   "source": [
    "del model"
   ]
  },
  {
   "cell_type": "code",
   "execution_count": 78,
   "id": "0a2070f0",
   "metadata": {},
   "outputs": [],
   "source": [
    "torch.cuda.empty_cache()"
   ]
  },
  {
   "cell_type": "markdown",
   "id": "a3f3530e",
   "metadata": {},
   "source": [
    "### 최고 성능을 보여준 모델의 weight을 불러와서 재 학습"
   ]
  },
  {
   "cell_type": "code",
   "id": "fffefc2b",
   "metadata": {
    "ExecuteTime": {
     "end_time": "2024-07-19T11:30:45.288749Z",
     "start_time": "2024-07-19T11:30:45.286787Z"
    }
   },
   "source": [
    "from transformers import AutoTokenizer, AutoModelForSequenceClassification\n",
    "\n",
    "tokenizer = AutoTokenizer.from_pretrained(\"klue/bert-base\")\n",
    "model = AutoModelForSequenceClassification.from_pretrained(\"klue/bert-base\")\n",
    "model.save_pretrained('./my_model_base')\n",
    "model.to(device)"
   ],
   "outputs": [],
   "execution_count": 4
  },
  {
   "cell_type": "code",
   "execution_count": 80,
   "id": "a9ece2b1",
   "metadata": {
    "scrolled": true
   },
   "outputs": [
    {
     "name": "stderr",
     "output_type": "stream",
     "text": [
      "PyTorch: setting up devices\n",
      "The default value for the training argument `--report_to` will change in v5 (from all installed integrations to none). In v5, you will need to use `--report_to all` to get the same behavior as now. You should start updating your code and make this info disappear :-).\n",
      "The following columns in the training set  don't have a corresponding argument in `BertForSequenceClassification.forward` and have been ignored: id, document.\n",
      "***** Running training *****\n",
      "  Num examples = 120000\n",
      "  Num Epochs = 2\n",
      "  Instantaneous batch size per device = 32\n",
      "  Total train batch size (w. parallel, distributed & accumulation) = 32\n",
      "  Gradient Accumulation steps = 1\n",
      "  Total optimization steps = 7500\n"
     ]
    },
    {
     "data": {
      "text/html": [
       "\n",
       "    <div>\n",
       "      \n",
       "      <progress value='7500' max='7500' style='width:300px; height:20px; vertical-align: middle;'></progress>\n",
       "      [7500/7500 42:40, Epoch 2/2]\n",
       "    </div>\n",
       "    <table border=\"1\" class=\"dataframe\">\n",
       "  <thead>\n",
       "    <tr style=\"text-align: left;\">\n",
       "      <th>Epoch</th>\n",
       "      <th>Training Loss</th>\n",
       "      <th>Validation Loss</th>\n",
       "      <th>Accuracy</th>\n",
       "    </tr>\n",
       "  </thead>\n",
       "  <tbody>\n",
       "    <tr>\n",
       "      <td>1</td>\n",
       "      <td>0.257800</td>\n",
       "      <td>0.243454</td>\n",
       "      <td>0.902533</td>\n",
       "    </tr>\n",
       "    <tr>\n",
       "      <td>2</td>\n",
       "      <td>0.177800</td>\n",
       "      <td>0.259713</td>\n",
       "      <td>0.903700</td>\n",
       "    </tr>\n",
       "  </tbody>\n",
       "</table><p>"
      ],
      "text/plain": [
       "<IPython.core.display.HTML object>"
      ]
     },
     "metadata": {},
     "output_type": "display_data"
    },
    {
     "name": "stderr",
     "output_type": "stream",
     "text": [
      "The following columns in the evaluation set  don't have a corresponding argument in `BertForSequenceClassification.forward` and have been ignored: id, document.\n",
      "***** Running Evaluation *****\n",
      "  Num examples = 30000\n",
      "  Batch size = 32\n",
      "The following columns in the evaluation set  don't have a corresponding argument in `BertForSequenceClassification.forward` and have been ignored: id, document.\n",
      "***** Running Evaluation *****\n",
      "  Num examples = 30000\n",
      "  Batch size = 32\n",
      "\n",
      "\n",
      "Training completed. Do not forget to share your model on huggingface.co/models =)\n",
      "\n",
      "\n"
     ]
    },
    {
     "data": {
      "text/plain": [
       "TrainOutput(global_step=7500, training_loss=0.23348990275065104, metrics={'train_runtime': 2560.8193, 'train_samples_per_second': 93.72, 'train_steps_per_second': 2.929, 'total_flos': 6783331896000000.0, 'train_loss': 0.23348990275065104, 'epoch': 2.0})"
      ]
     },
     "execution_count": 80,
     "metadata": {},
     "output_type": "execute_result"
    }
   ],
   "source": [
    "training_args = TrainingArguments(\n",
    "    output_dir=\"./test\",\n",
    "    save_total_limit = 2,\n",
    "    save_strategy = 'no',\n",
    "    evaluation_strategy=\"epoch\",\n",
    "    learning_rate=2e-5,\n",
    "    per_device_train_batch_size=32,\n",
    "    per_device_eval_batch_size=32,\n",
    "    num_train_epochs=2,\n",
    "    weight_decay=0.01,\n",
    ")\n",
    "\n",
    "# Trainer\n",
    "trainer = Trainer(\n",
    "    model=model,\n",
    "    args=training_args,\n",
    "    train_dataset=train_dataset,\n",
    "    eval_dataset=val_dataset,\n",
    "    compute_metrics=compute_metrics,\n",
    ")\n",
    "\n",
    "# Train the model\n",
    "trainer.train()"
   ]
  },
  {
   "cell_type": "code",
   "execution_count": 133,
   "id": "484979bc",
   "metadata": {},
   "outputs": [],
   "source": [
    "models_train['base_tr'] = {'train_runtime': 2560.8193, 'train_samples_per_second': 93.72, 'train_steps_per_second': 2.929, 'total_flos': 6783331896000000.0, 'train_loss': 0.23348990275065104, 'epoch': 2.0}"
   ]
  },
  {
   "cell_type": "code",
   "execution_count": 81,
   "id": "6ab52435",
   "metadata": {
    "scrolled": false
   },
   "outputs": [
    {
     "name": "stderr",
     "output_type": "stream",
     "text": [
      "The following columns in the evaluation set  don't have a corresponding argument in `BertForSequenceClassification.forward` and have been ignored: id, document.\n",
      "***** Running Evaluation *****\n",
      "  Num examples = 50000\n",
      "  Batch size = 32\n"
     ]
    },
    {
     "data": {
      "text/html": [
       "\n",
       "    <div>\n",
       "      \n",
       "      <progress value='1563' max='1563' style='width:300px; height:20px; vertical-align: middle;'></progress>\n",
       "      [1563/1563 02:42]\n",
       "    </div>\n",
       "    "
      ],
      "text/plain": [
       "<IPython.core.display.HTML object>"
      ]
     },
     "metadata": {},
     "output_type": "display_data"
    },
    {
     "data": {
      "text/plain": [
       "{'eval_loss': 0.2575262784957886,\n",
       " 'eval_accuracy': 0.9041,\n",
       " 'eval_runtime': 163.2129,\n",
       " 'eval_samples_per_second': 306.348,\n",
       " 'eval_steps_per_second': 9.576,\n",
       " 'epoch': 2.0}"
      ]
     },
     "execution_count": 81,
     "metadata": {},
     "output_type": "execute_result"
    }
   ],
   "source": [
    "trainer.evaluate(test_dataset)"
   ]
  },
  {
   "cell_type": "code",
   "execution_count": 135,
   "id": "cab0dbea",
   "metadata": {},
   "outputs": [],
   "source": [
    "models['base_tr'] = {'eval_loss': 0.2575262784957886,\n",
    " 'eval_accuracy': 0.9041,\n",
    " 'eval_runtime': 163.2129,\n",
    " 'eval_samples_per_second': 306.348,\n",
    " 'eval_steps_per_second': 9.576,\n",
    " 'epoch': 2.0}"
   ]
  },
  {
   "cell_type": "code",
   "execution_count": 83,
   "id": "7911cf0f",
   "metadata": {},
   "outputs": [
    {
     "name": "stderr",
     "output_type": "stream",
     "text": [
      "PyTorch: setting up devices\n",
      "The default value for the training argument `--report_to` will change in v5 (from all installed integrations to none). In v5, you will need to use `--report_to all` to get the same behavior as now. You should start updating your code and make this info disappear :-).\n",
      "The following columns in the training set  don't have a corresponding argument in `BertForSequenceClassification.forward` and have been ignored: id, document.\n",
      "***** Running training *****\n",
      "  Num examples = 120000\n",
      "  Num Epochs = 2\n",
      "  Instantaneous batch size per device = 32\n",
      "  Total train batch size (w. parallel, distributed & accumulation) = 32\n",
      "  Gradient Accumulation steps = 1\n",
      "  Total optimization steps = 7500\n"
     ]
    },
    {
     "data": {
      "text/html": [
       "\n",
       "    <div>\n",
       "      \n",
       "      <progress value='7500' max='7500' style='width:300px; height:20px; vertical-align: middle;'></progress>\n",
       "      [7500/7500 42:33, Epoch 2/2]\n",
       "    </div>\n",
       "    <table border=\"1\" class=\"dataframe\">\n",
       "  <thead>\n",
       "    <tr style=\"text-align: left;\">\n",
       "      <th>Epoch</th>\n",
       "      <th>Training Loss</th>\n",
       "      <th>Validation Loss</th>\n",
       "      <th>Accuracy</th>\n",
       "    </tr>\n",
       "  </thead>\n",
       "  <tbody>\n",
       "    <tr>\n",
       "      <td>1</td>\n",
       "      <td>0.089100</td>\n",
       "      <td>0.363316</td>\n",
       "      <td>0.900733</td>\n",
       "    </tr>\n",
       "    <tr>\n",
       "      <td>2</td>\n",
       "      <td>0.174200</td>\n",
       "      <td>0.376536</td>\n",
       "      <td>0.899667</td>\n",
       "    </tr>\n",
       "  </tbody>\n",
       "</table><p>"
      ],
      "text/plain": [
       "<IPython.core.display.HTML object>"
      ]
     },
     "metadata": {},
     "output_type": "display_data"
    },
    {
     "name": "stderr",
     "output_type": "stream",
     "text": [
      "The following columns in the evaluation set  don't have a corresponding argument in `BertForSequenceClassification.forward` and have been ignored: id, document.\n",
      "***** Running Evaluation *****\n",
      "  Num examples = 30000\n",
      "  Batch size = 32\n",
      "The following columns in the evaluation set  don't have a corresponding argument in `BertForSequenceClassification.forward` and have been ignored: id, document.\n",
      "***** Running Evaluation *****\n",
      "  Num examples = 30000\n",
      "  Batch size = 32\n",
      "\n",
      "\n",
      "Training completed. Do not forget to share your model on huggingface.co/models =)\n",
      "\n",
      "\n"
     ]
    },
    {
     "data": {
      "text/plain": [
       "TrainOutput(global_step=7500, training_loss=0.09593519948323567, metrics={'train_runtime': 2553.4695, 'train_samples_per_second': 93.99, 'train_steps_per_second': 2.937, 'total_flos': 6783331896000000.0, 'train_loss': 0.09593519948323567, 'epoch': 2.0})"
      ]
     },
     "execution_count": 83,
     "metadata": {},
     "output_type": "execute_result"
    }
   ],
   "source": [
    "training_args = TrainingArguments(\n",
    "    output_dir=\"./test2\",\n",
    "    save_total_limit = 2,\n",
    "    save_strategy = 'no',\n",
    "    evaluation_strategy=\"epoch\",\n",
    "    learning_rate=2e-6,\n",
    "    per_device_train_batch_size=32,\n",
    "    per_device_eval_batch_size=32,\n",
    "    num_train_epochs=2,\n",
    "    weight_decay=0.02,\n",
    ")\n",
    "\n",
    "# Trainer\n",
    "trainer = Trainer(\n",
    "    model=model,\n",
    "    args=training_args,\n",
    "    train_dataset=train_dataset,\n",
    "    eval_dataset=val_dataset,\n",
    "    compute_metrics=compute_metrics,\n",
    ")\n",
    "\n",
    "# Train the model\n",
    "trainer.train()"
   ]
  },
  {
   "cell_type": "code",
   "execution_count": 137,
   "id": "c71a8a15",
   "metadata": {},
   "outputs": [],
   "source": [
    "models_train['base_tr2'] = {'train_runtime': 2553.4695, 'train_samples_per_second': 93.99, 'train_steps_per_second': 2.937, 'total_flos': 6783331896000000.0, 'train_loss': 0.09593519948323567, 'epoch': 2.0}"
   ]
  },
  {
   "cell_type": "code",
   "execution_count": 84,
   "id": "3229730c",
   "metadata": {
    "scrolled": true
   },
   "outputs": [
    {
     "name": "stderr",
     "output_type": "stream",
     "text": [
      "The following columns in the evaluation set  don't have a corresponding argument in `BertForSequenceClassification.forward` and have been ignored: id, document.\n",
      "***** Running Evaluation *****\n",
      "  Num examples = 50000\n",
      "  Batch size = 32\n"
     ]
    },
    {
     "data": {
      "text/html": [
       "\n",
       "    <div>\n",
       "      \n",
       "      <progress value='1563' max='1563' style='width:300px; height:20px; vertical-align: middle;'></progress>\n",
       "      [1563/1563 02:43]\n",
       "    </div>\n",
       "    "
      ],
      "text/plain": [
       "<IPython.core.display.HTML object>"
      ]
     },
     "metadata": {},
     "output_type": "display_data"
    },
    {
     "data": {
      "text/plain": [
       "{'eval_loss': 0.372825026512146,\n",
       " 'eval_accuracy': 0.9001,\n",
       " 'eval_runtime': 163.4066,\n",
       " 'eval_samples_per_second': 305.985,\n",
       " 'eval_steps_per_second': 9.565,\n",
       " 'epoch': 2.0}"
      ]
     },
     "execution_count": 84,
     "metadata": {},
     "output_type": "execute_result"
    }
   ],
   "source": [
    "trainer.evaluate(test_dataset)"
   ]
  },
  {
   "cell_type": "code",
   "execution_count": 138,
   "id": "09987654",
   "metadata": {},
   "outputs": [],
   "source": [
    "models['base_tr2'] = {'eval_loss': 0.372825026512146,\n",
    " 'eval_accuracy': 0.9001,\n",
    " 'eval_runtime': 163.4066,\n",
    " 'eval_samples_per_second': 305.985,\n",
    " 'eval_steps_per_second': 9.565,\n",
    " 'epoch': 2.0}"
   ]
  },
  {
   "cell_type": "code",
   "execution_count": null,
   "id": "9b6dd89d",
   "metadata": {},
   "outputs": [],
   "source": [
    "import my_token"
   ]
  },
  {
   "cell_type": "markdown",
   "id": "c477b891",
   "metadata": {},
   "source": [
    "### huggingface 모델 저장 및 불러오기\n",
    "- huggingface에 모델 저장"
   ]
  },
  {
   "cell_type": "code",
   "execution_count": 140,
   "id": "959f79f9",
   "metadata": {
    "scrolled": true
   },
   "outputs": [],
   "source": [
    "# tokenizer.push_to_hub(\"klue-base-finetuned-nsmc\", use_auth_token=my_token)"
   ]
  },
  {
   "cell_type": "code",
   "id": "e542a26a",
   "metadata": {
    "ExecuteTime": {
     "end_time": "2024-07-19T08:10:23.204880Z",
     "start_time": "2024-07-19T08:10:18.950681Z"
    }
   },
   "source": [
    "from transformers import AutoTokenizer, AutoModelForSequenceClassification\n",
    "\n",
    "tokenizer = AutoTokenizer.from_pretrained(\"seongyeon1/klue-base-finetuned-nsmc\")\n",
    "model = AutoModelForSequenceClassification.from_pretrained(\"seongyeon1/klue-base-finetuned-nsmc\")"
   ],
   "outputs": [],
   "execution_count": 1
  },
  {
   "cell_type": "code",
   "id": "eb121c42",
   "metadata": {
    "ExecuteTime": {
     "end_time": "2024-07-19T08:10:28.128035Z",
     "start_time": "2024-07-19T08:10:23.206270Z"
    }
   },
   "source": [
    "from transformers import pipeline\n",
    "\n",
    "pipe = pipeline(\"text-classification\", model=\"seongyeon1/klue-base-finetuned-nsmc\")"
   ],
   "outputs": [],
   "execution_count": 2
  },
  {
   "cell_type": "code",
   "id": "da62671e",
   "metadata": {
    "ExecuteTime": {
     "end_time": "2024-07-19T08:10:28.668332Z",
     "start_time": "2024-07-19T08:10:28.132200Z"
    }
   },
   "source": [
    "pipe(\"진짜 별로더라\")"
   ],
   "outputs": [
    {
     "data": {
      "text/plain": [
       "[{'label': 'LABEL_0', 'score': 0.999700665473938}]"
      ]
     },
     "execution_count": 3,
     "metadata": {},
     "output_type": "execute_result"
    }
   ],
   "execution_count": 3
  },
  {
   "cell_type": "code",
   "id": "b3851f41",
   "metadata": {
    "ExecuteTime": {
     "end_time": "2024-07-19T08:10:28.721737Z",
     "start_time": "2024-07-19T08:10:28.669085Z"
    }
   },
   "source": [
    "pipe(\"굿굿\")"
   ],
   "outputs": [
    {
     "data": {
      "text/plain": [
       "[{'label': 'LABEL_1', 'score': 0.9875587224960327}]"
      ]
     },
     "execution_count": 4,
     "metadata": {},
     "output_type": "execute_result"
    }
   ],
   "execution_count": 4
  },
  {
   "metadata": {},
   "cell_type": "markdown",
   "source": "- 불러와도 잘 동작하는 것을 볼 수 있다",
   "id": "6e8574fdde2a24ee"
  },
  {
   "cell_type": "markdown",
   "id": "b181d6a4",
   "metadata": {},
   "source": [
    "## 모델 테스트 결과 정리"
   ]
  },
  {
   "cell_type": "code",
   "execution_count": 151,
   "id": "f6b3c793",
   "metadata": {},
   "outputs": [],
   "source": [
    "models = pd.DataFrame(models).T"
   ]
  },
  {
   "cell_type": "code",
   "execution_count": 155,
   "id": "767ddc7b",
   "metadata": {},
   "outputs": [],
   "source": [
    "models.index = models.index.str.replace('_model','')"
   ]
  },
  {
   "cell_type": "code",
   "execution_count": 156,
   "id": "ec540a29",
   "metadata": {},
   "outputs": [
    {
     "data": {
      "text/html": [
       "<div>\n",
       "<style scoped>\n",
       "    .dataframe tbody tr th:only-of-type {\n",
       "        vertical-align: middle;\n",
       "    }\n",
       "\n",
       "    .dataframe tbody tr th {\n",
       "        vertical-align: top;\n",
       "    }\n",
       "\n",
       "    .dataframe thead th {\n",
       "        text-align: right;\n",
       "    }\n",
       "</style>\n",
       "<table border=\"1\" class=\"dataframe\">\n",
       "  <thead>\n",
       "    <tr style=\"text-align: right;\">\n",
       "      <th></th>\n",
       "      <th>eval_loss</th>\n",
       "      <th>eval_accuracy</th>\n",
       "      <th>eval_runtime</th>\n",
       "      <th>eval_samples_per_second</th>\n",
       "      <th>eval_steps_per_second</th>\n",
       "      <th>epoch</th>\n",
       "    </tr>\n",
       "  </thead>\n",
       "  <tbody>\n",
       "    <tr>\n",
       "      <th>base</th>\n",
       "      <td>0.268926</td>\n",
       "      <td>0.90304</td>\n",
       "      <td>170.5276</td>\n",
       "      <td>293.208</td>\n",
       "      <td>9.166</td>\n",
       "      <td>2.0</td>\n",
       "    </tr>\n",
       "    <tr>\n",
       "      <th>bucket</th>\n",
       "      <td>0.445528</td>\n",
       "      <td>0.90024</td>\n",
       "      <td>225.0268</td>\n",
       "      <td>222.196</td>\n",
       "      <td>6.946</td>\n",
       "      <td>2.0</td>\n",
       "    </tr>\n",
       "    <tr>\n",
       "      <th>lr_2e6</th>\n",
       "      <td>0.278146</td>\n",
       "      <td>0.88564</td>\n",
       "      <td>163.6872</td>\n",
       "      <td>305.461</td>\n",
       "      <td>9.549</td>\n",
       "      <td>2.0</td>\n",
       "    </tr>\n",
       "    <tr>\n",
       "      <th>base_tr</th>\n",
       "      <td>0.257526</td>\n",
       "      <td>0.90410</td>\n",
       "      <td>163.2129</td>\n",
       "      <td>306.348</td>\n",
       "      <td>9.576</td>\n",
       "      <td>2.0</td>\n",
       "    </tr>\n",
       "    <tr>\n",
       "      <th>base_tr2</th>\n",
       "      <td>0.372825</td>\n",
       "      <td>0.90010</td>\n",
       "      <td>163.4066</td>\n",
       "      <td>305.985</td>\n",
       "      <td>9.565</td>\n",
       "      <td>2.0</td>\n",
       "    </tr>\n",
       "  </tbody>\n",
       "</table>\n",
       "</div>"
      ],
      "text/plain": [
       "          eval_loss  eval_accuracy  eval_runtime  eval_samples_per_second  \\\n",
       "base       0.268926        0.90304      170.5276                  293.208   \n",
       "bucket     0.445528        0.90024      225.0268                  222.196   \n",
       "lr_2e6     0.278146        0.88564      163.6872                  305.461   \n",
       "base_tr    0.257526        0.90410      163.2129                  306.348   \n",
       "base_tr2   0.372825        0.90010      163.4066                  305.985   \n",
       "\n",
       "          eval_steps_per_second  epoch  \n",
       "base                      9.166    2.0  \n",
       "bucket                    6.946    2.0  \n",
       "lr_2e6                    9.549    2.0  \n",
       "base_tr                   9.576    2.0  \n",
       "base_tr2                  9.565    2.0  "
      ]
     },
     "execution_count": 156,
     "metadata": {},
     "output_type": "execute_result"
    }
   ],
   "source": [
    "models"
   ]
  },
  {
   "cell_type": "code",
   "execution_count": 144,
   "id": "085a59a0",
   "metadata": {},
   "outputs": [],
   "source": [
    "models_train_df = pd.DataFrame(models_train).T"
   ]
  },
  {
   "cell_type": "code",
   "execution_count": 147,
   "id": "77b351bc",
   "metadata": {},
   "outputs": [],
   "source": [
    "models_train_df['runtime_per_epoch'] = models_train_df.train_runtime / models_train_df.epoch"
   ]
  },
  {
   "cell_type": "code",
   "execution_count": 149,
   "id": "a645f394",
   "metadata": {},
   "outputs": [
    {
     "data": {
      "text/html": [
       "<div>\n",
       "<style scoped>\n",
       "    .dataframe tbody tr th:only-of-type {\n",
       "        vertical-align: middle;\n",
       "    }\n",
       "\n",
       "    .dataframe tbody tr th {\n",
       "        vertical-align: top;\n",
       "    }\n",
       "\n",
       "    .dataframe thead th {\n",
       "        text-align: right;\n",
       "    }\n",
       "</style>\n",
       "<table border=\"1\" class=\"dataframe\">\n",
       "  <thead>\n",
       "    <tr style=\"text-align: right;\">\n",
       "      <th></th>\n",
       "      <th>train_runtime</th>\n",
       "      <th>train_samples_per_second</th>\n",
       "      <th>train_steps_per_second</th>\n",
       "      <th>total_flos</th>\n",
       "      <th>train_loss</th>\n",
       "      <th>epoch</th>\n",
       "      <th>runtime_per_epoch</th>\n",
       "    </tr>\n",
       "  </thead>\n",
       "  <tbody>\n",
       "    <tr>\n",
       "      <th>base</th>\n",
       "      <td>2821.7386</td>\n",
       "      <td>85.054</td>\n",
       "      <td>2.658</td>\n",
       "      <td>6.783332e+15</td>\n",
       "      <td>0.222456</td>\n",
       "      <td>2.0</td>\n",
       "      <td>1410.86930</td>\n",
       "    </tr>\n",
       "    <tr>\n",
       "      <th>bucket</th>\n",
       "      <td>1684.0840</td>\n",
       "      <td>142.511</td>\n",
       "      <td>4.453</td>\n",
       "      <td>2.893662e+15</td>\n",
       "      <td>0.074060</td>\n",
       "      <td>2.0</td>\n",
       "      <td>842.04200</td>\n",
       "    </tr>\n",
       "    <tr>\n",
       "      <th>lr_2e6</th>\n",
       "      <td>1393.3961</td>\n",
       "      <td>86.121</td>\n",
       "      <td>2.691</td>\n",
       "      <td>3.391666e+15</td>\n",
       "      <td>0.347416</td>\n",
       "      <td>1.0</td>\n",
       "      <td>1393.39610</td>\n",
       "    </tr>\n",
       "    <tr>\n",
       "      <th>base_tr</th>\n",
       "      <td>2560.8193</td>\n",
       "      <td>93.720</td>\n",
       "      <td>2.929</td>\n",
       "      <td>6.783332e+15</td>\n",
       "      <td>0.233490</td>\n",
       "      <td>2.0</td>\n",
       "      <td>1280.40965</td>\n",
       "    </tr>\n",
       "    <tr>\n",
       "      <th>base_tr2</th>\n",
       "      <td>2553.4695</td>\n",
       "      <td>93.990</td>\n",
       "      <td>2.937</td>\n",
       "      <td>6.783332e+15</td>\n",
       "      <td>0.095935</td>\n",
       "      <td>2.0</td>\n",
       "      <td>1276.73475</td>\n",
       "    </tr>\n",
       "  </tbody>\n",
       "</table>\n",
       "</div>"
      ],
      "text/plain": [
       "          train_runtime  train_samples_per_second  train_steps_per_second  \\\n",
       "base          2821.7386                    85.054                   2.658   \n",
       "bucket        1684.0840                   142.511                   4.453   \n",
       "lr_2e6        1393.3961                    86.121                   2.691   \n",
       "base_tr       2560.8193                    93.720                   2.929   \n",
       "base_tr2      2553.4695                    93.990                   2.937   \n",
       "\n",
       "            total_flos  train_loss  epoch  runtime_per_epoch  \n",
       "base      6.783332e+15    0.222456    2.0         1410.86930  \n",
       "bucket    2.893662e+15    0.074060    2.0          842.04200  \n",
       "lr_2e6    3.391666e+15    0.347416    1.0         1393.39610  \n",
       "base_tr   6.783332e+15    0.233490    2.0         1280.40965  \n",
       "base_tr2  6.783332e+15    0.095935    2.0         1276.73475  "
      ]
     },
     "execution_count": 149,
     "metadata": {},
     "output_type": "execute_result"
    }
   ],
   "source": [
    "models_train_df"
   ]
  },
  {
   "cell_type": "code",
   "execution_count": 160,
   "id": "85973935",
   "metadata": {},
   "outputs": [],
   "source": [
    "results = pd.concat([models.drop('epoch', axis=1),  models_train_df], axis=1)"
   ]
  },
  {
   "cell_type": "code",
   "execution_count": 166,
   "id": "1dd0cc28",
   "metadata": {},
   "outputs": [
    {
     "data": {
      "text/html": [
       "<div>\n",
       "<style scoped>\n",
       "    .dataframe tbody tr th:only-of-type {\n",
       "        vertical-align: middle;\n",
       "    }\n",
       "\n",
       "    .dataframe tbody tr th {\n",
       "        vertical-align: top;\n",
       "    }\n",
       "\n",
       "    .dataframe thead th {\n",
       "        text-align: right;\n",
       "    }\n",
       "</style>\n",
       "<table border=\"1\" class=\"dataframe\">\n",
       "  <thead>\n",
       "    <tr style=\"text-align: right;\">\n",
       "      <th></th>\n",
       "      <th>eval_loss</th>\n",
       "      <th>eval_accuracy</th>\n",
       "      <th>eval_runtime</th>\n",
       "      <th>eval_samples_per_second</th>\n",
       "      <th>eval_steps_per_second</th>\n",
       "      <th>train_runtime</th>\n",
       "      <th>train_samples_per_second</th>\n",
       "      <th>train_steps_per_second</th>\n",
       "      <th>total_flos</th>\n",
       "      <th>train_loss</th>\n",
       "      <th>epoch</th>\n",
       "      <th>runtime_per_epoch</th>\n",
       "    </tr>\n",
       "  </thead>\n",
       "  <tbody>\n",
       "    <tr>\n",
       "      <th>base_tr</th>\n",
       "      <td>0.257526</td>\n",
       "      <td>0.90410</td>\n",
       "      <td>163.2129</td>\n",
       "      <td>306.348</td>\n",
       "      <td>9.576</td>\n",
       "      <td>2560.8193</td>\n",
       "      <td>93.720</td>\n",
       "      <td>2.929</td>\n",
       "      <td>6.783332e+15</td>\n",
       "      <td>0.233490</td>\n",
       "      <td>2.0</td>\n",
       "      <td>1280.40965</td>\n",
       "    </tr>\n",
       "    <tr>\n",
       "      <th>base</th>\n",
       "      <td>0.268926</td>\n",
       "      <td>0.90304</td>\n",
       "      <td>170.5276</td>\n",
       "      <td>293.208</td>\n",
       "      <td>9.166</td>\n",
       "      <td>2821.7386</td>\n",
       "      <td>85.054</td>\n",
       "      <td>2.658</td>\n",
       "      <td>6.783332e+15</td>\n",
       "      <td>0.222456</td>\n",
       "      <td>2.0</td>\n",
       "      <td>1410.86930</td>\n",
       "    </tr>\n",
       "    <tr>\n",
       "      <th>bucket</th>\n",
       "      <td>0.445528</td>\n",
       "      <td>0.90024</td>\n",
       "      <td>225.0268</td>\n",
       "      <td>222.196</td>\n",
       "      <td>6.946</td>\n",
       "      <td>1684.0840</td>\n",
       "      <td>142.511</td>\n",
       "      <td>4.453</td>\n",
       "      <td>2.893662e+15</td>\n",
       "      <td>0.074060</td>\n",
       "      <td>2.0</td>\n",
       "      <td>842.04200</td>\n",
       "    </tr>\n",
       "    <tr>\n",
       "      <th>base_tr2</th>\n",
       "      <td>0.372825</td>\n",
       "      <td>0.90010</td>\n",
       "      <td>163.4066</td>\n",
       "      <td>305.985</td>\n",
       "      <td>9.565</td>\n",
       "      <td>2553.4695</td>\n",
       "      <td>93.990</td>\n",
       "      <td>2.937</td>\n",
       "      <td>6.783332e+15</td>\n",
       "      <td>0.095935</td>\n",
       "      <td>2.0</td>\n",
       "      <td>1276.73475</td>\n",
       "    </tr>\n",
       "    <tr>\n",
       "      <th>lr_2e6</th>\n",
       "      <td>0.278146</td>\n",
       "      <td>0.88564</td>\n",
       "      <td>163.6872</td>\n",
       "      <td>305.461</td>\n",
       "      <td>9.549</td>\n",
       "      <td>1393.3961</td>\n",
       "      <td>86.121</td>\n",
       "      <td>2.691</td>\n",
       "      <td>3.391666e+15</td>\n",
       "      <td>0.347416</td>\n",
       "      <td>1.0</td>\n",
       "      <td>1393.39610</td>\n",
       "    </tr>\n",
       "  </tbody>\n",
       "</table>\n",
       "</div>"
      ],
      "text/plain": [
       "          eval_loss  eval_accuracy  eval_runtime  eval_samples_per_second  \\\n",
       "base_tr    0.257526        0.90410      163.2129                  306.348   \n",
       "base       0.268926        0.90304      170.5276                  293.208   \n",
       "bucket     0.445528        0.90024      225.0268                  222.196   \n",
       "base_tr2   0.372825        0.90010      163.4066                  305.985   \n",
       "lr_2e6     0.278146        0.88564      163.6872                  305.461   \n",
       "\n",
       "          eval_steps_per_second  train_runtime  train_samples_per_second  \\\n",
       "base_tr                   9.576      2560.8193                    93.720   \n",
       "base                      9.166      2821.7386                    85.054   \n",
       "bucket                    6.946      1684.0840                   142.511   \n",
       "base_tr2                  9.565      2553.4695                    93.990   \n",
       "lr_2e6                    9.549      1393.3961                    86.121   \n",
       "\n",
       "          train_steps_per_second    total_flos  train_loss  epoch  \\\n",
       "base_tr                    2.929  6.783332e+15    0.233490    2.0   \n",
       "base                       2.658  6.783332e+15    0.222456    2.0   \n",
       "bucket                     4.453  2.893662e+15    0.074060    2.0   \n",
       "base_tr2                   2.937  6.783332e+15    0.095935    2.0   \n",
       "lr_2e6                     2.691  3.391666e+15    0.347416    1.0   \n",
       "\n",
       "          runtime_per_epoch  \n",
       "base_tr          1280.40965  \n",
       "base             1410.86930  \n",
       "bucket            842.04200  \n",
       "base_tr2         1276.73475  \n",
       "lr_2e6           1393.39610  "
      ]
     },
     "execution_count": 166,
     "metadata": {},
     "output_type": "execute_result"
    }
   ],
   "source": [
    "results.sort_values(by='eval_accuracy', ascending=False)"
   ]
  },
  {
   "cell_type": "code",
   "execution_count": 175,
   "id": "6bb30920",
   "metadata": {},
   "outputs": [],
   "source": [
    "results.reset_index(inplace=True)"
   ]
  },
  {
   "cell_type": "code",
   "execution_count": 176,
   "id": "45d2d6f8",
   "metadata": {
    "scrolled": true
   },
   "outputs": [
    {
     "data": {
      "text/html": [
       "<div>\n",
       "<style scoped>\n",
       "    .dataframe tbody tr th:only-of-type {\n",
       "        vertical-align: middle;\n",
       "    }\n",
       "\n",
       "    .dataframe tbody tr th {\n",
       "        vertical-align: top;\n",
       "    }\n",
       "\n",
       "    .dataframe thead th {\n",
       "        text-align: right;\n",
       "    }\n",
       "</style>\n",
       "<table border=\"1\" class=\"dataframe\">\n",
       "  <thead>\n",
       "    <tr style=\"text-align: right;\">\n",
       "      <th></th>\n",
       "      <th>index</th>\n",
       "      <th>eval_loss</th>\n",
       "      <th>eval_accuracy</th>\n",
       "      <th>eval_runtime</th>\n",
       "      <th>eval_samples_per_second</th>\n",
       "      <th>eval_steps_per_second</th>\n",
       "      <th>train_runtime</th>\n",
       "      <th>train_samples_per_second</th>\n",
       "      <th>train_steps_per_second</th>\n",
       "      <th>total_flos</th>\n",
       "      <th>train_loss</th>\n",
       "      <th>epoch</th>\n",
       "      <th>runtime_per_epoch</th>\n",
       "    </tr>\n",
       "  </thead>\n",
       "  <tbody>\n",
       "    <tr>\n",
       "      <th>1</th>\n",
       "      <td>bucket</td>\n",
       "      <td>0.445528</td>\n",
       "      <td>0.90024</td>\n",
       "      <td>225.0268</td>\n",
       "      <td>222.196</td>\n",
       "      <td>6.946</td>\n",
       "      <td>1684.0840</td>\n",
       "      <td>142.511</td>\n",
       "      <td>4.453</td>\n",
       "      <td>2.893662e+15</td>\n",
       "      <td>0.074060</td>\n",
       "      <td>2.0</td>\n",
       "      <td>842.04200</td>\n",
       "    </tr>\n",
       "    <tr>\n",
       "      <th>4</th>\n",
       "      <td>base_tr2</td>\n",
       "      <td>0.372825</td>\n",
       "      <td>0.90010</td>\n",
       "      <td>163.4066</td>\n",
       "      <td>305.985</td>\n",
       "      <td>9.565</td>\n",
       "      <td>2553.4695</td>\n",
       "      <td>93.990</td>\n",
       "      <td>2.937</td>\n",
       "      <td>6.783332e+15</td>\n",
       "      <td>0.095935</td>\n",
       "      <td>2.0</td>\n",
       "      <td>1276.73475</td>\n",
       "    </tr>\n",
       "    <tr>\n",
       "      <th>3</th>\n",
       "      <td>base_tr</td>\n",
       "      <td>0.257526</td>\n",
       "      <td>0.90410</td>\n",
       "      <td>163.2129</td>\n",
       "      <td>306.348</td>\n",
       "      <td>9.576</td>\n",
       "      <td>2560.8193</td>\n",
       "      <td>93.720</td>\n",
       "      <td>2.929</td>\n",
       "      <td>6.783332e+15</td>\n",
       "      <td>0.233490</td>\n",
       "      <td>2.0</td>\n",
       "      <td>1280.40965</td>\n",
       "    </tr>\n",
       "    <tr>\n",
       "      <th>2</th>\n",
       "      <td>lr_2e6</td>\n",
       "      <td>0.278146</td>\n",
       "      <td>0.88564</td>\n",
       "      <td>163.6872</td>\n",
       "      <td>305.461</td>\n",
       "      <td>9.549</td>\n",
       "      <td>1393.3961</td>\n",
       "      <td>86.121</td>\n",
       "      <td>2.691</td>\n",
       "      <td>3.391666e+15</td>\n",
       "      <td>0.347416</td>\n",
       "      <td>1.0</td>\n",
       "      <td>1393.39610</td>\n",
       "    </tr>\n",
       "    <tr>\n",
       "      <th>0</th>\n",
       "      <td>base</td>\n",
       "      <td>0.268926</td>\n",
       "      <td>0.90304</td>\n",
       "      <td>170.5276</td>\n",
       "      <td>293.208</td>\n",
       "      <td>9.166</td>\n",
       "      <td>2821.7386</td>\n",
       "      <td>85.054</td>\n",
       "      <td>2.658</td>\n",
       "      <td>6.783332e+15</td>\n",
       "      <td>0.222456</td>\n",
       "      <td>2.0</td>\n",
       "      <td>1410.86930</td>\n",
       "    </tr>\n",
       "  </tbody>\n",
       "</table>\n",
       "</div>"
      ],
      "text/plain": [
       "      index  eval_loss  eval_accuracy  eval_runtime  eval_samples_per_second  \\\n",
       "1    bucket   0.445528        0.90024      225.0268                  222.196   \n",
       "4  base_tr2   0.372825        0.90010      163.4066                  305.985   \n",
       "3   base_tr   0.257526        0.90410      163.2129                  306.348   \n",
       "2    lr_2e6   0.278146        0.88564      163.6872                  305.461   \n",
       "0      base   0.268926        0.90304      170.5276                  293.208   \n",
       "\n",
       "   eval_steps_per_second  train_runtime  train_samples_per_second  \\\n",
       "1                  6.946      1684.0840                   142.511   \n",
       "4                  9.565      2553.4695                    93.990   \n",
       "3                  9.576      2560.8193                    93.720   \n",
       "2                  9.549      1393.3961                    86.121   \n",
       "0                  9.166      2821.7386                    85.054   \n",
       "\n",
       "   train_steps_per_second    total_flos  train_loss  epoch  runtime_per_epoch  \n",
       "1                   4.453  2.893662e+15    0.074060    2.0          842.04200  \n",
       "4                   2.937  6.783332e+15    0.095935    2.0         1276.73475  \n",
       "3                   2.929  6.783332e+15    0.233490    2.0         1280.40965  \n",
       "2                   2.691  3.391666e+15    0.347416    1.0         1393.39610  \n",
       "0                   2.658  6.783332e+15    0.222456    2.0         1410.86930  "
      ]
     },
     "execution_count": 176,
     "metadata": {},
     "output_type": "execute_result"
    }
   ],
   "source": [
    "results.sort_values(by='runtime_per_epoch', ascending=True)"
   ]
  },
  {
   "cell_type": "code",
   "execution_count": 202,
   "id": "9fc558f9",
   "metadata": {},
   "outputs": [],
   "source": [
    "import math"
   ]
  },
  {
   "cell_type": "code",
   "execution_count": 211,
   "id": "9e2dcbb9",
   "metadata": {},
   "outputs": [],
   "source": [
    "def make_plot(results, col, ascending=True):\n",
    "    data = results.sort_values(col, ascending=ascending)\n",
    "\n",
    "    x = data['index']\n",
    "    y = data[col]\n",
    "    sns.barplot(x=y, y=x)\n",
    "    \n",
    "    min_val = math.floor(data[col].min()* 100) /100\n",
    "    max_val = math.ceil(data[col].max() * 100) / 100\n",
    "    \n",
    "    plt.xlim(min_val, max_val)\n",
    "    \n",
    "    for index, value in enumerate(y):\n",
    "        plt.text(value, index,\n",
    "                 str(value))\n",
    "\n",
    "    plt.show();"
   ]
  },
  {
   "cell_type": "code",
   "execution_count": 214,
   "id": "373547c7",
   "metadata": {
    "scrolled": false
   },
   "outputs": [
    {
     "data": {
      "image/png": "[encoded data removed]",
      "text/plain": [
       "<Figure size 432x288 with 1 Axes>"
      ]
     },
     "metadata": {
      "needs_background": "light"
     },
     "output_type": "display_data"
    }
   ],
   "source": [
    "make_plot(results, 'eval_accuracy')"
   ]
  },
  {
   "cell_type": "code",
   "execution_count": 215,
   "id": "5ff6dd52",
   "metadata": {
    "scrolled": true
   },
   "outputs": [
    {
     "data": {
      "image/png": "[encoded data removed]",
      "text/plain": [
       "<Figure size 432x288 with 1 Axes>"
      ]
     },
     "metadata": {
      "needs_background": "light"
     },
     "output_type": "display_data"
    }
   ],
   "source": [
    "make_plot(results, 'runtime_per_epoch', False)"
   ]
  },
  {
   "cell_type": "markdown",
   "id": "80cfdf18",
   "metadata": {},
   "source": [
    "- bucket을 적용했을 때의 성능이 조금 떨어지는 것을 볼 수 있고\n",
    "- 학습률을 너무 작게 하면 에폭이 작은 상황이기 때문에 성능이 떨어진다\n",
    "- 대신 bucket을 적용하면 속도가 상당히 빨라지는 결과를 확인할 수 있었다."
   ]
  },
  {
   "cell_type": "markdown",
   "id": "509b2cf2",
   "metadata": {},
   "source": [
    "## 회고\n",
    "\n",
    "---\n",
    "\n",
    "- 배운 점\n",
    "    - hugging face 모델을 불러와서 이를 활용해서 task를 수행하는 방법을 배웠다\n",
    "    - 정확한 실험을 위해서는 모델을 돌릴때마다 모델의 cache를 제거해야한다\n",
    "    - hugging face에 모델을 load 해서 직접 실험을 해봤는데 재미있었다\n",
    "- 아쉬운 점\n",
    "    - parameter에 대해 심도있게 공부해보면 좋겠다는 생각이 들었다\n",
    "- 느낀 점\n",
    "    - 공부가 많이 필요하다\n",
    "- 어려웠던 점\n",
    "    - customize 하는 것은 언제나 어렵다\n",
    "    - 성능을 올리는 것은 어려운 과제인 것 같다"
   ]
  }
 ],
 "metadata": {
  "kernelspec": {
   "display_name": "Python 3 (ipykernel)",
   "language": "python",
   "name": "python3"
  },
  "language_info": {
   "codemirror_mode": {
    "name": "ipython",
    "version": 3
   },
   "file_extension": ".py",
   "mimetype": "text/x-python",
   "name": "python",
   "nbconvert_exporter": "python",
   "pygments_lexer": "ipython3",
   "version": "3.9.7"
  }
 },
 "nbformat": 4,
 "nbformat_minor": 5
}
