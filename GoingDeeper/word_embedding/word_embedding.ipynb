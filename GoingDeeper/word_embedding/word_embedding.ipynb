{
 "cells": [
  {
   "cell_type": "code",
   "execution_count": null,
   "id": "initial_id",
   "metadata": {
    "collapsed": true
   },
   "source": [
    ""
   ],
   "outputs": []
  },
  {
   "metadata": {
    "ExecuteTime": {
     "end_time": "2024-07-03T23:31:40.028915Z",
     "start_time": "2024-07-03T23:31:40.027472Z"
    }
   },
   "cell_type": "code",
   "source": "# !pip install konlpy",
   "id": "825bf35070599110",
   "execution_count": 1,
   "outputs": []
  },
  {
   "metadata": {
    "ExecuteTime": {
     "end_time": "2024-07-03T23:31:54.524032Z",
     "start_time": "2024-07-03T23:31:54.490272Z"
    }
   },
   "cell_type": "code",
   "source": [
    "import re\n",
    "from konlpy.tag import Okt\n",
    "from collections import Counter\n",
    "print(\"임포트 완료\")"
   ],
   "id": "b70b06f06c7384e6",
   "execution_count": 2,
   "outputs": []
  },
  {
   "metadata": {
    "ExecuteTime": {
     "end_time": "2024-07-03T23:31:57.937405Z",
     "start_time": "2024-07-03T23:31:57.932787Z"
    }
   },
   "cell_type": "code",
   "source": [
    "text = \"임금님 귀는 당나귀 귀! 임금님 귀는 당나귀 귀! 실컷~ 소리치고 나니 속이 확 뚫려 살 것 같았어.\"\n",
    "text"
   ],
   "id": "f1cce3514e3aa24a",
   "execution_count": 3,
   "outputs": []
  },
  {
   "metadata": {},
   "cell_type": "code",
   "execution_count": null,
   "source": "",
   "id": "f8dacc1ff4b5b6a7",
   "outputs": []
  },
  {
   "metadata": {},
   "cell_type": "markdown",
   "source": "## 영어 Word2Vec 실습과 OOV 문제",
   "id": "da358d7b80dd8542"
  },
  {
   "metadata": {},
   "cell_type": "markdown",
   "source": [
    "영어 Word2Vec 실습\n",
    "----\n",
    "\n",
    "영어 데이터를 다운로드받아 직접 Word2Vec을 훈련시켜보겠습니다. Word2Vec을 별도로 구현할 필요없이 파이썬의 gensim 패키지를 통해 이미 구현된 Word2Vec 모델을 사용할 수 있습니다. 여기서 사용할 훈련 데이터는 NLTK에서 제공하는 코퍼스이며, gensim 패키지는 토픽 모델링을 위한 NLP 패키지입니다.\n",
    "\n",
    "Cloud 사용자는 이미 설치되어 있으니 아래의 명령어를 참고로만 알아두세요.\n",
    "\n",
    "    pip install nltk\n",
    "    pip install gensim"
   ],
   "id": "88b5231153743a05"
  },
  {
   "metadata": {
    "ExecuteTime": {
     "end_time": "2024-07-04T01:08:49.601457Z",
     "start_time": "2024-07-04T01:08:38.871522Z"
    }
   },
   "cell_type": "code",
   "source": [
    "import nltk\n",
    "nltk.download('abc')\n",
    "nltk.download('punkt')"
   ],
   "id": "f9dd8d935d32ac8c",
   "execution_count": 5,
   "outputs": []
  },
  {
   "metadata": {
    "ExecuteTime": {
     "end_time": "2024-07-04T01:08:49.610992Z",
     "start_time": "2024-07-04T01:08:49.603861Z"
    }
   },
   "cell_type": "code",
   "source": [
    "from nltk.corpus import abc\n",
    "corpus = abc.sents()\n",
    "print(\"슝~\")"
   ],
   "id": "11ccf41dc6fa23ad",
   "execution_count": 6,
   "outputs": []
  },
  {
   "metadata": {
    "ExecuteTime": {
     "end_time": "2024-07-04T01:09:40.043661Z",
     "start_time": "2024-07-04T01:09:40.036153Z"
    }
   },
   "cell_type": "code",
   "source": "print(corpus[:3])",
   "id": "9e04fd2834eb9992",
   "execution_count": 7,
   "outputs": []
  },
  {
   "metadata": {
    "ExecuteTime": {
     "end_time": "2024-07-04T01:09:48.949456Z",
     "start_time": "2024-07-04T01:09:48.946895Z"
    }
   },
   "cell_type": "code",
   "source": "print('코퍼스의 크기 :',len(corpus))",
   "id": "4af91dc33e9fe5bb",
   "execution_count": 8,
   "outputs": []
  },
  {
   "metadata": {
    "ExecuteTime": {
     "end_time": "2024-07-04T01:10:03.238879Z",
     "start_time": "2024-07-04T01:09:58.206284Z"
    }
   },
   "cell_type": "code",
   "source": [
    "from gensim.models import Word2Vec\n",
    "\n",
    "model = Word2Vec(sentences = corpus, vector_size = 100, window = 5, min_count = 5, workers = 4, sg = 0)\n",
    "print(\"모델 학습 완료!\")"
   ],
   "id": "ccc5ab7cebe427b",
   "execution_count": 9,
   "outputs": []
  },
  {
   "metadata": {},
   "cell_type": "markdown",
   "source": [
    "위 코드에서 각 파라미터가 의미하는 바는 아래와 같습니다.\n",
    "\n",
    "- vector size = 학습 후 임베딩 벡터의 차원\n",
    "- window = 컨텍스트 윈도우 크기\n",
    "- min_count = 단어 최소 빈도수 제한 (빈도가 적은 단어들은 학습하지 않아요.)\n",
    "- workers = 학습을 위한 프로세스 수\n",
    "- sg = 0은 CBoW, 1은 Skip-gram.\n",
    "\n",
    "아주 잠깐의 기다림 끝에 Word2Vec의 학습이 완료됩니다. Word2Vec는 입력한 단어에 대해서 가장 코사인 유사도가 높은 단어들을 출력하는 model.wv.most_similar를 지원합니다. 'man'과 가장 유사한 단어들은 어떤 단어들일까요?"
   ],
   "id": "a2327532142e0f1c"
  },
  {
   "metadata": {
    "ExecuteTime": {
     "end_time": "2024-07-04T01:10:54.532210Z",
     "start_time": "2024-07-04T01:10:54.504690Z"
    }
   },
   "cell_type": "code",
   "source": [
    "model_result = model.wv.most_similar(\"man\")\n",
    "print(model_result)"
   ],
   "id": "2cd6688dc5a473fe",
   "execution_count": 10,
   "outputs": []
  },
  {
   "metadata": {
    "ExecuteTime": {
     "end_time": "2024-07-04T01:14:09.748198Z",
     "start_time": "2024-07-04T01:14:09.053989Z"
    }
   },
   "cell_type": "code",
   "source": [
    "from gensim.models import KeyedVectors\n",
    "\n",
    "model.wv.save_word2vec_format('./w2v') \n",
    "loaded_model = KeyedVectors.load_word2vec_format(\"./w2v\")\n",
    "print(\"모델  load 완료!\")"
   ],
   "id": "508871d7dd0977f8",
   "execution_count": 12,
   "outputs": []
  },
  {
   "metadata": {},
   "cell_type": "markdown",
   "source": [
    "## FastText\n",
    "- subword 단위로 쪼개서 오타에 강건함"
   ],
   "id": "d863e0231da2eb67"
  },
  {
   "metadata": {
    "ExecuteTime": {
     "end_time": "2024-07-04T01:21:39.412744Z",
     "start_time": "2024-07-04T01:21:26.725420Z"
    }
   },
   "cell_type": "code",
   "source": [
    "from gensim.models import FastText\n",
    "fasttext_model = FastText(corpus, window=5, min_count=5, workers=4, sg=1)\n",
    "print(\"FastText 학습 완료!\")"
   ],
   "id": "51548f840b1b42b4",
   "execution_count": 13,
   "outputs": []
  },
  {
   "metadata": {
    "ExecuteTime": {
     "end_time": "2024-07-04T01:21:58.840179Z",
     "start_time": "2024-07-04T01:21:58.830072Z"
    }
   },
   "cell_type": "code",
   "source": "fasttext_model.wv.most_similar('overacting')",
   "id": "7f859b8380f59806",
   "execution_count": 14,
   "outputs": []
  },
  {
   "metadata": {
    "ExecuteTime": {
     "end_time": "2024-07-04T01:22:06.894958Z",
     "start_time": "2024-07-04T01:22:06.887191Z"
    }
   },
   "cell_type": "code",
   "source": "fasttext_model.wv.most_similar('memoryy')",
   "id": "3d7cd0f65d66b8b0",
   "execution_count": 15,
   "outputs": []
  },
  {
   "metadata": {},
   "cell_type": "markdown",
   "source": "## Glove 실습",
   "id": "2af925a882d7c425"
  },
  {
   "metadata": {
    "ExecuteTime": {
     "end_time": "2024-07-04T01:43:28.717812Z",
     "start_time": "2024-07-04T01:42:42.874311Z"
    }
   },
   "cell_type": "code",
   "source": [
    "import gensim.downloader as api\n",
    "glove_model = api.load(\"glove-wiki-gigaword-50\")  # glove vectors 다운로드\n",
    "glove_model.most_similar(\"dog\")  # 'dog'과 비슷한 단어 찾기"
   ],
   "id": "b00481562e06be2a",
   "execution_count": 16,
   "outputs": []
  },
  {
   "metadata": {
    "ExecuteTime": {
     "end_time": "2024-07-04T01:43:28.727605Z",
     "start_time": "2024-07-04T01:43:28.719338Z"
    }
   },
   "cell_type": "code",
   "source": "glove_model.most_similar('overacting')",
   "id": "ca9e503fc07c4939",
   "execution_count": 17,
   "outputs": []
  },
  {
   "metadata": {
    "ExecuteTime": {
     "end_time": "2024-07-04T01:43:28.811580Z",
     "start_time": "2024-07-04T01:43:28.728327Z"
    }
   },
   "cell_type": "code",
   "source": "glove_model.most_similar('memoryy')",
   "id": "6e42d94f8e9c26fa",
   "execution_count": 18,
   "outputs": []
  },
  {
   "metadata": {},
   "cell_type": "markdown",
   "source": "GloVe는 Word2Vec과 같이 OOV 문제를 가지고 있어서 'memoryy'라는 단어는 인식하지 못합니다. 또한 pre-trained GloVe 모델은 한글이나 알파벳 대문자가 포함된 데이터셋으로 학습하지 않았기 때문에 알파벳 소문자만 인식한다는 사실에 유의하세요!",
   "id": "6730d9b91b5240e5"
  }
 ],
 "metadata": {
  "kernelspec": {
   "display_name": "Python 3",
   "language": "python",
   "name": "python3"
  },
  "language_info": {
   "codemirror_mode": {
    "name": "ipython",
    "version": 2
   },
   "file_extension": ".py",
   "mimetype": "text/x-python",
   "name": "python",
   "nbconvert_exporter": "python",
   "pygments_lexer": "ipython2",
   "version": "2.7.6"
  }
 },
 "nbformat": 4,
 "nbformat_minor": 5
}
