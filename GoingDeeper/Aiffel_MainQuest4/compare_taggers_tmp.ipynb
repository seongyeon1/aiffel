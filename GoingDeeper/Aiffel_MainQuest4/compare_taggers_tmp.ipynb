{
 "cells": [
  {
   "metadata": {
    "ExecuteTime": {
     "end_time": "2024-07-24T08:50:47.969092Z",
     "start_time": "2024-07-24T08:50:47.964825Z"
    }
   },
   "cell_type": "code",
   "source": [
    "# !pip install bareunpy\n",
    "# !pip install kiwipiepy"
   ],
   "id": "5007fe4ba5cac2bd",
   "outputs": [],
   "execution_count": 47
  },
  {
   "metadata": {
    "ExecuteTime": {
     "end_time": "2024-07-24T08:50:48.050058Z",
     "start_time": "2024-07-24T08:50:48.045437Z"
    }
   },
   "cell_type": "code",
   "source": [
    "import sys\n",
    "import google.protobuf.text_format as tf\n",
    "from bareunpy import Tokenizer, Tagger\n",
    "\n",
    "# You can get an API-KEY from https://bareun.ai/\n",
    "# Please note that you need to sign up and verify your email.\n",
    "# 아래에 \"https://bareun.ai/\"에서 이메일 인증 후 발급받은 API KEY(\"koba-...\")를 입력해주세요. \"로그인-내정보 확인\"\n",
    "API_KEY = \"koba-GRKAAOA-7DDU2WA-TMZS6VY-AIXYICQ\" # <- 본인의 API KEY로 교체(Replace this with your own API KEY)\n",
    "\n",
    "# If you have your own localhost bareun.\n",
    "my_tokenizer = Tokenizer(API_KEY, 'localhost')"
   ],
   "id": "9e275a02c7da9f2d",
   "outputs": [],
   "execution_count": 49
  },
  {
   "metadata": {
    "ExecuteTime": {
     "end_time": "2024-07-24T08:50:48.053616Z",
     "start_time": "2024-07-24T08:50:48.051136Z"
    }
   },
   "cell_type": "code",
   "source": "tagger = Tagger(API_KEY, 'localhost')",
   "id": "8b33be2f4334efcb",
   "outputs": [],
   "execution_count": 50
  },
  {
   "metadata": {
    "ExecuteTime": {
     "end_time": "2024-07-24T08:50:48.100804Z",
     "start_time": "2024-07-24T08:50:48.054677Z"
    }
   },
   "cell_type": "code",
   "source": "res = tagger.tags(['안녕하세요.'])",
   "id": "17efbb4a56abce45",
   "outputs": [],
   "execution_count": 51
  },
  {
   "metadata": {
    "ExecuteTime": {
     "end_time": "2024-07-24T08:50:48.195786Z",
     "start_time": "2024-07-24T08:50:48.102069Z"
    }
   },
   "cell_type": "code",
   "source": [
    "# print results.\n",
    "res = tagger.tags([\"안녕하세요.\", \"반가워요!\"])"
   ],
   "id": "691ce25cbeefb349",
   "outputs": [],
   "execution_count": 52
  },
  {
   "metadata": {
    "ExecuteTime": {
     "end_time": "2024-07-24T08:50:48.207253Z",
     "start_time": "2024-07-24T08:50:48.199497Z"
    }
   },
   "cell_type": "code",
   "source": [
    "# get tuple of pos tagging.\n",
    "pa = res.pos()\n",
    "print(pa)"
   ],
   "id": "37d63d6f0957153f",
   "outputs": [
    {
     "name": "stdout",
     "output_type": "stream",
     "text": [
      "[('안녕하', 'VA'), ('시', 'EP'), ('어요', 'EF'), ('.', 'SF'), ('반갑', 'VA'), ('어요', 'EF'), ('!', 'SF')]\n"
     ]
    }
   ],
   "execution_count": 53
  },
  {
   "metadata": {
    "ExecuteTime": {
     "end_time": "2024-07-24T08:50:48.314438Z",
     "start_time": "2024-07-24T08:50:48.209885Z"
    }
   },
   "cell_type": "code",
   "source": [
    "res = tagger.tags([\"안녕하세요.\", \"반가워요!\"])\n",
    "ma = res.morphs()\n",
    "print(ma)"
   ],
   "id": "4440229a12e491dc",
   "outputs": [
    {
     "name": "stdout",
     "output_type": "stream",
     "text": [
      "['안녕하', '시', '어요', '.', '반갑', '어요', '!']\n"
     ]
    }
   ],
   "execution_count": 54
  },
  {
   "metadata": {
    "ExecuteTime": {
     "end_time": "2024-07-24T08:50:48.318656Z",
     "start_time": "2024-07-24T08:50:48.315636Z"
    }
   },
   "cell_type": "code",
   "source": [
    "na = res.nouns()\n",
    "print(na)"
   ],
   "id": "a3120f97a49f771c",
   "outputs": [
    {
     "name": "stdout",
     "output_type": "stream",
     "text": [
      "[]\n"
     ]
    }
   ],
   "execution_count": 55
  },
  {
   "metadata": {
    "ExecuteTime": {
     "end_time": "2024-07-24T08:50:48.323597Z",
     "start_time": "2024-07-24T08:50:48.319755Z"
    }
   },
   "cell_type": "code",
   "source": [
    "va = res.verbs()\n",
    "print(va)"
   ],
   "id": "81232686a2b9c9c6",
   "outputs": [
    {
     "name": "stdout",
     "output_type": "stream",
     "text": [
      "[]\n"
     ]
    }
   ],
   "execution_count": 56
  },
  {
   "metadata": {
    "ExecuteTime": {
     "end_time": "2024-07-24T08:50:48.330023Z",
     "start_time": "2024-07-24T08:50:48.325449Z"
    }
   },
   "cell_type": "code",
   "source": [
    "import pandas as pd\n",
    "import numpy as np\n",
    "import tensorflow as tf\n",
    "import matplotlib.pyplot as plt\n",
    "import seaborn as sns\n",
    "\n",
    "from collections import Counter\n",
    "from sklearn.model_selection import train_test_split\n",
    "\n",
    "from konlpy.tag import Hannanum,Kkma,Komoran,Mecab,Okt"
   ],
   "id": "3c80d161f337d66b",
   "outputs": [],
   "execution_count": 57
  },
  {
   "metadata": {
    "ExecuteTime": {
     "end_time": "2024-07-24T08:50:48.335660Z",
     "start_time": "2024-07-24T08:50:48.332071Z"
    }
   },
   "cell_type": "code",
   "source": [
    "from tqdm import tqdm, trange\n",
    "\n",
    "tqdm.pandas()"
   ],
   "id": "8d8e3b7122c02865",
   "outputs": [],
   "execution_count": 58
  },
  {
   "metadata": {
    "ExecuteTime": {
     "end_time": "2024-07-24T08:50:48.668440Z",
     "start_time": "2024-07-24T08:50:48.337471Z"
    }
   },
   "cell_type": "code",
   "source": [
    "train_path = './data/ratings_train.txt'\n",
    "test_path = './data/ratings_test.txt'\n",
    "\n",
    "train = pd.read_table(train_path)\n",
    "test = pd.read_table(test_path)"
   ],
   "id": "1480657c4f0c8060",
   "outputs": [],
   "execution_count": 59
  },
  {
   "metadata": {
    "ExecuteTime": {
     "end_time": "2024-07-24T08:50:48.676112Z",
     "start_time": "2024-07-24T08:50:48.670749Z"
    }
   },
   "cell_type": "code",
   "source": "train.head()",
   "id": "582e6b4507631333",
   "outputs": [
    {
     "data": {
      "text/plain": [
       "         id                                           document  label\n",
       "0   9976970                                아 더빙.. 진짜 짜증나네요 목소리      0\n",
       "1   3819312                  흠...포스터보고 초딩영화줄....오버연기조차 가볍지 않구나      1\n",
       "2  10265843                                  너무재밓었다그래서보는것을추천한다      0\n",
       "3   9045019                      교도소 이야기구먼 ..솔직히 재미는 없다..평점 조정      0\n",
       "4   6483659  사이몬페그의 익살스런 연기가 돋보였던 영화!스파이더맨에서 늙어보이기만 했던 커스틴 ...      1"
      ],
      "text/html": [
       "<div>\n",
       "<style scoped>\n",
       "    .dataframe tbody tr th:only-of-type {\n",
       "        vertical-align: middle;\n",
       "    }\n",
       "\n",
       "    .dataframe tbody tr th {\n",
       "        vertical-align: top;\n",
       "    }\n",
       "\n",
       "    .dataframe thead th {\n",
       "        text-align: right;\n",
       "    }\n",
       "</style>\n",
       "<table border=\"1\" class=\"dataframe\">\n",
       "  <thead>\n",
       "    <tr style=\"text-align: right;\">\n",
       "      <th></th>\n",
       "      <th>id</th>\n",
       "      <th>document</th>\n",
       "      <th>label</th>\n",
       "    </tr>\n",
       "  </thead>\n",
       "  <tbody>\n",
       "    <tr>\n",
       "      <th>0</th>\n",
       "      <td>9976970</td>\n",
       "      <td>아 더빙.. 진짜 짜증나네요 목소리</td>\n",
       "      <td>0</td>\n",
       "    </tr>\n",
       "    <tr>\n",
       "      <th>1</th>\n",
       "      <td>3819312</td>\n",
       "      <td>흠...포스터보고 초딩영화줄....오버연기조차 가볍지 않구나</td>\n",
       "      <td>1</td>\n",
       "    </tr>\n",
       "    <tr>\n",
       "      <th>2</th>\n",
       "      <td>10265843</td>\n",
       "      <td>너무재밓었다그래서보는것을추천한다</td>\n",
       "      <td>0</td>\n",
       "    </tr>\n",
       "    <tr>\n",
       "      <th>3</th>\n",
       "      <td>9045019</td>\n",
       "      <td>교도소 이야기구먼 ..솔직히 재미는 없다..평점 조정</td>\n",
       "      <td>0</td>\n",
       "    </tr>\n",
       "    <tr>\n",
       "      <th>4</th>\n",
       "      <td>6483659</td>\n",
       "      <td>사이몬페그의 익살스런 연기가 돋보였던 영화!스파이더맨에서 늙어보이기만 했던 커스틴 ...</td>\n",
       "      <td>1</td>\n",
       "    </tr>\n",
       "  </tbody>\n",
       "</table>\n",
       "</div>"
      ]
     },
     "execution_count": 60,
     "metadata": {},
     "output_type": "execute_result"
    }
   ],
   "execution_count": 60
  },
  {
   "metadata": {
    "ExecuteTime": {
     "end_time": "2024-07-24T08:50:48.680514Z",
     "start_time": "2024-07-24T08:50:48.676943Z"
    }
   },
   "cell_type": "code",
   "source": "test.head()",
   "id": "db62a7300de18395",
   "outputs": [
    {
     "data": {
      "text/plain": [
       "        id                                           document  label\n",
       "0  6270596                                                굳 ㅋ      1\n",
       "1  9274899                               GDNTOPCLASSINTHECLUB      0\n",
       "2  8544678             뭐야 이 평점들은.... 나쁘진 않지만 10점 짜리는 더더욱 아니잖아      0\n",
       "3  6825595                   지루하지는 않은데 완전 막장임... 돈주고 보기에는....      0\n",
       "4  6723715  3D만 아니었어도 별 다섯 개 줬을텐데.. 왜 3D로 나와서 제 심기를 불편하게 하죠??      0"
      ],
      "text/html": [
       "<div>\n",
       "<style scoped>\n",
       "    .dataframe tbody tr th:only-of-type {\n",
       "        vertical-align: middle;\n",
       "    }\n",
       "\n",
       "    .dataframe tbody tr th {\n",
       "        vertical-align: top;\n",
       "    }\n",
       "\n",
       "    .dataframe thead th {\n",
       "        text-align: right;\n",
       "    }\n",
       "</style>\n",
       "<table border=\"1\" class=\"dataframe\">\n",
       "  <thead>\n",
       "    <tr style=\"text-align: right;\">\n",
       "      <th></th>\n",
       "      <th>id</th>\n",
       "      <th>document</th>\n",
       "      <th>label</th>\n",
       "    </tr>\n",
       "  </thead>\n",
       "  <tbody>\n",
       "    <tr>\n",
       "      <th>0</th>\n",
       "      <td>6270596</td>\n",
       "      <td>굳 ㅋ</td>\n",
       "      <td>1</td>\n",
       "    </tr>\n",
       "    <tr>\n",
       "      <th>1</th>\n",
       "      <td>9274899</td>\n",
       "      <td>GDNTOPCLASSINTHECLUB</td>\n",
       "      <td>0</td>\n",
       "    </tr>\n",
       "    <tr>\n",
       "      <th>2</th>\n",
       "      <td>8544678</td>\n",
       "      <td>뭐야 이 평점들은.... 나쁘진 않지만 10점 짜리는 더더욱 아니잖아</td>\n",
       "      <td>0</td>\n",
       "    </tr>\n",
       "    <tr>\n",
       "      <th>3</th>\n",
       "      <td>6825595</td>\n",
       "      <td>지루하지는 않은데 완전 막장임... 돈주고 보기에는....</td>\n",
       "      <td>0</td>\n",
       "    </tr>\n",
       "    <tr>\n",
       "      <th>4</th>\n",
       "      <td>6723715</td>\n",
       "      <td>3D만 아니었어도 별 다섯 개 줬을텐데.. 왜 3D로 나와서 제 심기를 불편하게 하죠??</td>\n",
       "      <td>0</td>\n",
       "    </tr>\n",
       "  </tbody>\n",
       "</table>\n",
       "</div>"
      ]
     },
     "execution_count": 61,
     "metadata": {},
     "output_type": "execute_result"
    }
   ],
   "execution_count": 61
  },
  {
   "metadata": {
    "ExecuteTime": {
     "end_time": "2024-07-24T08:50:48.682809Z",
     "start_time": "2024-07-24T08:50:48.681186Z"
    }
   },
   "cell_type": "code",
   "source": "print(f\"train shape => {train.shape} \\ntest shape => {test.shape}\")",
   "id": "6894e13be0a93ae4",
   "outputs": [
    {
     "name": "stdout",
     "output_type": "stream",
     "text": [
      "train shape => (150000, 3) \n",
      "test shape => (50000, 3)\n"
     ]
    }
   ],
   "execution_count": 62
  },
  {
   "metadata": {},
   "cell_type": "markdown",
   "source": [
    "### 최종 전처리 함수\n",
    "- 한글, 숫자, 초성, ♥♡乃ㄳㅄ의 문자를 남겼다\n",
    "- 초성 ㅜㅜ, ㅋㅋ이 감정의 의미를 담을 수 있다고 파악했기 때문이다\n",
    "- 다중 공백을 제거하는 코드를 추가하였다\n",
    "- ㅋ와 ㅋㅋ은 다르게 인지하였다\n",
    "    - ㅜㅜㅜ, ㅋㅋㅋㅋㅋㅋ 등의 다중 초성은 2개의 초성으로 모두 합쳐주었다\n",
    "- 빈 하트와 채워진 하트는 채워진 하트로 통일하고 하트의 갯수는 모두 하나로 바꿔주었다\n",
    "- 반복되는 문자열은 하나만 남기고 지워줬다"
   ],
   "id": "aaa0fb62264ce343"
  },
  {
   "metadata": {
    "ExecuteTime": {
     "end_time": "2024-07-24T08:50:48.684952Z",
     "start_time": "2024-07-24T08:50:48.683397Z"
    }
   },
   "cell_type": "code",
   "source": "import re",
   "id": "78827868f01c52f1",
   "outputs": [],
   "execution_count": 63
  },
  {
   "metadata": {
    "ExecuteTime": {
     "end_time": "2024-07-24T08:50:48.688619Z",
     "start_time": "2024-07-24T08:50:48.685561Z"
    }
   },
   "cell_type": "code",
   "source": [
    "def preprocessing(train, col='document'):\n",
    "    train[col] = train[col].str.replace(\"[^ㄱ-ㅎㅏ-ㅣ가-힣0-9♥♡乃ㄳㅄ ]\",\"\") # 정규 표현식 수행\n",
    "    train[col] = train[col].str.replace('^ +', \"\") # 공백은 empty 값으로 변경\n",
    "    train[col].replace('', np.nan, inplace=True) # 공백은 Null 값으로 변경\n",
    "    train.dropna(how='any', inplace=True)\n",
    "    \n",
    "    train[col] = train[col].apply(lambda x: re.sub(r'(ㅋ|ㅎ|ㅜ|ㅠ){2,}', lambda m: m.group(1) * 2, x)) # 반복되는 2자리 문자 처리\n",
    "\n",
    "    train[col] = train[col].str.replace(r'♡','♥')\n",
    "    train[col] = train[col].apply(lambda x: re.sub(r'♥+', '♥', x))\n",
    "    train[col] = train[col].apply(lambda x: re.sub(r'\\b(\\S+)( \\1)+', r'\\1', x))\n",
    "    train[col] = train[col].apply(lambda x: ' '.join(x.split()))\n",
    "    return train"
   ],
   "id": "a0561044497aee21",
   "outputs": [],
   "execution_count": 64
  },
  {
   "metadata": {
    "ExecuteTime": {
     "end_time": "2024-07-24T08:50:50.177936Z",
     "start_time": "2024-07-24T08:50:48.689172Z"
    }
   },
   "cell_type": "code",
   "source": [
    "train = preprocessing(train, col='document')\n",
    "test = preprocessing(test, col='document')"
   ],
   "id": "a90a36495e79d93a",
   "outputs": [
    {
     "name": "stderr",
     "output_type": "stream",
     "text": [
      "/var/folders/1b/dx8_94fs0q740wx3lfknk6y40000gn/T/ipykernel_92450/2614627157.py:2: FutureWarning: The default value of regex will change from True to False in a future version.\n",
      "  train[col] = train[col].str.replace(\"[^ㄱ-ㅎㅏ-ㅣ가-힣0-9♥♡乃ㄳㅄ ]\",\"\") # 정규 표현식 수행\n",
      "/var/folders/1b/dx8_94fs0q740wx3lfknk6y40000gn/T/ipykernel_92450/2614627157.py:3: FutureWarning: The default value of regex will change from True to False in a future version.\n",
      "  train[col] = train[col].str.replace('^ +', \"\") # 공백은 empty 값으로 변경\n"
     ]
    }
   ],
   "execution_count": 65
  },
  {
   "metadata": {
    "ExecuteTime": {
     "end_time": "2024-07-24T08:50:50.187752Z",
     "start_time": "2024-07-24T08:50:50.179014Z"
    }
   },
   "cell_type": "code",
   "source": [
    "# 훈련 데이터와 테스트 데이터 분리\n",
    "train_texts, train_labels = train['document'].tolist(), train['label'].tolist()\n",
    "test_texts, test_labels = test['document'].tolist(), test['label'].tolist()"
   ],
   "id": "2ce7209360692166",
   "outputs": [],
   "execution_count": 66
  },
  {
   "metadata": {
    "ExecuteTime": {
     "end_time": "2024-07-24T08:50:50.192507Z",
     "start_time": "2024-07-24T08:50:50.189172Z"
    }
   },
   "cell_type": "code",
   "source": [
    "import os\n",
    "os.environ[\"JAVA_HOME\"] = '/Library/Java/JavaVirtualMachines/jdk-1.8.jdk/Contents/Home'"
   ],
   "id": "85a7aede5e17a67",
   "outputs": [],
   "execution_count": 67
  },
  {
   "metadata": {
    "ExecuteTime": {
     "end_time": "2024-07-24T08:50:50.196560Z",
     "start_time": "2024-07-24T08:50:50.193510Z"
    }
   },
   "cell_type": "code",
   "source": "train_texts = train_texts[:1000]",
   "id": "a0fded71379d73e",
   "outputs": [],
   "execution_count": 68
  },
  {
   "metadata": {
    "ExecuteTime": {
     "end_time": "2024-07-24T13:48:16.871312Z",
     "start_time": "2024-07-24T13:44:55.045827Z"
    }
   },
   "cell_type": "code",
   "source": [
    "import time\n",
    "from konlpy.tag import Okt, Kkma, Hannanum, Komoran, Mecab\n",
    "from kiwipiepy import Kiwi\n",
    "\n",
    "# 토크나이저 초기화\n",
    "okt = Okt()\n",
    "kkma = Kkma()\n",
    "komoran = Komoran()\n",
    "mecab = Mecab()\n",
    "kiwi = Kiwi()\n",
    "hannanum = Hannanum()\n",
    "\n",
    "# 토크나이저 함수 정의\n",
    "def tokenize_okt(texts):\n",
    "    return [okt.pos(text) for text in texts]\n",
    "\n",
    "def tokenize_hannanum(texts):\n",
    "    return [hannanum.pos(text) for text in texts]\n",
    "\n",
    "def tokenize_kkma(texts):\n",
    "    return [kkma.pos(text) for text in texts]\n",
    "\n",
    "def tokenize_komoran(texts):\n",
    "    return [komoran.pos(text) for text in texts]\n",
    "\n",
    "def tokenize_mecab(texts):\n",
    "    return [mecab.pos(text) for text in texts]\n",
    "\n",
    "def tokenize_kiwi(texts):\n",
    "    return [kiwi.tokenize(text) for text in texts]\n",
    "\n",
    "def tokenize_bareun(texts):\n",
    "    bareun = Tagger(API_KEY, 'localhost')\n",
    "    return [bareun.tags([text]).pos() for text in texts]\n",
    "\n",
    "def tokenize_okt_norm(texts):\n",
    "    return [okt.pos(text, norm=True) for text in texts]\n",
    "\n",
    "def tokenize_okt_norm_stem(texts):\n",
    "    return [okt.pos(text, stem=True, norm=True) for text in texts]\n",
    "\n",
    "def tokenize_okt_stem(texts):\n",
    "    return [okt.pos(text, stem=True) for text in texts]\n",
    "\n",
    "# 토크나이저 실행 시간 측정\n",
    "def measure_time(tokenizer, texts, iterations=5):\n",
    "    total_time = 0\n",
    "    for _ in range(iterations):\n",
    "        start_time = time.time()\n",
    "        tokens = tokenizer(texts)\n",
    "        end_time = time.time()\n",
    "        total_time += end_time - start_time\n",
    "    average_time = total_time / iterations\n",
    "    return tokens, average_time\n",
    "\n",
    "# 고정된 조건에서 성능 측정\n",
    "iterations = 5\n",
    "\n",
    "# 토큰화 및 실행 시간 측정\n",
    "train_tokens_okt, time_okt = measure_time(tokenize_okt, train_texts)\n",
    "print(f\"Okt 실행 시간: {time_okt:.2f} 초\")\n",
    "\n",
    "train_tokens_kkma, time_kkma = measure_time(tokenize_kkma, train_texts)\n",
    "print(f\"Kkma 실행 시간: {time_kkma:.2f} 초\")\n",
    "\n",
    "train_tokens_komoran, time_komoran = measure_time(tokenize_komoran, train_texts)\n",
    "print(f\"Komoran 실행 시간: {time_komoran:.2f} 초\")\n",
    "\n",
    "train_tokens_mecab, time_mecab = measure_time(tokenize_mecab, train_texts)\n",
    "print(f\"Mecab 실행 시간: {time_mecab:.2f} 초\")\n",
    "\n",
    "train_tokens_hannanum, time_hannanum = measure_time(tokenize_hannanum, train_texts)\n",
    "print(f\"Hannanum 실행 시간: {time_hannanum:.2f} 초\")\n",
    "\n",
    "train_tokens_kiwi, time_kiwi = measure_time(tokenize_kiwi, train_texts)\n",
    "print(f\"Kiwi 실행 시간: {time_kiwi:.2f} 초\")\n",
    "\n",
    "train_tokens_bareun, time_bareun = measure_time(tokenize_bareun, train_texts)\n",
    "print(f\"bareun 실행 시간: {time_bareun:.2f} 초\")\n",
    "\n",
    "train_tokens_okt_norm, time_okt_norm = measure_time(tokenize_okt_norm, train_texts)\n",
    "print(f\"Okt norm 실행 시간: {time_okt_norm:.2f} 초\")\n",
    "\n",
    "train_tokens_okt_stem, time_okt_stem = measure_time(tokenize_okt_stem, train_texts)\n",
    "print(f\"Okt stem 실행 시간: {time_okt_stem:.2f} 초\")\n",
    "\n",
    "train_tokens_okt_norm_stem, time_okt_norm_stem = measure_time(tokenize_okt_norm_stem, train_texts)\n",
    "print(f\"Okt norm_stem 실행 시간: {time_okt_norm_stem:.2f} 초\")"
   ],
   "id": "ece33d58140b3e56",
   "outputs": [
    {
     "name": "stdout",
     "output_type": "stream",
     "text": [
      "Okt 실행 시간: 1.44 초\n",
      "Kkma 실행 시간: 12.80 초\n",
      "Komoran 실행 시간: 0.28 초\n",
      "Mecab 실행 시간: 0.02 초\n",
      "Hannanum 실행 시간: 2.21 초\n",
      "Kiwi 실행 시간: 0.66 초\n",
      "bareun 실행 시간: 12.16 초\n",
      "Okt norm 실행 시간: 4.04 초\n",
      "Okt stem 실행 시간: 2.27 초\n",
      "Okt norm_stem 실행 시간: 4.04 초\n"
     ]
    }
   ],
   "execution_count": 96
  },
  {
   "metadata": {
    "ExecuteTime": {
     "end_time": "2024-07-24T13:40:28.375487Z",
     "start_time": "2024-07-24T13:40:28.366014Z"
    }
   },
   "cell_type": "code",
   "source": "train_tokens_okt[0]",
   "id": "b899dbf827d05c44",
   "outputs": [
    {
     "data": {
      "text/plain": [
       "[('아', 'Exclamation'),\n",
       " ('더빙', 'Noun'),\n",
       " ('진짜', 'Noun'),\n",
       " ('짜증나네요', 'Adjective'),\n",
       " ('목소리', 'Noun')]"
      ]
     },
     "execution_count": 84,
     "metadata": {},
     "output_type": "execute_result"
    }
   ],
   "execution_count": 84
  },
  {
   "metadata": {
    "ExecuteTime": {
     "end_time": "2024-07-24T13:40:28.779964Z",
     "start_time": "2024-07-24T13:40:28.772617Z"
    }
   },
   "cell_type": "code",
   "source": "train_tokens_kkma[0]",
   "id": "7943f17a40f19c45",
   "outputs": [
    {
     "data": {
      "text/plain": [
       "[('아', 'VV'),\n",
       " ('아', 'ECS'),\n",
       " ('더빙', 'NNG'),\n",
       " ('진짜', 'MAG'),\n",
       " ('짜증나', 'VV'),\n",
       " ('네요', 'EFN'),\n",
       " ('목소리', 'NNG')]"
      ]
     },
     "execution_count": 85,
     "metadata": {},
     "output_type": "execute_result"
    }
   ],
   "execution_count": 85
  },
  {
   "metadata": {
    "ExecuteTime": {
     "end_time": "2024-07-24T13:40:29.236625Z",
     "start_time": "2024-07-24T13:40:29.233396Z"
    }
   },
   "cell_type": "code",
   "source": "train_tokens_komoran[0]",
   "id": "1ed927f0c0a6f8cd",
   "outputs": [
    {
     "data": {
      "text/plain": [
       "[('아', 'IC'),\n",
       " ('더빙', 'NNP'),\n",
       " ('진짜', 'MAG'),\n",
       " ('짜증', 'NNG'),\n",
       " ('나', 'VV'),\n",
       " ('네요', 'EC'),\n",
       " ('목소리', 'NNG')]"
      ]
     },
     "execution_count": 86,
     "metadata": {},
     "output_type": "execute_result"
    }
   ],
   "execution_count": 86
  },
  {
   "metadata": {
    "ExecuteTime": {
     "end_time": "2024-07-24T13:40:29.695330Z",
     "start_time": "2024-07-24T13:40:29.692189Z"
    }
   },
   "cell_type": "code",
   "source": "train_tokens_hannanum[0]",
   "id": "98756b79fc029b4c",
   "outputs": [
    {
     "data": {
      "text/plain": [
       "[('아', 'I'),\n",
       " ('더빙', 'N'),\n",
       " ('진짜', 'N'),\n",
       " ('짜증나', 'P'),\n",
       " ('네', 'E'),\n",
       " ('요', 'J'),\n",
       " ('목소리', 'N')]"
      ]
     },
     "execution_count": 87,
     "metadata": {},
     "output_type": "execute_result"
    }
   ],
   "execution_count": 87
  },
  {
   "metadata": {
    "ExecuteTime": {
     "end_time": "2024-07-24T13:40:30.089217Z",
     "start_time": "2024-07-24T13:40:30.086427Z"
    }
   },
   "cell_type": "code",
   "source": "train_tokens_kiwi[0]",
   "id": "142b4f9000d6d0b",
   "outputs": [
    {
     "data": {
      "text/plain": [
       "[Token(form='아', tag='IC', start=0, len=1),\n",
       " Token(form='더빙', tag='NNG', start=2, len=2),\n",
       " Token(form='진짜', tag='MAG', start=5, len=2),\n",
       " Token(form='짜증', tag='NNG', start=8, len=2),\n",
       " Token(form='나', tag='VV', start=10, len=1),\n",
       " Token(form='네요', tag='EF', start=11, len=2),\n",
       " Token(form='목소리', tag='NNG', start=14, len=3)]"
      ]
     },
     "execution_count": 88,
     "metadata": {},
     "output_type": "execute_result"
    }
   ],
   "execution_count": 88
  },
  {
   "metadata": {
    "ExecuteTime": {
     "end_time": "2024-07-24T13:40:30.532286Z",
     "start_time": "2024-07-24T13:40:30.528777Z"
    }
   },
   "cell_type": "code",
   "source": "train_tokens_mecab[0]",
   "id": "bec6011fd30746e2",
   "outputs": [
    {
     "data": {
      "text/plain": [
       "[('아', 'IC'),\n",
       " ('더', 'MAG'),\n",
       " ('빙', 'MAG'),\n",
       " ('진짜', 'MAG'),\n",
       " ('짜증', 'NNG'),\n",
       " ('나', 'NP'),\n",
       " ('네요', 'VCP+EC'),\n",
       " ('목소리', 'NNG')]"
      ]
     },
     "execution_count": 89,
     "metadata": {},
     "output_type": "execute_result"
    }
   ],
   "execution_count": 89
  },
  {
   "metadata": {
    "ExecuteTime": {
     "end_time": "2024-07-24T13:40:39.585098Z",
     "start_time": "2024-07-24T13:40:39.580688Z"
    }
   },
   "cell_type": "code",
   "source": "train_tokens_bareun[0]",
   "id": "f2a6da5aaa3d75e6",
   "outputs": [
    {
     "data": {
      "text/plain": [
       "[('아', 'IC'),\n",
       " ('더빙', 'IC'),\n",
       " ('진짜', 'MAG'),\n",
       " ('짜증', 'NNG'),\n",
       " ('나', 'VV'),\n",
       " ('네', 'EF'),\n",
       " ('요', 'JX'),\n",
       " ('목소리', 'NNG')]"
      ]
     },
     "execution_count": 94,
     "metadata": {},
     "output_type": "execute_result"
    }
   ],
   "execution_count": 94
  },
  {
   "metadata": {
    "ExecuteTime": {
     "end_time": "2024-07-24T13:40:31.485838Z",
     "start_time": "2024-07-24T13:40:31.480529Z"
    }
   },
   "cell_type": "code",
   "source": "train_tokens_okt_norm[0]",
   "id": "32ab65550ea9d839",
   "outputs": [
    {
     "data": {
      "text/plain": [
       "[('아', 'Exclamation'),\n",
       " ('더빙', 'Noun'),\n",
       " ('진짜', 'Noun'),\n",
       " ('짜증나네요', 'Adjective'),\n",
       " ('목소리', 'Noun')]"
      ]
     },
     "execution_count": 91,
     "metadata": {},
     "output_type": "execute_result"
    }
   ],
   "execution_count": 91
  },
  {
   "metadata": {
    "ExecuteTime": {
     "end_time": "2024-07-24T13:40:31.956181Z",
     "start_time": "2024-07-24T13:40:31.952620Z"
    }
   },
   "cell_type": "code",
   "source": "train_tokens_okt_stem[0]",
   "id": "ba1bb35eb41dc9c6",
   "outputs": [
    {
     "data": {
      "text/plain": [
       "[('아', 'Exclamation'),\n",
       " ('더빙', 'Noun'),\n",
       " ('진짜', 'Noun'),\n",
       " ('짜증나다', 'Adjective'),\n",
       " ('목소리', 'Noun')]"
      ]
     },
     "execution_count": 92,
     "metadata": {},
     "output_type": "execute_result"
    }
   ],
   "execution_count": 92
  },
  {
   "metadata": {
    "ExecuteTime": {
     "end_time": "2024-07-24T13:40:32.385975Z",
     "start_time": "2024-07-24T13:40:32.383162Z"
    }
   },
   "cell_type": "code",
   "source": "train_tokens_okt_norm_stem[0]",
   "id": "eab7461a7708507a",
   "outputs": [
    {
     "data": {
      "text/plain": [
       "[('아', 'Exclamation'),\n",
       " ('더빙', 'Noun'),\n",
       " ('진짜', 'Noun'),\n",
       " ('짜증나다', 'Adjective'),\n",
       " ('목소리', 'Noun')]"
      ]
     },
     "execution_count": 93,
     "metadata": {},
     "output_type": "execute_result"
    }
   ],
   "execution_count": 93
  },
  {
   "metadata": {
    "ExecuteTime": {
     "end_time": "2024-07-24T14:43:06.412832Z",
     "start_time": "2024-07-24T14:43:06.398646Z"
    }
   },
   "cell_type": "code",
   "source": "# !pip install soynlp",
   "id": "ef618b8c754c5076",
   "outputs": [],
   "execution_count": 122
  },
  {
   "metadata": {
    "ExecuteTime": {
     "end_time": "2024-07-24T14:19:42.124025Z",
     "start_time": "2024-07-24T14:19:42.078384Z"
    }
   },
   "cell_type": "code",
   "source": [
    "from pprint import pprint\n",
    "import sys\n",
    "sys.path.append('../')\n",
    "\n",
    "from soynlp.tokenizer import RegexTokenizer, LTokenizer, MaxScoreTokenizer"
   ],
   "id": "1484aa8f0671db1",
   "outputs": [],
   "execution_count": 98
  },
  {
   "metadata": {
    "ExecuteTime": {
     "end_time": "2024-07-24T14:20:14.270402Z",
     "start_time": "2024-07-24T14:20:14.262057Z"
    }
   },
   "cell_type": "code",
   "source": [
    "tokenizer = RegexTokenizer()\n",
    "\n",
    "sents = [\n",
    "    '이렇게연속된문장은잘리지않습니다만',\n",
    "    '숫자123이영어abc에섞여있으면ㅋㅋ잘리겠죠',\n",
    "    '띄어쓰기가 포함되어있으면 이정보는10점!꼭띄워야죠'\n",
    "]\n",
    "\n",
    "for sent in sents:\n",
    "    print('   %s\\n->%s\\n' % (sent, tokenizer.tokenize(sent)))"
   ],
   "id": "104ccefc5499df39",
   "outputs": [
    {
     "name": "stdout",
     "output_type": "stream",
     "text": [
      "   이렇게연속된문장은잘리지않습니다만\n",
      "->['이렇게연속된문장은잘리지않습니다만']\n",
      "\n",
      "   숫자123이영어abc에섞여있으면ㅋㅋ잘리겠죠\n",
      "->['숫자', '123', '이영어', 'abc', '에섞여있으면', 'ㅋㅋ', '잘리겠죠']\n",
      "\n",
      "   띄어쓰기가 포함되어있으면 이정보는10점!꼭띄워야죠\n",
      "->['띄어쓰기가', '포함되어있으면', '이정보는', '10', '점', '!', '꼭띄워야죠']\n",
      "\n"
     ]
    },
    {
     "name": "stderr",
     "output_type": "stream",
     "text": [
      "/opt/homebrew/Caskroom/miniforge/base/envs/DL-tf/lib/python3.8/site-packages/soynlp/tokenizer/_tokenizer.py:19: FutureWarning: Possible nested set at position 13\n",
      "  ('english & latin', re.compile(u\"[a-zA-ZÀ-ÿ]+[[`']?s]*|[a-zA-ZÀ-ÿ]+\", re.UNICODE))\n"
     ]
    }
   ],
   "execution_count": 99
  },
  {
   "metadata": {
    "ExecuteTime": {
     "end_time": "2024-07-24T14:20:22.258164Z",
     "start_time": "2024-07-24T14:20:22.255205Z"
    }
   },
   "cell_type": "code",
   "source": "tokenizer.tokenize('띄어쓰기가 포함되어있으면 이정보는10점!꼭띄워야죠',flatten=False)",
   "id": "1c25283fe95236ae",
   "outputs": [
    {
     "data": {
      "text/plain": [
       "[['띄어쓰기가'], ['포함되어있으면'], ['이정보는', '10', '점', '!', '꼭띄워야죠']]"
      ]
     },
     "execution_count": 100,
     "metadata": {},
     "output_type": "execute_result"
    }
   ],
   "execution_count": 100
  },
  {
   "metadata": {
    "ExecuteTime": {
     "end_time": "2024-07-24T14:47:30.895660Z",
     "start_time": "2024-07-24T14:47:18.052245Z"
    }
   },
   "cell_type": "code",
   "source": [
    "from soynlp.word import WordExtractor\n",
    "\n",
    "word_extractor = WordExtractor(min_frequency=100,\n",
    "    min_cohesion_forward=0.05, \n",
    "    min_right_branching_entropy=0.0\n",
    ")\n",
    "word_extractor.train(train['document'].tolist() + test['document'].tolist()) # list of str or like\n",
    "words = word_extractor.extract()"
   ],
   "id": "d239effbc2376e75",
   "outputs": [
    {
     "name": "stdout",
     "output_type": "stream",
     "text": [
      "training was done. used memory 1.038 Gbse memory 0.755 Gb\n",
      "all cohesion probabilities was computed. # words = 5647\n",
      "all branching entropies was computed # words = 105708\n",
      "all accessor variety was computed # words = 105708\n"
     ]
    }
   ],
   "execution_count": 128
  },
  {
   "metadata": {
    "ExecuteTime": {
     "end_time": "2024-07-24T14:47:30.899259Z",
     "start_time": "2024-07-24T14:47:30.896818Z"
    }
   },
   "cell_type": "code",
   "source": "len(words)",
   "id": "505d85a2b6873281",
   "outputs": [
    {
     "data": {
      "text/plain": [
       "3836"
      ]
     },
     "execution_count": 129,
     "metadata": {},
     "output_type": "execute_result"
    }
   ],
   "execution_count": 129
  },
  {
   "metadata": {
    "ExecuteTime": {
     "end_time": "2024-07-24T14:47:30.904633Z",
     "start_time": "2024-07-24T14:47:30.899980Z"
    }
   },
   "cell_type": "code",
   "source": [
    "import math\n",
    "\n",
    "def word_score(score):\n",
    "    return (score.cohesion_forward * math.exp(score.right_branching_entropy))\n",
    "\n",
    "print('단어   (빈도수, cohesion, branching entropy)\\n')\n",
    "for word, score in sorted(words.items(), key=lambda x:word_score(x[1]), reverse=True)[:30]:\n",
    "    print('%s     (%d, %.3f, %.3f)' % (\n",
    "            word, \n",
    "            score.leftside_frequency, \n",
    "            score.cohesion_forward,\n",
    "            score.right_branching_entropy\n",
    "            )\n",
    "         )"
   ],
   "id": "bf68a895018d180e",
   "outputs": [
    {
     "name": "stdout",
     "output_type": "stream",
     "text": [
      "단어   (빈도수, cohesion, branching entropy)\n",
      "\n",
      "ㅋㅋ     (6727, 0.973, 5.095)\n",
      "영화     (57286, 0.941, 4.929)\n",
      "ㅠㅠ     (2061, 0.958, 4.890)\n",
      "ㅎㅎ     (1614, 0.925, 4.835)\n",
      "ㅡㅡ     (1616, 0.958, 4.682)\n",
      "합니다     (363, 0.750, 4.860)\n",
      "ㅜㅜ     (705, 0.948, 4.602)\n",
      "드라마     (5249, 0.858, 4.665)\n",
      "너무     (14503, 0.970, 4.480)\n",
      "진짜     (9613, 0.676, 4.838)\n",
      "차라리     (865, 0.656, 4.772)\n",
      "입니다     (301, 0.540, 4.919)\n",
      "된다     (477, 0.646, 4.714)\n",
      "든다     (248, 0.895, 4.339)\n",
      "정말     (11882, 0.677, 4.582)\n",
      "뭔가     (1288, 0.674, 4.584)\n",
      "역시     (2391, 0.523, 4.831)\n",
      "솔직히     (1318, 0.898, 4.285)\n",
      "준다     (447, 0.559, 4.716)\n",
      "봤는데     (3338, 0.573, 4.671)\n",
      "까지     (267, 0.402, 5.009)\n",
      "근데     (990, 0.724, 4.359)\n",
      "완전     (3135, 0.691, 4.357)\n",
      "때문에     (918, 0.660, 4.401)\n",
      "항상     (394, 0.849, 4.138)\n",
      "계속     (1170, 0.731, 4.202)\n",
      "ㅉㅉ     (472, 0.983, 3.869)\n",
      "마지막에     (789, 0.443, 4.662)\n",
      "함께     (711, 0.764, 4.066)\n",
      "그리고     (2135, 0.288, 5.037)\n"
     ]
    }
   ],
   "execution_count": 130
  },
  {
   "metadata": {
    "ExecuteTime": {
     "end_time": "2024-07-24T14:50:52.017962Z",
     "start_time": "2024-07-24T14:50:51.971315Z"
    }
   },
   "cell_type": "code",
   "source": [
    "scores = {}\n",
    "for word, score in sorted(words.items(), key=lambda x:word_score(x[1]), reverse=True):\n",
    "    # scores[word] = score.cohesion_forward\n",
    "    scores[word] = word_score(score)"
   ],
   "id": "8e1dfa3e1f588a7d",
   "outputs": [],
   "execution_count": 141
  },
  {
   "metadata": {
    "ExecuteTime": {
     "end_time": "2024-07-24T14:50:52.693979Z",
     "start_time": "2024-07-24T14:50:52.677145Z"
    }
   },
   "cell_type": "code",
   "source": "scores",
   "id": "49b2d20ce741d4de",
   "outputs": [
    {
     "data": {
      "text/plain": [
       "{'ㅋㅋ': 158.81836633039003,\n",
       " '영화': 130.0173922454327,\n",
       " 'ㅠㅠ': 127.44209945198614,\n",
       " 'ㅎㅎ': 116.38622962127909,\n",
       " 'ㅡㅡ': 103.5018067716247,\n",
       " '합니다': 96.7938631591607,\n",
       " 'ㅜㅜ': 94.44436346879404,\n",
       " '드라마': 91.15529783966187,\n",
       " '너무': 85.52745994842417,\n",
       " '진짜': 85.23054325353004,\n",
       " '차라리': 77.46322260892377,\n",
       " '입니다': 73.92772504374274,\n",
       " '된다': 72.08486954723155,\n",
       " '든다': 68.57750388757142,\n",
       " '정말': 66.2078033089349,\n",
       " '뭔가': 66.00355950646548,\n",
       " '역시': 65.52763542176626,\n",
       " '솔직히': 65.21595731181061,\n",
       " '준다': 62.39722377088773,\n",
       " '봤는데': 61.1772329399878,\n",
       " '까지': 60.23217772617534,\n",
       " '근데': 56.58006394791445,\n",
       " '완전': 53.902518020296654,\n",
       " '때문에': 53.79905772440471,\n",
       " '항상': 53.236084658025064,\n",
       " '계속': 48.81391963325982,\n",
       " 'ㅉㅉ': 47.10496028620962,\n",
       " '마지막에': 46.84775704384907,\n",
       " '함께': 44.529958610964485,\n",
       " '그리고': 44.43281772753415,\n",
       " '갈수록': 43.66909354352431,\n",
       " '개인적으로': 43.20377179037424,\n",
       " '얼마나': 40.875593880759254,\n",
       " '갑자기': 40.658330748075535,\n",
       " 'ㄷㄷ': 40.23880915565518,\n",
       " '됩니다': 39.823865320584595,\n",
       " '봤습니다': 36.927228691029676,\n",
       " '그냥': 36.916322109615656,\n",
       " '봅니다': 36.85481109579776,\n",
       " '특히': 35.08842783872541,\n",
       " '에서': 34.63945696720295,\n",
       " '하지만': 33.68314792841601,\n",
       " '했는데': 33.60325865576318,\n",
       " '많이': 32.62522915447533,\n",
       " '간만에': 32.14773630597195,\n",
       " '혼자': 31.381967802094692,\n",
       " '쓰레기영화': 30.96730668316984,\n",
       " '없다': 30.199199346812968,\n",
       " '0점': 29.774967692340322,\n",
       " '꿀잼': 29.498876935242677,\n",
       " '영화입니다': 29.13685140505103,\n",
       " '작품': 28.67651165050727,\n",
       " '굉장히': 28.350533562287648,\n",
       " '영화는': 28.11592482069646,\n",
       " '지루하다': 27.55161082603359,\n",
       " '했다': 27.518745845259023,\n",
       " '쓰레기': 27.390408957922403,\n",
       " '요즘': 27.104796084675858,\n",
       " '스토리가': 26.99487802130247,\n",
       " '공포영화': 26.96083856462227,\n",
       " '감독이': 26.951000931321925,\n",
       " '액션': 26.627998179844678,\n",
       " '같다': 25.770480781349562,\n",
       " '스토리': 25.653452440059763,\n",
       " '싶다': 25.409302658484464,\n",
       " '이렇게': 25.407006301458225,\n",
       " '봣는데': 25.361075732721563,\n",
       " '낫다': 25.273600921395463,\n",
       " '덕분에': 24.990973264182,\n",
       " '재미없다': 24.503901241051057,\n",
       " '재밌어요': 24.372389909277366,\n",
       " '주인공이': 24.349292994024534,\n",
       " '듯한': 23.937102888083366,\n",
       " 'ㅅㅂ': 23.53212713499478,\n",
       " '봐도': 23.41531431857122,\n",
       " '않는다': 23.264058034506103,\n",
       " '별로': 22.850352571901293,\n",
       " '모르겠다': 22.68182862438313,\n",
       " '오랜만에': 22.46578239556964,\n",
       " '연기': 22.340329761303334,\n",
       " '그래도': 22.287878204736064,\n",
       " '끝까지': 22.259593935866828,\n",
       " '낭비': 21.925977696434018,\n",
       " '좋았다': 21.690144782952288,\n",
       " '봤어요': 21.656298198605995,\n",
       " '아깝다': 21.525694186092494,\n",
       " '같아요': 21.448752591946935,\n",
       " 'ㅇㅇ': 21.35335240852037,\n",
       " '내가': 21.352432580970707,\n",
       " '뿐이다': 21.11284569297258,\n",
       " '놓고': 21.025393555859768,\n",
       " '쩐다': 20.731508786382445,\n",
       " '했지만': 20.67821703746079,\n",
       " '스토리도': 20.434278189905346,\n",
       " '영화가': 20.413888089691604,\n",
       " '없는': 20.34814102350578,\n",
       " '내용이': 19.791248429515164,\n",
       " '쵝오': 19.59965627628244,\n",
       " '확실히': 19.382954281916835,\n",
       " '영화다': 19.220318881109684,\n",
       " '라는': 19.018474887452008,\n",
       " '스토리는': 18.679315764394925,\n",
       " '난다': 18.571043801536646,\n",
       " '아니라': 18.531071386918054,\n",
       " '속에서': 18.50573451972113,\n",
       " '10점': 18.497226251668167,\n",
       " '하는': 18.360294868460063,\n",
       " '쉽게': 18.336711783908886,\n",
       " '캐스팅': 18.32961603310785,\n",
       " '코미디': 18.07427024858075,\n",
       " '보는내내': 18.071092309831844,\n",
       " '또한': 18.065584693692294,\n",
       " '들었다': 18.031428173479092,\n",
       " '새로운': 18.00053120984864,\n",
       " '마지막': 17.82939266218748,\n",
       " '제대로': 17.81546911099828,\n",
       " '발연기': 17.757832486700494,\n",
       " '지루하고': 17.680277505411702,\n",
       " '강추': 17.58915224915919,\n",
       " '젠장': 17.466465772393665,\n",
       " '목소리': 17.364986803119603,\n",
       " '결국': 17.30911873501225,\n",
       " '아니고': 17.149436740615947,\n",
       " '화이팅': 16.9943535445753,\n",
       " '굳이': 16.92421195135286,\n",
       " '같은데': 16.895955402437792,\n",
       " '보면서': 16.894864471596946,\n",
       " '같습니다': 16.81845218911063,\n",
       " '보고': 16.771345830579193,\n",
       " '감독의': 16.663005273402792,\n",
       " '무슨': 16.63924138403064,\n",
       " '영화였습니다': 16.529155304436635,\n",
       " '같은': 16.47739249795179,\n",
       " '엄청난': 16.42353317727816,\n",
       " '애니메이션': 16.37054838262496,\n",
       " '것이다': 16.326685119480064,\n",
       " '건지': 16.319088082806754,\n",
       " '보다가': 16.27560162024875,\n",
       " '재미있어요': 16.244845209898983,\n",
       " '사람들이': 16.078470856237022,\n",
       " '연기가': 16.04919265421624,\n",
       " '추천합니다': 16.007784366903394,\n",
       " '주인공': 15.937631458882915,\n",
       " '명작': 15.894760248583294,\n",
       " '시나리오': 15.800764702116968,\n",
       " '알았는데': 15.768091379968265,\n",
       " '평점': 15.736890032249622,\n",
       " '않고': 15.66894165526453,\n",
       " '물론': 15.665221664770659,\n",
       " '자체가': 15.663097287037218,\n",
       " '좋았습니다': 15.523309698456641,\n",
       " '누가': 15.49309659609663,\n",
       " '아니다': 15.458558398738871,\n",
       " '절대': 15.34353611319661,\n",
       " '잘봤습니다': 15.292218776543956,\n",
       " '정도로': 15.2353771849828,\n",
       " '하고': 15.175179517138206,\n",
       " '있는': 15.026951564142175,\n",
       " '왠지': 15.01388329583918,\n",
       " '영화의': 14.97875134935478,\n",
       " '놈들': 14.84102751726176,\n",
       " '전체적으로': 14.763202368682386,\n",
       " '상당히': 14.743435781610653,\n",
       " '스토리에': 14.72979934409855,\n",
       " '나오는': 14.707205950410376,\n",
       " '처음': 14.623066853995162,\n",
       " '재미있다': 14.449655868627824,\n",
       " '스릴러': 14.441588966560687,\n",
       " '충분히': 14.424078062575022,\n",
       " '영화네요': 14.393394694407606,\n",
       " '졸작': 14.375058877843898,\n",
       " '훨씬': 14.366544370628581,\n",
       " '우리나라': 14.260040933926938,\n",
       " '결말이': 14.247183293152364,\n",
       " '약간': 14.22611396268564,\n",
       " '꽤나': 14.128058370200842,\n",
       " '떨어지는': 14.112599653368548,\n",
       " '위해': 14.036968333169334,\n",
       " '특유의': 14.006944232470378,\n",
       " '억지로': 13.95531904223382,\n",
       " '빨리': 13.931673048392199,\n",
       " '주인공의': 13.869557436271585,\n",
       " '무엇보다': 13.82920821792437,\n",
       " '좋았어요': 13.825688092538412,\n",
       " '해서': 13.763698575161635,\n",
       " '내용도': 13.683296060779776,\n",
       " '사람들은': 13.63332387367174,\n",
       " '좋아요': 13.628114154369847,\n",
       " '중간에': 13.59144579023412,\n",
       " '없고': 13.568326187387617,\n",
       " '영화였다': 13.559787739209783,\n",
       " '지루함': 13.480242073443288,\n",
       " '내용은': 13.444460673269319,\n",
       " '그렇게': 13.412719229902148,\n",
       " '재미없음': 13.36507356056591,\n",
       " '없었다': 13.227135465574131,\n",
       " '재밌다': 13.224732179518167,\n",
       " 'ㄷㄷㄷ': 13.222333506146796,\n",
       " '통해': 13.203474473520673,\n",
       " '어떻게': 13.163107134517395,\n",
       " '명작이다': 13.156709017537393,\n",
       " '있다': 13.139364200616422,\n",
       " '최고다': 13.045513623966887,\n",
       " '한마디로': 13.014739246083499,\n",
       " '있습니다': 12.987226735434819,\n",
       " '하나': 12.971077238053375,\n",
       " '생각합니다': 12.94242141573838,\n",
       " '대한': 12.93452939378595,\n",
       " '보세요': 12.895383179416298,\n",
       " '봤다': 12.860569712481196,\n",
       " '추천': 12.798221341037873,\n",
       " '밑에': 12.777722503480897,\n",
       " '되는': 12.773420063968443,\n",
       " '처음으로': 12.662959245227935,\n",
       " '것이': 12.599147266532077,\n",
       " '감사합니다': 12.479437269557867,\n",
       " '프로그램': 12.468736542733922,\n",
       " '순간': 12.455278029679503,\n",
       " '멍청한': 12.429779846014238,\n",
       " '만들었다': 12.370742617239458,\n",
       " '치고': 12.334893147774922,\n",
       " '떨어진다': 12.330966402347084,\n",
       " '킬링타임용으로': 12.301883397157322,\n",
       " '게다가': 12.185118157814175,\n",
       " '댓글': 12.133437888719788,\n",
       " '전형적인': 12.040184404788562,\n",
       " '90년대': 12.034422661763154,\n",
       " '같네요': 12.0231577076751,\n",
       " '맨날': 11.999699498789173,\n",
       " '액션영화': 11.915679820735747,\n",
       " '드라마는': 11.881639695923923,\n",
       " '최고의': 11.86617940516652,\n",
       " '엔딩': 11.855970300023138,\n",
       " '언제나': 11.688315204299464,\n",
       " '중간중간': 11.672276450406155,\n",
       " '재밌네요': 11.657685836537011,\n",
       " '생각': 11.62288951276455,\n",
       " '있었다': 11.549213927174547,\n",
       " '영화를': 11.475196763727984,\n",
       " '모두': 11.461329836052546,\n",
       " '볼때마다': 11.409815666440178,\n",
       " '재밌었다': 11.39385314138313,\n",
       " '당시': 11.370608784045276,\n",
       " '도대체': 11.364556600854,\n",
       " '연기는': 11.334334101736033,\n",
       " '재미있었어요': 11.294580452871108,\n",
       " '하네요': 11.287016691094582,\n",
       " '오히려': 11.248909861640799,\n",
       " '보지마세요': 11.19471182062201,\n",
       " '이야기': 11.186884754263104,\n",
       " '긴장감': 11.120516322095815,\n",
       " '드라마가': 11.099269738225237,\n",
       " '연기도': 11.097405484920603,\n",
       " '줄거리': 11.092578353705651,\n",
       " '멜로': 11.086054242336521,\n",
       " '액션도': 11.077473035817889,\n",
       " '음악': 11.044770095739647,\n",
       " '느낌': 10.94254056171668,\n",
       " '사람은': 10.844889734180066,\n",
       " '장면은': 10.835965040775212,\n",
       " '젊은': 10.826908340344474,\n",
       " '원작을': 10.7639004890972,\n",
       " '겁나': 10.763248403745878,\n",
       " '사람이': 10.719582463599426,\n",
       " '퀄리티': 10.715452249111898,\n",
       " '다른': 10.698740748044044,\n",
       " '재밌습니다': 10.662576696626124,\n",
       " '극장에서': 10.639885241165615,\n",
       " '눈물이': 10.610387269671092,\n",
       " '유치하고': 10.57585811338032,\n",
       " '액션이': 10.467878057590164,\n",
       " '본영화': 10.431667703702283,\n",
       " '궁금하다': 10.407642330103794,\n",
       " '밖에': 10.396425279023749,\n",
       " '엄청': 10.314223611055588,\n",
       " '좋은영화': 10.309894013417852,\n",
       " '불구하고': 10.2965214521195,\n",
       " '쓸데없이': 10.27987075043955,\n",
       " '가장': 10.268899499789,\n",
       " '똑같은': 10.142517514022874,\n",
       " '라고': 10.129600583043517,\n",
       " '알았다': 10.129063514666038,\n",
       " '재밌었어요': 10.125352152348517,\n",
       " '핵노잼': 10.122192522139915,\n",
       " '봤네요': 10.06665104430228,\n",
       " '명작입니다': 10.05950830450753,\n",
       " '초반에': 10.052447423485138,\n",
       " '들어': 10.044155016196713,\n",
       " '많은': 10.044057324551561,\n",
       " '떠나서': 10.003769068159977,\n",
       " '스토리를': 10.003411969621746,\n",
       " '최고': 9.995150038001034,\n",
       " '생각한다': 9.97099712025027,\n",
       " '모르겠지만': 9.964374191552992,\n",
       " '헐리우드': 9.93128553839383,\n",
       " '갑니다': 9.916033410413037,\n",
       " '것을': 9.90191751650925,\n",
       " '한다': 9.888914972887651,\n",
       " '못하는': 9.86313203764365,\n",
       " '보고나서': 9.86181018944948,\n",
       " '좋았는데': 9.859437048169756,\n",
       " '떨어지고': 9.80595921446946,\n",
       " '그나마': 9.797360270939427,\n",
       " '독립영화': 9.775173318539656,\n",
       " '영화인데': 9.76979928896641,\n",
       " '저렇게': 9.761625871207787,\n",
       " '걸작': 9.748658933127974,\n",
       " '안되는': 9.740992024880182,\n",
       " '조금': 9.718653716200462,\n",
       " '장면에서': 9.70571685974319,\n",
       " '최고입니다': 9.682167087069276,\n",
       " '장면이': 9.622759697600507,\n",
       " '있는데': 9.61422688090681,\n",
       " '이영화는': 9.603747799133375,\n",
       " '리메이크': 9.597105355509123,\n",
       " '영화에서': 9.586437758906369,\n",
       " '필요없다': 9.580156748725699,\n",
       " '왠만하면': 9.578492070262667,\n",
       " '앞으로': 9.568658171437008,\n",
       " '판타지': 9.54245847036877,\n",
       " '봤지만': 9.53091959887926,\n",
       " '재밌음': 9.530025724892331,\n",
       " '있지만': 9.501149194927185,\n",
       " '생각보다': 9.498307481260685,\n",
       " '80년대': 9.48428678545607,\n",
       " '슬프다': 9.477175234969325,\n",
       " '장면': 9.463903131483791,\n",
       " '캐릭터': 9.439294005442969,\n",
       " '훌륭하다': 9.371879237012246,\n",
       " '현실적인': 9.359006327119458,\n",
       " '싫다': 9.337871058244959,\n",
       " '화가': 9.330586872741831,\n",
       " '같이': 9.222517172828564,\n",
       " '압권': 9.21490577064113,\n",
       " '처음이다': 9.20804548648291,\n",
       " '있어요': 9.181605336636688,\n",
       " '뻔한': 9.179832858622108,\n",
       " '되었다': 9.163941071581675,\n",
       " '안된다': 9.12935840043657,\n",
       " '없어서': 9.100032971515283,\n",
       " '보고싶다': 9.094358943470239,\n",
       " '좋다': 9.079197169206427,\n",
       " '아무리': 9.070605450470497,\n",
       " '볼만하다': 9.05971007818259,\n",
       " '먼저': 9.04385194916203,\n",
       " '평점이': 9.040906047273953,\n",
       " '내내': 8.998850777094006,\n",
       " '없네요': 8.95792108131103,\n",
       " '유치한': 8.95422772201887,\n",
       " '굿굿': 8.950291976114825,\n",
       " '못하고': 8.93387003293993,\n",
       " '너무나도': 8.874355418161965,\n",
       " '자신의': 8.83531078212999,\n",
       " '인간의': 8.834782610724634,\n",
       " '좋아하는': 8.815342632685358,\n",
       " '답답하고': 8.813292038224217,\n",
       " '노잼': 8.810973643705548,\n",
       " '훌륭한': 8.747649766206388,\n",
       " '막장': 8.704857554804297,\n",
       " '점점': 8.681277063532718,\n",
       " '각본': 8.663916158912869,\n",
       " '감동적이고': 8.649940951509677,\n",
       " '긴장감이': 8.631036410752001,\n",
       " '색다른': 8.589439406372689,\n",
       " '귀여운': 8.584291920244628,\n",
       " '싸구려': 8.57938675206867,\n",
       " '싶네요': 8.548801215708488,\n",
       " '않았다': 8.528754295049737,\n",
       " '티비에서': 8.497106660013877,\n",
       " '드립니다': 8.471970556115634,\n",
       " '열심히': 8.448348952909082,\n",
       " '빼고는': 8.447728813756473,\n",
       " '그대로': 8.37658993878998,\n",
       " '감독은': 8.359390655305837,\n",
       " '주인공은': 8.303658874673689,\n",
       " '액션은': 8.298832196955875,\n",
       " '딱히': 8.276158007925423,\n",
       " '진정한': 8.25252677060378,\n",
       " '앞으로도': 8.232528441718436,\n",
       " '배우들이': 8.13169752236562,\n",
       " '몰입도': 8.109642904234914,\n",
       " '대단하다': 8.090093858670059,\n",
       " '좋은데': 8.081798364423033,\n",
       " '느낌이': 8.049195942736281,\n",
       " '별로다': 8.047071035951712,\n",
       " '매우': 8.037198492902277,\n",
       " '있을까': 8.033515864097195,\n",
       " '좋네요': 8.025992895504638,\n",
       " '않은': 8.011864714225231,\n",
       " '있네요': 8.010872927562817,\n",
       " '유치하다': 8.004643452049415,\n",
       " '재미있었다': 7.99115914958683,\n",
       " '여자가': 7.8606315541898875,\n",
       " '위한': 7.8471623946134565,\n",
       " '엉성하고': 7.835049134745311,\n",
       " '흔한': 7.806225879971008,\n",
       " '마세요': 7.772470410266658,\n",
       " '독특한': 7.771683418053166,\n",
       " '나와서': 7.712522759701622,\n",
       " '어설픈': 7.711331180958743,\n",
       " '견자단': 7.702449444186264,\n",
       " '간다': 7.677035578413536,\n",
       " '최악이다': 7.676526119349638,\n",
       " '나온다': 7.659585755609795,\n",
       " '그래서': 7.629673775216522,\n",
       " '뻔하고': 7.627579822670923,\n",
       " '잔잔하고': 7.572527728937977,\n",
       " '몰라도': 7.558175178001834,\n",
       " '마음이': 7.545895784153137,\n",
       " '캐릭터가': 7.5395346150729745,\n",
       " '건가': 7.536144553376389,\n",
       " '둘다': 7.535974555351819,\n",
       " '왜이렇게': 7.5294981374067635,\n",
       " '극장판': 7.529079163020063,\n",
       " '하는데': 7.515208130712274,\n",
       " '수준이': 7.504837548516073,\n",
       " '카메라': 7.442607323739628,\n",
       " '평점은': 7.383914859175876,\n",
       " '음악이': 7.361830973098627,\n",
       " '글쎄': 7.342447433129791,\n",
       " '영화보고': 7.3248693993522025,\n",
       " '코메디': 7.31488376982236,\n",
       " '끝나고': 7.3147903790255455,\n",
       " '스토리와': 7.2718561686234695,\n",
       " '쓰레기다': 7.2635395256696675,\n",
       " '있어서': 7.252964364541822,\n",
       " '드라마를': 7.2458117786411425,\n",
       " '재미있네요': 7.227706040497611,\n",
       " '그런지': 7.204084951476783,\n",
       " '것은': 7.194959722367919,\n",
       " '효과': 7.189786919789589,\n",
       " '역시나': 7.186759725318791,\n",
       " '암튼': 7.182192568365685,\n",
       " '멋지다': 7.160690158956932,\n",
       " 'ㅉㅉㅉ': 7.14416704004001,\n",
       " '다시': 7.141412489616771,\n",
       " '9점': 7.113879853412959,\n",
       " '존나': 7.113189960277196,\n",
       " '점수': 7.104512313022138,\n",
       " '하면서': 7.062320837367391,\n",
       " '아쉽다': 7.016075665361501,\n",
       " '자기': 6.986645477115203,\n",
       " '반전': 6.980990992888318,\n",
       " '괜찮은데': 6.98012767113265,\n",
       " '그렇다고': 6.974835748664167,\n",
       " '연기력이': 6.957841706704225,\n",
       " '작품이다': 6.947944398107516,\n",
       " '배우들': 6.944778950809249,\n",
       " '기대했는데': 6.921742904655985,\n",
       " '한국영화': 6.897477419407252,\n",
       " '심하게': 6.851101262605426,\n",
       " '집에서': 6.849028091579297,\n",
       " '결말도': 6.8410012320490425,\n",
       " '바로': 6.8395570228140885,\n",
       " '멋진': 6.811601738577828,\n",
       " '급영화': 6.801778600157778,\n",
       " '세상에': 6.801713023606074,\n",
       " '처음에는': 6.800478259314722,\n",
       " '있었는데': 6.777600430714221,\n",
       " '영화에': 6.736099752639656,\n",
       " '병맛': 6.72813795039889,\n",
       " '이영화가': 6.723084982489938,\n",
       " '본다': 6.710673098638535,\n",
       " '영화이다': 6.708483393222636,\n",
       " '이런': 6.705196577236928,\n",
       " '평점을': 6.684930045663286,\n",
       " '깊은': 6.684358235707997,\n",
       " '본다면': 6.681136975013131,\n",
       " '속에': 6.6805158067002735,\n",
       " '아름답다': 6.6756898502795075,\n",
       " '그러나': 6.673108277293539,\n",
       " '못했다': 6.657230727816989,\n",
       " '지루해서': 6.65519467694543,\n",
       " '알겠는데': 6.630982097725249,\n",
       " '전개가': 6.630643074908309,\n",
       " '짜증난다': 6.630056011792615,\n",
       " '능력': 6.6296886134418,\n",
       " '캐릭터들': 6.619892765122124,\n",
       " '약간의': 6.606351460109026,\n",
       " '로맨스': 6.604021916833381,\n",
       " '없습니다': 6.587320941742364,\n",
       " '울었다': 6.567923426074563,\n",
       " '진심으로': 6.549402293621079,\n",
       " '케이블에서': 6.547978972165638,\n",
       " '현실을': 6.545812055897983,\n",
       " '삶을': 6.532892719260538,\n",
       " '처음엔': 6.525399522150649,\n",
       " '전혀': 6.462899325004531,\n",
       " '연출이': 6.437780059526726,\n",
       " '동안': 6.421826115363836,\n",
       " '갔다': 6.396687856325104,\n",
       " '옛날에': 6.393458360439106,\n",
       " '좋습니다': 6.3586487224568256,\n",
       " '단순한': 6.356576823466161,\n",
       " '영화지만': 6.350913080156171,\n",
       " '좋았음': 6.348677635375424,\n",
       " '해도': 6.341559621845006,\n",
       " '감독님': 6.341486158295335,\n",
       " '너무나': 6.341383342335377,\n",
       " '여주인공': 6.340866565728229,\n",
       " '지금봐도': 6.335098511335717,\n",
       " '재미있고': 6.324316914577175,\n",
       " '귀엽고': 6.3049349251423425,\n",
       " '비슷한': 6.2944208206536505,\n",
       " '봤었는데': 6.2739383659460914,\n",
       " '삼류': 6.254025053360518,\n",
       " '부족하다': 6.248030588262842,\n",
       " '억지스러운': 6.21237754855439,\n",
       " '영화라고': 6.208270745518643,\n",
       " '만드는': 6.198454214332986,\n",
       " '대한민국': 6.198163180120777,\n",
       " '느껴진다': 6.190579124428982,\n",
       " '이야기를': 6.183460161778528,\n",
       " '아직도': 6.112378358275809,\n",
       " '겨우': 6.085642571071023,\n",
       " '완벽한': 6.0850488328334515,\n",
       " '좋겠다': 6.082784632282889,\n",
       " '예전에': 6.079785158289426,\n",
       " '우리가': 6.058378560925196,\n",
       " '누구나': 6.045493068773156,\n",
       " '지금': 6.0326306803275624,\n",
       " '당시에': 6.0318178096539015,\n",
       " '결말': 6.01739225296438,\n",
       " '재밌고': 6.016124053573588,\n",
       " '좀더': 6.0063413597655835,\n",
       " '재미있음': 5.995495166534696,\n",
       " '마지막까지': 5.988164291915706,\n",
       " '나오고': 5.987294155531148,\n",
       " '헐리웃': 5.974995973988051,\n",
       " '봤다가': 5.971283676019444,\n",
       " '분위기가': 5.971220922398974,\n",
       " '분위기': 5.955712057130567,\n",
       " '재밌었는데': 5.933246917929548,\n",
       " '따뜻하고': 5.9278039968046805,\n",
       " '배우': 5.926548248844502,\n",
       " '남는다': 5.925031020422222,\n",
       " '연기력': 5.915422955301091,\n",
       " '이야기가': 5.8947050567032635,\n",
       " '연기에': 5.8941371808089755,\n",
       " '볼수록': 5.886580059822735,\n",
       " '보다': 5.883245217733084,\n",
       " '사랑을': 5.8817945926890856,\n",
       " '아름다운': 5.875822594254457,\n",
       " '혹시': 5.8716099288940296,\n",
       " '거의': 5.8587221350777,\n",
       " '얘기': 5.8528902267058225,\n",
       " '감독': 5.842160927496674,\n",
       " '가지고': 5.821276977066833,\n",
       " '마음을': 5.808246943604575,\n",
       " '영화임': 5.796035126471157,\n",
       " '학교에서': 5.792971988308829,\n",
       " '배우들도': 5.787392975230678,\n",
       " '다시봐도': 5.773336067910613,\n",
       " '봐라': 5.7683313218364765,\n",
       " '결말은': 5.763749470945658,\n",
       " '볼만함': 5.7515432888612,\n",
       " '게임': 5.74673262285261,\n",
       " '영화로': 5.72933792026782,\n",
       " '행복한': 5.726781765446066,\n",
       " '영화관에서': 5.724755440693546,\n",
       " '위해서': 5.710647723930644,\n",
       " '더빙': 5.699090657140841,\n",
       " '힘들다': 5.6546973823620315,\n",
       " '감동': 5.648773822235989,\n",
       " '것도': 5.64470810966187,\n",
       " '여전히': 5.643858534237909,\n",
       " '재미있습니다': 5.642740288738096,\n",
       " '일본영화': 5.636841069647714,\n",
       " '필요없는': 5.607489857727653,\n",
       " '짜증나서': 5.588393322510418,\n",
       " '더욱': 5.586801885767148,\n",
       " '잔잔한': 5.582385479126448,\n",
       " '수준': 5.5731433558680985,\n",
       " '후반부': 5.564701454616166,\n",
       " '시간': 5.552092013807879,\n",
       " '포스터가': 5.548640820795048,\n",
       " '크리스마스': 5.540453727097974,\n",
       " '도저히': 5.522766185700897,\n",
       " '먹고': 5.521891286749587,\n",
       " '아까움': 5.513345547660833,\n",
       " '참으로': 5.502516706900045,\n",
       " '재미없어요': 5.494506853913249,\n",
       " '아니지만': 5.493803994353486,\n",
       " '감동적이다': 5.492297266693419,\n",
       " '사람들': 5.480143829549133,\n",
       " '제목이': 5.43478994557531,\n",
       " '혹은': 5.434182538422979,\n",
       " '뛰어난': 5.394164305817761,\n",
       " '없음': 5.3849582254428,\n",
       " '않다': 5.382844355229135,\n",
       " '지루한': 5.3821845283452685,\n",
       " '영화보다': 5.364882361242346,\n",
       " '작가가': 5.364124249875551,\n",
       " '어렸을때': 5.3613673711177805,\n",
       " '보면': 5.352853682495955,\n",
       " '애들은': 5.342546745351448,\n",
       " '제발': 5.329474396831035,\n",
       " '잼있어요': 5.308546578581787,\n",
       " '옛날': 5.302269140275076,\n",
       " '친구가': 5.290199758946799,\n",
       " '지나치게': 5.2841133375336184,\n",
       " '엔딩이': 5.255170841889322,\n",
       " '막판에': 5.251399072699335,\n",
       " '괜찮았다': 5.237675240086103,\n",
       " '삶의': 5.234013411677492,\n",
       " '더불어': 5.228048881430002,\n",
       " '모든': 5.227208499970547,\n",
       " '알바들': 5.212031587379153,\n",
       " '말이': 5.206823535832713,\n",
       " '또다른': 5.200266395958716,\n",
       " '이거': 5.179435731847412,\n",
       " '바랍니다': 5.169714124662413,\n",
       " '매력적인': 5.152421868480747,\n",
       " '일본': 5.146255821517188,\n",
       " '괜찮은': 5.131809735396457,\n",
       " '만든다': 5.131427220751222,\n",
       " '못한다': 5.128376155375032,\n",
       " '재밌었음': 5.115929363842681,\n",
       " '같아서': 5.098983707345867,\n",
       " '모습이': 5.079223651730437,\n",
       " '주인공들': 5.070007431746106,\n",
       " '실망': 5.066215528691066,\n",
       " '분들': 5.043512264709834,\n",
       " '여자': 5.041767752665423,\n",
       " '여배우': 5.031816305882979,\n",
       " '오늘': 5.030629598467171,\n",
       " '화려한': 5.015601314675613,\n",
       " '안되고': 5.009542152130324,\n",
       " '모르겠음': 5.005052319301561,\n",
       " '억지': 4.993620276236629,\n",
       " '멋있다': 4.991986503285822,\n",
       " '방송': 4.986926434248949,\n",
       " '데리고': 4.984562075575242,\n",
       " '보는데': 4.97965837718516,\n",
       " '영화보면서': 4.976248139425913,\n",
       " '사람들의': 4.972331469966769,\n",
       " '이런영화는': 4.972115910305281,\n",
       " '안타깝다': 4.961375950197153,\n",
       " '재미없었다': 4.946028544075052,\n",
       " '싶은데': 4.933032607211269,\n",
       " '관객을': 4.921223090333681,\n",
       " '분들은': 4.920145541951381,\n",
       " '있었지만': 4.906867009402443,\n",
       " '사람을': 4.899656343172256,\n",
       " '모르겠고': 4.8881553421366934,\n",
       " '작품은': 4.8816756269914166,\n",
       " '기억이': 4.872410931183,\n",
       " '영화였어요': 4.867741193235923,\n",
       " '디즈니': 4.863024027043645,\n",
       " '좋았지만': 4.86197396627007,\n",
       " '죄다': 4.838586243447068,\n",
       " '보고나면': 4.836255206570599,\n",
       " '재미없고': 4.82660929573426,\n",
       " '몰입도가': 4.821805967771829,\n",
       " '학교': 4.8181800192661175,\n",
       " '북한': 4.8180093314267225,\n",
       " '현실': 4.809518069965787,\n",
       " '슬프고': 4.799403344915268,\n",
       " '뭘까': 4.797909068394044,\n",
       " '않는': 4.767893758334107,\n",
       " '생각이': 4.754233504497665,\n",
       " '남자의': 4.74327712937982,\n",
       " '화면': 4.7304263683442,\n",
       " '아까운영화': 4.724343654760921,\n",
       " '홍콩영화': 4.719882961168987,\n",
       " '최고의영화': 4.716939909238489,\n",
       " '생각하면': 4.704856201055031,\n",
       " '중요한': 4.697922970571187,\n",
       " '단순히': 4.696307642403981,\n",
       " '사랑': 4.692888034077329,\n",
       " '짱짱': 4.692109853157783,\n",
       " '힐링': 4.690206502156566,\n",
       " '포스터': 4.684259450064987,\n",
       " '감동이': 4.679165333825234,\n",
       " '말도안되는': 4.6721585606323055,\n",
       " '뮤지컬': 4.663095648698564,\n",
       " '원작': 4.6619729560063,\n",
       " '원작의': 4.659678771189906,\n",
       " '지금도': 4.657253057560008,\n",
       " '중에': 4.652623656902225,\n",
       " '오랫만에': 4.651601755073597,\n",
       " '벌써': 4.637922846032106,\n",
       " '다시보니': 4.622242563326428,\n",
       " '연기와': 4.612683630334526,\n",
       " '나는': 4.607437365489434,\n",
       " '주는': 4.598459888072274,\n",
       " '언제': 4.597230203042439,\n",
       " '망작': 4.58717002408889,\n",
       " '반전이': 4.583952995717752,\n",
       " '생각했는데': 4.579574874618783,\n",
       " '부분이': 4.568623280649404,\n",
       " '유쾌하고': 4.565642768608172,\n",
       " '배우들의': 4.564855917399282,\n",
       " '내용': 4.564302675166845,\n",
       " '맞는': 4.558954183212667,\n",
       " '애들이': 4.554458681299684,\n",
       " '심지어': 4.551995842556327,\n",
       " '구성이': 4.547870265048456,\n",
       " '묘사': 4.545454545454547,\n",
       " '적어도': 4.532720621931856,\n",
       " '소재를': 4.528080429475025,\n",
       " '크게': 4.523111608952367,\n",
       " '식상한': 4.520434097914063,\n",
       " '배우들은': 4.519274909405124,\n",
       " '무조건': 4.508667575483359,\n",
       " '못한': 4.500577240765831,\n",
       " '삼류영화': 4.500234162828592,\n",
       " '좋았고': 4.497381977530825,\n",
       " '빼고': 4.495365334615071,\n",
       " '싶어요': 4.481548137581901,\n",
       " '코믹': 4.480736120102212,\n",
       " '거기에': 4.476215257693235,\n",
       " '드라마에': 4.472991550302544,\n",
       " '배우가': 4.46571079750483,\n",
       " '촬영': 4.459325267321965,\n",
       " '막장드라마': 4.45640425222822,\n",
       " '거지': 4.449299794276164,\n",
       " '되고': 4.442958103522344,\n",
       " '듣고': 4.438803065729606,\n",
       " '이영화를': 4.4218873615542424,\n",
       " '원래': 4.416271961340182,\n",
       " '아니면': 4.41365011449797,\n",
       " '더이상': 4.412971398474626,\n",
       " '얼굴이': 4.400233962403884,\n",
       " '소리': 4.393566168973334,\n",
       " '뱀파이어': 4.386720145583816,\n",
       " '순수한': 4.381673461935128,\n",
       " '코미디영화': 4.372735819616284,\n",
       " '재미없어서': 4.3697667537137415,\n",
       " '정도': 4.365247720246633,\n",
       " '이런영화가': 4.360590398050054,\n",
       " '보다는': 4.36037180450425,\n",
       " '편집': 4.357376373897924,\n",
       " '있으면': 4.348298544382156,\n",
       " '어설프고': 4.34815325833096,\n",
       " '시간아깝다': 4.348060361354206,\n",
       " '연출': 4.34722273002003,\n",
       " '저런': 4.34533783476406,\n",
       " '좋았으나': 4.341230836681939,\n",
       " '작품을': 4.338785358160013,\n",
       " '놀랍다': 4.336108628899969,\n",
       " '인생을': 4.33350113874095,\n",
       " '생각하는': 4.320031393657862,\n",
       " '영화도': 4.314452934238675,\n",
       " '내용을': 4.308506002575622,\n",
       " '보여주는': 4.302497301786784,\n",
       " '시간을': 4.27739492235093,\n",
       " '어디서': 4.271324643718801,\n",
       " '깊이': 4.26699623598555,\n",
       " '과연': 4.256637300762329,\n",
       " '보았습니다': 4.252073779117929,\n",
       " '남자': 4.248991045841854,\n",
       " '복수': 4.247988968340196,\n",
       " '착한': 4.247383133158717,\n",
       " '수작': 4.24682921972498,\n",
       " '웃기고': 4.235421187186029,\n",
       " '시간낭비': 4.211438705132811,\n",
       " '필요한': 4.207224791845364,\n",
       " '설정': 4.20097779896571,\n",
       " '우리': 4.1899253062491235,\n",
       " '하나하나': 4.181542759298155,\n",
       " '엉성한': 4.162692537690056,\n",
       " '서로': 4.157332353085139,\n",
       " '잘봤어요': 4.148738422335375,\n",
       " '지루했다': 4.137618471501429,\n",
       " '시리즈': 4.133593179443363,\n",
       " '예쁘고': 4.104715292657059,\n",
       " '이영화': 4.103957725764807,\n",
       " '재미없네': 4.103631702535338,\n",
       " '보여준다': 4.098866930526772,\n",
       " '힘든': 4.097078504570668,\n",
       " '스토리의': 4.090629191800912,\n",
       " '의미를': 4.0871199691126145,\n",
       " '모르는': 4.0808729744764385,\n",
       " '허접한': 4.080819345188969,\n",
       " '좋겠어요': 4.0754179662827426,\n",
       " '미국': 4.06744611691436,\n",
       " '이정도면': 4.061464229086714,\n",
       " '싶은': 4.060441269972951,\n",
       " '2시간': 4.053327907139824,\n",
       " '무섭다': 4.0506769973460655,\n",
       " '만들어': 4.047869647060497,\n",
       " '사람의': 4.040644137037098,\n",
       " '전개': 4.036119670917132,\n",
       " '최고였다': 4.032657009744867,\n",
       " '따뜻한': 4.03253991322276,\n",
       " '왜이래': 4.019892388616007,\n",
       " '어이없는': 4.002278797530207,\n",
       " '둘이': 4.001614987817141,\n",
       " '이거보고': 3.9999809164908706,\n",
       " '연기를': 3.991039963277645,\n",
       " '레전드': 3.9869603431666647,\n",
       " '머리': 3.973149105557487,\n",
       " '사랑이야기': 3.9712436536595686,\n",
       " '남자주인공': 3.966832484894806,\n",
       " '없지만': 3.960735951232315,\n",
       " '지금은': 3.95924803531556,\n",
       " '대박': 3.957487615160959,\n",
       " '소재가': 3.954803568781719,\n",
       " '원작이': 3.940133711765542,\n",
       " '보는': 3.93839636106411,\n",
       " '왜이리': 3.932513985709438,\n",
       " '킬링타임용': 3.9142312860846102,\n",
       " '연출력': 3.902175843805359,\n",
       " '베스트': 3.8951629136356396,\n",
       " '엄마가': 3.8849668807912465,\n",
       " '인간이': 3.8684934998604663,\n",
       " '없어요': 3.8565378647145394,\n",
       " '봤는데도': 3.854000824974275,\n",
       " '반전은': 3.8505555451199776,\n",
       " '했던': 3.8376393219110008,\n",
       " '짜증': 3.83763224969004,\n",
       " '섹스': 3.833063833611125,\n",
       " '그렇고': 3.829488724947296,\n",
       " '훈훈한': 3.8288365950214756,\n",
       " '있다면': 3.8139615840858143,\n",
       " '1점': 3.801413324408785,\n",
       " '완전히': 3.7949851049205923,\n",
       " '이건': 3.784145729598698,\n",
       " '제일': 3.781983866925803,\n",
       " '아쉽네요': 3.7809314834424335,\n",
       " '저는': 3.775953647011642,\n",
       " '시리즈는': 3.7744794097556884,\n",
       " '한번': 3.7632737993169485,\n",
       " '낚였다': 3.763177852480522,\n",
       " '재밌는데': 3.755157581459203,\n",
       " '만든': 3.74545754710201,\n",
       " '유치함': 3.7350052742663036,\n",
       " '어색하고': 3.7335380042046817,\n",
       " '믿고': 3.7272241053139012,\n",
       " '맘에': 3.7267850304159746,\n",
       " '좋고': 3.723622403209526,\n",
       " '설정이': 3.7224383387030824,\n",
       " '신선하고': 3.721744080224887,\n",
       " '말고': 3.7125963339430665,\n",
       " '아름답고': 3.6957709538718264,\n",
       " '인생의': 3.6715921895756938,\n",
       " '유일하게': 3.671045406862201,\n",
       " '머리가': 3.665510391271803,\n",
       " '비하면': 3.66397386629565,\n",
       " '아까워': 3.6616473610146616,\n",
       " '지금까지': 3.65895858089082,\n",
       " '히어로': 3.6558634322972505,\n",
       " '잘하고': 3.646944726945961,\n",
       " '자신이': 3.6367766610023464,\n",
       " '의외로': 3.6210822031049448,\n",
       " '평범한': 3.6122253196933487,\n",
       " '살아가는': 3.6039115912155384,\n",
       " '만든영화': 3.6005671065729947,\n",
       " '않지만': 3.6000249034810703,\n",
       " '특별한': 3.5963862158709854,\n",
       " '영화에요': 3.5901494458949985,\n",
       " '스타일': 3.5876403711535536,\n",
       " '느껴지는': 3.5868781988386402,\n",
       " '연기력도': 3.5662635135248237,\n",
       " '가슴이': 3.5592822348513997,\n",
       " '메시지': 3.557906367374207,\n",
       " '귀여워': 3.555688914441552,\n",
       " '나에게': 3.5549013780099243,\n",
       " '짧은': 3.549151123408772,\n",
       " '하나같이': 3.5427065581483457,\n",
       " '높은': 3.530484461908157,\n",
       " '넘치는': 3.525320544510475,\n",
       " '비해': 3.524465668171584,\n",
       " '봤으면': 3.5242301424013838,\n",
       " '새벽에': 3.523138471307022,\n",
       " '좀비영화': 3.5212039017736987,\n",
       " '반전도': 3.511324843223464,\n",
       " '커플': 3.508590576517966,\n",
       " '부족한': 3.507709486200209,\n",
       " '만들었는지': 3.497216078333112,\n",
       " '4점': 3.4971787339666522,\n",
       " '좋아해서': 3.495031473127164,\n",
       " '안타까운': 3.483219958200586,\n",
       " '친구': 3.4622579456207907,\n",
       " '제가': 3.4558554141734996,\n",
       " '생각나서': 3.452486578355222,\n",
       " '결말을': 3.448280766727505,\n",
       " '우리의': 3.4447508800365774,\n",
       " '러닝타임': 3.440886777307769,\n",
       " '출연': 3.4342636820674155,\n",
       " '음악도': 3.433385189860811,\n",
       " '아이들이': 3.4234395329331857,\n",
       " '좋은': 3.4234104528577887,\n",
       " '낮은': 3.422224406080103,\n",
       " '대사가': 3.420563071947263,\n",
       " '당신은': 3.417416600824381,\n",
       " '라이': 3.4155469751661256,\n",
       " '모르게': 3.4143788929923478,\n",
       " '사람': 3.4081683272186845,\n",
       " '초등학교': 3.4051167671760925,\n",
       " '재밌': 3.3981537098620067,\n",
       " '태어나서': 3.3926371551601875,\n",
       " '어린시절': 3.385029999837758,\n",
       " '수작이다': 3.3796990276321837,\n",
       " '위대한': 3.3773169283275823,\n",
       " '즐겁게': 3.3740211044001147,\n",
       " '시청률이': 3.3730335505097235,\n",
       " '탄탄한': 3.3728003931448303,\n",
       " '보지마라': 3.3710211236516683,\n",
       " '사랑의': 3.367423965223691,\n",
       " '카리스마': 3.3661964756680294,\n",
       " '세상을': 3.363379844290812,\n",
       " '재미있': 3.3626503653044875,\n",
       " '얼굴': 3.3625721031135316,\n",
       " '100': 3.358290409506814,\n",
       " '분들이': 3.3582768183443075,\n",
       " '좋겠네요': 3.3554253174254605,\n",
       " '평점보고': 3.3478605406891386,\n",
       " '짝퉁': 3.343943962270518,\n",
       " '뭐가': 3.340367417690545,\n",
       " '더러운': 3.339243825452276,\n",
       " '보인다': 3.338189267013043,\n",
       " '네이버': 3.3323362867314534,\n",
       " '노래': 3.3196959268292074,\n",
       " '재밌어서': 3.3189973474343026,\n",
       " '작가님': 3.3108101771792255,\n",
       " '뭐냐': 3.3058530585683132,\n",
       " '영화인듯': 3.303285823159401,\n",
       " '연기력은': 3.296591603040047,\n",
       " '세상이': 3.285119194041471,\n",
       " '진부하고': 3.276722220100897,\n",
       " '남자가': 3.265391753846561,\n",
       " '0점은': 3.2593100593797315,\n",
       " '자체는': 3.2555425036531576,\n",
       " '현실이': 3.2550380363862166,\n",
       " '돈주고': 3.239902444213411,\n",
       " '생각하고': 3.236632731504203,\n",
       " '숨겨진': 3.2349314123041077,\n",
       " '재미': 3.2317714465916065,\n",
       " '점수를': 3.230593697998613,\n",
       " '범죄': 3.2230893604340456,\n",
       " '갖고': 3.217565462141883,\n",
       " '괜찮음': 3.213216136457434,\n",
       " '미친': 3.208753757708538,\n",
       " '느끼는': 3.2085944352012796,\n",
       " '구성': 3.2080243386181313,\n",
       " '이게': 3.2073906974049895,\n",
       " '하는게': 3.2059170725673094,\n",
       " '싸이코': 3.202558669017098,\n",
       " '2편은': 3.193482630148914,\n",
       " '3점': 3.1915219920683238,\n",
       " '속편': 3.190281020252124,\n",
       " '노래가': 3.186423810112935,\n",
       " '흥미로운': 3.1836166900125593,\n",
       " '너무너무': 3.171605524679999,\n",
       " '꿈을': 3.156824670110268,\n",
       " '돋보이는': 3.1547319715189173,\n",
       " '할까': 3.1526613989896677,\n",
       " '이상하게': 3.1479358767008216,\n",
       " '몰입감': 3.140001004919808,\n",
       " '본방사수': 3.1385313618985125,\n",
       " '뭐지': 3.1345501664989506,\n",
       " '진심': 3.129243984569732,\n",
       " '싸우는': 3.1273917480050755,\n",
       " '보니까': 3.125756729990613,\n",
       " '몸매': 3.1227582743653213,\n",
       " '어릴적': 3.1156622094734385,\n",
       " '여주인공이': 3.1135485801499736,\n",
       " '여기서': 3.1058629490594045,\n",
       " '소재': 3.1036224255351295,\n",
       " '외계인': 3.103542619250006,\n",
       " '범인': 3.0951057003161013,\n",
       " '못하다': 3.095024346429145,\n",
       " '음악과': 3.0888071342764603,\n",
       " '남네요': 3.0861647755321084,\n",
       " '빼면': 3.081146909091197,\n",
       " '에피소드': 3.076998345032979,\n",
       " '신선한': 3.073867489748465,\n",
       " '눈물': 3.067782409112834,\n",
       " '우연히': 3.0636546561162117,\n",
       " '많아서': 3.059264378808723,\n",
       " '타임': 3.059132534110086,\n",
       " '분명': 3.054371802201412,\n",
       " '모든게': 3.0535923980806468,\n",
       " '먼가': 3.0506873400273147,\n",
       " '두고': 3.045506138296731,\n",
       " '별로임': 3.0385233079064995,\n",
       " '보시길': 3.035201395839449,\n",
       " '기대': 3.014465247310888,\n",
       " '터미네이터': 3.0084293409098857,\n",
       " '괜찮': 3.003804461270688,\n",
       " '매력이': 3.00178923440162,\n",
       " '마무리': 2.9995761776934318,\n",
       " '3류': 2.9968797575600137,\n",
       " '그런가': 2.992782394201042,\n",
       " '처음이네': 2.9925826117999703,\n",
       " '블록버스터': 2.9795753056589107,\n",
       " '찾아': 2.9793849759226942,\n",
       " '이야기는': 2.9755656303109888,\n",
       " '등장인물': 2.9722340540371213,\n",
       " '클레멘타인': 2.970992850425034,\n",
       " '좋아서': 2.9619331686681707,\n",
       " '동시에': 2.9551350832540515,\n",
       " '과거': 2.9517228732267333,\n",
       " '황당': 2.949910015209205,\n",
       " '엄마': 2.9498432951642686,\n",
       " '낮아서': 2.9495974864224324,\n",
       " '잼있다': 2.948805981049649,\n",
       " '역사를': 2.9467584452271587,\n",
       " ...}"
      ]
     },
     "execution_count": 142,
     "metadata": {},
     "output_type": "execute_result"
    }
   ],
   "execution_count": 142
  },
  {
   "metadata": {
    "ExecuteTime": {
     "end_time": "2024-07-24T14:50:53.741164Z",
     "start_time": "2024-07-24T14:50:53.717022Z"
    }
   },
   "cell_type": "code",
   "source": [
    "cohesion_scores = word_extractor.all_cohesion_scores()\n",
    "cohesion_scores['별로'] # (cohesion_forward, cohesion_backward)"
   ],
   "id": "f0c9486a0784f868",
   "outputs": [
    {
     "name": "stdout",
     "output_type": "stream",
     "text": [
      "all cohesion probabilities was computed. # words = 5647\n"
     ]
    },
    {
     "data": {
      "text/plain": [
       "(0.565947242206235, 0.00426182930827232)"
      ]
     },
     "execution_count": 143,
     "metadata": {},
     "output_type": "execute_result"
    }
   ],
   "execution_count": 143
  },
  {
   "metadata": {
    "ExecuteTime": {
     "end_time": "2024-07-24T14:50:54.428481Z",
     "start_time": "2024-07-24T14:50:54.425603Z"
    }
   },
   "cell_type": "code",
   "source": [
    "def word_score(score):\n",
    "    return (score.cohesion_forward * math.exp(score.right_branching_entropy))"
   ],
   "id": "7c374d156e2e3813",
   "outputs": [],
   "execution_count": 144
  },
  {
   "metadata": {
    "ExecuteTime": {
     "end_time": "2024-07-24T14:50:58.065978Z",
     "start_time": "2024-07-24T14:50:55.046414Z"
    }
   },
   "cell_type": "code",
   "source": [
    "branching_entropy = word_extractor.all_branching_entropy()\n",
    "branching_entropy['별로'] # (left_branching_entropy, right_branching_entropy)"
   ],
   "id": "b9355f6ddf8190e6",
   "outputs": [
    {
     "name": "stdout",
     "output_type": "stream",
     "text": [
      "all branching entropies was computed # words = 105708\n"
     ]
    },
    {
     "data": {
      "text/plain": [
       "(3.6782606986656257, 3.6982209638368735)"
      ]
     },
     "execution_count": 145,
     "metadata": {},
     "output_type": "execute_result"
    }
   ],
   "execution_count": 145
  },
  {
   "metadata": {
    "ExecuteTime": {
     "end_time": "2024-07-24T14:50:59.080419Z",
     "start_time": "2024-07-24T14:50:58.067010Z"
    }
   },
   "cell_type": "code",
   "source": [
    "accessor_variety = word_extractor.all_accessor_variety()\n",
    "accessor_variety['별로'] # (left_accessor_variety, right_accessor_variety)"
   ],
   "id": "572152703fe25ba8",
   "outputs": [
    {
     "name": "stdout",
     "output_type": "stream",
     "text": [
      "all accessor variety was computed # words = 105708\n"
     ]
    },
    {
     "data": {
      "text/plain": [
       "(121, 149)"
      ]
     },
     "execution_count": 146,
     "metadata": {},
     "output_type": "execute_result"
    }
   ],
   "execution_count": 146
  },
  {
   "metadata": {
    "ExecuteTime": {
     "end_time": "2024-07-24T14:50:59.086672Z",
     "start_time": "2024-07-24T14:50:59.081790Z"
    }
   },
   "cell_type": "code",
   "source": [
    "tokenizer = MaxScoreTokenizer(scores=scores)\n",
    "tokenizer.tokenize('ㅋㅋ영화노잼')"
   ],
   "id": "9a02572b200e8d56",
   "outputs": [
    {
     "data": {
      "text/plain": [
       "['ㅋㅋ', '영화', '노잼']"
      ]
     },
     "execution_count": 147,
     "metadata": {},
     "output_type": "execute_result"
    }
   ],
   "execution_count": 147
  },
  {
   "metadata": {
    "ExecuteTime": {
     "end_time": "2024-07-24T14:50:59.091979Z",
     "start_time": "2024-07-24T14:50:59.089458Z"
    }
   },
   "cell_type": "code",
   "source": [
    "def tokenize_soy(texts):\n",
    "    return [tokenizer.tokenize(text) for text in texts]"
   ],
   "id": "305443fc186d4669",
   "outputs": [],
   "execution_count": 148
  },
  {
   "metadata": {
    "ExecuteTime": {
     "end_time": "2024-07-24T14:50:59.298857Z",
     "start_time": "2024-07-24T14:50:59.092566Z"
    }
   },
   "cell_type": "code",
   "source": [
    "train_tokens_soy, time_soy = measure_time(tokenize_soy, train_texts)\n",
    "print(f\"Okt norm_stem 실행 시간: {time_soy:.2f} 초\")"
   ],
   "id": "b910f7d8737aa56e",
   "outputs": [
    {
     "name": "stdout",
     "output_type": "stream",
     "text": [
      "Okt norm_stem 실행 시간: 0.04 초\n"
     ]
    }
   ],
   "execution_count": 149
  },
  {
   "metadata": {
    "ExecuteTime": {
     "end_time": "2024-07-24T14:51:28.290257Z",
     "start_time": "2024-07-24T14:51:28.281870Z"
    }
   },
   "cell_type": "code",
   "source": "train",
   "id": "ee0a370953caa8c6",
   "outputs": [
    {
     "data": {
      "text/plain": [
       "              id                                           document  label\n",
       "0        9976970                                  아 더빙 진짜 짜증나네요 목소리      0\n",
       "1        3819312                         흠포스터보고 초딩영화줄오버연기조차 가볍지 않구나      1\n",
       "2       10265843                                  너무재밓었다그래서보는것을추천한다      0\n",
       "3        9045019                          교도소 이야기구먼 솔직히 재미는 없다평점 조정      0\n",
       "4        6483659  사이몬페그의 익살스런 연기가 돋보였던 영화스파이더맨에서 늙어보이기만 했던 커스틴 던...      1\n",
       "...          ...                                                ...    ...\n",
       "149995   6222902                                    인간이 문제지 소는 뭔죄인가      0\n",
       "149996   8549745                                         평점이 너무 낮아서      1\n",
       "149997   9311800                      이게 뭐요 한국인은 거들먹거리고 필리핀 혼혈은 착하다      0\n",
       "149998   2376369                         청춘 영화의 최고봉방황과 우울했던 날들의 자화상      1\n",
       "149999   9619869                           한국 영화 최초로 수간하는 내용이 담긴 영화      0\n",
       "\n",
       "[148909 rows x 3 columns]"
      ],
      "text/html": [
       "<div>\n",
       "<style scoped>\n",
       "    .dataframe tbody tr th:only-of-type {\n",
       "        vertical-align: middle;\n",
       "    }\n",
       "\n",
       "    .dataframe tbody tr th {\n",
       "        vertical-align: top;\n",
       "    }\n",
       "\n",
       "    .dataframe thead th {\n",
       "        text-align: right;\n",
       "    }\n",
       "</style>\n",
       "<table border=\"1\" class=\"dataframe\">\n",
       "  <thead>\n",
       "    <tr style=\"text-align: right;\">\n",
       "      <th></th>\n",
       "      <th>id</th>\n",
       "      <th>document</th>\n",
       "      <th>label</th>\n",
       "    </tr>\n",
       "  </thead>\n",
       "  <tbody>\n",
       "    <tr>\n",
       "      <th>0</th>\n",
       "      <td>9976970</td>\n",
       "      <td>아 더빙 진짜 짜증나네요 목소리</td>\n",
       "      <td>0</td>\n",
       "    </tr>\n",
       "    <tr>\n",
       "      <th>1</th>\n",
       "      <td>3819312</td>\n",
       "      <td>흠포스터보고 초딩영화줄오버연기조차 가볍지 않구나</td>\n",
       "      <td>1</td>\n",
       "    </tr>\n",
       "    <tr>\n",
       "      <th>2</th>\n",
       "      <td>10265843</td>\n",
       "      <td>너무재밓었다그래서보는것을추천한다</td>\n",
       "      <td>0</td>\n",
       "    </tr>\n",
       "    <tr>\n",
       "      <th>3</th>\n",
       "      <td>9045019</td>\n",
       "      <td>교도소 이야기구먼 솔직히 재미는 없다평점 조정</td>\n",
       "      <td>0</td>\n",
       "    </tr>\n",
       "    <tr>\n",
       "      <th>4</th>\n",
       "      <td>6483659</td>\n",
       "      <td>사이몬페그의 익살스런 연기가 돋보였던 영화스파이더맨에서 늙어보이기만 했던 커스틴 던...</td>\n",
       "      <td>1</td>\n",
       "    </tr>\n",
       "    <tr>\n",
       "      <th>...</th>\n",
       "      <td>...</td>\n",
       "      <td>...</td>\n",
       "      <td>...</td>\n",
       "    </tr>\n",
       "    <tr>\n",
       "      <th>149995</th>\n",
       "      <td>6222902</td>\n",
       "      <td>인간이 문제지 소는 뭔죄인가</td>\n",
       "      <td>0</td>\n",
       "    </tr>\n",
       "    <tr>\n",
       "      <th>149996</th>\n",
       "      <td>8549745</td>\n",
       "      <td>평점이 너무 낮아서</td>\n",
       "      <td>1</td>\n",
       "    </tr>\n",
       "    <tr>\n",
       "      <th>149997</th>\n",
       "      <td>9311800</td>\n",
       "      <td>이게 뭐요 한국인은 거들먹거리고 필리핀 혼혈은 착하다</td>\n",
       "      <td>0</td>\n",
       "    </tr>\n",
       "    <tr>\n",
       "      <th>149998</th>\n",
       "      <td>2376369</td>\n",
       "      <td>청춘 영화의 최고봉방황과 우울했던 날들의 자화상</td>\n",
       "      <td>1</td>\n",
       "    </tr>\n",
       "    <tr>\n",
       "      <th>149999</th>\n",
       "      <td>9619869</td>\n",
       "      <td>한국 영화 최초로 수간하는 내용이 담긴 영화</td>\n",
       "      <td>0</td>\n",
       "    </tr>\n",
       "  </tbody>\n",
       "</table>\n",
       "<p>148909 rows × 3 columns</p>\n",
       "</div>"
      ]
     },
     "execution_count": 152,
     "metadata": {},
     "output_type": "execute_result"
    }
   ],
   "execution_count": 152
  },
  {
   "metadata": {
    "ExecuteTime": {
     "end_time": "2024-07-24T14:52:04.772523Z",
     "start_time": "2024-07-24T14:51:56.682422Z"
    }
   },
   "cell_type": "code",
   "source": [
    "from soynlp.tokenizer import LTokenizer\n",
    "\n",
    "ltokenizer = LTokenizer(scores =scores)\n",
    "train['ltokenizer'] = train['document'].apply(lambda x: ltokenizer.tokenize(x))"
   ],
   "id": "fc712092bcc3def5",
   "outputs": [],
   "execution_count": 153
  },
  {
   "metadata": {},
   "cell_type": "code",
   "source": "train.head()",
   "id": "bd300b1d72238298",
   "outputs": [],
   "execution_count": null
  },
  {
   "metadata": {},
   "cell_type": "code",
   "outputs": [],
   "execution_count": null,
   "source": "test['ltokenizer'] = test['document'].apply(lambda x: ltokenizer.tokenize(x))",
   "id": "f02b7cd9f337d58b"
  }
 ],
 "metadata": {
  "kernelspec": {
   "display_name": "Python 3",
   "language": "python",
   "name": "python3"
  },
  "language_info": {
   "codemirror_mode": {
    "name": "ipython",
    "version": 2
   },
   "file_extension": ".py",
   "mimetype": "text/x-python",
   "name": "python",
   "nbconvert_exporter": "python",
   "pygments_lexer": "ipython2",
   "version": "2.7.6"
  }
 },
 "nbformat": 4,
 "nbformat_minor": 5
}
