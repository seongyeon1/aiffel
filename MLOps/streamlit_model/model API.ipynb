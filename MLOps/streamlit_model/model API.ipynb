{
 "cells": [
  {
   "metadata": {},
   "cell_type": "markdown",
   "source": "## Model API",
   "id": "7cc266bb1a5dc6b8"
  },
  {
   "metadata": {},
   "cell_type": "markdown",
   "source": "Iris 데이터를 입력받아 예측값을 반환하는 API 를 작성합니다.작성한 API 에 데이터를 전달하여 제대로 작동하는지 확인합니다.",
   "id": "c8c98f1049138aa2"
  },
  {
   "metadata": {},
   "cell_type": "markdown",
   "source": [
    "## **스펙 명세서**\n",
    "\n",
    "1. `03. Model Registry`  파트에서 모델을 학습한 후 저장한 MLflow 서버의 Model Registry 에서 모델을 로컬로 다운로드받는 스크립트 `download_model.py` 를 작성하고 실행합니다.\n",
    "2. `POST /predict` 를 수행하면 학습한 모델의 inference 결과를 반환하는 API 의 명세서를 작성합니다.\n",
    "3. `schemas.py` 에서 Pydantic 을 사용해 input schema 와 output schema 의 클래스를 작성합니다.\n",
    "    - Input schema: `Class PredictIn(BaseModel)` 을 이용\n",
    "        - Column 이름: 01. Database 파트에서 작성한 이름과 동일\n",
    "    - Output schema: `Class PredictOut(BaseModel)` 을 이용\n",
    "        - Column 이름: `iris_class`작성한 명세서를 FastAPI 를 이용해 `app.py` 에 구현합니다.작성한 API 에 데이터를 전달하여 잘 작동하는지 확인합니다.\n",
    "\n",
    "해당 파트의 전체 코드는 [mlops-for-mle/part6/](https://github.com/mlops-for-mle/mlops-for-mle/tree/main/part6) 에서 확인할 수 있습니다."
   ],
   "id": "50f3d01cb86b3905"
  },
  {
   "metadata": {},
   "cell_type": "markdown",
   "source": [
    "## 환경 설정\n",
    "\n",
    "- 이번 파트에서 사용할 패키지들을 설치합니다"
   ],
   "id": "cb2fd9a49d980f1f"
  },
  {
   "metadata": {
    "ExecuteTime": {
     "end_time": "2024-07-31T06:41:46.061728Z",
     "start_time": "2024-07-31T06:41:44.317183Z"
    }
   },
   "cell_type": "code",
   "source": [
    "# terminal-command\n",
    "!pip install boto3==1.26.8 mlflow==1.30.0 \"fastapi[all]\" pandas scikit-learn\n"
   ],
   "id": "aaac64061eeeb524",
   "outputs": [
    {
     "name": "stdout",
     "output_type": "stream",
     "text": [
      "Requirement already satisfied: boto3==1.26.8 in /opt/homebrew/Caskroom/miniforge/base/envs/MLOps/lib/python3.12/site-packages (1.26.8)\r\n",
      "Requirement already satisfied: mlflow==1.30.0 in /opt/homebrew/Caskroom/miniforge/base/envs/MLOps/lib/python3.12/site-packages (1.30.0)\r\n",
      "Requirement already satisfied: pandas in /opt/homebrew/Caskroom/miniforge/base/envs/MLOps/lib/python3.12/site-packages (1.5.3)\r\n",
      "Requirement already satisfied: scikit-learn in /opt/homebrew/Caskroom/miniforge/base/envs/MLOps/lib/python3.12/site-packages (1.5.1)\r\n",
      "Requirement already satisfied: fastapi[all] in /opt/homebrew/Caskroom/miniforge/base/envs/MLOps/lib/python3.12/site-packages (0.111.1)\r\n",
      "Requirement already satisfied: botocore<1.30.0,>=1.29.8 in /opt/homebrew/Caskroom/miniforge/base/envs/MLOps/lib/python3.12/site-packages (from boto3==1.26.8) (1.29.165)\r\n",
      "Requirement already satisfied: jmespath<2.0.0,>=0.7.1 in /opt/homebrew/Caskroom/miniforge/base/envs/MLOps/lib/python3.12/site-packages (from boto3==1.26.8) (1.0.1)\r\n",
      "Requirement already satisfied: s3transfer<0.7.0,>=0.6.0 in /opt/homebrew/Caskroom/miniforge/base/envs/MLOps/lib/python3.12/site-packages (from boto3==1.26.8) (0.6.2)\r\n",
      "Requirement already satisfied: click<9,>=7.0 in /opt/homebrew/Caskroom/miniforge/base/envs/MLOps/lib/python3.12/site-packages (from mlflow==1.30.0) (8.1.7)\r\n",
      "Requirement already satisfied: cloudpickle<3 in /opt/homebrew/Caskroom/miniforge/base/envs/MLOps/lib/python3.12/site-packages (from mlflow==1.30.0) (2.2.1)\r\n",
      "Requirement already satisfied: databricks-cli<1,>=0.8.7 in /opt/homebrew/Caskroom/miniforge/base/envs/MLOps/lib/python3.12/site-packages (from mlflow==1.30.0) (0.18.0)\r\n",
      "Requirement already satisfied: entrypoints<1 in /opt/homebrew/Caskroom/miniforge/base/envs/MLOps/lib/python3.12/site-packages (from mlflow==1.30.0) (0.4)\r\n",
      "Requirement already satisfied: gitpython<4,>=2.1.0 in /opt/homebrew/Caskroom/miniforge/base/envs/MLOps/lib/python3.12/site-packages (from mlflow==1.30.0) (3.1.43)\r\n",
      "Requirement already satisfied: pyyaml<7,>=5.1 in /opt/homebrew/Caskroom/miniforge/base/envs/MLOps/lib/python3.12/site-packages (from mlflow==1.30.0) (6.0.1)\r\n",
      "Requirement already satisfied: protobuf<5,>=3.12.0 in /opt/homebrew/Caskroom/miniforge/base/envs/MLOps/lib/python3.12/site-packages (from mlflow==1.30.0) (4.25.4)\r\n",
      "Requirement already satisfied: pytz<2023 in /opt/homebrew/Caskroom/miniforge/base/envs/MLOps/lib/python3.12/site-packages (from mlflow==1.30.0) (2022.7.1)\r\n",
      "Requirement already satisfied: requests<3,>=2.17.3 in /opt/homebrew/Caskroom/miniforge/base/envs/MLOps/lib/python3.12/site-packages (from mlflow==1.30.0) (2.32.3)\r\n",
      "Requirement already satisfied: packaging<22 in /opt/homebrew/Caskroom/miniforge/base/envs/MLOps/lib/python3.12/site-packages (from mlflow==1.30.0) (21.3)\r\n",
      "Requirement already satisfied: importlib-metadata!=4.7.0,<6,>=3.7.0 in /opt/homebrew/Caskroom/miniforge/base/envs/MLOps/lib/python3.12/site-packages (from mlflow==1.30.0) (5.2.0)\r\n",
      "Requirement already satisfied: sqlparse<1,>=0.4.0 in /opt/homebrew/Caskroom/miniforge/base/envs/MLOps/lib/python3.12/site-packages (from mlflow==1.30.0) (0.5.1)\r\n",
      "Requirement already satisfied: alembic<2 in /opt/homebrew/Caskroom/miniforge/base/envs/MLOps/lib/python3.12/site-packages (from mlflow==1.30.0) (1.13.2)\r\n",
      "Requirement already satisfied: docker<7,>=4.0.0 in /opt/homebrew/Caskroom/miniforge/base/envs/MLOps/lib/python3.12/site-packages (from mlflow==1.30.0) (6.1.3)\r\n",
      "Requirement already satisfied: Flask<3 in /opt/homebrew/Caskroom/miniforge/base/envs/MLOps/lib/python3.12/site-packages (from mlflow==1.30.0) (2.3.3)\r\n",
      "Requirement already satisfied: numpy<2 in /opt/homebrew/Caskroom/miniforge/base/envs/MLOps/lib/python3.12/site-packages (from mlflow==1.30.0) (1.26.4)\r\n",
      "Requirement already satisfied: scipy<2 in /opt/homebrew/Caskroom/miniforge/base/envs/MLOps/lib/python3.12/site-packages (from mlflow==1.30.0) (1.14.0)\r\n",
      "Requirement already satisfied: prometheus-flask-exporter<1 in /opt/homebrew/Caskroom/miniforge/base/envs/MLOps/lib/python3.12/site-packages (from mlflow==1.30.0) (0.23.1)\r\n",
      "Requirement already satisfied: querystring-parser<2 in /opt/homebrew/Caskroom/miniforge/base/envs/MLOps/lib/python3.12/site-packages (from mlflow==1.30.0) (1.2.4)\r\n",
      "Requirement already satisfied: sqlalchemy<2,>=1.4.0 in /opt/homebrew/Caskroom/miniforge/base/envs/MLOps/lib/python3.12/site-packages (from mlflow==1.30.0) (1.4.53)\r\n",
      "Requirement already satisfied: gunicorn<21 in /opt/homebrew/Caskroom/miniforge/base/envs/MLOps/lib/python3.12/site-packages (from mlflow==1.30.0) (20.1.0)\r\n",
      "Requirement already satisfied: starlette<0.38.0,>=0.37.2 in /opt/homebrew/Caskroom/miniforge/base/envs/MLOps/lib/python3.12/site-packages (from fastapi[all]) (0.37.2)\r\n",
      "Requirement already satisfied: pydantic!=1.8,!=1.8.1,!=2.0.0,!=2.0.1,!=2.1.0,<3.0.0,>=1.7.4 in /opt/homebrew/Caskroom/miniforge/base/envs/MLOps/lib/python3.12/site-packages (from fastapi[all]) (2.8.2)\r\n",
      "Requirement already satisfied: typing-extensions>=4.8.0 in /opt/homebrew/Caskroom/miniforge/base/envs/MLOps/lib/python3.12/site-packages (from fastapi[all]) (4.12.2)\r\n",
      "Requirement already satisfied: fastapi-cli>=0.0.2 in /opt/homebrew/Caskroom/miniforge/base/envs/MLOps/lib/python3.12/site-packages (from fastapi[all]) (0.0.4)\r\n",
      "Requirement already satisfied: httpx>=0.23.0 in /opt/homebrew/Caskroom/miniforge/base/envs/MLOps/lib/python3.12/site-packages (from fastapi[all]) (0.27.0)\r\n",
      "Requirement already satisfied: jinja2>=2.11.2 in /opt/homebrew/Caskroom/miniforge/base/envs/MLOps/lib/python3.12/site-packages (from fastapi[all]) (3.1.4)\r\n",
      "Requirement already satisfied: python-multipart>=0.0.7 in /opt/homebrew/Caskroom/miniforge/base/envs/MLOps/lib/python3.12/site-packages (from fastapi[all]) (0.0.9)\r\n",
      "Requirement already satisfied: email_validator>=2.0.0 in /opt/homebrew/Caskroom/miniforge/base/envs/MLOps/lib/python3.12/site-packages (from fastapi[all]) (2.2.0)\r\n",
      "Requirement already satisfied: uvicorn>=0.12.0 in /opt/homebrew/Caskroom/miniforge/base/envs/MLOps/lib/python3.12/site-packages (from uvicorn[standard]>=0.12.0->fastapi[all]) (0.30.3)\r\n",
      "Requirement already satisfied: itsdangerous>=1.1.0 in /opt/homebrew/Caskroom/miniforge/base/envs/MLOps/lib/python3.12/site-packages (from fastapi[all]) (2.2.0)\r\n",
      "Requirement already satisfied: ujson!=4.0.2,!=4.1.0,!=4.2.0,!=4.3.0,!=5.0.0,!=5.1.0,>=4.0.1 in /opt/homebrew/Caskroom/miniforge/base/envs/MLOps/lib/python3.12/site-packages (from fastapi[all]) (5.10.0)\r\n",
      "Requirement already satisfied: orjson>=3.2.1 in /opt/homebrew/Caskroom/miniforge/base/envs/MLOps/lib/python3.12/site-packages (from fastapi[all]) (3.10.6)\r\n",
      "Requirement already satisfied: pydantic-settings>=2.0.0 in /opt/homebrew/Caskroom/miniforge/base/envs/MLOps/lib/python3.12/site-packages (from fastapi[all]) (2.4.0)\r\n",
      "Requirement already satisfied: pydantic-extra-types>=2.0.0 in /opt/homebrew/Caskroom/miniforge/base/envs/MLOps/lib/python3.12/site-packages (from fastapi[all]) (2.9.0)\r\n",
      "Requirement already satisfied: python-dateutil>=2.8.1 in /opt/homebrew/Caskroom/miniforge/base/envs/MLOps/lib/python3.12/site-packages (from pandas) (2.9.0)\r\n",
      "Requirement already satisfied: joblib>=1.2.0 in /opt/homebrew/Caskroom/miniforge/base/envs/MLOps/lib/python3.12/site-packages (from scikit-learn) (1.4.2)\r\n",
      "Requirement already satisfied: threadpoolctl>=3.1.0 in /opt/homebrew/Caskroom/miniforge/base/envs/MLOps/lib/python3.12/site-packages (from scikit-learn) (3.5.0)\r\n",
      "Requirement already satisfied: Mako in /opt/homebrew/Caskroom/miniforge/base/envs/MLOps/lib/python3.12/site-packages (from alembic<2->mlflow==1.30.0) (1.3.5)\r\n",
      "Requirement already satisfied: urllib3<1.27,>=1.25.4 in /opt/homebrew/Caskroom/miniforge/base/envs/MLOps/lib/python3.12/site-packages (from botocore<1.30.0,>=1.29.8->boto3==1.26.8) (1.26.19)\r\n",
      "Requirement already satisfied: pyjwt>=1.7.0 in /opt/homebrew/Caskroom/miniforge/base/envs/MLOps/lib/python3.12/site-packages (from databricks-cli<1,>=0.8.7->mlflow==1.30.0) (2.8.0)\r\n",
      "Requirement already satisfied: oauthlib>=3.1.0 in /opt/homebrew/Caskroom/miniforge/base/envs/MLOps/lib/python3.12/site-packages (from databricks-cli<1,>=0.8.7->mlflow==1.30.0) (3.2.2)\r\n",
      "Requirement already satisfied: tabulate>=0.7.7 in /opt/homebrew/Caskroom/miniforge/base/envs/MLOps/lib/python3.12/site-packages (from databricks-cli<1,>=0.8.7->mlflow==1.30.0) (0.9.0)\r\n",
      "Requirement already satisfied: six>=1.10.0 in /opt/homebrew/Caskroom/miniforge/base/envs/MLOps/lib/python3.12/site-packages (from databricks-cli<1,>=0.8.7->mlflow==1.30.0) (1.16.0)\r\n",
      "Requirement already satisfied: websocket-client>=0.32.0 in /opt/homebrew/Caskroom/miniforge/base/envs/MLOps/lib/python3.12/site-packages (from docker<7,>=4.0.0->mlflow==1.30.0) (1.8.0)\r\n",
      "Requirement already satisfied: dnspython>=2.0.0 in /opt/homebrew/Caskroom/miniforge/base/envs/MLOps/lib/python3.12/site-packages (from email_validator>=2.0.0->fastapi[all]) (2.6.1)\r\n",
      "Requirement already satisfied: idna>=2.0.0 in /opt/homebrew/Caskroom/miniforge/base/envs/MLOps/lib/python3.12/site-packages (from email_validator>=2.0.0->fastapi[all]) (3.7)\r\n",
      "Requirement already satisfied: typer>=0.12.3 in /opt/homebrew/Caskroom/miniforge/base/envs/MLOps/lib/python3.12/site-packages (from fastapi-cli>=0.0.2->fastapi[all]) (0.12.3)\r\n",
      "Requirement already satisfied: Werkzeug>=2.3.7 in /opt/homebrew/Caskroom/miniforge/base/envs/MLOps/lib/python3.12/site-packages (from Flask<3->mlflow==1.30.0) (3.0.3)\r\n",
      "Requirement already satisfied: blinker>=1.6.2 in /opt/homebrew/Caskroom/miniforge/base/envs/MLOps/lib/python3.12/site-packages (from Flask<3->mlflow==1.30.0) (1.8.2)\r\n",
      "Requirement already satisfied: gitdb<5,>=4.0.1 in /opt/homebrew/Caskroom/miniforge/base/envs/MLOps/lib/python3.12/site-packages (from gitpython<4,>=2.1.0->mlflow==1.30.0) (4.0.11)\r\n",
      "Requirement already satisfied: setuptools>=3.0 in /opt/homebrew/Caskroom/miniforge/base/envs/MLOps/lib/python3.12/site-packages (from gunicorn<21->mlflow==1.30.0) (71.0.4)\r\n",
      "Requirement already satisfied: anyio in /opt/homebrew/Caskroom/miniforge/base/envs/MLOps/lib/python3.12/site-packages (from httpx>=0.23.0->fastapi[all]) (4.4.0)\r\n",
      "Requirement already satisfied: certifi in /opt/homebrew/Caskroom/miniforge/base/envs/MLOps/lib/python3.12/site-packages (from httpx>=0.23.0->fastapi[all]) (2024.7.4)\r\n",
      "Requirement already satisfied: httpcore==1.* in /opt/homebrew/Caskroom/miniforge/base/envs/MLOps/lib/python3.12/site-packages (from httpx>=0.23.0->fastapi[all]) (1.0.5)\r\n",
      "Requirement already satisfied: sniffio in /opt/homebrew/Caskroom/miniforge/base/envs/MLOps/lib/python3.12/site-packages (from httpx>=0.23.0->fastapi[all]) (1.3.1)\r\n",
      "Requirement already satisfied: h11<0.15,>=0.13 in /opt/homebrew/Caskroom/miniforge/base/envs/MLOps/lib/python3.12/site-packages (from httpcore==1.*->httpx>=0.23.0->fastapi[all]) (0.14.0)\r\n",
      "Requirement already satisfied: zipp>=0.5 in /opt/homebrew/Caskroom/miniforge/base/envs/MLOps/lib/python3.12/site-packages (from importlib-metadata!=4.7.0,<6,>=3.7.0->mlflow==1.30.0) (3.19.2)\r\n",
      "Requirement already satisfied: MarkupSafe>=2.0 in /opt/homebrew/Caskroom/miniforge/base/envs/MLOps/lib/python3.12/site-packages (from jinja2>=2.11.2->fastapi[all]) (2.1.5)\r\n",
      "Requirement already satisfied: pyparsing!=3.0.5,>=2.0.2 in /opt/homebrew/Caskroom/miniforge/base/envs/MLOps/lib/python3.12/site-packages (from packaging<22->mlflow==1.30.0) (3.1.2)\r\n",
      "Requirement already satisfied: prometheus-client in /opt/homebrew/Caskroom/miniforge/base/envs/MLOps/lib/python3.12/site-packages (from prometheus-flask-exporter<1->mlflow==1.30.0) (0.20.0)\r\n",
      "Requirement already satisfied: annotated-types>=0.4.0 in /opt/homebrew/Caskroom/miniforge/base/envs/MLOps/lib/python3.12/site-packages (from pydantic!=1.8,!=1.8.1,!=2.0.0,!=2.0.1,!=2.1.0,<3.0.0,>=1.7.4->fastapi[all]) (0.7.0)\r\n",
      "Requirement already satisfied: pydantic-core==2.20.1 in /opt/homebrew/Caskroom/miniforge/base/envs/MLOps/lib/python3.12/site-packages (from pydantic!=1.8,!=1.8.1,!=2.0.0,!=2.0.1,!=2.1.0,<3.0.0,>=1.7.4->fastapi[all]) (2.20.1)\r\n",
      "Requirement already satisfied: python-dotenv>=0.21.0 in /opt/homebrew/Caskroom/miniforge/base/envs/MLOps/lib/python3.12/site-packages (from pydantic-settings>=2.0.0->fastapi[all]) (1.0.1)\r\n",
      "Requirement already satisfied: charset-normalizer<4,>=2 in /opt/homebrew/Caskroom/miniforge/base/envs/MLOps/lib/python3.12/site-packages (from requests<3,>=2.17.3->mlflow==1.30.0) (3.3.2)\r\n",
      "Requirement already satisfied: httptools>=0.5.0 in /opt/homebrew/Caskroom/miniforge/base/envs/MLOps/lib/python3.12/site-packages (from uvicorn[standard]>=0.12.0->fastapi[all]) (0.6.1)\r\n",
      "Requirement already satisfied: uvloop!=0.15.0,!=0.15.1,>=0.14.0 in /opt/homebrew/Caskroom/miniforge/base/envs/MLOps/lib/python3.12/site-packages (from uvicorn[standard]>=0.12.0->fastapi[all]) (0.19.0)\r\n",
      "Requirement already satisfied: watchfiles>=0.13 in /opt/homebrew/Caskroom/miniforge/base/envs/MLOps/lib/python3.12/site-packages (from uvicorn[standard]>=0.12.0->fastapi[all]) (0.22.0)\r\n",
      "Requirement already satisfied: websockets>=10.4 in /opt/homebrew/Caskroom/miniforge/base/envs/MLOps/lib/python3.12/site-packages (from uvicorn[standard]>=0.12.0->fastapi[all]) (12.0)\r\n",
      "Requirement already satisfied: smmap<6,>=3.0.1 in /opt/homebrew/Caskroom/miniforge/base/envs/MLOps/lib/python3.12/site-packages (from gitdb<5,>=4.0.1->gitpython<4,>=2.1.0->mlflow==1.30.0) (5.0.1)\r\n",
      "Requirement already satisfied: shellingham>=1.3.0 in /opt/homebrew/Caskroom/miniforge/base/envs/MLOps/lib/python3.12/site-packages (from typer>=0.12.3->fastapi-cli>=0.0.2->fastapi[all]) (1.5.4)\r\n",
      "Requirement already satisfied: rich>=10.11.0 in /opt/homebrew/Caskroom/miniforge/base/envs/MLOps/lib/python3.12/site-packages (from typer>=0.12.3->fastapi-cli>=0.0.2->fastapi[all]) (13.7.1)\r\n",
      "Requirement already satisfied: markdown-it-py>=2.2.0 in /opt/homebrew/Caskroom/miniforge/base/envs/MLOps/lib/python3.12/site-packages (from rich>=10.11.0->typer>=0.12.3->fastapi-cli>=0.0.2->fastapi[all]) (3.0.0)\r\n",
      "Requirement already satisfied: pygments<3.0.0,>=2.13.0 in /opt/homebrew/Caskroom/miniforge/base/envs/MLOps/lib/python3.12/site-packages (from rich>=10.11.0->typer>=0.12.3->fastapi-cli>=0.0.2->fastapi[all]) (2.18.0)\r\n",
      "Requirement already satisfied: mdurl~=0.1 in /opt/homebrew/Caskroom/miniforge/base/envs/MLOps/lib/python3.12/site-packages (from markdown-it-py>=2.2.0->rich>=10.11.0->typer>=0.12.3->fastapi-cli>=0.0.2->fastapi[all]) (0.1.2)\r\n"
     ]
    }
   ],
   "execution_count": 1
  },
  {
   "metadata": {},
   "cell_type": "markdown",
   "source": [
    "# 1. 모델 다운로드\n",
    "\n",
    "### 1.1 Base Setting\n",
    "먼저 필요한 패키지들을 import 합니다."
   ],
   "id": "de163c16d236629c"
  },
  {
   "metadata": {
    "ExecuteTime": {
     "end_time": "2024-07-31T06:42:42.601913Z",
     "start_time": "2024-07-31T06:42:41.824982Z"
    }
   },
   "cell_type": "code",
   "source": [
    "import os\n",
    "from argparse import ArgumentParser\n",
    "\n",
    "import mlflow"
   ],
   "id": "614e5bad360fa7a1",
   "outputs": [],
   "execution_count": 2
  },
  {
   "metadata": {},
   "cell_type": "markdown",
   "source": [
    "### 1.2 Environment Variables\n",
    "\n",
    "다음으로는 Model Registry 에 저장되어 있는 모델을 다운로드하기 위해 MLflow 서버와 MinIO 서버에 접속하기 위한 정보를 환경 변수로 설정합니다."
   ],
   "id": "84aee2a73609b179"
  },
  {
   "metadata": {
    "ExecuteTime": {
     "end_time": "2024-07-31T06:43:12.091415Z",
     "start_time": "2024-07-31T06:43:12.087702Z"
    }
   },
   "cell_type": "code",
   "source": [
    "# Set environments\n",
    "os.environ[\"MLFLOW_S3_ENDPOINT_URL\"] = \"http://localhost:9000\"\n",
    "os.environ[\"MLFLOW_TRACKING_URI\"] = \"http://localhost:5001\"\n",
    "os.environ[\"AWS_ACCESS_KEY_ID\"] = \"minio\"\n",
    "os.environ[\"AWS_SECRET_ACCESS_KEY\"] = \"miniostorage\""
   ],
   "id": "53aa57358682a837",
   "outputs": [],
   "execution_count": 3
  },
  {
   "metadata": {},
   "cell_type": "markdown",
   "source": "### 1.3 모델 다운로드 함수 작성",
   "id": "24914ccb240e8426"
  },
  {
   "metadata": {
    "ExecuteTime": {
     "end_time": "2024-07-31T06:43:26.750412Z",
     "start_time": "2024-07-31T06:43:26.748351Z"
    }
   },
   "cell_type": "code",
   "source": [
    "def download_model(args):# Download model artifacts\n",
    "    mlflow.artifacts.download_artifacts(artifact_uri=f\"runs:/{args.run_id}/{args.model_name}\", dst_path=\".\")\n"
   ],
   "id": "45e8a61281b24e13",
   "outputs": [],
   "execution_count": 4
  },
  {
   "metadata": {},
   "cell_type": "markdown",
   "source": "### 1.4 모델 다운로드",
   "id": "19f1f7b1ebd4957e"
  },
  {
   "metadata": {
    "ExecuteTime": {
     "end_time": "2024-07-31T06:44:12.938691Z",
     "start_time": "2024-07-31T06:44:12.935657Z"
    }
   },
   "cell_type": "code",
   "source": [
    "# if __name__ == \"__main__\":\n",
    "#     parser = ArgumentParser()\n",
    "#     parser.add_argument(\"--model-name\", dest=\"model_name\", type=str, default=\"sk_model\")\n",
    "#     parser.add_argument(\"--run-id\", dest=\"run_id\", type=str)\n",
    "#     args = parser.parse_args()\n",
    "# \n",
    "#     download_model(args)\n"
   ],
   "id": "94eb6f716f286d5",
   "outputs": [],
   "execution_count": 6
  },
  {
   "metadata": {},
   "cell_type": "markdown",
   "source": "### 1.5 download_model.py",
   "id": "55e35980e399150a"
  },
  {
   "metadata": {
    "ExecuteTime": {
     "end_time": "2024-07-31T06:45:50.154729Z",
     "start_time": "2024-07-31T06:45:50.150557Z"
    }
   },
   "cell_type": "code",
   "source": [
    "%%writefile download_model.py\n",
    "\n",
    "import os\n",
    "from argparse import ArgumentParser\n",
    "\n",
    "import mlflow\n",
    "\n",
    "# Set environments\n",
    "os.environ[\"MLFLOW_S3_ENDPOINT_URL\"] = \"http://localhost:9000\"\n",
    "os.environ[\"MLFLOW_TRACKING_URI\"] = \"http://localhost:5001\"\n",
    "os.environ[\"AWS_ACCESS_KEY_ID\"] = \"minio\"\n",
    "os.environ[\"AWS_SECRET_ACCESS_KEY\"] = \"miniostorage\"\n",
    "\n",
    "def download_model(args):# Download model artifacts\n",
    "    mlflow.artifacts.download_artifacts(artifact_uri=f\"runs:/{args.run_id}/{args.model_name}\", dst_path=\".\")\n",
    "\n",
    "\n",
    "if __name__ == \"__main__\":\n",
    "    parser = ArgumentParser()\n",
    "    parser.add_argument(\"--model-name\", dest=\"model_name\", type=str, default=\"sk_model\")\n",
    "    parser.add_argument(\"--run-id\", dest=\"run_id\", type=str)\n",
    "    args = parser.parse_args()\n",
    "\n",
    "    download_model(args)\n"
   ],
   "id": "a05545d3bf9f57b7",
   "outputs": [
    {
     "name": "stdout",
     "output_type": "stream",
     "text": [
      "Overwriting download_model.py\n"
     ]
    }
   ],
   "execution_count": 8
  },
  {
   "metadata": {},
   "cell_type": "markdown",
   "source": [
    "### 1.6 스크립트 실행\n",
    "\n",
    "먼저 다운로드받고자 하는 모델의 MLFlow 서버에서 저장된 **`run_id`** 와 **`model_name`** 을 알아야 합니다.\n",
    "\n",
    "[http://localhost:5001](http://localhost:5001/) 에 접속하여 모델이 저장된 **`experiments`** 와 **`run`** 을 선택하여 클릭합니다. [그림 6-2]의 빨간색 상자 부분에서 **`run_id`** 와 **`model_name`** 을 각각 확인할 수 있습니다."
   ],
   "id": "c8251c6f8ae3029d"
  },
  {
   "metadata": {},
   "cell_type": "markdown",
   "source": [
    "    # terminal-command\n",
    "    python download_model.py --model-name sk_model --run-id <run-id>"
   ],
   "id": "9d0aab54ce155ab"
  },
  {
   "metadata": {},
   "cell_type": "code",
   "outputs": [],
   "execution_count": null,
   "source": "run_id = '3bf7aa18a6c8473d8a287f414698353e'",
   "id": "fc3c00a86e676466"
  },
  {
   "metadata": {},
   "cell_type": "code",
   "outputs": [],
   "execution_count": null,
   "source": "python download_model.py --model-name sk_model --run-id 3bf7aa18a6c8473d8a287f414698353e",
   "id": "dfd126e522b57c03"
  },
  {
   "metadata": {},
   "cell_type": "markdown",
   "source": [
    "# 2. Model API 명세서 작성\n",
    "\n",
    "POST /predict 를 수행했을 때 학습한 모델의 inference 결과를 반환해주는 API 의 명세서를 작성합니다. Request Body 로 iris 데이터를 전달해주면 Response Body 를 통해 예측된 값을 전달받게 됩니다.\n"
   ],
   "id": "d8437e3473f83f97"
  },
  {
   "metadata": {},
   "cell_type": "markdown",
   "source": "# 3. Pydantic Model 로 스키마의 클래스 작성",
   "id": "e76dea4a9bfa130c"
  },
  {
   "metadata": {
    "ExecuteTime": {
     "end_time": "2024-07-31T07:10:59.186533Z",
     "start_time": "2024-07-31T07:10:59.178349Z"
    }
   },
   "cell_type": "code",
   "source": [
    "%%writefile schemas.py\n",
    "#schemas.py\n",
    "from pydantic import BaseModel\n",
    "\n",
    "class PredictIn(BaseModel):\n",
    "    sepal_length: float\n",
    "    sepal_width: float\n",
    "    petal_length: float\n",
    "    petal_width: float\n",
    "\n",
    "class PredictOut(BaseModel):\n",
    "    iris_class: int"
   ],
   "id": "9b75a16e167b492a",
   "outputs": [
    {
     "name": "stdout",
     "output_type": "stream",
     "text": [
      "Writing schemas.py\n"
     ]
    }
   ],
   "execution_count": 9
  },
  {
   "metadata": {},
   "cell_type": "markdown",
   "source": "# 4. Predict API 구현",
   "id": "ed70ff7f5fb2ec74"
  },
  {
   "metadata": {
    "ExecuteTime": {
     "end_time": "2024-07-31T07:11:36.211379Z",
     "start_time": "2024-07-31T07:11:36.206773Z"
    }
   },
   "cell_type": "code",
   "source": [
    "%%writefile app.py\n",
    "# app.py\n",
    "import mlflow\n",
    "import pandas as pd\n",
    "from fastapi import FastAPI\n",
    "from schemas import PredictIn, PredictOut\n",
    "\n",
    "\n",
    "def get_model():\n",
    "    model = mlflow.sklearn.load_model(model_uri=\"./sk_model\")\n",
    "    return model\n",
    "\n",
    "\n",
    "MODEL = get_model()\n",
    "\n",
    "# Create a FastAPI instance\n",
    "app = FastAPI()\n",
    "\n",
    "\n",
    "@app.post(\"/predict\", response_model=PredictOut)\n",
    "def predict(data: PredictIn) -> PredictOut:\n",
    "    df = pd.DataFrame([data.dict()])\n",
    "    pred = MODEL.predict(df).item()\n",
    "    return PredictOut(iris_class=pred)"
   ],
   "id": "c16e0b7fed4e7f16",
   "outputs": [
    {
     "name": "stdout",
     "output_type": "stream",
     "text": [
      "Writing app.py\n"
     ]
    }
   ],
   "execution_count": 11
  },
  {
   "metadata": {},
   "cell_type": "markdown",
   "source": [
    "# 5. API 작동 확인\n",
    "    \n",
    "    # terminal-command\n",
    "    uvicorn app:app --reload    "
   ],
   "id": "ff610a8fe7428a56"
  },
  {
   "metadata": {},
   "cell_type": "markdown",
   "source": "# Model API on Docker Compose",
   "id": "4362bc23d1cde691"
  },
  {
   "metadata": {},
   "cell_type": "markdown",
   "source": "# 1. Dockerfile 작성",
   "id": "fcb9afab73d8245e"
  },
  {
   "metadata": {
    "ExecuteTime": {
     "end_time": "2024-07-31T07:20:37.269368Z",
     "start_time": "2024-07-31T07:20:37.262950Z"
    }
   },
   "cell_type": "code",
   "source": [
    "%%writefile Dockerfile\n",
    "FROM --platform=linux/arm64 python:3.9-slim\n",
    "\n",
    "WORKDIR /usr/app\n",
    "\n",
    "RUN pip install -U pip &&\\\n",
    "\n",
    "    pip install mlflow==1.30.0 pandas scikit-learn \"fastapi[all]\"\n",
    "\n",
    "COPY schemas.py schemas.py\n",
    "COPY app.py app.py\n",
    "COPY sk_model/ sk_model/\n",
    "\n",
    "CMD [\"uvicorn\", \"app:app\", \"--host\", \"0.0.0.0\", \"--reload\"]"
   ],
   "id": "6fa8eafe12e8632e",
   "outputs": [
    {
     "name": "stdout",
     "output_type": "stream",
     "text": [
      "Writing Dockerfile\n"
     ]
    }
   ],
   "execution_count": 12
  },
  {
   "metadata": {},
   "cell_type": "markdown",
   "source": "#  2. Docker Compose",
   "id": "690a34353e38d30e"
  },
  {
   "metadata": {
    "ExecuteTime": {
     "end_time": "2024-07-31T07:21:44.551533Z",
     "start_time": "2024-07-31T07:21:44.548161Z"
    }
   },
   "cell_type": "code",
   "source": [
    "%%writefile docker-compose.yaml\n",
    "version: \"3\"\n",
    "\n",
    "services:\n",
    "  api-with-model:\n",
    "    build:\n",
    "      context: .\n",
    "      dockerfile: Dockerfile\n",
    "    container_name: api-with-model\n",
    "    ports:\n",
    "      - 8000:8000\n",
    "    healthcheck:\n",
    "      test:\n",
    "        - CMD\n",
    "        - curl -X POST http://localhost:8000/predict\n",
    "        - -H\n",
    "        - \"Content-Type: application/json\"\n",
    "        - -d\n",
    "        - '{\"sepal_length\": 6.7, \"sepal_width\": 3.3, \"petal_length\": 5.7, \"petal_width\": 2.1}'\n",
    "      interval: 10s\n",
    "      timeout: 5s\n",
    "      retries: 5\n",
    "\n",
    "networks:\n",
    "  default:\n",
    "    name: mlops-network\n",
    "    external: true"
   ],
   "id": "e212dcf07f270c4a",
   "outputs": [
    {
     "name": "stdout",
     "output_type": "stream",
     "text": [
      "Writing docker-compose.yaml\n"
     ]
    }
   ],
   "execution_count": 13
  }
 ],
 "metadata": {
  "kernelspec": {
   "display_name": "Python 3",
   "language": "python",
   "name": "python3"
  },
  "language_info": {
   "codemirror_mode": {
    "name": "ipython",
    "version": 2
   },
   "file_extension": ".py",
   "mimetype": "text/x-python",
   "name": "python",
   "nbconvert_exporter": "python",
   "pygments_lexer": "ipython2",
   "version": "2.7.6"
  }
 },
 "nbformat": 4,
 "nbformat_minor": 5
}
