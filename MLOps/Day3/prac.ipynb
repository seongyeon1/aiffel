{
 "cells": [
  {
   "metadata": {},
   "cell_type": "markdown",
   "source": [
    "## 0. 패키지 설치\n",
    "이번 챕터에서 사용할 패키지들인 pandas, scikit-learn, joblib 를 설치합니다."
   ],
   "id": "697af0330023c76"
  },
  {
   "metadata": {
    "ExecuteTime": {
     "end_time": "2024-07-30T05:37:46.676776Z",
     "start_time": "2024-07-30T05:37:46.673715Z"
    }
   },
   "cell_type": "code",
   "source": [
    "# terminal-command\n",
    "# !pip install pandas scikit-learn joblib"
   ],
   "id": "fe7623ce71f6c966",
   "outputs": [],
   "execution_count": 1
  },
  {
   "metadata": {},
   "cell_type": "markdown",
   "source": [
    "## 1. 학습 및 평가 데이터 선정\n",
    "sklearn.datasets 에서 load_iris 함수를 통해서 iris 데이터를 불러옵니다."
   ],
   "id": "f08b8e02326c3492"
  },
  {
   "metadata": {
    "ExecuteTime": {
     "end_time": "2024-07-30T05:39:16.607373Z",
     "start_time": "2024-07-30T05:39:07.086147Z"
    }
   },
   "cell_type": "code",
   "source": [
    "from sklearn.datasets import load_iris\n",
    "\n",
    "X, y = load_iris(return_X_y=True, as_frame=True)"
   ],
   "id": "50ee68b585ff0d69",
   "outputs": [],
   "execution_count": 2
  },
  {
   "metadata": {},
   "cell_type": "markdown",
   "source": [
    "불러온 데이터를 각각 X, y 에 할당합니다.\n",
    "\n",
    "sklearn.model_selection 의 train_test_split 함수를 이용해 데이터를 학습 및 평가 데이터로 나눕니다. 또한 추후에 재현할 수 있도록 random_seed 를 지정합니다."
   ],
   "id": "3057bf27a0a04df3"
  },
  {
   "metadata": {
    "ExecuteTime": {
     "end_time": "2024-07-30T05:39:20.630952Z",
     "start_time": "2024-07-30T05:39:20.587875Z"
    }
   },
   "cell_type": "code",
   "source": [
    "from sklearn.model_selection import train_test_split\n",
    "\n",
    "X_train, X_valid, y_train, y_valid = train_test_split(X, y, train_size=0.8, random_state=2022)"
   ],
   "id": "215e7ca688ef7f62",
   "outputs": [],
   "execution_count": 3
  },
  {
   "metadata": {},
   "cell_type": "markdown",
   "source": "분리된 데이터에서 학습 데이터를 X_train, y_train 에 할당하고, 평가 데이터는 X_valid, y_valid 에 할당합니다.",
   "id": "9767367f48f078b9"
  },
  {
   "metadata": {},
   "cell_type": "markdown",
   "source": [
    "## 2. 모델 개발 및 학습\n",
    "데이터를 scaling 하기 위해 sklearn.preprocessing 의 StandardScaler 를 scaler 에 할당합니다."
   ],
   "id": "548e81877c68a93e"
  },
  {
   "metadata": {
    "ExecuteTime": {
     "end_time": "2024-07-30T05:39:49.768211Z",
     "start_time": "2024-07-30T05:39:49.765581Z"
    }
   },
   "cell_type": "code",
   "source": [
    "from sklearn.preprocessing import StandardScaler\n",
    "\n",
    "scaler = StandardScaler()"
   ],
   "id": "55b4e6312d918fce",
   "outputs": [],
   "execution_count": 5
  },
  {
   "metadata": {},
   "cell_type": "markdown",
   "source": "fit 을 통해 scaler를 학습한 후 transform을 이용해 데이터를 scaling 합니다.",
   "id": "579a373859ff57e"
  },
  {
   "metadata": {
    "ExecuteTime": {
     "end_time": "2024-07-30T05:40:03.539684Z",
     "start_time": "2024-07-30T05:40:03.536109Z"
    }
   },
   "cell_type": "code",
   "source": [
    "scaled_X_train = scaler.fit_transform(X_train)\n",
    "scaled_X_valid = scaler.transform(X_valid)"
   ],
   "id": "ccea1d8bb73ae828",
   "outputs": [],
   "execution_count": 6
  },
  {
   "metadata": {},
   "cell_type": "markdown",
   "source": "scaling 전 데이터와 scaling 후 데이터를 비교하면 다음과 같습니다.",
   "id": "515f1543b7cbc2eb"
  },
  {
   "metadata": {
    "ExecuteTime": {
     "end_time": "2024-07-30T05:41:27.724740Z",
     "start_time": "2024-07-30T05:41:27.721539Z"
    }
   },
   "cell_type": "code",
   "source": [
    "print(X_train.values[0])\n",
    "print(scaled_X_train[0])\n",
    "# [4.4 3.  1.3 0.2]\n",
    "# [-1.71687346 -0.1513372  -1.37527528 -1.29070478]"
   ],
   "id": "65dd89c6c79f528f",
   "outputs": [
    {
     "name": "stdout",
     "output_type": "stream",
     "text": [
      "[4.4 3.  1.3 0.2]\n",
      "[-1.71687346 -0.1513372  -1.37527528 -1.29070478]\n"
     ]
    }
   ],
   "execution_count": 7
  },
  {
   "metadata": {
    "ExecuteTime": {
     "end_time": "2024-07-30T05:41:32.529260Z",
     "start_time": "2024-07-30T05:41:32.449440Z"
    }
   },
   "cell_type": "code",
   "source": [
    "from sklearn.svm import SVC\n",
    "\n",
    "classifier = SVC()"
   ],
   "id": "c4211a2b0772b41",
   "outputs": [],
   "execution_count": 8
  },
  {
   "metadata": {
    "ExecuteTime": {
     "end_time": "2024-07-30T05:41:36.932338Z",
     "start_time": "2024-07-30T05:41:36.920909Z"
    }
   },
   "cell_type": "code",
   "source": "classifier.fit(scaled_X_train, y_train)",
   "id": "51d916a95f13f0c3",
   "outputs": [
    {
     "data": {
      "text/plain": [
       "SVC()"
      ],
      "text/html": [
       "<style>#sk-container-id-1 {\n",
       "  /* Definition of color scheme common for light and dark mode */\n",
       "  --sklearn-color-text: black;\n",
       "  --sklearn-color-line: gray;\n",
       "  /* Definition of color scheme for unfitted estimators */\n",
       "  --sklearn-color-unfitted-level-0: #fff5e6;\n",
       "  --sklearn-color-unfitted-level-1: #f6e4d2;\n",
       "  --sklearn-color-unfitted-level-2: #ffe0b3;\n",
       "  --sklearn-color-unfitted-level-3: chocolate;\n",
       "  /* Definition of color scheme for fitted estimators */\n",
       "  --sklearn-color-fitted-level-0: #f0f8ff;\n",
       "  --sklearn-color-fitted-level-1: #d4ebff;\n",
       "  --sklearn-color-fitted-level-2: #b3dbfd;\n",
       "  --sklearn-color-fitted-level-3: cornflowerblue;\n",
       "\n",
       "  /* Specific color for light theme */\n",
       "  --sklearn-color-text-on-default-background: var(--sg-text-color, var(--theme-code-foreground, var(--jp-content-font-color1, black)));\n",
       "  --sklearn-color-background: var(--sg-background-color, var(--theme-background, var(--jp-layout-color0, white)));\n",
       "  --sklearn-color-border-box: var(--sg-text-color, var(--theme-code-foreground, var(--jp-content-font-color1, black)));\n",
       "  --sklearn-color-icon: #696969;\n",
       "\n",
       "  @media (prefers-color-scheme: dark) {\n",
       "    /* Redefinition of color scheme for dark theme */\n",
       "    --sklearn-color-text-on-default-background: var(--sg-text-color, var(--theme-code-foreground, var(--jp-content-font-color1, white)));\n",
       "    --sklearn-color-background: var(--sg-background-color, var(--theme-background, var(--jp-layout-color0, #111)));\n",
       "    --sklearn-color-border-box: var(--sg-text-color, var(--theme-code-foreground, var(--jp-content-font-color1, white)));\n",
       "    --sklearn-color-icon: #878787;\n",
       "  }\n",
       "}\n",
       "\n",
       "#sk-container-id-1 {\n",
       "  color: var(--sklearn-color-text);\n",
       "}\n",
       "\n",
       "#sk-container-id-1 pre {\n",
       "  padding: 0;\n",
       "}\n",
       "\n",
       "#sk-container-id-1 input.sk-hidden--visually {\n",
       "  border: 0;\n",
       "  clip: rect(1px 1px 1px 1px);\n",
       "  clip: rect(1px, 1px, 1px, 1px);\n",
       "  height: 1px;\n",
       "  margin: -1px;\n",
       "  overflow: hidden;\n",
       "  padding: 0;\n",
       "  position: absolute;\n",
       "  width: 1px;\n",
       "}\n",
       "\n",
       "#sk-container-id-1 div.sk-dashed-wrapped {\n",
       "  border: 1px dashed var(--sklearn-color-line);\n",
       "  margin: 0 0.4em 0.5em 0.4em;\n",
       "  box-sizing: border-box;\n",
       "  padding-bottom: 0.4em;\n",
       "  background-color: var(--sklearn-color-background);\n",
       "}\n",
       "\n",
       "#sk-container-id-1 div.sk-container {\n",
       "  /* jupyter's `normalize.less` sets `[hidden] { display: none; }`\n",
       "     but bootstrap.min.css set `[hidden] { display: none !important; }`\n",
       "     so we also need the `!important` here to be able to override the\n",
       "     default hidden behavior on the sphinx rendered scikit-learn.org.\n",
       "     See: https://github.com/scikit-learn/scikit-learn/issues/21755 */\n",
       "  display: inline-block !important;\n",
       "  position: relative;\n",
       "}\n",
       "\n",
       "#sk-container-id-1 div.sk-text-repr-fallback {\n",
       "  display: none;\n",
       "}\n",
       "\n",
       "div.sk-parallel-item,\n",
       "div.sk-serial,\n",
       "div.sk-item {\n",
       "  /* draw centered vertical line to link estimators */\n",
       "  background-image: linear-gradient(var(--sklearn-color-text-on-default-background), var(--sklearn-color-text-on-default-background));\n",
       "  background-size: 2px 100%;\n",
       "  background-repeat: no-repeat;\n",
       "  background-position: center center;\n",
       "}\n",
       "\n",
       "/* Parallel-specific style estimator block */\n",
       "\n",
       "#sk-container-id-1 div.sk-parallel-item::after {\n",
       "  content: \"\";\n",
       "  width: 100%;\n",
       "  border-bottom: 2px solid var(--sklearn-color-text-on-default-background);\n",
       "  flex-grow: 1;\n",
       "}\n",
       "\n",
       "#sk-container-id-1 div.sk-parallel {\n",
       "  display: flex;\n",
       "  align-items: stretch;\n",
       "  justify-content: center;\n",
       "  background-color: var(--sklearn-color-background);\n",
       "  position: relative;\n",
       "}\n",
       "\n",
       "#sk-container-id-1 div.sk-parallel-item {\n",
       "  display: flex;\n",
       "  flex-direction: column;\n",
       "}\n",
       "\n",
       "#sk-container-id-1 div.sk-parallel-item:first-child::after {\n",
       "  align-self: flex-end;\n",
       "  width: 50%;\n",
       "}\n",
       "\n",
       "#sk-container-id-1 div.sk-parallel-item:last-child::after {\n",
       "  align-self: flex-start;\n",
       "  width: 50%;\n",
       "}\n",
       "\n",
       "#sk-container-id-1 div.sk-parallel-item:only-child::after {\n",
       "  width: 0;\n",
       "}\n",
       "\n",
       "/* Serial-specific style estimator block */\n",
       "\n",
       "#sk-container-id-1 div.sk-serial {\n",
       "  display: flex;\n",
       "  flex-direction: column;\n",
       "  align-items: center;\n",
       "  background-color: var(--sklearn-color-background);\n",
       "  padding-right: 1em;\n",
       "  padding-left: 1em;\n",
       "}\n",
       "\n",
       "\n",
       "/* Toggleable style: style used for estimator/Pipeline/ColumnTransformer box that is\n",
       "clickable and can be expanded/collapsed.\n",
       "- Pipeline and ColumnTransformer use this feature and define the default style\n",
       "- Estimators will overwrite some part of the style using the `sk-estimator` class\n",
       "*/\n",
       "\n",
       "/* Pipeline and ColumnTransformer style (default) */\n",
       "\n",
       "#sk-container-id-1 div.sk-toggleable {\n",
       "  /* Default theme specific background. It is overwritten whether we have a\n",
       "  specific estimator or a Pipeline/ColumnTransformer */\n",
       "  background-color: var(--sklearn-color-background);\n",
       "}\n",
       "\n",
       "/* Toggleable label */\n",
       "#sk-container-id-1 label.sk-toggleable__label {\n",
       "  cursor: pointer;\n",
       "  display: block;\n",
       "  width: 100%;\n",
       "  margin-bottom: 0;\n",
       "  padding: 0.5em;\n",
       "  box-sizing: border-box;\n",
       "  text-align: center;\n",
       "}\n",
       "\n",
       "#sk-container-id-1 label.sk-toggleable__label-arrow:before {\n",
       "  /* Arrow on the left of the label */\n",
       "  content: \"▸\";\n",
       "  float: left;\n",
       "  margin-right: 0.25em;\n",
       "  color: var(--sklearn-color-icon);\n",
       "}\n",
       "\n",
       "#sk-container-id-1 label.sk-toggleable__label-arrow:hover:before {\n",
       "  color: var(--sklearn-color-text);\n",
       "}\n",
       "\n",
       "/* Toggleable content - dropdown */\n",
       "\n",
       "#sk-container-id-1 div.sk-toggleable__content {\n",
       "  max-height: 0;\n",
       "  max-width: 0;\n",
       "  overflow: hidden;\n",
       "  text-align: left;\n",
       "  /* unfitted */\n",
       "  background-color: var(--sklearn-color-unfitted-level-0);\n",
       "}\n",
       "\n",
       "#sk-container-id-1 div.sk-toggleable__content.fitted {\n",
       "  /* fitted */\n",
       "  background-color: var(--sklearn-color-fitted-level-0);\n",
       "}\n",
       "\n",
       "#sk-container-id-1 div.sk-toggleable__content pre {\n",
       "  margin: 0.2em;\n",
       "  border-radius: 0.25em;\n",
       "  color: var(--sklearn-color-text);\n",
       "  /* unfitted */\n",
       "  background-color: var(--sklearn-color-unfitted-level-0);\n",
       "}\n",
       "\n",
       "#sk-container-id-1 div.sk-toggleable__content.fitted pre {\n",
       "  /* unfitted */\n",
       "  background-color: var(--sklearn-color-fitted-level-0);\n",
       "}\n",
       "\n",
       "#sk-container-id-1 input.sk-toggleable__control:checked~div.sk-toggleable__content {\n",
       "  /* Expand drop-down */\n",
       "  max-height: 200px;\n",
       "  max-width: 100%;\n",
       "  overflow: auto;\n",
       "}\n",
       "\n",
       "#sk-container-id-1 input.sk-toggleable__control:checked~label.sk-toggleable__label-arrow:before {\n",
       "  content: \"▾\";\n",
       "}\n",
       "\n",
       "/* Pipeline/ColumnTransformer-specific style */\n",
       "\n",
       "#sk-container-id-1 div.sk-label input.sk-toggleable__control:checked~label.sk-toggleable__label {\n",
       "  color: var(--sklearn-color-text);\n",
       "  background-color: var(--sklearn-color-unfitted-level-2);\n",
       "}\n",
       "\n",
       "#sk-container-id-1 div.sk-label.fitted input.sk-toggleable__control:checked~label.sk-toggleable__label {\n",
       "  background-color: var(--sklearn-color-fitted-level-2);\n",
       "}\n",
       "\n",
       "/* Estimator-specific style */\n",
       "\n",
       "/* Colorize estimator box */\n",
       "#sk-container-id-1 div.sk-estimator input.sk-toggleable__control:checked~label.sk-toggleable__label {\n",
       "  /* unfitted */\n",
       "  background-color: var(--sklearn-color-unfitted-level-2);\n",
       "}\n",
       "\n",
       "#sk-container-id-1 div.sk-estimator.fitted input.sk-toggleable__control:checked~label.sk-toggleable__label {\n",
       "  /* fitted */\n",
       "  background-color: var(--sklearn-color-fitted-level-2);\n",
       "}\n",
       "\n",
       "#sk-container-id-1 div.sk-label label.sk-toggleable__label,\n",
       "#sk-container-id-1 div.sk-label label {\n",
       "  /* The background is the default theme color */\n",
       "  color: var(--sklearn-color-text-on-default-background);\n",
       "}\n",
       "\n",
       "/* On hover, darken the color of the background */\n",
       "#sk-container-id-1 div.sk-label:hover label.sk-toggleable__label {\n",
       "  color: var(--sklearn-color-text);\n",
       "  background-color: var(--sklearn-color-unfitted-level-2);\n",
       "}\n",
       "\n",
       "/* Label box, darken color on hover, fitted */\n",
       "#sk-container-id-1 div.sk-label.fitted:hover label.sk-toggleable__label.fitted {\n",
       "  color: var(--sklearn-color-text);\n",
       "  background-color: var(--sklearn-color-fitted-level-2);\n",
       "}\n",
       "\n",
       "/* Estimator label */\n",
       "\n",
       "#sk-container-id-1 div.sk-label label {\n",
       "  font-family: monospace;\n",
       "  font-weight: bold;\n",
       "  display: inline-block;\n",
       "  line-height: 1.2em;\n",
       "}\n",
       "\n",
       "#sk-container-id-1 div.sk-label-container {\n",
       "  text-align: center;\n",
       "}\n",
       "\n",
       "/* Estimator-specific */\n",
       "#sk-container-id-1 div.sk-estimator {\n",
       "  font-family: monospace;\n",
       "  border: 1px dotted var(--sklearn-color-border-box);\n",
       "  border-radius: 0.25em;\n",
       "  box-sizing: border-box;\n",
       "  margin-bottom: 0.5em;\n",
       "  /* unfitted */\n",
       "  background-color: var(--sklearn-color-unfitted-level-0);\n",
       "}\n",
       "\n",
       "#sk-container-id-1 div.sk-estimator.fitted {\n",
       "  /* fitted */\n",
       "  background-color: var(--sklearn-color-fitted-level-0);\n",
       "}\n",
       "\n",
       "/* on hover */\n",
       "#sk-container-id-1 div.sk-estimator:hover {\n",
       "  /* unfitted */\n",
       "  background-color: var(--sklearn-color-unfitted-level-2);\n",
       "}\n",
       "\n",
       "#sk-container-id-1 div.sk-estimator.fitted:hover {\n",
       "  /* fitted */\n",
       "  background-color: var(--sklearn-color-fitted-level-2);\n",
       "}\n",
       "\n",
       "/* Specification for estimator info (e.g. \"i\" and \"?\") */\n",
       "\n",
       "/* Common style for \"i\" and \"?\" */\n",
       "\n",
       ".sk-estimator-doc-link,\n",
       "a:link.sk-estimator-doc-link,\n",
       "a:visited.sk-estimator-doc-link {\n",
       "  float: right;\n",
       "  font-size: smaller;\n",
       "  line-height: 1em;\n",
       "  font-family: monospace;\n",
       "  background-color: var(--sklearn-color-background);\n",
       "  border-radius: 1em;\n",
       "  height: 1em;\n",
       "  width: 1em;\n",
       "  text-decoration: none !important;\n",
       "  margin-left: 1ex;\n",
       "  /* unfitted */\n",
       "  border: var(--sklearn-color-unfitted-level-1) 1pt solid;\n",
       "  color: var(--sklearn-color-unfitted-level-1);\n",
       "}\n",
       "\n",
       ".sk-estimator-doc-link.fitted,\n",
       "a:link.sk-estimator-doc-link.fitted,\n",
       "a:visited.sk-estimator-doc-link.fitted {\n",
       "  /* fitted */\n",
       "  border: var(--sklearn-color-fitted-level-1) 1pt solid;\n",
       "  color: var(--sklearn-color-fitted-level-1);\n",
       "}\n",
       "\n",
       "/* On hover */\n",
       "div.sk-estimator:hover .sk-estimator-doc-link:hover,\n",
       ".sk-estimator-doc-link:hover,\n",
       "div.sk-label-container:hover .sk-estimator-doc-link:hover,\n",
       ".sk-estimator-doc-link:hover {\n",
       "  /* unfitted */\n",
       "  background-color: var(--sklearn-color-unfitted-level-3);\n",
       "  color: var(--sklearn-color-background);\n",
       "  text-decoration: none;\n",
       "}\n",
       "\n",
       "div.sk-estimator.fitted:hover .sk-estimator-doc-link.fitted:hover,\n",
       ".sk-estimator-doc-link.fitted:hover,\n",
       "div.sk-label-container:hover .sk-estimator-doc-link.fitted:hover,\n",
       ".sk-estimator-doc-link.fitted:hover {\n",
       "  /* fitted */\n",
       "  background-color: var(--sklearn-color-fitted-level-3);\n",
       "  color: var(--sklearn-color-background);\n",
       "  text-decoration: none;\n",
       "}\n",
       "\n",
       "/* Span, style for the box shown on hovering the info icon */\n",
       ".sk-estimator-doc-link span {\n",
       "  display: none;\n",
       "  z-index: 9999;\n",
       "  position: relative;\n",
       "  font-weight: normal;\n",
       "  right: .2ex;\n",
       "  padding: .5ex;\n",
       "  margin: .5ex;\n",
       "  width: min-content;\n",
       "  min-width: 20ex;\n",
       "  max-width: 50ex;\n",
       "  color: var(--sklearn-color-text);\n",
       "  box-shadow: 2pt 2pt 4pt #999;\n",
       "  /* unfitted */\n",
       "  background: var(--sklearn-color-unfitted-level-0);\n",
       "  border: .5pt solid var(--sklearn-color-unfitted-level-3);\n",
       "}\n",
       "\n",
       ".sk-estimator-doc-link.fitted span {\n",
       "  /* fitted */\n",
       "  background: var(--sklearn-color-fitted-level-0);\n",
       "  border: var(--sklearn-color-fitted-level-3);\n",
       "}\n",
       "\n",
       ".sk-estimator-doc-link:hover span {\n",
       "  display: block;\n",
       "}\n",
       "\n",
       "/* \"?\"-specific style due to the `<a>` HTML tag */\n",
       "\n",
       "#sk-container-id-1 a.estimator_doc_link {\n",
       "  float: right;\n",
       "  font-size: 1rem;\n",
       "  line-height: 1em;\n",
       "  font-family: monospace;\n",
       "  background-color: var(--sklearn-color-background);\n",
       "  border-radius: 1rem;\n",
       "  height: 1rem;\n",
       "  width: 1rem;\n",
       "  text-decoration: none;\n",
       "  /* unfitted */\n",
       "  color: var(--sklearn-color-unfitted-level-1);\n",
       "  border: var(--sklearn-color-unfitted-level-1) 1pt solid;\n",
       "}\n",
       "\n",
       "#sk-container-id-1 a.estimator_doc_link.fitted {\n",
       "  /* fitted */\n",
       "  border: var(--sklearn-color-fitted-level-1) 1pt solid;\n",
       "  color: var(--sklearn-color-fitted-level-1);\n",
       "}\n",
       "\n",
       "/* On hover */\n",
       "#sk-container-id-1 a.estimator_doc_link:hover {\n",
       "  /* unfitted */\n",
       "  background-color: var(--sklearn-color-unfitted-level-3);\n",
       "  color: var(--sklearn-color-background);\n",
       "  text-decoration: none;\n",
       "}\n",
       "\n",
       "#sk-container-id-1 a.estimator_doc_link.fitted:hover {\n",
       "  /* fitted */\n",
       "  background-color: var(--sklearn-color-fitted-level-3);\n",
       "}\n",
       "</style><div id=\"sk-container-id-1\" class=\"sk-top-container\"><div class=\"sk-text-repr-fallback\"><pre>SVC()</pre><b>In a Jupyter environment, please rerun this cell to show the HTML representation or trust the notebook. <br />On GitHub, the HTML representation is unable to render, please try loading this page with nbviewer.org.</b></div><div class=\"sk-container\" hidden><div class=\"sk-item\"><div class=\"sk-estimator fitted sk-toggleable\"><input class=\"sk-toggleable__control sk-hidden--visually\" id=\"sk-estimator-id-1\" type=\"checkbox\" checked><label for=\"sk-estimator-id-1\" class=\"sk-toggleable__label fitted sk-toggleable__label-arrow fitted\">&nbsp;&nbsp;SVC<a class=\"sk-estimator-doc-link fitted\" rel=\"noreferrer\" target=\"_blank\" href=\"https://scikit-learn.org/1.5/modules/generated/sklearn.svm.SVC.html\">?<span>Documentation for SVC</span></a><span class=\"sk-estimator-doc-link fitted\">i<span>Fitted</span></span></label><div class=\"sk-toggleable__content fitted\"><pre>SVC()</pre></div> </div></div></div></div>"
      ]
     },
     "execution_count": 9,
     "metadata": {},
     "output_type": "execute_result"
    }
   ],
   "execution_count": 9
  },
  {
   "metadata": {},
   "cell_type": "markdown",
   "source": [
    "predict 함수를 통해 주어진 데이터에 대한 예측값을 얻을 수 있습니다. 이 때 SVC 를 scaling 이 된 데이터를 사용했기 때문에 scaled_X_train 과 scaled_X_valid 를 통해 예측을 해야 합니다.\n",
    "\n"
   ],
   "id": "8356cbf03dfff378"
  },
  {
   "metadata": {
    "ExecuteTime": {
     "end_time": "2024-07-30T05:41:49.788523Z",
     "start_time": "2024-07-30T05:41:49.782262Z"
    }
   },
   "cell_type": "code",
   "source": [
    "train_pred = classifier.predict(scaled_X_train)\n",
    "valid_pred = classifier.predict(scaled_X_valid)"
   ],
   "id": "d15cf8d59520d570",
   "outputs": [],
   "execution_count": 11
  },
  {
   "metadata": {},
   "cell_type": "markdown",
   "source": [
    "학습 데이터와 평가 데이터에 대해서 예측을 진행하여 각각 train_pred 와 valid_pred 에 할당합니다.\n",
    "\n",
    "이제 정확도를 계산해야 합니다. 정확도는 sklearn.metrics 에서 제공하는 accuracy_score 를 이용하여 계산해 보겠습니다.\n",
    "\n"
   ],
   "id": "b2a055a97fa9de5e"
  },
  {
   "metadata": {
    "ExecuteTime": {
     "end_time": "2024-07-30T05:42:01.357672Z",
     "start_time": "2024-07-30T05:42:01.353862Z"
    }
   },
   "cell_type": "code",
   "source": [
    "from sklearn.metrics import accuracy_score\n",
    "\n",
    "train_acc = accuracy_score(y_true=y_train, y_pred=train_pred)\n",
    "valid_acc = accuracy_score(y_true=y_valid, y_pred=valid_pred)"
   ],
   "id": "2d47055a884d0d6a",
   "outputs": [],
   "execution_count": 12
  },
  {
   "metadata": {
    "ExecuteTime": {
     "end_time": "2024-07-30T05:42:06.509333Z",
     "start_time": "2024-07-30T05:42:06.506859Z"
    }
   },
   "cell_type": "code",
   "source": [
    "print(\"Train Accuracy :\", train_acc)\n",
    "print(\"Valid Accuracy :\", valid_acc)\n",
    "# Train Accuracy : 0.9833333333333333\n",
    "# Valid Accuracy : 0.9666666666666667"
   ],
   "id": "df819dc7e1f32988",
   "outputs": [
    {
     "name": "stdout",
     "output_type": "stream",
     "text": [
      "Train Accuracy : 0.9833333333333333\n",
      "Valid Accuracy : 0.9666666666666667\n"
     ]
    }
   ],
   "execution_count": 13
  },
  {
   "metadata": {
    "ExecuteTime": {
     "end_time": "2024-07-30T05:42:12.921269Z",
     "start_time": "2024-07-30T05:42:12.915430Z"
    }
   },
   "cell_type": "code",
   "source": [
    "train_pred = classifier.predict(X_train)\n",
    "valid_pred = classifier.predict(X_valid)\n",
    "\n",
    "train_acc = accuracy_score(y_true=y_train, y_pred=train_pred)\n",
    "valid_acc = accuracy_score(y_true=y_valid, y_pred=valid_pred)\n",
    "\n",
    "print(\"Train Accuracy :\", train_acc)\n",
    "print(\"Valid Accuracy :\", valid_acc)\n",
    "# Train Accuracy : 0.23333333333333334\n",
    "# Valid Accuracy : 0.23333333333333334"
   ],
   "id": "f49151145fbbabe5",
   "outputs": [
    {
     "name": "stdout",
     "output_type": "stream",
     "text": [
      "Train Accuracy : 0.23333333333333334\n",
      "Valid Accuracy : 0.23333333333333334\n"
     ]
    },
    {
     "name": "stderr",
     "output_type": "stream",
     "text": [
      "/opt/homebrew/Caskroom/miniforge/base/envs/MLOps/lib/python3.12/site-packages/sklearn/base.py:486: UserWarning: X has feature names, but SVC was fitted without feature names\n",
      "  warnings.warn(\n",
      "/opt/homebrew/Caskroom/miniforge/base/envs/MLOps/lib/python3.12/site-packages/sklearn/base.py:486: UserWarning: X has feature names, but SVC was fitted without feature names\n",
      "  warnings.warn(\n"
     ]
    }
   ],
   "execution_count": 14
  },
  {
   "metadata": {},
   "cell_type": "markdown",
   "source": [
    "## 3. 학습된 모델 저장\n",
    "scikit-learn 에서 공식적으로 권장하는 모델 저장 방법은 joblib 패키지를 이용하는 것입니다. [Scikit-Learn Model Presistence]"
   ],
   "id": "dc5da200042b3f91"
  },
  {
   "metadata": {
    "ExecuteTime": {
     "end_time": "2024-07-30T05:42:30.253428Z",
     "start_time": "2024-07-30T05:42:30.247847Z"
    }
   },
   "cell_type": "code",
   "source": [
    "import joblib\n",
    "\n",
    "joblib.dump(scaler, \"scaler.joblib\")\n",
    "joblib.dump(classifier, \"classifier.joblib\")"
   ],
   "id": "ae65be062e13ebd2",
   "outputs": [
    {
     "data": {
      "text/plain": [
       "['classifier.joblib']"
      ]
     },
     "execution_count": 15,
     "metadata": {},
     "output_type": "execute_result"
    }
   ],
   "execution_count": 15
  },
  {
   "metadata": {},
   "cell_type": "markdown",
   "source": [
    "## 4. 저장된 모델 불러오기\n",
    "모델이 정상적으로 저장 되었는지 확인해보도록 하겠습니다. 우선, 학습할 때 나눈 데이터를 똑같이 재현합니다."
   ],
   "id": "bab8143945031101"
  },
  {
   "metadata": {
    "ExecuteTime": {
     "end_time": "2024-07-30T05:42:57.553787Z",
     "start_time": "2024-07-30T05:42:57.544523Z"
    }
   },
   "cell_type": "code",
   "source": [
    "from sklearn.datasets import load_iris\n",
    "from sklearn.model_selection import train_test_split\n",
    "\n",
    "X, y = load_iris(return_X_y=True, as_frame=True)\n",
    "X_train, X_valid, y_train, y_valid = train_test_split(X, y, train_size=0.8, random_state=2022)"
   ],
   "id": "a92f96b5ae223f78",
   "outputs": [],
   "execution_count": 16
  },
  {
   "metadata": {
    "ExecuteTime": {
     "end_time": "2024-07-30T05:43:02.491193Z",
     "start_time": "2024-07-30T05:43:02.486859Z"
    }
   },
   "cell_type": "code",
   "source": [
    "import joblib\n",
    "\n",
    "scaler_load = joblib.load(\"scaler.joblib\")\n",
    "classifier_load = joblib.load(\"classifier.joblib\")"
   ],
   "id": "5a4a8cf97f278d54",
   "outputs": [],
   "execution_count": 17
  },
  {
   "metadata": {
    "ExecuteTime": {
     "end_time": "2024-07-30T05:43:06.999754Z",
     "start_time": "2024-07-30T05:43:06.997055Z"
    }
   },
   "cell_type": "code",
   "source": [
    "scaled_X_train = scaler_load.transform(X_train)\n",
    "scaled_X_valid = scaler_load.transform(X_valid)"
   ],
   "id": "ac0198c3bc434218",
   "outputs": [],
   "execution_count": 18
  },
  {
   "metadata": {
    "ExecuteTime": {
     "end_time": "2024-07-30T05:43:11.529051Z",
     "start_time": "2024-07-30T05:43:11.526424Z"
    }
   },
   "cell_type": "code",
   "source": [
    "load_train_pred = classifier_load.predict(scaled_X_train)\n",
    "load_valid_pred = classifier_load.predict(scaled_X_valid)"
   ],
   "id": "51b434067ac97ccf",
   "outputs": [],
   "execution_count": 19
  },
  {
   "metadata": {
    "ExecuteTime": {
     "end_time": "2024-07-30T05:43:17.099267Z",
     "start_time": "2024-07-30T05:43:17.096009Z"
    }
   },
   "cell_type": "code",
   "source": [
    "from sklearn.metrics import accuracy_score\n",
    "\n",
    "load_train_acc = accuracy_score(y_true=y_train, y_pred=load_train_pred)\n",
    "load_valid_acc = accuracy_score(y_true=y_valid, y_pred=load_valid_pred)"
   ],
   "id": "93989d9ffa86fdba",
   "outputs": [],
   "execution_count": 20
  },
  {
   "metadata": {
    "ExecuteTime": {
     "end_time": "2024-07-30T05:43:20.840035Z",
     "start_time": "2024-07-30T05:43:20.837874Z"
    }
   },
   "cell_type": "code",
   "source": [
    "print(\"Load Model Train Accuracy :\", load_train_acc)\n",
    "print(\"Load Model Valid Accuracy :\", load_valid_acc)\n",
    "# Train Accuracy : 0.9833333333333333\n",
    "# Valid Accuracy : 0.9666666666666667"
   ],
   "id": "d478dfe3f5f024cc",
   "outputs": [
    {
     "name": "stdout",
     "output_type": "stream",
     "text": [
      "Load Model Train Accuracy : 0.9833333333333333\n",
      "Load Model Valid Accuracy : 0.9666666666666667\n"
     ]
    }
   ],
   "execution_count": 21
  },
  {
   "metadata": {},
   "cell_type": "markdown",
   "source": [
    "## 5. 전체 코드\n",
    "위에서 설명한 코드를 base_train.py, base_validate_save_model.py 로 나눠서 작성할 수 있습니다.\n",
    "\n",
    "<br><br>\n",
    "   \n",
    "### 5.1 base_train.py\n",
    "우선 학습 및 데이터 저장을 위한 코드들을 모은 base_train.py 입니다."
   ],
   "id": "7ee9a4aead9a816a"
  },
  {
   "metadata": {
    "ExecuteTime": {
     "end_time": "2024-07-30T05:46:50.379898Z",
     "start_time": "2024-07-30T05:46:50.375753Z"
    }
   },
   "cell_type": "code",
   "source": [
    "%%writefile base_train.py\n",
    "\n",
    "# base_train.py\n",
    "import joblib\n",
    "from sklearn.datasets import load_iris\n",
    "from sklearn.metrics import accuracy_score\n",
    "from sklearn.model_selection import train_test_split\n",
    "from sklearn.preprocessing import StandardScaler\n",
    "from sklearn.svm import SVC\n",
    "\n",
    "# 1. get data\n",
    "X, y = load_iris(return_X_y=True, as_frame=True)\n",
    "X_train, X_valid, y_train, y_valid = train_test_split(X, y, train_size=0.8, random_state=2022)\n",
    "\n",
    "# 2. model development and train\n",
    "scaler = StandardScaler()\n",
    "classifier = SVC()\n",
    "\n",
    "scaled_X_train = scaler.fit_transform(X_train)\n",
    "scaled_X_valid = scaler.transform(X_valid)\n",
    "classifier.fit(scaled_X_train, y_train)\n",
    "\n",
    "train_pred = classifier.predict(scaled_X_train)\n",
    "valid_pred = classifier.predict(scaled_X_valid)\n",
    "\n",
    "train_acc = accuracy_score(y_true=y_train, y_pred=train_pred)\n",
    "valid_acc = accuracy_score(y_true=y_valid, y_pred=valid_pred)\n",
    "\n",
    "print(\"Train Accuracy :\", train_acc)\n",
    "print(\"Valid Accuracy :\", valid_acc)\n",
    "\n",
    "# 3. save model\n",
    "joblib.dump(scaler, \"scaler.joblib\")\n",
    "joblib.dump(classifier, \"classifier.joblib\")"
   ],
   "id": "55bd8c4f455ea7fa",
   "outputs": [
    {
     "name": "stdout",
     "output_type": "stream",
     "text": [
      "Overwriting base_train.py\n"
     ]
    }
   ],
   "execution_count": 26
  },
  {
   "metadata": {},
   "cell_type": "markdown",
   "source": [
    "### 5.2 base_validate_save_model.py\n",
    "다음은 저장된 모델을 검증하는 base_validate_save_model.py 입니다."
   ],
   "id": "bfdef09c8f012b94"
  },
  {
   "metadata": {
    "ExecuteTime": {
     "end_time": "2024-07-30T05:47:00.250104Z",
     "start_time": "2024-07-30T05:47:00.244962Z"
    }
   },
   "cell_type": "code",
   "source": [
    "%%writefile base_validate_save_model.py\n",
    "# base_validate_save_model.py\n",
    "\n",
    "import joblib\n",
    "from sklearn.datasets import load_iris\n",
    "from sklearn.metrics import accuracy_score\n",
    "from sklearn.model_selection import train_test_split\n",
    "\n",
    "# 1. reproduce data\n",
    "X, y = load_iris(return_X_y=True, as_frame=True)\n",
    "X_train, X_valid, y_train, y_valid = train_test_split(X, y, train_size=0.8, random_state=2022)\n",
    "\n",
    "# 2. load model\n",
    "scaler_load = joblib.load(\"scaler.joblib\")\n",
    "classifier_load = joblib.load(\"classifier.joblib\")\n",
    "\n",
    "# 3. validate\n",
    "scaled_X_train = scaler_load.transform(X_train)\n",
    "scaled_X_valid = scaler_load.transform(X_valid)\n",
    "\n",
    "load_train_pred = classifier_load.predict(scaled_X_train)\n",
    "load_valid_pred = classifier_load.predict(scaled_X_valid)\n",
    "\n",
    "load_train_acc = accuracy_score(y_true=y_train, y_pred=load_train_pred)\n",
    "load_valid_acc = accuracy_score(y_true=y_valid, y_pred=load_valid_pred)\n",
    "\n",
    "print(\"Load Model Train Accuracy :\", load_train_acc)\n",
    "print(\"Load Model Valid Accuracy :\", load_valid_acc)"
   ],
   "id": "cc79d830490d8201",
   "outputs": [
    {
     "name": "stdout",
     "output_type": "stream",
     "text": [
      "Writing base_validate_save_model.py\n"
     ]
    }
   ],
   "execution_count": 27
  },
  {
   "metadata": {},
   "cell_type": "markdown",
   "source": "# Model Pipeline",
   "id": "9bfcdcd1c43bda20"
  },
  {
   "metadata": {},
   "cell_type": "markdown",
   "source": [
    "## 목표\n",
    "- 여러 개의 모델들을 하나의 파이프라인으로 작성합니다.\n",
    "\n",
    "## 스펙 명세서\n",
    "1. 모델들의 파이프라인화\n",
    "- scikit-learn 에 있는 pipeline 을 이용합니다.\n",
    "2. 저장된 파이프라인 검증\n",
    "- 저장된 파이프라인이 정상적으로 동작하는지 확인합니다.\n",
    "\n",
    "해당 파트의 전체 코드는 [mlops-for-mle/part2/](https://github.com/mlops-for-mle/mlops-for-mle/tree/main/part2) 에서 확인할 수 있습니다."
   ],
   "id": "a899fc70fb6f31ce"
  },
  {
   "metadata": {},
   "cell_type": "markdown",
   "source": "",
   "id": "4c8cc1c5401a4342"
  },
  {
   "metadata": {},
   "cell_type": "code",
   "outputs": [],
   "execution_count": null,
   "source": [
    "part2\n",
    "├── Makefile\n",
    "├── README.md\n",
    "├── base_train.py\n",
    "├── base_validate_save_model.py\n",
    "├── db_train.py\n",
    "├── db_validate_save_model.py\n",
    "// highlight-next-line\n",
    "├── pipeline_train.py\n",
    "// highlight-next-line\n",
    "└── pipeline_validate_save_model.py"
   ],
   "id": "3f1346808739443c"
  },
  {
   "metadata": {},
   "cell_type": "markdown",
   "source": [
    "# 1. Model Pipeline\n",
    "\n",
    "## 1.1 Scaler & SVC\n",
    "\n",
    "1) Base Model Development 챕터에서 예측을 위해 사용한 모델은 scaler 와 SVC 두 가지가 있었습니다. 또한 SVC 가 정상적으로 예측하기 위해서는 scaler 가 필요하다는 것도 알아 보았습니다. 즉 SVC 모델을 사용하기 위해서는 아래와 같이 사용해야 합니다.\n",
    "\n"
   ],
   "id": "b5ee92eb475ff83c"
  },
  {
   "metadata": {
    "ExecuteTime": {
     "end_time": "2024-07-30T05:49:54.055746Z",
     "start_time": "2024-07-30T05:49:54.050696Z"
    }
   },
   "cell_type": "code",
   "source": [
    "scaled_X_train = scaler.transform(X_train)\n",
    "train_pred = classifier.predict(scaled_X_train)"
   ],
   "id": "d3b660c7ed2ebd4e",
   "outputs": [],
   "execution_count": 29
  },
  {
   "metadata": {
    "ExecuteTime": {
     "end_time": "2024-07-30T05:50:17.926458Z",
     "start_time": "2024-07-30T05:50:17.924553Z"
    }
   },
   "cell_type": "code",
   "source": "# model_pipeline.predict(X_train)",
   "id": "2639df5c1cf4d286",
   "outputs": [],
   "execution_count": 32
  },
  {
   "metadata": {},
   "cell_type": "markdown",
   "source": [
    "## 1.2 Code\n",
    "직접 모델들을 파이프라인으로 작성해 보겠습니다.\n",
    "\n",
    "sklearn.pipeline 의 Pipeline 을 통해 파이프라인을 작성할 수 있습니다. 이 때 파이프라인 안에 들어가는 값은 리스트이며 리스트 안에는 (모델 이름, 모델 객체) 가 값으로 들어갑니다."
   ],
   "id": "2e97fe1c0dcc94b2"
  },
  {
   "metadata": {
    "ExecuteTime": {
     "end_time": "2024-07-30T05:50:33.756067Z",
     "start_time": "2024-07-30T05:50:33.751175Z"
    }
   },
   "cell_type": "code",
   "source": [
    "from sklearn.preprocessing import StandardScaler\n",
    "from sklearn.pipeline import Pipeline\n",
    "from sklearn.svm import SVC\n",
    "\n",
    "model_pipeline = Pipeline([(\"scaler\", StandardScaler()), (\"svc\", SVC())])"
   ],
   "id": "6ccdcf694f634171",
   "outputs": [],
   "execution_count": 34
  },
  {
   "metadata": {
    "ExecuteTime": {
     "end_time": "2024-07-30T05:50:54.465167Z",
     "start_time": "2024-07-30T05:50:54.458696Z"
    }
   },
   "cell_type": "code",
   "source": "model_pipeline.fit(X_train, y_train)",
   "id": "7fbbcc54282fad0",
   "outputs": [
    {
     "data": {
      "text/plain": [
       "Pipeline(steps=[('scaler', StandardScaler()), ('svc', SVC())])"
      ],
      "text/html": [
       "<style>#sk-container-id-2 {\n",
       "  /* Definition of color scheme common for light and dark mode */\n",
       "  --sklearn-color-text: black;\n",
       "  --sklearn-color-line: gray;\n",
       "  /* Definition of color scheme for unfitted estimators */\n",
       "  --sklearn-color-unfitted-level-0: #fff5e6;\n",
       "  --sklearn-color-unfitted-level-1: #f6e4d2;\n",
       "  --sklearn-color-unfitted-level-2: #ffe0b3;\n",
       "  --sklearn-color-unfitted-level-3: chocolate;\n",
       "  /* Definition of color scheme for fitted estimators */\n",
       "  --sklearn-color-fitted-level-0: #f0f8ff;\n",
       "  --sklearn-color-fitted-level-1: #d4ebff;\n",
       "  --sklearn-color-fitted-level-2: #b3dbfd;\n",
       "  --sklearn-color-fitted-level-3: cornflowerblue;\n",
       "\n",
       "  /* Specific color for light theme */\n",
       "  --sklearn-color-text-on-default-background: var(--sg-text-color, var(--theme-code-foreground, var(--jp-content-font-color1, black)));\n",
       "  --sklearn-color-background: var(--sg-background-color, var(--theme-background, var(--jp-layout-color0, white)));\n",
       "  --sklearn-color-border-box: var(--sg-text-color, var(--theme-code-foreground, var(--jp-content-font-color1, black)));\n",
       "  --sklearn-color-icon: #696969;\n",
       "\n",
       "  @media (prefers-color-scheme: dark) {\n",
       "    /* Redefinition of color scheme for dark theme */\n",
       "    --sklearn-color-text-on-default-background: var(--sg-text-color, var(--theme-code-foreground, var(--jp-content-font-color1, white)));\n",
       "    --sklearn-color-background: var(--sg-background-color, var(--theme-background, var(--jp-layout-color0, #111)));\n",
       "    --sklearn-color-border-box: var(--sg-text-color, var(--theme-code-foreground, var(--jp-content-font-color1, white)));\n",
       "    --sklearn-color-icon: #878787;\n",
       "  }\n",
       "}\n",
       "\n",
       "#sk-container-id-2 {\n",
       "  color: var(--sklearn-color-text);\n",
       "}\n",
       "\n",
       "#sk-container-id-2 pre {\n",
       "  padding: 0;\n",
       "}\n",
       "\n",
       "#sk-container-id-2 input.sk-hidden--visually {\n",
       "  border: 0;\n",
       "  clip: rect(1px 1px 1px 1px);\n",
       "  clip: rect(1px, 1px, 1px, 1px);\n",
       "  height: 1px;\n",
       "  margin: -1px;\n",
       "  overflow: hidden;\n",
       "  padding: 0;\n",
       "  position: absolute;\n",
       "  width: 1px;\n",
       "}\n",
       "\n",
       "#sk-container-id-2 div.sk-dashed-wrapped {\n",
       "  border: 1px dashed var(--sklearn-color-line);\n",
       "  margin: 0 0.4em 0.5em 0.4em;\n",
       "  box-sizing: border-box;\n",
       "  padding-bottom: 0.4em;\n",
       "  background-color: var(--sklearn-color-background);\n",
       "}\n",
       "\n",
       "#sk-container-id-2 div.sk-container {\n",
       "  /* jupyter's `normalize.less` sets `[hidden] { display: none; }`\n",
       "     but bootstrap.min.css set `[hidden] { display: none !important; }`\n",
       "     so we also need the `!important` here to be able to override the\n",
       "     default hidden behavior on the sphinx rendered scikit-learn.org.\n",
       "     See: https://github.com/scikit-learn/scikit-learn/issues/21755 */\n",
       "  display: inline-block !important;\n",
       "  position: relative;\n",
       "}\n",
       "\n",
       "#sk-container-id-2 div.sk-text-repr-fallback {\n",
       "  display: none;\n",
       "}\n",
       "\n",
       "div.sk-parallel-item,\n",
       "div.sk-serial,\n",
       "div.sk-item {\n",
       "  /* draw centered vertical line to link estimators */\n",
       "  background-image: linear-gradient(var(--sklearn-color-text-on-default-background), var(--sklearn-color-text-on-default-background));\n",
       "  background-size: 2px 100%;\n",
       "  background-repeat: no-repeat;\n",
       "  background-position: center center;\n",
       "}\n",
       "\n",
       "/* Parallel-specific style estimator block */\n",
       "\n",
       "#sk-container-id-2 div.sk-parallel-item::after {\n",
       "  content: \"\";\n",
       "  width: 100%;\n",
       "  border-bottom: 2px solid var(--sklearn-color-text-on-default-background);\n",
       "  flex-grow: 1;\n",
       "}\n",
       "\n",
       "#sk-container-id-2 div.sk-parallel {\n",
       "  display: flex;\n",
       "  align-items: stretch;\n",
       "  justify-content: center;\n",
       "  background-color: var(--sklearn-color-background);\n",
       "  position: relative;\n",
       "}\n",
       "\n",
       "#sk-container-id-2 div.sk-parallel-item {\n",
       "  display: flex;\n",
       "  flex-direction: column;\n",
       "}\n",
       "\n",
       "#sk-container-id-2 div.sk-parallel-item:first-child::after {\n",
       "  align-self: flex-end;\n",
       "  width: 50%;\n",
       "}\n",
       "\n",
       "#sk-container-id-2 div.sk-parallel-item:last-child::after {\n",
       "  align-self: flex-start;\n",
       "  width: 50%;\n",
       "}\n",
       "\n",
       "#sk-container-id-2 div.sk-parallel-item:only-child::after {\n",
       "  width: 0;\n",
       "}\n",
       "\n",
       "/* Serial-specific style estimator block */\n",
       "\n",
       "#sk-container-id-2 div.sk-serial {\n",
       "  display: flex;\n",
       "  flex-direction: column;\n",
       "  align-items: center;\n",
       "  background-color: var(--sklearn-color-background);\n",
       "  padding-right: 1em;\n",
       "  padding-left: 1em;\n",
       "}\n",
       "\n",
       "\n",
       "/* Toggleable style: style used for estimator/Pipeline/ColumnTransformer box that is\n",
       "clickable and can be expanded/collapsed.\n",
       "- Pipeline and ColumnTransformer use this feature and define the default style\n",
       "- Estimators will overwrite some part of the style using the `sk-estimator` class\n",
       "*/\n",
       "\n",
       "/* Pipeline and ColumnTransformer style (default) */\n",
       "\n",
       "#sk-container-id-2 div.sk-toggleable {\n",
       "  /* Default theme specific background. It is overwritten whether we have a\n",
       "  specific estimator or a Pipeline/ColumnTransformer */\n",
       "  background-color: var(--sklearn-color-background);\n",
       "}\n",
       "\n",
       "/* Toggleable label */\n",
       "#sk-container-id-2 label.sk-toggleable__label {\n",
       "  cursor: pointer;\n",
       "  display: block;\n",
       "  width: 100%;\n",
       "  margin-bottom: 0;\n",
       "  padding: 0.5em;\n",
       "  box-sizing: border-box;\n",
       "  text-align: center;\n",
       "}\n",
       "\n",
       "#sk-container-id-2 label.sk-toggleable__label-arrow:before {\n",
       "  /* Arrow on the left of the label */\n",
       "  content: \"▸\";\n",
       "  float: left;\n",
       "  margin-right: 0.25em;\n",
       "  color: var(--sklearn-color-icon);\n",
       "}\n",
       "\n",
       "#sk-container-id-2 label.sk-toggleable__label-arrow:hover:before {\n",
       "  color: var(--sklearn-color-text);\n",
       "}\n",
       "\n",
       "/* Toggleable content - dropdown */\n",
       "\n",
       "#sk-container-id-2 div.sk-toggleable__content {\n",
       "  max-height: 0;\n",
       "  max-width: 0;\n",
       "  overflow: hidden;\n",
       "  text-align: left;\n",
       "  /* unfitted */\n",
       "  background-color: var(--sklearn-color-unfitted-level-0);\n",
       "}\n",
       "\n",
       "#sk-container-id-2 div.sk-toggleable__content.fitted {\n",
       "  /* fitted */\n",
       "  background-color: var(--sklearn-color-fitted-level-0);\n",
       "}\n",
       "\n",
       "#sk-container-id-2 div.sk-toggleable__content pre {\n",
       "  margin: 0.2em;\n",
       "  border-radius: 0.25em;\n",
       "  color: var(--sklearn-color-text);\n",
       "  /* unfitted */\n",
       "  background-color: var(--sklearn-color-unfitted-level-0);\n",
       "}\n",
       "\n",
       "#sk-container-id-2 div.sk-toggleable__content.fitted pre {\n",
       "  /* unfitted */\n",
       "  background-color: var(--sklearn-color-fitted-level-0);\n",
       "}\n",
       "\n",
       "#sk-container-id-2 input.sk-toggleable__control:checked~div.sk-toggleable__content {\n",
       "  /* Expand drop-down */\n",
       "  max-height: 200px;\n",
       "  max-width: 100%;\n",
       "  overflow: auto;\n",
       "}\n",
       "\n",
       "#sk-container-id-2 input.sk-toggleable__control:checked~label.sk-toggleable__label-arrow:before {\n",
       "  content: \"▾\";\n",
       "}\n",
       "\n",
       "/* Pipeline/ColumnTransformer-specific style */\n",
       "\n",
       "#sk-container-id-2 div.sk-label input.sk-toggleable__control:checked~label.sk-toggleable__label {\n",
       "  color: var(--sklearn-color-text);\n",
       "  background-color: var(--sklearn-color-unfitted-level-2);\n",
       "}\n",
       "\n",
       "#sk-container-id-2 div.sk-label.fitted input.sk-toggleable__control:checked~label.sk-toggleable__label {\n",
       "  background-color: var(--sklearn-color-fitted-level-2);\n",
       "}\n",
       "\n",
       "/* Estimator-specific style */\n",
       "\n",
       "/* Colorize estimator box */\n",
       "#sk-container-id-2 div.sk-estimator input.sk-toggleable__control:checked~label.sk-toggleable__label {\n",
       "  /* unfitted */\n",
       "  background-color: var(--sklearn-color-unfitted-level-2);\n",
       "}\n",
       "\n",
       "#sk-container-id-2 div.sk-estimator.fitted input.sk-toggleable__control:checked~label.sk-toggleable__label {\n",
       "  /* fitted */\n",
       "  background-color: var(--sklearn-color-fitted-level-2);\n",
       "}\n",
       "\n",
       "#sk-container-id-2 div.sk-label label.sk-toggleable__label,\n",
       "#sk-container-id-2 div.sk-label label {\n",
       "  /* The background is the default theme color */\n",
       "  color: var(--sklearn-color-text-on-default-background);\n",
       "}\n",
       "\n",
       "/* On hover, darken the color of the background */\n",
       "#sk-container-id-2 div.sk-label:hover label.sk-toggleable__label {\n",
       "  color: var(--sklearn-color-text);\n",
       "  background-color: var(--sklearn-color-unfitted-level-2);\n",
       "}\n",
       "\n",
       "/* Label box, darken color on hover, fitted */\n",
       "#sk-container-id-2 div.sk-label.fitted:hover label.sk-toggleable__label.fitted {\n",
       "  color: var(--sklearn-color-text);\n",
       "  background-color: var(--sklearn-color-fitted-level-2);\n",
       "}\n",
       "\n",
       "/* Estimator label */\n",
       "\n",
       "#sk-container-id-2 div.sk-label label {\n",
       "  font-family: monospace;\n",
       "  font-weight: bold;\n",
       "  display: inline-block;\n",
       "  line-height: 1.2em;\n",
       "}\n",
       "\n",
       "#sk-container-id-2 div.sk-label-container {\n",
       "  text-align: center;\n",
       "}\n",
       "\n",
       "/* Estimator-specific */\n",
       "#sk-container-id-2 div.sk-estimator {\n",
       "  font-family: monospace;\n",
       "  border: 1px dotted var(--sklearn-color-border-box);\n",
       "  border-radius: 0.25em;\n",
       "  box-sizing: border-box;\n",
       "  margin-bottom: 0.5em;\n",
       "  /* unfitted */\n",
       "  background-color: var(--sklearn-color-unfitted-level-0);\n",
       "}\n",
       "\n",
       "#sk-container-id-2 div.sk-estimator.fitted {\n",
       "  /* fitted */\n",
       "  background-color: var(--sklearn-color-fitted-level-0);\n",
       "}\n",
       "\n",
       "/* on hover */\n",
       "#sk-container-id-2 div.sk-estimator:hover {\n",
       "  /* unfitted */\n",
       "  background-color: var(--sklearn-color-unfitted-level-2);\n",
       "}\n",
       "\n",
       "#sk-container-id-2 div.sk-estimator.fitted:hover {\n",
       "  /* fitted */\n",
       "  background-color: var(--sklearn-color-fitted-level-2);\n",
       "}\n",
       "\n",
       "/* Specification for estimator info (e.g. \"i\" and \"?\") */\n",
       "\n",
       "/* Common style for \"i\" and \"?\" */\n",
       "\n",
       ".sk-estimator-doc-link,\n",
       "a:link.sk-estimator-doc-link,\n",
       "a:visited.sk-estimator-doc-link {\n",
       "  float: right;\n",
       "  font-size: smaller;\n",
       "  line-height: 1em;\n",
       "  font-family: monospace;\n",
       "  background-color: var(--sklearn-color-background);\n",
       "  border-radius: 1em;\n",
       "  height: 1em;\n",
       "  width: 1em;\n",
       "  text-decoration: none !important;\n",
       "  margin-left: 1ex;\n",
       "  /* unfitted */\n",
       "  border: var(--sklearn-color-unfitted-level-1) 1pt solid;\n",
       "  color: var(--sklearn-color-unfitted-level-1);\n",
       "}\n",
       "\n",
       ".sk-estimator-doc-link.fitted,\n",
       "a:link.sk-estimator-doc-link.fitted,\n",
       "a:visited.sk-estimator-doc-link.fitted {\n",
       "  /* fitted */\n",
       "  border: var(--sklearn-color-fitted-level-1) 1pt solid;\n",
       "  color: var(--sklearn-color-fitted-level-1);\n",
       "}\n",
       "\n",
       "/* On hover */\n",
       "div.sk-estimator:hover .sk-estimator-doc-link:hover,\n",
       ".sk-estimator-doc-link:hover,\n",
       "div.sk-label-container:hover .sk-estimator-doc-link:hover,\n",
       ".sk-estimator-doc-link:hover {\n",
       "  /* unfitted */\n",
       "  background-color: var(--sklearn-color-unfitted-level-3);\n",
       "  color: var(--sklearn-color-background);\n",
       "  text-decoration: none;\n",
       "}\n",
       "\n",
       "div.sk-estimator.fitted:hover .sk-estimator-doc-link.fitted:hover,\n",
       ".sk-estimator-doc-link.fitted:hover,\n",
       "div.sk-label-container:hover .sk-estimator-doc-link.fitted:hover,\n",
       ".sk-estimator-doc-link.fitted:hover {\n",
       "  /* fitted */\n",
       "  background-color: var(--sklearn-color-fitted-level-3);\n",
       "  color: var(--sklearn-color-background);\n",
       "  text-decoration: none;\n",
       "}\n",
       "\n",
       "/* Span, style for the box shown on hovering the info icon */\n",
       ".sk-estimator-doc-link span {\n",
       "  display: none;\n",
       "  z-index: 9999;\n",
       "  position: relative;\n",
       "  font-weight: normal;\n",
       "  right: .2ex;\n",
       "  padding: .5ex;\n",
       "  margin: .5ex;\n",
       "  width: min-content;\n",
       "  min-width: 20ex;\n",
       "  max-width: 50ex;\n",
       "  color: var(--sklearn-color-text);\n",
       "  box-shadow: 2pt 2pt 4pt #999;\n",
       "  /* unfitted */\n",
       "  background: var(--sklearn-color-unfitted-level-0);\n",
       "  border: .5pt solid var(--sklearn-color-unfitted-level-3);\n",
       "}\n",
       "\n",
       ".sk-estimator-doc-link.fitted span {\n",
       "  /* fitted */\n",
       "  background: var(--sklearn-color-fitted-level-0);\n",
       "  border: var(--sklearn-color-fitted-level-3);\n",
       "}\n",
       "\n",
       ".sk-estimator-doc-link:hover span {\n",
       "  display: block;\n",
       "}\n",
       "\n",
       "/* \"?\"-specific style due to the `<a>` HTML tag */\n",
       "\n",
       "#sk-container-id-2 a.estimator_doc_link {\n",
       "  float: right;\n",
       "  font-size: 1rem;\n",
       "  line-height: 1em;\n",
       "  font-family: monospace;\n",
       "  background-color: var(--sklearn-color-background);\n",
       "  border-radius: 1rem;\n",
       "  height: 1rem;\n",
       "  width: 1rem;\n",
       "  text-decoration: none;\n",
       "  /* unfitted */\n",
       "  color: var(--sklearn-color-unfitted-level-1);\n",
       "  border: var(--sklearn-color-unfitted-level-1) 1pt solid;\n",
       "}\n",
       "\n",
       "#sk-container-id-2 a.estimator_doc_link.fitted {\n",
       "  /* fitted */\n",
       "  border: var(--sklearn-color-fitted-level-1) 1pt solid;\n",
       "  color: var(--sklearn-color-fitted-level-1);\n",
       "}\n",
       "\n",
       "/* On hover */\n",
       "#sk-container-id-2 a.estimator_doc_link:hover {\n",
       "  /* unfitted */\n",
       "  background-color: var(--sklearn-color-unfitted-level-3);\n",
       "  color: var(--sklearn-color-background);\n",
       "  text-decoration: none;\n",
       "}\n",
       "\n",
       "#sk-container-id-2 a.estimator_doc_link.fitted:hover {\n",
       "  /* fitted */\n",
       "  background-color: var(--sklearn-color-fitted-level-3);\n",
       "}\n",
       "</style><div id=\"sk-container-id-2\" class=\"sk-top-container\"><div class=\"sk-text-repr-fallback\"><pre>Pipeline(steps=[(&#x27;scaler&#x27;, StandardScaler()), (&#x27;svc&#x27;, SVC())])</pre><b>In a Jupyter environment, please rerun this cell to show the HTML representation or trust the notebook. <br />On GitHub, the HTML representation is unable to render, please try loading this page with nbviewer.org.</b></div><div class=\"sk-container\" hidden><div class=\"sk-item sk-dashed-wrapped\"><div class=\"sk-label-container\"><div class=\"sk-label fitted sk-toggleable\"><input class=\"sk-toggleable__control sk-hidden--visually\" id=\"sk-estimator-id-2\" type=\"checkbox\" ><label for=\"sk-estimator-id-2\" class=\"sk-toggleable__label fitted sk-toggleable__label-arrow fitted\">&nbsp;&nbsp;Pipeline<a class=\"sk-estimator-doc-link fitted\" rel=\"noreferrer\" target=\"_blank\" href=\"https://scikit-learn.org/1.5/modules/generated/sklearn.pipeline.Pipeline.html\">?<span>Documentation for Pipeline</span></a><span class=\"sk-estimator-doc-link fitted\">i<span>Fitted</span></span></label><div class=\"sk-toggleable__content fitted\"><pre>Pipeline(steps=[(&#x27;scaler&#x27;, StandardScaler()), (&#x27;svc&#x27;, SVC())])</pre></div> </div></div><div class=\"sk-serial\"><div class=\"sk-item\"><div class=\"sk-estimator fitted sk-toggleable\"><input class=\"sk-toggleable__control sk-hidden--visually\" id=\"sk-estimator-id-3\" type=\"checkbox\" ><label for=\"sk-estimator-id-3\" class=\"sk-toggleable__label fitted sk-toggleable__label-arrow fitted\">&nbsp;StandardScaler<a class=\"sk-estimator-doc-link fitted\" rel=\"noreferrer\" target=\"_blank\" href=\"https://scikit-learn.org/1.5/modules/generated/sklearn.preprocessing.StandardScaler.html\">?<span>Documentation for StandardScaler</span></a></label><div class=\"sk-toggleable__content fitted\"><pre>StandardScaler()</pre></div> </div></div><div class=\"sk-item\"><div class=\"sk-estimator fitted sk-toggleable\"><input class=\"sk-toggleable__control sk-hidden--visually\" id=\"sk-estimator-id-4\" type=\"checkbox\" ><label for=\"sk-estimator-id-4\" class=\"sk-toggleable__label fitted sk-toggleable__label-arrow fitted\">&nbsp;SVC<a class=\"sk-estimator-doc-link fitted\" rel=\"noreferrer\" target=\"_blank\" href=\"https://scikit-learn.org/1.5/modules/generated/sklearn.svm.SVC.html\">?<span>Documentation for SVC</span></a></label><div class=\"sk-toggleable__content fitted\"><pre>SVC()</pre></div> </div></div></div></div></div></div>"
      ]
     },
     "execution_count": 36,
     "metadata": {},
     "output_type": "execute_result"
    }
   ],
   "execution_count": 36
  },
  {
   "metadata": {
    "ExecuteTime": {
     "end_time": "2024-07-30T05:50:55.502426Z",
     "start_time": "2024-07-30T05:50:55.497698Z"
    }
   },
   "cell_type": "code",
   "source": [
    "print(model_pipeline[0].transform(X_train[:1]))\n",
    "# [[-1.71687346 -0.1513372  -1.37527528 -1.29070478]]"
   ],
   "id": "19cb22f6e9c484bd",
   "outputs": [
    {
     "name": "stdout",
     "output_type": "stream",
     "text": [
      "[[-1.71687346 -0.1513372  -1.37527528 -1.29070478]]\n"
     ]
    }
   ],
   "execution_count": 37
  },
  {
   "metadata": {
    "ExecuteTime": {
     "end_time": "2024-07-30T05:53:07.036165Z",
     "start_time": "2024-07-30T05:53:07.031870Z"
    }
   },
   "cell_type": "code",
   "source": [
    "from sklearn.metrics import accuracy_score\n",
    "\n",
    "train_pred = model_pipeline.predict(X_train)\n",
    "valid_pred = model_pipeline.predict(X_valid)\n",
    "\n",
    "train_acc = accuracy_score(y_true=y_train, y_pred=train_pred)\n",
    "valid_acc = accuracy_score(y_true=y_valid, y_pred=valid_pred)\n",
    "\n",
    "print(\"Train Accuracy :\", train_acc)\n",
    "print(\"Valid Accuracy :\", valid_acc)\n",
    "# Train Accuracy : 0.9833333333333333\n",
    "# Valid Accuracy : 0.9666666666666667"
   ],
   "id": "2c55d6f01c5f382d",
   "outputs": [
    {
     "name": "stdout",
     "output_type": "stream",
     "text": [
      "Train Accuracy : 0.9833333333333333\n",
      "Valid Accuracy : 0.9666666666666667\n"
     ]
    }
   ],
   "execution_count": 38
  },
  {
   "metadata": {
    "ExecuteTime": {
     "end_time": "2024-07-30T05:53:14.942435Z",
     "start_time": "2024-07-30T05:53:14.938124Z"
    }
   },
   "cell_type": "code",
   "source": [
    "import joblib\n",
    "\n",
    "joblib.dump(model_pipeline, \"model_pipeline.joblib\")"
   ],
   "id": "3082222098e61fd0",
   "outputs": [
    {
     "data": {
      "text/plain": [
       "['model_pipeline.joblib']"
      ]
     },
     "execution_count": 39,
     "metadata": {},
     "output_type": "execute_result"
    }
   ],
   "execution_count": 39
  },
  {
   "metadata": {},
   "cell_type": "markdown",
   "source": [
    "### 1.3 pipeline_train.py\n",
    "위에서 작성한 코드를 모아서 pipeline_train.py 로 작성합니다"
   ],
   "id": "b1e4d2b3e2051e66"
  },
  {
   "metadata": {
    "ExecuteTime": {
     "end_time": "2024-07-30T05:53:56.746299Z",
     "start_time": "2024-07-30T05:53:56.742784Z"
    }
   },
   "cell_type": "code",
   "source": [
    "%%writefile pipeline_train.py\n",
    "import joblib\n",
    "from sklearn.datasets import load_iris\n",
    "from sklearn.metrics import accuracy_score\n",
    "from sklearn.model_selection import train_test_split\n",
    "from sklearn.preprocessing import StandardScaler\n",
    "from sklearn.pipeline import Pipeline\n",
    "from sklearn.svm import SVC\n",
    "\n",
    "# 1. get data\n",
    "X, y = load_iris(return_X_y=True, as_frame=True)\n",
    "X_train, X_valid, y_train, y_valid = train_test_split(X, y, train_size=0.8, random_state=2022)\n",
    "\n",
    "# 2. model development and train\n",
    "model_pipeline = Pipeline([(\"scaler\", StandardScaler()), (\"svc\", SVC())])\n",
    "model_pipeline.fit(X_train, y_train)\n",
    "\n",
    "train_pred = model_pipeline.predict(X_train)\n",
    "valid_pred = model_pipeline.predict(X_valid)\n",
    "\n",
    "train_acc = accuracy_score(y_true=y_train, y_pred=train_pred)\n",
    "valid_acc = accuracy_score(y_true=y_valid, y_pred=valid_pred)\n",
    "\n",
    "print(\"Train Accuracy :\", train_acc)\n",
    "print(\"Valid Accuracy :\", valid_acc)\n",
    "\n",
    "# 3. save model\n",
    "joblib.dump(model_pipeline, \"model_pipeline.joblib\")"
   ],
   "id": "a75d3a709b7ea0c5",
   "outputs": [
    {
     "name": "stdout",
     "output_type": "stream",
     "text": [
      "Writing pipeline_train.py\n"
     ]
    }
   ],
   "execution_count": 41
  },
  {
   "metadata": {},
   "cell_type": "markdown",
   "source": "## 2. pipeline_validate_save_model.py",
   "id": "9a50d85d05fd8486"
  },
  {
   "metadata": {},
   "cell_type": "markdown",
   "source": "저장된 파이프라인이 정상적으로 동작하는 지 검증하기 위해 1) Base Model Development 챕터에서 작성한 base_validate_save_model.py 의 코드를 수정하여 pipeline_validate_save_model.py 로 작성합니다.",
   "id": "e2a4b66d1ee74d88"
  },
  {
   "metadata": {
    "ExecuteTime": {
     "end_time": "2024-07-30T05:54:30.765800Z",
     "start_time": "2024-07-30T05:54:30.762429Z"
    }
   },
   "cell_type": "code",
   "source": [
    "%%writefile pipeline_validate_save_model.py\n",
    "import joblib\n",
    "from sklearn.datasets import load_iris\n",
    "from sklearn.metrics import accuracy_score\n",
    "from sklearn.model_selection import train_test_split\n",
    "\n",
    "# 1. reproduce data\n",
    "X, y = load_iris(return_X_y=True, as_frame=True)\n",
    "X_train, X_valid, y_train, y_valid = train_test_split(X, y, train_size=0.8, random_state=2022)\n",
    "\n",
    "# 2. load model\n",
    "model_pipeline_load = joblib.load(\"model_pipeline.joblib\")\n",
    "\n",
    "# 3. validate\n",
    "load_train_pred = model_pipeline_load.predict(X_train)\n",
    "load_valid_pred = model_pipeline_load.predict(X_valid)\n",
    "\n",
    "load_train_acc = accuracy_score(y_true=y_train, y_pred=load_train_pred)\n",
    "load_valid_acc = accuracy_score(y_true=y_valid, y_pred=load_valid_pred)\n",
    "\n",
    "print(\"Load Model Train Accuracy :\", load_train_acc)\n",
    "print(\"Load Model Valid Accuracy :\", load_valid_acc)"
   ],
   "id": "e926d3b151d38e0e",
   "outputs": [
    {
     "name": "stdout",
     "output_type": "stream",
     "text": [
      "Writing pipeline_validate_save_model.py\n"
     ]
    }
   ],
   "execution_count": 42
  },
  {
   "metadata": {},
   "cell_type": "markdown",
   "source": "#  Load Model from Database",
   "id": "165716bba667b79d"
  },
  {
   "metadata": {},
   "cell_type": "markdown",
   "source": [
    "## 목표\n",
    "- DB 에서 데이터를 가져오는 파이프라인을 작성합니다.\n",
    "\n",
    "## 스펙 명세서\n",
    "- 데이터 불러오기\n",
    "    - `01. Database` 파트에서 생성한 DB 에서 데이터를 가져옵니다.\n",
    "    - id column 을 기준으로 최신 데이터 100개를 추출하는 쿼리문을 작성합니다.\n",
    "    - pandas.read_sql 함수를 이용해 데이터를 추출합니다.\n",
    "- 모델 파이프라인 수정\n",
    "    - `1) Base Model Development` 챕터에서 작성한 파이프라인 중 데이터를 불러오는 부분을 위에서 작성한 함수로 수정합니다.\n",
    "    - 모델을 학습하고 저장합니다.\n",
    "    - 저장된 모델이 정상적으로 동작하는지 확인합니다."
   ],
   "id": "932d8fa2d0b42394"
  },
  {
   "metadata": {},
   "cell_type": "markdown",
   "source": [
    "## 1. Load Data\n",
    "### 1.1 Query\n",
    "id column을 기준으로 최신 데이터 100개를 추출하는 쿼리문을 작성합니다.\n",
    "\n",
    "    SELECT * FROM iris_data ORDER BY id DESC LIMIT 100;\n",
    "    \n",
    "psql 에서 해당 쿼리문을 입력하면 다음과 같이 출력됩니다.\n",
    "\n",
    "    mydatabase=# SELECT * FROM iris_data ORDER BY id DESC LIMIT 100;\n",
    "    id  |         timestamp          | sepal_length | sepal_width | petal_length | petal_width | target\n",
    "    -----+----------------------------+--------------+-------------+--------------+-------------+--------\n",
    "       1 | 2023-01-15 06:08:58.995035 |          6.8 |         2.8 |          4.8 |         1.4 |      1\n",
    "       2 | 2023-01-15 06:09:00.033342 |          6.3 |         2.5 |            5 |         1.9 |      2\n",
    "       3 | 2023-01-15 06:09:01.063739 |          6.3 |         3.3 |          4.7 |         1.6 |      1\n",
    "       4 | 2023-01-15 06:09:02.098688 |          6.3 |         3.3 |          4.7 |         1.6 |      1\n",
    "       5 | 2023-01-15 06:09:03.131971 |            5 |         3.2 |          1.2 |         0.2 |      0\n",
    "    (...)\n",
    "    \n",
    "\n",
    "### 1.2 Pandas\n",
    "pandas.read_sql 는 입력 argument 로 query 와 DB connector 를 받습니다.\n",
    "\n",
    "PostgreSQL DB 에 연결할 수 있는 DB connector 를 생성 후 query 와 DB connector 를 이용하여 데이터를 불러옵니다. DB 에 연결하기 위한 정보는 01. Database 파트의 7) Data Generator on Docker Compose 챕터에서 DB 서버를 생성할 때 입력한 값입니다.\n",
    "\n",
    "    import pandas as pd\n",
    "    import psycopg2\n",
    "    \n",
    "    db_connect = psycopg2.connect(host=\"localhost\", database=\"mydatabase\", user=\"myuser\", password=\"mypassword\")\n",
    "    df = pd.read_sql(\"SELECT * FROM iris_data ORDER BY id DESC LIMIT 100\", db_connect)\n",
    "\n",
    "\n",
    "- db connect\n",
    "    - host : localhost\n",
    "    - database : mydatabase\n",
    "    - user : myuser\n",
    "    - password : mypassword"
   ],
   "id": "2fcde14d3e930cf2"
  },
  {
   "metadata": {
    "ExecuteTime": {
     "end_time": "2024-07-30T06:00:14.223012Z",
     "start_time": "2024-07-30T06:00:13.310211Z"
    }
   },
   "cell_type": "code",
   "source": "!pip install psycopg2",
   "id": "3092e15d14aa12cb",
   "outputs": [
    {
     "name": "stdout",
     "output_type": "stream",
     "text": [
      "Requirement already satisfied: psycopg2 in /opt/homebrew/Caskroom/miniforge/base/envs/MLOps/lib/python3.12/site-packages (2.9.9)\r\n"
     ]
    }
   ],
   "execution_count": 45
  },
  {
   "metadata": {
    "ExecuteTime": {
     "end_time": "2024-07-30T06:02:08.551375Z",
     "start_time": "2024-07-30T06:02:08.496305Z"
    }
   },
   "cell_type": "code",
   "source": [
    "import pandas as pd\n",
    "import psycopg2\n",
    "\n",
    "db_connect = psycopg2.connect(host=\"localhost\", database=\"mydatabase\", user=\"myuser\", password=\"mypassword\")\n",
    "df = pd.read_sql(\"SELECT * FROM iris_data ORDER BY id DESC LIMIT 100\", db_connect)"
   ],
   "id": "f2678b1321432995",
   "outputs": [
    {
     "name": "stderr",
     "output_type": "stream",
     "text": [
      "/var/folders/1b/dx8_94fs0q740wx3lfknk6y40000gn/T/ipykernel_3059/3806257435.py:5: UserWarning: pandas only supports SQLAlchemy connectable (engine/connection) or database string URI or sqlite3 DBAPI2 connection. Other DBAPI2 objects are not tested. Please consider using SQLAlchemy.\n",
      "  df = pd.read_sql(\"SELECT * FROM iris_data ORDER BY id DESC LIMIT 100\", db_connect)\n"
     ]
    }
   ],
   "execution_count": 47
  },
  {
   "metadata": {
    "ExecuteTime": {
     "end_time": "2024-07-30T06:03:43.421443Z",
     "start_time": "2024-07-30T06:03:43.416017Z"
    }
   },
   "cell_type": "code",
   "source": "print(df.head(5))",
   "id": "ae7cb0619a9b7c15",
   "outputs": [
    {
     "name": "stdout",
     "output_type": "stream",
     "text": [
      "   id                  timestamp  sepal_length  sepal_width  petal_length  \\\n",
      "0  12 2024-07-30 06:02:08.390820           6.4          2.7           5.3   \n",
      "1  11 2024-07-30 06:02:07.386373           5.6          2.5           3.9   \n",
      "2  10 2024-07-30 06:02:06.380114           6.1          3.0           4.9   \n",
      "3   9 2024-07-30 06:02:05.375092           7.7          3.0           6.1   \n",
      "4   8 2024-07-30 06:02:04.369931           5.7          3.8           1.7   \n",
      "\n",
      "   petal_width  target  \n",
      "0          1.9       2  \n",
      "1          1.1       1  \n",
      "2          1.8       2  \n",
      "3          2.3       2  \n",
      "4          0.3       0  \n"
     ]
    }
   ],
   "execution_count": 48
  },
  {
   "metadata": {
    "ExecuteTime": {
     "end_time": "2024-07-30T06:04:09.889561Z",
     "start_time": "2024-07-30T06:04:09.884928Z"
    }
   },
   "cell_type": "code",
   "source": [
    "%%writefile db_train.py\n",
    "import pandas as pd\n",
    "import psycopg2\n",
    "from sklearn.model_selection import train_test_split\n",
    "\n",
    "# 1. get data\n",
    "db_connect = psycopg2.connect(host=\"localhost\", database=\"mydatabase\", user=\"myuser\", password=\"mypassword\")\n",
    "df = pd.read_sql(\"SELECT * FROM iris_data ORDER BY id DESC LIMIT 100\", db_connect)\n",
    "X = df.drop([\"id\", \"timestamp\", \"target\"], axis=\"columns\")\n",
    "y = df[\"target\"]\n",
    "X_train, X_valid, y_train, y_valid = train_test_split(X, y, train_size=0.8, random_state=2022)\n"
   ],
   "id": "edf2cac061d747cb",
   "outputs": [
    {
     "name": "stdout",
     "output_type": "stream",
     "text": [
      "Writing db_train.py\n"
     ]
    }
   ],
   "execution_count": 49
  },
  {
   "metadata": {},
   "cell_type": "markdown",
   "source": [
    "## 2. Save Data\n",
    "이어서 사용한 데이터를 저장하는 # 4. save data 부분을 추가합니다. 데이터를 저장하는 이유는 현재 DB 에 계속해서 데이터가 쌓이고 있기 때문에 매번 데이터를 불러올 때마다 데이터가 바뀝니다. 데이터가 바뀌면 모델이 정상적으로 불러왔는지 확인할 수 없기 때문에 사용한 데이터를 저장하여 평가하는 부분에서 사용합니다"
   ],
   "id": "dcb716e0902f300f"
  },
  {
   "metadata": {
    "ExecuteTime": {
     "end_time": "2024-07-30T06:04:24.635091Z",
     "start_time": "2024-07-30T06:04:24.618083Z"
    }
   },
   "cell_type": "code",
   "source": [
    "# 4. save data\n",
    "df.to_csv(\"data.csv\", index=False)"
   ],
   "id": "4408fbc5837870d2",
   "outputs": [],
   "execution_count": 50
  },
  {
   "metadata": {},
   "cell_type": "markdown",
   "source": [
    "## 3. 전체 코드\n",
    "### 3.1 db_train.py\n"
   ],
   "id": "8d85a2b91414af21"
  },
  {
   "metadata": {
    "ExecuteTime": {
     "end_time": "2024-07-30T06:05:05.236747Z",
     "start_time": "2024-07-30T06:05:05.232833Z"
    }
   },
   "cell_type": "code",
   "source": [
    "%%writefile db_train.py\n",
    "\n",
    "# db_train.py\n",
    "import joblib\n",
    "import pandas as pd\n",
    "import psycopg2\n",
    "from sklearn.metrics import accuracy_score\n",
    "from sklearn.model_selection import train_test_split\n",
    "from sklearn.preprocessing import StandardScaler\n",
    "from sklearn.pipeline import Pipeline\n",
    "from sklearn.svm import SVC\n",
    "\n",
    "# 1. get data\n",
    "db_connect = psycopg2.connect(host=\"localhost\", database=\"mydatabase\", user=\"myuser\", password=\"mypassword\")\n",
    "df = pd.read_sql(\"SELECT * FROM iris_data ORDER BY id DESC LIMIT 100\", db_connect)\n",
    "X = df.drop([\"id\", \"timestamp\", \"target\"], axis=\"columns\")\n",
    "y = df[\"target\"]\n",
    "X_train, X_valid, y_train, y_valid = train_test_split(X, y, train_size=0.8, random_state=2022)\n",
    "\n",
    "# 2. model development and train\n",
    "model_pipeline = Pipeline([(\"scaler\", StandardScaler()), (\"svc\", SVC())])\n",
    "model_pipeline.fit(X_train, y_train)\n",
    "\n",
    "train_pred = model_pipeline.predict(X_train)\n",
    "valid_pred = model_pipeline.predict(X_valid)\n",
    "\n",
    "train_acc = accuracy_score(y_true=y_train, y_pred=train_pred)\n",
    "valid_acc = accuracy_score(y_true=y_valid, y_pred=valid_pred)\n",
    "\n",
    "print(\"Train Accuracy :\", train_acc)\n",
    "print(\"Valid Accuracy :\", valid_acc)\n",
    "\n",
    "# 3. save model\n",
    "joblib.dump(model_pipeline, \"db_pipeline.joblib\")\n",
    "\n",
    "# 4. save data\n",
    "df.to_csv(\"data.csv\", index=False)"
   ],
   "id": "a5f33322525af8b5",
   "outputs": [
    {
     "name": "stdout",
     "output_type": "stream",
     "text": [
      "Overwriting db_train.py\n"
     ]
    }
   ],
   "execution_count": 51
  },
  {
   "metadata": {},
   "cell_type": "markdown",
   "source": [
    "### 3.2 validate_save_model.py\n",
    "다음은 2) Model Pipeline 챕터에서 저장된 모델을 검증하는 base_validate_save_model.py 를 수정해 db_validate_save_model.py 로 저장합니다. 그리고 # 1. reproduce data 에서 저장된 데이터를 불러오도록 수정합니다.\n",
    "\n"
   ],
   "id": "bb7844ed7f08c889"
  },
  {
   "metadata": {
    "ExecuteTime": {
     "end_time": "2024-07-30T06:05:45.308789Z",
     "start_time": "2024-07-30T06:05:45.304985Z"
    }
   },
   "cell_type": "code",
   "source": [
    "%%writefile db_validate_save_model.py\n",
    "# db_validate_save_model.py\n",
    "import joblib\n",
    "import pandas as pd\n",
    "from sklearn.metrics import accuracy_score\n",
    "from sklearn.model_selection import train_test_split\n",
    "\n",
    "# 1. reproduce data\n",
    "df = pd.read_csv(\"data.csv\")\n",
    "X = df.drop([\"id\", \"timestamp\", \"target\"], axis=\"columns\")\n",
    "y = df[\"target\"]\n",
    "X_train, X_valid, y_train, y_valid = train_test_split(X, y, train_size=0.8, random_state=2022)\n",
    "\n",
    "# 2. load model\n",
    "pipeline_load = joblib.load(\"db_pipeline.joblib\")\n",
    "\n",
    "# 3. validate\n",
    "load_train_pred = pipeline_load.predict(X_train)\n",
    "load_valid_pred = pipeline_load.predict(X_valid)\n",
    "\n",
    "load_train_acc = accuracy_score(y_true=y_train, y_pred=load_train_pred)\n",
    "load_valid_acc = accuracy_score(y_true=y_valid, y_pred=load_valid_pred)\n",
    "\n",
    "print(\"Load Model Train Accuracy :\", load_train_acc)\n",
    "print(\"Load Model Valid Accuracy :\", load_valid_acc)"
   ],
   "id": "f8ab0c83fc9c983d",
   "outputs": [
    {
     "name": "stdout",
     "output_type": "stream",
     "text": [
      "Writing db_validate_save_model.py\n"
     ]
    }
   ],
   "execution_count": 53
  }
 ],
 "metadata": {
  "kernelspec": {
   "display_name": "Python 3",
   "language": "python",
   "name": "python3"
  },
  "language_info": {
   "codemirror_mode": {
    "name": "ipython",
    "version": 2
   },
   "file_extension": ".py",
   "mimetype": "text/x-python",
   "name": "python",
   "nbconvert_exporter": "python",
   "pygments_lexer": "ipython2",
   "version": "2.7.6"
  }
 },
 "nbformat": 4,
 "nbformat_minor": 5
}
