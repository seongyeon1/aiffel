{
 "cells": [
  {
   "metadata": {},
   "cell_type": "markdown",
   "source": "# Fast API Tutorial",
   "id": "1f02995093376a0c"
  },
  {
   "metadata": {},
   "cell_type": "markdown",
   "source": [
    "## 패키지 설치\n",
    "필요한 패키지를 설치합니다. [Tutorial - User Guide - Intro]"
   ],
   "id": "9da16abb1fb8da01"
  },
  {
   "metadata": {
    "ExecuteTime": {
     "end_time": "2024-07-31T05:26:33.228539Z",
     "start_time": "2024-07-31T05:26:30.959884Z"
    }
   },
   "cell_type": "code",
   "source": [
    "# terminal-command\n",
    "!pip install \"fastapi[all]\""
   ],
   "id": "initial_id",
   "outputs": [
    {
     "name": "stdout",
     "output_type": "stream",
     "text": [
      "Requirement already satisfied: fastapi[all] in /opt/homebrew/Caskroom/miniforge/base/envs/MLOps/lib/python3.12/site-packages (0.111.1)\r\n",
      "Requirement already satisfied: starlette<0.38.0,>=0.37.2 in /opt/homebrew/Caskroom/miniforge/base/envs/MLOps/lib/python3.12/site-packages (from fastapi[all]) (0.37.2)\r\n",
      "Requirement already satisfied: pydantic!=1.8,!=1.8.1,!=2.0.0,!=2.0.1,!=2.1.0,<3.0.0,>=1.7.4 in /opt/homebrew/Caskroom/miniforge/base/envs/MLOps/lib/python3.12/site-packages (from fastapi[all]) (2.8.2)\r\n",
      "Requirement already satisfied: typing-extensions>=4.8.0 in /opt/homebrew/Caskroom/miniforge/base/envs/MLOps/lib/python3.12/site-packages (from fastapi[all]) (4.12.2)\r\n",
      "Requirement already satisfied: fastapi-cli>=0.0.2 in /opt/homebrew/Caskroom/miniforge/base/envs/MLOps/lib/python3.12/site-packages (from fastapi[all]) (0.0.4)\r\n",
      "Requirement already satisfied: httpx>=0.23.0 in /opt/homebrew/Caskroom/miniforge/base/envs/MLOps/lib/python3.12/site-packages (from fastapi[all]) (0.27.0)\r\n",
      "Requirement already satisfied: jinja2>=2.11.2 in /opt/homebrew/Caskroom/miniforge/base/envs/MLOps/lib/python3.12/site-packages (from fastapi[all]) (3.1.4)\r\n",
      "Requirement already satisfied: python-multipart>=0.0.7 in /opt/homebrew/Caskroom/miniforge/base/envs/MLOps/lib/python3.12/site-packages (from fastapi[all]) (0.0.9)\r\n",
      "Requirement already satisfied: email_validator>=2.0.0 in /opt/homebrew/Caskroom/miniforge/base/envs/MLOps/lib/python3.12/site-packages (from fastapi[all]) (2.2.0)\r\n",
      "Requirement already satisfied: uvicorn>=0.12.0 in /opt/homebrew/Caskroom/miniforge/base/envs/MLOps/lib/python3.12/site-packages (from uvicorn[standard]>=0.12.0->fastapi[all]) (0.30.3)\r\n",
      "Requirement already satisfied: itsdangerous>=1.1.0 in /opt/homebrew/Caskroom/miniforge/base/envs/MLOps/lib/python3.12/site-packages (from fastapi[all]) (2.2.0)\r\n",
      "Requirement already satisfied: pyyaml>=5.3.1 in /opt/homebrew/Caskroom/miniforge/base/envs/MLOps/lib/python3.12/site-packages (from fastapi[all]) (6.0.1)\r\n",
      "Collecting ujson!=4.0.2,!=4.1.0,!=4.2.0,!=4.3.0,!=5.0.0,!=5.1.0,>=4.0.1 (from fastapi[all])\r\n",
      "  Downloading ujson-5.10.0-cp312-cp312-macosx_11_0_arm64.whl.metadata (9.3 kB)\r\n",
      "Collecting orjson>=3.2.1 (from fastapi[all])\r\n",
      "  Downloading orjson-3.10.6-cp312-cp312-macosx_10_15_x86_64.macosx_11_0_arm64.macosx_10_15_universal2.whl.metadata (50 kB)\r\n",
      "\u001B[2K     \u001B[90m━━━━━━━━━━━━━━━━━━━━━━━━━━━━━━━━━━━━━━━━\u001B[0m \u001B[32m50.4/50.4 kB\u001B[0m \u001B[31m4.0 MB/s\u001B[0m eta \u001B[36m0:00:00\u001B[0m\r\n",
      "\u001B[?25hCollecting pydantic-settings>=2.0.0 (from fastapi[all])\r\n",
      "  Downloading pydantic_settings-2.4.0-py3-none-any.whl.metadata (3.5 kB)\r\n",
      "Collecting pydantic-extra-types>=2.0.0 (from fastapi[all])\r\n",
      "  Downloading pydantic_extra_types-2.9.0-py3-none-any.whl.metadata (3.4 kB)\r\n",
      "Requirement already satisfied: dnspython>=2.0.0 in /opt/homebrew/Caskroom/miniforge/base/envs/MLOps/lib/python3.12/site-packages (from email_validator>=2.0.0->fastapi[all]) (2.6.1)\r\n",
      "Requirement already satisfied: idna>=2.0.0 in /opt/homebrew/Caskroom/miniforge/base/envs/MLOps/lib/python3.12/site-packages (from email_validator>=2.0.0->fastapi[all]) (3.7)\r\n",
      "Requirement already satisfied: typer>=0.12.3 in /opt/homebrew/Caskroom/miniforge/base/envs/MLOps/lib/python3.12/site-packages (from fastapi-cli>=0.0.2->fastapi[all]) (0.12.3)\r\n",
      "Requirement already satisfied: anyio in /opt/homebrew/Caskroom/miniforge/base/envs/MLOps/lib/python3.12/site-packages (from httpx>=0.23.0->fastapi[all]) (4.4.0)\r\n",
      "Requirement already satisfied: certifi in /opt/homebrew/Caskroom/miniforge/base/envs/MLOps/lib/python3.12/site-packages (from httpx>=0.23.0->fastapi[all]) (2024.7.4)\r\n",
      "Requirement already satisfied: httpcore==1.* in /opt/homebrew/Caskroom/miniforge/base/envs/MLOps/lib/python3.12/site-packages (from httpx>=0.23.0->fastapi[all]) (1.0.5)\r\n",
      "Requirement already satisfied: sniffio in /opt/homebrew/Caskroom/miniforge/base/envs/MLOps/lib/python3.12/site-packages (from httpx>=0.23.0->fastapi[all]) (1.3.1)\r\n",
      "Requirement already satisfied: h11<0.15,>=0.13 in /opt/homebrew/Caskroom/miniforge/base/envs/MLOps/lib/python3.12/site-packages (from httpcore==1.*->httpx>=0.23.0->fastapi[all]) (0.14.0)\r\n",
      "Requirement already satisfied: MarkupSafe>=2.0 in /opt/homebrew/Caskroom/miniforge/base/envs/MLOps/lib/python3.12/site-packages (from jinja2>=2.11.2->fastapi[all]) (2.1.5)\r\n",
      "Requirement already satisfied: annotated-types>=0.4.0 in /opt/homebrew/Caskroom/miniforge/base/envs/MLOps/lib/python3.12/site-packages (from pydantic!=1.8,!=1.8.1,!=2.0.0,!=2.0.1,!=2.1.0,<3.0.0,>=1.7.4->fastapi[all]) (0.7.0)\r\n",
      "Requirement already satisfied: pydantic-core==2.20.1 in /opt/homebrew/Caskroom/miniforge/base/envs/MLOps/lib/python3.12/site-packages (from pydantic!=1.8,!=1.8.1,!=2.0.0,!=2.0.1,!=2.1.0,<3.0.0,>=1.7.4->fastapi[all]) (2.20.1)\r\n",
      "Requirement already satisfied: python-dotenv>=0.21.0 in /opt/homebrew/Caskroom/miniforge/base/envs/MLOps/lib/python3.12/site-packages (from pydantic-settings>=2.0.0->fastapi[all]) (1.0.1)\r\n",
      "Requirement already satisfied: click>=7.0 in /opt/homebrew/Caskroom/miniforge/base/envs/MLOps/lib/python3.12/site-packages (from uvicorn>=0.12.0->uvicorn[standard]>=0.12.0->fastapi[all]) (8.1.7)\r\n",
      "Requirement already satisfied: httptools>=0.5.0 in /opt/homebrew/Caskroom/miniforge/base/envs/MLOps/lib/python3.12/site-packages (from uvicorn[standard]>=0.12.0->fastapi[all]) (0.6.1)\r\n",
      "Requirement already satisfied: uvloop!=0.15.0,!=0.15.1,>=0.14.0 in /opt/homebrew/Caskroom/miniforge/base/envs/MLOps/lib/python3.12/site-packages (from uvicorn[standard]>=0.12.0->fastapi[all]) (0.19.0)\r\n",
      "Requirement already satisfied: watchfiles>=0.13 in /opt/homebrew/Caskroom/miniforge/base/envs/MLOps/lib/python3.12/site-packages (from uvicorn[standard]>=0.12.0->fastapi[all]) (0.22.0)\r\n",
      "Requirement already satisfied: websockets>=10.4 in /opt/homebrew/Caskroom/miniforge/base/envs/MLOps/lib/python3.12/site-packages (from uvicorn[standard]>=0.12.0->fastapi[all]) (12.0)\r\n",
      "Requirement already satisfied: shellingham>=1.3.0 in /opt/homebrew/Caskroom/miniforge/base/envs/MLOps/lib/python3.12/site-packages (from typer>=0.12.3->fastapi-cli>=0.0.2->fastapi[all]) (1.5.4)\r\n",
      "Requirement already satisfied: rich>=10.11.0 in /opt/homebrew/Caskroom/miniforge/base/envs/MLOps/lib/python3.12/site-packages (from typer>=0.12.3->fastapi-cli>=0.0.2->fastapi[all]) (13.7.1)\r\n",
      "Requirement already satisfied: markdown-it-py>=2.2.0 in /opt/homebrew/Caskroom/miniforge/base/envs/MLOps/lib/python3.12/site-packages (from rich>=10.11.0->typer>=0.12.3->fastapi-cli>=0.0.2->fastapi[all]) (3.0.0)\r\n",
      "Requirement already satisfied: pygments<3.0.0,>=2.13.0 in /opt/homebrew/Caskroom/miniforge/base/envs/MLOps/lib/python3.12/site-packages (from rich>=10.11.0->typer>=0.12.3->fastapi-cli>=0.0.2->fastapi[all]) (2.18.0)\r\n",
      "Requirement already satisfied: mdurl~=0.1 in /opt/homebrew/Caskroom/miniforge/base/envs/MLOps/lib/python3.12/site-packages (from markdown-it-py>=2.2.0->rich>=10.11.0->typer>=0.12.3->fastapi-cli>=0.0.2->fastapi[all]) (0.1.2)\r\n",
      "Downloading orjson-3.10.6-cp312-cp312-macosx_10_15_x86_64.macosx_11_0_arm64.macosx_10_15_universal2.whl (250 kB)\r\n",
      "\u001B[2K   \u001B[90m━━━━━━━━━━━━━━━━━━━━━━━━━━━━━━━━━━━━━━━━\u001B[0m \u001B[32m250.6/250.6 kB\u001B[0m \u001B[31m14.2 MB/s\u001B[0m eta \u001B[36m0:00:00\u001B[0m\r\n",
      "\u001B[?25hDownloading pydantic_extra_types-2.9.0-py3-none-any.whl (30 kB)\r\n",
      "Downloading pydantic_settings-2.4.0-py3-none-any.whl (23 kB)\r\n",
      "Downloading ujson-5.10.0-cp312-cp312-macosx_11_0_arm64.whl (51 kB)\r\n",
      "\u001B[2K   \u001B[90m━━━━━━━━━━━━━━━━━━━━━━━━━━━━━━━━━━━━━━━━\u001B[0m \u001B[32m51.8/51.8 kB\u001B[0m \u001B[31m7.7 MB/s\u001B[0m eta \u001B[36m0:00:00\u001B[0m\r\n",
      "\u001B[?25hInstalling collected packages: ujson, orjson, pydantic-settings, pydantic-extra-types\r\n",
      "Successfully installed orjson-3.10.6 pydantic-extra-types-2.9.0 pydantic-settings-2.4.0 ujson-5.10.0\r\n"
     ]
    }
   ],
   "execution_count": 3
  },
  {
   "metadata": {},
   "cell_type": "markdown",
   "source": "## FastAPI 를 이용해 간단한 API 만들어보기",
   "id": "d6027904d4430204"
  },
  {
   "metadata": {},
   "cell_type": "markdown",
   "source": "### `main.py`",
   "id": "53aba4d28ecaa6d1"
  },
  {
   "metadata": {
    "ExecuteTime": {
     "end_time": "2024-07-31T05:27:08.060258Z",
     "start_time": "2024-07-31T05:27:08.051509Z"
    }
   },
   "cell_type": "code",
   "source": [
    "%%writefile main.py\n",
    "# textclassifier.py\n",
    "from fastapi import FastAPI #API 를 만들 수 있도록 도와주는 Python 클래스 FastAPI 를 import\n",
    "\n",
    "# Create a FastAPI instance\n",
    "app = FastAPI() #FastAPI 클래스의 인스턴스를 생성합니다. 여기에서 생성하는 인스턴스의 이름에 따라 uvicorn main:app --reload 과 같은 형태로 실행 명령어가 달라지게 됩니다.\n",
    "\n",
    "\n",
    "@app.get(\"/\")\n",
    "def read_root(): #Path Operation Function 은 Path Operation 이 수행되었을 때 호출될 Python 함수\n",
    "    return {\"Hello\": \"World\"} #dict , list , str , int 등이 가능합니다. 또한, 뒤에서 나올 Pydantic Model 의 형태로도 return 할 수 있습니다"
   ],
   "id": "c5dd185de7dad1ae",
   "outputs": [
    {
     "name": "stdout",
     "output_type": "stream",
     "text": [
      "Writing main.py\n"
     ]
    }
   ],
   "execution_count": 4
  },
  {
   "metadata": {},
   "cell_type": "markdown",
   "source": [
    "### 실행\n",
    "터미널에 다음 명령어를 입력하여 작성한 파일을 실행합니다. 파일을 실행하는 법은 아래와 같습니다.\n",
    "\n",
    "    # terminal-command\n",
    "    uvicorn main:app --reload"
   ],
   "id": "4003e1e77a818719"
  },
  {
   "metadata": {},
   "cell_type": "markdown",
   "source": "## Path Parameter 이해하기",
   "id": "eb3adc6873413e8c"
  },
  {
   "metadata": {},
   "cell_type": "markdown",
   "source": [
    "Path Parameter 는 Path Operation 에 포함된 변수로 사용자에게 입력받아 function 의 argument 로 사용되는 parameter 를 의미합니다. [[Path Parameters](https://fastapi.tiangolo.com/tutorial/path-params/)]\n",
    "\n",
    "다음과 같이 `path_param.py` 를 작성하고 `uvicorn path_param:app --reload` 를 입력하여 실행합니다."
   ],
   "id": "597540e2c8e6290c"
  },
  {
   "metadata": {
    "ExecuteTime": {
     "end_time": "2024-07-31T05:36:16.529619Z",
     "start_time": "2024-07-31T05:36:16.515158Z"
    }
   },
   "cell_type": "code",
   "source": [
    "%%writefile path_param.py\n",
    "# path_param.py\n",
    "from fastapi import FastAPI\n",
    "\n",
    "# Create a FastAPI instance\n",
    "app = FastAPI()\n",
    "\n",
    "\n",
    "@app.get(\"/items/{item_id}\")\n",
    "def read_item(item_id: int):\n",
    "    return {\"item_id\": item_id}"
   ],
   "id": "9ad212328bc4e75e",
   "outputs": [
    {
     "name": "stdout",
     "output_type": "stream",
     "text": [
      "Writing path_param.py\n"
     ]
    }
   ],
   "execution_count": 5
  },
  {
   "metadata": {},
   "cell_type": "markdown",
   "source": [
    "## Query Parameter 이해하기\n",
    "Query Parameter 는 function parameter 로는 사용되지만 Path Operation 에 포함되지 않아 Path Parameter 라고 할 수 없는 parameter 를 의미합니다. [[Query Parameters](https://fastapi.tiangolo.com/tutorial/query-params/)]\n",
    "\n",
    "다음과 같이 `query_param.py` 를 작성하고 `uvicorn query_param:app --reload` 를 입력하여 실행합니다."
   ],
   "id": "9d4c1f983f589f3f"
  },
  {
   "metadata": {
    "ExecuteTime": {
     "end_time": "2024-07-31T05:38:21.965113Z",
     "start_time": "2024-07-31T05:38:21.958503Z"
    }
   },
   "cell_type": "code",
   "source": [
    "%%writefile query_param.py\n",
    "# query_param.py\n",
    "from fastapi import FastAPI\n",
    "\n",
    "# Create a FastAPI instance\n",
    "app = FastAPI()\n",
    "\n",
    "fake_items_db = [{\"item_name\": \"Foo\"}, {\"item_name\": \"Bar\"}, {\"item_name\": \"Baz\"}]\n",
    "\n",
    "\n",
    "@app.get(\"/items/\")\n",
    "def read_item(skip: int = 0, limit: int = 10):\n",
    "    return fake_items_db[skip : skip + limit]"
   ],
   "id": "7e0550cb3cc9626f",
   "outputs": [
    {
     "name": "stdout",
     "output_type": "stream",
     "text": [
      "Writing query_param.py\n"
     ]
    }
   ],
   "execution_count": 6
  },
  {
   "metadata": {},
   "cell_type": "markdown",
   "source": [
    "## **Multiple Path and Query Parameters 사용해보기**\n",
    "\n",
    "Path Parameter 와 Query Parameter 를 모두 사용하여 Path Operation Function 을 작성해봅니다. [[Multiple Path and Query Parameters](https://fastapi.tiangolo.com/tutorial/query-params/#multiple-path-and-query-parameters)]\n",
    "\n",
    "다음과 같이 `multi_param.py` 를 작성합니다."
   ],
   "id": "b8e2fcf12703a4dc"
  },
  {
   "metadata": {
    "ExecuteTime": {
     "end_time": "2024-07-31T05:41:30.641251Z",
     "start_time": "2024-07-31T05:41:30.633897Z"
    }
   },
   "cell_type": "code",
   "source": [
    "%%writefile multi_param.py\n",
    "\n",
    "# multi_param.py\n",
    "from typing import Union\n",
    "\n",
    "from fastapi import FastAPI\n",
    "\n",
    "# Create a FastAPI instance\n",
    "app = FastAPI()\n",
    "\n",
    "\n",
    "@app.get(\"/users/{user_id}/items/{item_id}\")\n",
    "def read_user_item(user_id: int, item_id: str, q: Union[str, None] = None, short: bool = False):\n",
    "    item = {\"item_id\": item_id, \"owner_id\": user_id}\n",
    "    if q:\n",
    "        item.update({\"q\": q})\n",
    "    if not short:\n",
    "        item.update(\n",
    "            {\"description\": \"This is an amazing item that has a long description\"},\n",
    "        )\n",
    "    return item"
   ],
   "id": "eeaf807e53c1c1e8",
   "outputs": [
    {
     "name": "stdout",
     "output_type": "stream",
     "text": [
      "Writing multi_param.py\n"
     ]
    }
   ],
   "execution_count": 7
  }
 ],
 "metadata": {
  "kernelspec": {
   "display_name": "Python 3",
   "language": "python",
   "name": "python3"
  },
  "language_info": {
   "codemirror_mode": {
    "name": "ipython",
    "version": 2
   },
   "file_extension": ".py",
   "mimetype": "text/x-python",
   "name": "python",
   "nbconvert_exporter": "python",
   "pygments_lexer": "ipython2",
   "version": "2.7.6"
  }
 },
 "nbformat": 4,
 "nbformat_minor": 5
}
