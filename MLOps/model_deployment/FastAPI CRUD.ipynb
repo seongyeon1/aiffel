{
 "cells": [
  {
   "cell_type": "code",
   "execution_count": null,
   "id": "initial_id",
   "metadata": {
    "collapsed": true
   },
   "outputs": [],
   "source": [
    ""
   ]
  },
  {
   "metadata": {
    "ExecuteTime": {
     "end_time": "2024-07-31T05:51:09.820388Z",
     "start_time": "2024-07-31T05:51:09.816089Z"
    }
   },
   "cell_type": "code",
   "source": [
    "%%writefile crud_path.py\n",
    "# crud_path.py\n",
    "from fastapi import FastAPI, HTTPException\n",
    "\n",
    "# Create a FastAPI instance\n",
    "app = FastAPI()\n",
    "\n",
    "# User database\n",
    "USER_DB = {}\n",
    "\n",
    "# Fail response\n",
    "NAME_NOT_FOUND = HTTPException(status_code=400, detail=\"Name not found.\")\n",
    "\n",
    "\n",
    "@app.post(\"/users/name/{name}/nickname/{nickname}\")\n",
    "def create_user(name: str, nickname: str):\n",
    "    USER_DB[name] = nickname\n",
    "    return {\"status\": \"success\"}\n",
    "\n",
    "\n",
    "@app.get(\"/users/name/{name}\")\n",
    "def read_user(name: str):\n",
    "    if name not in USER_DB:\n",
    "        raise NAME_NOT_FOUND\n",
    "    return {\"nickname\": USER_DB[name]}\n",
    "\n",
    "\n",
    "@app.put(\"/users/name/{name}/nickname/{nickname}\")\n",
    "def update_user(name: str, nickname: str):\n",
    "    if name not in USER_DB:\n",
    "        raise NAME_NOT_FOUND\n",
    "    USER_DB[name] = nickname\n",
    "    return {\"status\": \"success\"}\n",
    "\n",
    "\n",
    "@app.delete(\"/users/name/{name}\")\n",
    "def delete_user(name: str):\n",
    "    if name not in USER_DB:\n",
    "        raise NAME_NOT_FOUND\n",
    "    del USER_DB[name]\n",
    "    return {\"status\": \"success\"}\n"
   ],
   "id": "fe721b91ea1b13",
   "outputs": [
    {
     "name": "stdout",
     "output_type": "stream",
     "text": [
      "Writing crud_path.py\n"
     ]
    }
   ],
   "execution_count": 1
  },
  {
   "metadata": {
    "ExecuteTime": {
     "end_time": "2024-07-31T05:56:43.066859Z",
     "start_time": "2024-07-31T05:56:43.060681Z"
    }
   },
   "cell_type": "code",
   "source": [
    "%%writefile crud_query.py\n",
    "# crud_query.py\n",
    "from fastapi import FastAPI, HTTPException\n",
    "\n",
    "# Create a FastAPI instance\n",
    "app = FastAPI()\n",
    "\n",
    "# User database\n",
    "USER_DB = {}\n",
    "\n",
    "# Fail response\n",
    "NAME_NOT_FOUND = HTTPException(status_code=400, detail=\"Name not found.\")\n",
    "\n",
    "\n",
    "@app.post(\"/users\")\n",
    "def create_user(name: str, nickname: str):\n",
    "    USER_DB[name] = nickname\n",
    "    return {\"status\": \"success\"}\n",
    "\n",
    "\n",
    "@app.get(\"/users\")\n",
    "def read_user(name: str):\n",
    "    if name not in USER_DB:\n",
    "        raise NAME_NOT_FOUND\n",
    "    return {\"nickname\": USER_DB[name]}\n",
    "\n",
    "\n",
    "@app.put(\"/users\")\n",
    "def update_user(name: str, nickname: str):\n",
    "    if name not in USER_DB:\n",
    "        raise NAME_NOT_FOUND\n",
    "    USER_DB[name] = nickname\n",
    "    return {\"status\": \"success\"}\n",
    "\n",
    "\n",
    "@app.delete(\"/users\")\n",
    "def delete_user(name: str):\n",
    "    if name not in USER_DB:\n",
    "        raise NAME_NOT_FOUND\n",
    "    del USER_DB[name]\n",
    "    return {\"status\": \"success\"}\n"
   ],
   "id": "ad7f3f5587211baf",
   "outputs": [
    {
     "name": "stdout",
     "output_type": "stream",
     "text": [
      "Writing crud_query.py\n"
     ]
    }
   ],
   "execution_count": 2
  },
  {
   "metadata": {},
   "cell_type": "markdown",
   "source": [
    "## API 테스트\n",
    "\n",
    "---\n",
    "\n",
    "`http://localhost:8000/docs`를 통해 FastAPI 의 Swagger UI 에 접속하여 다음의 시나리오가 잘 작동하는지 확인합니다.\n",
    "\n",
    "### Create\n",
    "    - POST 를 통해 `{\"name\": \"hello\", \"nickname\": \"world\"}` 로 create 합니다.\n",
    "        - `{\"status\": \"success\"}` 를 정상적으로 return 하는지 확인합니다.\n",
    "\n",
    "### Read\n",
    "    - GET 을 통해 `{\"name\": \"hello\"}` 로 read 합니다.\n",
    "        - `{\"nickname\": \"world\"}` 를 정상적으로 return 하는지 확인합니다.\n",
    "    - GET 을 통해 `{\"name\": \"hello2\"}` 로 read 합니다.\n",
    "        - `{\"detail\": \"Name not found.\"}` 를 return 하며 400 error 가 발생하는지 확인합니다.\n",
    "\n",
    "### Update\n",
    "    - PUT 을 통해 `{\"name\": \"hello\", \"nickname\": \"world\"}` 로 update 합니다.\n",
    "        - `{\"status\": \"success\"}` 를 정상적으로 return 하는지 확인합니다.\n",
    "        - GET 을 통해 `{\"name\": \"hello\"}` 로 read 하여 정상적으로 `{\"nickname\": \"world\"}` 를 return 하는지 확인합니다.\n",
    "    - PUT 을 통해 `{”name”: “hello”, “nickname”: “world2”}` 로 update 합니다.\n",
    "        - `{\"status\": \"success\"}` 를 정상적으로 return 하는지 확인합니다.\n",
    "        - GET 을 통해 `{\"name\": \"hello\"}` 로 read 하여 정상적으로 `{\"nickname\": \"world2\"}` 를 return 하는지 확인합니다.\n",
    "    - PUT 을 통해 `{\"name\": \"hello2\", \"nickname\": \"world2\"}` 로 update 합니다.\n",
    "        - `{\"detail\": \"Name not found.\"}` 를 return 하며 400 error 가 발생하는지 확인합니다.\n",
    "\n",
    "Delete\n",
    "    - DELETE 를 통해 `{\"name\": \"hello\"}` 로 delete 합니다.\n",
    "        - `{\"status\": \"success\"}` 를 정상적으로 return 하는지 확인합니다.\n",
    "        - GET 을 통해 `{\"name\": \"hello\"}` 로 read 하여 `{\"detail\": \"Name not found.\"}` 를 return 하며 400 error 가 발생하는지 확인합니다.\n",
    "    - DELETE 를 통해 `{\"name\": \"hello2\"}` 로 delete 합니다.\n",
    "        - `{\"detail\": \"Name not found.\"}` 를 return 하며 400 error 가 발생하는지 확인합니다.\n",
    "\n",
    "## Path Parameter vs Query Parameter\n",
    "\n",
    "---\n",
    "\n",
    "- Path Parameter 를 이용한 API 에서는 path 에 변수의 값을 저장하여 함수에 전달합니다.\n",
    "\n",
    "- 반면, Query Parameter 를 이용한 API 에서는 path 에 변수의 값을 저장하지 않고 데이터를 전달합니다."
   ],
   "id": "907fab68aa3a5207"
  },
  {
   "metadata": {},
   "cell_type": "markdown",
   "source": "# FastAPI CRUD (Pydantic)",
   "id": "8524568489fb0431"
  },
  {
   "metadata": {
    "ExecuteTime": {
     "end_time": "2024-07-31T06:12:10.829219Z",
     "start_time": "2024-07-31T06:12:10.822944Z"
    }
   },
   "cell_type": "code",
   "source": [
    "%%writefile crud_pydantic.py\n",
    "# crud_pydantic.py\n",
    "from fastapi import FastAPI, HTTPException\n",
    "from pydantic import BaseModel\n",
    "\n",
    "\n",
    "class CreateIn(BaseModel):\n",
    "    name: str\n",
    "    nickname: str\n",
    "\n",
    "\n",
    "class CreateOut(BaseModel):\n",
    "    status: str\n",
    "    id: int\n",
    "\n",
    "# Create a FastAPI instance\n",
    "app = FastAPI()\n",
    "\n",
    "# User database\n",
    "USER_DB = {}\n",
    "\n",
    "# Fail response\n",
    "NAME_NOT_FOUND = HTTPException(status_code=400, detail=\"Name not found.\")\n",
    "\n",
    "\n",
    "@app.post(\"/users\", response_model=CreateOut)\n",
    "def create_user(user: CreateIn):\n",
    "    USER_DB[user.name] = user.nickname\n",
    "    user_dict = user.dict()\n",
    "    user_dict[\"status\"] = \"success\"\n",
    "    user_dict[\"id\"] = len(USER_DB)\n",
    "    return user_dict\n",
    "\n",
    "\n",
    "@app.get(\"/users\")\n",
    "def read_user(name: str):\n",
    "    if name not in USER_DB:\n",
    "        raise NAME_NOT_FOUND\n",
    "    return {\"nickname\": USER_DB[name]}\n",
    "\n",
    "\n",
    "@app.put(\"/users\")\n",
    "def update_user(name: str, nickname: str):\n",
    "    if name not in USER_DB:\n",
    "        raise NAME_NOT_FOUND\n",
    "    USER_DB[name] = nickname\n",
    "    return {\"status\": \"success\"}\n",
    "\n",
    "\n",
    "@app.delete(\"/users\")\n",
    "def delete_user(name: str):\n",
    "    if name not in USER_DB:\n",
    "        raise NAME_NOT_FOUND\n",
    "    del USER_DB[name]\n",
    "    return {\"status\": \"success\"}"
   ],
   "id": "fb33422a509a07ad",
   "outputs": [
    {
     "name": "stdout",
     "output_type": "stream",
     "text": [
      "Writing crud_pydantic.py\n"
     ]
    }
   ],
   "execution_count": 3
  }
 ],
 "metadata": {
  "kernelspec": {
   "display_name": "Python 3",
   "language": "python",
   "name": "python3"
  },
  "language_info": {
   "codemirror_mode": {
    "name": "ipython",
    "version": 2
   },
   "file_extension": ".py",
   "mimetype": "text/x-python",
   "name": "python",
   "nbconvert_exporter": "python",
   "pygments_lexer": "ipython2",
   "version": "2.7.6"
  }
 },
 "nbformat": 4,
 "nbformat_minor": 5
}
