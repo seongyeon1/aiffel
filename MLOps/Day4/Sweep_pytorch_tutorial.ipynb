{
  "nbformat": 4,
  "nbformat_minor": 0,
  "metadata": {
    "colab": {
      "provenance": []
    },
    "kernelspec": {
      "name": "python3",
      "display_name": "Python 3"
    },
    "language_info": {
      "name": "python"
    }
  },
  "cells": [
    {
      "cell_type": "markdown",
      "source": [
        "# Sweep pytorch tutorial\n",
        "\n",
        "📢 해당 노트북은 Wandb 공식 홈페이지 중 다음 내용을 참고했습니다.\n",
        "  \n",
        "[Organizing Hyperparameter Sweeps in PyTorch with W&B](https://colab.research.google.com/github/wandb/examples/blob/master/colabs/pytorch/Organizing_Hyperparameter_Sweeps_in_PyTorch_with_W%26B.ipynb#scrollTo=6IgMNFFT2qe_)  \n",
        "[Wandb Document, Define seep configuration](https://docs.wandb.ai/guides/sweeps/define-sweep-configuration)\n",
        "\n",
        "\n",
        "### 목차  \n",
        "Step 0: W&B Setup하기  \n",
        "Step 1: Congfig 정의하기  \n",
        "Step 2: Dataloader 함수 정의하기  \n",
        "Step 3: 모델 정의하기  \n",
        "Step 4: Train 함수와 Vaild 함수 정의하기  \n",
        "Step 5: Sweep 실행하기  "
      ],
      "metadata": {
        "id": "Mlr3ffFHE8PQ"
      }
    },
    {
      "cell_type": "markdown",
      "source": [
        "## Step 0: W&B Setup하기\n",
        "colab에서 WandB를 사용하려면 wandb modul을 install 해야합니다."
      ],
      "metadata": {
        "id": "DPdhCSuyE-GR"
      }
    },
    {
      "cell_type": "code",
      "execution_count": null,
      "metadata": {
        "id": "V4Jbo_19EwJT"
      },
      "outputs": [],
      "source": [
        "from torchvision import datasets, transforms\n",
        "from torch.utils.data import DataLoader\n",
        "import torch\n",
        "import torch.nn as nn\n",
        "import torch.optim as optim\n",
        "import wandb\n",
        "import math\n",
        "DEVICE = \"cuda\" if torch.cuda.is_available() else \"cpu\""
      ]
    },
    {
      "cell_type": "code",
      "source": [
        "%%capture\n",
        "!pip install wandb --upgrade"
      ],
      "metadata": {
        "id": "QrTQkirNFAvB"
      },
      "execution_count": null,
      "outputs": []
    },
    {
      "cell_type": "code",
      "source": [
        "import wandb\n",
        "\n",
        "wandb.login()"
      ],
      "metadata": {
        "colab": {
          "base_uri": "https://localhost:8080/",
          "height": 72
        },
        "id": "oOhJi-_rFBxG",
        "outputId": "3568dd36-0b00-4bcd-c2c8-9975575ddd6b"
      },
      "execution_count": null,
      "outputs": [
        {
          "output_type": "display_data",
          "data": {
            "text/plain": [
              "<IPython.core.display.Javascript object>"
            ],
            "application/javascript": [
              "\n",
              "        window._wandbApiKey = new Promise((resolve, reject) => {\n",
              "            function loadScript(url) {\n",
              "            return new Promise(function(resolve, reject) {\n",
              "                let newScript = document.createElement(\"script\");\n",
              "                newScript.onerror = reject;\n",
              "                newScript.onload = resolve;\n",
              "                document.body.appendChild(newScript);\n",
              "                newScript.src = url;\n",
              "            });\n",
              "            }\n",
              "            loadScript(\"https://cdn.jsdelivr.net/npm/postmate/build/postmate.min.js\").then(() => {\n",
              "            const iframe = document.createElement('iframe')\n",
              "            iframe.style.cssText = \"width:0;height:0;border:none\"\n",
              "            document.body.appendChild(iframe)\n",
              "            const handshake = new Postmate({\n",
              "                container: iframe,\n",
              "                url: 'https://wandb.ai/authorize'\n",
              "            });\n",
              "            const timeout = setTimeout(() => reject(\"Couldn't auto authenticate\"), 5000)\n",
              "            handshake.then(function(child) {\n",
              "                child.on('authorize', data => {\n",
              "                    clearTimeout(timeout)\n",
              "                    resolve(data)\n",
              "                });\n",
              "            });\n",
              "            })\n",
              "        });\n",
              "    "
            ]
          },
          "metadata": {}
        },
        {
          "output_type": "stream",
          "name": "stderr",
          "text": [
            "\u001b[34m\u001b[1mwandb\u001b[0m: Appending key for api.wandb.ai to your netrc file: /root/.netrc\n"
          ]
        },
        {
          "output_type": "execute_result",
          "data": {
            "text/plain": [
              "True"
            ]
          },
          "metadata": {},
          "execution_count": 4
        }
      ]
    },
    {
      "cell_type": "markdown",
      "source": [
        "## Step1. Config 정의하기\n",
        "\n",
        "sweep에 필요한 config 파일을 정의합니다.  \n",
        "\n",
        "그 외 config 정의 방법들 .. https://docs.wandb.ai/guides/sweeps/define-sweep-configuration"
      ],
      "metadata": {
        "id": "HSL4oHFzFDA6"
      }
    },
    {
      "cell_type": "code",
      "source": [
        "sweep_config = {\n",
        "    'name' : 'bayes-test',\n",
        "    'method': 'random',\n",
        "    'metric' : {\n",
        "        'name': 'val_loss',\n",
        "        'goal': 'minimize'\n",
        "        },\n",
        "    'parameters' : {\n",
        "        'optimizer': {\n",
        "            'values': ['adam', 'sgd']\n",
        "            },\n",
        "        'dropout': {\n",
        "            'values': [0.3, 0.4]\n",
        "            },\n",
        "        'learning_rate': {\n",
        "            'distribution': 'uniform',\n",
        "            'min': 0,\n",
        "            'max': 0.1\n",
        "            },\n",
        "        'epochs': {\n",
        "            'values': [5, 6]\n",
        "            },\n",
        "        'batch_size': {\n",
        "            'distribution': 'q_log_uniform',\n",
        "            'q': 1,\n",
        "            'min': math.log(32),\n",
        "            'max': math.log(256),\n",
        "            }\n",
        "        }\n",
        "    }"
      ],
      "metadata": {
        "id": "z4xq43Q_FDZK"
      },
      "execution_count": null,
      "outputs": []
    },
    {
      "cell_type": "markdown",
      "source": [
        "## Step2. Dataloader 함수 정의하기\n",
        "mnist 함수를 사용해서 dataloader를 구성하겠습니다."
      ],
      "metadata": {
        "id": "AZ9mI9_UFJnh"
      }
    },
    {
      "cell_type": "code",
      "source": [
        "def SweepDataset(batch_size):\n",
        "    transform = transforms.Compose(\n",
        "        [transforms.ToTensor(),\n",
        "         transforms.Normalize((0.1307,), (0.3081,))])\n",
        "\n",
        "    train_data = datasets.MNIST(\".\",\n",
        "                train=True,\n",
        "                download=True,\n",
        "                transform=transform)\n",
        "\n",
        "    test_data = datasets.MNIST(\".\",\n",
        "                train=False,\n",
        "                download=True,\n",
        "                transform=transform)\n",
        "\n",
        "\n",
        "    train_loader = DataLoader(train_data, batch_size=batch_size)\n",
        "    test_loader = DataLoader(test_data, batch_size=batch_size)\n",
        "\n",
        "    return train_loader, test_loader"
      ],
      "metadata": {
        "id": "1gJ3AyixFKAv"
      },
      "execution_count": null,
      "outputs": []
    },
    {
      "cell_type": "markdown",
      "source": [
        "## Step3. 모델 정의하기\n",
        "모델과 optimizer를 정의해줍니다."
      ],
      "metadata": {
        "id": "5S9EWXS7FM3G"
      }
    },
    {
      "cell_type": "code",
      "source": [
        "class ConvNet(nn.Module):\n",
        "    def __init__(self, dropout):\n",
        "        super(ConvNet, self).__init__()\n",
        "        self.layer1 = nn.Sequential(\n",
        "            nn.Conv2d(1, 32, 3, 1, 1), nn.ReLU(),\n",
        "            nn.MaxPool2d(2, 2))\n",
        "        self.layer2 = nn.Sequential(\n",
        "            nn.Conv2d(32, 64, 3, 1, 1), nn.ReLU(),\n",
        "            nn.MaxPool2d(2, 2))\n",
        "        self.layer3 = nn.Sequential(\n",
        "            nn.Linear(64 * 7 * 7, 128, bias=True), nn.ReLU(),\n",
        "            nn.Dropout2d(p=dropout))\n",
        "        self.layer4 = nn.Sequential(\n",
        "            nn.Linear(128, 84), nn.ReLU(),\n",
        "            nn.Dropout2d(p=dropout))\n",
        "        self.fc3 = nn.Linear(84, 10)\n",
        "\n",
        "    def forward(self, x):\n",
        "        x = self.layer1(x)\n",
        "        x = self.layer2(x)\n",
        "        x = x.view(x.size(0),-1)\n",
        "        x = self.layer3(x)\n",
        "        x = self.layer4(x)\n",
        "        x = self.fc3(x)\n",
        "        return x"
      ],
      "metadata": {
        "id": "X_DY7mpmFLiC"
      },
      "execution_count": null,
      "outputs": []
    },
    {
      "cell_type": "code",
      "source": [
        "def build_optimizer(network, optimizer, learning_rate):\n",
        "    if optimizer == \"sgd\":\n",
        "        optimizer = optim.SGD(network.parameters(),\n",
        "                              lr=learning_rate, momentum=0.9)\n",
        "    elif optimizer == \"adam\":\n",
        "        optimizer = optim.Adam(network.parameters(),\n",
        "                               lr=learning_rate)\n",
        "    return optimizer"
      ],
      "metadata": {
        "id": "hQNB6NAwFOLK"
      },
      "execution_count": null,
      "outputs": []
    },
    {
      "cell_type": "markdown",
      "source": [
        "## Step4. Train 함수와 Vaild함수 정의하기\n",
        "train함수는 학습을 진행하면서 loss를 출력합니다.  \n",
        "vaild함수는 학습 중간에 Accuracy를 사용해서 평가합니다."
      ],
      "metadata": {
        "id": "hrTTBl7kFQXO"
      }
    },
    {
      "cell_type": "code",
      "source": [
        "def train(model, loader, criterion, optimizer, device, config, wandb):\n",
        "    model.train()\n",
        "    wandb.watch(model, criterion, log=\"all\", log_freq=10)\n",
        "\n",
        "    for epoch in range(config.epochs):\n",
        "        cumu_loss = 0\n",
        "        for images, labels in loader:\n",
        "            images, labels  = images.to(device), labels.to(device)\n",
        "\n",
        "            output = model(images)\n",
        "            loss = criterion(output, labels)\n",
        "            cumu_loss += loss.item()\n",
        "\n",
        "            optimizer.zero_grad()\n",
        "            loss.backward()\n",
        "            optimizer.step()\n",
        "\n",
        "        avg_loss = cumu_loss / len(loader)\n",
        "        wandb.log({\"train_loss\": avg_loss}, step=epoch)\n",
        "        print(f\"TRAIN: EPOCH {epoch + 1:04d} / {config.epochs:04d} | Epoch LOSS {avg_loss:.4f}\")"
      ],
      "metadata": {
        "id": "61duktwbFPT1"
      },
      "execution_count": null,
      "outputs": []
    },
    {
      "cell_type": "code",
      "source": [
        "def vaild(model, loader, criterion, device,  wandb):\n",
        "    model.eval()\n",
        "\n",
        "    with torch.no_grad():\n",
        "        correct, test_loss = 0, 0\n",
        "        for data, target in loader:\n",
        "            data, target = data.to(device), target.to(device)\n",
        "            output = model(data)\n",
        "\n",
        "            test_loss += criterion(output, target).item()\n",
        "\n",
        "            pred = output.max(1, keepdim=True)[1]\n",
        "            correct += pred.eq(target.view_as(pred)).sum().item()\n",
        "\n",
        "\n",
        "    val_loss = test_loss / len(loader)\n",
        "    print(f\"VALID: LOSS {val_loss:.4f} | Accuracy {val_loss:.4f} \")\n",
        "    wandb.log({\n",
        "        \"val_acc\": 100. * correct / len(loader.dataset),\n",
        "        \"val_loss\": val_loss})"
      ],
      "metadata": {
        "id": "ahUQsF4tFRsD"
      },
      "execution_count": null,
      "outputs": []
    },
    {
      "cell_type": "markdown",
      "source": [
        "## Step5. Sweep 실행하기\n",
        "- `wandb.init(config)` : hyperparameter의 초기값을 wandb.init에 입력으로 넣어줌\n",
        "- `w_config = wandb.config` : sweep할 대상인 hyperparameter를 config로 정의\n",
        "- `w_config.optimizer` : loader, model, optimizer에 `w_config`를 매개변수로 전달\n",
        "- `wandb.watch(model, log='all')` : wandb.watch함수로 gradient추적\n",
        "- `wandb.log({'Epoch':epoch, 'loss':avg_loss, 'epoch':epoch})` : epoch별로 나오는 log를 wandb.log에 저장\n",
        "- `sweep_id = wandb.sweep(config.sweep_config)` : config파일에 정의해둔 구성요소를 wandb.sweep에 입력  \n",
        "    - [command line](https://docs.wandb.ai/ref/cli/wandb-sweep)\n",
        "\n",
        "    - [python code](https://docs.wandb.ai/ref/python/sweep)\n",
        "\n",
        "    - [github](https://github.com/wandb/wandb/blob/latest/wandb/sdk/wandb_sweep.py#L31-L118)\n",
        "- `wandb.agent(sweep_id, train, count=2)` : sweep_id, train함수, count횟수 (몇 번 sweep을 진행할지)를 wandb.agent에 입력하고, sweep을 실행\n",
        "    - [command line](https://docs.wandb.ai/ref/cli/wandb-agent)\n",
        "\n",
        "    - [python](https://docs.wandb.ai/ref/python/agent)\n",
        "\n",
        "    - [github](https://github.com/wandb/wandb/blob/latest/wandb/wandb_agent.py#L589-L650)"
      ],
      "metadata": {
        "id": "9C2S-BJIFT0X"
      }
    },
    {
      "cell_type": "code",
      "source": [
        "def run_sweeep(config=None):\n",
        "    wandb.init(config=config)\n",
        "\n",
        "    w_config = wandb.config\n",
        "\n",
        "    criterion = nn.CrossEntropyLoss()\n",
        "    train_loader, vaild_loader = SweepDataset(w_config.batch_size)\n",
        "    model = ConvNet(w_config.dropout).to(DEVICE)\n",
        "    optimizer = build_optimizer(model, w_config.optimizer, w_config.learning_rate)\n",
        "\n",
        "    train(model, train_loader, criterion, optimizer, DEVICE, w_config, wandb)\n",
        "    vaild(model, vaild_loader, criterion, DEVICE, wandb)"
      ],
      "metadata": {
        "id": "il9RvoQCFS7Z"
      },
      "execution_count": null,
      "outputs": []
    },
    {
      "cell_type": "markdown",
      "source": [
        "### entity와 project에 대해서\n",
        "\n",
        "entitiy와 project는 agent뿐만 아니라 wandb.sweep에서도 설정할 수 있고 그 이전에 sweep_config에서도 설정할 수도 있습니다.\n",
        "\n",
        "최종단계인 agent에 입력했지만 원하는대로 커스텀하시기 바랍니다.\n",
        "\n",
        "단, entitiy와 project를 입력하는 것 자체는 꼭 기억하시기 바랍니다."
      ],
      "metadata": {
        "id": "mOX9zDWGMwx_"
      }
    },
    {
      "cell_type": "code",
      "source": [
        "sweep_id = wandb.sweep(sweep_config, project=\"sweep_tutorial\", entity='rimiyeyo')\n",
        "wandb.agent(sweep_id, run_sweeep, count=6)"
      ],
      "metadata": {
        "id": "3l2i2v_LFVEq"
      },
      "execution_count": null,
      "outputs": []
    },
    {
      "cell_type": "markdown",
      "source": [
        "\n",
        "경우에 따라(parameter의 조합이 무한대일때) sweep이 종료가 되지 않을 수 있습니다.\n",
        "\n",
        "ctrl + c 로(여기에선 실행 중단)으로 종료해주셔야합니다."
      ],
      "metadata": {
        "id": "-1V_dhh4Ml0-"
      }
    },
    {
      "cell_type": "code",
      "source": [
        "wandb.finish()"
      ],
      "metadata": {
        "id": "3cOI1k7VMlVJ"
      },
      "execution_count": null,
      "outputs": []
    }
  ]
}