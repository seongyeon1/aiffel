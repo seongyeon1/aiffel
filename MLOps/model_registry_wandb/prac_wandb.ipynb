{
 "cells": [
  {
   "metadata": {},
   "cell_type": "markdown",
   "source": "# Model Registry",
   "id": "ca53113f6b275010"
  },
  {
   "metadata": {
    "ExecuteTime": {
     "end_time": "2024-07-30T07:43:58.373147Z",
     "start_time": "2024-07-30T07:43:55.439545Z"
    }
   },
   "cell_type": "code",
   "source": "!pip install wandb",
   "id": "2b388b2c89b9c9de",
   "outputs": [
    {
     "name": "stdout",
     "output_type": "stream",
     "text": [
      "Collecting wandb\r\n",
      "  Downloading wandb-0.17.5-py3-none-macosx_11_0_arm64.whl.metadata (10 kB)\r\n",
      "Requirement already satisfied: click!=8.0.0,>=7.1 in /opt/homebrew/Caskroom/miniforge/base/envs/MLOps/lib/python3.12/site-packages (from wandb) (8.1.7)\r\n",
      "Collecting docker-pycreds>=0.4.0 (from wandb)\r\n",
      "  Downloading docker_pycreds-0.4.0-py2.py3-none-any.whl.metadata (1.8 kB)\r\n",
      "Requirement already satisfied: gitpython!=3.1.29,>=1.0.0 in /opt/homebrew/Caskroom/miniforge/base/envs/MLOps/lib/python3.12/site-packages (from wandb) (3.1.43)\r\n",
      "Requirement already satisfied: platformdirs in /opt/homebrew/Caskroom/miniforge/base/envs/MLOps/lib/python3.12/site-packages (from wandb) (4.2.2)\r\n",
      "Requirement already satisfied: protobuf!=4.21.0,<6,>=3.19.0 in /opt/homebrew/Caskroom/miniforge/base/envs/MLOps/lib/python3.12/site-packages (from wandb) (4.25.4)\r\n",
      "Requirement already satisfied: psutil>=5.0.0 in /opt/homebrew/Caskroom/miniforge/base/envs/MLOps/lib/python3.12/site-packages (from wandb) (6.0.0)\r\n",
      "Requirement already satisfied: pyyaml in /opt/homebrew/Caskroom/miniforge/base/envs/MLOps/lib/python3.12/site-packages (from wandb) (6.0.1)\r\n",
      "Requirement already satisfied: requests<3,>=2.0.0 in /opt/homebrew/Caskroom/miniforge/base/envs/MLOps/lib/python3.12/site-packages (from wandb) (2.32.3)\r\n",
      "Collecting sentry-sdk>=1.0.0 (from wandb)\r\n",
      "  Downloading sentry_sdk-2.11.0-py2.py3-none-any.whl.metadata (14 kB)\r\n",
      "Collecting setproctitle (from wandb)\r\n",
      "  Downloading setproctitle-1.3.3-cp312-cp312-macosx_10_9_universal2.whl.metadata (9.9 kB)\r\n",
      "Requirement already satisfied: setuptools in /opt/homebrew/Caskroom/miniforge/base/envs/MLOps/lib/python3.12/site-packages (from wandb) (71.0.4)\r\n",
      "Requirement already satisfied: six>=1.4.0 in /opt/homebrew/Caskroom/miniforge/base/envs/MLOps/lib/python3.12/site-packages (from docker-pycreds>=0.4.0->wandb) (1.16.0)\r\n",
      "Requirement already satisfied: gitdb<5,>=4.0.1 in /opt/homebrew/Caskroom/miniforge/base/envs/MLOps/lib/python3.12/site-packages (from gitpython!=3.1.29,>=1.0.0->wandb) (4.0.11)\r\n",
      "Requirement already satisfied: charset-normalizer<4,>=2 in /opt/homebrew/Caskroom/miniforge/base/envs/MLOps/lib/python3.12/site-packages (from requests<3,>=2.0.0->wandb) (3.3.2)\r\n",
      "Requirement already satisfied: idna<4,>=2.5 in /opt/homebrew/Caskroom/miniforge/base/envs/MLOps/lib/python3.12/site-packages (from requests<3,>=2.0.0->wandb) (3.7)\r\n",
      "Requirement already satisfied: urllib3<3,>=1.21.1 in /opt/homebrew/Caskroom/miniforge/base/envs/MLOps/lib/python3.12/site-packages (from requests<3,>=2.0.0->wandb) (1.26.19)\r\n",
      "Requirement already satisfied: certifi>=2017.4.17 in /opt/homebrew/Caskroom/miniforge/base/envs/MLOps/lib/python3.12/site-packages (from requests<3,>=2.0.0->wandb) (2024.7.4)\r\n",
      "Requirement already satisfied: smmap<6,>=3.0.1 in /opt/homebrew/Caskroom/miniforge/base/envs/MLOps/lib/python3.12/site-packages (from gitdb<5,>=4.0.1->gitpython!=3.1.29,>=1.0.0->wandb) (5.0.1)\r\n",
      "Downloading wandb-0.17.5-py3-none-macosx_11_0_arm64.whl (6.7 MB)\r\n",
      "\u001B[2K   \u001B[90m━━━━━━━━━━━━━━━━━━━━━━━━━━━━━━━━━━━━━━━━\u001B[0m \u001B[32m6.7/6.7 MB\u001B[0m \u001B[31m43.2 MB/s\u001B[0m eta \u001B[36m0:00:00\u001B[0ma \u001B[36m0:00:01\u001B[0m\r\n",
      "\u001B[?25hDownloading docker_pycreds-0.4.0-py2.py3-none-any.whl (9.0 kB)\r\n",
      "Downloading sentry_sdk-2.11.0-py2.py3-none-any.whl (303 kB)\r\n",
      "\u001B[2K   \u001B[90m━━━━━━━━━━━━━━━━━━━━━━━━━━━━━━━━━━━━━━━━\u001B[0m \u001B[32m303.6/303.6 kB\u001B[0m \u001B[31m42.8 MB/s\u001B[0m eta \u001B[36m0:00:00\u001B[0m\r\n",
      "\u001B[?25hDownloading setproctitle-1.3.3-cp312-cp312-macosx_10_9_universal2.whl (16 kB)\r\n",
      "Installing collected packages: setproctitle, sentry-sdk, docker-pycreds, wandb\r\n",
      "Successfully installed docker-pycreds-0.4.0 sentry-sdk-2.11.0 setproctitle-1.3.3 wandb-0.17.5\r\n"
     ]
    }
   ],
   "execution_count": 1
  },
  {
   "metadata": {},
   "cell_type": "markdown",
   "source": "# Save Model to Registry",
   "id": "27abf896dce82294"
  },
  {
   "metadata": {
    "ExecuteTime": {
     "end_time": "2024-07-30T08:49:40.890728Z",
     "start_time": "2024-07-30T08:49:40.881567Z"
    }
   },
   "cell_type": "code",
   "source": [
    "%%writefile save_model_to_registry.py\n",
    "# save_model_to_registry.py\n",
    "import os\n",
    "from argparse import ArgumentParser\n",
    "\n",
    "import pandas as pd\n",
    "import psycopg2\n",
    "from sklearn.metrics import accuracy_score\n",
    "from sklearn.model_selection import train_test_split\n",
    "from sklearn.pipeline import Pipeline\n",
    "from sklearn.preprocessing import StandardScaler\n",
    "from sklearn.svm import SVC\n",
    "import joblib\n",
    "import wandb\n",
    "\n",
    "# 0. set wandb environments\n",
    "wandb.init(project=\"sklearn\", entity=\"seongyeonkim\")\n",
    "\n",
    "# 1. get data\n",
    "db_connect = psycopg2.connect(\n",
    "    user=\"myuser\",\n",
    "    password=\"mypassword\",\n",
    "    host=\"localhost\",\n",
    "    port=5432,\n",
    "    database=\"mydatabase\",\n",
    ")\n",
    "df = pd.read_sql(\"SELECT * FROM iris_data ORDER BY id DESC LIMIT 100\", db_connect)\n",
    "\n",
    "X = df.drop([\"id\", \"timestamp\", \"target\"], axis=\"columns\")\n",
    "y = df[\"target\"]\n",
    "X_train, X_valid, y_train, y_valid = train_test_split(X, y, train_size=0.8, random_state=2022)\n",
    "\n",
    "# 2. model development and train\n",
    "model_pipeline = Pipeline([(\"scaler\", StandardScaler()), (\"svc\", SVC())])\n",
    "model_pipeline.fit(X_train, y_train)\n",
    "\n",
    "train_pred = model_pipeline.predict(X_train)\n",
    "valid_pred = model_pipeline.predict(X_valid)\n",
    "\n",
    "train_acc = accuracy_score(y_true=y_train, y_pred=train_pred)\n",
    "valid_acc = accuracy_score(y_true=y_valid, y_pred=valid_pred)\n",
    "\n",
    "print(\"Train Accuracy :\", train_acc)\n",
    "print(\"Valid Accuracy :\", valid_acc)\n",
    "\n",
    "# Log metrics to wandb\n",
    "wandb.log({\"train_accuracy\": train_acc, \"valid_accuracy\": valid_acc})\n",
    "\n",
    "# 3. save model\n",
    "parser = ArgumentParser()\n",
    "parser.add_argument(\"--model-name\", dest=\"model_name\", type=str, default=\"sk_model\")\n",
    "args = parser.parse_args()\n",
    "\n",
    "model_path = f\"{args.model_name}.joblib\"\n",
    "joblib.dump(model_pipeline, model_path)\n",
    "\n",
    "# Log the model to wandb\n",
    "wandb.save(model_path)\n",
    "\n",
    "# 4. save data\n",
    "df.to_csv(\"data.csv\", index=False)\n",
    "\n",
    "# Finish the wandb run\n",
    "wandb.finish()"
   ],
   "id": "626d1ea51f43ca8d",
   "outputs": [
    {
     "name": "stdout",
     "output_type": "stream",
     "text": [
      "Writing save_model_to_registry.py\n"
     ]
    }
   ],
   "execution_count": 36
  },
  {
   "metadata": {},
   "cell_type": "markdown",
   "source": "## Load and predict.py",
   "id": "a289796e601e6a54"
  },
  {
   "metadata": {
    "ExecuteTime": {
     "end_time": "2024-07-30T08:47:47.704057Z",
     "start_time": "2024-07-30T08:47:47.699115Z"
    }
   },
   "cell_type": "code",
   "source": [
    "%%writefile load_and_predict.py\n",
    "# load_and_predict.py\n",
    "import os\n",
    "import pandas as pd\n",
    "import psycopg2\n",
    "# from sklearn.pipeline import Pipeline\n",
    "\n",
    "from sklearn.metrics import accuracy_score\n",
    "from sklearn.model_selection import train_test_split\n",
    "# from sklearn.preprocessing import StandardScaler\n",
    "# from sklearn.svm import SVC\n",
    "import joblib\n",
    "import wandb\n",
    "\n",
    "# 0. set wandb environments\n",
    "wandb.init(project=\"sklearn\", entity=\"seongyeonkim\")\n",
    "\n",
    "# 1. download model from wandb\n",
    "model_path = \"sk_model.joblib\"\n",
    "wandb.restore(model_path)\n",
    "\n",
    "# 2. load the model\n",
    "model_pipeline = joblib.load(model_path)\n",
    "\n",
    "# 3. get new data for prediction\n",
    "db_connect = psycopg2.connect(\n",
    "    user=\"myuser\",\n",
    "    password=\"mypassword\",\n",
    "    host=\"localhost\",\n",
    "    port=5432,\n",
    "    database=\"mydatabase\",\n",
    ")\n",
    "\n",
    "db_connect = psycopg2.connect(\n",
    "    user=\"myuser\",\n",
    "    password=\"mypassword\",\n",
    "    host=\"localhost\",\n",
    "    port=5432,\n",
    "    database=\"mydatabase\",\n",
    ")\n",
    "\n",
    "df = pd.read_sql(\"SELECT * FROM iris_data ORDER BY id DESC LIMIT 100\", db_connect)\n",
    "\n",
    "X = df.drop([\"id\", \"timestamp\", \"target\"], axis=\"columns\")\n",
    "y = df[\"target\"]\n",
    "X_train, X_valid, y_train, y_valid = train_test_split(X, y, train_size=0.8, random_state=2022)\n",
    "\n",
    "# 2. model development and train\n",
    "model_pipeline.fit(X_train, y_train)\n",
    "\n",
    "train_pred = model_pipeline.predict(X_train)\n",
    "valid_pred = model_pipeline.predict(X_valid)\n",
    "\n",
    "train_acc = accuracy_score(y_true=y_train, y_pred=train_pred)\n",
    "valid_acc = accuracy_score(y_true=y_valid, y_pred=valid_pred)\n",
    "\n",
    "print(\"Train Accuracy :\", train_acc)\n",
    "print(\"Valid Accuracy :\", valid_acc)\n",
    "\n",
    "# Finish the wandb run\n",
    "wandb.finish()"
   ],
   "id": "e27a8be9e5b11c85",
   "outputs": [
    {
     "name": "stdout",
     "output_type": "stream",
     "text": [
      "Overwriting load_and_predict.py\n"
     ]
    }
   ],
   "execution_count": 35
  }
 ],
 "metadata": {
  "kernelspec": {
   "display_name": "Python 3",
   "language": "python",
   "name": "python3"
  },
  "language_info": {
   "codemirror_mode": {
    "name": "ipython",
    "version": 2
   },
   "file_extension": ".py",
   "mimetype": "text/x-python",
   "name": "python",
   "nbconvert_exporter": "python",
   "pygments_lexer": "ipython2",
   "version": "2.7.6"
  }
 },
 "nbformat": 4,
 "nbformat_minor": 5
}
