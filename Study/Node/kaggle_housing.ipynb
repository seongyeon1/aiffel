{
 "cells": [
  {
   "cell_type": "code",
   "id": "initial_id",
   "metadata": {
    "collapsed": true,
    "ExecuteTime": {
     "end_time": "2024-05-29T07:33:27.250093Z",
     "start_time": "2024-05-29T07:33:27.235133Z"
    }
   },
   "source": [
    "import pandas as pd\n",
    "\n",
    "s1 = pd.read_csv('submission.csv')"
   ],
   "outputs": [],
   "execution_count": 1
  },
  {
   "metadata": {
    "ExecuteTime": {
     "end_time": "2024-05-29T07:33:38.132613Z",
     "start_time": "2024-05-29T07:33:38.126306Z"
    }
   },
   "cell_type": "code",
   "source": "s2 = pd.read_csv('submission_pca (1).csv')",
   "id": "3ec8c34361d44034",
   "outputs": [],
   "execution_count": 2
  },
  {
   "metadata": {
    "ExecuteTime": {
     "end_time": "2024-05-29T07:33:52.925643Z",
     "start_time": "2024-05-29T07:33:52.920558Z"
    }
   },
   "cell_type": "code",
   "source": "n1 = s1 * 0.8 + s2 * 0.2",
   "id": "7e1351452e7bf241",
   "outputs": [],
   "execution_count": 3
  },
  {
   "metadata": {
    "ExecuteTime": {
     "end_time": "2024-05-29T07:34:02.832886Z",
     "start_time": "2024-05-29T07:34:02.822657Z"
    }
   },
   "cell_type": "code",
   "source": "s1",
   "id": "5cfdc820286496d",
   "outputs": [
    {
     "data": {
      "text/plain": [
       "         id         price\n",
       "0     15035  5.299667e+05\n",
       "1     15036  4.307262e+05\n",
       "2     15037  1.361677e+06\n",
       "3     15038  3.338036e+05\n",
       "4     15039  3.089006e+05\n",
       "...     ...           ...\n",
       "6463  21498  2.478657e+05\n",
       "6464  21499  4.156358e+05\n",
       "6465  21500  4.520817e+05\n",
       "6466  21501  3.415730e+05\n",
       "6467  21502  4.217251e+05\n",
       "\n",
       "[6468 rows x 2 columns]"
      ],
      "text/html": [
       "<div>\n",
       "<style scoped>\n",
       "    .dataframe tbody tr th:only-of-type {\n",
       "        vertical-align: middle;\n",
       "    }\n",
       "\n",
       "    .dataframe tbody tr th {\n",
       "        vertical-align: top;\n",
       "    }\n",
       "\n",
       "    .dataframe thead th {\n",
       "        text-align: right;\n",
       "    }\n",
       "</style>\n",
       "<table border=\"1\" class=\"dataframe\">\n",
       "  <thead>\n",
       "    <tr style=\"text-align: right;\">\n",
       "      <th></th>\n",
       "      <th>id</th>\n",
       "      <th>price</th>\n",
       "    </tr>\n",
       "  </thead>\n",
       "  <tbody>\n",
       "    <tr>\n",
       "      <th>0</th>\n",
       "      <td>15035</td>\n",
       "      <td>5.299667e+05</td>\n",
       "    </tr>\n",
       "    <tr>\n",
       "      <th>1</th>\n",
       "      <td>15036</td>\n",
       "      <td>4.307262e+05</td>\n",
       "    </tr>\n",
       "    <tr>\n",
       "      <th>2</th>\n",
       "      <td>15037</td>\n",
       "      <td>1.361677e+06</td>\n",
       "    </tr>\n",
       "    <tr>\n",
       "      <th>3</th>\n",
       "      <td>15038</td>\n",
       "      <td>3.338036e+05</td>\n",
       "    </tr>\n",
       "    <tr>\n",
       "      <th>4</th>\n",
       "      <td>15039</td>\n",
       "      <td>3.089006e+05</td>\n",
       "    </tr>\n",
       "    <tr>\n",
       "      <th>...</th>\n",
       "      <td>...</td>\n",
       "      <td>...</td>\n",
       "    </tr>\n",
       "    <tr>\n",
       "      <th>6463</th>\n",
       "      <td>21498</td>\n",
       "      <td>2.478657e+05</td>\n",
       "    </tr>\n",
       "    <tr>\n",
       "      <th>6464</th>\n",
       "      <td>21499</td>\n",
       "      <td>4.156358e+05</td>\n",
       "    </tr>\n",
       "    <tr>\n",
       "      <th>6465</th>\n",
       "      <td>21500</td>\n",
       "      <td>4.520817e+05</td>\n",
       "    </tr>\n",
       "    <tr>\n",
       "      <th>6466</th>\n",
       "      <td>21501</td>\n",
       "      <td>3.415730e+05</td>\n",
       "    </tr>\n",
       "    <tr>\n",
       "      <th>6467</th>\n",
       "      <td>21502</td>\n",
       "      <td>4.217251e+05</td>\n",
       "    </tr>\n",
       "  </tbody>\n",
       "</table>\n",
       "<p>6468 rows × 2 columns</p>\n",
       "</div>"
      ]
     },
     "execution_count": 5,
     "metadata": {},
     "output_type": "execute_result"
    }
   ],
   "execution_count": 5
  },
  {
   "metadata": {
    "ExecuteTime": {
     "end_time": "2024-05-29T07:35:49.230889Z",
     "start_time": "2024-05-29T07:35:49.227735Z"
    }
   },
   "cell_type": "code",
   "source": "n1['id'] = n1['id'].astype('int')",
   "id": "de668ab6fd10632f",
   "outputs": [],
   "execution_count": 9
  },
  {
   "metadata": {
    "ExecuteTime": {
     "end_time": "2024-05-29T07:35:54.648095Z",
     "start_time": "2024-05-29T07:35:54.630766Z"
    }
   },
   "cell_type": "code",
   "source": "n1.to_csv('submission_new.csv', index=False)",
   "id": "f41d7d9c03e8e916",
   "outputs": [],
   "execution_count": 10
  },
  {
   "metadata": {},
   "cell_type": "code",
   "outputs": [],
   "execution_count": null,
   "source": "",
   "id": "2252645214ed2985"
  }
 ],
 "metadata": {
  "kernelspec": {
   "display_name": "Python 3",
   "language": "python",
   "name": "python3"
  },
  "language_info": {
   "codemirror_mode": {
    "name": "ipython",
    "version": 2
   },
   "file_extension": ".py",
   "mimetype": "text/x-python",
   "name": "python",
   "nbconvert_exporter": "python",
   "pygments_lexer": "ipython2",
   "version": "2.7.6"
  }
 },
 "nbformat": 4,
 "nbformat_minor": 5
}
