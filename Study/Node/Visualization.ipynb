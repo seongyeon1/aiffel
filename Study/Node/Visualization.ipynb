{
 "cells": [
  {
   "cell_type": "markdown",
   "id": "791f9c44",
   "metadata": {},
   "source": [
    "### 학습 목표\n",
    "- 파이썬 라이브러리(Pandas, Matplotlib, Seaborn)를 이용해서 여러 가지 그래프를 그리는 법을 학습합니다.\n",
    "- 실전 데이터셋으로 직접 시각화해보며 데이터 분석에 필요한 탐색적 데이터 분석(EDA)을 하고 인사이트를 도출해 봅니다.\n",
    "---\n",
    "### 학습 목차\n",
    "1. 파이썬으로 그래프를 그린다는 건?\n",
    "1. 간단한 그래프 그리기\n",
    "1. 그래프 4대 천왕: 막대그래프, 선그래프, 산점도, 히스토그램\n",
    "1. 시계열 데이터 시각화하기\n",
    "1. Heatmap"
   ]
  },
  {
   "cell_type": "markdown",
   "id": "23738aea",
   "metadata": {},
   "source": [
    "### 파이썬으로 그래프를 그린다는 건?\n",
    "\n",
    "시각화는 데이터를 파악하는 데 매우 중요한 도구입니다. 파이썬은 Pandas, Matplotlib, Seaborn 등 여러 가지 시각화 라이브러리를 제공합니다. Matplotlib와 Seaborn 역시 Pandas와 동일하게 pip를 이용해 설치하시면 됩니다. 클라우드 환경에는 이미 설치가 되어 있으니 잘 설치되어 있는지 확인해 봅시다.\n",
    "```bash\n",
    "$ pip list | grep matplotlib \n",
    "$ pip list | grep seaborn\n",
    "```"
   ]
  },
  {
   "cell_type": "code",
   "execution_count": 2,
   "id": "00157dbf",
   "metadata": {},
   "source": [
    "import matplotlib.pyplot as plt\n",
    "%matplotlib inline\n",
    "\n",
    "# 그래프 데이터 \n",
    "subject = ['English', 'Math', 'Korean', 'Science', 'Computer']\n",
    "points = [40, 90, 50, 60, 100]\n",
    "\n",
    "# 축 그리기\n",
    "fig = plt.figure()\n",
    "ax1 = fig.add_subplot(1,1,1)\n",
    "\n",
    "# 그래프 그리기\n",
    "ax1.bar(subject, points)\n",
    "\n",
    "# 라벨, 타이틀 달기\n",
    "plt.xlabel('Subject')\n",
    "plt.ylabel('Points')\n",
    "plt.title(\"Yuna's Test Result\")\n",
    "\n",
    "# 보여주기\n",
    "plt.savefig('./barplot.png')  # 그래프를 이미지로 출력\n",
    "plt.show()                    # 그래프를 화면으로 출력"
   ],
   "outputs": []
  },
  {
   "cell_type": "markdown",
   "id": "3dd86a4e",
   "metadata": {},
   "source": [
    "## 막대그래프 그려보기"
   ]
  },
  {
   "cell_type": "markdown",
   "id": "8a313125",
   "metadata": {},
   "source": [
    "### 데이터 정의\n",
    "우선 모듈을 import 하고 그래프로 그릴 데이터를 정의해 줍니다."
   ]
  },
  {
   "cell_type": "code",
   "execution_count": 3,
   "id": "7f0b1280",
   "metadata": {},
   "source": [
    "import matplotlib.pyplot as plt\n",
    "%matplotlib inline\n",
    "\n",
    "# 그래프 데이터 \n",
    "subject = ['English', 'Math', 'Korean', 'Science', 'Computer']\n",
    "points = [40, 90, 50, 60, 100]"
   ],
   "outputs": []
  },
  {
   "cell_type": "markdown",
   "id": "fb217bd1",
   "metadata": {},
   "source": [
    "`%matplotlib inline`은 IPython에서 사용하는 매직 메서드에요.     \n",
    "Rich output에 대한 표현 방식인데요, 그래프와 같은 그림, 소리, 애니메이션과 같은 결과물을 Rich output 이라고 해요. IPython과 비슷한 환경인 Jupyter Notebook에서 이 명령어를 입력하면 그래프가 바로 출력됩니다.\n",
    "\n",
    "- 매직 명령어 정리\n",
    "https://studymake.tistory.com/601"
   ]
  },
  {
   "cell_type": "markdown",
   "id": "5c2ac08c",
   "metadata": {},
   "source": [
    "### 축 그리기\n",
    "그래프를 그리는 순서는 우선 하나의 그림(figure) 객체를 만들고 그 안에 하위 그래프(subplot)를 추가합니다. 도화지에 축을 그리는 과정이에요"
   ]
  },
  {
   "cell_type": "code",
   "execution_count": 5,
   "id": "8d505076",
   "metadata": {},
   "source": [
    "# 축 그리기\n",
    "fig = plt.figure() #도화지(그래프) 객체 생성\n",
    "ax1 = fig.add_subplot(1,1,1) #figure()객체에 add_subplot 메서드를 이용해 축을 그려준다."
   ],
   "outputs": []
  },
  {
   "cell_type": "code",
   "execution_count": 6,
   "id": "8666e594",
   "metadata": {},
   "source": [
    "fig = plt.figure()"
   ],
   "outputs": []
  },
  {
   "cell_type": "markdown",
   "id": "ae7bd09d",
   "metadata": {},
   "source": [
    "축이 없어 그려지는 것이 없지만 figure 객체가 생성되었습니다.\n",
    "\n",
    "figure()라는 객체는 도화지(그래프)입니다. 이 figure() 객체에 `add_subplot` 메서드를 이용해 축을 그려줍니다. `figsize` 인자 값을 주어 그래프의 크기를 정할 수 있어요.\n",
    "\n",
    "그런데 이런 사실은 어디서 알 수 있냐고요? 라이브러리마다 공식 API 문서가 있습니다. API 문서에는 라이브러리를 사용하는 사람들이 참고해야 할 사항이 자세히 적혀 있습니다. 가끔은 내부 동작까지도 적혀 있기도 합니다.\n",
    "\n",
    "matplotlib의 공식 문서는 여기에 있습니다. (https://matplotlib.org/stable/api/index.html)    \n",
    "공식 API 문서를 읽어보는 것은 프로그래밍에서 필수 사항입니다. 꼭 시간을 들여 문서를 읽어보세요. 지금 다루고 있는 메서드 figure()에 대한 정보는 여기 있습니다. (https://matplotlib.org/stable/api/figure_api.html?highlight=figure#module-matplotlib.figure)\n",
    "`figsize`를 포함해 매우 많은 정보가 들어 있다는 것을 알 수 있네요!"
   ]
  },
  {
   "cell_type": "code",
   "execution_count": 7,
   "id": "06c4d312",
   "metadata": {},
   "source": [
    "fig = plt.figure(figsize=(5,2))\n",
    "ax1 = fig.add_subplot(1,1,1)"
   ],
   "outputs": []
  },
  {
   "cell_type": "markdown",
   "id": "91185b68",
   "metadata": {},
   "source": [
    "도화지 안에는 축을 여러 개 그릴 수 있습니다. 즉, 그래프를 여러 개 그릴 수 있단 뜻이죠. add_subplot의 인자로 조정해 줍니다.\n",
    "\n",
    "그런데 과연 괄호 속에 적힌 1, 1, 1의 의미는 무엇일까요? 역시 API 문서를 찾아야 합니다. 여기에 있습니다. 숫자를 연달아 세 개만 적으면 차례로 nrows, ncols, index에 해당한다는 것을 알 수 있네요. 어떻게 그려지는지 아래처럼 설명되어 있네요.\n",
    "\n",
    "> Three integers (nrows, ncols, index). The subplot will take the index position on a grid with nrows rows and ncols columns. index starts at 1 in the upper left corner and increases to the right."
   ]
  },
  {
   "cell_type": "code",
   "execution_count": 8,
   "id": "d0b005dd",
   "metadata": {},
   "source": [
    "fig = plt.figure()\n",
    "ax1 = fig.add_subplot(2,2,1)\n",
    "ax2 = fig.add_subplot(2,2,2)\n",
    "ax3 = fig.add_subplot(2,2,4)"
   ],
   "outputs": []
  },
  {
   "cell_type": "code",
   "execution_count": 9,
   "id": "48377255",
   "metadata": {},
   "source": [
    "fig2 = plt.figure()\n",
    "ax1 = fig2.add_subplot(231)\n",
    "ax2 = fig2.add_subplot(234)\n",
    "ax3 = fig2.add_subplot(235)\n",
    "ax4 = fig2.add_subplot(236)"
   ],
   "outputs": []
  },
  {
   "cell_type": "markdown",
   "id": "476a4266",
   "metadata": {},
   "source": [
    "### 그래프 그리기\n",
    "`bar()` 메서드를 이용해 막대그래프를 그립니다. 그리고 인자에 위에서 정의한 데이터들을 x, y순으로 넣어 줍니다."
   ]
  },
  {
   "cell_type": "code",
   "execution_count": 10,
   "id": "04079c0a",
   "metadata": {},
   "source": [
    "# 그래프 데이터 \n",
    "subject = ['English', 'Math', 'Korean', 'Science', 'Computer']\n",
    "points = [40, 90, 50, 60, 100]\n",
    "\n",
    "# 축 그리기\n",
    "fig = plt.figure()\n",
    "ax1 = fig.add_subplot(1,1,1)\n",
    "\n",
    "# 그래프 그리기\n",
    "ax1.bar(subject,points)"
   ],
   "outputs": []
  },
  {
   "cell_type": "markdown",
   "id": "1e91e377",
   "metadata": {},
   "source": [
    "### 그래프 요소 추가\n",
    "<b>label, title</b>\n",
    "\n",
    "x라벨, y라벨, 제목을 추가하기 위해서는 `xlabel()` 메서드와 `ylabel()` 메서드 `title()` 메서드를 이용합니다."
   ]
  },
  {
   "cell_type": "code",
   "execution_count": 12,
   "id": "1dd08aa6",
   "metadata": {},
   "source": [
    "# Q. 아래 코드의 빈칸을 채워주세요.\n",
    "# 그래프 데이터\n",
    "subject = ['English', 'Math', 'Korean', 'Science', 'Computer']\n",
    "points = [40, 90, 50, 60, 100]\n",
    "\n",
    "# 축 그리기\n",
    "fig = plt.figure()\n",
    "ax = fig.add_subplot(111)\n",
    "\n",
    "# 그래프 그리기\n",
    "ax.bar(subject, points)\n",
    "\n",
    "# 라벨, 타이틀 달기\n",
    "plt.xlabel('Subject')\n",
    "plt.ylabel('Points')  \n",
    "plt.title(\"Yuna's Test Result\") "
   ],
   "outputs": []
  },
  {
   "cell_type": "markdown",
   "id": "c4fa0653",
   "metadata": {},
   "source": [
    "## 선 그래프 그려보기\n",
    "이번에는 matplotlib을 이용해 선(line) 그래프를 그려보겠습니다."
   ]
  },
  {
   "cell_type": "markdown",
   "id": "cbb9031a",
   "metadata": {},
   "source": [
    "### 데이터 정의\n",
    "우선 모듈을 import 하고 그래프로 그릴 데이터를 정의해 줍니다. 사용할 데이터는 과거 아마존 주가 데이터입니다.\n",
    "\n",
    "- https://finance.yahoo.com/quote/AMZN/history?p=AMZN     \n",
    "터미널에서 클라우드에 미리 저장된 파일에 심볼릭 링크를 걸어 데이터를 사용할 수 있도록 합니다."
   ]
  },
  {
   "cell_type": "markdown",
   "id": "be9f521e",
   "metadata": {},
   "source": [
    "자 이번엔 주석(annotation) 등 좀 더 고급 기법을 활용하여 그래프를 그려 볼까요?"
   ]
  },
  {
   "cell_type": "code",
   "execution_count": 14,
   "id": "4a4662b8",
   "metadata": {},
   "source": [
    "from datetime import datetime\n",
    "import pandas as pd\n",
    "import os\n",
    "\n",
    "# 그래프 데이터 \n",
    "csv_path = os.getenv(\"HOME\") + \"/aiffel/data_visualization/data/AMZN.csv\"\n",
    "data = pd.read_csv(csv_path, index_col=0, parse_dates=True)\n",
    "price = data['Close']\n",
    "\n",
    "# 축 그리기 및 좌표축 설정\n",
    "fig = plt.figure()\n",
    "ax = fig.add_subplot(1,1,1)\n",
    "price.plot(ax=ax, style='black')\n",
    "plt.ylim([1600, 2200])\n",
    "plt.xlim(['2019-05-01', '2020-03-01'])\n",
    "\n",
    "# 주석달기\n",
    "important_data = [(datetime(2019, 6, 3), \"Low Price\"), (datetime(2020, 2, 19), \"Peak Price\")]\n",
    "for d, label in important_data:\n",
    "    ax.annotate(label, xy=(d, price.asof(d)+10), # 주석을 달 좌표(x,y)\n",
    "                xytext=(d, price.asof(d)+100), # 주석 텍스트가 위치할 좌표(x,y)\n",
    "                arrowprops=dict(facecolor='red')) # 화살표 추가 및 색 설정\n",
    "\n",
    "# 그리드, 타이틀 달기\n",
    "plt.grid()\n",
    "ax.set_title('StockPrice')\n",
    "\n",
    "# 보여주기\n",
    "plt.show()"
   ],
   "outputs": []
  },
  {
   "cell_type": "markdown",
   "id": "93dfe59f",
   "metadata": {},
   "source": [
    "### Pandas Series 데이터 활용\n",
    "Pandas의 Series는 선 그래프를 그리기에 최적의 자료구조를 갖추고 있습니다. 위 예시 코드에서는 `price = data['Close']`가 바로 Pandas의 Series입니다. 다음 스텝에서 좀 더 설명하겠지만, Pandas도 자체적인 선 그래프 그리기 기능을 제공합니다. 위 예시 코드에서는 `price.plot(ax=ax, style='black')`에서 Pandas의 plot을 사용하면서, matplotlib에서 정의한 subplot 공간 ax를 사용한 것을 볼 수 있습니다.\n",
    "\n",
    "### 좌표축 설정\n",
    "`plt.xlim()`, `plt.ylim()`을 통해 x, y 좌표축의 적당한 범위를 설정해 줄 수 있습니다.\n",
    "\n",
    "### 주석\n",
    "그래프 안에 추가적으로 글자나 화살표 등 주석을 그릴 때는 `annotate()` 메서드를 이용합니다. 주석달기는 그래프 그리기의 고급 기법입니다. 복잡하지만 위 예시 코드를 잘 살펴봐 주세요.\n",
    "\n",
    "### 그리드\n",
    "`grid()` 메서드를 이용하면 그리드(격자눈금)를 추가할 수 있어요."
   ]
  },
  {
   "cell_type": "code",
   "execution_count": 38,
   "id": "9ed7cf02",
   "metadata": {},
   "source": [
    "# Q. 날짜별 종가(Close)가 아닌 최고가(High) 데이터를 이용해서 위와 같은 그래프를 그려보세요!\n",
    "\n",
    "# 그래프 데이터 \n",
    "csv_path = os.getenv(\"HOME\") + \"/aiffel/data_visualization/data/AMZN.csv\"\n",
    "data = pd.read_csv(csv_path, index_col=0, parse_dates=True)\n",
    "price = data['High']\n",
    "\n",
    "# 축 그리기 및 좌표축 설정\n",
    "fig = plt.figure()\n",
    "ax = fig.add_subplot(1,1,1)\n",
    "price.plot(ax=ax, style='black')\n",
    "plt.ylim([1600, 2200])\n",
    "plt.xlim(['2019-05-01','2020-03-01'])\n",
    "\n",
    "# 날짜 정보를 python datetime 자료형으로 변환\n",
    "min_date = price.idxmin().to_pydatetime()\n",
    "max_date = price.idxmax().to_pydatetime()\n",
    "\n",
    "# 주석달기\n",
    "important_data = [(min_date, \"Low Price\"), (max_date, \"Peak Price\")]\n",
    "for d, label in important_data: # d : 최소값의 날짜, label은 글자\n",
    "    ax.annotate(label, xy=(d, price.asof(d)+10), # 주석을 달 좌표(x,y)\n",
    "                xytext=(d, price.asof(d)+100),  # 주석 텍스트가 위치할 좌표(x,y)\n",
    "                arrowprops=dict(facecolor='red')) # 화살표 추가 및 색 설정\n",
    "\n",
    "# 그리드, 타이틀 달기\n",
    "plt.grid()\n",
    "ax.set_title('StockPrice')\n",
    "\n",
    "# 보여주기\n",
    "plt.show()"
   ],
   "outputs": []
  },
  {
   "cell_type": "markdown",
   "id": "e9a14e68",
   "metadata": {},
   "source": [
    "## plot 사용법 상세\n",
    "plt.plot()로 그래프 그리기\n",
    "\n",
    "앞에서 figure() 객체를 생성하고 add_subplot()으로 서브플롯을 생성한 다음 plot을 그린다고 했습니다.\n",
    "이 2가지 과정을 생략할 수도 있는데요, plt.plot() 함수로 그래프를 그리면 matplotlib은 가장 최근의 figure 객체와 그 서브플롯을 그립니다.\n",
    "만약 서브플롯이 없으면 서브플롯 하나를 생성합니다.\n",
    "\n",
    "plt.plot()의 인자로 x 데이터, y 데이터, 마커 옵션, 색상 등을 지정할 수 있고,"
   ]
  },
  {
   "cell_type": "code",
   "execution_count": 39,
   "id": "bcb1fc6b",
   "metadata": {},
   "source": [
    "import numpy as np\n",
    "\n",
    "# 0에서 10까지 균등한 간격으로 100개의 숫자를 만들라는 뜻입니다.\n",
    "x = np.linspace(0, 10, 100)\n",
    "\n",
    "plt.plot(x, np.sin(x), 'o')\n",
    "plt.plot(x, np.cos(x), '--', color='black') \n",
    "plt.show()"
   ],
   "outputs": []
  },
  {
   "cell_type": "code",
   "execution_count": 40,
   "id": "b2b276ba",
   "metadata": {},
   "source": [
    "x = np.linspace(0, 10, 100)\n",
    "\n",
    "plt.subplot(2,1,1)\n",
    "plt.plot(x, np.sin(x), 'o', color='orange')\n",
    "\n",
    "plt.subplot(2,1,2)\n",
    "plt.plot(x, np.cos(x), 'orange') \n",
    "plt.show()"
   ],
   "outputs": []
  },
  {
   "cell_type": "markdown",
   "id": "563a8a9f",
   "metadata": {},
   "source": [
    "### linestyle, marker 옵션\n",
    "라인 스타일은 plot()의 인자로 들어가는데요, 아래와 같이 다양한 방법으로 표기할 수 있습니다."
   ]
  },
  {
   "cell_type": "code",
   "execution_count": 41,
   "id": "e7218df5",
   "metadata": {},
   "source": [
    "x = np.linspace(0, 10, 100) \n",
    "\n",
    "plt.plot(x, x + 0, linestyle='solid') \n",
    "plt.plot(x, x + 1, linestyle='dashed') \n",
    "plt.plot(x, x + 2, linestyle='dashdot') \n",
    "plt.plot(x, x + 3, linestyle='dotted')\n",
    "plt.plot(x, x + 0, '-g') # solid green \n",
    "plt.plot(x, x + 1, '--c') # dashed cyan \n",
    "plt.plot(x, x + 2, '-.k') # dashdot black \n",
    "plt.plot(x, x + 3, ':r'); # dotted red\n",
    "plt.plot(x, x + 4, linestyle='-') # solid \n",
    "plt.plot(x, x + 5, linestyle='--') # dashed \n",
    "plt.plot(x, x + 6, linestyle='-.') # dashdot \n",
    "plt.plot(x, x + 7, linestyle=':'); # dotted"
   ],
   "outputs": []
  },
  {
   "cell_type": "code",
   "execution_count": 42,
   "id": "7a1bde2c",
   "metadata": {},
   "source": [
    "# Q. y=log(x)의 그래프를 그려봅시다.\n",
    "# 라인 스타일은 dashdot, 색상은 'm'(magenta)으로 지정해주세요!\n",
    "x = np.linspace(1, 10, 100)\n",
    "y = np.log(x)\n",
    "\n",
    "plt.plot(x, y, '-.m')\n",
    "plt.show()"
   ],
   "outputs": []
  },
  {
   "cell_type": "markdown",
   "id": "33998c7f",
   "metadata": {},
   "source": [
    "### Pandas로 그래프 그리기\n",
    "Pandas도 plot() 메서드를 통해 여러 가지 그래프를 그릴 수 있습니다.\n",
    "matplotlib과 연계해 사용하면 좋은데요, 아래에 각 메서드의 기능을 정리하였습니다.\n",
    "\n",
    "#### pandas.plot 메서드 인자\n",
    "    label: 그래프의 범례 이름\n",
    "    ax: 그래프를 그릴 matplotlib의 서브플롯 객체\n",
    "    style: matplotlib에 전달할 'ko--'같은 스타일의 문자열\n",
    "    alpha: 투명도 (0 ~1)\n",
    "    kind: 그래프의 종류: line, bar, barh, kde\n",
    "    logy: Y축에 대한 로그 스케일\n",
    "    use_index: 객체의 색인을 눈금 이름으로 사용할지의 여부\n",
    "    rot: 눈금 이름을 로테이션(0 ~ 360)\n",
    "    xticks, yticks: x축, y축으로 사용할 값\n",
    "    xlim, ylim: x축, y축 한계\n",
    "    grid: 축의 그리드 표시할지 여부\n",
    "    \n",
    "#### pandas의 data가 DataFrame 일 때 plot 메서드 인자\n",
    "    subplots: 각 DataFrame의 칼럼(column)을 독립된 서브플롯에 그립니다.\n",
    "    sharex: subplots=True면 같은 X축을 공유하고 축의 범위와 눈금을 연결합니다.\n",
    "    sharey: subplots=True면 같은 Y축을 공유합니다.\n",
    "    figsize: 그래프의 크기를 지정합니다. (튜플)\n",
    "    title: 그래프의 제목을 지정합니다. (문자열)\n",
    "    sort_columns: 칼럼을 알파벳 순서로 그립니다.\n",
    "\n",
    "예제로 막대그래프를 그려 볼게요.\n",
    "막대그래프의 경우, kind에 bar 옵션을 주어 그릴 수 있습니다."
   ]
  },
  {
   "cell_type": "code",
   "execution_count": 44,
   "id": "8fe46fc7",
   "metadata": {},
   "source": [
    "fig, axes = plt.subplots(2, 1)\n",
    "data = pd.Series(np.random.rand(5), index=list('abcde'))\n",
    "data.plot(kind='bar', ax=axes[0], color='blue', alpha=1)\n",
    "data.plot(kind='barh', ax=axes[1], color='red', alpha=0.3)\n",
    "plt.show()"
   ],
   "outputs": []
  },
  {
   "cell_type": "code",
   "execution_count": 45,
   "id": "e6db6081",
   "metadata": {},
   "source": [
    "df = pd.DataFrame(np.random.rand(6,4), columns=pd.Index(['A','B','C','D']))\n",
    "df.plot(kind='line')\n",
    "plt.show()"
   ],
   "outputs": []
  },
  {
   "cell_type": "markdown",
   "id": "019e1d97",
   "metadata": {},
   "source": [
    "## 정리\n",
    "그래프를 그리는 과정을 다시 정리해 봅시다.\n",
    "\n",
    "1. fig = plt.figure(): figure 객체를 선언해 '도화지를 펼쳐'줍니다.\n",
    "1. ax1 = fig.add_subplot(1,1,1): 축을 그립니다.\n",
    "1. ax1.bar(x, y) 축 안에 어떤 그래프를 그릴지 메서드를 선택한 다음, 인자로 데이터를 넣어줍니다.\n",
    "1. 그래프 타이틀 축의 레이블 등을 plt의 여러 메서드 grid, xlabel, ylabel 을 이용해서 추가해 주고\n",
    "1. plt.savefig 메서드를 이용해 저장해줍니다.\n",
    "\n",
    "어떤가요? 현실 세계에서 그래프를 그리는 순서와 유사하지 않나요? 꽤 직관적입니다.     \n",
    "파이썬 기반의 시각화 라이브러리인 Pandas, Matplotlib, Seaborn 모두 이런 식으로 그래프를 그립니다.\n",
    "    \n",
    "아래 그림은 각 그래프 요소별 명칭입니다. 눈에 익혀 두세요.\n",
    "![img](data/visualization.png)"
   ]
  },
  {
   "cell_type": "markdown",
   "id": "fc00dd18",
   "metadata": {},
   "source": [
    "## 데이터 준비\n",
    "앞에서 그래프 그리는 방법에 대한 큰 틀을 배웠습니다! 이제 자주 사용되는 그래프를 직접 그려보며 연습해 봅시다."
   ]
  },
  {
   "cell_type": "markdown",
   "id": "31a9ceab",
   "metadata": {},
   "source": [
    "### 데이터 준비\n",
    "#### 1) 데이터 불러오기\n",
    "Seaborn의 load_dataset() 메서드를 이용하면 API를 통해 손쉽게 유명한 예제 데이터를 다운로드할 수 있습니다.\n",
    "참고로, 아래 repo의 데이터는 모두 csv 파일로 되어있어 연습용으로 좋아요.\n",
    "\n",
    "- https://github.com/mwaskom/seaborn-data    \n",
    "\n",
    "메서드를 실행하면 home directory에 자동으로 seaborn-data라는 폴더가 생성되어 다운로드한 데이터가 내부에 저장됩니다.\n",
    "\n",
    "- default directory: ~/seaborn-data/ (~(물결표시)는 home directory를 의미합니다.😃)"
   ]
  },
  {
   "cell_type": "code",
   "execution_count": 47,
   "id": "42f7ba46",
   "metadata": {},
   "source": [
    "import pandas as pd\n",
    "import seaborn as sns\n",
    "\n",
    "tips = sns.load_dataset(\"tips\")"
   ],
   "outputs": []
  },
  {
   "cell_type": "markdown",
   "id": "ac9a8b6b",
   "metadata": {},
   "source": [
    "여기서는 tips 데이터를 불러왔어요.     \n",
    "이 데이터는 종업원들이 tip을 얼마 받았는지에 대한 데이터가 있는 파일입니다.\n",
    "\n",
    "- https://github.com/mwaskom/seaborn-data/blob/master/tips.csv"
   ]
  },
  {
   "cell_type": "markdown",
   "id": "54a9a16b",
   "metadata": {},
   "source": [
    "#### 2) 데이터 살펴보기 (EDA)\n",
    "Pandas의 dataframe을 이용해서 데이터가 어떻게 구성되어 있는지 확인하겠습니다.\n",
    "실행 후 결과를 살펴볼까요?"
   ]
  },
  {
   "cell_type": "code",
   "execution_count": 48,
   "id": "6306e144",
   "metadata": {},
   "source": [
    "# dataframe의 처음 다섯 줄을 보여줍니다.\n",
    "df = pd.DataFrame(tips)\n",
    "df.head()"
   ],
   "outputs": []
  },
  {
   "cell_type": "code",
   "execution_count": 49,
   "id": "46dd6760",
   "metadata": {},
   "source": [
    "# dataframe의 shape(row, column의 개수)\n",
    "df.shape"
   ],
   "outputs": []
  },
  {
   "cell_type": "code",
   "execution_count": 50,
   "id": "a4bdc522",
   "metadata": {},
   "source": [
    "# 데이터의 통계량 정보를 보여줍니다. (평균, 표준편차, 사분위수 등)\n",
    "df.describe()"
   ],
   "outputs": []
  },
  {
   "cell_type": "code",
   "execution_count": 51,
   "id": "12107b26",
   "metadata": {},
   "source": [
    "# 각 column의 정보를 보여줍니다. (데이터 크기와 자료형 등)\n",
    "df.info()"
   ],
   "outputs": []
  },
  {
   "cell_type": "markdown",
   "id": "cd8fc348",
   "metadata": {},
   "source": [
    "본 데이터에는 결측 값이 없어서 결측 값 처리가 따로 필요하지 않네요.\n",
    "데이터 변수들 중에서 sex, smoker, day, time이 범주(category)형 데이터고 tips, total_bill, size는 수치형 데이터입니다. 그러나 size는 테이블 인원을 의미하니까 범주형 데이터로 봐야겠네요.\n",
    "\n",
    "범주형 변수의 카테고리별 개수를 알아볼까요?"
   ]
  },
  {
   "cell_type": "code",
   "execution_count": 52,
   "id": "c6dfb36e",
   "metadata": {},
   "source": [
    "# Q. 다음 코드의 빈칸을 채워주세요.\n",
    "\n",
    "# 'sex' 변수의 카테고리별 개수\n",
    "print(df['sex'].value_counts())\n",
    "print(\"===========================\")\n",
    "\n",
    "# 'time' 변수의 카테고리별 개수\n",
    "print(df['time'].value_counts())\n",
    "print(\"===========================\")\n",
    "\n",
    "# 'smoker' 변수의 카테고리별 개수\n",
    "print(df['smoker'].value_counts())\n",
    "print(\"===========================\")\n",
    "\n",
    "# 'day' 변수의 카테고리별 개수\n",
    "print(df['day'].value_counts())\n",
    "print(\"===========================\")\n",
    "\n",
    "# 'size' 변수의 카테고리별 개수\n",
    "print(df['size'].value_counts())\n",
    "print(\"===========================\")"
   ],
   "outputs": []
  },
  {
   "cell_type": "markdown",
   "id": "f95c87cd",
   "metadata": {},
   "source": [
    "## 범주형 데이터\n",
    "데이터가 준비되었으니 그래프를 그려보겠습니다.\n",
    "\n",
    "앞서 데이터를 살펴본 결과, 범주형 변수와 수치형 변수가 있다는 것을 알 수 있었는데요.\n",
    "변수 데이터를 시각화할 때 데이터 종류에 따라 사용하는 그래프가 다르다는 걸 알고 계시나요?\n",
    "지금부터 범주형, 수치형 순으로 총 4개의 그래프를 살펴보겠습니다.\n",
    "\n",
    "### 범주형 데이터\n",
    "범주형 데이터는 주로 막대그래프를 사용하여 수치를 요약합니다. 일반적으로 가로, 세로, 누적, 그룹화된 막대그래프를 사용합니다.\n",
    "tips 데이터에서 범주형 변수는 `sex`, `smoker`, `day`, `time`, `size`입니다.\n",
    "\n",
    "#### 1) 막대그래프(bar graph)\n",
    "##### 1-1) Pandas와 Matplotlib를 활용한 방법\n",
    "우선 조금 복잡한 방법부터 알아보겠습니다.\n",
    "\n",
    "matplotlib에 데이터를 인자로 넣기 위해선 pandas 데이터를 바로 이용할 수는 없습니다. 데이터를 x에 series 또는 list, y에 list 형태로 각각 나눠주어야 합니다."
   ]
  },
  {
   "cell_type": "code",
   "execution_count": 53,
   "id": "3edc55a4",
   "metadata": {},
   "source": [
    "# df의 첫 5행을 확인해봅시다. \n",
    "df.head()"
   ],
   "outputs": []
  },
  {
   "cell_type": "code",
   "execution_count": 54,
   "id": "fa9b704a",
   "metadata": {},
   "source": [
    "grouped = df['tip'].groupby(df['sex'])"
   ],
   "outputs": []
  },
  {
   "cell_type": "code",
   "execution_count": 55,
   "id": "ac8f79a4",
   "metadata": {},
   "source": [
    "grouped.mean() # 성별에 따른 팁의 평균"
   ],
   "outputs": []
  },
  {
   "cell_type": "code",
   "execution_count": 56,
   "id": "2491bad5",
   "metadata": {},
   "source": [
    "grouped.size() # 성별에 따른 데이터 량(팁 횟수)"
   ],
   "outputs": []
  },
  {
   "cell_type": "code",
   "execution_count": 57,
   "id": "de1c82b5",
   "metadata": {},
   "source": [
    "import numpy as np\n",
    "sex = dict(grouped.mean()) #평균 데이터를 딕셔너리 형태로 바꿔줍니다.\n",
    "sex"
   ],
   "outputs": []
  },
  {
   "cell_type": "code",
   "execution_count": 58,
   "id": "4d972682",
   "metadata": {},
   "source": [
    "x = list(sex.keys())  \n",
    "x"
   ],
   "outputs": []
  },
  {
   "cell_type": "code",
   "execution_count": 59,
   "id": "0af67949",
   "metadata": {},
   "source": [
    "y = list(sex.values())\n",
    "y"
   ],
   "outputs": []
  },
  {
   "cell_type": "code",
   "execution_count": 60,
   "id": "aaae137c",
   "metadata": {},
   "source": [
    "import matplotlib.pyplot as plt\n",
    "\n",
    "plt.bar(x = x, height = y)\n",
    "plt.ylabel('tip[$]')\n",
    "plt.title('Tip by Sex')"
   ],
   "outputs": []
  },
  {
   "cell_type": "code",
   "execution_count": 61,
   "id": "b823504d",
   "metadata": {},
   "source": [
    "# Q. 요일(day)에 따른 평균 tip의 그래프를 그려보세요.\n",
    "grouped = df['tip'].groupby(df['day'])\n",
    "sex = dict(grouped.mean()) #평균 데이터를 딕셔너리 형태로 바꿔줍니다.\n",
    "x = list(sex.keys())\n",
    "y = list(sex.values())"
   ],
   "outputs": []
  },
  {
   "cell_type": "markdown",
   "id": "7d62b098",
   "metadata": {},
   "source": [
    "#### 1-2) Seaborn과 Matplotlib을 활용한 간단한 방법\n",
    "Seaborn을 이용하면 더 쉽게 나타낼 수 있습니다.\n",
    "sns.barplot의 인자로 df를 넣고 원하는 컬럼을 지정해 주면 아래와 같이 성별에 대한 tip 평균을 볼 수 있습니다."
   ]
  },
  {
   "cell_type": "code",
   "execution_count": 62,
   "id": "885dea1d",
   "metadata": {},
   "source": [
    "sns.barplot(data=df, x='sex', y='tip')"
   ],
   "outputs": []
  },
  {
   "cell_type": "code",
   "execution_count": 63,
   "id": "bb0ce8fd",
   "metadata": {},
   "source": [
    "plt.figure(figsize=(10,6)) # 도화지 사이즈를 정합니다.\n",
    "sns.barplot(data=df, x='sex', y='tip')\n",
    "plt.ylim(0, 4) # y값의 범위를 정합니다.\n",
    "plt.title('Tip by sex') # 그래프 제목을 정합니다."
   ],
   "outputs": []
  },
  {
   "cell_type": "code",
   "execution_count": 64,
   "id": "4ba4258c",
   "metadata": {},
   "source": [
    "plt.figure(figsize=(10,6))\n",
    "sns.barplot(data=df, x='day', y='tip')\n",
    "plt.ylim(0, 4)\n",
    "plt.title('Tip by day')"
   ],
   "outputs": []
  },
  {
   "cell_type": "code",
   "execution_count": 65,
   "id": "2b043e9c",
   "metadata": {},
   "source": [
    "fig = plt.figure(figsize=(10,7))\n",
    "\n",
    "ax1 = fig.add_subplot(2,2,1)\n",
    "sns.barplot(data=df, x='day', y='tip', palette=\"ch:.25\")\n",
    "\n",
    "ax2 = fig.add_subplot(2,2,2)\n",
    "sns.barplot(data=df, x='sex', y='tip')\n",
    "\n",
    "ax3 = fig.add_subplot(2,2,4)\n",
    "sns.violinplot(data=df, x='sex', y='tip')\n",
    "\n",
    "ax4 = fig.add_subplot(2,2,3)\n",
    "sns.violinplot(data=df, x='day', y='tip', palette=\"ch:.25\")"
   ],
   "outputs": []
  },
  {
   "cell_type": "code",
   "execution_count": 67,
   "id": "40911203",
   "metadata": {},
   "source": [
    "sns.catplot(x=\"day\", y=\"tip\", jitter=False, data=tips)\n",
    "# jitter 옵션을 추가하면 데이터포인트를 일렬로 그릴 수 있음"
   ],
   "outputs": []
  },
  {
   "cell_type": "code",
   "execution_count": 68,
   "id": "8118d4ea",
   "metadata": {},
   "source": [
    "# Q. 시간대(time)에 따른 tips의 그래프를 catplot으로 표현해보세요!\n",
    "sns.catplot(x='time', y='tip', data=tips)"
   ],
   "outputs": []
  },
  {
   "cell_type": "markdown",
   "id": "3d1208e9",
   "metadata": {},
   "source": [
    "- 추가 참고 : https://www.snugarchive.com/blog/python-data-visualization-seaborn-advanced/"
   ]
  },
  {
   "cell_type": "markdown",
   "id": "58c82651",
   "metadata": {},
   "source": [
    "## 수치형 데이터\n",
    "### 수치형 데이터\n",
    "수치형 데이터를 나타내는 데 가장 좋은 그래프는 산점도 혹은 선 그래프입니다. 전체 음식 가격(total_bill)에 따른 tip 데이터를 시각화하며 산점도와 선 그래프를 배워봅시다.\n",
    "\n",
    "### 2) 산점도(scatter plot)\n",
    "hue인자에 'day'를 주어 요일(day)에 따른 tip과 total_bill의 관계를 시각화해 봅시다"
   ]
  },
  {
   "cell_type": "code",
   "execution_count": 69,
   "id": "514ed02a",
   "metadata": {},
   "source": [
    "sns.scatterplot(data=df, x='total_bill', y='tip', palette=\"ch:r=-.2,d=.3_r\")"
   ],
   "outputs": []
  },
  {
   "cell_type": "code",
   "execution_count": 70,
   "id": "4ed65740",
   "metadata": {},
   "source": [
    "sns.scatterplot(data=df, x='total_bill', y='tip', hue='day')"
   ],
   "outputs": []
  },
  {
   "cell_type": "markdown",
   "id": "d2acc509",
   "metadata": {},
   "source": [
    "### 3) 선 그래프(line graph)\n",
    "plot의 기본은 선 그래프입니다.\n",
    "tips 예제로는 선 그래프 설명이 어려워서, numpy를 이용하여 데이터를 생성 후 그래프를 그려보겠습니다."
   ]
  },
  {
   "cell_type": "code",
   "execution_count": 72,
   "id": "259757a4",
   "metadata": {},
   "source": [
    "# np.random.randn 함수는 표준 정규분포에서 난수를 생성하는 함수입니다.\n",
    "# cumsum()은 누적합을 구하는 함수입니다.\n",
    "plt.plot(np.random.randn(50).cumsum())\n",
    "plt.show()"
   ],
   "outputs": []
  },
  {
   "cell_type": "code",
   "execution_count": 73,
   "id": "94c9ae53",
   "metadata": {},
   "source": [
    "x = np.linspace(0, 10, 100) \n",
    "plt.plot(x, np.sin(x), 'o')\n",
    "plt.plot(x, np.cos(x)) \n",
    "plt.show()"
   ],
   "outputs": []
  },
  {
   "cell_type": "code",
   "execution_count": 74,
   "id": "e6834cb7",
   "metadata": {},
   "source": [
    "sns.lineplot(x=x, y=np.sin(x))\n",
    "sns.lineplot(x=x, y=np.cos(x))"
   ],
   "outputs": []
  },
  {
   "cell_type": "markdown",
   "id": "8197835a",
   "metadata": {},
   "source": [
    "### 4) 히스토그램\n",
    "먼저 히스토그램의 개념 정리 한 번 하도록 할게요.    \n",
    "히스토그램은 도수분포표를 그래프로 나타낸 것입니다. 히스토그램의 용어는 다음과 같습니다."
   ]
  },
  {
   "cell_type": "markdown",
   "id": "8388f219",
   "metadata": {},
   "source": [
    "    ↔ 가로축\n",
    "\n",
    "    - 계급: 변수의 구간, bin (or bucket)\n",
    "    \n",
    "    ↕ 세로축\n",
    "\n",
    "    - 도수: 빈도수, frequency\n",
    "    전체 총량: n"
   ]
  },
  {
   "cell_type": "markdown",
   "id": "3b6c2662",
   "metadata": {},
   "source": [
    "다음과 같은 데이터의 히스토그램을 만들어보겠습니다.\n",
    "\n",
    "x1은 평균은 100이고 표준편차는 15인 정규분포를 따릅니다.    \n",
    "x2는 평균은 130이고 표준편차는 15인 정규분포를 따릅니다.    \n",
    "도수를 50개의 구간으로 표시하며, 확률 밀도가 아닌 빈도로 표기합니다."
   ]
  },
  {
   "cell_type": "code",
   "execution_count": 76,
   "id": "df29ca68",
   "metadata": {},
   "source": [
    "#그래프 데이터\n",
    "mu1, mu2, sigma = 100, 130, 15\n",
    "x1 = mu1 + sigma*np.random.randn(10000)\n",
    "x2 = mu2 + sigma*np.random.randn(10000)\n",
    "\n",
    "# 축 그리기\n",
    "fig = plt.figure()\n",
    "ax1 = fig.add_subplot(1,1,1)\n",
    "\n",
    "# 그래프 그리기\n",
    "patches = ax1.hist(x1, bins=50, density=False)  # bins는 x값을 총 50개 구간으로 나눈다는 뜻입니다.\n",
    "patches = ax1.hist(x2, bins=50, density=False, alpha=0.5)\n",
    "ax1.xaxis.set_ticks_position('bottom')  # x축의 눈금을 아래 표시 \n",
    "ax1.yaxis.set_ticks_position('left')  # y축의 눈금을 왼쪽에 표시\n",
    "\n",
    "# 라벨, 타이틀 달기\n",
    "plt.xlabel('Bins')\n",
    "plt.ylabel('Number of Values in Bin')\n",
    "ax1.set_title('Two Frequency Distributions')\n",
    "\n",
    "# 보여주기\n",
    "plt.show()"
   ],
   "outputs": []
  },
  {
   "cell_type": "markdown",
   "id": "83488025",
   "metadata": {},
   "source": [
    "### 예제 데이터의 히스토그램\n",
    "조금 복습이 되셨나요? 다시 예제의 tips 데이터로 돌아가서 tips 데이터의 total_bill과 tips에 대해 히스토그램을 만들어 보겠습니다."
   ]
  },
  {
   "cell_type": "code",
   "execution_count": 78,
   "id": "85ea1981",
   "metadata": {},
   "source": [
    "sns.histplot(df['total_bill'], label=\"total_bill\")\n",
    "\n",
    "# legend()를 이용하여 label을 표시해줍니다.\n",
    "sns.histplot(df['tip'], label=\"tip\").legend()"
   ],
   "outputs": []
  },
  {
   "cell_type": "markdown",
   "id": "0be8c2db",
   "metadata": {},
   "source": [
    "전체 결제 금액 대비 팁의 비율을 나타내는 히스토그램을 그려보겠습니다."
   ]
  },
  {
   "cell_type": "code",
   "execution_count": 80,
   "id": "a61f062f",
   "metadata": {},
   "source": [
    "df"
   ],
   "outputs": []
  },
  {
   "cell_type": "code",
   "execution_count": 81,
   "id": "7668927a",
   "metadata": {},
   "source": [
    "# Q. pyplot을 이용해서 그려봅시다.\n",
    "# bin의 개수는 50개로 지정해주세요.\n",
    "df['tip_pct'] = df.tip / df.total_bill\n",
    "plt.hist(df['tip_pct'], bins = 50)"
   ],
   "outputs": []
  },
  {
   "cell_type": "code",
   "execution_count": 82,
   "id": "91d4b6f8",
   "metadata": {},
   "source": [
    "# Q. 이번에는 seaborn을 이용해서 그려봅시다.\n",
    "\n",
    "# legend()를 이용하여 label을 표시해줍니다.\n",
    "sns.histplot(df['tip_pct'], label=\"Tip over Total bill\").legend()"
   ],
   "outputs": []
  },
  {
   "cell_type": "code",
   "execution_count": 83,
   "id": "9a2c322b",
   "metadata": {},
   "source": [
    "df['tip_pct'].plot(kind='kde')"
   ],
   "outputs": []
  },
  {
   "cell_type": "markdown",
   "id": "5edeacbe",
   "metadata": {},
   "source": [
    "kind='kde'로 확률 밀도 그래프로 나타내 보았습니다.\n",
    "\n",
    "- 밀도 그래프: 연속된 확률분포를 나타냅니다.\n",
    "    - 일반적으로는 kernels메서드를 섞어서 이 분포를 근사하는 식으로 그립니다.\n",
    "    - 이것은 좀 더 단순하고 우리에게 친숙한 정규분포(가우시안)로 나타낼 수 있습니다.\n",
    "    - 위 밀도 그래프는 KDE(Kernel Density Estimate) 커널 밀도 추정 그래프입니다.\n",
    "    - KDE에 대한 설명 참고(https://darkpgmr.tistory.com/147#:~:text=Kernel%20Density%20Estimation%20(%EC%BB%A4%EB%84%90%20%EB%B0%80%EB%8F%84%20%EC%B6%94%EC%A0%95)%20%EB%B0%A9%EB%B2%95%EC%9D%80%20non%2D,%EC%9D%84%20%EA%B0%9C%EC%84%A0%ED%95%9C%20%EB%B0%A9%EB%B2%95%EC%9D%B4%EB%8B%A4.)"
   ]
  },
  {
   "cell_type": "markdown",
   "id": "4faea193",
   "metadata": {},
   "source": [
    "막대그래프(bar graph), 꺾은선 그래프(line graph), 산점도(scatter plot), 히스토그램(histogram)은 정말 많이 쓰이는 그래프기 때문에 그래프 4대 천왕이라는 이름을 붙여 봤습니다. 수치형 데이터인지, 범주형 데이터인지에 따라 어떤 plot을 사용하는게 좋을지 한번 고민해 보세요!"
   ]
  },
  {
   "cell_type": "markdown",
   "id": "a4356a09",
   "metadata": {},
   "source": [
    "## 시계열 데이터 시각화하기\n",
    "우리 주위에는 시계열 데이터가 정말 많습니다.\n",
    "이번에는 1949년-1960년도별 탑승객 예제 데이터를 가지고 시계열 데이터를 다루어 보도록 하겠습니다"
   ]
  },
  {
   "cell_type": "markdown",
   "id": "ae783cc8",
   "metadata": {},
   "source": [
    "### 1) 데이터 가져오기\n",
    "클라우드에 업로드되어있는 데이터를 이용하셔도 좋고 Seaborn의 load_dataset() 메서드를 이용하셔도 좋습니다."
   ]
  },
  {
   "cell_type": "code",
   "execution_count": 84,
   "id": "a2f7b1e9",
   "metadata": {},
   "source": [
    "csv_path = os.getenv(\"HOME\") + \"/aiffel/data_visualization/data/flights.csv\"\n",
    "data = pd.read_csv(csv_path)\n",
    "flights = pd.DataFrame(data)\n",
    "flights"
   ],
   "outputs": []
  },
  {
   "cell_type": "markdown",
   "id": "b9e93b03",
   "metadata": {},
   "source": [
    "### 2) 그래프 그리기"
   ]
  },
  {
   "cell_type": "code",
   "execution_count": 86,
   "id": "d9234fba",
   "metadata": {},
   "source": [
    "# seaborn barplot\n",
    "sns.barplot(data=flights, x='year', y='passengers')"
   ],
   "outputs": []
  },
  {
   "cell_type": "code",
   "execution_count": 87,
   "id": "501a7816",
   "metadata": {},
   "source": [
    "# Q. seaborn pointplot을 그려봅시다.\n",
    "sns.pointplot(data=flights, x='year', y='passengers')"
   ],
   "outputs": []
  },
  {
   "cell_type": "code",
   "execution_count": 88,
   "id": "37555cdf",
   "metadata": {},
   "source": [
    "# Q. seaborn lineplot을 그려봅시다.\n",
    "sns.lineplot(data=flights, x='year', y='passengers')"
   ],
   "outputs": []
  },
  {
   "cell_type": "markdown",
   "id": "21440468",
   "metadata": {},
   "source": [
    "달별로 나누어 보기 위해 hue 인자에 'month'를 할당합니다."
   ]
  },
  {
   "cell_type": "code",
   "execution_count": 89,
   "id": "35ff4442",
   "metadata": {},
   "source": [
    "sns.lineplot(data=flights, x='year', y='passengers', hue='month', palette='ch:.50')\n",
    "plt.legend(bbox_to_anchor=(1.03, 1), loc=2) #legend 그래프 밖에 추가하기"
   ],
   "outputs": []
  },
  {
   "cell_type": "code",
   "execution_count": 90,
   "id": "8c1eb445",
   "metadata": {},
   "source": [
    "sns.histplot(flights['passengers'])"
   ],
   "outputs": []
  },
  {
   "cell_type": "markdown",
   "id": "8169e941",
   "metadata": {},
   "source": [
    "## Heatmap\n",
    "\n",
    "Heatmap은 방대한 양의 데이터와 현상을 수치에 따른 색상으로 나타내는 것으로, 데이터 차원에 대한 제한은 없으나 모두 2차원으로 시각화하여 표현합니다.\n",
    "\n",
    "예제 데이터의 연도와 달에 대해 탑승객 수를 heatmap으로 나타내보겠습니다.\n",
    "\n",
    ">❗ 잠깐만! pivot\n",
    "> Heatmap을 그리기 위해 데이터를 pivot 해야 하는 경우가 있습니다.\n",
    "pivot이란 어떤 축, 점을 기준으로 바꾸다란 뜻입니다. 데이터 표를 재배치할 때도 pivot이라는 단어를 사용합니다. (엑셀, Database에도 등장하는 용어입니다.)\n",
    "\n",
    "pandas의 dataframe의 `pivot()` 메서드를 사용합니다.\n",
    "flights(DataFrame)을 탑승객 수를 year과 month로 pivot 해보겠습니다."
   ]
  },
  {
   "cell_type": "code",
   "execution_count": 91,
   "id": "7102b17a",
   "metadata": {},
   "source": [
    "pivot = flights.pivot(index='year', columns='month', values='passengers')\n",
    "pivot"
   ],
   "outputs": []
  },
  {
   "cell_type": "code",
   "execution_count": 92,
   "id": "36f6a038",
   "metadata": {},
   "source": [
    "sns.heatmap(pivot)"
   ],
   "outputs": []
  },
  {
   "cell_type": "code",
   "execution_count": 93,
   "id": "312e6999",
   "metadata": {},
   "source": [
    "sns.heatmap(pivot, linewidths=.2, annot=True, fmt=\"d\")"
   ],
   "outputs": []
  },
  {
   "cell_type": "markdown",
   "id": "547bb863",
   "metadata": {},
   "source": [
    "- heatmap cell 사이의 간격을 0.2로 지정합니다. (linewidths=.2)\n",
    "- heatmap cell 안에 데이터 값을 넣고 (annot=True)\n",
    "- 데이터 값의 형식을 정수로 지정합니다. (fmt=\"d\")"
   ]
  },
  {
   "cell_type": "code",
   "execution_count": 94,
   "id": "81a35a26",
   "metadata": {},
   "source": [
    "# Q. cmap 인자를 \"YlGnBu\"로 지정하여 heatmap을 그려보세요!\n",
    "sns.heatmap(pivot, linewidths=.2, annot=True, fmt=\"d\", cmap='YlGnBu')"
   ],
   "outputs": []
  },
  {
   "cell_type": "markdown",
   "id": "aeb0e7cf",
   "metadata": {},
   "source": [
    "## 종합퀴즈"
   ]
  },
  {
   "cell_type": "code",
   "execution_count": 95,
   "id": "d39fa6ed",
   "metadata": {},
   "source": [
    "import numpy as np\n",
    "import pandas as pd\n",
    "import seaborn as sns\n",
    "import matplotlib.pyplot as plt\n",
    "%matplotlib inline\n",
    "\n",
    "tips = sns.load_dataset(\"tips\")"
   ],
   "outputs": []
  },
  {
   "cell_type": "code",
   "execution_count": 97,
   "id": "ec41ffb9",
   "metadata": {},
   "source": [
    "# Q. 시간대(time)에 따른 tip과 total_bill의 관계를 scatter plot으로 시각화해봅시다.\n",
    "sns.scatterplot(data=tips, x='tip', y='total_bill', hue='time')"
   ],
   "outputs": []
  },
  {
   "cell_type": "code",
   "execution_count": 96,
   "id": "5a30e2db",
   "metadata": {},
   "source": [
    "# Q. seaborn jointplot의 문서를 참고하여 아래와 같은 그래프를 그려보세요!\n",
    "sns.jointplot(data=tips, x='tip', y='total_bill', hue='time')"
   ],
   "outputs": []
  },
  {
   "cell_type": "markdown",
   "id": "e5d7cb20",
   "metadata": {},
   "source": [
    "- jointplot 공식문서 : https://seaborn.pydata.org/generated/seaborn.jointplot.html"
   ]
  },
  {
   "cell_type": "code",
   "execution_count": null,
   "id": "b67169c8",
   "metadata": {},
   "source": [],
   "outputs": []
  },
  {
   "cell_type": "code",
   "execution_count": null,
   "id": "873ce78e",
   "metadata": {},
   "source": [],
   "outputs": []
  }
 ],
 "metadata": {
  "kernelspec": {
   "display_name": "Python 3 (ipykernel)",
   "language": "python",
   "name": "python3"
  },
  "language_info": {
   "codemirror_mode": {
    "name": "ipython",
    "version": 3
   },
   "file_extension": ".py",
   "mimetype": "text/x-python",
   "name": "python",
   "nbconvert_exporter": "python",
   "pygments_lexer": "ipython3",
   "version": "3.9.7"
  }
 },
 "nbformat": 4,
 "nbformat_minor": 5
}
