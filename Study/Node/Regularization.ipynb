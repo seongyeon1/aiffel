{
 "cells": [
  {
   "cell_type": "markdown",
   "id": "b99678aa",
   "metadata": {},
   "source": [
    "# Regularization과 Normalization\n",
    "Regularization과 Normalization 이 두 개념은 서로 헷갈리는 경우가 많은 것 같습니다. 한국어로 번역할 때 두 개념이 다 '정규화'로 번역될 때가 많아서 더욱 혼란스러울 때가 많습니다. 우선 두 개념을 아래와 같이 정리해 보겠습니다.\n",
    "\n",
    "## Regularization(정칙화)\n",
    "정칙화라고 불리며, 오버피팅(overfitting)을 해결하기 위한 방법 중의 하나입니다. 오늘 우리가 가장 중요하게 다룰 주제이기도 하지요. L1, L2 Regularization, Dropout, Batch normalization 등이 있습니다. 오버피팅은 한국어로 과적합이라고 하며, train set은 매우 잘 맞히지만, validation/test set은 맞히지 못하는 현상을 말합니다. 비유하자면 오버피팅은 기출문제는 외워서 잘 맞히지만 새로운 응용 문제로 시험을 볼 때는 잘 풀지 못하는 경우라고 할 수 있겠습니다. 더 좋은 결과를 얻기 위해서는 새로운 시험, 즉 test set에서도 잘 맞혀야겠죠? 그래서 regularization 기법들은 모델에 제약 조건을 걸어서 모델의 train loss를 증가시키는 역할을 합니다. 그래서 train loss는 약간 증가하지만 결과적으로, validation loss나 최종 test loss를 감소시키려는 목적을 가지고 있지요.\n",
    "\n",
    "## Normalization(정규화)\n",
    "정규화라고 불리며, 이는 데이터의 형태를 좀 더 의미 있게, 혹은 트레이닝에 적합하게 전처리하는 과정입니다. 데이터를 z-score로 바꾸거나 minmax scaler를 사용하여 0과 1사이의 값으로 분포를 조정하는 것들이 해당됩니다. 예를 들어, 금액과 같은 큰 범위의 값(10,000 ~ 10,000,000)과 시간(0~24)의 값이 들어가는 경우, 데이터의 분포가 피처(feature) 값의 범위에 의해 왜곡되어 학습에 방해가 된다는 문제가 있습니다. normalization은 모든 피처 값의 범위를 동일하게 하여 모델이 풀어야 하는 문제를 좀 더 간단하게 바꾸어 주는 전처리 과정입니다.\n",
    "\n",
    "이 두 가지 단어는 한국어로 번역 시에 혼용하여 쓰기도 하므로, 앞으로 이번 노드에서는 주로 영어로 표기하도록 하겠습니다. 핵심을 정리하면, regularization은 오버피팅을 막고자 하는 방법, normalization은 트레이닝을 할 때에 서로 범위가 다른 데이터들을 같은 범위로 바꿔주는 전처리 과정이라는 것입니다.\n",
    "\n",
    "Regularization와 Normalization의 간단한 예제를 Iris dataset의 회귀 문제를 풀면서 비교해 보겠습니다."
   ]
  },
  {
   "cell_type": "code",
   "id": "3b49e91e",
   "metadata": {
    "ExecuteTime": {
     "end_time": "2024-05-24T08:40:23.530876Z",
     "start_time": "2024-05-24T08:40:23.396848Z"
    }
   },
   "source": [
    "from sklearn.datasets import load_iris\n",
    "import pandas as pd \n",
    "import matplotlib.pyplot as plt\n",
    "\n",
    "iris = load_iris()\n",
    "iris_df = pd.DataFrame(data=iris.data, columns=iris.feature_names)\n",
    "target_df = pd.DataFrame(data=iris.target, columns=['species'])\n",
    "\n",
    "# 0, 1, 2로 되어있는 target 데이터를 \n",
    "# 알아보기 쉽게 'setosa', 'versicolor', 'virginica'로 바꿉니다 \n",
    "def converter(species):\n",
    "    if species == 0:\n",
    "        return 'setosa'\n",
    "    elif species == 1:\n",
    "        return 'versicolor'\n",
    "    else:\n",
    "        return 'virginica'\n",
    "\n",
    "target_df['species'] = target_df['species'].apply(converter)\n",
    "\n",
    "iris_df = pd.concat([iris_df, target_df], axis=1)\n",
    "iris_df.head()"
   ],
   "outputs": [
    {
     "data": {
      "text/plain": [
       "   sepal length (cm)  sepal width (cm)  petal length (cm)  petal width (cm)  \\\n",
       "0                5.1               3.5                1.4               0.2   \n",
       "1                4.9               3.0                1.4               0.2   \n",
       "2                4.7               3.2                1.3               0.2   \n",
       "3                4.6               3.1                1.5               0.2   \n",
       "4                5.0               3.6                1.4               0.2   \n",
       "\n",
       "  species  \n",
       "0  setosa  \n",
       "1  setosa  \n",
       "2  setosa  \n",
       "3  setosa  \n",
       "4  setosa  "
      ],
      "text/html": [
       "<div>\n",
       "<style scoped>\n",
       "    .dataframe tbody tr th:only-of-type {\n",
       "        vertical-align: middle;\n",
       "    }\n",
       "\n",
       "    .dataframe tbody tr th {\n",
       "        vertical-align: top;\n",
       "    }\n",
       "\n",
       "    .dataframe thead th {\n",
       "        text-align: right;\n",
       "    }\n",
       "</style>\n",
       "<table border=\"1\" class=\"dataframe\">\n",
       "  <thead>\n",
       "    <tr style=\"text-align: right;\">\n",
       "      <th></th>\n",
       "      <th>sepal length (cm)</th>\n",
       "      <th>sepal width (cm)</th>\n",
       "      <th>petal length (cm)</th>\n",
       "      <th>petal width (cm)</th>\n",
       "      <th>species</th>\n",
       "    </tr>\n",
       "  </thead>\n",
       "  <tbody>\n",
       "    <tr>\n",
       "      <th>0</th>\n",
       "      <td>5.1</td>\n",
       "      <td>3.5</td>\n",
       "      <td>1.4</td>\n",
       "      <td>0.2</td>\n",
       "      <td>setosa</td>\n",
       "    </tr>\n",
       "    <tr>\n",
       "      <th>1</th>\n",
       "      <td>4.9</td>\n",
       "      <td>3.0</td>\n",
       "      <td>1.4</td>\n",
       "      <td>0.2</td>\n",
       "      <td>setosa</td>\n",
       "    </tr>\n",
       "    <tr>\n",
       "      <th>2</th>\n",
       "      <td>4.7</td>\n",
       "      <td>3.2</td>\n",
       "      <td>1.3</td>\n",
       "      <td>0.2</td>\n",
       "      <td>setosa</td>\n",
       "    </tr>\n",
       "    <tr>\n",
       "      <th>3</th>\n",
       "      <td>4.6</td>\n",
       "      <td>3.1</td>\n",
       "      <td>1.5</td>\n",
       "      <td>0.2</td>\n",
       "      <td>setosa</td>\n",
       "    </tr>\n",
       "    <tr>\n",
       "      <th>4</th>\n",
       "      <td>5.0</td>\n",
       "      <td>3.6</td>\n",
       "      <td>1.4</td>\n",
       "      <td>0.2</td>\n",
       "      <td>setosa</td>\n",
       "    </tr>\n",
       "  </tbody>\n",
       "</table>\n",
       "</div>"
      ]
     },
     "execution_count": 1,
     "metadata": {},
     "output_type": "execute_result"
    }
   ],
   "execution_count": 1
  },
  {
   "cell_type": "code",
   "id": "22baa482",
   "metadata": {
    "ExecuteTime": {
     "end_time": "2024-05-24T08:40:23.537074Z",
     "start_time": "2024-05-24T08:40:23.532101Z"
    }
   },
   "source": [
    "X = [iris_df['petal length (cm)'][a] for a in iris_df.index if iris_df['species'][a]=='virginica']\n",
    "Y = [iris_df['sepal length (cm)'][a] for a in iris_df.index if iris_df['species'][a]=='virginica']\n",
    "\n",
    "print(\"petal length(꽃잎 길이)\", X)\n",
    "print(\"sepal length(꽃받침의 길이)\", Y)"
   ],
   "outputs": [
    {
     "name": "stdout",
     "output_type": "stream",
     "text": [
      "petal length(꽃잎 길이) [6.0, 5.1, 5.9, 5.6, 5.8, 6.6, 4.5, 6.3, 5.8, 6.1, 5.1, 5.3, 5.5, 5.0, 5.1, 5.3, 5.5, 6.7, 6.9, 5.0, 5.7, 4.9, 6.7, 4.9, 5.7, 6.0, 4.8, 4.9, 5.6, 5.8, 6.1, 6.4, 5.6, 5.1, 5.6, 6.1, 5.6, 5.5, 4.8, 5.4, 5.6, 5.1, 5.1, 5.9, 5.7, 5.2, 5.0, 5.2, 5.4, 5.1]\n",
      "sepal length(꽃받침의 길이) [6.3, 5.8, 7.1, 6.3, 6.5, 7.6, 4.9, 7.3, 6.7, 7.2, 6.5, 6.4, 6.8, 5.7, 5.8, 6.4, 6.5, 7.7, 7.7, 6.0, 6.9, 5.6, 7.7, 6.3, 6.7, 7.2, 6.2, 6.1, 6.4, 7.2, 7.4, 7.9, 6.4, 6.3, 6.1, 7.7, 6.3, 6.4, 6.0, 6.9, 6.7, 6.9, 5.8, 6.8, 6.7, 6.7, 6.3, 6.5, 6.2, 5.9]\n"
     ]
    }
   ],
   "execution_count": 2
  },
  {
   "cell_type": "markdown",
   "id": "699a70e1",
   "metadata": {},
   "source": [
    "값으로만 보니 직관적으로 잘 와닿지 않네요! 산점도로 그려봅시다.\n",
    "\n",
    "아직 normalization을 하지 않았기 때문에 x축과 y축은 각각의 최솟값과 최댓값의 범위로 그려집니다."
   ]
  },
  {
   "cell_type": "code",
   "id": "0f0bca5f",
   "metadata": {
    "ExecuteTime": {
     "end_time": "2024-05-24T08:40:23.730274Z",
     "start_time": "2024-05-24T08:40:23.539647Z"
    }
   },
   "source": [
    "plt.figure(figsize=(5,5))\n",
    "plt.scatter(X,Y)\n",
    "plt.title('petal-sepal scatter before normalization') \n",
    "plt.xlabel('petal length (cm)')\n",
    "plt.ylabel('sepal length (cm)')\n",
    "plt.grid()\n",
    "plt.show()"
   ],
   "outputs": [
    {
     "data": {
      "text/plain": [
       "<Figure size 500x500 with 1 Axes>"
      ],
      "image/png": "[encoded data removed]"
     },
     "metadata": {},
     "output_type": "display_data"
    }
   ],
   "execution_count": 3
  },
  {
   "cell_type": "markdown",
   "id": "d7f61c6b",
   "metadata": {},
   "source": [
    "그래프의 축을 잘 살펴보세요!\n",
    "\n",
    "이제 0-1로 normalization을 해주는 minmax_scale를 이용해서 산점도를 다시 한번 그려보겠습니다."
   ]
  },
  {
   "cell_type": "code",
   "id": "78419868",
   "metadata": {
    "ExecuteTime": {
     "end_time": "2024-05-24T08:40:23.847351Z",
     "start_time": "2024-05-24T08:40:23.731865Z"
    }
   },
   "source": [
    "from sklearn.preprocessing import minmax_scale\n",
    "\n",
    "X_scale = minmax_scale(X)\n",
    "Y_scale = minmax_scale(Y)\n",
    "\n",
    "plt.figure(figsize=(5,5))\n",
    "plt.scatter(X_scale,Y_scale)\n",
    "plt.title('petal-sepal scatter after normalization') \n",
    "plt.xlabel('petal length (cm)')\n",
    "plt.ylabel('sepal length (cm)')\n",
    "plt.grid()\n",
    "plt.show()"
   ],
   "outputs": [
    {
     "data": {
      "text/plain": [
       "<Figure size 500x500 with 1 Axes>"
      ],
      "image/png": "[encoded data removed]"
     },
     "metadata": {},
     "output_type": "display_data"
    }
   ],
   "execution_count": 4
  },
  {
   "cell_type": "markdown",
   "id": "2f653f05",
   "metadata": {},
   "source": [
    "결과를 비교해 보면, 가장 큰 값을 1, 가장 작은 값을 0으로 하여 축 범위가 바뀜을 확인할 수 있습니다. 데이터의 상대적인 분포는 바뀌지 않았지만, 피처의 스케일이 0과 1 사이로 변환되었으므로 이후 X, Y의 관계를 다루기 용이해졌습니다.\n",
    "\n",
    "이번엔 같은 데이터로 간단한 회귀 문제를 풀면서 regularization에 대해 알아보겠습니다.\n",
    "\n",
    "sklearn.linear_model에 포함된 LinearRegression 모델을 사용하여 X-Y 관계를 선형으로 모델링해 보겠습니다. 이 sklearn.linear_model에는 L1, L2 regression인 Lasso와 Ridge 모델도 함께 포함되어 있으므로, 이들의 차이점을 먼저 직관적으로 이해해 보겠습니다. 수학적 정의나 보다 구체적인 설명은 다음 스텝에 이어집니다."
   ]
  },
  {
   "cell_type": "code",
   "id": "e939f168",
   "metadata": {
    "ExecuteTime": {
     "end_time": "2024-05-24T08:40:23.961833Z",
     "start_time": "2024-05-24T08:40:23.848125Z"
    }
   },
   "source": [
    "from sklearn.linear_model import LinearRegression\n",
    "import numpy as np \n",
    "\n",
    "X = np.array(X)\n",
    "Y = np.array(Y)\n",
    "\n",
    "# Iris Dataset을 Linear Regression으로 학습합니다. \n",
    "linear= LinearRegression()\n",
    "linear.fit(X.reshape(-1,1), Y)\n",
    "\n",
    "# Linear Regression의 기울기와 절편을 확인합니다. \n",
    "a, b=linear.coef_, linear.intercept_\n",
    "print(\"기울기 : %0.2f, 절편 : %0.2f\" %(a,b))"
   ],
   "outputs": [
    {
     "name": "stdout",
     "output_type": "stream",
     "text": [
      "기울기 : 1.00, 절편 : 1.06\n"
     ]
    }
   ],
   "execution_count": 5
  },
  {
   "cell_type": "markdown",
   "id": "e5fe17f1",
   "metadata": {},
   "source": [
    "위에서 linear regression으로 구한 기울기와 절편을 가지고 일차함수를 만들어 산점도와 함께 그려보겠습니다."
   ]
  },
  {
   "cell_type": "code",
   "id": "61740390",
   "metadata": {
    "ExecuteTime": {
     "end_time": "2024-05-24T08:40:24.074223Z",
     "start_time": "2024-05-24T08:40:23.962895Z"
    }
   },
   "source": [
    "plt.figure(figsize=(5,5))\n",
    "plt.scatter(X,Y)\n",
    "plt.plot(X,linear.predict(X.reshape(-1,1)),'-b')\n",
    "plt.title('petal-sepal scatter with linear regression') \n",
    "plt.xlabel('petal length (cm)')\n",
    "plt.ylabel('sepal length (cm)')\n",
    "plt.grid()\n",
    "plt.show()"
   ],
   "outputs": [
    {
     "data": {
      "text/plain": [
       "<Figure size 500x500 with 1 Axes>"
      ],
      "image/png": "[encoded data removed]"
     },
     "metadata": {},
     "output_type": "display_data"
    }
   ],
   "execution_count": 6
  },
  {
   "cell_type": "markdown",
   "id": "685468a9",
   "metadata": {},
   "source": [
    "이번에는 L1, L2 regularization으로 regression을 해보겠습니다. 이는 Lasso, Ridge라고 부릅니다.\n",
    "\n",
    "먼저 L1 regularization인 Lasso로 문제를 풀어보겠습니다."
   ]
  },
  {
   "cell_type": "code",
   "id": "2c143d5f",
   "metadata": {
    "ExecuteTime": {
     "end_time": "2024-05-24T08:40:24.184225Z",
     "start_time": "2024-05-24T08:40:24.075064Z"
    }
   },
   "source": [
    "# Q. linear regression의 코드를 참고하여, 아래 코드를 채워주세요!\n",
    "\n",
    "# L1 regularization은 Lasso로 import 합니다.\n",
    "from sklearn.linear_model import Lasso\n",
    "\n",
    "L1 = Lasso()\n",
    "L1.fit(X.reshape(-1,1), Y)\n",
    "a, b = L1.coef_, L1.intercept_\n",
    "print(\"기울기 : %0.2f, 절편 : %0.2f\" %(a,b))\n",
    "\n",
    "plt.figure(figsize=(5,5))\n",
    "plt.plot(X, L1.predict(X.reshape(-1, 1)), '-b')\n",
    "plt.title('petal-sepal scatter with L1 regularization(Lasso)') \n",
    "plt.xlabel('petal length (cm)')\n",
    "plt.ylabel('sepal length (cm)')\n",
    "plt.grid()\n",
    "plt.show()"
   ],
   "outputs": [
    {
     "name": "stdout",
     "output_type": "stream",
     "text": [
      "기울기 : 0.00, 절편 : 6.59\n"
     ]
    },
    {
     "data": {
      "text/plain": [
       "<Figure size 500x500 with 1 Axes>"
      ],
      "image/png": "[encoded data removed]"
     },
     "metadata": {},
     "output_type": "display_data"
    }
   ],
   "execution_count": 7
  },
  {
   "cell_type": "markdown",
   "id": "b38723d6",
   "metadata": {},
   "source": [
    "어떤가요? 혹시 기울기가 0으로 나오지 않았나요? Lasso 방법은 결과가 별로 좋지 않은 것 같습니다.\n",
    "\n",
    "이제 같은 데이터셋으로 L2 regularization인 Ridge로 문제를 풀어보고 서로 비교해 보겠습니다."
   ]
  },
  {
   "cell_type": "code",
   "id": "5bc8b6f0",
   "metadata": {
    "ExecuteTime": {
     "end_time": "2024-05-24T08:40:24.299420Z",
     "start_time": "2024-05-24T08:40:24.185521Z"
    }
   },
   "source": [
    "# Q. linear regression의 코드를 참고하여, 아래 코드를 채워주세요!\n",
    "\n",
    "# L2 regularization은 Ridge로 import 합니다.\n",
    "from sklearn.linear_model import Ridge\n",
    "\n",
    "L2 = Ridge()\n",
    "L2.fit(X.reshape(-1, 1), Y)\n",
    "a, b = L1.coef_, L2.intercept_\n",
    "print(\"기울기 : %0.2f, 절편 : %0.2f\" %(a,b))\n",
    "\n",
    "plt.figure(figsize=(5,5))\n",
    "plt.plot(X, L2.predict(X.reshape(-1, 1)), '-b')\n",
    "plt.title('petal-sepal scatter with L2 regularization(Ridge)') \n",
    "plt.xlabel('petal length (cm)')\n",
    "plt.ylabel('sepal length (cm)')\n",
    "plt.grid()\n",
    "plt.show()"
   ],
   "outputs": [
    {
     "name": "stdout",
     "output_type": "stream",
     "text": [
      "기울기 : 0.00, 절편 : 1.41\n"
     ]
    },
    {
     "data": {
      "text/plain": [
       "<Figure size 500x500 with 1 Axes>"
      ],
      "image/png": "[encoded data removed]"
     },
     "metadata": {},
     "output_type": "display_data"
    }
   ],
   "execution_count": 8
  },
  {
   "cell_type": "markdown",
   "id": "7abdf894",
   "metadata": {},
   "source": [
    "다시 다루겠지만, linear regression이 L2 norm과 관련이 있습니다. 그래서 L2 regularization을 쓰는 Ridge방법으로는 앞서 linear regression과 큰 차이가 없는 결과가 나옵니다.\n",
    "그러나 왜 L1 regularization을 쓰는 Lasso에서는 이상한 결과가 나왔을까요?\n",
    "\n",
    "다음 스텝에서 그 이유를 알아보도록 하겠습니다!"
   ]
  },
  {
   "cell_type": "markdown",
   "id": "98bb6f77",
   "metadata": {},
   "source": [
    "## L1 Regularization\n",
    "이전 스텝에서 regularization과 normalization의 정의를 설명하고, L1/L2 regularization을 코드로 맛보기 해보았습니다. 마지막에 같은 linear regression 문제를 푸는데 L1 regularization에서는 문제가 풀리지 않았다는 것을 기억하시나요?\n",
    "\n",
    "L1 regularization을 설명하면서, 지난 스텝에서 `Lasso`로는 regression 문제가 제대로 풀리지 않았던 현상을 더 자세히 알아보겠습니다. 그리고 어떤 때에 L1 regularization을 사용하는지 알아보는 것이 목표입니다!\n",
    "\n",
    "### L1 regularization (Lasso)의 정의\n",
    "L1 regularization은 아래와 같은 식으로 정의됩니다. ($N$: 데이터의 개수, $D$: 데이터의 차원(feature의 개수))\n",
    "\n",
    "$$  \\hat{\\beta}^{lasso} := argmin_{\\beta} \\frac{1}{2N} \\sum_{i=1}^{N}(y_i - \\beta_0 - \\sum_{j=1}^{D}x_{ij}\\beta_j)^2 + \\lambda\\sum_{j=1}^{D} \\left| \\beta_j \\right| $$\n",
    "\n",
    "여기서 중요하게 봐야 할 부분은 $\\lambda\\sum_{j=1}^{D} \\left| \\beta_j \\right|$입니다. 이 부분이 없다면 linear regression과 동일합니다\n",
    "\n",
    "이 부분이 바로 L1 norm에 해당하는 부분인데, L1 regularization이라는 이름이 붙은 이유이기도 하고, L2 regularization과의 차이가 나타나는 중요한 부분입니다.\n",
    "\n",
    ">💡참고 지식 (Lp norm)\n",
    "\n",
    ">norm은 벡터나 행렬, 함수 등의 거리를 나타내는 것으로 우리는 여기서 벡터값만 다룰 예정입니다. Lp norm 의 정의는 아래와 같습니다.      \n",
    ">    (참고) Norm (mathematics)(https://en.wikipedia.org/wiki/Norm_(mathematics))\n",
    "\n",
    "$$ \\left\\| x\\right\\|_p := (\\sum_{i=1}^{n}\\left| x_i\\right|^p)^{1/p} $$"
   ]
  },
  {
   "cell_type": "markdown",
   "id": "a5ba8569",
   "metadata": {},
   "source": [
    "norm에 대해서는 이후 스텝에서 더 자세히 다룰 예정입니다!\n",
    "\n",
    "그렇다면\n",
    "$p=1$인 경우의 L1 norm은 \n",
    "$ \\left\\| x\\right\\|_1 := \\sum_{i=1}^{n}\\left| x_i\\right| $ 로 나타낼 수 있습니다.\n",
    "이는 위에서 봤던 $\\lambda\\sum_{j=1}^{D} \\left| \\beta_j \\right|$ 에 들어가 있는 수식과 일치합니다!    \n",
    "\n",
    "\n",
    "때문에 $p=1$이므로 L1 regularization이라고 부르는 것입니다.\n",
    "하지만 사이킷런이나 케라스, 텐서플로우 등의 패키지에서는 `Lasso` 라는 이름을 더 자주 사용합니다. 그럼 저번 시간에 사용해 본 코드의 일부분을 살펴볼까요?"
   ]
  },
  {
   "cell_type": "code",
   "id": "bcf37063",
   "metadata": {
    "ExecuteTime": {
     "end_time": "2024-05-24T08:40:24.311353Z",
     "start_time": "2024-05-24T08:40:24.302753Z"
    }
   },
   "source": [
    "from sklearn.datasets import load_iris\n",
    "import pandas as pd \n",
    "import matplotlib.pyplot as plt\n",
    "\n",
    "iris = load_iris()\n",
    "iris_df = pd.DataFrame(data=iris.data, columns=iris.feature_names)\n",
    "target_df = pd.DataFrame(data=iris.target, columns=['species'])\n",
    "\n",
    "def converter(species):\n",
    "    if species == 0:\n",
    "        return 'setosa'\n",
    "    elif species == 1:\n",
    "        return 'versicolor'\n",
    "    else:\n",
    "        return 'virginica'\n",
    "\n",
    "target_df['species'] = target_df['species'].apply(converter)\n",
    "\n",
    "iris_df = pd.concat([iris_df, target_df], axis=1)\n",
    "iris_df.head()"
   ],
   "outputs": [
    {
     "data": {
      "text/plain": [
       "   sepal length (cm)  sepal width (cm)  petal length (cm)  petal width (cm)  \\\n",
       "0                5.1               3.5                1.4               0.2   \n",
       "1                4.9               3.0                1.4               0.2   \n",
       "2                4.7               3.2                1.3               0.2   \n",
       "3                4.6               3.1                1.5               0.2   \n",
       "4                5.0               3.6                1.4               0.2   \n",
       "\n",
       "  species  \n",
       "0  setosa  \n",
       "1  setosa  \n",
       "2  setosa  \n",
       "3  setosa  \n",
       "4  setosa  "
      ],
      "text/html": [
       "<div>\n",
       "<style scoped>\n",
       "    .dataframe tbody tr th:only-of-type {\n",
       "        vertical-align: middle;\n",
       "    }\n",
       "\n",
       "    .dataframe tbody tr th {\n",
       "        vertical-align: top;\n",
       "    }\n",
       "\n",
       "    .dataframe thead th {\n",
       "        text-align: right;\n",
       "    }\n",
       "</style>\n",
       "<table border=\"1\" class=\"dataframe\">\n",
       "  <thead>\n",
       "    <tr style=\"text-align: right;\">\n",
       "      <th></th>\n",
       "      <th>sepal length (cm)</th>\n",
       "      <th>sepal width (cm)</th>\n",
       "      <th>petal length (cm)</th>\n",
       "      <th>petal width (cm)</th>\n",
       "      <th>species</th>\n",
       "    </tr>\n",
       "  </thead>\n",
       "  <tbody>\n",
       "    <tr>\n",
       "      <th>0</th>\n",
       "      <td>5.1</td>\n",
       "      <td>3.5</td>\n",
       "      <td>1.4</td>\n",
       "      <td>0.2</td>\n",
       "      <td>setosa</td>\n",
       "    </tr>\n",
       "    <tr>\n",
       "      <th>1</th>\n",
       "      <td>4.9</td>\n",
       "      <td>3.0</td>\n",
       "      <td>1.4</td>\n",
       "      <td>0.2</td>\n",
       "      <td>setosa</td>\n",
       "    </tr>\n",
       "    <tr>\n",
       "      <th>2</th>\n",
       "      <td>4.7</td>\n",
       "      <td>3.2</td>\n",
       "      <td>1.3</td>\n",
       "      <td>0.2</td>\n",
       "      <td>setosa</td>\n",
       "    </tr>\n",
       "    <tr>\n",
       "      <th>3</th>\n",
       "      <td>4.6</td>\n",
       "      <td>3.1</td>\n",
       "      <td>1.5</td>\n",
       "      <td>0.2</td>\n",
       "      <td>setosa</td>\n",
       "    </tr>\n",
       "    <tr>\n",
       "      <th>4</th>\n",
       "      <td>5.0</td>\n",
       "      <td>3.6</td>\n",
       "      <td>1.4</td>\n",
       "      <td>0.2</td>\n",
       "      <td>setosa</td>\n",
       "    </tr>\n",
       "  </tbody>\n",
       "</table>\n",
       "</div>"
      ]
     },
     "execution_count": 9,
     "metadata": {},
     "output_type": "execute_result"
    }
   ],
   "execution_count": 9
  },
  {
   "cell_type": "code",
   "id": "4e3a7676",
   "metadata": {
    "ExecuteTime": {
     "end_time": "2024-05-24T08:40:24.419812Z",
     "start_time": "2024-05-24T08:40:24.312067Z"
    }
   },
   "source": [
    "X = [iris_df['petal length (cm)'][a] for a in iris_df.index if iris_df['species'][a]=='virginica']\n",
    "Y = [iris_df['sepal length (cm)'][a] for a in iris_df.index if iris_df['species'][a]=='virginica']\n",
    "\n",
    "X = np.array(X)\n",
    "Y = np.array(Y)\n",
    "\n",
    "plt.figure(figsize=(5,5))\n",
    "plt.scatter(X,Y)\n",
    "plt.xlabel('petal length (cm)')\n",
    "plt.ylabel('sepal length (cm)')\n",
    "plt.grid()\n",
    "plt.show()"
   ],
   "outputs": [
    {
     "data": {
      "text/plain": [
       "<Figure size 500x500 with 1 Axes>"
      ],
      "image/png": "[encoded data removed]"
     },
     "metadata": {},
     "output_type": "display_data"
    }
   ],
   "execution_count": 10
  },
  {
   "cell_type": "code",
   "id": "3b296087",
   "metadata": {
    "ExecuteTime": {
     "end_time": "2024-05-24T08:40:24.523067Z",
     "start_time": "2024-05-24T08:40:24.420599Z"
    }
   },
   "source": [
    "from sklearn.linear_model import Lasso\n",
    "\n",
    "L1 = Lasso()\n",
    "L1.fit(X.reshape(-1,1), Y)\n",
    "a, b = L1.coef_, L1.intercept_\n",
    "print(\"기울기 : %0.2f, 절편 : %0.2f\" %(a,b))\n",
    "\n",
    "plt.figure(figsize=(5,5))\n",
    "plt.scatter(X,Y)\n",
    "plt.plot(X,L1.predict(X.reshape(-1,1)),'-b')\n",
    "plt.xlabel('petal length (cm)')\n",
    "plt.ylabel('sepal length (cm)')\n",
    "plt.grid()\n",
    "plt.show()"
   ],
   "outputs": [
    {
     "name": "stdout",
     "output_type": "stream",
     "text": [
      "기울기 : 0.00, 절편 : 6.59\n"
     ]
    },
    {
     "data": {
      "text/plain": [
       "<Figure size 500x500 with 1 Axes>"
      ],
      "image/png": "[encoded data removed]"
     },
     "metadata": {},
     "output_type": "display_data"
    }
   ],
   "execution_count": 11
  },
  {
   "cell_type": "markdown",
   "id": "ffd70dc4",
   "metadata": {},
   "source": [
    "흠... 기울기가 0으로 나오는 것이 아무래도 이상한데요...🤔\n",
    "아무래도 데이터의 feature 개수가 2개밖에 되지 않으니까 이게 맞는 건지 아직 잘 모르겠습니다. 일단 다른 데이터셋으로 L1 regularization을 한번 더 돌려보겠습니다."
   ]
  },
  {
   "cell_type": "markdown",
   "id": "270e69a6",
   "metadata": {},
   "source": [
    "### 컬럼 수가 많은 데이터에서의 L1 regularization 비교\n",
    "Iris 데이터는 특성이 총 4개로 컬럼 수가 너무 적으니 wine dataset을 이용해 보겠습니다.\n",
    "총 13개의 특성을 갖는 데이터입니다."
   ]
  },
  {
   "cell_type": "code",
   "id": "4f5d195b",
   "metadata": {
    "ExecuteTime": {
     "end_time": "2024-05-24T08:40:24.535162Z",
     "start_time": "2024-05-24T08:40:24.524305Z"
    }
   },
   "source": [
    "from sklearn.datasets import load_wine\n",
    "\n",
    "wine = load_wine()\n",
    "wine_df = pd.DataFrame(data=wine.data, columns=wine.feature_names)\n",
    "target_df = pd.DataFrame(data=wine.target, columns=['Y'])"
   ],
   "outputs": [],
   "execution_count": 12
  },
  {
   "cell_type": "code",
   "id": "e5a7beab",
   "metadata": {
    "ExecuteTime": {
     "end_time": "2024-05-24T08:40:24.542616Z",
     "start_time": "2024-05-24T08:40:24.535954Z"
    }
   },
   "source": [
    "wine_df.head(5)"
   ],
   "outputs": [
    {
     "data": {
      "text/plain": [
       "   alcohol  malic_acid   ash  alcalinity_of_ash  magnesium  total_phenols  \\\n",
       "0    14.23        1.71  2.43               15.6      127.0           2.80   \n",
       "1    13.20        1.78  2.14               11.2      100.0           2.65   \n",
       "2    13.16        2.36  2.67               18.6      101.0           2.80   \n",
       "3    14.37        1.95  2.50               16.8      113.0           3.85   \n",
       "4    13.24        2.59  2.87               21.0      118.0           2.80   \n",
       "\n",
       "   flavanoids  nonflavanoid_phenols  proanthocyanins  color_intensity   hue  \\\n",
       "0        3.06                  0.28             2.29             5.64  1.04   \n",
       "1        2.76                  0.26             1.28             4.38  1.05   \n",
       "2        3.24                  0.30             2.81             5.68  1.03   \n",
       "3        3.49                  0.24             2.18             7.80  0.86   \n",
       "4        2.69                  0.39             1.82             4.32  1.04   \n",
       "\n",
       "   od280/od315_of_diluted_wines  proline  \n",
       "0                          3.92   1065.0  \n",
       "1                          3.40   1050.0  \n",
       "2                          3.17   1185.0  \n",
       "3                          3.45   1480.0  \n",
       "4                          2.93    735.0  "
      ],
      "text/html": [
       "<div>\n",
       "<style scoped>\n",
       "    .dataframe tbody tr th:only-of-type {\n",
       "        vertical-align: middle;\n",
       "    }\n",
       "\n",
       "    .dataframe tbody tr th {\n",
       "        vertical-align: top;\n",
       "    }\n",
       "\n",
       "    .dataframe thead th {\n",
       "        text-align: right;\n",
       "    }\n",
       "</style>\n",
       "<table border=\"1\" class=\"dataframe\">\n",
       "  <thead>\n",
       "    <tr style=\"text-align: right;\">\n",
       "      <th></th>\n",
       "      <th>alcohol</th>\n",
       "      <th>malic_acid</th>\n",
       "      <th>ash</th>\n",
       "      <th>alcalinity_of_ash</th>\n",
       "      <th>magnesium</th>\n",
       "      <th>total_phenols</th>\n",
       "      <th>flavanoids</th>\n",
       "      <th>nonflavanoid_phenols</th>\n",
       "      <th>proanthocyanins</th>\n",
       "      <th>color_intensity</th>\n",
       "      <th>hue</th>\n",
       "      <th>od280/od315_of_diluted_wines</th>\n",
       "      <th>proline</th>\n",
       "    </tr>\n",
       "  </thead>\n",
       "  <tbody>\n",
       "    <tr>\n",
       "      <th>0</th>\n",
       "      <td>14.23</td>\n",
       "      <td>1.71</td>\n",
       "      <td>2.43</td>\n",
       "      <td>15.6</td>\n",
       "      <td>127.0</td>\n",
       "      <td>2.80</td>\n",
       "      <td>3.06</td>\n",
       "      <td>0.28</td>\n",
       "      <td>2.29</td>\n",
       "      <td>5.64</td>\n",
       "      <td>1.04</td>\n",
       "      <td>3.92</td>\n",
       "      <td>1065.0</td>\n",
       "    </tr>\n",
       "    <tr>\n",
       "      <th>1</th>\n",
       "      <td>13.20</td>\n",
       "      <td>1.78</td>\n",
       "      <td>2.14</td>\n",
       "      <td>11.2</td>\n",
       "      <td>100.0</td>\n",
       "      <td>2.65</td>\n",
       "      <td>2.76</td>\n",
       "      <td>0.26</td>\n",
       "      <td>1.28</td>\n",
       "      <td>4.38</td>\n",
       "      <td>1.05</td>\n",
       "      <td>3.40</td>\n",
       "      <td>1050.0</td>\n",
       "    </tr>\n",
       "    <tr>\n",
       "      <th>2</th>\n",
       "      <td>13.16</td>\n",
       "      <td>2.36</td>\n",
       "      <td>2.67</td>\n",
       "      <td>18.6</td>\n",
       "      <td>101.0</td>\n",
       "      <td>2.80</td>\n",
       "      <td>3.24</td>\n",
       "      <td>0.30</td>\n",
       "      <td>2.81</td>\n",
       "      <td>5.68</td>\n",
       "      <td>1.03</td>\n",
       "      <td>3.17</td>\n",
       "      <td>1185.0</td>\n",
       "    </tr>\n",
       "    <tr>\n",
       "      <th>3</th>\n",
       "      <td>14.37</td>\n",
       "      <td>1.95</td>\n",
       "      <td>2.50</td>\n",
       "      <td>16.8</td>\n",
       "      <td>113.0</td>\n",
       "      <td>3.85</td>\n",
       "      <td>3.49</td>\n",
       "      <td>0.24</td>\n",
       "      <td>2.18</td>\n",
       "      <td>7.80</td>\n",
       "      <td>0.86</td>\n",
       "      <td>3.45</td>\n",
       "      <td>1480.0</td>\n",
       "    </tr>\n",
       "    <tr>\n",
       "      <th>4</th>\n",
       "      <td>13.24</td>\n",
       "      <td>2.59</td>\n",
       "      <td>2.87</td>\n",
       "      <td>21.0</td>\n",
       "      <td>118.0</td>\n",
       "      <td>2.80</td>\n",
       "      <td>2.69</td>\n",
       "      <td>0.39</td>\n",
       "      <td>1.82</td>\n",
       "      <td>4.32</td>\n",
       "      <td>1.04</td>\n",
       "      <td>2.93</td>\n",
       "      <td>735.0</td>\n",
       "    </tr>\n",
       "  </tbody>\n",
       "</table>\n",
       "</div>"
      ]
     },
     "execution_count": 13,
     "metadata": {},
     "output_type": "execute_result"
    }
   ],
   "execution_count": 13
  },
  {
   "cell_type": "code",
   "id": "4e54026d",
   "metadata": {
    "ExecuteTime": {
     "end_time": "2024-05-24T08:40:24.547669Z",
     "start_time": "2024-05-24T08:40:24.543330Z"
    }
   },
   "source": [
    "target_df.head(5)"
   ],
   "outputs": [
    {
     "data": {
      "text/plain": [
       "   Y\n",
       "0  0\n",
       "1  0\n",
       "2  0\n",
       "3  0\n",
       "4  0"
      ],
      "text/html": [
       "<div>\n",
       "<style scoped>\n",
       "    .dataframe tbody tr th:only-of-type {\n",
       "        vertical-align: middle;\n",
       "    }\n",
       "\n",
       "    .dataframe tbody tr th {\n",
       "        vertical-align: top;\n",
       "    }\n",
       "\n",
       "    .dataframe thead th {\n",
       "        text-align: right;\n",
       "    }\n",
       "</style>\n",
       "<table border=\"1\" class=\"dataframe\">\n",
       "  <thead>\n",
       "    <tr style=\"text-align: right;\">\n",
       "      <th></th>\n",
       "      <th>Y</th>\n",
       "    </tr>\n",
       "  </thead>\n",
       "  <tbody>\n",
       "    <tr>\n",
       "      <th>0</th>\n",
       "      <td>0</td>\n",
       "    </tr>\n",
       "    <tr>\n",
       "      <th>1</th>\n",
       "      <td>0</td>\n",
       "    </tr>\n",
       "    <tr>\n",
       "      <th>2</th>\n",
       "      <td>0</td>\n",
       "    </tr>\n",
       "    <tr>\n",
       "      <th>3</th>\n",
       "      <td>0</td>\n",
       "    </tr>\n",
       "    <tr>\n",
       "      <th>4</th>\n",
       "      <td>0</td>\n",
       "    </tr>\n",
       "  </tbody>\n",
       "</table>\n",
       "</div>"
      ]
     },
     "execution_count": 14,
     "metadata": {},
     "output_type": "execute_result"
    }
   ],
   "execution_count": 14
  },
  {
   "cell_type": "markdown",
   "id": "1ab22d45",
   "metadata": {},
   "source": [
    "먼저 linear regression 으로 문제를 풀고, 그 계수(coefficient)와 절대 오차(mean absolute error), 제곱 오차(mean squared error), 평균 제곱값 오차(root mean squared error)를 출력해 보겠습니다."
   ]
  },
  {
   "cell_type": "code",
   "id": "5c9e632e",
   "metadata": {
    "ExecuteTime": {
     "end_time": "2024-05-24T08:40:24.558298Z",
     "start_time": "2024-05-24T08:40:24.548812Z"
    }
   },
   "source": [
    "from sklearn.model_selection import train_test_split\n",
    "from sklearn.linear_model import LinearRegression\n",
    "from sklearn.metrics import mean_absolute_error, mean_squared_error\n",
    "\n",
    "# 데이터를 준비하고\n",
    "X_train, X_test, y_train, y_test = train_test_split(wine_df, target_df, test_size=0.3, random_state=101)\n",
    "\n",
    "# 모델을 훈련시킵니다.\n",
    "model = LinearRegression()\n",
    "model.fit(X_train, y_train)\n",
    "\n",
    "# 테스트를 해볼까요?\n",
    "pred = model.predict(X_test)\n",
    "\n",
    "# 테스트 결과는 이렇습니다!\n",
    "print(\"result of linear regression\")\n",
    "print('Mean Absolute Error:', mean_absolute_error(y_test, pred))\n",
    "print('Mean Squared Error:', mean_squared_error(y_test, pred))\n",
    "print('Mean Root Squared Error:', np.sqrt(mean_squared_error(y_test, pred)))\n",
    "\n",
    "print(\"\\n\\n coefficient linear regression\")\n",
    "print(model.coef_)"
   ],
   "outputs": [
    {
     "name": "stdout",
     "output_type": "stream",
     "text": [
      "result of linear regression\n",
      "Mean Absolute Error: 0.25128973939722726\n",
      "Mean Squared Error: 0.10624587409525657\n",
      "Mean Root Squared Error: 0.32595379134971963\n",
      "\n",
      "\n",
      " coefficient linear regression\n",
      "[[-8.09017190e-02  4.34817880e-02 -1.18857931e-01  3.65705449e-02\n",
      "  -4.68014203e-04  1.41423581e-01 -4.54107854e-01 -5.13172664e-01\n",
      "   9.69318443e-02  5.34311136e-02 -1.27626604e-01 -2.91381844e-01\n",
      "  -5.72238959e-04]]\n"
     ]
    }
   ],
   "execution_count": 15
  },
  {
   "cell_type": "markdown",
   "id": "58be7bb3",
   "metadata": {},
   "source": [
    "이번에는 L1 regularization으로 문제를 풀어보겠습니다."
   ]
  },
  {
   "cell_type": "code",
   "id": "9233aae6",
   "metadata": {
    "ExecuteTime": {
     "end_time": "2024-05-24T08:40:24.568026Z",
     "start_time": "2024-05-24T08:40:24.559603Z"
    }
   },
   "source": [
    "# Q. 위의 Iris 예제 코드를 참고해서, 빈칸을 채워봅시다.\n",
    "\n",
    "from sklearn.linear_model import Lasso\n",
    "from sklearn.metrics import mean_absolute_error, mean_squared_error\n",
    "\n",
    "# 모델을 준비하고 훈련시킵니다.\n",
    "L1 = Lasso(alpha=0.05)\n",
    "L1.fit(X_train, y_train)\n",
    "\n",
    "# 테스트를 해봅시다.\n",
    "pred = L1.predict(X_test)\n",
    "\n",
    "# 모델 성능은 얼마나 좋을까요?\n",
    "print(\"Result of Lasso\")\n",
    "print('Mean Absolute Error:', mean_absolute_error(y_test, pred))\n",
    "print('Mean Squared Error:', mean_squared_error(y_test, pred))\n",
    "print('Mean Root Squared Error:', np.sqrt(mean_squared_error(y_test, pred)))\n",
    "\n",
    "print(\"\\n\\n coefficient of Lasso\")\n",
    "print(L1.coef_)"
   ],
   "outputs": [
    {
     "name": "stdout",
     "output_type": "stream",
     "text": [
      "Result of Lasso\n",
      "Mean Absolute Error: 0.24233731936122138\n",
      "Mean Squared Error: 0.09559568945781889\n",
      "Mean Root Squared Error: 0.3091855259513597\n",
      "\n",
      "\n",
      " coefficient of Lasso\n",
      "[-0.          0.01373795 -0.          0.03065716  0.00154719 -0.\n",
      " -0.34143614 -0.          0.          0.06755943 -0.         -0.14558153\n",
      " -0.00089635]\n"
     ]
    }
   ],
   "execution_count": 16
  },
  {
   "cell_type": "markdown",
   "id": "3e8fa4e5",
   "metadata": {},
   "source": [
    "### 결과 분석\n",
    "coefficient 부분을 보시면 linear regression과 L1 regularization의 차이가 좀 더 두드러짐을 알 수 있습니다. linear regression에서는 모든 컬럼의 가중치가 0이 아닌 값을 가지고 있지만, L1 regularization에서는 총 13개 중 7개를 제외한 나머지의 값들이 모두 0임을 확인할 수 있습니다. error 부분에서는 큰 차이가 없었지만, 우리가 어떤 컬럼이 결과에 영향을 더 크게 미치는지 확실히 확인할 수 있습니다. 이러한 경우 다른 문제에서도 error의 차이가 크게 나지 않는다면, 차원 축소와 비슷한 개념으로 변수의 값을 7개만 남겨도 충분히 결과를 예측할 수 있습니다. 다만 linear regression과 L1, L2 regularization의 차이 중 하나는 하이퍼파라미터(수식에서는 𝜆)가 하나 더 들어간다는 것이고, 그 값에 따라 error에 영향을 미친다는 점입니다."
   ]
  },
  {
   "cell_type": "markdown",
   "id": "f8ec3adc",
   "metadata": {},
   "source": [
    "## L2 Regularization\n",
    "### L2 Regularization(Ridge)의 정의\n",
    "L2 regularization은 아래와 같은 식으로 정의됩니다.\n",
    "\n",
    "$$\\hat{\\beta}^{ridge} := argmin_{\\beta} \\frac{1}{2N} \\sum_{i=1}^{N}(y_i - \\beta_0 - \\sum_{j=1}^{D}x_{ij}\\beta_j)^2 + \\lambda\\sum_{j=1}^{D} \\beta_j^2$$\n",
    "\n",
    "아래는 L1 regularization의 정의입니다.\n",
    "\n",
    "$$  \\hat{\\beta}^{lasso} := argmin_{\\beta} \\frac{1}{2N} \\sum_{i=1}^{N}(y_i - \\beta_0 - \\sum_{j=1}^{D}x_{ij}\\beta_j)^2 + \\lambda\\sum_{j=1}^{D} \\left| \\beta_j \\right| $$\n",
    "\n",
    "자 이제 두 regularization 수식의 차이가 어디에 있는지 보이시나요? 이전 스텝에서 잠깐 Lp norm을 설명드렸는데, 그것이 L1 / L2 regularization의 이름과 큰 관련이 있다고 하였습니다.\n",
    "\n",
    "L2 regularization에서는 $\\lambda\\sum_{j=1}^{D} \\beta_j^2$ 부분이 핵심 내용이 됩니다.    \n",
    "$\\sum_{j=1}^{D} \\beta_j^2 \\leftarrow $ 이부분이 이전 스텝에서 설명해드린 L2 Norm의 형태와 똑같음을 확인할 수 있습니다"
   ]
  },
  {
   "cell_type": "markdown",
   "id": "761aa808",
   "metadata": {},
   "source": [
    "### L1 / L2 Regularization의 차이점\n",
    "- 노션에 정리"
   ]
  },
  {
   "cell_type": "markdown",
   "id": "adc80e42",
   "metadata": {},
   "source": "![IMG](data/img.png)"
  },
  {
   "cell_type": "code",
   "id": "299af8fe",
   "metadata": {
    "ExecuteTime": {
     "end_time": "2024-05-24T08:40:24.573174Z",
     "start_time": "2024-05-24T08:40:24.568729Z"
    }
   },
   "source": [
    "from sklearn.datasets import load_wine\n",
    "import pandas as pd\n",
    "import numpy as np\n",
    "from sklearn.model_selection import train_test_split\n",
    "from sklearn.metrics import mean_absolute_error, mean_squared_error\n",
    "\n",
    "wine = load_wine()\n",
    "wine_df = pd.DataFrame(data=wine.data, columns=wine.feature_names)\n",
    "target_df = pd.DataFrame(data=wine.target, columns=['Y'])\n",
    "X_train, X_test, y_train, y_test = train_test_split(wine_df, target_df, test_size= 0.3, random_state=101)\n",
    "print('=3')"
   ],
   "outputs": [
    {
     "name": "stdout",
     "output_type": "stream",
     "text": [
      "=3\n"
     ]
    }
   ],
   "execution_count": 17
  },
  {
   "cell_type": "code",
   "id": "cffa398e",
   "metadata": {
    "ExecuteTime": {
     "end_time": "2024-05-24T08:40:24.580819Z",
     "start_time": "2024-05-24T08:40:24.573801Z"
    }
   },
   "source": [
    "from sklearn.linear_model import Lasso\n",
    "\n",
    "L1 = Lasso(alpha=0.05, max_iter=5)\n",
    "L1.fit(X_train, y_train)\n",
    "pred = L1.predict(X_test)\n",
    "\n",
    "print(\"result of Lasso\")\n",
    "print('Mean Absolute Error:', mean_absolute_error(y_test, pred))\n",
    "print('Mean Squared Error:', mean_squared_error(y_test, pred))\n",
    "print('Mean Root Squared Error:', np.sqrt(mean_squared_error(y_test, pred)))\n",
    "\n",
    "print(\"\\n\\n coefficient of Lasso\")\n",
    "print(L1.coef_)"
   ],
   "outputs": [
    {
     "name": "stdout",
     "output_type": "stream",
     "text": [
      "result of Lasso\n",
      "Mean Absolute Error: 0.2484576884176944\n",
      "Mean Squared Error: 0.1026298911034127\n",
      "Mean Root Squared Error: 0.32035900346862844\n",
      "\n",
      "\n",
      " coefficient of Lasso\n",
      "[-0.          0.         -0.          0.03295564  0.00109495  0.\n",
      " -0.4027847   0.          0.          0.06023131 -0.         -0.12001119\n",
      " -0.00078971]\n"
     ]
    },
    {
     "name": "stderr",
     "output_type": "stream",
     "text": [
      "/opt/homebrew/Caskroom/miniforge/base/envs/DL-tf/lib/python3.8/site-packages/sklearn/linear_model/_coordinate_descent.py:628: ConvergenceWarning: Objective did not converge. You might want to increase the number of iterations, check the scale of the features or consider increasing regularisation. Duality gap: 3.924e+00, tolerance: 7.480e-03\n",
      "  model = cd_fast.enet_coordinate_descent(\n"
     ]
    }
   ],
   "execution_count": 18
  },
  {
   "cell_type": "code",
   "id": "3cc38adf",
   "metadata": {
    "ExecuteTime": {
     "end_time": "2024-05-24T08:40:24.587767Z",
     "start_time": "2024-05-24T08:40:24.581712Z"
    }
   },
   "source": [
    "# Q. L1 regularization 코드를 참고하여 아래 코드를 채워주세요.\n",
    "\n",
    "from sklearn.linear_model import Ridge\n",
    "\n",
    "L2 = Ridge(alpha=0.05, max_iter=5)\n",
    "L2.fit(X_train, y_train)\n",
    "pred = L2.predict(X_test)\n",
    "\n",
    "print(\"result of Ridge\")\n",
    "print('Mean Absolute Error:', mean_absolute_error(y_test, pred))\n",
    "print('Mean Squared Error:', mean_squared_error(y_test, pred))\n",
    "print('Mean Root Squared Error:', np.sqrt(mean_squared_error(y_test, pred)))\n",
    "\n",
    "print(\"\\n\\n coefficient of Ridge\")\n",
    "print(L2.coef_)"
   ],
   "outputs": [
    {
     "name": "stdout",
     "output_type": "stream",
     "text": [
      "result of Ridge\n",
      "Mean Absolute Error: 0.25114669599364287\n",
      "Mean Squared Error: 0.10568076460795572\n",
      "Mean Root Squared Error: 0.3250857803841253\n",
      "\n",
      "\n",
      " coefficient of Ridge\n",
      "[[-8.12456257e-02  4.35541496e-02 -1.21661565e-01  3.65979773e-02\n",
      "  -3.94014013e-04  1.39168707e-01 -4.50691113e-01 -4.87216747e-01\n",
      "   9.54111059e-02  5.37077039e-02 -1.28602933e-01 -2.89832790e-01\n",
      "  -5.73136185e-04]]\n"
     ]
    }
   ],
   "execution_count": 19
  },
  {
   "cell_type": "markdown",
   "id": "1c25a036",
   "metadata": {},
   "source": [
    "iteration 값을 5로만 설정해 보아도, L2 regularization의 결과는 linear regression과 같은 값이 나오지만, L1 regularization에서는 앞 step과 같은 값을 확인할 수는 없었습니다. 심지어 수렴하지 않았다는 경고까지 나오는군요! 이는 아직 다른 조건들을 만족하는 답을 찾지 못하였다는 뜻입니다.\n",
    "\n",
    "정리하면, L1 regularization은 가중치가 적은 벡터에 해당하는 계수를 0으로 보내면서 차원 축소와 비슷한 역할을 하는 것이 특징이며, L2 regularization은 계수를 0으로 보내지는 않지만 제곱 텀이 있기 때문에 L1 regularization보다는 수렴 속도가 빠르다는 장점이 있습니다. 예를 들어, \n",
    "A=[1,1,1,1,1] , \n",
    "B=[5,0,0,0,0] 의 경우 L1-norm은 같지만, L2-norm은 같지 않습니다. 즉, 제곱 텀에서 결과에 큰 영향을 미치는 값은 더 크게, 결과에 영향이 적은 값들은 더 작게 보내면서 수렴 속도가 빨라지는 것입니다.\n",
    "\n",
    "그러므로, 데이터에 따라 적절한 regularization 방법을 활용하는 것이 좋습니다."
   ]
  },
  {
   "cell_type": "markdown",
   "id": "746fe1e4",
   "metadata": {},
   "source": [
    "## Extra : Lp norm\n",
    "이전 스텝에서 잠깐 소개해드린 Lp norm에 대해 자세히 설명하겠습니다.\n",
    "Norm이라는 용어는 벡터뿐만 아니라 함수, 행렬의 크기를 나타내는 개념으로, 딥러닝을 배우는 과정에서는 주로 벡터, 좀 더 어렵게는 행렬의 norm 정도만 알면 됩니다.\n",
    "\n",
    "### Vector norm\n",
    "L1 / L2 regularization에서 배운 norm은 벡터에서 정의된 norm으로 아래와 같습니다.\n",
    "\n",
    "$$ \\left\\| x\\right\\|_p := (\\sum_{i=1}^{n}\\left| x_i\\right|^p)^{1/p} $$\n",
    "\n",
    "아래 코드에서 \n",
    "p의 값과 \n",
    "x의 형태를 바꾸어가며 실험해 보세요."
   ]
  },
  {
   "cell_type": "code",
   "id": "a3bb8cec",
   "metadata": {
    "ExecuteTime": {
     "end_time": "2024-05-24T08:40:24.590136Z",
     "start_time": "2024-05-24T08:40:24.588493Z"
    }
   },
   "source": [
    "import numpy as np"
   ],
   "outputs": [],
   "execution_count": 20
  },
  {
   "cell_type": "code",
   "id": "3bf4c0a8",
   "metadata": {
    "ExecuteTime": {
     "end_time": "2024-05-24T08:40:24.597365Z",
     "start_time": "2024-05-24T08:40:24.591203Z"
    }
   },
   "source": [
    "# [Playground] x와 p를 바꾸어가며 norm 값이 어떻게 변하는지 실험해봅시다!\n",
    "# --------------------------- #\n",
    "x = np.array([1,10,1,1,1])\n",
    "p = 5\n",
    "# --------------------------- #\n",
    "\n",
    "norm_x = np.linalg.norm(x, ord=p)\n",
    "making_norm = (sum(x**p))**(1/p)\n",
    "print(\"result of numpy package norm function : %0.5f \"%norm_x) \n",
    "print(\"result of making norm : %0.5f \"%making_norm)"
   ],
   "outputs": [
    {
     "name": "stdout",
     "output_type": "stream",
     "text": [
      "result of numpy package norm function : 10.00008 \n",
      "result of making norm : 10.00008 \n"
     ]
    }
   ],
   "execution_count": 21
  },
  {
   "cell_type": "code",
   "id": "9e854f97",
   "metadata": {
    "ExecuteTime": {
     "end_time": "2024-05-24T08:40:24.603379Z",
     "start_time": "2024-05-24T08:40:24.599247Z"
    }
   },
   "source": [
    "x = np.array([1,10,1,1,1])\n",
    "p = 19\n",
    "\n",
    "norm_x = np.linalg.norm(x, ord=p)\n",
    "making_norm = (sum(x**p))**(1/p)\n",
    "print(\"result of numpy package norm function : %0.5f \"%norm_x) \n",
    "print(\"result of making norm : %0.5f \"%making_norm)"
   ],
   "outputs": [
    {
     "name": "stdout",
     "output_type": "stream",
     "text": [
      "result of numpy package norm function : 10.00000 \n",
      "result of making norm : nan \n"
     ]
    },
    {
     "name": "stderr",
     "output_type": "stream",
     "text": [
      "/var/folders/1b/dx8_94fs0q740wx3lfknk6y40000gn/T/ipykernel_61755/3228886693.py:5: RuntimeWarning: invalid value encountered in power\n",
      "  making_norm = (sum(x**p))**(1/p)\n"
     ]
    }
   ],
   "execution_count": 22
  },
  {
   "cell_type": "code",
   "id": "9fd7e6ee",
   "metadata": {
    "ExecuteTime": {
     "end_time": "2024-05-24T08:40:24.606310Z",
     "start_time": "2024-05-24T08:40:24.604086Z"
    }
   },
   "source": [
    "sum(x**p)"
   ],
   "outputs": [
    {
     "data": {
      "text/plain": [
       "-8446744073709551612"
      ]
     },
     "execution_count": 23,
     "metadata": {},
     "output_type": "execute_result"
    }
   ],
   "execution_count": 23
  },
  {
   "cell_type": "code",
   "id": "62c70f18",
   "metadata": {
    "ExecuteTime": {
     "end_time": "2024-05-24T08:40:24.611744Z",
     "start_time": "2024-05-24T08:40:24.606910Z"
    }
   },
   "source": [],
   "outputs": [],
   "execution_count": 23
  },
  {
   "cell_type": "code",
   "id": "04732c00",
   "metadata": {
    "ExecuteTime": {
     "end_time": "2024-05-24T08:40:24.617899Z",
     "start_time": "2024-05-24T08:40:24.615839Z"
    }
   },
   "source": [
    "norm_x = np.linalg.norm(x, ord=np.inf)\n",
    "print(\"result of infinite norm : %0.5f \"%norm_x)"
   ],
   "outputs": [
    {
     "name": "stdout",
     "output_type": "stream",
     "text": [
      "result of infinite norm : 10.00000 \n"
     ]
    }
   ],
   "execution_count": 24
  },
  {
   "cell_type": "markdown",
   "id": "9cad1f24",
   "metadata": {},
   "source": [
    "### Matrix norm\n",
    "행렬의 norm의 경우는 벡터와 조금 다르며, 주로 $p=1,\\infty$ 인 경우만 알면 됩니다.\n",
    "\n",
    "현재 \n",
    "A는 m X n 행렬입니다.\n",
    "\n",
    "$$ \\left\\| x\\right\\|_1 := \\underset{1\\leq j\\leq n }{max}\\sum_{i=1}^{m}\\left| a_{ij}\\right| $$\n",
    "\n",
    "$$ \\left\\| x\\right\\|_\\infty := \\underset{1\\leq j\\leq m }{max}\\sum_{j=1}^{n}\\left| a_{ij}\\right| $$\n",
    "\n",
    "p=1인 경우에는 컬럼(column)의 합이 가장 큰 값이 출력되고, \n",
    "$p=\\infty$인 경우에는 로우(row)의 합이 가장 큰 값이 출력됩니다."
   ]
  },
  {
   "cell_type": "code",
   "id": "a7ab0dc6",
   "metadata": {
    "ExecuteTime": {
     "end_time": "2024-05-24T08:40:24.620762Z",
     "start_time": "2024-05-24T08:40:24.618554Z"
    }
   },
   "source": [
    "A = np.array([[1,2,3], [1,2,3], [4,6,8]])\n",
    "\n",
    "one_norm_A = np.linalg.norm(A, ord=1)\n",
    "print(\"result one norm of A :\", one_norm_A)\n",
    "\n",
    "inf_norm_A = np.linalg.norm(A, ord=np.inf)\n",
    "print(\"result inf norm of A :\", inf_norm_A)"
   ],
   "outputs": [
    {
     "name": "stdout",
     "output_type": "stream",
     "text": [
      "result one norm of A : 14.0\n",
      "result inf norm of A : 18.0\n"
     ]
    }
   ],
   "execution_count": 25
  },
  {
   "cell_type": "markdown",
   "id": "0201ebd7",
   "metadata": {},
   "source": [
    "## Dropout\n",
    "드롭아웃(Dropout) 기법은 2014년도에 나온 논문입니다.\n",
    "\n",
    "    논문 제목 : Dropout: A Simple Way to Prevent Neural Networks from Overfitting\n",
    "    논문 발표 시점 : 2014년\n",
    "    논문 링크 : https://jmlr.org/papers/v15/srivastava14a.html\n",
    "\n",
    "드롭아웃 기법이 나오기 전의 신경망은 fully connected architecture로 모든 뉴런들이 연결되어 있었습니다.\n",
    "\n",
    "드롭아웃이란 확률적으로 랜덤하게 몇 가지의 뉴런만 선택하여 정보를 전달하는 과정입니다. 이름 그대로 몇 가지의 값들을 모든 뉴런에 전달하는 것이 아닌, 확률적으로 버리면서 전달하는 기법입니다. 드롭아웃은 오버피팅을 막는 regularization layer 중 하나입니다. 확률을 너무 높이면 (비활성화된 뉴런의 비중을 높이면) 모델 안에서 값들이 제대로 전달되지 않으므로 학습이 잘 되지 않고, 확률을 너무 낮추는 경우에는 fully connected layer와 같이 동작합니다. fully connected layer에서 오버피팅이 생기는 경우에 주로 dropout layer를 추가합니다.\n",
    "\n",
    "코드는 간단합니다. 논문이 나온 지도 오래되었기 때문에, 여러 프레임워크에서 간단하게 구현할 수 있도록 되어있습니다.\n",
    "\n",
    "- https://keras.io/api/layers/regularization_layers/dropout/"
   ]
  },
  {
   "cell_type": "markdown",
   "id": "eb32fe35",
   "metadata": {},
   "source": [
    "### 실습 (not overfitting)\n",
    "\n",
    "fashion mnist라는 데이터 셋을 불러와서 학습을 시키도록 하겠습니다. 이 데이터셋은 총 10개의 클래스로 구성되어 있고, 데이터가 간단한 편이기도 하여 5 epoch 정도만 학습시켜도 어느 정도 결과가 나옵니다. 드롭아웃 레이어를 중간에 추가하여 확률을 1에 가깝게 주면 어떻게 되는지 살펴보도록 하겠습니다."
   ]
  },
  {
   "cell_type": "code",
   "id": "3bb9a99a",
   "metadata": {
    "ExecuteTime": {
     "end_time": "2024-05-24T08:40:28.181690Z",
     "start_time": "2024-05-24T08:40:24.621679Z"
    }
   },
   "source": [
    "import tensorflow as tf\n",
    "from tensorflow import keras\n",
    "import numpy as np\n",
    "import matplotlib.pyplot as plt\n",
    "from sklearn.model_selection import train_test_split\n",
    "\n",
    "fashion_mnist = keras.datasets.fashion_mnist\n",
    "print('=3')"
   ],
   "outputs": [
    {
     "name": "stdout",
     "output_type": "stream",
     "text": [
      "=3\n"
     ]
    }
   ],
   "execution_count": 26
  },
  {
   "cell_type": "code",
   "id": "4595d0f1",
   "metadata": {
    "ExecuteTime": {
     "end_time": "2024-05-24T08:40:28.540938Z",
     "start_time": "2024-05-24T08:40:28.182598Z"
    }
   },
   "source": [
    "(train_images, train_labels), (test_images, test_labels) = fashion_mnist.load_data()\n",
    "class_names = ['T-shirt/top', 'Trouser', 'Pullover', 'Dress', 'Coat',\n",
    "               'Sandal', 'Shirt', 'Sneaker', 'Bag', 'Ankle boot']\n",
    "\n",
    "train_images = train_images / 255.0\n",
    "test_images = test_images / 255.0"
   ],
   "outputs": [],
   "execution_count": 27
  },
  {
   "cell_type": "code",
   "id": "8ce88ab8",
   "metadata": {
    "ExecuteTime": {
     "end_time": "2024-05-24T08:41:21.822147Z",
     "start_time": "2024-05-24T08:40:28.541977Z"
    }
   },
   "source": [
    "model = keras.Sequential([\n",
    "    keras.layers.Flatten(input_shape=(28, 28)),\n",
    "    keras.layers.Dense(128, activation='relu'),\n",
    "    # 여기에 dropout layer를 추가해보았습니다. 나머지 layer는 아래의 실습과 같습니다.\n",
    "    keras.layers.Dropout(0.9),\n",
    "    keras.layers.Dense(10, activation='softmax')\n",
    "])\n",
    "\n",
    "model.compile(optimizer='adam',loss='sparse_categorical_crossentropy',\n",
    "              metrics=['accuracy'])\n",
    "\n",
    "history= model.fit(train_images, train_labels, epochs=5)"
   ],
   "outputs": [
    {
     "name": "stderr",
     "output_type": "stream",
     "text": [
      "2024-05-24 17:40:28.556880: I tensorflow/core/common_runtime/pluggable_device/pluggable_device_factory.cc:305] Could not identify NUMA node of platform GPU ID 0, defaulting to 0. Your kernel may not have been built with NUMA support.\n",
      "2024-05-24 17:40:28.558354: I tensorflow/core/common_runtime/pluggable_device/pluggable_device_factory.cc:271] Created TensorFlow device (/job:localhost/replica:0/task:0/device:GPU:0 with 0 MB memory) -> physical PluggableDevice (device: 0, name: METAL, pci bus id: <undefined>)\n"
     ]
    },
    {
     "name": "stdout",
     "output_type": "stream",
     "text": [
      "Metal device set to: Apple M2\n",
      "Epoch 1/5\n"
     ]
    },
    {
     "name": "stderr",
     "output_type": "stream",
     "text": [
      "2024-05-24 17:40:29.038567: W tensorflow/core/platform/profile_utils/cpu_utils.cc:128] Failed to get CPU frequency: 0 Hz\n",
      "2024-05-24 17:40:29.263055: I tensorflow/core/grappler/optimizers/custom_graph_optimizer_registry.cc:113] Plugin optimizer for device_type GPU is enabled.\n"
     ]
    },
    {
     "name": "stdout",
     "output_type": "stream",
     "text": [
      "1875/1875 [==============================] - 11s 6ms/step - loss: 1.2122 - accuracy: 0.5497\n",
      "Epoch 2/5\n",
      "1875/1875 [==============================] - 11s 6ms/step - loss: 0.8948 - accuracy: 0.6681\n",
      "Epoch 3/5\n",
      "1875/1875 [==============================] - 10s 5ms/step - loss: 0.8222 - accuracy: 0.6928\n",
      "Epoch 4/5\n",
      "1875/1875 [==============================] - 10s 5ms/step - loss: 0.7905 - accuracy: 0.7059\n",
      "Epoch 5/5\n",
      "1875/1875 [==============================] - 10s 5ms/step - loss: 0.7588 - accuracy: 0.7206\n"
     ]
    }
   ],
   "execution_count": 28
  },
  {
   "cell_type": "markdown",
   "id": "7c6ac737",
   "metadata": {},
   "source": [
    "dropout이 없을 때 실습을 해보면, 5 epoch 정도만 돌려도 충분히 높은 정확도를 볼 수 있습니다."
   ]
  },
  {
   "cell_type": "code",
   "id": "7fa70bf1",
   "metadata": {
    "ExecuteTime": {
     "end_time": "2024-05-24T08:42:08.244714Z",
     "start_time": "2024-05-24T08:41:21.823956Z"
    }
   },
   "source": [
    "model = keras.Sequential([\n",
    "    keras.layers.Flatten(input_shape=(28, 28)),\n",
    "    # 이번에는 dropout layer가 없습니다. \n",
    "    keras.layers.Dense(128, activation='relu'),\n",
    "    keras.layers.Dense(10, activation='softmax')\n",
    "])\n",
    "\n",
    "model.compile(optimizer='adam',loss='sparse_categorical_crossentropy',\n",
    "              metrics=['accuracy'])\n",
    "\n",
    "history = model.fit(train_images, train_labels, epochs=5)"
   ],
   "outputs": [
    {
     "name": "stdout",
     "output_type": "stream",
     "text": [
      "Epoch 1/5\n",
      "  24/1875 [..............................] - ETA: 8s - loss: 1.4486 - accuracy: 0.5339"
     ]
    },
    {
     "name": "stderr",
     "output_type": "stream",
     "text": [
      "2024-05-24 17:41:22.386371: I tensorflow/core/grappler/optimizers/custom_graph_optimizer_registry.cc:113] Plugin optimizer for device_type GPU is enabled.\n"
     ]
    },
    {
     "name": "stdout",
     "output_type": "stream",
     "text": [
      "1875/1875 [==============================] - 9s 5ms/step - loss: 0.4956 - accuracy: 0.8266\n",
      "Epoch 2/5\n",
      "1875/1875 [==============================] - 8s 4ms/step - loss: 0.3741 - accuracy: 0.8638\n",
      "Epoch 3/5\n",
      "1875/1875 [==============================] - 9s 5ms/step - loss: 0.3346 - accuracy: 0.8782\n",
      "Epoch 4/5\n",
      "1875/1875 [==============================] - 9s 5ms/step - loss: 0.3125 - accuracy: 0.8851\n",
      "Epoch 5/5\n",
      "1875/1875 [==============================] - 11s 6ms/step - loss: 0.2919 - accuracy: 0.8926\n"
     ]
    }
   ],
   "execution_count": 29
  },
  {
   "cell_type": "markdown",
   "id": "6ab35fc2",
   "metadata": {},
   "source": [
    "현재 이 데이터 셋은 학습이 잘 되는 데이터 셋으로, fully connected layer에서도 결과가 잘 나옴을 확인할 수 있는데요. 일부러 중간에 dropout layer를 추가하여 0.9의 확률 값을 주니 학습이 안 됨을 확인하였습니다. 다음은 overfitting이 나는 환경에서 dropout의 중요성을 알아보도록 하겠습니다.\n",
    "\n",
    "### 실습 (overfitting)\n",
    "overfitting이 되는지 확인해 보려면 train set과 validation set의 loss function을 그려보는 것이 가장 첫 번째 시도입니다. 우리는 위의 데이터를 이제 train:valid=99:1의 비율로 나눈 뒤에 loss function의 값을 그려보고, overfitting이 생기는 fully connected layer를 만들어보도록 합시다. overfitting이 되게 하기 위해 의도적으로 train set을 99%로 늘리고 validation set을 줄였습니다.\n",
    "\n",
    "\n",
    ">### 학습팁    \n",
    "> 아래 코드는 200 epoch이므로 코드가 돌아가는데 5분이상 소요됩니다. 그동안 overfitting에 대한 자료를 찾아보면서 기다려주세요!"
   ]
  },
  {
   "cell_type": "code",
   "id": "39011d09",
   "metadata": {
    "ExecuteTime": {
     "end_time": "2024-05-24T08:45:03.219041Z",
     "start_time": "2024-05-24T08:42:08.246283Z"
    }
   },
   "source": [
    "X_train, X_valid, y_train, y_valid = train_test_split(train_images, train_labels, test_size=0.01, random_state=101)\n",
    "X_train = X_train / 255.0\n",
    "X_valid = X_valid / 255.0\n",
    "\n",
    "# Dense layer만으로 만들어 낸 classification 모델입니다.\n",
    "model = keras.Sequential([\n",
    "    keras.layers.Flatten(input_shape=(28, 28)),\n",
    "    keras.layers.Dense(256, activation='relu'),\n",
    "    keras.layers.Dense(10, activation='softmax')\n",
    "])\n",
    "\n",
    "model.compile(optimizer='adam',loss='sparse_categorical_crossentropy',\n",
    "              metrics=['accuracy'])\n",
    "\n",
    "history = model.fit(X_train, y_train, epochs=200, batch_size=512, validation_data=(X_valid, y_valid))"
   ],
   "outputs": [
    {
     "name": "stdout",
     "output_type": "stream",
     "text": [
      "Epoch 1/200\n"
     ]
    },
    {
     "name": "stderr",
     "output_type": "stream",
     "text": [
      "2024-05-24 17:42:09.272144: I tensorflow/core/grappler/optimizers/custom_graph_optimizer_registry.cc:113] Plugin optimizer for device_type GPU is enabled.\n"
     ]
    },
    {
     "name": "stdout",
     "output_type": "stream",
     "text": [
      "117/117 [==============================] - 3s 20ms/step - loss: 2.0515 - accuracy: 0.5089 - val_loss: 1.6395 - val_accuracy: 0.5350\n",
      "Epoch 2/200\n",
      "  1/117 [..............................] - ETA: 0s - loss: 1.6694 - accuracy: 0.5469"
     ]
    },
    {
     "name": "stderr",
     "output_type": "stream",
     "text": [
      "2024-05-24 17:42:11.688278: I tensorflow/core/grappler/optimizers/custom_graph_optimizer_registry.cc:113] Plugin optimizer for device_type GPU is enabled.\n"
     ]
    },
    {
     "name": "stdout",
     "output_type": "stream",
     "text": [
      "117/117 [==============================] - 1s 7ms/step - loss: 1.3917 - accuracy: 0.5993 - val_loss: 1.1672 - val_accuracy: 0.6700\n",
      "Epoch 3/200\n",
      "117/117 [==============================] - 1s 7ms/step - loss: 1.0635 - accuracy: 0.6782 - val_loss: 0.9493 - val_accuracy: 0.7167\n",
      "Epoch 4/200\n",
      "117/117 [==============================] - 1s 7ms/step - loss: 0.8873 - accuracy: 0.7201 - val_loss: 0.8120 - val_accuracy: 0.7567\n",
      "Epoch 5/200\n",
      "117/117 [==============================] - 1s 7ms/step - loss: 0.7829 - accuracy: 0.7365 - val_loss: 0.7324 - val_accuracy: 0.7600\n",
      "Epoch 6/200\n",
      "117/117 [==============================] - 1s 10ms/step - loss: 0.7206 - accuracy: 0.7487 - val_loss: 0.6835 - val_accuracy: 0.7783\n",
      "Epoch 7/200\n",
      "117/117 [==============================] - 1s 8ms/step - loss: 0.6776 - accuracy: 0.7596 - val_loss: 0.6505 - val_accuracy: 0.7833\n",
      "Epoch 8/200\n",
      "117/117 [==============================] - 1s 7ms/step - loss: 0.6462 - accuracy: 0.7678 - val_loss: 0.6211 - val_accuracy: 0.7867\n",
      "Epoch 9/200\n",
      "117/117 [==============================] - 1s 8ms/step - loss: 0.6202 - accuracy: 0.7770 - val_loss: 0.6061 - val_accuracy: 0.7817\n",
      "Epoch 10/200\n",
      "117/117 [==============================] - 1s 8ms/step - loss: 0.5990 - accuracy: 0.7858 - val_loss: 0.5910 - val_accuracy: 0.7917\n",
      "Epoch 11/200\n",
      "117/117 [==============================] - 1s 8ms/step - loss: 0.5815 - accuracy: 0.7918 - val_loss: 0.5667 - val_accuracy: 0.7983\n",
      "Epoch 12/200\n",
      "117/117 [==============================] - 1s 7ms/step - loss: 0.5657 - accuracy: 0.7995 - val_loss: 0.5560 - val_accuracy: 0.7933\n",
      "Epoch 13/200\n",
      "117/117 [==============================] - 1s 9ms/step - loss: 0.5519 - accuracy: 0.8054 - val_loss: 0.5473 - val_accuracy: 0.7967\n",
      "Epoch 14/200\n",
      "117/117 [==============================] - 1s 7ms/step - loss: 0.5403 - accuracy: 0.8089 - val_loss: 0.5365 - val_accuracy: 0.8100\n",
      "Epoch 15/200\n",
      "117/117 [==============================] - 1s 9ms/step - loss: 0.5291 - accuracy: 0.8139 - val_loss: 0.5241 - val_accuracy: 0.8067\n",
      "Epoch 16/200\n",
      "117/117 [==============================] - 1s 7ms/step - loss: 0.5197 - accuracy: 0.8172 - val_loss: 0.5176 - val_accuracy: 0.8067\n",
      "Epoch 17/200\n",
      "117/117 [==============================] - 1s 7ms/step - loss: 0.5120 - accuracy: 0.8199 - val_loss: 0.5130 - val_accuracy: 0.8150\n",
      "Epoch 18/200\n",
      "117/117 [==============================] - 1s 7ms/step - loss: 0.5037 - accuracy: 0.8231 - val_loss: 0.5045 - val_accuracy: 0.8100\n",
      "Epoch 19/200\n",
      "117/117 [==============================] - 1s 10ms/step - loss: 0.4969 - accuracy: 0.8253 - val_loss: 0.4964 - val_accuracy: 0.8183\n",
      "Epoch 20/200\n",
      "117/117 [==============================] - 5s 46ms/step - loss: 0.4912 - accuracy: 0.8272 - val_loss: 0.4942 - val_accuracy: 0.8183\n",
      "Epoch 21/200\n",
      "117/117 [==============================] - 1s 8ms/step - loss: 0.4850 - accuracy: 0.8300 - val_loss: 0.4876 - val_accuracy: 0.8167\n",
      "Epoch 22/200\n",
      "117/117 [==============================] - 1s 9ms/step - loss: 0.4799 - accuracy: 0.8319 - val_loss: 0.4823 - val_accuracy: 0.8217\n",
      "Epoch 23/200\n",
      "117/117 [==============================] - 1s 9ms/step - loss: 0.4746 - accuracy: 0.8331 - val_loss: 0.4793 - val_accuracy: 0.8267\n",
      "Epoch 24/200\n",
      "117/117 [==============================] - 1s 7ms/step - loss: 0.4697 - accuracy: 0.8347 - val_loss: 0.4755 - val_accuracy: 0.8250\n",
      "Epoch 25/200\n",
      "117/117 [==============================] - 1s 8ms/step - loss: 0.4652 - accuracy: 0.8370 - val_loss: 0.4684 - val_accuracy: 0.8267\n",
      "Epoch 26/200\n",
      "117/117 [==============================] - 1s 8ms/step - loss: 0.4611 - accuracy: 0.8381 - val_loss: 0.4624 - val_accuracy: 0.8250\n",
      "Epoch 27/200\n",
      "117/117 [==============================] - 1s 8ms/step - loss: 0.4573 - accuracy: 0.8396 - val_loss: 0.4636 - val_accuracy: 0.8267\n",
      "Epoch 28/200\n",
      "117/117 [==============================] - 1s 7ms/step - loss: 0.4541 - accuracy: 0.8409 - val_loss: 0.4624 - val_accuracy: 0.8183\n",
      "Epoch 29/200\n",
      "117/117 [==============================] - 1s 9ms/step - loss: 0.4512 - accuracy: 0.8422 - val_loss: 0.4538 - val_accuracy: 0.8333\n",
      "Epoch 30/200\n",
      "117/117 [==============================] - 1s 8ms/step - loss: 0.4475 - accuracy: 0.8432 - val_loss: 0.4522 - val_accuracy: 0.8317\n",
      "Epoch 31/200\n",
      "117/117 [==============================] - 1s 7ms/step - loss: 0.4439 - accuracy: 0.8442 - val_loss: 0.4524 - val_accuracy: 0.8250\n",
      "Epoch 32/200\n",
      "117/117 [==============================] - 1s 7ms/step - loss: 0.4414 - accuracy: 0.8456 - val_loss: 0.4478 - val_accuracy: 0.8317\n",
      "Epoch 33/200\n",
      "117/117 [==============================] - 1s 8ms/step - loss: 0.4384 - accuracy: 0.8459 - val_loss: 0.4417 - val_accuracy: 0.8367\n",
      "Epoch 34/200\n",
      "117/117 [==============================] - 1s 7ms/step - loss: 0.4356 - accuracy: 0.8473 - val_loss: 0.4427 - val_accuracy: 0.8283\n",
      "Epoch 35/200\n",
      "117/117 [==============================] - 1s 7ms/step - loss: 0.4329 - accuracy: 0.8477 - val_loss: 0.4376 - val_accuracy: 0.8350\n",
      "Epoch 36/200\n",
      "117/117 [==============================] - 1s 8ms/step - loss: 0.4303 - accuracy: 0.8493 - val_loss: 0.4352 - val_accuracy: 0.8333\n",
      "Epoch 37/200\n",
      "117/117 [==============================] - 1s 9ms/step - loss: 0.4288 - accuracy: 0.8500 - val_loss: 0.4349 - val_accuracy: 0.8367\n",
      "Epoch 38/200\n",
      "117/117 [==============================] - 1s 9ms/step - loss: 0.4258 - accuracy: 0.8503 - val_loss: 0.4335 - val_accuracy: 0.8300\n",
      "Epoch 39/200\n",
      "117/117 [==============================] - 1s 8ms/step - loss: 0.4230 - accuracy: 0.8516 - val_loss: 0.4283 - val_accuracy: 0.8333\n",
      "Epoch 40/200\n",
      "117/117 [==============================] - 1s 8ms/step - loss: 0.4206 - accuracy: 0.8529 - val_loss: 0.4289 - val_accuracy: 0.8350\n",
      "Epoch 41/200\n",
      "117/117 [==============================] - 1s 7ms/step - loss: 0.4192 - accuracy: 0.8532 - val_loss: 0.4259 - val_accuracy: 0.8367\n",
      "Epoch 42/200\n",
      "117/117 [==============================] - 1s 7ms/step - loss: 0.4165 - accuracy: 0.8539 - val_loss: 0.4240 - val_accuracy: 0.8367\n",
      "Epoch 43/200\n",
      "117/117 [==============================] - 1s 7ms/step - loss: 0.4149 - accuracy: 0.8547 - val_loss: 0.4202 - val_accuracy: 0.8333\n",
      "Epoch 44/200\n",
      "117/117 [==============================] - 1s 6ms/step - loss: 0.4127 - accuracy: 0.8554 - val_loss: 0.4216 - val_accuracy: 0.8367\n",
      "Epoch 45/200\n",
      "117/117 [==============================] - 1s 6ms/step - loss: 0.4124 - accuracy: 0.8549 - val_loss: 0.4161 - val_accuracy: 0.8350\n",
      "Epoch 46/200\n",
      "117/117 [==============================] - 1s 6ms/step - loss: 0.4092 - accuracy: 0.8569 - val_loss: 0.4160 - val_accuracy: 0.8300\n",
      "Epoch 47/200\n",
      "117/117 [==============================] - 1s 6ms/step - loss: 0.4073 - accuracy: 0.8572 - val_loss: 0.4200 - val_accuracy: 0.8267\n",
      "Epoch 48/200\n",
      "117/117 [==============================] - 1s 6ms/step - loss: 0.4053 - accuracy: 0.8578 - val_loss: 0.4194 - val_accuracy: 0.8350\n",
      "Epoch 49/200\n",
      "117/117 [==============================] - 1s 6ms/step - loss: 0.4047 - accuracy: 0.8580 - val_loss: 0.4132 - val_accuracy: 0.8350\n",
      "Epoch 50/200\n",
      "117/117 [==============================] - 1s 6ms/step - loss: 0.4032 - accuracy: 0.8584 - val_loss: 0.4085 - val_accuracy: 0.8367\n",
      "Epoch 51/200\n",
      "117/117 [==============================] - 1s 6ms/step - loss: 0.4014 - accuracy: 0.8591 - val_loss: 0.4125 - val_accuracy: 0.8333\n",
      "Epoch 52/200\n",
      "117/117 [==============================] - 1s 7ms/step - loss: 0.3993 - accuracy: 0.8597 - val_loss: 0.4092 - val_accuracy: 0.8317\n",
      "Epoch 53/200\n",
      "117/117 [==============================] - 1s 7ms/step - loss: 0.3980 - accuracy: 0.8596 - val_loss: 0.4034 - val_accuracy: 0.8350\n",
      "Epoch 54/200\n",
      "117/117 [==============================] - 1s 7ms/step - loss: 0.3964 - accuracy: 0.8600 - val_loss: 0.4084 - val_accuracy: 0.8250\n",
      "Epoch 55/200\n",
      "117/117 [==============================] - 1s 7ms/step - loss: 0.3946 - accuracy: 0.8613 - val_loss: 0.4051 - val_accuracy: 0.8350\n",
      "Epoch 56/200\n",
      "117/117 [==============================] - 1s 7ms/step - loss: 0.3932 - accuracy: 0.8618 - val_loss: 0.4035 - val_accuracy: 0.8300\n",
      "Epoch 57/200\n",
      "117/117 [==============================] - 1s 7ms/step - loss: 0.3919 - accuracy: 0.8623 - val_loss: 0.4042 - val_accuracy: 0.8333\n",
      "Epoch 58/200\n",
      "117/117 [==============================] - 1s 7ms/step - loss: 0.3907 - accuracy: 0.8625 - val_loss: 0.3994 - val_accuracy: 0.8383\n",
      "Epoch 59/200\n",
      "117/117 [==============================] - 1s 8ms/step - loss: 0.3897 - accuracy: 0.8630 - val_loss: 0.4075 - val_accuracy: 0.8333\n",
      "Epoch 60/200\n",
      "117/117 [==============================] - 1s 6ms/step - loss: 0.3882 - accuracy: 0.8630 - val_loss: 0.3947 - val_accuracy: 0.8417\n",
      "Epoch 61/200\n",
      "117/117 [==============================] - 1s 6ms/step - loss: 0.3877 - accuracy: 0.8630 - val_loss: 0.3962 - val_accuracy: 0.8350\n",
      "Epoch 62/200\n",
      "117/117 [==============================] - 1s 6ms/step - loss: 0.3858 - accuracy: 0.8639 - val_loss: 0.3936 - val_accuracy: 0.8383\n",
      "Epoch 63/200\n",
      "117/117 [==============================] - 1s 8ms/step - loss: 0.3838 - accuracy: 0.8646 - val_loss: 0.3934 - val_accuracy: 0.8400\n",
      "Epoch 64/200\n",
      "117/117 [==============================] - 1s 7ms/step - loss: 0.3828 - accuracy: 0.8646 - val_loss: 0.3939 - val_accuracy: 0.8383\n",
      "Epoch 65/200\n",
      "117/117 [==============================] - 1s 9ms/step - loss: 0.3810 - accuracy: 0.8656 - val_loss: 0.3930 - val_accuracy: 0.8383\n",
      "Epoch 66/200\n",
      "117/117 [==============================] - 1s 7ms/step - loss: 0.3803 - accuracy: 0.8660 - val_loss: 0.3924 - val_accuracy: 0.8467\n",
      "Epoch 67/200\n",
      "117/117 [==============================] - 1s 7ms/step - loss: 0.3797 - accuracy: 0.8664 - val_loss: 0.3926 - val_accuracy: 0.8350\n",
      "Epoch 68/200\n",
      "117/117 [==============================] - 1s 7ms/step - loss: 0.3782 - accuracy: 0.8663 - val_loss: 0.3906 - val_accuracy: 0.8400\n",
      "Epoch 69/200\n",
      "117/117 [==============================] - 1s 6ms/step - loss: 0.3763 - accuracy: 0.8674 - val_loss: 0.3876 - val_accuracy: 0.8383\n",
      "Epoch 70/200\n",
      "117/117 [==============================] - 1s 6ms/step - loss: 0.3757 - accuracy: 0.8678 - val_loss: 0.3906 - val_accuracy: 0.8400\n",
      "Epoch 71/200\n",
      "117/117 [==============================] - 1s 6ms/step - loss: 0.3742 - accuracy: 0.8680 - val_loss: 0.3922 - val_accuracy: 0.8350\n",
      "Epoch 72/200\n",
      "117/117 [==============================] - 1s 6ms/step - loss: 0.3743 - accuracy: 0.8683 - val_loss: 0.3878 - val_accuracy: 0.8433\n",
      "Epoch 73/200\n",
      "117/117 [==============================] - 1s 6ms/step - loss: 0.3720 - accuracy: 0.8685 - val_loss: 0.3868 - val_accuracy: 0.8350\n",
      "Epoch 74/200\n",
      "117/117 [==============================] - 1s 6ms/step - loss: 0.3706 - accuracy: 0.8693 - val_loss: 0.3898 - val_accuracy: 0.8517\n",
      "Epoch 75/200\n",
      "117/117 [==============================] - 1s 6ms/step - loss: 0.3702 - accuracy: 0.8696 - val_loss: 0.3821 - val_accuracy: 0.8383\n",
      "Epoch 76/200\n",
      "117/117 [==============================] - 1s 7ms/step - loss: 0.3690 - accuracy: 0.8699 - val_loss: 0.3865 - val_accuracy: 0.8400\n",
      "Epoch 77/200\n",
      "117/117 [==============================] - 1s 6ms/step - loss: 0.3674 - accuracy: 0.8704 - val_loss: 0.3829 - val_accuracy: 0.8433\n",
      "Epoch 78/200\n",
      "117/117 [==============================] - 1s 7ms/step - loss: 0.3664 - accuracy: 0.8712 - val_loss: 0.3835 - val_accuracy: 0.8450\n",
      "Epoch 79/200\n",
      "117/117 [==============================] - 1s 6ms/step - loss: 0.3659 - accuracy: 0.8710 - val_loss: 0.3805 - val_accuracy: 0.8383\n",
      "Epoch 80/200\n",
      "117/117 [==============================] - 1s 7ms/step - loss: 0.3645 - accuracy: 0.8715 - val_loss: 0.3751 - val_accuracy: 0.8417\n",
      "Epoch 81/200\n",
      "117/117 [==============================] - 1s 6ms/step - loss: 0.3654 - accuracy: 0.8713 - val_loss: 0.3775 - val_accuracy: 0.8400\n",
      "Epoch 82/200\n",
      "117/117 [==============================] - 1s 6ms/step - loss: 0.3624 - accuracy: 0.8723 - val_loss: 0.3754 - val_accuracy: 0.8433\n",
      "Epoch 83/200\n",
      "117/117 [==============================] - 1s 6ms/step - loss: 0.3625 - accuracy: 0.8723 - val_loss: 0.3759 - val_accuracy: 0.8350\n",
      "Epoch 84/200\n",
      "117/117 [==============================] - 1s 6ms/step - loss: 0.3613 - accuracy: 0.8730 - val_loss: 0.3785 - val_accuracy: 0.8467\n",
      "Epoch 85/200\n",
      "117/117 [==============================] - 1s 6ms/step - loss: 0.3592 - accuracy: 0.8736 - val_loss: 0.3770 - val_accuracy: 0.8500\n",
      "Epoch 86/200\n",
      "117/117 [==============================] - 1s 7ms/step - loss: 0.3585 - accuracy: 0.8734 - val_loss: 0.3780 - val_accuracy: 0.8450\n",
      "Epoch 87/200\n",
      "117/117 [==============================] - 1s 7ms/step - loss: 0.3576 - accuracy: 0.8744 - val_loss: 0.3725 - val_accuracy: 0.8500\n",
      "Epoch 88/200\n",
      "117/117 [==============================] - 1s 7ms/step - loss: 0.3563 - accuracy: 0.8742 - val_loss: 0.3710 - val_accuracy: 0.8450\n",
      "Epoch 89/200\n",
      "117/117 [==============================] - 1s 6ms/step - loss: 0.3561 - accuracy: 0.8746 - val_loss: 0.3686 - val_accuracy: 0.8417\n",
      "Epoch 90/200\n",
      "117/117 [==============================] - 1s 7ms/step - loss: 0.3545 - accuracy: 0.8749 - val_loss: 0.3738 - val_accuracy: 0.8517\n",
      "Epoch 91/200\n",
      "117/117 [==============================] - 1s 6ms/step - loss: 0.3544 - accuracy: 0.8749 - val_loss: 0.3696 - val_accuracy: 0.8483\n",
      "Epoch 92/200\n",
      "117/117 [==============================] - 1s 7ms/step - loss: 0.3540 - accuracy: 0.8752 - val_loss: 0.3694 - val_accuracy: 0.8500\n",
      "Epoch 93/200\n",
      "117/117 [==============================] - 1s 7ms/step - loss: 0.3517 - accuracy: 0.8761 - val_loss: 0.3689 - val_accuracy: 0.8450\n",
      "Epoch 94/200\n",
      "117/117 [==============================] - 1s 6ms/step - loss: 0.3506 - accuracy: 0.8759 - val_loss: 0.3696 - val_accuracy: 0.8450\n",
      "Epoch 95/200\n",
      "117/117 [==============================] - 1s 9ms/step - loss: 0.3508 - accuracy: 0.8759 - val_loss: 0.3728 - val_accuracy: 0.8417\n",
      "Epoch 96/200\n",
      "117/117 [==============================] - 1s 7ms/step - loss: 0.3511 - accuracy: 0.8758 - val_loss: 0.3652 - val_accuracy: 0.8417\n",
      "Epoch 97/200\n",
      "117/117 [==============================] - 1s 7ms/step - loss: 0.3479 - accuracy: 0.8771 - val_loss: 0.3686 - val_accuracy: 0.8467\n",
      "Epoch 98/200\n",
      "117/117 [==============================] - 1s 7ms/step - loss: 0.3484 - accuracy: 0.8768 - val_loss: 0.3671 - val_accuracy: 0.8500\n",
      "Epoch 99/200\n",
      "117/117 [==============================] - 1s 7ms/step - loss: 0.3463 - accuracy: 0.8775 - val_loss: 0.3629 - val_accuracy: 0.8450\n",
      "Epoch 100/200\n",
      "117/117 [==============================] - 1s 8ms/step - loss: 0.3457 - accuracy: 0.8774 - val_loss: 0.3615 - val_accuracy: 0.8500\n",
      "Epoch 101/200\n",
      "117/117 [==============================] - 1s 7ms/step - loss: 0.3446 - accuracy: 0.8784 - val_loss: 0.3649 - val_accuracy: 0.8550\n",
      "Epoch 102/200\n",
      "117/117 [==============================] - 1s 6ms/step - loss: 0.3444 - accuracy: 0.8783 - val_loss: 0.3637 - val_accuracy: 0.8500\n",
      "Epoch 103/200\n",
      "117/117 [==============================] - 1s 7ms/step - loss: 0.3436 - accuracy: 0.8780 - val_loss: 0.3600 - val_accuracy: 0.8433\n",
      "Epoch 104/200\n",
      "117/117 [==============================] - 1s 7ms/step - loss: 0.3424 - accuracy: 0.8788 - val_loss: 0.3629 - val_accuracy: 0.8467\n",
      "Epoch 105/200\n",
      "117/117 [==============================] - 1s 6ms/step - loss: 0.3417 - accuracy: 0.8789 - val_loss: 0.3587 - val_accuracy: 0.8533\n",
      "Epoch 106/200\n",
      "117/117 [==============================] - 1s 6ms/step - loss: 0.3404 - accuracy: 0.8801 - val_loss: 0.3643 - val_accuracy: 0.8500\n",
      "Epoch 107/200\n",
      "117/117 [==============================] - 1s 7ms/step - loss: 0.3401 - accuracy: 0.8801 - val_loss: 0.3579 - val_accuracy: 0.8467\n",
      "Epoch 108/200\n",
      "117/117 [==============================] - 1s 7ms/step - loss: 0.3410 - accuracy: 0.8787 - val_loss: 0.3589 - val_accuracy: 0.8533\n",
      "Epoch 109/200\n",
      "117/117 [==============================] - 1s 7ms/step - loss: 0.3382 - accuracy: 0.8801 - val_loss: 0.3592 - val_accuracy: 0.8450\n",
      "Epoch 110/200\n",
      "117/117 [==============================] - 1s 7ms/step - loss: 0.3388 - accuracy: 0.8798 - val_loss: 0.3547 - val_accuracy: 0.8450\n",
      "Epoch 111/200\n",
      "117/117 [==============================] - 1s 7ms/step - loss: 0.3368 - accuracy: 0.8802 - val_loss: 0.3581 - val_accuracy: 0.8483\n",
      "Epoch 112/200\n",
      "117/117 [==============================] - 1s 9ms/step - loss: 0.3362 - accuracy: 0.8813 - val_loss: 0.3539 - val_accuracy: 0.8500\n",
      "Epoch 113/200\n",
      "117/117 [==============================] - 1s 7ms/step - loss: 0.3353 - accuracy: 0.8816 - val_loss: 0.3604 - val_accuracy: 0.8533\n",
      "Epoch 114/200\n",
      "117/117 [==============================] - 1s 7ms/step - loss: 0.3347 - accuracy: 0.8807 - val_loss: 0.3585 - val_accuracy: 0.8517\n",
      "Epoch 115/200\n",
      "117/117 [==============================] - 1s 6ms/step - loss: 0.3349 - accuracy: 0.8812 - val_loss: 0.3580 - val_accuracy: 0.8533\n",
      "Epoch 116/200\n",
      "117/117 [==============================] - 1s 6ms/step - loss: 0.3326 - accuracy: 0.8822 - val_loss: 0.3546 - val_accuracy: 0.8517\n",
      "Epoch 117/200\n",
      "117/117 [==============================] - 1s 6ms/step - loss: 0.3322 - accuracy: 0.8824 - val_loss: 0.3533 - val_accuracy: 0.8533\n",
      "Epoch 118/200\n",
      "117/117 [==============================] - 1s 7ms/step - loss: 0.3332 - accuracy: 0.8816 - val_loss: 0.3523 - val_accuracy: 0.8583\n",
      "Epoch 119/200\n",
      "117/117 [==============================] - 1s 7ms/step - loss: 0.3308 - accuracy: 0.8834 - val_loss: 0.3518 - val_accuracy: 0.8483\n",
      "Epoch 120/200\n",
      "117/117 [==============================] - 1s 7ms/step - loss: 0.3305 - accuracy: 0.8831 - val_loss: 0.3539 - val_accuracy: 0.8500\n",
      "Epoch 121/200\n",
      "117/117 [==============================] - 1s 7ms/step - loss: 0.3289 - accuracy: 0.8832 - val_loss: 0.3523 - val_accuracy: 0.8450\n",
      "Epoch 122/200\n",
      "117/117 [==============================] - 1s 6ms/step - loss: 0.3283 - accuracy: 0.8840 - val_loss: 0.3512 - val_accuracy: 0.8517\n",
      "Epoch 123/200\n",
      "117/117 [==============================] - 1s 7ms/step - loss: 0.3277 - accuracy: 0.8838 - val_loss: 0.3469 - val_accuracy: 0.8467\n",
      "Epoch 124/200\n",
      "117/117 [==============================] - 1s 7ms/step - loss: 0.3277 - accuracy: 0.8835 - val_loss: 0.3511 - val_accuracy: 0.8483\n",
      "Epoch 125/200\n",
      "117/117 [==============================] - 1s 6ms/step - loss: 0.3266 - accuracy: 0.8847 - val_loss: 0.3515 - val_accuracy: 0.8500\n",
      "Epoch 126/200\n",
      "117/117 [==============================] - 1s 7ms/step - loss: 0.3263 - accuracy: 0.8842 - val_loss: 0.3530 - val_accuracy: 0.8600\n",
      "Epoch 127/200\n",
      "117/117 [==============================] - 1s 7ms/step - loss: 0.3251 - accuracy: 0.8846 - val_loss: 0.3484 - val_accuracy: 0.8550\n",
      "Epoch 128/200\n",
      "117/117 [==============================] - 1s 7ms/step - loss: 0.3240 - accuracy: 0.8851 - val_loss: 0.3505 - val_accuracy: 0.8550\n",
      "Epoch 129/200\n",
      "117/117 [==============================] - 1s 10ms/step - loss: 0.3237 - accuracy: 0.8849 - val_loss: 0.3500 - val_accuracy: 0.8500\n",
      "Epoch 130/200\n",
      "117/117 [==============================] - 1s 6ms/step - loss: 0.3233 - accuracy: 0.8850 - val_loss: 0.3487 - val_accuracy: 0.8517\n",
      "Epoch 131/200\n",
      "117/117 [==============================] - 1s 6ms/step - loss: 0.3230 - accuracy: 0.8855 - val_loss: 0.3501 - val_accuracy: 0.8517\n",
      "Epoch 132/200\n",
      "117/117 [==============================] - 1s 7ms/step - loss: 0.3213 - accuracy: 0.8854 - val_loss: 0.3440 - val_accuracy: 0.8533\n",
      "Epoch 133/200\n",
      "117/117 [==============================] - 1s 6ms/step - loss: 0.3212 - accuracy: 0.8860 - val_loss: 0.3505 - val_accuracy: 0.8533\n",
      "Epoch 134/200\n",
      "117/117 [==============================] - 1s 7ms/step - loss: 0.3206 - accuracy: 0.8862 - val_loss: 0.3423 - val_accuracy: 0.8533\n",
      "Epoch 135/200\n",
      "117/117 [==============================] - 1s 7ms/step - loss: 0.3202 - accuracy: 0.8869 - val_loss: 0.3467 - val_accuracy: 0.8533\n",
      "Epoch 136/200\n",
      "117/117 [==============================] - 1s 7ms/step - loss: 0.3206 - accuracy: 0.8865 - val_loss: 0.3454 - val_accuracy: 0.8533\n",
      "Epoch 137/200\n",
      "117/117 [==============================] - 1s 6ms/step - loss: 0.3200 - accuracy: 0.8863 - val_loss: 0.3433 - val_accuracy: 0.8483\n",
      "Epoch 138/200\n",
      "117/117 [==============================] - 1s 7ms/step - loss: 0.3183 - accuracy: 0.8868 - val_loss: 0.3447 - val_accuracy: 0.8533\n",
      "Epoch 139/200\n",
      "117/117 [==============================] - 1s 7ms/step - loss: 0.3166 - accuracy: 0.8880 - val_loss: 0.3464 - val_accuracy: 0.8517\n",
      "Epoch 140/200\n",
      "117/117 [==============================] - 1s 7ms/step - loss: 0.3164 - accuracy: 0.8874 - val_loss: 0.3499 - val_accuracy: 0.8567\n",
      "Epoch 141/200\n",
      "117/117 [==============================] - 1s 7ms/step - loss: 0.3155 - accuracy: 0.8883 - val_loss: 0.3491 - val_accuracy: 0.8533\n",
      "Epoch 142/200\n",
      "117/117 [==============================] - 1s 7ms/step - loss: 0.3157 - accuracy: 0.8873 - val_loss: 0.3434 - val_accuracy: 0.8567\n",
      "Epoch 143/200\n",
      "117/117 [==============================] - 1s 7ms/step - loss: 0.3142 - accuracy: 0.8886 - val_loss: 0.3413 - val_accuracy: 0.8517\n",
      "Epoch 144/200\n",
      "117/117 [==============================] - 1s 7ms/step - loss: 0.3148 - accuracy: 0.8878 - val_loss: 0.3432 - val_accuracy: 0.8533\n",
      "Epoch 145/200\n",
      "117/117 [==============================] - 1s 7ms/step - loss: 0.3136 - accuracy: 0.8893 - val_loss: 0.3445 - val_accuracy: 0.8600\n",
      "Epoch 146/200\n",
      "117/117 [==============================] - 1s 8ms/step - loss: 0.3129 - accuracy: 0.8885 - val_loss: 0.3410 - val_accuracy: 0.8533\n",
      "Epoch 147/200\n",
      "117/117 [==============================] - 1s 8ms/step - loss: 0.3121 - accuracy: 0.8885 - val_loss: 0.3434 - val_accuracy: 0.8533\n",
      "Epoch 148/200\n",
      "117/117 [==============================] - 1s 8ms/step - loss: 0.3110 - accuracy: 0.8893 - val_loss: 0.3379 - val_accuracy: 0.8567\n",
      "Epoch 149/200\n",
      "117/117 [==============================] - 1s 8ms/step - loss: 0.3105 - accuracy: 0.8895 - val_loss: 0.3484 - val_accuracy: 0.8550\n",
      "Epoch 150/200\n",
      "117/117 [==============================] - 1s 7ms/step - loss: 0.3110 - accuracy: 0.8897 - val_loss: 0.3369 - val_accuracy: 0.8600\n",
      "Epoch 151/200\n",
      "117/117 [==============================] - 1s 7ms/step - loss: 0.3094 - accuracy: 0.8895 - val_loss: 0.3396 - val_accuracy: 0.8517\n",
      "Epoch 152/200\n",
      "117/117 [==============================] - 1s 7ms/step - loss: 0.3092 - accuracy: 0.8901 - val_loss: 0.3413 - val_accuracy: 0.8617\n",
      "Epoch 153/200\n",
      "117/117 [==============================] - 1s 7ms/step - loss: 0.3091 - accuracy: 0.8899 - val_loss: 0.3463 - val_accuracy: 0.8600\n",
      "Epoch 154/200\n",
      "117/117 [==============================] - 1s 7ms/step - loss: 0.3081 - accuracy: 0.8903 - val_loss: 0.3375 - val_accuracy: 0.8583\n",
      "Epoch 155/200\n",
      "117/117 [==============================] - 1s 8ms/step - loss: 0.3089 - accuracy: 0.8895 - val_loss: 0.3400 - val_accuracy: 0.8533\n",
      "Epoch 156/200\n",
      "117/117 [==============================] - 1s 8ms/step - loss: 0.3065 - accuracy: 0.8914 - val_loss: 0.3343 - val_accuracy: 0.8617\n",
      "Epoch 157/200\n",
      "117/117 [==============================] - 1s 7ms/step - loss: 0.3060 - accuracy: 0.8916 - val_loss: 0.3418 - val_accuracy: 0.8517\n",
      "Epoch 158/200\n",
      "117/117 [==============================] - 1s 7ms/step - loss: 0.3056 - accuracy: 0.8911 - val_loss: 0.3385 - val_accuracy: 0.8633\n",
      "Epoch 159/200\n",
      "117/117 [==============================] - 1s 6ms/step - loss: 0.3058 - accuracy: 0.8910 - val_loss: 0.3395 - val_accuracy: 0.8567\n",
      "Epoch 160/200\n",
      "117/117 [==============================] - 1s 7ms/step - loss: 0.3059 - accuracy: 0.8906 - val_loss: 0.3435 - val_accuracy: 0.8567\n",
      "Epoch 161/200\n",
      "117/117 [==============================] - 1s 7ms/step - loss: 0.3047 - accuracy: 0.8908 - val_loss: 0.3421 - val_accuracy: 0.8517\n",
      "Epoch 162/200\n",
      "117/117 [==============================] - 1s 7ms/step - loss: 0.3051 - accuracy: 0.8910 - val_loss: 0.3330 - val_accuracy: 0.8633\n",
      "Epoch 163/200\n",
      "117/117 [==============================] - 1s 7ms/step - loss: 0.3025 - accuracy: 0.8919 - val_loss: 0.3364 - val_accuracy: 0.8583\n",
      "Epoch 164/200\n",
      "117/117 [==============================] - 1s 7ms/step - loss: 0.3021 - accuracy: 0.8921 - val_loss: 0.3364 - val_accuracy: 0.8533\n",
      "Epoch 165/200\n",
      "117/117 [==============================] - 1s 7ms/step - loss: 0.3018 - accuracy: 0.8928 - val_loss: 0.3467 - val_accuracy: 0.8550\n",
      "Epoch 166/200\n",
      "117/117 [==============================] - 1s 7ms/step - loss: 0.3033 - accuracy: 0.8914 - val_loss: 0.3340 - val_accuracy: 0.8500\n",
      "Epoch 167/200\n",
      "117/117 [==============================] - 1s 7ms/step - loss: 0.3013 - accuracy: 0.8928 - val_loss: 0.3382 - val_accuracy: 0.8600\n",
      "Epoch 168/200\n",
      "117/117 [==============================] - 1s 7ms/step - loss: 0.2999 - accuracy: 0.8926 - val_loss: 0.3409 - val_accuracy: 0.8650\n",
      "Epoch 169/200\n",
      "117/117 [==============================] - 1s 7ms/step - loss: 0.2998 - accuracy: 0.8929 - val_loss: 0.3325 - val_accuracy: 0.8600\n",
      "Epoch 170/200\n",
      "117/117 [==============================] - 1s 7ms/step - loss: 0.2986 - accuracy: 0.8936 - val_loss: 0.3356 - val_accuracy: 0.8583\n",
      "Epoch 171/200\n",
      "117/117 [==============================] - 1s 8ms/step - loss: 0.2989 - accuracy: 0.8936 - val_loss: 0.3359 - val_accuracy: 0.8633\n",
      "Epoch 172/200\n",
      "117/117 [==============================] - 1s 8ms/step - loss: 0.2986 - accuracy: 0.8939 - val_loss: 0.3350 - val_accuracy: 0.8633\n",
      "Epoch 173/200\n",
      "117/117 [==============================] - 1s 7ms/step - loss: 0.2973 - accuracy: 0.8939 - val_loss: 0.3334 - val_accuracy: 0.8600\n",
      "Epoch 174/200\n",
      "117/117 [==============================] - 1s 7ms/step - loss: 0.2971 - accuracy: 0.8940 - val_loss: 0.3341 - val_accuracy: 0.8567\n",
      "Epoch 175/200\n",
      "117/117 [==============================] - 1s 7ms/step - loss: 0.2972 - accuracy: 0.8943 - val_loss: 0.3319 - val_accuracy: 0.8517\n",
      "Epoch 176/200\n",
      "117/117 [==============================] - 1s 7ms/step - loss: 0.2957 - accuracy: 0.8944 - val_loss: 0.3324 - val_accuracy: 0.8600\n",
      "Epoch 177/200\n",
      "117/117 [==============================] - 1s 7ms/step - loss: 0.2952 - accuracy: 0.8952 - val_loss: 0.3284 - val_accuracy: 0.8583\n",
      "Epoch 178/200\n",
      "117/117 [==============================] - 1s 7ms/step - loss: 0.2949 - accuracy: 0.8951 - val_loss: 0.3361 - val_accuracy: 0.8633\n",
      "Epoch 179/200\n",
      "117/117 [==============================] - 1s 7ms/step - loss: 0.2952 - accuracy: 0.8952 - val_loss: 0.3354 - val_accuracy: 0.8617\n",
      "Epoch 180/200\n",
      "117/117 [==============================] - 1s 7ms/step - loss: 0.2941 - accuracy: 0.8958 - val_loss: 0.3331 - val_accuracy: 0.8583\n",
      "Epoch 181/200\n",
      "117/117 [==============================] - 1s 6ms/step - loss: 0.2933 - accuracy: 0.8955 - val_loss: 0.3364 - val_accuracy: 0.8600\n",
      "Epoch 182/200\n",
      "117/117 [==============================] - 1s 7ms/step - loss: 0.2932 - accuracy: 0.8954 - val_loss: 0.3299 - val_accuracy: 0.8550\n",
      "Epoch 183/200\n",
      "117/117 [==============================] - 1s 9ms/step - loss: 0.2920 - accuracy: 0.8957 - val_loss: 0.3329 - val_accuracy: 0.8600\n",
      "Epoch 184/200\n",
      "117/117 [==============================] - 1s 9ms/step - loss: 0.2926 - accuracy: 0.8956 - val_loss: 0.3350 - val_accuracy: 0.8650\n",
      "Epoch 185/200\n",
      "117/117 [==============================] - 1s 8ms/step - loss: 0.2933 - accuracy: 0.8958 - val_loss: 0.3295 - val_accuracy: 0.8550\n",
      "Epoch 186/200\n",
      "117/117 [==============================] - 1s 7ms/step - loss: 0.2904 - accuracy: 0.8962 - val_loss: 0.3343 - val_accuracy: 0.8617\n",
      "Epoch 187/200\n",
      "117/117 [==============================] - 1s 7ms/step - loss: 0.2936 - accuracy: 0.8945 - val_loss: 0.3316 - val_accuracy: 0.8567\n",
      "Epoch 188/200\n",
      "117/117 [==============================] - 1s 7ms/step - loss: 0.2898 - accuracy: 0.8962 - val_loss: 0.3346 - val_accuracy: 0.8567\n",
      "Epoch 189/200\n",
      "117/117 [==============================] - 1s 8ms/step - loss: 0.2900 - accuracy: 0.8960 - val_loss: 0.3297 - val_accuracy: 0.8700\n",
      "Epoch 190/200\n",
      "117/117 [==============================] - 1s 10ms/step - loss: 0.2893 - accuracy: 0.8968 - val_loss: 0.3257 - val_accuracy: 0.8583\n",
      "Epoch 191/200\n",
      "117/117 [==============================] - 1s 7ms/step - loss: 0.2890 - accuracy: 0.8968 - val_loss: 0.3301 - val_accuracy: 0.8633\n",
      "Epoch 192/200\n",
      "117/117 [==============================] - 1s 7ms/step - loss: 0.2875 - accuracy: 0.8977 - val_loss: 0.3311 - val_accuracy: 0.8583\n",
      "Epoch 193/200\n",
      "117/117 [==============================] - 1s 7ms/step - loss: 0.2870 - accuracy: 0.8973 - val_loss: 0.3286 - val_accuracy: 0.8567\n",
      "Epoch 194/200\n",
      "117/117 [==============================] - 1s 7ms/step - loss: 0.2876 - accuracy: 0.8970 - val_loss: 0.3299 - val_accuracy: 0.8600\n",
      "Epoch 195/200\n",
      "117/117 [==============================] - 1s 6ms/step - loss: 0.2865 - accuracy: 0.8978 - val_loss: 0.3326 - val_accuracy: 0.8700\n",
      "Epoch 196/200\n",
      "117/117 [==============================] - 1s 8ms/step - loss: 0.2873 - accuracy: 0.8975 - val_loss: 0.3285 - val_accuracy: 0.8600\n",
      "Epoch 197/200\n",
      "117/117 [==============================] - 1s 7ms/step - loss: 0.2852 - accuracy: 0.8977 - val_loss: 0.3265 - val_accuracy: 0.8633\n",
      "Epoch 198/200\n",
      "117/117 [==============================] - 1s 7ms/step - loss: 0.2852 - accuracy: 0.8988 - val_loss: 0.3323 - val_accuracy: 0.8600\n",
      "Epoch 199/200\n",
      "117/117 [==============================] - 1s 7ms/step - loss: 0.2845 - accuracy: 0.8981 - val_loss: 0.3289 - val_accuracy: 0.8600\n",
      "Epoch 200/200\n",
      "117/117 [==============================] - 1s 7ms/step - loss: 0.2839 - accuracy: 0.8985 - val_loss: 0.3317 - val_accuracy: 0.8667\n"
     ]
    }
   ],
   "execution_count": 30
  },
  {
   "cell_type": "code",
   "id": "8ad35aa5",
   "metadata": {
    "ExecuteTime": {
     "end_time": "2024-05-24T08:45:03.403374Z",
     "start_time": "2024-05-24T08:45:03.221726Z"
    }
   },
   "source": [
    "# loss 값을 plot 해보겠습니다.\n",
    "y_vloss = history.history['val_loss']\n",
    "y_loss = history.history['loss']\n",
    "x_len = np.arange(len(y_loss))\n",
    "\n",
    "plt.plot(x_len, y_vloss, marker='.', c='red', label=\"Validation-set Loss\")\n",
    "plt.plot(x_len, y_loss, marker='.', c='blue', label=\"Train-set Loss\")\n",
    "plt.legend(loc='upper right')\n",
    "plt.grid()\n",
    "plt.title('Loss graph without dropout layer') \n",
    "plt.ylim(0,1)\n",
    "plt.xlabel('epoch')\n",
    "plt.ylabel('loss')\n",
    "plt.show()"
   ],
   "outputs": [
    {
     "data": {
      "text/plain": [
       "<Figure size 640x480 with 1 Axes>"
      ],
      "image/png": "[encoded data removed]"
     },
     "metadata": {},
     "output_type": "display_data"
    }
   ],
   "execution_count": 31
  },
  {
   "cell_type": "code",
   "id": "c97b900b",
   "metadata": {
    "ExecuteTime": {
     "end_time": "2024-05-24T08:45:03.534848Z",
     "start_time": "2024-05-24T08:45:03.408798Z"
    }
   },
   "source": [
    "# accuracy 값을 plot 해보겠습니다.\n",
    "y_vacc = history.history['val_accuracy']\n",
    "y_acc = history.history['accuracy']\n",
    "x_len = np.arange(len(y_acc))\n",
    "\n",
    "plt.plot(x_len, y_vacc, marker='.', c='red', label=\"Validation-set accuracy\")\n",
    "plt.plot(x_len, y_acc, marker='.', c='blue', label=\"Train-set accuracy\")\n",
    "plt.legend(loc='lower right')\n",
    "plt.grid()\n",
    "plt.ylim(0.5,1) \n",
    "plt.title('Accuracy graph without dropout layer') \n",
    "plt.xlabel('epoch')\n",
    "plt.ylabel('accuracy')\n",
    "plt.show()"
   ],
   "outputs": [
    {
     "data": {
      "text/plain": [
       "<Figure size 640x480 with 1 Axes>"
      ],
      "image/png": "[encoded data removed]"
     },
     "metadata": {},
     "output_type": "display_data"
    }
   ],
   "execution_count": 32
  },
  {
   "cell_type": "markdown",
   "id": "ec9d664d",
   "metadata": {},
   "source": [
    "dropout layer가 없는 fully connected layer에서 200번 정도의 학습을 하니 train set의 accuracy는 올라가고, loss는 점점 떨어졌습니다. 그러나 validation set의 accuracy와 loss는 어느 정도 값에서 수렴함을 볼 수 있었습니다.\n",
    "이렇게 오버피팅을 만든 환경에서 dropout layer를 추가한 뒤 나머지 환경은 같게 한 실험을 살펴보도록 하겠습니다."
   ]
  },
  {
   "cell_type": "code",
   "id": "1b3dac19",
   "metadata": {
    "ExecuteTime": {
     "end_time": "2024-05-24T08:48:06.571580Z",
     "start_time": "2024-05-24T08:45:03.536475Z"
    }
   },
   "source": [
    "# Q. dropout layer를 추가해보세요. (dropout 확률은 0.5로 지정해주세요.)\n",
    "\n",
    "model = keras.Sequential([\n",
    "    keras.layers.Flatten(input_shape=(28, 28)),\n",
    "    keras.layers.Dense(256, activation='relu'),\n",
    "    # 여기에 dropout layer를 추가해보았습니다. 나머지 layer는 위의 실습과 같습니다. \n",
    "    keras.layers.Dropout(0.5),\n",
    "    keras.layers.Dense(10, activation='softmax')\n",
    "])\n",
    "\n",
    "model.compile(optimizer='adam',loss='sparse_categorical_crossentropy',\n",
    "              metrics=['accuracy'])\n",
    "\n",
    "history = model.fit(X_train, y_train, epochs=200, batch_size=512, validation_data=(X_valid, y_valid))"
   ],
   "outputs": [
    {
     "name": "stdout",
     "output_type": "stream",
     "text": [
      "Epoch 1/200\n",
      "  1/117 [..............................] - ETA: 37s - loss: 2.3025 - accuracy: 0.0938"
     ]
    },
    {
     "name": "stderr",
     "output_type": "stream",
     "text": [
      "2024-05-24 17:45:04.043462: I tensorflow/core/grappler/optimizers/custom_graph_optimizer_registry.cc:113] Plugin optimizer for device_type GPU is enabled.\n"
     ]
    },
    {
     "name": "stdout",
     "output_type": "stream",
     "text": [
      "117/117 [==============================] - 2s 10ms/step - loss: 2.0791 - accuracy: 0.4631 - val_loss: 1.6911 - val_accuracy: 0.5467\n",
      "Epoch 2/200\n",
      "  8/117 [=>............................] - ETA: 0s - loss: 1.7086 - accuracy: 0.4985"
     ]
    },
    {
     "name": "stderr",
     "output_type": "stream",
     "text": [
      "2024-05-24 17:45:05.314304: I tensorflow/core/grappler/optimizers/custom_graph_optimizer_registry.cc:113] Plugin optimizer for device_type GPU is enabled.\n"
     ]
    },
    {
     "name": "stdout",
     "output_type": "stream",
     "text": [
      "117/117 [==============================] - 1s 7ms/step - loss: 1.4559 - accuracy: 0.5559 - val_loss: 1.2121 - val_accuracy: 0.6717\n",
      "Epoch 3/200\n",
      "117/117 [==============================] - 1s 12ms/step - loss: 1.1445 - accuracy: 0.6283 - val_loss: 0.9976 - val_accuracy: 0.7233\n",
      "Epoch 4/200\n",
      "117/117 [==============================] - 1s 8ms/step - loss: 0.9786 - accuracy: 0.6710 - val_loss: 0.8652 - val_accuracy: 0.7500\n",
      "Epoch 5/200\n",
      "117/117 [==============================] - 1s 9ms/step - loss: 0.8745 - accuracy: 0.7025 - val_loss: 0.7813 - val_accuracy: 0.7600\n",
      "Epoch 6/200\n",
      "117/117 [==============================] - 1s 7ms/step - loss: 0.8072 - accuracy: 0.7165 - val_loss: 0.7262 - val_accuracy: 0.7750\n",
      "Epoch 7/200\n",
      "117/117 [==============================] - 1s 8ms/step - loss: 0.7607 - accuracy: 0.7305 - val_loss: 0.6909 - val_accuracy: 0.7717\n",
      "Epoch 8/200\n",
      "117/117 [==============================] - 1s 7ms/step - loss: 0.7278 - accuracy: 0.7401 - val_loss: 0.6624 - val_accuracy: 0.7817\n",
      "Epoch 9/200\n",
      "117/117 [==============================] - 1s 8ms/step - loss: 0.7001 - accuracy: 0.7491 - val_loss: 0.6364 - val_accuracy: 0.7867\n",
      "Epoch 10/200\n",
      "117/117 [==============================] - 1s 9ms/step - loss: 0.6768 - accuracy: 0.7571 - val_loss: 0.6227 - val_accuracy: 0.7883\n",
      "Epoch 11/200\n",
      "117/117 [==============================] - 1s 7ms/step - loss: 0.6569 - accuracy: 0.7635 - val_loss: 0.6027 - val_accuracy: 0.7933\n",
      "Epoch 12/200\n",
      "117/117 [==============================] - 1s 8ms/step - loss: 0.6387 - accuracy: 0.7701 - val_loss: 0.5875 - val_accuracy: 0.7883\n",
      "Epoch 13/200\n",
      "117/117 [==============================] - 1s 10ms/step - loss: 0.6244 - accuracy: 0.7753 - val_loss: 0.5746 - val_accuracy: 0.7917\n",
      "Epoch 14/200\n",
      "117/117 [==============================] - 1s 7ms/step - loss: 0.6084 - accuracy: 0.7815 - val_loss: 0.5631 - val_accuracy: 0.7950\n",
      "Epoch 15/200\n",
      "117/117 [==============================] - 1s 7ms/step - loss: 0.5986 - accuracy: 0.7855 - val_loss: 0.5565 - val_accuracy: 0.7933\n",
      "Epoch 16/200\n",
      "117/117 [==============================] - 1s 7ms/step - loss: 0.5854 - accuracy: 0.7907 - val_loss: 0.5458 - val_accuracy: 0.8067\n",
      "Epoch 17/200\n",
      "117/117 [==============================] - 1s 8ms/step - loss: 0.5736 - accuracy: 0.7952 - val_loss: 0.5357 - val_accuracy: 0.7983\n",
      "Epoch 18/200\n",
      "117/117 [==============================] - 1s 8ms/step - loss: 0.5650 - accuracy: 0.8004 - val_loss: 0.5267 - val_accuracy: 0.8067\n",
      "Epoch 19/200\n",
      "117/117 [==============================] - 1s 7ms/step - loss: 0.5561 - accuracy: 0.8035 - val_loss: 0.5209 - val_accuracy: 0.8067\n",
      "Epoch 20/200\n",
      "117/117 [==============================] - 1s 9ms/step - loss: 0.5470 - accuracy: 0.8069 - val_loss: 0.5150 - val_accuracy: 0.8100\n",
      "Epoch 21/200\n",
      "117/117 [==============================] - 1s 8ms/step - loss: 0.5398 - accuracy: 0.8084 - val_loss: 0.5067 - val_accuracy: 0.8167\n",
      "Epoch 22/200\n",
      "117/117 [==============================] - 1s 11ms/step - loss: 0.5318 - accuracy: 0.8116 - val_loss: 0.4999 - val_accuracy: 0.8183\n",
      "Epoch 23/200\n",
      "117/117 [==============================] - 3s 30ms/step - loss: 0.5257 - accuracy: 0.8144 - val_loss: 0.4944 - val_accuracy: 0.8167\n",
      "Epoch 24/200\n",
      "117/117 [==============================] - 2s 14ms/step - loss: 0.5208 - accuracy: 0.8152 - val_loss: 0.4899 - val_accuracy: 0.8200\n",
      "Epoch 25/200\n",
      "117/117 [==============================] - 1s 10ms/step - loss: 0.5146 - accuracy: 0.8177 - val_loss: 0.4841 - val_accuracy: 0.8167\n",
      "Epoch 26/200\n",
      "117/117 [==============================] - 1s 8ms/step - loss: 0.5089 - accuracy: 0.8216 - val_loss: 0.4798 - val_accuracy: 0.8167\n",
      "Epoch 27/200\n",
      "117/117 [==============================] - 1s 10ms/step - loss: 0.5039 - accuracy: 0.8212 - val_loss: 0.4752 - val_accuracy: 0.8200\n",
      "Epoch 28/200\n",
      "117/117 [==============================] - 1s 8ms/step - loss: 0.4996 - accuracy: 0.8249 - val_loss: 0.4706 - val_accuracy: 0.8183\n",
      "Epoch 29/200\n",
      "117/117 [==============================] - 1s 12ms/step - loss: 0.4945 - accuracy: 0.8259 - val_loss: 0.4667 - val_accuracy: 0.8167\n",
      "Epoch 30/200\n",
      "117/117 [==============================] - 1s 8ms/step - loss: 0.4900 - accuracy: 0.8265 - val_loss: 0.4662 - val_accuracy: 0.8167\n",
      "Epoch 31/200\n",
      "117/117 [==============================] - 1s 7ms/step - loss: 0.4858 - accuracy: 0.8285 - val_loss: 0.4593 - val_accuracy: 0.8200\n",
      "Epoch 32/200\n",
      "117/117 [==============================] - 1s 9ms/step - loss: 0.4832 - accuracy: 0.8305 - val_loss: 0.4566 - val_accuracy: 0.8200\n",
      "Epoch 33/200\n",
      "117/117 [==============================] - 1s 9ms/step - loss: 0.4774 - accuracy: 0.8326 - val_loss: 0.4530 - val_accuracy: 0.8217\n",
      "Epoch 34/200\n",
      "117/117 [==============================] - 1s 8ms/step - loss: 0.4755 - accuracy: 0.8329 - val_loss: 0.4504 - val_accuracy: 0.8300\n",
      "Epoch 35/200\n",
      "117/117 [==============================] - 1s 7ms/step - loss: 0.4739 - accuracy: 0.8325 - val_loss: 0.4472 - val_accuracy: 0.8233\n",
      "Epoch 36/200\n",
      "117/117 [==============================] - 1s 7ms/step - loss: 0.4692 - accuracy: 0.8342 - val_loss: 0.4447 - val_accuracy: 0.8267\n",
      "Epoch 37/200\n",
      "117/117 [==============================] - 1s 8ms/step - loss: 0.4653 - accuracy: 0.8372 - val_loss: 0.4402 - val_accuracy: 0.8350\n",
      "Epoch 38/200\n",
      "117/117 [==============================] - 1s 8ms/step - loss: 0.4620 - accuracy: 0.8369 - val_loss: 0.4342 - val_accuracy: 0.8283\n",
      "Epoch 39/200\n",
      "117/117 [==============================] - 1s 7ms/step - loss: 0.4597 - accuracy: 0.8389 - val_loss: 0.4381 - val_accuracy: 0.8333\n",
      "Epoch 40/200\n",
      "117/117 [==============================] - 1s 8ms/step - loss: 0.4580 - accuracy: 0.8387 - val_loss: 0.4326 - val_accuracy: 0.8283\n",
      "Epoch 41/200\n",
      "117/117 [==============================] - 1s 7ms/step - loss: 0.4544 - accuracy: 0.8404 - val_loss: 0.4312 - val_accuracy: 0.8283\n",
      "Epoch 42/200\n",
      "117/117 [==============================] - 1s 7ms/step - loss: 0.4503 - accuracy: 0.8411 - val_loss: 0.4269 - val_accuracy: 0.8317\n",
      "Epoch 43/200\n",
      "117/117 [==============================] - 1s 8ms/step - loss: 0.4486 - accuracy: 0.8414 - val_loss: 0.4259 - val_accuracy: 0.8333\n",
      "Epoch 44/200\n",
      "117/117 [==============================] - 1s 8ms/step - loss: 0.4464 - accuracy: 0.8430 - val_loss: 0.4233 - val_accuracy: 0.8317\n",
      "Epoch 45/200\n",
      "117/117 [==============================] - 1s 8ms/step - loss: 0.4440 - accuracy: 0.8443 - val_loss: 0.4200 - val_accuracy: 0.8367\n",
      "Epoch 46/200\n",
      "117/117 [==============================] - 1s 7ms/step - loss: 0.4419 - accuracy: 0.8438 - val_loss: 0.4184 - val_accuracy: 0.8350\n",
      "Epoch 47/200\n",
      "117/117 [==============================] - 1s 7ms/step - loss: 0.4394 - accuracy: 0.8451 - val_loss: 0.4161 - val_accuracy: 0.8417\n",
      "Epoch 48/200\n",
      "117/117 [==============================] - 1s 10ms/step - loss: 0.4364 - accuracy: 0.8466 - val_loss: 0.4169 - val_accuracy: 0.8383\n",
      "Epoch 49/200\n",
      "117/117 [==============================] - 1s 9ms/step - loss: 0.4348 - accuracy: 0.8461 - val_loss: 0.4153 - val_accuracy: 0.8367\n",
      "Epoch 50/200\n",
      "117/117 [==============================] - 1s 9ms/step - loss: 0.4342 - accuracy: 0.8470 - val_loss: 0.4162 - val_accuracy: 0.8383\n",
      "Epoch 51/200\n",
      "117/117 [==============================] - 1s 8ms/step - loss: 0.4316 - accuracy: 0.8481 - val_loss: 0.4086 - val_accuracy: 0.8400\n",
      "Epoch 52/200\n",
      "117/117 [==============================] - 1s 7ms/step - loss: 0.4291 - accuracy: 0.8482 - val_loss: 0.4059 - val_accuracy: 0.8383\n",
      "Epoch 53/200\n",
      "117/117 [==============================] - 1s 9ms/step - loss: 0.4253 - accuracy: 0.8507 - val_loss: 0.4066 - val_accuracy: 0.8450\n",
      "Epoch 54/200\n",
      "117/117 [==============================] - 1s 11ms/step - loss: 0.4262 - accuracy: 0.8485 - val_loss: 0.4082 - val_accuracy: 0.8383\n",
      "Epoch 55/200\n",
      "117/117 [==============================] - 1s 10ms/step - loss: 0.4241 - accuracy: 0.8493 - val_loss: 0.4044 - val_accuracy: 0.8400\n",
      "Epoch 56/200\n",
      "117/117 [==============================] - 1s 8ms/step - loss: 0.4208 - accuracy: 0.8523 - val_loss: 0.4032 - val_accuracy: 0.8383\n",
      "Epoch 57/200\n",
      "117/117 [==============================] - 1s 7ms/step - loss: 0.4212 - accuracy: 0.8507 - val_loss: 0.3993 - val_accuracy: 0.8483\n",
      "Epoch 58/200\n",
      "117/117 [==============================] - 1s 8ms/step - loss: 0.4183 - accuracy: 0.8519 - val_loss: 0.4006 - val_accuracy: 0.8400\n",
      "Epoch 59/200\n",
      "117/117 [==============================] - 1s 9ms/step - loss: 0.4161 - accuracy: 0.8524 - val_loss: 0.3989 - val_accuracy: 0.8367\n",
      "Epoch 60/200\n",
      "117/117 [==============================] - 1s 9ms/step - loss: 0.4145 - accuracy: 0.8534 - val_loss: 0.3987 - val_accuracy: 0.8383\n",
      "Epoch 61/200\n",
      "117/117 [==============================] - 1s 10ms/step - loss: 0.4143 - accuracy: 0.8542 - val_loss: 0.3953 - val_accuracy: 0.8433\n",
      "Epoch 62/200\n",
      "117/117 [==============================] - 1s 8ms/step - loss: 0.4152 - accuracy: 0.8526 - val_loss: 0.3947 - val_accuracy: 0.8417\n",
      "Epoch 63/200\n",
      "117/117 [==============================] - 1s 9ms/step - loss: 0.4119 - accuracy: 0.8541 - val_loss: 0.3922 - val_accuracy: 0.8383\n",
      "Epoch 64/200\n",
      "117/117 [==============================] - 1s 9ms/step - loss: 0.4112 - accuracy: 0.8547 - val_loss: 0.3896 - val_accuracy: 0.8450\n",
      "Epoch 65/200\n",
      "117/117 [==============================] - 1s 8ms/step - loss: 0.4054 - accuracy: 0.8557 - val_loss: 0.3902 - val_accuracy: 0.8400\n",
      "Epoch 66/200\n",
      "117/117 [==============================] - 1s 7ms/step - loss: 0.4075 - accuracy: 0.8566 - val_loss: 0.3906 - val_accuracy: 0.8383\n",
      "Epoch 67/200\n",
      "117/117 [==============================] - 1s 6ms/step - loss: 0.4067 - accuracy: 0.8565 - val_loss: 0.3899 - val_accuracy: 0.8383\n",
      "Epoch 68/200\n",
      "117/117 [==============================] - 1s 7ms/step - loss: 0.4052 - accuracy: 0.8552 - val_loss: 0.3870 - val_accuracy: 0.8417\n",
      "Epoch 69/200\n",
      "117/117 [==============================] - 1s 8ms/step - loss: 0.4026 - accuracy: 0.8574 - val_loss: 0.3855 - val_accuracy: 0.8417\n",
      "Epoch 70/200\n",
      "117/117 [==============================] - 1s 8ms/step - loss: 0.4032 - accuracy: 0.8573 - val_loss: 0.3838 - val_accuracy: 0.8483\n",
      "Epoch 71/200\n",
      "117/117 [==============================] - 1s 7ms/step - loss: 0.3998 - accuracy: 0.8581 - val_loss: 0.3830 - val_accuracy: 0.8417\n",
      "Epoch 72/200\n",
      "117/117 [==============================] - 1s 7ms/step - loss: 0.4026 - accuracy: 0.8573 - val_loss: 0.3829 - val_accuracy: 0.8383\n",
      "Epoch 73/200\n",
      "117/117 [==============================] - 1s 7ms/step - loss: 0.3985 - accuracy: 0.8590 - val_loss: 0.3821 - val_accuracy: 0.8400\n",
      "Epoch 74/200\n",
      "117/117 [==============================] - 1s 7ms/step - loss: 0.3990 - accuracy: 0.8584 - val_loss: 0.3796 - val_accuracy: 0.8383\n",
      "Epoch 75/200\n",
      "117/117 [==============================] - 1s 9ms/step - loss: 0.3961 - accuracy: 0.8600 - val_loss: 0.3802 - val_accuracy: 0.8433\n",
      "Epoch 76/200\n",
      "117/117 [==============================] - 1s 11ms/step - loss: 0.3950 - accuracy: 0.8590 - val_loss: 0.3785 - val_accuracy: 0.8433\n",
      "Epoch 77/200\n",
      "117/117 [==============================] - 1s 9ms/step - loss: 0.3924 - accuracy: 0.8615 - val_loss: 0.3778 - val_accuracy: 0.8417\n",
      "Epoch 78/200\n",
      "117/117 [==============================] - 1s 7ms/step - loss: 0.3930 - accuracy: 0.8611 - val_loss: 0.3759 - val_accuracy: 0.8450\n",
      "Epoch 79/200\n",
      "117/117 [==============================] - 1s 8ms/step - loss: 0.3910 - accuracy: 0.8619 - val_loss: 0.3756 - val_accuracy: 0.8433\n",
      "Epoch 80/200\n",
      "117/117 [==============================] - 1s 8ms/step - loss: 0.3895 - accuracy: 0.8619 - val_loss: 0.3740 - val_accuracy: 0.8467\n",
      "Epoch 81/200\n",
      "117/117 [==============================] - 1s 8ms/step - loss: 0.3891 - accuracy: 0.8630 - val_loss: 0.3735 - val_accuracy: 0.8417\n",
      "Epoch 82/200\n",
      "117/117 [==============================] - 1s 7ms/step - loss: 0.3874 - accuracy: 0.8626 - val_loss: 0.3735 - val_accuracy: 0.8467\n",
      "Epoch 83/200\n",
      "117/117 [==============================] - 1s 6ms/step - loss: 0.3862 - accuracy: 0.8625 - val_loss: 0.3757 - val_accuracy: 0.8450\n",
      "Epoch 84/200\n",
      "117/117 [==============================] - 1s 8ms/step - loss: 0.3848 - accuracy: 0.8633 - val_loss: 0.3718 - val_accuracy: 0.8450\n",
      "Epoch 85/200\n",
      "117/117 [==============================] - 1s 8ms/step - loss: 0.3854 - accuracy: 0.8628 - val_loss: 0.3719 - val_accuracy: 0.8467\n",
      "Epoch 86/200\n",
      "117/117 [==============================] - 1s 10ms/step - loss: 0.3840 - accuracy: 0.8649 - val_loss: 0.3690 - val_accuracy: 0.8467\n",
      "Epoch 87/200\n",
      "117/117 [==============================] - 1s 8ms/step - loss: 0.3817 - accuracy: 0.8654 - val_loss: 0.3692 - val_accuracy: 0.8433\n",
      "Epoch 88/200\n",
      "117/117 [==============================] - 1s 6ms/step - loss: 0.3825 - accuracy: 0.8646 - val_loss: 0.3702 - val_accuracy: 0.8417\n",
      "Epoch 89/200\n",
      "117/117 [==============================] - 1s 6ms/step - loss: 0.3819 - accuracy: 0.8650 - val_loss: 0.3660 - val_accuracy: 0.8467\n",
      "Epoch 90/200\n",
      "117/117 [==============================] - 1s 8ms/step - loss: 0.3799 - accuracy: 0.8652 - val_loss: 0.3672 - val_accuracy: 0.8433\n",
      "Epoch 91/200\n",
      "117/117 [==============================] - 1s 10ms/step - loss: 0.3785 - accuracy: 0.8665 - val_loss: 0.3660 - val_accuracy: 0.8467\n",
      "Epoch 92/200\n",
      "117/117 [==============================] - 1s 9ms/step - loss: 0.3780 - accuracy: 0.8645 - val_loss: 0.3648 - val_accuracy: 0.8500\n",
      "Epoch 93/200\n",
      "117/117 [==============================] - 1s 10ms/step - loss: 0.3773 - accuracy: 0.8661 - val_loss: 0.3636 - val_accuracy: 0.8433\n",
      "Epoch 94/200\n",
      "117/117 [==============================] - 1s 10ms/step - loss: 0.3776 - accuracy: 0.8667 - val_loss: 0.3653 - val_accuracy: 0.8450\n",
      "Epoch 95/200\n",
      "117/117 [==============================] - 1s 9ms/step - loss: 0.3766 - accuracy: 0.8669 - val_loss: 0.3612 - val_accuracy: 0.8433\n",
      "Epoch 96/200\n",
      "117/117 [==============================] - 1s 11ms/step - loss: 0.3753 - accuracy: 0.8667 - val_loss: 0.3598 - val_accuracy: 0.8433\n",
      "Epoch 97/200\n",
      "117/117 [==============================] - 1s 8ms/step - loss: 0.3723 - accuracy: 0.8667 - val_loss: 0.3603 - val_accuracy: 0.8483\n",
      "Epoch 98/200\n",
      "117/117 [==============================] - 1s 8ms/step - loss: 0.3701 - accuracy: 0.8686 - val_loss: 0.3582 - val_accuracy: 0.8517\n",
      "Epoch 99/200\n",
      "117/117 [==============================] - 1s 8ms/step - loss: 0.3721 - accuracy: 0.8680 - val_loss: 0.3573 - val_accuracy: 0.8517\n",
      "Epoch 100/200\n",
      "117/117 [==============================] - 1s 9ms/step - loss: 0.3706 - accuracy: 0.8686 - val_loss: 0.3562 - val_accuracy: 0.8467\n",
      "Epoch 101/200\n",
      "117/117 [==============================] - 1s 8ms/step - loss: 0.3712 - accuracy: 0.8679 - val_loss: 0.3555 - val_accuracy: 0.8467\n",
      "Epoch 102/200\n",
      "117/117 [==============================] - 1s 10ms/step - loss: 0.3690 - accuracy: 0.8696 - val_loss: 0.3572 - val_accuracy: 0.8433\n",
      "Epoch 103/200\n",
      "117/117 [==============================] - 1s 7ms/step - loss: 0.3674 - accuracy: 0.8689 - val_loss: 0.3582 - val_accuracy: 0.8483\n",
      "Epoch 104/200\n",
      "117/117 [==============================] - 1s 7ms/step - loss: 0.3705 - accuracy: 0.8691 - val_loss: 0.3549 - val_accuracy: 0.8567\n",
      "Epoch 105/200\n",
      "117/117 [==============================] - 1s 8ms/step - loss: 0.3680 - accuracy: 0.8693 - val_loss: 0.3567 - val_accuracy: 0.8550\n",
      "Epoch 106/200\n",
      "117/117 [==============================] - 1s 8ms/step - loss: 0.3664 - accuracy: 0.8705 - val_loss: 0.3577 - val_accuracy: 0.8483\n",
      "Epoch 107/200\n",
      "117/117 [==============================] - 1s 9ms/step - loss: 0.3667 - accuracy: 0.8694 - val_loss: 0.3576 - val_accuracy: 0.8567\n",
      "Epoch 108/200\n",
      "117/117 [==============================] - 1s 7ms/step - loss: 0.3650 - accuracy: 0.8696 - val_loss: 0.3556 - val_accuracy: 0.8550\n",
      "Epoch 109/200\n",
      "117/117 [==============================] - 1s 7ms/step - loss: 0.3641 - accuracy: 0.8719 - val_loss: 0.3533 - val_accuracy: 0.8533\n",
      "Epoch 110/200\n",
      "117/117 [==============================] - 1s 8ms/step - loss: 0.3625 - accuracy: 0.8718 - val_loss: 0.3522 - val_accuracy: 0.8500\n",
      "Epoch 111/200\n",
      "117/117 [==============================] - 1s 7ms/step - loss: 0.3638 - accuracy: 0.8710 - val_loss: 0.3493 - val_accuracy: 0.8517\n",
      "Epoch 112/200\n",
      "117/117 [==============================] - 1s 7ms/step - loss: 0.3605 - accuracy: 0.8721 - val_loss: 0.3520 - val_accuracy: 0.8567\n",
      "Epoch 113/200\n",
      "117/117 [==============================] - 1s 7ms/step - loss: 0.3602 - accuracy: 0.8719 - val_loss: 0.3528 - val_accuracy: 0.8500\n",
      "Epoch 114/200\n",
      "117/117 [==============================] - 1s 6ms/step - loss: 0.3609 - accuracy: 0.8719 - val_loss: 0.3516 - val_accuracy: 0.8567\n",
      "Epoch 115/200\n",
      "117/117 [==============================] - 1s 6ms/step - loss: 0.3594 - accuracy: 0.8734 - val_loss: 0.3510 - val_accuracy: 0.8533\n",
      "Epoch 116/200\n",
      "117/117 [==============================] - 1s 7ms/step - loss: 0.3592 - accuracy: 0.8726 - val_loss: 0.3527 - val_accuracy: 0.8550\n",
      "Epoch 117/200\n",
      "117/117 [==============================] - 1s 7ms/step - loss: 0.3611 - accuracy: 0.8709 - val_loss: 0.3480 - val_accuracy: 0.8550\n",
      "Epoch 118/200\n",
      "117/117 [==============================] - 1s 7ms/step - loss: 0.3574 - accuracy: 0.8739 - val_loss: 0.3455 - val_accuracy: 0.8550\n",
      "Epoch 119/200\n",
      "117/117 [==============================] - 1s 7ms/step - loss: 0.3574 - accuracy: 0.8733 - val_loss: 0.3505 - val_accuracy: 0.8533\n",
      "Epoch 120/200\n",
      "117/117 [==============================] - 1s 7ms/step - loss: 0.3549 - accuracy: 0.8740 - val_loss: 0.3514 - val_accuracy: 0.8550\n",
      "Epoch 121/200\n",
      "117/117 [==============================] - 1s 9ms/step - loss: 0.3555 - accuracy: 0.8741 - val_loss: 0.3457 - val_accuracy: 0.8517\n",
      "Epoch 122/200\n",
      "117/117 [==============================] - 1s 11ms/step - loss: 0.3545 - accuracy: 0.8746 - val_loss: 0.3478 - val_accuracy: 0.8600\n",
      "Epoch 123/200\n",
      "117/117 [==============================] - 1s 8ms/step - loss: 0.3556 - accuracy: 0.8741 - val_loss: 0.3452 - val_accuracy: 0.8567\n",
      "Epoch 124/200\n",
      "117/117 [==============================] - 1s 8ms/step - loss: 0.3533 - accuracy: 0.8752 - val_loss: 0.3435 - val_accuracy: 0.8550\n",
      "Epoch 125/200\n",
      "117/117 [==============================] - 1s 7ms/step - loss: 0.3541 - accuracy: 0.8751 - val_loss: 0.3469 - val_accuracy: 0.8600\n",
      "Epoch 126/200\n",
      "117/117 [==============================] - 1s 7ms/step - loss: 0.3517 - accuracy: 0.8748 - val_loss: 0.3449 - val_accuracy: 0.8567\n",
      "Epoch 127/200\n",
      "117/117 [==============================] - 1s 7ms/step - loss: 0.3490 - accuracy: 0.8765 - val_loss: 0.3436 - val_accuracy: 0.8567\n",
      "Epoch 128/200\n",
      "117/117 [==============================] - 1s 7ms/step - loss: 0.3506 - accuracy: 0.8747 - val_loss: 0.3457 - val_accuracy: 0.8583\n",
      "Epoch 129/200\n",
      "117/117 [==============================] - 1s 7ms/step - loss: 0.3504 - accuracy: 0.8753 - val_loss: 0.3411 - val_accuracy: 0.8550\n",
      "Epoch 130/200\n",
      "117/117 [==============================] - 1s 7ms/step - loss: 0.3494 - accuracy: 0.8767 - val_loss: 0.3410 - val_accuracy: 0.8617\n",
      "Epoch 131/200\n",
      "117/117 [==============================] - 1s 7ms/step - loss: 0.3492 - accuracy: 0.8761 - val_loss: 0.3407 - val_accuracy: 0.8583\n",
      "Epoch 132/200\n",
      "117/117 [==============================] - 1s 6ms/step - loss: 0.3476 - accuracy: 0.8772 - val_loss: 0.3385 - val_accuracy: 0.8600\n",
      "Epoch 133/200\n",
      "117/117 [==============================] - 1s 6ms/step - loss: 0.3477 - accuracy: 0.8749 - val_loss: 0.3397 - val_accuracy: 0.8583\n",
      "Epoch 134/200\n",
      "117/117 [==============================] - 1s 7ms/step - loss: 0.3493 - accuracy: 0.8769 - val_loss: 0.3384 - val_accuracy: 0.8617\n",
      "Epoch 135/200\n",
      "117/117 [==============================] - 1s 8ms/step - loss: 0.3466 - accuracy: 0.8770 - val_loss: 0.3397 - val_accuracy: 0.8583\n",
      "Epoch 136/200\n",
      "117/117 [==============================] - 1s 9ms/step - loss: 0.3469 - accuracy: 0.8768 - val_loss: 0.3377 - val_accuracy: 0.8583\n",
      "Epoch 137/200\n",
      "117/117 [==============================] - 1s 8ms/step - loss: 0.3453 - accuracy: 0.8774 - val_loss: 0.3391 - val_accuracy: 0.8617\n",
      "Epoch 138/200\n",
      "117/117 [==============================] - 1s 6ms/step - loss: 0.3457 - accuracy: 0.8769 - val_loss: 0.3378 - val_accuracy: 0.8633\n",
      "Epoch 139/200\n",
      "117/117 [==============================] - 1s 7ms/step - loss: 0.3440 - accuracy: 0.8784 - val_loss: 0.3398 - val_accuracy: 0.8600\n",
      "Epoch 140/200\n",
      "117/117 [==============================] - 1s 7ms/step - loss: 0.3440 - accuracy: 0.8774 - val_loss: 0.3388 - val_accuracy: 0.8583\n",
      "Epoch 141/200\n",
      "117/117 [==============================] - 1s 7ms/step - loss: 0.3421 - accuracy: 0.8769 - val_loss: 0.3365 - val_accuracy: 0.8650\n",
      "Epoch 142/200\n",
      "117/117 [==============================] - 1s 7ms/step - loss: 0.3440 - accuracy: 0.8776 - val_loss: 0.3383 - val_accuracy: 0.8633\n",
      "Epoch 143/200\n",
      "117/117 [==============================] - 1s 6ms/step - loss: 0.3414 - accuracy: 0.8784 - val_loss: 0.3371 - val_accuracy: 0.8650\n",
      "Epoch 144/200\n",
      "117/117 [==============================] - 1s 6ms/step - loss: 0.3408 - accuracy: 0.8793 - val_loss: 0.3359 - val_accuracy: 0.8617\n",
      "Epoch 145/200\n",
      "117/117 [==============================] - 1s 6ms/step - loss: 0.3401 - accuracy: 0.8789 - val_loss: 0.3354 - val_accuracy: 0.8583\n",
      "Epoch 146/200\n",
      "117/117 [==============================] - 1s 6ms/step - loss: 0.3407 - accuracy: 0.8788 - val_loss: 0.3330 - val_accuracy: 0.8617\n",
      "Epoch 147/200\n",
      "117/117 [==============================] - 1s 7ms/step - loss: 0.3386 - accuracy: 0.8805 - val_loss: 0.3333 - val_accuracy: 0.8600\n",
      "Epoch 148/200\n",
      "117/117 [==============================] - 1s 7ms/step - loss: 0.3377 - accuracy: 0.8815 - val_loss: 0.3338 - val_accuracy: 0.8600\n",
      "Epoch 149/200\n",
      "117/117 [==============================] - 1s 8ms/step - loss: 0.3398 - accuracy: 0.8787 - val_loss: 0.3312 - val_accuracy: 0.8617\n",
      "Epoch 150/200\n",
      "117/117 [==============================] - 1s 6ms/step - loss: 0.3378 - accuracy: 0.8806 - val_loss: 0.3335 - val_accuracy: 0.8617\n",
      "Epoch 151/200\n",
      "117/117 [==============================] - 1s 8ms/step - loss: 0.3369 - accuracy: 0.8802 - val_loss: 0.3330 - val_accuracy: 0.8700\n",
      "Epoch 152/200\n",
      "117/117 [==============================] - 1s 7ms/step - loss: 0.3384 - accuracy: 0.8806 - val_loss: 0.3301 - val_accuracy: 0.8633\n",
      "Epoch 153/200\n",
      "117/117 [==============================] - 1s 7ms/step - loss: 0.3356 - accuracy: 0.8811 - val_loss: 0.3315 - val_accuracy: 0.8617\n",
      "Epoch 154/200\n",
      "117/117 [==============================] - 1s 7ms/step - loss: 0.3361 - accuracy: 0.8811 - val_loss: 0.3319 - val_accuracy: 0.8633\n",
      "Epoch 155/200\n",
      "117/117 [==============================] - 1s 7ms/step - loss: 0.3343 - accuracy: 0.8809 - val_loss: 0.3277 - val_accuracy: 0.8617\n",
      "Epoch 156/200\n",
      "117/117 [==============================] - 1s 6ms/step - loss: 0.3358 - accuracy: 0.8807 - val_loss: 0.3274 - val_accuracy: 0.8583\n",
      "Epoch 157/200\n",
      "117/117 [==============================] - 1s 6ms/step - loss: 0.3332 - accuracy: 0.8824 - val_loss: 0.3268 - val_accuracy: 0.8633\n",
      "Epoch 158/200\n",
      "117/117 [==============================] - 1s 7ms/step - loss: 0.3324 - accuracy: 0.8813 - val_loss: 0.3273 - val_accuracy: 0.8650\n",
      "Epoch 159/200\n",
      "117/117 [==============================] - 1s 7ms/step - loss: 0.3318 - accuracy: 0.8816 - val_loss: 0.3308 - val_accuracy: 0.8650\n",
      "Epoch 160/200\n",
      "117/117 [==============================] - 1s 7ms/step - loss: 0.3324 - accuracy: 0.8816 - val_loss: 0.3253 - val_accuracy: 0.8583\n",
      "Epoch 161/200\n",
      "117/117 [==============================] - 1s 7ms/step - loss: 0.3325 - accuracy: 0.8823 - val_loss: 0.3311 - val_accuracy: 0.8633\n",
      "Epoch 162/200\n",
      "117/117 [==============================] - 1s 6ms/step - loss: 0.3320 - accuracy: 0.8818 - val_loss: 0.3284 - val_accuracy: 0.8650\n",
      "Epoch 163/200\n",
      "117/117 [==============================] - 1s 6ms/step - loss: 0.3307 - accuracy: 0.8823 - val_loss: 0.3267 - val_accuracy: 0.8633\n",
      "Epoch 164/200\n",
      "117/117 [==============================] - 1s 7ms/step - loss: 0.3305 - accuracy: 0.8829 - val_loss: 0.3266 - val_accuracy: 0.8667\n",
      "Epoch 165/200\n",
      "117/117 [==============================] - 1s 7ms/step - loss: 0.3305 - accuracy: 0.8815 - val_loss: 0.3271 - val_accuracy: 0.8650\n",
      "Epoch 166/200\n",
      "117/117 [==============================] - 1s 7ms/step - loss: 0.3301 - accuracy: 0.8827 - val_loss: 0.3253 - val_accuracy: 0.8650\n",
      "Epoch 167/200\n",
      "117/117 [==============================] - 1s 6ms/step - loss: 0.3295 - accuracy: 0.8830 - val_loss: 0.3251 - val_accuracy: 0.8633\n",
      "Epoch 168/200\n",
      "117/117 [==============================] - 1s 6ms/step - loss: 0.3278 - accuracy: 0.8833 - val_loss: 0.3260 - val_accuracy: 0.8667\n",
      "Epoch 169/200\n",
      "117/117 [==============================] - 1s 6ms/step - loss: 0.3290 - accuracy: 0.8836 - val_loss: 0.3212 - val_accuracy: 0.8633\n",
      "Epoch 170/200\n",
      "117/117 [==============================] - 1s 7ms/step - loss: 0.3281 - accuracy: 0.8843 - val_loss: 0.3218 - val_accuracy: 0.8583\n",
      "Epoch 171/200\n",
      "117/117 [==============================] - 1s 6ms/step - loss: 0.3268 - accuracy: 0.8833 - val_loss: 0.3228 - val_accuracy: 0.8650\n",
      "Epoch 172/200\n",
      "117/117 [==============================] - 1s 6ms/step - loss: 0.3267 - accuracy: 0.8833 - val_loss: 0.3239 - val_accuracy: 0.8683\n",
      "Epoch 173/200\n",
      "117/117 [==============================] - 1s 6ms/step - loss: 0.3271 - accuracy: 0.8832 - val_loss: 0.3221 - val_accuracy: 0.8617\n",
      "Epoch 174/200\n",
      "117/117 [==============================] - 1s 7ms/step - loss: 0.3267 - accuracy: 0.8832 - val_loss: 0.3231 - val_accuracy: 0.8617\n",
      "Epoch 175/200\n",
      "117/117 [==============================] - 1s 7ms/step - loss: 0.3261 - accuracy: 0.8842 - val_loss: 0.3208 - val_accuracy: 0.8700\n",
      "Epoch 176/200\n",
      "117/117 [==============================] - 1s 6ms/step - loss: 0.3258 - accuracy: 0.8833 - val_loss: 0.3223 - val_accuracy: 0.8600\n",
      "Epoch 177/200\n",
      "117/117 [==============================] - 1s 8ms/step - loss: 0.3251 - accuracy: 0.8824 - val_loss: 0.3189 - val_accuracy: 0.8633\n",
      "Epoch 178/200\n",
      "117/117 [==============================] - 1s 7ms/step - loss: 0.3254 - accuracy: 0.8841 - val_loss: 0.3192 - val_accuracy: 0.8717\n",
      "Epoch 179/200\n",
      "117/117 [==============================] - 1s 7ms/step - loss: 0.3238 - accuracy: 0.8844 - val_loss: 0.3193 - val_accuracy: 0.8667\n",
      "Epoch 180/200\n",
      "117/117 [==============================] - 1s 6ms/step - loss: 0.3228 - accuracy: 0.8849 - val_loss: 0.3204 - val_accuracy: 0.8650\n",
      "Epoch 181/200\n",
      "117/117 [==============================] - 1s 6ms/step - loss: 0.3225 - accuracy: 0.8847 - val_loss: 0.3207 - val_accuracy: 0.8700\n",
      "Epoch 182/200\n",
      "117/117 [==============================] - 1s 7ms/step - loss: 0.3220 - accuracy: 0.8851 - val_loss: 0.3181 - val_accuracy: 0.8633\n",
      "Epoch 183/200\n",
      "117/117 [==============================] - 1s 7ms/step - loss: 0.3214 - accuracy: 0.8857 - val_loss: 0.3209 - val_accuracy: 0.8650\n",
      "Epoch 184/200\n",
      "117/117 [==============================] - 1s 6ms/step - loss: 0.3234 - accuracy: 0.8845 - val_loss: 0.3204 - val_accuracy: 0.8683\n",
      "Epoch 185/200\n",
      "117/117 [==============================] - 1s 7ms/step - loss: 0.3207 - accuracy: 0.8857 - val_loss: 0.3213 - val_accuracy: 0.8783\n",
      "Epoch 186/200\n",
      "117/117 [==============================] - 1s 7ms/step - loss: 0.3201 - accuracy: 0.8866 - val_loss: 0.3225 - val_accuracy: 0.8717\n",
      "Epoch 187/200\n",
      "117/117 [==============================] - 1s 7ms/step - loss: 0.3227 - accuracy: 0.8855 - val_loss: 0.3195 - val_accuracy: 0.8650\n",
      "Epoch 188/200\n",
      "117/117 [==============================] - 1s 10ms/step - loss: 0.3204 - accuracy: 0.8859 - val_loss: 0.3221 - val_accuracy: 0.8650\n",
      "Epoch 189/200\n",
      "117/117 [==============================] - 1s 7ms/step - loss: 0.3186 - accuracy: 0.8869 - val_loss: 0.3174 - val_accuracy: 0.8600\n",
      "Epoch 190/200\n",
      "117/117 [==============================] - 1s 6ms/step - loss: 0.3195 - accuracy: 0.8862 - val_loss: 0.3171 - val_accuracy: 0.8683\n",
      "Epoch 191/200\n",
      "117/117 [==============================] - 1s 6ms/step - loss: 0.3195 - accuracy: 0.8866 - val_loss: 0.3187 - val_accuracy: 0.8700\n",
      "Epoch 192/200\n",
      "117/117 [==============================] - 1s 7ms/step - loss: 0.3199 - accuracy: 0.8855 - val_loss: 0.3180 - val_accuracy: 0.8633\n",
      "Epoch 193/200\n",
      "117/117 [==============================] - 1s 8ms/step - loss: 0.3171 - accuracy: 0.8873 - val_loss: 0.3188 - val_accuracy: 0.8667\n",
      "Epoch 194/200\n",
      "117/117 [==============================] - 1s 8ms/step - loss: 0.3171 - accuracy: 0.8864 - val_loss: 0.3165 - val_accuracy: 0.8700\n",
      "Epoch 195/200\n",
      "117/117 [==============================] - 1s 7ms/step - loss: 0.3182 - accuracy: 0.8876 - val_loss: 0.3139 - val_accuracy: 0.8667\n",
      "Epoch 196/200\n",
      "117/117 [==============================] - 1s 7ms/step - loss: 0.3148 - accuracy: 0.8886 - val_loss: 0.3161 - val_accuracy: 0.8633\n",
      "Epoch 197/200\n",
      "117/117 [==============================] - 1s 6ms/step - loss: 0.3165 - accuracy: 0.8871 - val_loss: 0.3152 - val_accuracy: 0.8700\n",
      "Epoch 198/200\n",
      "117/117 [==============================] - 1s 7ms/step - loss: 0.3134 - accuracy: 0.8895 - val_loss: 0.3161 - val_accuracy: 0.8733\n",
      "Epoch 199/200\n",
      "117/117 [==============================] - 1s 6ms/step - loss: 0.3143 - accuracy: 0.8872 - val_loss: 0.3154 - val_accuracy: 0.8667\n",
      "Epoch 200/200\n",
      "117/117 [==============================] - 1s 6ms/step - loss: 0.3143 - accuracy: 0.8874 - val_loss: 0.3145 - val_accuracy: 0.8717\n"
     ]
    }
   ],
   "execution_count": 33
  },
  {
   "cell_type": "code",
   "id": "0445845f",
   "metadata": {
    "ExecuteTime": {
     "end_time": "2024-05-24T08:48:06.712780Z",
     "start_time": "2024-05-24T08:48:06.572850Z"
    }
   },
   "source": [
    "# Q. loss 값의 그래프를 그려봅시다.\n",
    "y_vloss = history.history['val_loss']\n",
    "y_loss = history.history['loss']\n",
    "x_len = np.arange(len(y_loss))\n",
    "\n",
    "plt.plot(x_len, y_vloss, marker='.', c='red', label=\"Validation-set Loss\")\n",
    "plt.plot(x_len, y_loss, marker='.', c='blue', label=\"Train-set Loss\")\n",
    "plt.legend(loc='upper right')\n",
    "plt.grid()\n",
    "plt.ylim(0,1)\n",
    "plt.title('Loss graph with dropout layer') \n",
    "plt.xlabel('epoch')\n",
    "plt.ylabel('loss')\n",
    "plt.show()"
   ],
   "outputs": [
    {
     "data": {
      "text/plain": [
       "<Figure size 640x480 with 1 Axes>"
      ],
      "image/png": "[encoded data removed]"
     },
     "metadata": {},
     "output_type": "display_data"
    }
   ],
   "execution_count": 34
  },
  {
   "cell_type": "code",
   "id": "014e5992",
   "metadata": {
    "ExecuteTime": {
     "end_time": "2024-05-24T08:48:06.826057Z",
     "start_time": "2024-05-24T08:48:06.713542Z"
    }
   },
   "source": [
    "# Q. accuracy 값의 그래프를 그려봅시다. \n",
    "y_vacc = history.history['val_accuracy']\n",
    "y_acc = history.history['accuracy']\n",
    "x_len = np.arange(len(y_acc))\n",
    "\n",
    "plt.plot(x_len, y_vacc, marker='.', c='red', label=\"Validation-set accuracy\")\n",
    "plt.plot(x_len, y_acc, marker='.', c='blue', label=\"Train-set accuracy\")\n",
    "plt.legend(loc='lower right')\n",
    "plt.grid()\n",
    "plt.ylim(0.5,1) \n",
    "plt.title('Accuracy graph with dropout layer') \n",
    "plt.xlabel('epoch')\n",
    "plt.ylabel('accuracy')\n",
    "plt.show()"
   ],
   "outputs": [
    {
     "data": {
      "text/plain": [
       "<Figure size 640x480 with 1 Axes>"
      ],
      "image/png": "[encoded data removed]"
     },
     "metadata": {},
     "output_type": "display_data"
    }
   ],
   "execution_count": 35
  },
  {
   "cell_type": "markdown",
   "id": "4e6badfd",
   "metadata": {},
   "source": [
    "좋은 데이터를 가지고 오버피팅을 만드는 환경이 조금 어렵긴 했지만, dropout layer 하나만으로도 오버피팅을 막고, 두 데이터 셋이 정확도도 비슷하게 나옴을 확인하였습니다. 사실 더 복잡한 네트워크나, 더 어려운 데이터의 경우에는 이러한 오버피팅이 더 자주 있는 일이므로, dropout layer를 추가하는 경우가 많습니다. 하지만 이 또한 확률 값이 파라미터로 들어가므로, 어떠한 값을 선택하느냐는 데이터와 네트워크에 따라 달린 일입니다.\n",
    "\n"
   ]
  },
  {
   "cell_type": "markdown",
   "id": "8b43b9aa",
   "metadata": {},
   "source": [
    "## Batch Normalization\n",
    "\n",
    "    논문 제목 : Batch Normalization: Accelerating Deep Network Training by Reducing Internal Covariate Shift\n",
    "    논문 발표 시점 : 2015년\n",
    "    논문 링크 : 논문 PDF\n",
    "        \n",
    "(__batch normalization__과 internal covariate shift가 연관성이 없다는 반론도 있기 때문에, \"이런 이야기도 있구나~\" 하고 받아들이시면 됩니다.)\n",
    "\n",
    "딥러닝에서 경사 하강법(gradient descent)으로 모델의 가중치를 업데이트할 때, 데이터셋 전체를 본 다음 업데이트하는 'Batch Gradient Descent'와 데이터 하나를 관찰할 때마다 업데이트하는 'Stochastic Gradient Descent' 방법이 있었죠. 이 둘의 절충안이 바로 데이터셋을 여러 개의 mini-batch로 쪼갠 다음 하나의 batch를 처리할 때마다 가중치를 업데이트하는 'Mini-batch Gradient Descent'입니다. 데이터셋을 mini-batch로 쪼개는 방법은 학습 속도와 안정성 모두를 잡았지만, 딥러닝 모델 안에서 데이터가 처리되면서 여러 개의 mini-batch들 사이에 데이터 분포의 차이가 생길 수 있다는 문제가 있었습니다. (이것이 internal covariate shift를 대략적으로 설명한 부분입니다.)\n",
    "\n",
    "데이터 분포의 차이가 존재한다면 gradient 값의 차이도 있을 것이고, 같은 learning rate 값을 가지고 있더라도 gradient vanishing이나 gradient explode 문제가 생길 수 있습니다. batch normalization 기법은 각 mini-batch마다 평균과 분산을 계산하여 정규화(normalization)를 수행하고, `scale and shift` 변환을 적용하여 mini-batch들이 비슷한 데이터 분포를 가지도록 합니다.\n",
    "\n",
    "논문에서 설명한 알고리즘을 아래에 적어보도록 하겠습니다.\n",
    "\n",
    "Input: Values of x over a mini-batch: \n",
    "$B = \\{ x_i, ..., x_m \\}$  Parameters to be learned: $\\gamma,\\beta$\n",
    "\n",
    "Output: \n",
    "$\\{y_i = BN_{\\gamma,\\beta} (x_i)\\}$\n",
    "\n",
    "1. mini-batch mean :\n",
    "$$\\mu_B \\leftarrow \\frac{1}{m}\\sum_{i=1}^{m} x_i$$\n",
    "\n",
    "2. mini-batch variance :\n",
    "$$ \\sigma_B^2 \\leftarrow \\frac{1}{m}\\sum_{i=1}^{m} (x_i - \\mu_B)^2 $$\n",
    "\n",
    "3. normalize :\n",
    "$$ \\hat x_i \\leftarrow \\frac{x_i - \\mu_B}{sqrt(\\sigma_B^2 + \\epsilon)} $$\n",
    "\n",
    "4. scale and shift :\n",
    "$$ y_i \\leftarrow \\gamma \\hat{x_i} + \\beta \\equiv BN_{\\gamma, \\beta}(x_i) $$\n",
    "\n",
    "위 수식을 풀어서 설명해 드리면 batch normalization은 mini-batch의 평균과 분산을 구해서 입력 데이터를 정규화(normalize)하고, 이 값에 scale($\\gamma$)과 shift($\\beta$)를 추가한 것입니다. 결국 입력 데이터($x_i$)는 batch normalization을 거쳐 $y_i(=\\gamma \\hat{x_i} + \\beta)$이 됩니다.\n",
    "\n",
    "- 중간에 $\\epsilon$이 붙은 이유는 분산($\\sigma_B^2$)이 0일 경우 나눗셈 오류가 발생하는 것을 방지하기 위함입니다.\n",
    "- $\\gamma$와 $\\beta$ 값은 학습 파라미터로 모델 학습이 진행되면서 가중치와 함께 업데이트됩니다."
   ]
  },
  {
   "cell_type": "markdown",
   "id": "208d1732",
   "metadata": {},
   "source": [
    "### 실습\n",
    "아무것도 하지 않은 fully connected layer와 batch normalization layer를 추가한 두 실험을 비교하고자 합니다. 중점적으로 봐야 할 내용은 정확도 비교와 속도의 차이입니다."
   ]
  },
  {
   "cell_type": "code",
   "id": "828c0ef3",
   "metadata": {
    "ExecuteTime": {
     "end_time": "2024-05-24T08:48:06.830328Z",
     "start_time": "2024-05-24T08:48:06.826922Z"
    }
   },
   "source": [
    "import tensorflow as tf\n",
    "from tensorflow import keras\n",
    "import numpy as np\n",
    "import matplotlib.pyplot as plt\n",
    "\n",
    "fashion_mnist = keras.datasets.fashion_mnist\n",
    "print('=3')"
   ],
   "outputs": [
    {
     "name": "stdout",
     "output_type": "stream",
     "text": [
      "=3\n"
     ]
    }
   ],
   "execution_count": 36
  },
  {
   "cell_type": "code",
   "id": "952ded43",
   "metadata": {
    "ExecuteTime": {
     "end_time": "2024-05-24T08:48:07.304286Z",
     "start_time": "2024-05-24T08:48:06.830929Z"
    }
   },
   "source": [
    "(train_images, train_labels), (test_images, test_labels) = fashion_mnist.load_data()\n",
    "class_names = ['T-shirt/top', 'Trouser', 'Pullover', 'Dress', 'Coat',\n",
    "               'Sandal', 'Shirt', 'Sneaker', 'Bag', 'Ankle boot']\n",
    "\n",
    "train_images = train_images / 255.0\n",
    "test_images = test_images / 255.0"
   ],
   "outputs": [],
   "execution_count": 37
  },
  {
   "cell_type": "code",
   "id": "881cdc40",
   "metadata": {
    "ExecuteTime": {
     "end_time": "2024-05-24T08:48:13.608045Z",
     "start_time": "2024-05-24T08:48:07.306851Z"
    }
   },
   "source": [
    "from sklearn.model_selection import train_test_split\n",
    "\n",
    "X_train, X_valid, y_train, y_valid = train_test_split(train_images, train_labels, test_size=0.3, random_state=101)\n",
    "\n",
    "model = keras.Sequential([\n",
    "    keras.layers.Flatten(input_shape=(28, 28)),\n",
    "    keras.layers.Dense(128, activation='relu'),\n",
    "    keras.layers.Dense(10, activation='softmax')\n",
    "])\n",
    "\n",
    "model.compile(optimizer='adam',loss='sparse_categorical_crossentropy',\n",
    "              metrics=['accuracy'])\n",
    "\n",
    "history= model.fit(X_train, y_train, epochs=20, batch_size=2048, validation_data=(X_valid, y_valid))"
   ],
   "outputs": [
    {
     "name": "stdout",
     "output_type": "stream",
     "text": [
      "Epoch 1/20\n"
     ]
    },
    {
     "name": "stderr",
     "output_type": "stream",
     "text": [
      "2024-05-24 17:48:08.187312: I tensorflow/core/grappler/optimizers/custom_graph_optimizer_registry.cc:113] Plugin optimizer for device_type GPU is enabled.\n"
     ]
    },
    {
     "name": "stdout",
     "output_type": "stream",
     "text": [
      "21/21 [==============================] - 1s 28ms/step - loss: 1.2726 - accuracy: 0.5998 - val_loss: 0.7756 - val_accuracy: 0.7221\n",
      "Epoch 2/20\n",
      " 8/21 [==========>...................] - ETA: 0s - loss: 0.7135 - accuracy: 0.7556"
     ]
    },
    {
     "name": "stderr",
     "output_type": "stream",
     "text": [
      "2024-05-24 17:48:08.853187: I tensorflow/core/grappler/optimizers/custom_graph_optimizer_registry.cc:113] Plugin optimizer for device_type GPU is enabled.\n"
     ]
    },
    {
     "name": "stdout",
     "output_type": "stream",
     "text": [
      "21/21 [==============================] - 0s 10ms/step - loss: 0.6711 - accuracy: 0.7734 - val_loss: 0.6076 - val_accuracy: 0.7996\n",
      "Epoch 3/20\n",
      "21/21 [==============================] - 0s 10ms/step - loss: 0.5684 - accuracy: 0.8099 - val_loss: 0.5456 - val_accuracy: 0.8187\n",
      "Epoch 4/20\n",
      "21/21 [==============================] - 0s 10ms/step - loss: 0.5175 - accuracy: 0.8265 - val_loss: 0.5117 - val_accuracy: 0.8248\n",
      "Epoch 5/20\n",
      "21/21 [==============================] - 0s 11ms/step - loss: 0.4872 - accuracy: 0.8346 - val_loss: 0.4848 - val_accuracy: 0.8335\n",
      "Epoch 6/20\n",
      "21/21 [==============================] - 0s 13ms/step - loss: 0.4650 - accuracy: 0.8411 - val_loss: 0.4739 - val_accuracy: 0.8354\n",
      "Epoch 7/20\n",
      "21/21 [==============================] - 0s 11ms/step - loss: 0.4488 - accuracy: 0.8481 - val_loss: 0.4524 - val_accuracy: 0.8438\n",
      "Epoch 8/20\n",
      "21/21 [==============================] - 0s 10ms/step - loss: 0.4333 - accuracy: 0.8521 - val_loss: 0.4380 - val_accuracy: 0.8484\n",
      "Epoch 9/20\n",
      "21/21 [==============================] - 0s 11ms/step - loss: 0.4178 - accuracy: 0.8571 - val_loss: 0.4303 - val_accuracy: 0.8513\n",
      "Epoch 10/20\n",
      "21/21 [==============================] - 0s 11ms/step - loss: 0.4087 - accuracy: 0.8600 - val_loss: 0.4230 - val_accuracy: 0.8531\n",
      "Epoch 11/20\n",
      "21/21 [==============================] - 0s 12ms/step - loss: 0.3985 - accuracy: 0.8623 - val_loss: 0.4158 - val_accuracy: 0.8583\n",
      "Epoch 12/20\n",
      "21/21 [==============================] - 0s 12ms/step - loss: 0.3908 - accuracy: 0.8653 - val_loss: 0.4077 - val_accuracy: 0.8584\n",
      "Epoch 13/20\n",
      "21/21 [==============================] - 0s 13ms/step - loss: 0.3812 - accuracy: 0.8691 - val_loss: 0.3985 - val_accuracy: 0.8627\n",
      "Epoch 14/20\n",
      "21/21 [==============================] - 0s 13ms/step - loss: 0.3742 - accuracy: 0.8708 - val_loss: 0.4029 - val_accuracy: 0.8589\n",
      "Epoch 15/20\n",
      "21/21 [==============================] - 0s 14ms/step - loss: 0.3672 - accuracy: 0.8731 - val_loss: 0.3927 - val_accuracy: 0.8627\n",
      "Epoch 16/20\n",
      "21/21 [==============================] - 0s 12ms/step - loss: 0.3617 - accuracy: 0.8759 - val_loss: 0.3855 - val_accuracy: 0.8663\n",
      "Epoch 17/20\n",
      "21/21 [==============================] - 0s 12ms/step - loss: 0.3561 - accuracy: 0.8767 - val_loss: 0.3848 - val_accuracy: 0.8652\n",
      "Epoch 18/20\n",
      "21/21 [==============================] - 0s 11ms/step - loss: 0.3501 - accuracy: 0.8793 - val_loss: 0.3793 - val_accuracy: 0.8675\n",
      "Epoch 19/20\n",
      "21/21 [==============================] - 0s 12ms/step - loss: 0.3446 - accuracy: 0.8816 - val_loss: 0.3789 - val_accuracy: 0.8684\n",
      "Epoch 20/20\n",
      "21/21 [==============================] - 0s 12ms/step - loss: 0.3407 - accuracy: 0.8822 - val_loss: 0.3755 - val_accuracy: 0.8674\n"
     ]
    }
   ],
   "execution_count": 38
  },
  {
   "cell_type": "code",
   "id": "369a5858",
   "metadata": {
    "ExecuteTime": {
     "end_time": "2024-05-24T08:48:13.716759Z",
     "start_time": "2024-05-24T08:48:13.608931Z"
    }
   },
   "source": [
    "# loss 값을 plot 해보겠습니다. \n",
    "y_vloss = history.history['val_loss']\n",
    "y_loss = history.history['loss']\n",
    "x_len = np.arange(len(y_loss))\n",
    "\n",
    "plt.plot(x_len, y_vloss, marker='.', c='red', label=\"Validation-set Loss\")\n",
    "plt.plot(x_len, y_loss, marker='.', c='blue', label=\"Train-set Loss\")\n",
    "plt.legend(loc='upper right')\n",
    "plt.grid()\n",
    "plt.ylim(0,1)\n",
    "plt.title('Loss graph without batch normalization') \n",
    "plt.xlabel('epoch')\n",
    "plt.ylabel('loss')\n",
    "plt.show()"
   ],
   "outputs": [
    {
     "data": {
      "text/plain": [
       "<Figure size 640x480 with 1 Axes>"
      ],
      "image/png": "[encoded data removed]"
     },
     "metadata": {},
     "output_type": "display_data"
    }
   ],
   "execution_count": 39
  },
  {
   "cell_type": "code",
   "id": "884dc6d1",
   "metadata": {
    "ExecuteTime": {
     "end_time": "2024-05-24T08:48:13.835155Z",
     "start_time": "2024-05-24T08:48:13.717746Z"
    }
   },
   "source": [
    "# accuracy 값을 plot 해보겠습니다. \n",
    "y_vacc = history.history['val_accuracy']\n",
    "y_acc = history.history['accuracy']\n",
    "x_len = np.arange(len(y_acc))\n",
    "\n",
    "plt.plot(x_len, y_vacc, marker='.', c='red', label=\"Validation-set accuracy\")\n",
    "plt.plot(x_len, y_acc, marker='.', c='blue', label=\"Train-set accuracy\")\n",
    "plt.legend(loc='lower right')\n",
    "plt.grid()\n",
    "plt.ylim(0.5,1)\n",
    "plt.title('Accuracy graph without batch normalization') \n",
    "plt.xlabel('epoch')\n",
    "plt.ylabel('accuracy')\n",
    "plt.show()"
   ],
   "outputs": [
    {
     "data": {
      "text/plain": [
       "<Figure size 640x480 with 1 Axes>"
      ],
      "image/png": "[encoded data removed]"
     },
     "metadata": {},
     "output_type": "display_data"
    }
   ],
   "execution_count": 40
  },
  {
   "cell_type": "markdown",
   "id": "617a4879",
   "metadata": {},
   "source": [
    "아래는 BatchNormalization layer를 추가한 실습입니다."
   ]
  },
  {
   "cell_type": "code",
   "id": "4f93954b",
   "metadata": {
    "ExecuteTime": {
     "end_time": "2024-05-24T08:48:21.321582Z",
     "start_time": "2024-05-24T08:48:13.835948Z"
    }
   },
   "source": [
    "# Q. 두 개의 dense layer 사이에 batch normalization layer를 추가하는 코드입니다.\n",
    "\n",
    "model = keras.Sequential([\n",
    "    keras.layers.Flatten(input_shape=(28, 28)),\n",
    "    keras.layers.Dense(128, activation='relu'),\n",
    "    # 여기에 batch normalization layer를 추가해보았습니다. 나머지 layer는 위의 실습과 같습니다.\n",
    "    keras.layers.BatchNormalization(),\n",
    "    keras.layers.Dense(10, activation='softmax')\n",
    "])\n",
    "\n",
    "model.compile(optimizer='adam',loss='sparse_categorical_crossentropy',\n",
    "              metrics=['accuracy'])\n",
    "\n",
    "history= model.fit(X_train, y_train, epochs=20, batch_size=2048, validation_data=(X_valid, y_valid))"
   ],
   "outputs": [
    {
     "name": "stdout",
     "output_type": "stream",
     "text": [
      "Epoch 1/20\n"
     ]
    },
    {
     "name": "stderr",
     "output_type": "stream",
     "text": [
      "2024-05-24 17:48:14.250200: I tensorflow/core/grappler/optimizers/custom_graph_optimizer_registry.cc:113] Plugin optimizer for device_type GPU is enabled.\n"
     ]
    },
    {
     "name": "stdout",
     "output_type": "stream",
     "text": [
      "21/21 [==============================] - ETA: 0s - loss: 0.9536 - accuracy: 0.6869"
     ]
    },
    {
     "name": "stderr",
     "output_type": "stream",
     "text": [
      "2024-05-24 17:48:15.700413: I tensorflow/core/grappler/optimizers/custom_graph_optimizer_registry.cc:113] Plugin optimizer for device_type GPU is enabled.\n"
     ]
    },
    {
     "name": "stdout",
     "output_type": "stream",
     "text": [
      "21/21 [==============================] - 2s 53ms/step - loss: 0.9536 - accuracy: 0.6869 - val_loss: 1.0499 - val_accuracy: 0.6715\n",
      "Epoch 2/20\n",
      "21/21 [==============================] - 1s 25ms/step - loss: 0.5280 - accuracy: 0.8209 - val_loss: 0.8400 - val_accuracy: 0.7554\n",
      "Epoch 3/20\n",
      "21/21 [==============================] - 0s 15ms/step - loss: 0.4591 - accuracy: 0.8419 - val_loss: 0.7538 - val_accuracy: 0.7914\n",
      "Epoch 4/20\n",
      "21/21 [==============================] - 0s 13ms/step - loss: 0.4193 - accuracy: 0.8552 - val_loss: 0.6943 - val_accuracy: 0.8164\n",
      "Epoch 5/20\n",
      "21/21 [==============================] - 0s 14ms/step - loss: 0.3885 - accuracy: 0.8654 - val_loss: 0.6304 - val_accuracy: 0.8311\n",
      "Epoch 6/20\n",
      "21/21 [==============================] - 0s 14ms/step - loss: 0.3668 - accuracy: 0.8734 - val_loss: 0.5976 - val_accuracy: 0.8423\n",
      "Epoch 7/20\n",
      "21/21 [==============================] - 0s 13ms/step - loss: 0.3481 - accuracy: 0.8792 - val_loss: 0.5570 - val_accuracy: 0.8463\n",
      "Epoch 8/20\n",
      "21/21 [==============================] - 0s 12ms/step - loss: 0.3323 - accuracy: 0.8842 - val_loss: 0.5202 - val_accuracy: 0.8593\n",
      "Epoch 9/20\n",
      "21/21 [==============================] - 0s 16ms/step - loss: 0.3176 - accuracy: 0.8888 - val_loss: 0.5049 - val_accuracy: 0.8562\n",
      "Epoch 10/20\n",
      "21/21 [==============================] - 0s 13ms/step - loss: 0.3063 - accuracy: 0.8922 - val_loss: 0.4689 - val_accuracy: 0.8633\n",
      "Epoch 11/20\n",
      "21/21 [==============================] - 0s 12ms/step - loss: 0.2942 - accuracy: 0.8976 - val_loss: 0.4450 - val_accuracy: 0.8658\n",
      "Epoch 12/20\n",
      "21/21 [==============================] - 0s 11ms/step - loss: 0.2834 - accuracy: 0.9001 - val_loss: 0.4433 - val_accuracy: 0.8571\n",
      "Epoch 13/20\n",
      "21/21 [==============================] - 0s 15ms/step - loss: 0.2749 - accuracy: 0.9024 - val_loss: 0.4010 - val_accuracy: 0.8752\n",
      "Epoch 14/20\n",
      "21/21 [==============================] - 0s 12ms/step - loss: 0.2659 - accuracy: 0.9059 - val_loss: 0.3969 - val_accuracy: 0.8733\n",
      "Epoch 15/20\n",
      "21/21 [==============================] - 0s 12ms/step - loss: 0.2569 - accuracy: 0.9086 - val_loss: 0.4079 - val_accuracy: 0.8604\n",
      "Epoch 16/20\n",
      "21/21 [==============================] - 0s 12ms/step - loss: 0.2490 - accuracy: 0.9115 - val_loss: 0.3811 - val_accuracy: 0.8742\n",
      "Epoch 17/20\n",
      "21/21 [==============================] - 0s 12ms/step - loss: 0.2406 - accuracy: 0.9144 - val_loss: 0.4098 - val_accuracy: 0.8517\n",
      "Epoch 18/20\n",
      "21/21 [==============================] - 0s 12ms/step - loss: 0.2354 - accuracy: 0.9165 - val_loss: 0.3723 - val_accuracy: 0.8723\n",
      "Epoch 19/20\n",
      "21/21 [==============================] - 0s 12ms/step - loss: 0.2269 - accuracy: 0.9203 - val_loss: 0.3467 - val_accuracy: 0.8829\n",
      "Epoch 20/20\n",
      "21/21 [==============================] - 0s 11ms/step - loss: 0.2211 - accuracy: 0.9227 - val_loss: 0.3387 - val_accuracy: 0.8832\n"
     ]
    }
   ],
   "execution_count": 41
  },
  {
   "cell_type": "code",
   "id": "27c156d2",
   "metadata": {
    "ExecuteTime": {
     "end_time": "2024-05-24T08:56:34.556047Z",
     "start_time": "2024-05-24T08:56:34.376380Z"
    }
   },
   "source": [
    "# loss 값을 plot 해보겠습니다. \n",
    "y_vloss = history.history['val_loss']\n",
    "y_loss = history.history['loss']\n",
    "x_len = np.arange(len(y_loss))\n",
    "\n",
    "plt.plot(x_len, y_vloss, marker='.', c='red', label=\"Validation-set Loss\")\n",
    "plt.plot(x_len, y_loss, marker='.', c='blue', label=\"Train-set Loss\")\n",
    "plt.legend(loc='upper right')\n",
    "plt.grid()\n",
    "plt.ylim(0,1)\n",
    "plt.title('Loss graph without batch normalization') \n",
    "plt.xlabel('epoch')\n",
    "plt.ylabel('loss')\n",
    "plt.show()"
   ],
   "outputs": [
    {
     "data": {
      "text/plain": [
       "<Figure size 640x480 with 1 Axes>"
      ],
      "image/png": "[encoded data removed]"
     },
     "metadata": {},
     "output_type": "display_data"
    }
   ],
   "execution_count": 42
  },
  {
   "metadata": {
    "ExecuteTime": {
     "end_time": "2024-05-24T08:57:04.598051Z",
     "start_time": "2024-05-24T08:57:04.467068Z"
    }
   },
   "cell_type": "code",
   "source": [
    "# accuracy 값을 plot 해보겠습니다. \n",
    "y_vacc = history.history['val_accuracy']\n",
    "y_acc = history.history['accuracy']\n",
    "x_len = np.arange(len(y_acc))\n",
    "\n",
    "plt.plot(x_len, y_vacc, marker='.', c='red', label=\"Validation-set accuracy\")\n",
    "plt.plot(x_len, y_acc, marker='.', c='blue', label=\"Train-set accuracy\")\n",
    "plt.legend(loc='lower right')\n",
    "plt.grid()\n",
    "plt.ylim(0.5,1)\n",
    "plt.title('Accuracy graph without batch normalization') \n",
    "plt.xlabel('epoch')\n",
    "plt.ylabel('accuracy')\n",
    "plt.show()"
   ],
   "id": "71552c52ada33dc3",
   "outputs": [
    {
     "data": {
      "text/plain": [
       "<Figure size 640x480 with 1 Axes>"
      ],
      "image/png": "[encoded data removed]"
     },
     "metadata": {},
     "output_type": "display_data"
    }
   ],
   "execution_count": 43
  },
  {
   "metadata": {},
   "cell_type": "markdown",
   "source": [
    "## Q. L1 regularization과 L2 regularization의 공통점과 차이점은 무엇이었나요?\n",
    "[공통점]\n",
    "두 방법 모두 Lp norm 개념을 사용하고 있고, 오버피팅이 발생하지 않도록 모델에 제약 조건을 걸어줍니다.\n",
    "\n",
    "[차이점]\n",
    "L1 regularization(Lasso)은 L1 norm을 사용하며, 일부 coefficient 값을 0으로 보내기 때문에 차원 축소와 비슷한 역할을 합니다.\n",
    "L2 regularization(Ridge)은 L2 norm을 사용하며, 계수를 0으로 보내지는 않지만 제곱 항이 있기 때문에 L1 regularization보다는 수렴 속도가 빠르다는 장점이 있습니다."
   ],
   "id": "1b31b182abe10ce0"
  }
 ],
 "metadata": {
  "kernelspec": {
   "display_name": "Python 3 (ipykernel)",
   "language": "python",
   "name": "python3"
  },
  "language_info": {
   "codemirror_mode": {
    "name": "ipython",
    "version": 3
   },
   "file_extension": ".py",
   "mimetype": "text/x-python",
   "name": "python",
   "nbconvert_exporter": "python",
   "pygments_lexer": "ipython3",
   "version": "3.9.7"
  }
 },
 "nbformat": 4,
 "nbformat_minor": 5
}
