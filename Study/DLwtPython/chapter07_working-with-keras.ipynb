{
 "cells": [
  {
   "cell_type": "markdown",
   "metadata": {
    "colab_type": "text"
   },
   "source": [
    "This is a companion notebook for the book [Deep Learning with Python, Second Edition](https://www.manning.com/books/deep-learning-with-python-second-edition?a_aid=keras&a_bid=76564dff). For readability, it only contains runnable code blocks and section titles, and omits everything else in the book: text paragraphs, figures, and pseudocode.\n\n**If you want to be able to follow what's going on, I recommend reading the notebook side by side with your copy of the book.**\n\nThis notebook was generated for TensorFlow 2.6."
   ]
  },
  {
   "cell_type": "markdown",
   "metadata": {
    "colab_type": "text"
   },
   "source": [
    "# Working with Keras: A deep dive\n",
    "\n",
    "핵심 내용\n",
    "- Sequential 클래스, 함수형 API, Model 서브 클래싱으로 케라스 모델 만들기\n",
    "- 케라스에 내장된 훈련과 평가 루프 사용하기\n",
    "- 케라스 콜백을 사용해서 훈련 커스터마이징하기\n",
    "- 텐서보드를 사용하여 훈련과 평가 지표 모니터링하기\n",
    "- 훈련과 평가 루프를 밑바닥부터 작성하기"
   ]
  },
  {
   "cell_type": "markdown",
   "metadata": {
    "colab_type": "text"
   },
   "source": [
    "## A spectrum of workflows"
   ]
  },
  {
   "cell_type": "markdown",
   "metadata": {
    "colab_type": "text"
   },
   "source": [
    "## Different ways to build Keras models\n",
    "\n",
    "- Sequential Model : 가장 시작하기 쉬운 API\n",
    "- 함수형 API\n",
    "    - 그래프 같은 모델 구조\n",
    "    - 사용성과 유연성 사이의 적절한 중간 지점\n",
    "    - 가장 널리 사용되는 모델 구축 API\n",
    "- Model subclassing\n",
    "    - 모든 것을 밑바닥부터 직접 만들 수 있는 저수준 방법\n",
    "    - 모든 상세한 내용을 완전히 제어하고 싶은 경우에 적합\n",
    "    - 케라스 내장 기능을 사용하지 못하기 때문에 실수 발생 위험"
   ]
  },
  {
   "cell_type": "markdown",
   "metadata": {
    "colab_type": "text"
   },
   "source": [
    "### The Sequential model"
   ]
  },
  {
   "cell_type": "markdown",
   "metadata": {
    "colab_type": "text"
   },
   "source": [
    "**The `Sequential` class**"
   ]
  },
  {
   "cell_type": "code",
   "metadata": {
    "colab_type": "code",
    "ExecuteTime": {
     "end_time": "2024-05-28T02:50:05.616571Z",
     "start_time": "2024-05-28T02:50:02.655505Z"
    }
   },
   "source": [
    "from tensorflow import keras\n",
    "from tensorflow.keras import layers\n",
    "\n",
    "model = keras.Sequential([\n",
    "    layers.Dense(64, activation=\"relu\"),\n",
    "    layers.Dense(10, activation=\"softmax\")\n",
    "])"
   ],
   "outputs": [
    {
     "name": "stdout",
     "output_type": "stream",
     "text": [
      "Metal device set to: Apple M2\n"
     ]
    },
    {
     "name": "stderr",
     "output_type": "stream",
     "text": [
      "2024-05-28 11:50:05.610462: I tensorflow/core/common_runtime/pluggable_device/pluggable_device_factory.cc:305] Could not identify NUMA node of platform GPU ID 0, defaulting to 0. Your kernel may not have been built with NUMA support.\n",
      "2024-05-28 11:50:05.610547: I tensorflow/core/common_runtime/pluggable_device/pluggable_device_factory.cc:271] Created TensorFlow device (/job:localhost/replica:0/task:0/device:GPU:0 with 0 MB memory) -> physical PluggableDevice (device: 0, name: METAL, pci bus id: <undefined>)\n"
     ]
    }
   ],
   "execution_count": 1
  },
  {
   "cell_type": "markdown",
   "metadata": {
    "colab_type": "text"
   },
   "source": [
    "**Incrementally building a Sequential model**"
   ]
  },
  {
   "cell_type": "code",
   "metadata": {
    "colab_type": "code",
    "ExecuteTime": {
     "end_time": "2024-05-28T02:50:05.623509Z",
     "start_time": "2024-05-28T02:50:05.618935Z"
    }
   },
   "source": [
    "model = keras.Sequential()\n",
    "model.add(layers.Dense(64, activation=\"relu\"))\n",
    "model.add(layers.Dense(10, activation=\"softmax\"))"
   ],
   "outputs": [],
   "execution_count": 2
  },
  {
   "cell_type": "markdown",
   "metadata": {
    "colab_type": "text"
   },
   "source": [
    "**Calling a model for the first time to build it**"
   ]
  },
  {
   "metadata": {},
   "cell_type": "markdown",
   "source": [
    "- build() 메서드가 호출 전의 모델은 가중치가 없다\n",
    "- 가중치를 만들기 위해 모델을 호출한다"
   ]
  },
  {
   "cell_type": "code",
   "metadata": {
    "colab_type": "code",
    "ExecuteTime": {
     "end_time": "2024-05-28T02:50:05.728950Z",
     "start_time": "2024-05-28T02:50:05.624239Z"
    }
   },
   "source": [
    "model.build(input_shape=(None, 3))\n",
    "model.weights"
   ],
   "outputs": [
    {
     "data": {
      "text/plain": [
       "[<tf.Variable 'dense_2/kernel:0' shape=(3, 64) dtype=float32, numpy=\n",
       " array([[-0.15838352,  0.06596014,  0.02237591, -0.16446003, -0.05720431,\n",
       "          0.01696843, -0.0617813 ,  0.06242421, -0.24874845,  0.19458121,\n",
       "         -0.18112329,  0.08718592,  0.12933055,  0.0768356 ,  0.13019934,\n",
       "         -0.2290363 ,  0.19498739,  0.16505137, -0.24667603, -0.19129565,\n",
       "         -0.09392069,  0.07101279,  0.06583434, -0.00248125, -0.10739301,\n",
       "         -0.03421432,  0.05959138, -0.28507185,  0.07934582,  0.24016386,\n",
       "          0.24314857, -0.17352495, -0.10135338,  0.17626938,  0.12926778,\n",
       "          0.19102812, -0.02107519, -0.19232777, -0.18471992,  0.18587974,\n",
       "          0.02561972,  0.03175488, -0.29152817, -0.11453974, -0.087117  ,\n",
       "          0.04860508,  0.11802456,  0.08848652, -0.1660229 , -0.15778498,\n",
       "         -0.05611503, -0.20514748,  0.08135769,  0.07327187,  0.13507974,\n",
       "         -0.195079  , -0.0443019 ,  0.23297894, -0.27182707,  0.09616292,\n",
       "         -0.13387753,  0.12772718, -0.2817159 , -0.18452843],\n",
       "        [-0.24075027, -0.17874193,  0.02998883,  0.04636812,  0.01819116,\n",
       "          0.13999891, -0.04706639, -0.29162613, -0.2957072 , -0.07564712,\n",
       "          0.13864475, -0.29905954,  0.15317786,  0.03899258,  0.03128192,\n",
       "          0.26783544, -0.1171746 , -0.27643484, -0.1595116 ,  0.12685317,\n",
       "         -0.08132394,  0.2506231 ,  0.00093785, -0.07156461,  0.15282592,\n",
       "          0.09034076, -0.24898191, -0.2366553 , -0.1862056 , -0.05134268,\n",
       "          0.07318684, -0.24398944,  0.03242654, -0.01932716, -0.24100932,\n",
       "          0.15866306,  0.02881551, -0.16299798,  0.19578984, -0.03639776,\n",
       "         -0.23683372,  0.2932939 ,  0.18023017, -0.06713572,  0.15908822,\n",
       "         -0.16206113,  0.07922739,  0.25677663, -0.19509998, -0.17979509,\n",
       "          0.02858627, -0.08577581, -0.19054586, -0.24391474, -0.26301324,\n",
       "         -0.10362172,  0.2981074 ,  0.07275754,  0.06033638,  0.27595466,\n",
       "          0.23302627,  0.16931587,  0.18484363, -0.12702118],\n",
       "        [ 0.2507494 ,  0.00571749,  0.05377811,  0.04274333,  0.10558107,\n",
       "          0.15996864,  0.10743326,  0.29632145,  0.1475716 ,  0.1314005 ,\n",
       "          0.23737264, -0.14096425, -0.11926429,  0.11449593, -0.17141855,\n",
       "         -0.09218574,  0.09746358, -0.05157264,  0.27053982, -0.07302588,\n",
       "         -0.24250028,  0.19558087, -0.17324504,  0.10330424,  0.1404945 ,\n",
       "          0.01989025, -0.01918662,  0.12374634,  0.02785274, -0.25757512,\n",
       "         -0.11597675, -0.07643971, -0.19955856, -0.09946467,  0.19214898,\n",
       "          0.16148919, -0.1549893 , -0.28808635,  0.17554045,  0.2410686 ,\n",
       "         -0.14740093,  0.21165264, -0.00054646,  0.01216045,  0.02335873,\n",
       "          0.13656041,  0.08498284,  0.11120495, -0.28084904,  0.05550244,\n",
       "          0.09160531,  0.04309192, -0.22260983,  0.10912481, -0.25393307,\n",
       "         -0.24702042, -0.25492978, -0.17370301, -0.09003711,  0.14245954,\n",
       "         -0.07641973, -0.27609915, -0.22007906,  0.29879916]],\n",
       "       dtype=float32)>,\n",
       " <tf.Variable 'dense_2/bias:0' shape=(64,) dtype=float32, numpy=\n",
       " array([0., 0., 0., 0., 0., 0., 0., 0., 0., 0., 0., 0., 0., 0., 0., 0., 0.,\n",
       "        0., 0., 0., 0., 0., 0., 0., 0., 0., 0., 0., 0., 0., 0., 0., 0., 0.,\n",
       "        0., 0., 0., 0., 0., 0., 0., 0., 0., 0., 0., 0., 0., 0., 0., 0., 0.,\n",
       "        0., 0., 0., 0., 0., 0., 0., 0., 0., 0., 0., 0., 0.], dtype=float32)>,\n",
       " <tf.Variable 'dense_3/kernel:0' shape=(64, 10) dtype=float32, numpy=\n",
       " array([[-0.10718292,  0.18584967,  0.10532555, -0.2809266 ,  0.16372699,\n",
       "         -0.06227362, -0.11809582,  0.28028783,  0.260888  ,  0.0320245 ],\n",
       "        [-0.19097269, -0.20817477, -0.20940404,  0.01982403,  0.04037818,\n",
       "          0.00552699, -0.00995281, -0.19601706, -0.07385054, -0.0044952 ],\n",
       "        [ 0.03816527, -0.16645843, -0.18096334,  0.28408524, -0.07431573,\n",
       "         -0.06875025,  0.15508008,  0.10371494, -0.05733198,  0.16177714],\n",
       "        [ 0.10182655,  0.1332384 ,  0.02963901, -0.22239617,  0.0847398 ,\n",
       "          0.27852735,  0.18244645,  0.11657763,  0.26075032, -0.27166367],\n",
       "        [ 0.24829218,  0.08617961, -0.10442492, -0.2841121 ,  0.23988208,\n",
       "         -0.06704059,  0.15516475,  0.2364212 ,  0.04277664,  0.16705674],\n",
       "        [-0.04044762, -0.17586589,  0.13966894, -0.04691495,  0.1807298 ,\n",
       "         -0.17018147,  0.08298433, -0.19087052, -0.02937892,  0.0602462 ],\n",
       "        [ 0.18002585, -0.04956581, -0.13480033, -0.17604457,  0.14988312,\n",
       "          0.1902251 , -0.00314516,  0.1062859 , -0.11375146, -0.13252476],\n",
       "        [ 0.1901496 ,  0.07396916, -0.19850817, -0.01683277,  0.11049625,\n",
       "          0.26230422,  0.24951574,  0.01708069, -0.16426419, -0.06032839],\n",
       "        [-0.19102702, -0.0436822 ,  0.09869021, -0.1222088 , -0.04734217,\n",
       "          0.14081177,  0.2268143 ,  0.25726262, -0.22968365,  0.25249037],\n",
       "        [ 0.10961002,  0.27734104,  0.28048137, -0.16856042, -0.13440712,\n",
       "          0.1674475 ,  0.12514439, -0.01226863, -0.16306894,  0.16180938],\n",
       "        [ 0.24606207,  0.03563768, -0.01377964, -0.11080298,  0.02208763,\n",
       "         -0.24843848,  0.07684648,  0.08176404, -0.08986041,  0.19704497],\n",
       "        [-0.16196546, -0.2235344 , -0.20856853,  0.25979164,  0.08443758,\n",
       "          0.03129679, -0.27126518,  0.13715988, -0.08201651, -0.11438636],\n",
       "        [ 0.10823962, -0.16453296, -0.27970323, -0.04298322, -0.23743312,\n",
       "         -0.0526071 ,  0.04362306, -0.00044155, -0.16616318, -0.24284491],\n",
       "        [ 0.21891645, -0.18744668, -0.04391207,  0.2737367 , -0.03611515,\n",
       "         -0.20855597, -0.21742947,  0.20995855, -0.17864214, -0.09197496],\n",
       "        [ 0.12348118, -0.05911896, -0.28268594,  0.23112115,  0.17034298,\n",
       "          0.16706917,  0.24634174,  0.24821731,  0.2300351 , -0.1787841 ],\n",
       "        [-0.00089234,  0.17858797,  0.19154629, -0.25320852, -0.26848307,\n",
       "          0.09428346, -0.10442364, -0.23333493, -0.11156034, -0.28345296],\n",
       "        [ 0.07587078, -0.1966643 ,  0.10006455,  0.2321628 , -0.09245609,\n",
       "         -0.01962817, -0.11175233, -0.03549777,  0.1420005 ,  0.13418418],\n",
       "        [-0.02716038, -0.00546819, -0.17715177,  0.01154664,  0.21281344,\n",
       "         -0.01753065,  0.07934535,  0.08355156,  0.26337287, -0.05120234],\n",
       "        [ 0.20809764,  0.21999457, -0.12645215,  0.21969756, -0.16060653,\n",
       "         -0.11893833, -0.26223037,  0.1786386 ,  0.17881295,  0.01241887],\n",
       "        [-0.21357806,  0.02781883,  0.15693983,  0.06745112, -0.1427369 ,\n",
       "          0.22404972, -0.12288077,  0.11579335, -0.13541806, -0.03233808],\n",
       "        [-0.01909801, -0.25068092, -0.05639023,  0.10986894, -0.21158531,\n",
       "         -0.15507133, -0.09287767,  0.01874423,  0.05207038, -0.16094923],\n",
       "        [ 0.01834199, -0.25542787, -0.26224428, -0.04631773,  0.16481131,\n",
       "         -0.25977916,  0.26741102, -0.00503328, -0.07368129, -0.09376505],\n",
       "        [-0.26902455,  0.2833664 ,  0.01237375, -0.1690991 ,  0.12429491,\n",
       "          0.19512928,  0.25869843,  0.2284368 ,  0.0731191 , -0.23566006],\n",
       "        [ 0.03872156, -0.12093976, -0.1775177 ,  0.09446296,  0.06778175,\n",
       "         -0.25956014, -0.00212637,  0.08399257, -0.08213925, -0.1023161 ],\n",
       "        [-0.09279913,  0.13616973, -0.19071186, -0.04808895,  0.1630933 ,\n",
       "         -0.02335262, -0.04165089,  0.03590328, -0.26131237,  0.14419693],\n",
       "        [-0.18044303, -0.10929997, -0.11114866, -0.2357042 ,  0.14385912,\n",
       "         -0.04319414,  0.16387239, -0.21862051, -0.08397152,  0.00409386],\n",
       "        [-0.19096449,  0.02339995,  0.04360828, -0.18882006,  0.17128149,\n",
       "         -0.08836836, -0.10970785,  0.26770636, -0.03794782,  0.0104197 ],\n",
       "        [ 0.20248798, -0.15967251,  0.148588  , -0.257623  ,  0.00749645,\n",
       "          0.26959655, -0.09486675, -0.26679516, -0.12030798,  0.04975122],\n",
       "        [ 0.14618757,  0.11732581,  0.03353158, -0.05644317,  0.19234806,\n",
       "          0.15098304,  0.0229463 ,  0.01392731,  0.22582796, -0.04249319],\n",
       "        [ 0.10388499, -0.18508807, -0.04765527,  0.18915817, -0.10611625,\n",
       "         -0.19860417, -0.15029031,  0.03674293, -0.03047046, -0.05110364],\n",
       "        [ 0.06169522,  0.0055432 , -0.10795699, -0.23979275,  0.04432619,\n",
       "         -0.19227937,  0.07458672,  0.12841326,  0.19323233,  0.22713593],\n",
       "        [ 0.08531532, -0.23004714, -0.24738416,  0.05871257,  0.01490971,\n",
       "         -0.11809276, -0.07501288,  0.23493657,  0.24555233,  0.17653072],\n",
       "        [ 0.22152081, -0.06715302, -0.01985097, -0.13276862,  0.0421021 ,\n",
       "          0.24521449,  0.2680733 , -0.13383584, -0.00846061,  0.08511525],\n",
       "        [-0.23876476, -0.2646263 ,  0.0930759 ,  0.0524433 ,  0.22690114,\n",
       "         -0.0273115 , -0.2511452 ,  0.02533594, -0.24923265, -0.28200495],\n",
       "        [-0.25348333, -0.10965124, -0.23821452, -0.25109586,  0.05761772,\n",
       "         -0.04202516, -0.11248337,  0.15339264,  0.03593993, -0.28328866],\n",
       "        [ 0.25077346, -0.11031899, -0.05325809,  0.22586283,  0.24619588,\n",
       "         -0.27701008,  0.14026907, -0.09751396,  0.22774407,  0.17598638],\n",
       "        [ 0.14781046, -0.16825423,  0.1754711 ,  0.03675887, -0.16913863,\n",
       "          0.14260119, -0.23593773, -0.00663757, -0.09290048,  0.22548208],\n",
       "        [ 0.10633445,  0.1991559 , -0.22492613, -0.28454128,  0.08775952,\n",
       "          0.09811404,  0.0511665 , -0.00234476,  0.11707661, -0.17344448],\n",
       "        [-0.14377166, -0.10737586, -0.03296584, -0.17848933, -0.00527313,\n",
       "          0.28278032, -0.18537524, -0.17796957, -0.12770836,  0.06674072],\n",
       "        [ 0.27490607, -0.04121417,  0.19721523,  0.02749866,  0.26081797,\n",
       "          0.09159097, -0.16092724,  0.22992077, -0.06107566, -0.19716093],\n",
       "        [ 0.09464809,  0.14061156,  0.21466109,  0.19803703, -0.15541634,\n",
       "         -0.00423208,  0.15277654,  0.17140672,  0.15859741,  0.12809643],\n",
       "        [ 0.22639892,  0.16877514,  0.06903166, -0.27318195,  0.07521334,\n",
       "          0.03433686,  0.0776372 , -0.06497772, -0.0294202 , -0.1389671 ],\n",
       "        [ 0.14097247,  0.02364373,  0.04269814,  0.06919158,  0.19011492,\n",
       "          0.24380949,  0.21669582,  0.237286  , -0.17243077,  0.09334162],\n",
       "        [-0.17812143, -0.09638618, -0.24992688,  0.11353326,  0.11493993,\n",
       "          0.2591705 , -0.17450368,  0.07139981, -0.22957414, -0.17601165],\n",
       "        [ 0.28201208,  0.06100926, -0.18613362,  0.27286252,  0.08421096,\n",
       "          0.21093473, -0.17309825, -0.08876726, -0.18885341,  0.16451985],\n",
       "        [-0.15625314,  0.2582114 ,  0.07282826,  0.07816395,  0.19660613,\n",
       "         -0.03797422, -0.14077389, -0.00569645,  0.27219412, -0.11667097],\n",
       "        [ 0.26041308,  0.0276508 , -0.1289711 ,  0.20057642, -0.01751313,\n",
       "          0.04649106,  0.03575709,  0.1418781 ,  0.08194673,  0.11039191],\n",
       "        [-0.25964174,  0.13279006,  0.0639475 ,  0.2380183 , -0.04455253,\n",
       "          0.09945497, -0.22108638,  0.1765388 , -0.06691262,  0.11705941],\n",
       "        [-0.24502197,  0.20575383,  0.25835332, -0.23758186, -0.24830067,\n",
       "          0.15256852,  0.20231757, -0.12412845,  0.04335627, -0.20331588],\n",
       "        [-0.21868502, -0.0039297 ,  0.08910921, -0.11228661, -0.17925566,\n",
       "          0.04819208, -0.07693394, -0.09732285,  0.26066628, -0.0059016 ],\n",
       "        [ 0.24875799,  0.16016972,  0.14713353,  0.06490535,  0.02718773,\n",
       "          0.1017949 , -0.23290268,  0.05854225, -0.15068291,  0.16876462],\n",
       "        [-0.19027555,  0.15106669,  0.23029974, -0.2323815 , -0.1397753 ,\n",
       "         -0.16126165,  0.04045931,  0.03239095,  0.25892028, -0.2629599 ],\n",
       "        [ 0.09682897,  0.25184038, -0.1083221 , -0.17281346,  0.152165  ,\n",
       "          0.13112164,  0.27892646, -0.09973203, -0.213575  , -0.21834897],\n",
       "        [-0.12367406,  0.02997527,  0.05063975, -0.20652813,  0.09009627,\n",
       "         -0.23232101,  0.01679093,  0.26873943, -0.26479173, -0.255413  ],\n",
       "        [ 0.16617492,  0.25615087,  0.2177504 ,  0.22845516,  0.25833187,\n",
       "          0.19632664, -0.28145143, -0.19846968,  0.14913008, -0.1407762 ],\n",
       "        [ 0.13630068, -0.14125311,  0.23548988, -0.0522369 ,  0.15274504,\n",
       "         -0.25113782,  0.15748778, -0.2032833 , -0.20691977,  0.2359111 ],\n",
       "        [ 0.00755516, -0.23419495,  0.23553964,  0.05152449, -0.08409107,\n",
       "         -0.05318619,  0.10147521,  0.1802243 , -0.2504201 , -0.12738909],\n",
       "        [-0.06155501,  0.02982599, -0.21932182, -0.03626831,  0.03827369,\n",
       "         -0.21065733, -0.16365108, -0.10952468, -0.27878124,  0.14979616],\n",
       "        [-0.19462478,  0.21948221, -0.18294923, -0.18325168,  0.24988982,\n",
       "          0.09482399,  0.27752718,  0.17133477,  0.227132  ,  0.07330015],\n",
       "        [-0.03385505,  0.07938826,  0.13241452,  0.09258813,  0.07652068,\n",
       "         -0.19999856, -0.00514817,  0.00249138,  0.06321579,  0.16763285],\n",
       "        [-0.16758499,  0.025222  , -0.22511655, -0.03482784, -0.17533126,\n",
       "         -0.05170567,  0.07699394,  0.25699338, -0.00428101, -0.23291579],\n",
       "        [-0.2763187 ,  0.107979  , -0.10558312, -0.12506199, -0.14888738,\n",
       "         -0.26790208, -0.00456607,  0.09440362,  0.21990022, -0.17744105],\n",
       "        [-0.2708875 ,  0.07736841, -0.18729162,  0.24587658, -0.10410571,\n",
       "          0.09396362, -0.21640706,  0.22258398, -0.16910604, -0.23728058],\n",
       "        [-0.15274464,  0.04595214, -0.04808101, -0.02680925,  0.2757289 ,\n",
       "         -0.21272483, -0.0709434 , -0.0206427 ,  0.17579576, -0.18617335]],\n",
       "       dtype=float32)>,\n",
       " <tf.Variable 'dense_3/bias:0' shape=(10,) dtype=float32, numpy=array([0., 0., 0., 0., 0., 0., 0., 0., 0., 0.], dtype=float32)>]"
      ]
     },
     "execution_count": 3,
     "metadata": {},
     "output_type": "execute_result"
    }
   ],
   "execution_count": 3
  },
  {
   "cell_type": "markdown",
   "metadata": {
    "colab_type": "text"
   },
   "source": [
    "**The summary method**"
   ]
  },
  {
   "cell_type": "code",
   "metadata": {
    "colab_type": "code",
    "ExecuteTime": {
     "end_time": "2024-05-28T02:50:05.740897Z",
     "start_time": "2024-05-28T02:50:05.732645Z"
    }
   },
   "source": [
    "model.summary()"
   ],
   "outputs": [
    {
     "name": "stdout",
     "output_type": "stream",
     "text": [
      "Model: \"sequential_1\"\n",
      "_________________________________________________________________\n",
      " Layer (type)                Output Shape              Param #   \n",
      "=================================================================\n",
      " dense_2 (Dense)             (None, 64)                256       \n",
      "                                                                 \n",
      " dense_3 (Dense)             (None, 10)                650       \n",
      "                                                                 \n",
      "=================================================================\n",
      "Total params: 906\n",
      "Trainable params: 906\n",
      "Non-trainable params: 0\n",
      "_________________________________________________________________\n"
     ]
    }
   ],
   "execution_count": 4
  },
  {
   "metadata": {},
   "cell_type": "markdown",
   "source": "- 케라스에서는 모델과 층을 포함해서 모든 것에 이름을 지정할 수 있음"
  },
  {
   "cell_type": "markdown",
   "metadata": {
    "colab_type": "text"
   },
   "source": [
    "**Naming models and layers with the `name` argument**"
   ]
  },
  {
   "cell_type": "code",
   "metadata": {
    "colab_type": "code",
    "ExecuteTime": {
     "end_time": "2024-05-28T02:50:05.766342Z",
     "start_time": "2024-05-28T02:50:05.741601Z"
    }
   },
   "source": [
    "model = keras.Sequential(name=\"my_example_model\")\n",
    "model.add(layers.Dense(64, activation=\"relu\", name=\"my_first_layer\"))\n",
    "model.add(layers.Dense(10, activation=\"softmax\", name=\"my_last_layer\"))\n",
    "model.build((None, 3))\n",
    "model.summary()"
   ],
   "outputs": [
    {
     "name": "stdout",
     "output_type": "stream",
     "text": [
      "Model: \"my_example_model\"\n",
      "_________________________________________________________________\n",
      " Layer (type)                Output Shape              Param #   \n",
      "=================================================================\n",
      " my_first_layer (Dense)      (None, 64)                256       \n",
      "                                                                 \n",
      " my_last_layer (Dense)       (None, 10)                650       \n",
      "                                                                 \n",
      "=================================================================\n",
      "Total params: 906\n",
      "Trainable params: 906\n",
      "Non-trainable params: 0\n",
      "_________________________________________________________________\n"
     ]
    }
   ],
   "execution_count": 5
  },
  {
   "cell_type": "markdown",
   "metadata": {
    "colab_type": "text"
   },
   "source": [
    "**Specifying the input shape of your model in advance**\n",
    "- Sequential 모델의 가중치를 바로 생성하는 방법"
   ]
  },
  {
   "cell_type": "code",
   "metadata": {
    "colab_type": "code",
    "ExecuteTime": {
     "end_time": "2024-05-28T02:50:05.777250Z",
     "start_time": "2024-05-28T02:50:05.767193Z"
    }
   },
   "source": [
    "model = keras.Sequential()\n",
    "model.add(keras.Input(shape=(3,)))\n",
    "model.add(layers.Dense(64, activation=\"relu\"))"
   ],
   "outputs": [],
   "execution_count": 6
  },
  {
   "cell_type": "code",
   "metadata": {
    "colab_type": "code",
    "ExecuteTime": {
     "end_time": "2024-05-28T02:50:05.785472Z",
     "start_time": "2024-05-28T02:50:05.777834Z"
    }
   },
   "source": [
    "model.summary()"
   ],
   "outputs": [
    {
     "name": "stdout",
     "output_type": "stream",
     "text": [
      "Model: \"sequential_2\"\n",
      "_________________________________________________________________\n",
      " Layer (type)                Output Shape              Param #   \n",
      "=================================================================\n",
      " dense_4 (Dense)             (None, 64)                256       \n",
      "                                                                 \n",
      "=================================================================\n",
      "Total params: 256\n",
      "Trainable params: 256\n",
      "Non-trainable params: 0\n",
      "_________________________________________________________________\n"
     ]
    }
   ],
   "execution_count": 7
  },
  {
   "cell_type": "code",
   "metadata": {
    "colab_type": "code",
    "ExecuteTime": {
     "end_time": "2024-05-28T02:50:05.802378Z",
     "start_time": "2024-05-28T02:50:05.786222Z"
    }
   },
   "source": [
    "model.add(layers.Dense(10, activation=\"softmax\"))\n",
    "model.summary()"
   ],
   "outputs": [
    {
     "name": "stdout",
     "output_type": "stream",
     "text": [
      "Model: \"sequential_2\"\n",
      "_________________________________________________________________\n",
      " Layer (type)                Output Shape              Param #   \n",
      "=================================================================\n",
      " dense_4 (Dense)             (None, 64)                256       \n",
      "                                                                 \n",
      " dense_5 (Dense)             (None, 10)                650       \n",
      "                                                                 \n",
      "=================================================================\n",
      "Total params: 906\n",
      "Trainable params: 906\n",
      "Non-trainable params: 0\n",
      "_________________________________________________________________\n"
     ]
    }
   ],
   "execution_count": 8
  },
  {
   "cell_type": "markdown",
   "metadata": {
    "colab_type": "text"
   },
   "source": [
    "### The Functional API"
   ]
  },
  {
   "metadata": {},
   "cell_type": "markdown",
   "source": [
    "Sequential Model\n",
    "- 사용하기 쉽지만 적용할 수 있는 곳이 극히 제한적\n",
    "- 하나의 입력과 하나의 출력을 가지며 순서대로 층을 쌓은 모델만 표현할 수 있음\n",
    "\n",
    "Functional API\n",
    "- 다중 입력/출력, 비선형적인 구조를 가진 모델에서 주로 사용"
   ]
  },
  {
   "cell_type": "markdown",
   "metadata": {
    "colab_type": "text"
   },
   "source": [
    "#### A simple example"
   ]
  },
  {
   "cell_type": "markdown",
   "metadata": {
    "colab_type": "text"
   },
   "source": [
    "**A simple Functional model with two `Dense` layers**"
   ]
  },
  {
   "cell_type": "code",
   "metadata": {
    "colab_type": "code",
    "ExecuteTime": {
     "end_time": "2024-05-28T02:50:05.817426Z",
     "start_time": "2024-05-28T02:50:05.803095Z"
    }
   },
   "source": [
    "inputs = keras.Input(shape=(3,), name=\"my_input\")\n",
    "features = layers.Dense(64, activation=\"relu\")(inputs)\n",
    "outputs = layers.Dense(10, activation=\"softmax\")(features)\n",
    "model = keras.Model(inputs=inputs, outputs=outputs)"
   ],
   "outputs": [],
   "execution_count": 9
  },
  {
   "cell_type": "code",
   "metadata": {
    "colab_type": "code",
    "ExecuteTime": {
     "end_time": "2024-05-28T02:50:05.822705Z",
     "start_time": "2024-05-28T02:50:05.820221Z"
    }
   },
   "source": [
    "inputs = keras.Input(shape=(3,), name=\"my_input\")"
   ],
   "outputs": [],
   "execution_count": 10
  },
  {
   "cell_type": "code",
   "metadata": {
    "colab_type": "code",
    "ExecuteTime": {
     "end_time": "2024-05-28T02:50:05.826295Z",
     "start_time": "2024-05-28T02:50:05.823471Z"
    }
   },
   "source": [
    "inputs.shape"
   ],
   "outputs": [
    {
     "data": {
      "text/plain": [
       "TensorShape([None, 3])"
      ]
     },
     "execution_count": 11,
     "metadata": {},
     "output_type": "execute_result"
    }
   ],
   "execution_count": 11
  },
  {
   "metadata": {},
   "cell_type": "markdown",
   "source": [
    "- 각 샘플의 크기가 (3,)인 배치를 처리할 것임\n",
    "- 배치당 샘플의 개수는 가변적(배치 크기가 None)으로 지정"
   ]
  },
  {
   "cell_type": "code",
   "metadata": {
    "colab_type": "code",
    "ExecuteTime": {
     "end_time": "2024-05-28T02:50:05.829924Z",
     "start_time": "2024-05-28T02:50:05.827058Z"
    }
   },
   "source": [
    "inputs.dtype"
   ],
   "outputs": [
    {
     "data": {
      "text/plain": [
       "tf.float32"
      ]
     },
     "execution_count": 12,
     "metadata": {},
     "output_type": "execute_result"
    }
   ],
   "execution_count": 12
  },
  {
   "metadata": {},
   "cell_type": "markdown",
   "source": [
    "- 심볼릭 텐서 \n",
    "    - 실제 데이터를 가지고 있지 않지만 사용할 때 모델이 보게 될 데이터 텐서의 사양이 인코딩 되어있음\n",
    "    - 미래의 텐서를 나타냄"
   ]
  },
  {
   "cell_type": "code",
   "metadata": {
    "colab_type": "code",
    "ExecuteTime": {
     "end_time": "2024-05-28T02:50:05.836880Z",
     "start_time": "2024-05-28T02:50:05.830527Z"
    }
   },
   "source": "features = layers.Dense(64, activation=\"relu\")(inputs)",
   "outputs": [],
   "execution_count": 13
  },
  {
   "cell_type": "code",
   "metadata": {
    "colab_type": "code",
    "ExecuteTime": {
     "end_time": "2024-05-28T02:50:05.840081Z",
     "start_time": "2024-05-28T02:50:05.837854Z"
    }
   },
   "source": [
    "features.shape"
   ],
   "outputs": [
    {
     "data": {
      "text/plain": [
       "TensorShape([None, 64])"
      ]
     },
     "execution_count": 14,
     "metadata": {},
     "output_type": "execute_result"
    }
   ],
   "execution_count": 14
  },
  {
   "cell_type": "code",
   "metadata": {
    "colab_type": "code",
    "ExecuteTime": {
     "end_time": "2024-05-28T02:50:05.847539Z",
     "start_time": "2024-05-28T02:50:05.840615Z"
    }
   },
   "source": [
    "outputs = layers.Dense(10, activation=\"softmax\")(features)\n",
    "model = keras.Model(inputs=inputs, outputs=outputs)"
   ],
   "outputs": [],
   "execution_count": 15
  },
  {
   "cell_type": "code",
   "metadata": {
    "colab_type": "code",
    "ExecuteTime": {
     "end_time": "2024-05-28T02:50:05.853790Z",
     "start_time": "2024-05-28T02:50:05.848362Z"
    }
   },
   "source": [
    "model.summary()"
   ],
   "outputs": [
    {
     "name": "stdout",
     "output_type": "stream",
     "text": [
      "Model: \"model_1\"\n",
      "_________________________________________________________________\n",
      " Layer (type)                Output Shape              Param #   \n",
      "=================================================================\n",
      " my_input (InputLayer)       [(None, 3)]               0         \n",
      "                                                                 \n",
      " dense_8 (Dense)             (None, 64)                256       \n",
      "                                                                 \n",
      " dense_9 (Dense)             (None, 10)                650       \n",
      "                                                                 \n",
      "=================================================================\n",
      "Total params: 906\n",
      "Trainable params: 906\n",
      "Non-trainable params: 0\n",
      "_________________________________________________________________\n"
     ]
    }
   ],
   "execution_count": 16
  },
  {
   "cell_type": "markdown",
   "metadata": {
    "colab_type": "text"
   },
   "source": [
    "#### Multi-input, multi-output models"
   ]
  },
  {
   "cell_type": "markdown",
   "metadata": {
    "colab_type": "text"
   },
   "source": [
    "**A multi-input, multi-output Functional model**"
   ]
  },
  {
   "cell_type": "code",
   "metadata": {
    "colab_type": "code",
    "ExecuteTime": {
     "end_time": "2024-05-28T02:50:05.967935Z",
     "start_time": "2024-05-28T02:50:05.855001Z"
    }
   },
   "source": [
    "vocabulary_size = 10000\n",
    "num_tags = 100\n",
    "num_departments = 4\n",
    "\n",
    "# 모델의 입력을 정의\n",
    "title = keras.Input(shape=(vocabulary_size,), name=\"title\")          \n",
    "text_body = keras.Input(shape=(vocabulary_size,), name=\"text_body\")\n",
    "tags = keras.Input(shape=(num_tags,), name=\"tags\")\n",
    "\n",
    "features = layers.Concatenate()([title, text_body, tags]) # 입력 특성을 하나의 텐서 features로 연결\n",
    "features = layers.Dense(64, activation=\"relu\")(features)  # 중간층을 적용하여 입력 특성을 더 풍부한 표현으로 재결합\n",
    "\n",
    "# 모델의 출력 정의\n",
    "priority = layers.Dense(1, activation=\"sigmoid\", name=\"priority\")(features) \n",
    "department = layers.Dense(\n",
    "    num_departments, activation=\"softmax\", name=\"department\")(features)\n",
    "\n",
    "# 입력과 출력을 지정하여 모델을 만듦\n",
    "model = keras.Model(inputs=[title, text_body, tags], outputs=[priority, department])"
   ],
   "outputs": [],
   "execution_count": 17
  },
  {
   "cell_type": "markdown",
   "metadata": {
    "colab_type": "text"
   },
   "source": [
    "#### Training a multi-input, multi-output model"
   ]
  },
  {
   "cell_type": "markdown",
   "metadata": {
    "colab_type": "text"
   },
   "source": [
    "**Training a model by providing lists of input & target arrays**"
   ]
  },
  {
   "metadata": {},
   "cell_type": "markdown",
   "source": [
    "- Sequential 모델을 훈련하는 것과 거의 같은 방법으로 훈련할 수 있음\n",
    "- 입력과 출력 데이터의 리스트로 fit() 메서드를 호출하면 됨\n",
    "- 데이터의 리스트는 Model 클래스에 전달한 순서와 같아야함"
   ]
  },
  {
   "cell_type": "code",
   "metadata": {
    "colab_type": "code",
    "ExecuteTime": {
     "end_time": "2024-05-28T02:50:09.130477Z",
     "start_time": "2024-05-28T02:50:05.969228Z"
    }
   },
   "source": [
    "import numpy as np\n",
    "\n",
    "num_samples = 1280\n",
    "\n",
    "title_data = np.random.randint(0, 2, size=(num_samples, vocabulary_size)) # dummy 입력 데이터\n",
    "text_body_data = np.random.randint(0, 2, size=(num_samples, vocabulary_size))\n",
    "tags_data = np.random.randint(0, 2, size=(num_samples, num_tags)) # dummy 입력 데이터\n",
    "\n",
    "priority_data = np.random.random(size=(num_samples, 1)) # dummy 타겟 데이터\n",
    "department_data = np.random.randint(0, 2, size=(num_samples, num_departments)) # dummy 타겟 데이터\n",
    "\n",
    "model.compile(optimizer=\"rmsprop\",\n",
    "              loss=[\"mean_squared_error\", \"categorical_crossentropy\"],\n",
    "              metrics=[[\"mean_absolute_error\"], [\"accuracy\"]])\n",
    "model.fit([title_data, text_body_data, tags_data],\n",
    "          [priority_data, department_data],\n",
    "          epochs=1)\n",
    "model.evaluate([title_data, text_body_data, tags_data],\n",
    "               [priority_data, department_data])\n",
    "priority_preds, department_preds = model.predict([title_data, text_body_data, tags_data])"
   ],
   "outputs": [
    {
     "name": "stderr",
     "output_type": "stream",
     "text": [
      "2024-05-28 11:50:06.249311: W tensorflow/core/platform/profile_utils/cpu_utils.cc:128] Failed to get CPU frequency: 0 Hz\n",
      "2024-05-28 11:50:06.706346: I tensorflow/core/grappler/optimizers/custom_graph_optimizer_registry.cc:113] Plugin optimizer for device_type GPU is enabled.\n"
     ]
    },
    {
     "name": "stdout",
     "output_type": "stream",
     "text": [
      "40/40 [==============================] - 2s 18ms/step - loss: 19.9162 - priority_loss: 0.3073 - department_loss: 19.6090 - priority_mean_absolute_error: 0.4728 - department_accuracy: 0.2156\n",
      " 6/40 [===>..........................] - ETA: 0s - loss: 5.6493 - priority_loss: 0.3355 - department_loss: 5.3138 - priority_mean_absolute_error: 0.4948 - department_accuracy: 0.0885"
     ]
    },
    {
     "name": "stderr",
     "output_type": "stream",
     "text": [
      "2024-05-28 11:50:08.135948: I tensorflow/core/grappler/optimizers/custom_graph_optimizer_registry.cc:113] Plugin optimizer for device_type GPU is enabled.\n"
     ]
    },
    {
     "name": "stdout",
     "output_type": "stream",
     "text": [
      "40/40 [==============================] - 1s 13ms/step - loss: 5.7093 - priority_loss: 0.3265 - department_loss: 5.3828 - priority_mean_absolute_error: 0.4915 - department_accuracy: 0.0789\n",
      "40/40 [==============================] - 0s 3ms/step\n"
     ]
    },
    {
     "name": "stderr",
     "output_type": "stream",
     "text": [
      "2024-05-28 11:50:08.947920: I tensorflow/core/grappler/optimizers/custom_graph_optimizer_registry.cc:113] Plugin optimizer for device_type GPU is enabled.\n"
     ]
    }
   ],
   "execution_count": 18
  },
  {
   "metadata": {},
   "cell_type": "markdown",
   "source": "입력 순서에 신경 쓰고 싶지 않다면 Input 객체와 출력 층에 부여한 이름을 활용해서 데이터를 딕셔너리로 전달 할 수 있음"
  },
  {
   "cell_type": "markdown",
   "metadata": {
    "colab_type": "text"
   },
   "source": [
    "**Training a model by providing dicts of input & target arrays**"
   ]
  },
  {
   "cell_type": "code",
   "metadata": {
    "colab_type": "code",
    "ExecuteTime": {
     "end_time": "2024-05-28T02:50:11.665531Z",
     "start_time": "2024-05-28T02:50:09.132466Z"
    }
   },
   "source": [
    "model.compile(optimizer=\"rmsprop\",\n",
    "              loss={\"priority\": \"mean_squared_error\", \"department\": \"categorical_crossentropy\"},\n",
    "              metrics={\"priority\": [\"mean_absolute_error\"], \"department\": [\"accuracy\"]})\n",
    "model.fit({\"title\": title_data, \"text_body\": text_body_data, \"tags\": tags_data},\n",
    "          {\"priority\": priority_data, \"department\": department_data},\n",
    "          epochs=1)\n",
    "model.evaluate({\"title\": title_data, \"text_body\": text_body_data, \"tags\": tags_data},\n",
    "               {\"priority\": priority_data, \"department\": department_data})\n",
    "priority_preds, department_preds = model.predict(\n",
    "    {\"title\": title_data, \"text_body\": text_body_data, \"tags\": tags_data})"
   ],
   "outputs": [
    {
     "name": "stderr",
     "output_type": "stream",
     "text": [
      "2024-05-28 11:50:09.566535: I tensorflow/core/grappler/optimizers/custom_graph_optimizer_registry.cc:113] Plugin optimizer for device_type GPU is enabled.\n"
     ]
    },
    {
     "name": "stdout",
     "output_type": "stream",
     "text": [
      "40/40 [==============================] - 1s 17ms/step - loss: 28.3671 - priority_loss: 0.3265 - department_loss: 28.0406 - priority_mean_absolute_error: 0.4915 - department_accuracy: 0.2344\n",
      " 5/40 [==>...........................] - ETA: 0s - loss: 27.0293 - priority_loss: 0.3437 - department_loss: 26.6855 - priority_mean_absolute_error: 0.5018 - department_accuracy: 0.3187"
     ]
    },
    {
     "name": "stderr",
     "output_type": "stream",
     "text": [
      "2024-05-28 11:50:10.689164: I tensorflow/core/grappler/optimizers/custom_graph_optimizer_registry.cc:113] Plugin optimizer for device_type GPU is enabled.\n"
     ]
    },
    {
     "name": "stdout",
     "output_type": "stream",
     "text": [
      "40/40 [==============================] - 1s 14ms/step - loss: 28.9954 - priority_loss: 0.3265 - department_loss: 28.6689 - priority_mean_absolute_error: 0.4915 - department_accuracy: 0.2664\n",
      "40/40 [==============================] - 0s 3ms/step\n"
     ]
    },
    {
     "name": "stderr",
     "output_type": "stream",
     "text": [
      "2024-05-28 11:50:11.497260: I tensorflow/core/grappler/optimizers/custom_graph_optimizer_registry.cc:113] Plugin optimizer for device_type GPU is enabled.\n"
     ]
    }
   ],
   "execution_count": 19
  },
  {
   "cell_type": "markdown",
   "metadata": {
    "colab_type": "text"
   },
   "source": [
    "#### The power of the Functional API: Access to layer connectivity"
   ]
  },
  {
   "metadata": {},
   "cell_type": "markdown",
   "source": [
    "- 함수형 모델은 명시적인 그래프 데이터 구조임\n",
    "- 층이 어떻게 연결되어 있는지 조사하고 이전 그래프 노트(층의 출력)을 새 모델의 일부로 재 사용 할 수 있음\n",
    "- 모델 시각화, 특성 추출이라는 기능이 가능"
   ]
  },
  {
   "metadata": {
    "ExecuteTime": {
     "end_time": "2024-05-28T02:50:11.669781Z",
     "start_time": "2024-05-28T02:50:11.666719Z"
    }
   },
   "cell_type": "code",
   "source": [
    "# !pip install pydot\n",
    "# !pip install graphviz"
   ],
   "outputs": [],
   "execution_count": 20
  },
  {
   "metadata": {},
   "cell_type": "markdown",
   "source": "모델의 연결 구조(topology) 시각화"
  },
  {
   "cell_type": "code",
   "metadata": {
    "colab_type": "code",
    "ExecuteTime": {
     "end_time": "2024-05-28T02:50:11.975771Z",
     "start_time": "2024-05-28T02:50:11.671203Z"
    }
   },
   "source": [
    "keras.utils.plot_model(model, \"ticket_classifier.png\")"
   ],
   "outputs": [
    {
     "data": {
      "image/png": "[encoded data removed]",
      "text/plain": [
       "<IPython.core.display.Image object>"
      ]
     },
     "execution_count": 21,
     "metadata": {},
     "output_type": "execute_result"
    }
   ],
   "execution_count": 21
  },
  {
   "cell_type": "code",
   "metadata": {
    "colab_type": "code",
    "ExecuteTime": {
     "end_time": "2024-05-28T02:50:12.158928Z",
     "start_time": "2024-05-28T02:50:11.976808Z"
    }
   },
   "source": [
    "keras.utils.plot_model(model, \"ticket_classifier_with_shape_info.png\", show_shapes=True)"
   ],
   "outputs": [
    {
     "data": {
      "image/png": "[encoded data removed]",
      "text/plain": [
       "<IPython.core.display.Image object>"
      ]
     },
     "execution_count": 22,
     "metadata": {},
     "output_type": "execute_result"
    }
   ],
   "execution_count": 22
  },
  {
   "cell_type": "markdown",
   "metadata": {
    "colab_type": "text"
   },
   "source": [
    "**Retrieving the inputs or outputs of a layer in a Functional model**"
   ]
  },
  {
   "cell_type": "code",
   "metadata": {
    "colab_type": "code",
    "ExecuteTime": {
     "end_time": "2024-05-28T02:50:12.163251Z",
     "start_time": "2024-05-28T02:50:12.159913Z"
    }
   },
   "source": [
    "model.layers"
   ],
   "outputs": [
    {
     "data": {
      "text/plain": [
       "[<keras.engine.input_layer.InputLayer at 0x16a33bdf0>,\n",
       " <keras.engine.input_layer.InputLayer at 0x16a33bb50>,\n",
       " <keras.engine.input_layer.InputLayer at 0x16a33bc70>,\n",
       " <keras.layers.merging.concatenate.Concatenate at 0x16a33d1c0>,\n",
       " <keras.layers.core.dense.Dense at 0x16a33d460>,\n",
       " <keras.layers.core.dense.Dense at 0x16a33d7c0>,\n",
       " <keras.layers.core.dense.Dense at 0x16a33d580>]"
      ]
     },
     "execution_count": 23,
     "metadata": {},
     "output_type": "execute_result"
    }
   ],
   "execution_count": 23
  },
  {
   "cell_type": "code",
   "metadata": {
    "colab_type": "code",
    "ExecuteTime": {
     "end_time": "2024-05-28T02:50:12.171314Z",
     "start_time": "2024-05-28T02:50:12.164435Z"
    }
   },
   "source": [
    "model.layers[3].input"
   ],
   "outputs": [
    {
     "data": {
      "text/plain": [
       "[<KerasTensor: shape=(None, 10000) dtype=float32 (created by layer 'title')>,\n",
       " <KerasTensor: shape=(None, 10000) dtype=float32 (created by layer 'text_body')>,\n",
       " <KerasTensor: shape=(None, 100) dtype=float32 (created by layer 'tags')>]"
      ]
     },
     "execution_count": 24,
     "metadata": {},
     "output_type": "execute_result"
    }
   ],
   "execution_count": 24
  },
  {
   "cell_type": "code",
   "metadata": {
    "colab_type": "code",
    "ExecuteTime": {
     "end_time": "2024-05-28T02:50:12.175599Z",
     "start_time": "2024-05-28T02:50:12.172918Z"
    }
   },
   "source": [
    "model.layers[3].output"
   ],
   "outputs": [
    {
     "data": {
      "text/plain": [
       "<KerasTensor: shape=(None, 20100) dtype=float32 (created by layer 'concatenate')>"
      ]
     },
     "execution_count": 25,
     "metadata": {},
     "output_type": "execute_result"
    }
   ],
   "execution_count": 25
  },
  {
   "metadata": {},
   "cell_type": "markdown",
   "source": "- 이를 통해 특성 추출(feature extraction)을 수행하여 다른 모델에서 중간 특성을 재사용하는 모델을 만들 수 있음"
  },
  {
   "cell_type": "markdown",
   "metadata": {
    "colab_type": "text"
   },
   "source": [
    "**Creating a new model by reusing intermediate layer outputs**"
   ]
  },
  {
   "cell_type": "code",
   "metadata": {
    "colab_type": "code",
    "ExecuteTime": {
     "end_time": "2024-05-28T02:50:12.204793Z",
     "start_time": "2024-05-28T02:50:12.176347Z"
    }
   },
   "source": [
    "features = model.layers[4].output\n",
    "difficulty = layers.Dense(3, activation=\"softmax\", name=\"difficulty\")(features)\n",
    "\n",
    "new_model = keras.Model(\n",
    "    inputs=[title, text_body, tags],\n",
    "    outputs=[priority, department, difficulty])"
   ],
   "outputs": [],
   "execution_count": 26
  },
  {
   "cell_type": "code",
   "metadata": {
    "colab_type": "code",
    "ExecuteTime": {
     "end_time": "2024-05-28T02:50:12.395736Z",
     "start_time": "2024-05-28T02:50:12.205443Z"
    }
   },
   "source": [
    "keras.utils.plot_model(new_model, \"updated_ticket_classifier.png\", show_shapes=True)"
   ],
   "outputs": [
    {
     "data": {
      "image/png": "[encoded data removed]",
      "text/plain": [
       "<IPython.core.display.Image object>"
      ]
     },
     "execution_count": 27,
     "metadata": {},
     "output_type": "execute_result"
    }
   ],
   "execution_count": 27
  },
  {
   "cell_type": "markdown",
   "metadata": {
    "colab_type": "text"
   },
   "source": "### Subclassing the Model class"
  },
  {
   "metadata": {},
   "cell_type": "markdown",
   "source": [
    "- `__init__()` 메서드에서 모델이 사용할 층을 정의\n",
    "- `call()` 메서드에서 앞서 만든 층을 사용하여 모델의 정방향 패스를 정의\n",
    "- 서브 클래스의 객체를 만들고 데이터와 함께 호출하여 가중치를 만듦"
   ]
  },
  {
   "cell_type": "markdown",
   "metadata": {
    "colab_type": "text"
   },
   "source": [
    "#### Rewriting our previous example as a subclassed model"
   ]
  },
  {
   "cell_type": "markdown",
   "metadata": {
    "colab_type": "text"
   },
   "source": [
    "**A simple subclassed model**"
   ]
  },
  {
   "cell_type": "code",
   "metadata": {
    "colab_type": "code",
    "ExecuteTime": {
     "end_time": "2024-05-28T02:50:12.405167Z",
     "start_time": "2024-05-28T02:50:12.401099Z"
    }
   },
   "source": [
    "class CustomerTicketModel(keras.Model):\n",
    "\n",
    "    def __init__(self, num_departments):\n",
    "        super().__init__()  # 부모 클래스의 생성자를 호출\n",
    "        # 생성자에서 층을 정의\n",
    "        self.concat_layer = layers.Concatenate() \n",
    "        self.mixing_layer = layers.Dense(64, activation=\"relu\")\n",
    "        self.priority_scorer = layers.Dense(1, activation=\"sigmoid\")\n",
    "        self.department_classifier = layers.Dense(\n",
    "            num_departments, activation=\"softmax\")\n",
    "    \n",
    "    def call(self, inputs):\n",
    "        '''\n",
    "        call() 메서드에서 정방향 패스를 정의\n",
    "        '''\n",
    "        title = inputs[\"title\"]\n",
    "        text_body = inputs[\"text_body\"]\n",
    "        tags = inputs[\"tags\"]\n",
    "\n",
    "        features = self.concat_layer([title, text_body, tags])\n",
    "        features = self.mixing_layer(features)\n",
    "        priority = self.priority_scorer(features)\n",
    "        department = self.department_classifier(features)\n",
    "        return priority, department"
   ],
   "outputs": [],
   "execution_count": 28
  },
  {
   "metadata": {},
   "cell_type": "markdown",
   "source": [
    "모델을 정의하고 나면 이 클래스의 객체를 만들 수 있음    \n",
    "Layer 클래스와 마찬가지로 어떤 데이터로 처음 호출할 때 가중치를 만듦"
   ]
  },
  {
   "cell_type": "code",
   "metadata": {
    "colab_type": "code",
    "ExecuteTime": {
     "end_time": "2024-05-28T02:50:12.605648Z",
     "start_time": "2024-05-28T02:50:12.405912Z"
    }
   },
   "source": [
    "model = CustomerTicketModel(num_departments=4)\n",
    "\n",
    "priority, department = model(\n",
    "    {\"title\": title_data, \"text_body\": text_body_data, \"tags\": tags_data})"
   ],
   "outputs": [],
   "execution_count": 29
  },
  {
   "metadata": {},
   "cell_type": "markdown",
   "source": [
    "- Layer 클래스 상속과 매우 비슷함\n",
    "- Layer 클래스 상속과 Model 클래스 상속의 차이점은?\n",
    "    - '층'은 모델을 만드는 데 사용하는 구성 요소\n",
    "    - '모델'은 실제로 훈련하고 추론에 사용하는 최상위 객체\n",
    "    - Model class는 `fit(), evaluate(), predict()` 메서드를 가지고 있음\n",
    "    - Layer class에는 이런 메서드가 없음"
   ]
  },
  {
   "metadata": {},
   "cell_type": "markdown",
   "source": "Sequential이나 함수형 모델과 마찬가지로 Model을 상속하여 만든 모델을 컴파일하고 훈련할 수 있음"
  },
  {
   "cell_type": "code",
   "metadata": {
    "colab_type": "code",
    "ExecuteTime": {
     "end_time": "2024-05-28T02:50:15.437980Z",
     "start_time": "2024-05-28T02:50:12.606676Z"
    }
   },
   "source": [
    "model.compile(optimizer=\"rmsprop\",\n",
    "              # 손실과 측정 지표로 전달하는 값은 call() 메서드가 반환하는 것과 정확히 일치해야 함\n",
    "              # (여기에서는 2개의 원소를 가진 리스트)\n",
    "              loss=[\"mean_squared_error\", \"categorical_crossentropy\"],\n",
    "              metrics=[[\"mean_absolute_error\"], [\"accuracy\"]])\n",
    "\n",
    "# 입력 데이터의 구조는 call() 메서드가 기대하는 것과 정확히 일치해야 함\n",
    "model.fit({\"title\": title_data,\n",
    "           \"text_body\": text_body_data,\n",
    "           \"tags\": tags_data},\n",
    "          # target 데이터 구조는 call() 메서드가 반환하는 것과 정확히 일치해야함\n",
    "          [priority_data, department_data], \n",
    "          epochs=1)\n",
    "model.evaluate({\"title\": title_data,\n",
    "                \"text_body\": text_body_data,\n",
    "                \"tags\": tags_data},\n",
    "               [priority_data, department_data])\n",
    "priority_preds, department_preds = model.predict({\"title\": title_data,\n",
    "                                                  \"text_body\": text_body_data,\n",
    "                                                  \"tags\": tags_data})"
   ],
   "outputs": [
    {
     "name": "stderr",
     "output_type": "stream",
     "text": [
      "2024-05-28 11:50:12.995648: I tensorflow/core/grappler/optimizers/custom_graph_optimizer_registry.cc:113] Plugin optimizer for device_type GPU is enabled.\n"
     ]
    },
    {
     "name": "stdout",
     "output_type": "stream",
     "text": [
      "40/40 [==============================] - 1s 18ms/step - loss: 28.0610 - output_1_loss: 0.3156 - output_2_loss: 27.7454 - output_1_mean_absolute_error: 0.4807 - output_2_accuracy: 0.2266\n",
      " 5/40 [==>...........................] - ETA: 0s - loss: 25.2492 - output_1_loss: 0.3437 - output_2_loss: 24.9055 - output_1_mean_absolute_error: 0.5018 - output_2_accuracy: 0.1375"
     ]
    },
    {
     "name": "stderr",
     "output_type": "stream",
     "text": [
      "2024-05-28 11:50:14.215050: I tensorflow/core/grappler/optimizers/custom_graph_optimizer_registry.cc:113] Plugin optimizer for device_type GPU is enabled.\n"
     ]
    },
    {
     "name": "stdout",
     "output_type": "stream",
     "text": [
      "40/40 [==============================] - 1s 14ms/step - loss: 27.3319 - output_1_loss: 0.3265 - output_2_loss: 27.0054 - output_1_mean_absolute_error: 0.4915 - output_2_accuracy: 0.0961\n",
      "36/40 [==========================>...] - ETA: 0s"
     ]
    },
    {
     "name": "stderr",
     "output_type": "stream",
     "text": [
      "2024-05-28 11:50:15.211230: I tensorflow/core/grappler/optimizers/custom_graph_optimizer_registry.cc:113] Plugin optimizer for device_type GPU is enabled.\n"
     ]
    },
    {
     "name": "stdout",
     "output_type": "stream",
     "text": [
      "40/40 [==============================] - 0s 5ms/step\n"
     ]
    }
   ],
   "execution_count": 30
  },
  {
   "metadata": {},
   "cell_type": "markdown",
   "source": [
    "Model subclassing workflow는 모델을 만드는 가장 유연한 방법\n",
    "- 층의 유향 비순환 그래프로 표현할 수 없는 모델을 만들 수 있음\n",
    "    - call() 메서드가 for 루프 안에서 층을 사용하거나 재귀적으로 호출하는 모델"
   ]
  },
  {
   "cell_type": "markdown",
   "metadata": {
    "colab_type": "text"
   },
   "source": [
    "#### Beware: What subclassed models don't support\n",
    "\n",
    "- 서브클래싱 모델에서는 모델 로직을 많이 책임져야 하며 잠재적인 오류 가능성이 훨씬 큼\n",
    "- 층이 서로 연결되는 방식이 call() 메서드 안에 감추어지기 때문에 이 정보를 활용할 수 없음\n",
    "- summary() 메서드가 층의 연결 구조를 출력할 수 없음\n",
    "- plot_model() 함수로 모델의 구조를 그래프로 그릴 수 없음\n",
    "- 이 모델의 객체를 생성하고 나면 정방향 패스는 완전한 블랙박스가 되어 버림"
   ]
  },
  {
   "cell_type": "markdown",
   "metadata": {
    "colab_type": "text"
   },
   "source": [
    "### Mixing and matching different components\n",
    "\n",
    "- 세 가지 패턴 중 하나를 선택한다고 다른 패턴의 사용을 제한하는 것은 아님\n",
    "- 케라스 API로 만든 모델은 Sequential, functional, subclassing 모델인지에 상관없이 부드럽게 서로 상호 운영할 수 있음"
   ]
  },
  {
   "cell_type": "markdown",
   "metadata": {
    "colab_type": "text"
   },
   "source": [
    "**Creating a Functional model that includes a subclassed model**"
   ]
  },
  {
   "cell_type": "code",
   "metadata": {
    "colab_type": "code",
    "ExecuteTime": {
     "end_time": "2024-05-28T02:50:15.468092Z",
     "start_time": "2024-05-28T02:50:15.439099Z"
    }
   },
   "source": [
    "class Classifier(keras.Model):\n",
    "\n",
    "    def __init__(self, num_classes=2):\n",
    "        super().__init__()\n",
    "        if num_classes == 2:\n",
    "            num_units = 1\n",
    "            activation = \"sigmoid\"\n",
    "        else:\n",
    "            num_units = num_classes\n",
    "            activation = \"softmax\"\n",
    "        self.dense = layers.Dense(num_units, activation=activation)\n",
    "\n",
    "    def call(self, inputs):\n",
    "        return self.dense(inputs)\n",
    "\n",
    "inputs = keras.Input(shape=(3,))\n",
    "features = layers.Dense(64, activation=\"relu\")(inputs)\n",
    "outputs = Classifier(num_classes=10)(features)\n",
    "model = keras.Model(inputs=inputs, outputs=outputs)"
   ],
   "outputs": [],
   "execution_count": 31
  },
  {
   "cell_type": "markdown",
   "metadata": {
    "colab_type": "text"
   },
   "source": [
    "**Creating a subclassed model that includes a Functional model**"
   ]
  },
  {
   "cell_type": "code",
   "metadata": {
    "colab_type": "code",
    "ExecuteTime": {
     "end_time": "2024-05-28T02:50:15.479635Z",
     "start_time": "2024-05-28T02:50:15.469897Z"
    }
   },
   "source": [
    "inputs = keras.Input(shape=(64,))\n",
    "outputs = layers.Dense(1, activation=\"sigmoid\")(inputs)\n",
    "binary_classifier = keras.Model(inputs=inputs, outputs=outputs)\n",
    "\n",
    "class MyModel(keras.Model):\n",
    "\n",
    "    def __init__(self, num_classes=2):\n",
    "        super().__init__()\n",
    "        self.dense = layers.Dense(64, activation=\"relu\")\n",
    "        self.classifier = binary_classifier\n",
    "\n",
    "    def call(self, inputs):\n",
    "        features = self.dense(inputs)\n",
    "        return self.classifier(features)\n",
    "\n",
    "model = MyModel()"
   ],
   "outputs": [],
   "execution_count": 32
  },
  {
   "cell_type": "markdown",
   "metadata": {
    "colab_type": "text"
   },
   "source": [
    "### Remember: Use the right tool for the job"
   ]
  },
  {
   "metadata": {},
   "cell_type": "markdown",
   "source": [
    "- 각 방법은 장단점이 있으므로 현재 작업에 가장 잘 맞는 것을 선택하는 것이 중요\n",
    "- 일반적으로 함수형 API가 쉬운 사용성과 유연성 사이에 적절한 절충점임"
   ]
  },
  {
   "cell_type": "markdown",
   "metadata": {
    "colab_type": "text"
   },
   "source": [
    "## Using built-in training and evaluation loops"
   ]
  },
  {
   "cell_type": "markdown",
   "metadata": {
    "colab_type": "text"
   },
   "source": [
    "**The standard workflow: `compile()`, `fit()`, `evaluate()`, `predict()`**"
   ]
  },
  {
   "cell_type": "code",
   "metadata": {
    "colab_type": "code",
    "ExecuteTime": {
     "end_time": "2024-05-28T02:50:55.410695Z",
     "start_time": "2024-05-28T02:50:15.480342Z"
    }
   },
   "source": [
    "from tensorflow.keras.datasets import mnist\n",
    "\n",
    "# 1) 모델 생성 (나중에 재사용하기 용이하기 위해 별도의 함수로 만듦)\n",
    "def get_mnist_model():\n",
    "    inputs = keras.Input(shape=(28 * 28,))\n",
    "    features = layers.Dense(512, activation=\"relu\")(inputs)\n",
    "    features = layers.Dropout(0.5)(features)\n",
    "    outputs = layers.Dense(10, activation=\"softmax\")(features)\n",
    "    model = keras.Model(inputs, outputs)\n",
    "    return model\n",
    "\n",
    "# 2) load and split data\n",
    "(images, labels), (test_images, test_labels) = mnist.load_data()\n",
    "images = images.reshape((60000, 28 * 28)).astype(\"float32\") / 255\n",
    "test_images = test_images.reshape((10000, 28 * 28)).astype(\"float32\") / 255\n",
    "train_images, val_images = images[10000:], images[:10000]\n",
    "train_labels, val_labels = labels[10000:], labels[:10000]\n",
    "\n",
    "model = get_mnist_model()\n",
    "# 3) compile\n",
    "model.compile(optimizer=\"rmsprop\",\n",
    "              loss=\"sparse_categorical_crossentropy\",\n",
    "              metrics=[\"accuracy\"])\n",
    "# 4) fit\n",
    "model.fit(train_images, train_labels,\n",
    "          epochs=3,\n",
    "          validation_data=(val_images, val_labels))\n",
    "# 5) evaluate\n",
    "test_metrics = model.evaluate(test_images, test_labels)\n",
    "# 6) predict\n",
    "predictions = model.predict(test_images)"
   ],
   "outputs": [
    {
     "name": "stdout",
     "output_type": "stream",
     "text": [
      "Epoch 1/3\n"
     ]
    },
    {
     "name": "stderr",
     "output_type": "stream",
     "text": [
      "2024-05-28 11:50:16.039238: I tensorflow/core/grappler/optimizers/custom_graph_optimizer_registry.cc:113] Plugin optimizer for device_type GPU is enabled.\n"
     ]
    },
    {
     "name": "stdout",
     "output_type": "stream",
     "text": [
      "1563/1563 [==============================] - ETA: 0s - loss: 0.2837 - accuracy: 0.9161"
     ]
    },
    {
     "name": "stderr",
     "output_type": "stream",
     "text": [
      "2024-05-28 11:50:27.884140: I tensorflow/core/grappler/optimizers/custom_graph_optimizer_registry.cc:113] Plugin optimizer for device_type GPU is enabled.\n"
     ]
    },
    {
     "name": "stdout",
     "output_type": "stream",
     "text": [
      "1563/1563 [==============================] - 13s 8ms/step - loss: 0.2837 - accuracy: 0.9161 - val_loss: 0.1452 - val_accuracy: 0.9586\n",
      "Epoch 2/3\n",
      "1563/1563 [==============================] - 12s 8ms/step - loss: 0.1535 - accuracy: 0.9567 - val_loss: 0.1325 - val_accuracy: 0.9660\n",
      "Epoch 3/3\n",
      "1563/1563 [==============================] - 12s 8ms/step - loss: 0.1263 - accuracy: 0.9659 - val_loss: 0.1234 - val_accuracy: 0.9674\n",
      "313/313 [==============================] - 2s 5ms/step - loss: 0.1115 - accuracy: 0.9701\n",
      " 87/313 [=======>......................] - ETA: 0s"
     ]
    },
    {
     "name": "stderr",
     "output_type": "stream",
     "text": [
      "2024-05-28 11:50:54.777677: I tensorflow/core/grappler/optimizers/custom_graph_optimizer_registry.cc:113] Plugin optimizer for device_type GPU is enabled.\n"
     ]
    },
    {
     "name": "stdout",
     "output_type": "stream",
     "text": [
      "313/313 [==============================] - 1s 2ms/step\n"
     ]
    }
   ],
   "execution_count": 33
  },
  {
   "metadata": {},
   "cell_type": "markdown",
   "source": [
    "- 사용자 정의 측정 지표를 전달\n",
    "- fit 메서드에 callback을 전달하여 훈련하는 동안 특정 시험에 수행될 행동을 예약"
   ]
  },
  {
   "cell_type": "markdown",
   "metadata": {
    "colab_type": "text"
   },
   "source": "### Writing your own metrics"
  },
  {
   "metadata": {},
   "cell_type": "markdown",
   "source": [
    "- 케라스 지표는 `keras.metrics.Metric` 클래스를 상속한 클래스임\n",
    "- 층과 마찬가지로 지표는 텐서플로 변수에 내부 상태를 저장\n",
    "- 층과 다른 점은 이 변수가 역전파로 업데이트 되지 않음\n",
    "- 따라서 상태 업데이트 로직을 update_state() 메서드 안에 직접 작성해야 함"
   ]
  },
  {
   "cell_type": "markdown",
   "metadata": {
    "colab_type": "text"
   },
   "source": [
    "**Implementing a custom metric by subclassing the `Metric` class**"
   ]
  },
  {
   "cell_type": "code",
   "metadata": {
    "colab_type": "code",
    "ExecuteTime": {
     "end_time": "2024-05-28T02:50:55.419256Z",
     "start_time": "2024-05-28T02:50:55.412484Z"
    }
   },
   "source": [
    "import tensorflow as tf\n",
    "\n",
    "class RootMeanSquaredError(keras.metrics.Metric): # metric 클래스를 상속\n",
    "\n",
    "    def __init__(self, name=\"rmse\", **kwargs): # 생성자에서 상태 변수를 정의\n",
    "        super().__init__(name=name, **kwargs)  # 층과 마찬가지로 add_weight() 메서드 사용\n",
    "        self.mse_sum = self.add_weight(name=\"mse_sum\", initializer=\"zeros\")\n",
    "        self.total_samples = self.add_weight(\n",
    "            name=\"total_samples\", initializer=\"zeros\", dtype=\"int32\")\n",
    "\n",
    "    def update_state(self, y_true, y_pred, sample_weight=None):\n",
    "        '''\n",
    "        상태 업데이트 로직을 구현\n",
    "            - y_true : 배치의 타깃(label)\n",
    "            - y_pred : 이에 해당하는 모델의 예측\n",
    "            - sample_weight : 여기서는 사용하지 않으므로 무시해도 괜찮음\n",
    "        '''\n",
    "        # y_pred는 각 클래스에 대한 확률을 담고 있으므로 정수 레이블인 y_true를 이에 맞추어 원-핫 인코딩으로 변환\n",
    "        y_true = tf.one_hot(y_true, depth=tf.shape(y_pred)[1])\n",
    "        mse = tf.reduce_sum(tf.square(y_true - y_pred))\n",
    "        self.mse_sum.assign_add(mse)\n",
    "        num_samples = tf.shape(y_pred)[0]\n",
    "        self.total_samples.assign_add(num_samples)\n",
    "\n",
    "    def result(self): # 현재 지표값 반환\n",
    "        return tf.sqrt(self.mse_sum / tf.cast(self.total_samples, tf.float32))\n",
    "\n",
    "    def reset_state(self):\n",
    "        '''\n",
    "        객체를 다시 생성하지 않고 상태를 초기화하는 방법\n",
    "        이렇게 함으로써 지표 객체 하나를 서로 다른 훈련 반복에 사용하거나 훈련과 평가에 모두 사용할 수 있음\n",
    "        '''\n",
    "        self.mse_sum.assign(0.)\n",
    "        self.total_samples.assign(0)"
   ],
   "outputs": [],
   "execution_count": 34
  },
  {
   "cell_type": "code",
   "metadata": {
    "colab_type": "code",
    "ExecuteTime": {
     "end_time": "2024-05-28T02:51:38.174898Z",
     "start_time": "2024-05-28T02:50:55.420092Z"
    }
   },
   "source": [
    "model = get_mnist_model()\n",
    "model.compile(optimizer=\"rmsprop\",\n",
    "              loss=\"sparse_categorical_crossentropy\",\n",
    "              metrics=[\"accuracy\", RootMeanSquaredError()])\n",
    "model.fit(train_images, train_labels,\n",
    "          epochs=3,\n",
    "          validation_data=(val_images, val_labels))\n",
    "test_metrics = model.evaluate(test_images, test_labels)"
   ],
   "outputs": [
    {
     "name": "stdout",
     "output_type": "stream",
     "text": [
      "Epoch 1/3\n"
     ]
    },
    {
     "name": "stderr",
     "output_type": "stream",
     "text": [
      "2024-05-28 11:50:55.821125: I tensorflow/core/grappler/optimizers/custom_graph_optimizer_registry.cc:113] Plugin optimizer for device_type GPU is enabled.\n"
     ]
    },
    {
     "name": "stdout",
     "output_type": "stream",
     "text": [
      "1563/1563 [==============================] - ETA: 0s - loss: 0.2821 - accuracy: 0.9163 - rmse: 7.1986"
     ]
    },
    {
     "name": "stderr",
     "output_type": "stream",
     "text": [
      "2024-05-28 11:51:09.080752: I tensorflow/core/grappler/optimizers/custom_graph_optimizer_registry.cc:113] Plugin optimizer for device_type GPU is enabled.\n"
     ]
    },
    {
     "name": "stdout",
     "output_type": "stream",
     "text": [
      "1563/1563 [==============================] - 15s 9ms/step - loss: 0.2821 - accuracy: 0.9163 - rmse: 7.1986 - val_loss: 0.1498 - val_accuracy: 0.9582 - val_rmse: 7.3679\n",
      "Epoch 2/3\n",
      "1563/1563 [==============================] - 13s 9ms/step - loss: 0.1520 - accuracy: 0.9564 - rmse: 7.3656 - val_loss: 0.1351 - val_accuracy: 0.9641 - val_rmse: 7.4045\n",
      "Epoch 3/3\n",
      "1563/1563 [==============================] - 13s 8ms/step - loss: 0.1274 - accuracy: 0.9658 - rmse: 7.3968 - val_loss: 0.1164 - val_accuracy: 0.9700 - val_rmse: 7.4210\n",
      "313/313 [==============================] - 2s 5ms/step - loss: 0.1131 - accuracy: 0.9712 - rmse: 7.4360\n"
     ]
    }
   ],
   "execution_count": 35
  },
  {
   "cell_type": "markdown",
   "metadata": {
    "colab_type": "text"
   },
   "source": [
    "### Using callbacks\n",
    "\n",
    "- 케라스 콜백은 fit() 메서드 호출 시 모델에 전달되는 객체(특정 메서드를 구현한 클래스 객체)임\n",
    "- 훈련하는 동안 모델은 여러 지점에서 콜백을 호출함\n",
    "- 모델의 상태와 성능에 대한 모든 정보를 접근하고 훈련 중지, 모델 저장, 가중치 적재 또는 모델 상태 변경 등을 처리할 수 있음\n",
    "\n",
    "콜백 사용 사례\n",
    "- 모델 체크포인트 저장\n",
    "- 조기 종료\n",
    "- 훈련하는 동안 하이퍼파라미터 값을 동적으로 조정\n",
    "- 훈련과 검증 지표를 로그에 기록하거나 모델이 학습한 표현이 업데이트 될 때마다 시각화"
   ]
  },
  {
   "cell_type": "markdown",
   "metadata": {
    "colab_type": "text"
   },
   "source": [
    "#### The EarlyStopping and ModelCheckpoint callbacks"
   ]
  },
  {
   "metadata": {},
   "cell_type": "markdown",
   "source": [
    "- EarlyStopping 콜백 : 정해진 에포크 동안 모니터링 지표가 향상되지 않을 때 훈련을 중지\n",
    "    - 일반적으로 이 콜백은 훈련하는 동안 모델을 계속 저장해주는 Model Checkpoint 콜백과 함께 사용 "
   ]
  },
  {
   "cell_type": "markdown",
   "metadata": {
    "colab_type": "text"
   },
   "source": [
    "**Using the `callbacks` argument in the `fit()` method**"
   ]
  },
  {
   "cell_type": "code",
   "metadata": {
    "colab_type": "code",
    "ExecuteTime": {
     "end_time": "2024-05-28T02:53:33.572580Z",
     "start_time": "2024-05-28T02:51:38.175818Z"
    }
   },
   "source": [
    "callbacks_list = [ \n",
    "    # fit() 메서드의 callbacks 매개변수를 사용하여 콜백의 리스트를 모델로 전달. 몇 개의 콜백이라도 전달할 수 있음\n",
    "    keras.callbacks.EarlyStopping(       # 성능향상이 멈추면 훈련 중지\n",
    "        monitor=\"val_accuracy\",          # 모델의 검증 정확도를 모니터링\n",
    "        patience=2,                      # 두 번의 에포크 동안 정확도가 향상되지 않으면 훈련 중지\n",
    "    ),\n",
    "    keras.callbacks.ModelCheckpoint(     # 매 에포크 끝에서 현재 가중치를 저장\n",
    "        filepath=\"checkpoint_path.keras\",# 모델 파일의 저장 경로\n",
    "        monitor=\"val_loss\",              \n",
    "        save_best_only=True,             # val_loss가 좋아지지 않으면 모델 파일을 덮어쓰지 않는다\n",
    "    )\n",
    "]\n",
    "model = get_mnist_model()\n",
    "model.compile(optimizer=\"rmsprop\",\n",
    "              loss=\"sparse_categorical_crossentropy\",\n",
    "              metrics=[\"accuracy\"])         # 정확도를 모니터링하므로 모델 지표에 포함되어야 함\n",
    "model.fit(train_images, train_labels,       \n",
    "          epochs=10,\n",
    "          callbacks=callbacks_list,\n",
    "          # 콜백이 검증 손실과 검증 정확도를 모니터링하기 때문에 fit() 메서드를 호출할 때 validation_data 매개 변수로 검증 데이터를 전달해야함.\n",
    "          # 학습 후 항상 모델을 수동으로 저장할 수 있음\n",
    "          validation_data=(val_images, val_labels))"
   ],
   "outputs": [
    {
     "name": "stdout",
     "output_type": "stream",
     "text": [
      "Epoch 1/10\n"
     ]
    },
    {
     "name": "stderr",
     "output_type": "stream",
     "text": [
      "2024-05-28 11:51:38.492706: I tensorflow/core/grappler/optimizers/custom_graph_optimizer_registry.cc:113] Plugin optimizer for device_type GPU is enabled.\n"
     ]
    },
    {
     "name": "stdout",
     "output_type": "stream",
     "text": [
      "1563/1563 [==============================] - ETA: 0s - loss: 0.2844 - accuracy: 0.9164"
     ]
    },
    {
     "name": "stderr",
     "output_type": "stream",
     "text": [
      "2024-05-28 11:51:49.695962: I tensorflow/core/grappler/optimizers/custom_graph_optimizer_registry.cc:113] Plugin optimizer for device_type GPU is enabled.\n"
     ]
    },
    {
     "name": "stdout",
     "output_type": "stream",
     "text": [
      "1563/1563 [==============================] - 13s 8ms/step - loss: 0.2844 - accuracy: 0.9164 - val_loss: 0.1503 - val_accuracy: 0.9590\n",
      "Epoch 2/10\n",
      "1563/1563 [==============================] - 11s 7ms/step - loss: 0.1541 - accuracy: 0.9564 - val_loss: 0.1198 - val_accuracy: 0.9677\n",
      "Epoch 3/10\n",
      "1563/1563 [==============================] - 12s 7ms/step - loss: 0.1230 - accuracy: 0.9657 - val_loss: 0.1223 - val_accuracy: 0.9684\n",
      "Epoch 4/10\n",
      "1563/1563 [==============================] - 11s 7ms/step - loss: 0.1123 - accuracy: 0.9701 - val_loss: 0.1177 - val_accuracy: 0.9717\n",
      "Epoch 5/10\n",
      "1563/1563 [==============================] - 11s 7ms/step - loss: 0.1010 - accuracy: 0.9748 - val_loss: 0.1099 - val_accuracy: 0.9755\n",
      "Epoch 6/10\n",
      "1563/1563 [==============================] - 11s 7ms/step - loss: 0.0957 - accuracy: 0.9768 - val_loss: 0.1179 - val_accuracy: 0.9748\n",
      "Epoch 7/10\n",
      "1563/1563 [==============================] - 12s 7ms/step - loss: 0.0911 - accuracy: 0.9780 - val_loss: 0.1095 - val_accuracy: 0.9765\n",
      "Epoch 8/10\n",
      "1563/1563 [==============================] - 11s 7ms/step - loss: 0.0825 - accuracy: 0.9803 - val_loss: 0.1155 - val_accuracy: 0.9775\n",
      "Epoch 9/10\n",
      "1563/1563 [==============================] - 11s 7ms/step - loss: 0.0832 - accuracy: 0.9803 - val_loss: 0.1269 - val_accuracy: 0.9760\n",
      "Epoch 10/10\n",
      "1563/1563 [==============================] - 11s 7ms/step - loss: 0.0768 - accuracy: 0.9821 - val_loss: 0.1295 - val_accuracy: 0.9776\n"
     ]
    },
    {
     "data": {
      "text/plain": [
       "<keras.callbacks.History at 0x16bce7b50>"
      ]
     },
     "execution_count": 36,
     "metadata": {},
     "output_type": "execute_result"
    }
   ],
   "execution_count": 36
  },
  {
   "cell_type": "code",
   "metadata": {
    "colab_type": "code",
    "ExecuteTime": {
     "end_time": "2024-05-28T02:53:33.627310Z",
     "start_time": "2024-05-28T02:53:33.573915Z"
    }
   },
   "source": [
    "model = keras.models.load_model(\"checkpoint_path.keras\")"
   ],
   "outputs": [],
   "execution_count": 37
  },
  {
   "cell_type": "markdown",
   "metadata": {
    "colab_type": "text"
   },
   "source": [
    "### Writing your own callbacks"
   ]
  },
  {
   "cell_type": "markdown",
   "metadata": {
    "colab_type": "text"
   },
   "source": [
    "**Creating a custom callback by subclassing the `Callback` class**"
   ]
  },
  {
   "cell_type": "code",
   "metadata": {
    "colab_type": "code",
    "ExecuteTime": {
     "end_time": "2024-05-28T02:53:33.870397Z",
     "start_time": "2024-05-28T02:53:33.629261Z"
    }
   },
   "source": [
    "from matplotlib import pyplot as plt\n",
    "\n",
    "class LossHistory(keras.callbacks.Callback):\n",
    "    def on_train_begin(self, logs):\n",
    "        self.per_batch_losses = []\n",
    "\n",
    "    def on_batch_end(self, batch, logs):\n",
    "        self.per_batch_losses.append(logs.get(\"loss\"))\n",
    "\n",
    "    def on_epoch_end(self, epoch, logs):\n",
    "        plt.clf()\n",
    "        plt.plot(range(len(self.per_batch_losses)), self.per_batch_losses,\n",
    "                 label=\"Training loss for each batch\")\n",
    "        plt.xlabel(f\"Batch (epoch {epoch})\")\n",
    "        plt.ylabel(\"Loss\")\n",
    "        plt.legend()\n",
    "        plt.savefig(f\"plot_at_epoch_{epoch}\")\n",
    "        self.per_batch_losses = []"
   ],
   "outputs": [],
   "execution_count": 38
  },
  {
   "cell_type": "code",
   "metadata": {
    "colab_type": "code",
    "ExecuteTime": {
     "end_time": "2024-05-28T02:55:39.747390Z",
     "start_time": "2024-05-28T02:53:33.871804Z"
    }
   },
   "source": [
    "model = get_mnist_model()\n",
    "model.compile(optimizer=\"rmsprop\",\n",
    "              loss=\"sparse_categorical_crossentropy\",\n",
    "              metrics=[\"accuracy\"])\n",
    "model.fit(train_images, train_labels,\n",
    "          epochs=10,\n",
    "          callbacks=[LossHistory()],\n",
    "          validation_data=(val_images, val_labels))"
   ],
   "outputs": [
    {
     "name": "stdout",
     "output_type": "stream",
     "text": [
      "Epoch 1/10\n"
     ]
    },
    {
     "name": "stderr",
     "output_type": "stream",
     "text": [
      "2024-05-28 11:53:34.599634: I tensorflow/core/grappler/optimizers/custom_graph_optimizer_registry.cc:113] Plugin optimizer for device_type GPU is enabled.\n"
     ]
    },
    {
     "name": "stdout",
     "output_type": "stream",
     "text": [
      "1563/1563 [==============================] - ETA: 0s - loss: 0.2810 - accuracy: 0.9170"
     ]
    },
    {
     "name": "stderr",
     "output_type": "stream",
     "text": [
      "2024-05-28 11:53:45.979430: I tensorflow/core/grappler/optimizers/custom_graph_optimizer_registry.cc:113] Plugin optimizer for device_type GPU is enabled.\n"
     ]
    },
    {
     "name": "stdout",
     "output_type": "stream",
     "text": [
      "1563/1563 [==============================] - 13s 8ms/step - loss: 0.2810 - accuracy: 0.9170 - val_loss: 0.1678 - val_accuracy: 0.9541\n",
      "Epoch 2/10\n",
      "1563/1563 [==============================] - 13s 8ms/step - loss: 0.1569 - accuracy: 0.9556 - val_loss: 0.1423 - val_accuracy: 0.9624\n",
      "Epoch 3/10\n",
      "1563/1563 [==============================] - 12s 8ms/step - loss: 0.1263 - accuracy: 0.9653 - val_loss: 0.1124 - val_accuracy: 0.9719\n",
      "Epoch 4/10\n",
      "1563/1563 [==============================] - 12s 8ms/step - loss: 0.1121 - accuracy: 0.9708 - val_loss: 0.1186 - val_accuracy: 0.9724\n",
      "Epoch 5/10\n",
      "1563/1563 [==============================] - 12s 8ms/step - loss: 0.1018 - accuracy: 0.9736 - val_loss: 0.1143 - val_accuracy: 0.9726\n",
      "Epoch 6/10\n",
      "1563/1563 [==============================] - 13s 8ms/step - loss: 0.0996 - accuracy: 0.9760 - val_loss: 0.1121 - val_accuracy: 0.9764\n",
      "Epoch 7/10\n",
      "1563/1563 [==============================] - 13s 9ms/step - loss: 0.0897 - accuracy: 0.9785 - val_loss: 0.1099 - val_accuracy: 0.9770\n",
      "Epoch 8/10\n",
      "1563/1563 [==============================] - 12s 8ms/step - loss: 0.0855 - accuracy: 0.9796 - val_loss: 0.1186 - val_accuracy: 0.9769\n",
      "Epoch 9/10\n",
      "1563/1563 [==============================] - 12s 8ms/step - loss: 0.0832 - accuracy: 0.9810 - val_loss: 0.1165 - val_accuracy: 0.9781\n",
      "Epoch 10/10\n",
      "1563/1563 [==============================] - 12s 8ms/step - loss: 0.0763 - accuracy: 0.9826 - val_loss: 0.1230 - val_accuracy: 0.9790\n"
     ]
    },
    {
     "data": {
      "text/plain": [
       "<keras.callbacks.History at 0x44b4a6220>"
      ]
     },
     "execution_count": 39,
     "metadata": {},
     "output_type": "execute_result"
    },
    {
     "data": {
      "text/plain": [
       "<Figure size 640x480 with 1 Axes>"
      ],
      "image/png": "[encoded data removed]"
     },
     "metadata": {},
     "output_type": "display_data"
    }
   ],
   "execution_count": 39
  },
  {
   "cell_type": "markdown",
   "metadata": {
    "colab_type": "text"
   },
   "source": [
    "### Monitoring and visualization with TensorBoard"
   ]
  },
  {
   "cell_type": "code",
   "metadata": {
    "colab_type": "code",
    "ExecuteTime": {
     "end_time": "2024-05-28T02:55:40.537566Z",
     "start_time": "2024-05-28T02:55:39.749321Z"
    }
   },
   "source": [
    "model = get_mnist_model()\n",
    "model.compile(optimizer=\"rmsprop\",\n",
    "              loss=\"sparse_categorical_crossentropy\",\n",
    "              metrics=[\"accuracy\"])\n",
    "\n",
    "tensorboard = keras.callbacks.TensorBoard(\n",
    "    log_dir=\"/full_path_to_your_log_dir\",\n",
    ")\n",
    "model.fit(train_images, train_labels,\n",
    "          epochs=10,\n",
    "          validation_data=(val_images, val_labels),\n",
    "          callbacks=[tensorboard])"
   ],
   "outputs": [
    {
     "name": "stderr",
     "output_type": "stream",
     "text": [
      "2024-05-28 11:55:39.927085: W tensorflow/core/framework/op_kernel.cc:1745] OP_REQUIRES failed at summary_kernels.cc:65 : PERMISSION_DENIED: /full_path_to_your_log_dir; Read-only file system\n"
     ]
    },
    {
     "ename": "PermissionDeniedError",
     "evalue": "/full_path_to_your_log_dir; Read-only file system [Op:CreateSummaryFileWriter]",
     "output_type": "error",
     "traceback": [
      "\u001B[0;31m---------------------------------------------------------------------------\u001B[0m",
      "\u001B[0;31mPermissionDeniedError\u001B[0m                     Traceback (most recent call last)",
      "Cell \u001B[0;32mIn[40], line 9\u001B[0m\n\u001B[1;32m      2\u001B[0m model\u001B[38;5;241m.\u001B[39mcompile(optimizer\u001B[38;5;241m=\u001B[39m\u001B[38;5;124m\"\u001B[39m\u001B[38;5;124mrmsprop\u001B[39m\u001B[38;5;124m\"\u001B[39m,\n\u001B[1;32m      3\u001B[0m               loss\u001B[38;5;241m=\u001B[39m\u001B[38;5;124m\"\u001B[39m\u001B[38;5;124msparse_categorical_crossentropy\u001B[39m\u001B[38;5;124m\"\u001B[39m,\n\u001B[1;32m      4\u001B[0m               metrics\u001B[38;5;241m=\u001B[39m[\u001B[38;5;124m\"\u001B[39m\u001B[38;5;124maccuracy\u001B[39m\u001B[38;5;124m\"\u001B[39m])\n\u001B[1;32m      6\u001B[0m tensorboard \u001B[38;5;241m=\u001B[39m keras\u001B[38;5;241m.\u001B[39mcallbacks\u001B[38;5;241m.\u001B[39mTensorBoard(\n\u001B[1;32m      7\u001B[0m     log_dir\u001B[38;5;241m=\u001B[39m\u001B[38;5;124m\"\u001B[39m\u001B[38;5;124m/full_path_to_your_log_dir\u001B[39m\u001B[38;5;124m\"\u001B[39m,\n\u001B[1;32m      8\u001B[0m )\n\u001B[0;32m----> 9\u001B[0m \u001B[43mmodel\u001B[49m\u001B[38;5;241;43m.\u001B[39;49m\u001B[43mfit\u001B[49m\u001B[43m(\u001B[49m\u001B[43mtrain_images\u001B[49m\u001B[43m,\u001B[49m\u001B[43m \u001B[49m\u001B[43mtrain_labels\u001B[49m\u001B[43m,\u001B[49m\n\u001B[1;32m     10\u001B[0m \u001B[43m          \u001B[49m\u001B[43mepochs\u001B[49m\u001B[38;5;241;43m=\u001B[39;49m\u001B[38;5;241;43m10\u001B[39;49m\u001B[43m,\u001B[49m\n\u001B[1;32m     11\u001B[0m \u001B[43m          \u001B[49m\u001B[43mvalidation_data\u001B[49m\u001B[38;5;241;43m=\u001B[39;49m\u001B[43m(\u001B[49m\u001B[43mval_images\u001B[49m\u001B[43m,\u001B[49m\u001B[43m \u001B[49m\u001B[43mval_labels\u001B[49m\u001B[43m)\u001B[49m\u001B[43m,\u001B[49m\n\u001B[1;32m     12\u001B[0m \u001B[43m          \u001B[49m\u001B[43mcallbacks\u001B[49m\u001B[38;5;241;43m=\u001B[39;49m\u001B[43m[\u001B[49m\u001B[43mtensorboard\u001B[49m\u001B[43m]\u001B[49m\u001B[43m)\u001B[49m\n",
      "File \u001B[0;32m/opt/homebrew/Caskroom/miniforge/base/envs/DL-tf/lib/python3.8/site-packages/keras/utils/traceback_utils.py:67\u001B[0m, in \u001B[0;36mfilter_traceback.<locals>.error_handler\u001B[0;34m(*args, **kwargs)\u001B[0m\n\u001B[1;32m     65\u001B[0m \u001B[38;5;28;01mexcept\u001B[39;00m \u001B[38;5;167;01mException\u001B[39;00m \u001B[38;5;28;01mas\u001B[39;00m e:  \u001B[38;5;66;03m# pylint: disable=broad-except\u001B[39;00m\n\u001B[1;32m     66\u001B[0m   filtered_tb \u001B[38;5;241m=\u001B[39m _process_traceback_frames(e\u001B[38;5;241m.\u001B[39m__traceback__)\n\u001B[0;32m---> 67\u001B[0m   \u001B[38;5;28;01mraise\u001B[39;00m e\u001B[38;5;241m.\u001B[39mwith_traceback(filtered_tb) \u001B[38;5;28;01mfrom\u001B[39;00m \u001B[38;5;28;01mNone\u001B[39;00m\n\u001B[1;32m     68\u001B[0m \u001B[38;5;28;01mfinally\u001B[39;00m:\n\u001B[1;32m     69\u001B[0m   \u001B[38;5;28;01mdel\u001B[39;00m filtered_tb\n",
      "File \u001B[0;32m/opt/homebrew/Caskroom/miniforge/base/envs/DL-tf/lib/python3.8/site-packages/tensorflow/python/framework/ops.py:7164\u001B[0m, in \u001B[0;36mraise_from_not_ok_status\u001B[0;34m(e, name)\u001B[0m\n\u001B[1;32m   7162\u001B[0m \u001B[38;5;28;01mdef\u001B[39;00m \u001B[38;5;21mraise_from_not_ok_status\u001B[39m(e, name):\n\u001B[1;32m   7163\u001B[0m   e\u001B[38;5;241m.\u001B[39mmessage \u001B[38;5;241m+\u001B[39m\u001B[38;5;241m=\u001B[39m (\u001B[38;5;124m\"\u001B[39m\u001B[38;5;124m name: \u001B[39m\u001B[38;5;124m\"\u001B[39m \u001B[38;5;241m+\u001B[39m name \u001B[38;5;28;01mif\u001B[39;00m name \u001B[38;5;129;01mis\u001B[39;00m \u001B[38;5;129;01mnot\u001B[39;00m \u001B[38;5;28;01mNone\u001B[39;00m \u001B[38;5;28;01melse\u001B[39;00m \u001B[38;5;124m\"\u001B[39m\u001B[38;5;124m\"\u001B[39m)\n\u001B[0;32m-> 7164\u001B[0m   \u001B[38;5;28;01mraise\u001B[39;00m core\u001B[38;5;241m.\u001B[39m_status_to_exception(e) \u001B[38;5;28;01mfrom\u001B[39;00m \u001B[38;5;28;01mNone\u001B[39;00m\n",
      "\u001B[0;31mPermissionDeniedError\u001B[0m: /full_path_to_your_log_dir; Read-only file system [Op:CreateSummaryFileWriter]"
     ]
    }
   ],
   "execution_count": 40
  },
  {
   "cell_type": "code",
   "metadata": {
    "colab_type": "code"
   },
   "source": [
    "%load_ext tensorboard\n",
    "%tensorboard --logdir /full_path_to_your_log_dir"
   ],
   "outputs": [],
   "execution_count": null
  },
  {
   "cell_type": "markdown",
   "metadata": {
    "colab_type": "text"
   },
   "source": [
    "## Writing your own training and evaluation loops"
   ]
  },
  {
   "metadata": {},
   "cell_type": "markdown",
   "source": [
    "- 내장 fit() 메서드로 충분하지 않은 상황이면 자신만의 훈련 로직을 직접 작성해야함\n",
    "\n",
    "전형적인 훈련 루프\n",
    "1. 현재 배치 데이터에 대한 손실 값을 얻기 위해 GradientTape 안에서 정방향 패스를 실행(모델의 출력 계산)\n",
    "2. 모델 가중치에 대한 손실의 Gradient를 계산\n",
    "3. 현재 배치 데이터에 대한 손실 값은 낮추는 방향으로 모델 가중치를 업데이트"
   ]
  },
  {
   "cell_type": "markdown",
   "metadata": {
    "colab_type": "text"
   },
   "source": "### Training versus inference"
  },
  {
   "metadata": {},
   "cell_type": "markdown",
   "source": [
    "Dropout 층과 같은 일부 케라스 층\n",
    "- 훈련과 (예측을 만들기 위해 모델을 사용하는) 추론에서 동작이 다름\n",
    "    - call() 메서드에 training boolean 매개변수 제공\n",
    "- dropout(inputs, training=True)와 같이 호출하면 이전 층의 활성화 출력 값을 일부 랜덤하게 제외\n",
    "- dropout(inputs, training=False)와 같이 호출하면 아무런 일을 수행하지 않음\n",
    "- 함수형 모델과 Sequential 모델도 call() 메서드에서 training 매개변수 제공\n",
    "    - 정방향 패스에서 케라스 모델을 호출할 때는 training=True로 지정해야 함\n",
    "    - 정방향 패스 : predictions = model(inputs, training=True)\n",
    "        - 모델 가중치 Gradient를 추출할 때 tape.gradients(loss, model.weights)가 아니라 tape.gradient(loss, model..trainable_weights)를 사용해야 함\n",
    "\n",
    "가중치의 종류(층, 모델)\n",
    "- 훈련 가능한 가중치 : Dense 층의 커널과 편향처럼 모델의 손실을 최소화하기 위해 역전파로 업데이트\n",
    "- 훈련되지 않는 가중치 : 해당 층의 정방향 패스 동안 업데이트\n",
    "    - 케라스에 내장된 층 중에 훈련되지 않는 가중치를 가진 층은 Batch Normalization 뿐임\n",
    "    - BatchNormalization 층은 처리하는 데이터의 평균과 표준 편차에 대한 정보를 추적하여 특성 정규화를 실시간으로 근사하기 위해 훈련되지 않는 가중치가 필요  "
   ]
  },
  {
   "metadata": {
    "ExecuteTime": {
     "end_time": "2024-05-28T03:06:08.895828Z",
     "start_time": "2024-05-28T03:06:08.888206Z"
    }
   },
   "cell_type": "code",
   "source": [
    "# 지도 학습을 위한 훈련 스텝\n",
    "def train_step(inputs, targets):\n",
    "    with tf.GradientTape() as tape:\n",
    "        predictions = model(inputs, training=True)\n",
    "        loss = loss_fn(targets, predictions)\n",
    "    gradients = tape.gradients(loss, model.trainable_weights)\n",
    "    optimizer.apply_gradients(zip(model.trainable_weights, gradients))"
   ],
   "outputs": [],
   "execution_count": 41
  },
  {
   "cell_type": "markdown",
   "metadata": {
    "colab_type": "text"
   },
   "source": [
    "### Low-level usage of metrics"
   ]
  },
  {
   "cell_type": "code",
   "metadata": {
    "colab_type": "code",
    "ExecuteTime": {
     "end_time": "2024-05-28T03:09:05.676947Z",
     "start_time": "2024-05-28T03:09:05.433948Z"
    }
   },
   "source": [
    "metric = keras.metrics.SparseCategoricalAccuracy()\n",
    "targets = [0, 1, 2]\n",
    "predictions = [[1, 0, 0], [0, 1, 0], [0, 0, 1]]\n",
    "metric.update_state(targets, predictions)\n",
    "current_result = metric.result()\n",
    "print(f\"result: {current_result:.2f}\")"
   ],
   "outputs": [
    {
     "name": "stdout",
     "output_type": "stream",
     "text": [
      "result: 1.00\n"
     ]
    }
   ],
   "execution_count": 42
  },
  {
   "cell_type": "code",
   "metadata": {
    "colab_type": "code",
    "ExecuteTime": {
     "end_time": "2024-05-28T03:09:05.711592Z",
     "start_time": "2024-05-28T03:09:05.699949Z"
    }
   },
   "source": [
    "values = [0, 1, 2, 3, 4]\n",
    "mean_tracker = keras.metrics.Mean()\n",
    "for value in values:\n",
    "    mean_tracker.update_state(value)\n",
    "print(f\"Mean of values: {mean_tracker.result():.2f}\")"
   ],
   "outputs": [
    {
     "name": "stdout",
     "output_type": "stream",
     "text": [
      "Mean of values: 2.00\n"
     ]
    }
   ],
   "execution_count": 43
  },
  {
   "cell_type": "markdown",
   "metadata": {
    "colab_type": "text"
   },
   "source": [
    "### A complete training and evaluation loop\n",
    "\n",
    "- 정방향 패스, 역방향 패스, 지표 추적을 fit()과 유사한 훈련 스텝 함수로 연결\n",
    "- 이 함수는 데이터와 타깃의 배치를 받고 fit() 진행 표시줄이 출력하는 로그를 반환"
   ]
  },
  {
   "cell_type": "markdown",
   "metadata": {
    "colab_type": "text"
   },
   "source": [
    "**Writing a step-by-step training loop: the training step function**"
   ]
  },
  {
   "cell_type": "code",
   "metadata": {
    "colab_type": "code",
    "ExecuteTime": {
     "end_time": "2024-05-28T03:09:09.640503Z",
     "start_time": "2024-05-28T03:09:09.579107Z"
    }
   },
   "source": [
    "model = get_mnist_model()\n",
    "\n",
    "loss_fn = keras.losses.SparseCategoricalCrossentropy()  # 손실함수 정의\n",
    "optimizer = keras.optimizers.RMSprop()                  # 옵티마이저 준비\n",
    "metrics = [keras.metrics.SparseCategoricalAccuracy()]   # 모니터링할 지표 리스트 준비\n",
    "loss_tracking_metric = keras.metrics.Mean()             # 손실 평균을 추적할 평균 지표 준비\n",
    "\n",
    "def train_step(inputs, targets):\n",
    "    # 정방향 패스를 실행. training=True 전달\n",
    "    with tf.GradientTape() as tape:                     \n",
    "        predictions = model(inputs, training=True)\n",
    "        loss = loss_fn(targets, predictions)\n",
    "    # 역방향 패스를 실행. model.trainable_weights 사용\n",
    "    gradients = tape.gradient(loss, model.trainable_weights)\n",
    "    optimizer.apply_gradients(zip(gradients, model.trainable_weights))\n",
    "    logs = {}\n",
    "    \n",
    "    # 측정 지표를 계산\n",
    "    for metric in metrics:\n",
    "        metric.update_state(targets, predictions)\n",
    "        logs[metric.name] = metric.result()\n",
    "    # 손실 평균을 계산\n",
    "    loss_tracking_metric.update_state(loss)\n",
    "    logs[\"loss\"] = loss_tracking_metric.result()\n",
    "    return logs # 지표와 손실의 현재 값을 반환"
   ],
   "outputs": [],
   "execution_count": 44
  },
  {
   "cell_type": "markdown",
   "metadata": {
    "colab_type": "text"
   },
   "source": [
    "**Writing a step-by-step training loop: resetting the metrics**\n",
    "\n",
    "- 매 에포크 시작과 평가 전에 지표의 상태를 재설정해야함"
   ]
  },
  {
   "cell_type": "code",
   "metadata": {
    "colab_type": "code",
    "ExecuteTime": {
     "end_time": "2024-05-28T03:09:10.654755Z",
     "start_time": "2024-05-28T03:09:10.652826Z"
    }
   },
   "source": [
    "def reset_metrics():\n",
    "    for metric in metrics:\n",
    "        metric.reset_state()\n",
    "    loss_tracking_metric.reset_state()"
   ],
   "outputs": [],
   "execution_count": 45
  },
  {
   "cell_type": "markdown",
   "metadata": {
    "colab_type": "text"
   },
   "source": [
    "**Writing a step-by-step training loop: the loop itself**\n",
    "- numpy data를 크기가 32인 배치로 데이터를 순회하는 반복자로 바꿈"
   ]
  },
  {
   "cell_type": "code",
   "metadata": {
    "colab_type": "code",
    "ExecuteTime": {
     "end_time": "2024-05-28T03:09:59.113211Z",
     "start_time": "2024-05-28T03:09:11.651852Z"
    }
   },
   "source": [
    "training_dataset = tf.data.Dataset.from_tensor_slices((train_images, train_labels))\n",
    "training_dataset = training_dataset.batch(32)\n",
    "epochs = 3\n",
    "for epoch in range(epochs):\n",
    "    reset_metrics()\n",
    "    for inputs_batch, targets_batch in training_dataset:\n",
    "        logs = train_step(inputs_batch, targets_batch)\n",
    "    print(f\"Results at the end of epoch {epoch}\")\n",
    "    for key, value in logs.items():\n",
    "        print(f\"...{key}: {value:.4f}\")"
   ],
   "outputs": [
    {
     "name": "stdout",
     "output_type": "stream",
     "text": [
      "Results at the end of epoch 0\n",
      "...sparse_categorical_accuracy: 0.9189\n",
      "...loss: 0.2748\n",
      "Results at the end of epoch 1\n",
      "...sparse_categorical_accuracy: 0.9659\n",
      "...loss: 0.1232\n",
      "Results at the end of epoch 2\n",
      "...sparse_categorical_accuracy: 0.9783\n",
      "...loss: 0.0797\n"
     ]
    }
   ],
   "execution_count": 46
  },
  {
   "cell_type": "markdown",
   "metadata": {
    "colab_type": "text"
   },
   "source": [
    "**Writing a step-by-step evaluation loop**\n",
    "\n",
    "- for 루프로 하나의 배치 데이터를 처리하는 test_step() 함수를 반복하여 호출"
   ]
  },
  {
   "cell_type": "code",
   "metadata": {
    "colab_type": "code",
    "ExecuteTime": {
     "end_time": "2024-05-28T03:10:00.925298Z",
     "start_time": "2024-05-28T03:09:59.116259Z"
    }
   },
   "source": [
    "def test_step(inputs, targets):\n",
    "    predictions = model(inputs, training=False)\n",
    "    loss = loss_fn(targets, predictions)\n",
    "\n",
    "    logs = {}\n",
    "    for metric in metrics:\n",
    "        metric.update_state(targets, predictions)\n",
    "        logs[\"val_\" + metric.name] = metric.result()\n",
    "\n",
    "    loss_tracking_metric.update_state(loss)\n",
    "    logs[\"val_loss\"] = loss_tracking_metric.result()\n",
    "    return logs\n",
    "\n",
    "val_dataset = tf.data.Dataset.from_tensor_slices((val_images, val_labels))\n",
    "val_dataset = val_dataset.batch(32)\n",
    "reset_metrics()\n",
    "for inputs_batch, targets_batch in val_dataset:\n",
    "    logs = test_step(inputs_batch, targets_batch)\n",
    "print(\"Evaluation results:\")\n",
    "for key, value in logs.items():\n",
    "    print(f\"...{key}: {value:.4f}\")"
   ],
   "outputs": [
    {
     "name": "stdout",
     "output_type": "stream",
     "text": [
      "Evaluation results:\n",
      "...val_sparse_categorical_accuracy: 0.9599\n",
      "...val_loss: 0.1692\n"
     ]
    }
   ],
   "execution_count": 47
  },
  {
   "cell_type": "markdown",
   "metadata": {
    "colab_type": "text"
   },
   "source": [
    "### Make it fast with tf.function\n",
    "\n",
    "- 기본적으로 텐서플로 코드는 numpy나 일반적인 파이썬 코드와 비슷하게 즉시(eagerly) 라인 단위로 실행되기 때문에 느림\n",
    "- eager execution은 코드 디버깅을 쉽게 만들어주지만 성능 측면에서는 최적이 아님\n",
    "\n",
    "- 텐서플로 코드는 계산 그래프(computation graph)로 컴파일하는 것이 더 성능이 좋음\n",
    "- 라인 단위로 해석되는 코드에서는 할 수 없는 전역적인 최적화가 가능\n",
    "    - 컴파일하고 싶은 함수에 `@tf.function` 데코레이터를 추가하면됨 "
   ]
  },
  {
   "cell_type": "markdown",
   "metadata": {
    "colab_type": "text"
   },
   "source": [
    "**Adding a `tf.function` decorator to our evaluation-step function**"
   ]
  },
  {
   "cell_type": "code",
   "metadata": {
    "colab_type": "code",
    "ExecuteTime": {
     "end_time": "2024-05-28T03:20:52.719547Z",
     "start_time": "2024-05-28T03:20:51.344343Z"
    }
   },
   "source": [
    "@tf.function # 이 라인만 추가됨\n",
    "def test_step(inputs, targets):\n",
    "    predictions = model(inputs, training=False)\n",
    "    loss = loss_fn(targets, predictions)\n",
    "\n",
    "    logs = {}\n",
    "    for metric in metrics:\n",
    "        metric.update_state(targets, predictions)\n",
    "        logs[\"val_\" + metric.name] = metric.result()\n",
    "\n",
    "    loss_tracking_metric.update_state(loss)\n",
    "    logs[\"val_loss\"] = loss_tracking_metric.result()\n",
    "    return logs\n",
    "\n",
    "val_dataset = tf.data.Dataset.from_tensor_slices((val_images, val_labels))\n",
    "val_dataset = val_dataset.batch(32)\n",
    "reset_metrics()\n",
    "for inputs_batch, targets_batch in val_dataset:\n",
    "    logs = test_step(inputs_batch, targets_batch)\n",
    "print(\"Evaluation results:\")\n",
    "for key, value in logs.items():\n",
    "    print(f\"...{key}: {value:.4f}\")"
   ],
   "outputs": [
    {
     "name": "stderr",
     "output_type": "stream",
     "text": [
      "2024-05-28 12:20:51.535603: I tensorflow/core/grappler/optimizers/custom_graph_optimizer_registry.cc:113] Plugin optimizer for device_type GPU is enabled.\n"
     ]
    },
    {
     "name": "stdout",
     "output_type": "stream",
     "text": [
      "Evaluation results:\n",
      "...val_sparse_categorical_accuracy: 0.9681\n",
      "...val_loss: 0.1256\n"
     ]
    },
    {
     "name": "stderr",
     "output_type": "stream",
     "text": [
      "2024-05-28 12:20:52.654288: I tensorflow/core/grappler/optimizers/custom_graph_optimizer_registry.cc:113] Plugin optimizer for device_type GPU is enabled.\n"
     ]
    }
   ],
   "execution_count": 53
  },
  {
   "metadata": {},
   "cell_type": "markdown",
   "source": [
    "- 코드 디버깅 : 즉시 실행 모드 (버그 추적 용이)\n",
    "- 성능 향상 : 훈련 스텝과 평가 스텝에 `@tf.function` 데코레이터 추가"
   ]
  },
  {
   "cell_type": "markdown",
   "metadata": {
    "colab_type": "text"
   },
   "source": [
    "### Leveraging fit() with a custom training loop\n",
    "\n",
    "밑바닥부터 완전한 사용자 정의 훈련 루프\n",
    "- 가장 높은 유연성 제공\n",
    "- 많은 코드를 작성해야 하고 콜백이나 분산 훈련 지원 같은 fit() 메서드가 제공하는 많은 편리한 기능 사용불가\n",
    "\n",
    "사용자 정의 훈련 스텝 함수를 제공하고 나머지 처리는 프레임워크에 위임도 가능\n",
    "- 방법 : \n",
    "    1. Model 클래스의 train_step() 메서드를 오버라이딩 : fit() 메서드가 배치 데이터마다 호출하는 메서드\n",
    "    2. 이전처럼 fit() 메서드를 호출하면 자신만의 학습 알고리즘 실행 가능\n",
    "\n",
    "- 예 :\n",
    "    1. keras.Model을 상속한 새로운 클래스 만듦\n",
    "    2. train_step(self, data) 메서드 오버라이드\n",
    "       - 손실을 포함하여 측정 지표 이름과 현재 값이 매핑된 딕셔너리 반환\n",
    "    3. 모델의 Metric 객체들을 반환하는 metrics 속성을 구현\n",
    "       - 이를 활용하여 매 에포크 시작이나 evaluate()를 호출할 때 모델이 지표 객체들의 reset_state() 메서드를 자동으로 호출할 수 있음\n",
    "       - 수동으로 지표를 재설정할 필요가 없음 "
   ]
  },
  {
   "cell_type": "markdown",
   "metadata": {
    "colab_type": "text"
   },
   "source": [
    "**Implementing a custom training step to use with `fit()`**"
   ]
  },
  {
   "cell_type": "code",
   "metadata": {
    "colab_type": "code",
    "ExecuteTime": {
     "end_time": "2024-05-28T03:10:02.032383Z",
     "start_time": "2024-05-28T03:10:02.024733Z"
    }
   },
   "source": [
    "loss_fn = keras.losses.SparseCategoricalCrossentropy()\n",
    "loss_tracker = keras.metrics.Mean(name=\"loss\") # 이 객체는 훈련과 평균 과정에서 배치 손실의 평균을 추적\n",
    "\n",
    "class CustomModel(keras.Model):\n",
    "    def train_step(self, data): # train_step 메서드 오버라이딩\n",
    "        inputs, targets = data\n",
    "        with tf.GradientTape() as tape: \n",
    "            # 모델이 클래스 자체이므로 model(inputs, training=True) 대신에 self(inputs, training=True)를 사용\n",
    "            predictions = self(inputs, training=True)\n",
    "            loss = loss_fn(targets, predictions)\n",
    "        gradients = tape.gradient(loss, self.trainable_weights)\n",
    "        self.optimizer.apply_gradients(zip(gradients, self.trainable_weights))\n",
    "\n",
    "        # 손실의 평균을 추적하는 Loss_tracker를 업데이트\n",
    "        loss_tracker.update_state(loss)\n",
    "        # 평균 손실을 구함\n",
    "        return {\"loss\": loss_tracker.result()}\n",
    "\n",
    "    @property\n",
    "    # 에포크마다 재설정할 지표는 여기에 나열해야 함\n",
    "    def metrics(self):\n",
    "        return [loss_tracker]"
   ],
   "outputs": [],
   "execution_count": 49
  },
  {
   "cell_type": "code",
   "metadata": {
    "colab_type": "code",
    "ExecuteTime": {
     "end_time": "2024-05-28T03:10:26.556969Z",
     "start_time": "2024-05-28T03:10:02.033449Z"
    }
   },
   "source": [
    "inputs = keras.Input(shape=(28 * 28,))\n",
    "features = layers.Dense(512, activation=\"relu\")(inputs)\n",
    "features = layers.Dropout(0.5)(features)\n",
    "outputs = layers.Dense(10, activation=\"softmax\")(features)\n",
    "model = CustomModel(inputs, outputs)\n",
    "\n",
    "model.compile(optimizer=keras.optimizers.RMSprop())\n",
    "model.fit(train_images, train_labels, epochs=3)"
   ],
   "outputs": [
    {
     "name": "stdout",
     "output_type": "stream",
     "text": [
      "Epoch 1/3\n",
      "   1/1563 [..............................] - ETA: 9:49 - loss: 2.5219"
     ]
    },
    {
     "name": "stderr",
     "output_type": "stream",
     "text": [
      "2024-05-28 12:10:02.383269: I tensorflow/core/grappler/optimizers/custom_graph_optimizer_registry.cc:113] Plugin optimizer for device_type GPU is enabled.\n"
     ]
    },
    {
     "name": "stdout",
     "output_type": "stream",
     "text": [
      "1563/1563 [==============================] - 8s 5ms/step - loss: 0.2836\n",
      "Epoch 2/3\n",
      "1563/1563 [==============================] - 8s 5ms/step - loss: 0.1526\n",
      "Epoch 3/3\n",
      "1563/1563 [==============================] - 8s 5ms/step - loss: 0.1253\n"
     ]
    },
    {
     "data": {
      "text/plain": [
       "<keras.callbacks.History at 0x169b781f0>"
      ]
     },
     "execution_count": 50,
     "metadata": {},
     "output_type": "execute_result"
    }
   ],
   "execution_count": 50
  },
  {
   "metadata": {},
   "cell_type": "markdown",
   "source": [
    "#### 몇 가지 주의점\n",
    "- 이 패턴 때문에 함수형 API로 모델을 만드는 데 문제가 되지 않음\n",
    "    - Sequential 모델, 함수형 모델, 서브클래싱 모델을 만드는지에 상관없이 이 방식을 사용할 수 있음\n",
    "- 프레임워크가 알아서 처리하기 때문에 train_step 메서드를 오버라이딩 할 때 `@tf.function` 데코레이터를 사용할 필요가 없음"
   ]
  },
  {
   "metadata": {},
   "cell_type": "markdown",
   "source": [
    "compile() 메서드를 통해 지표와 손실을 설정    \n",
    "compile() 메서드를 호출한 후 다음을 참조할 수 있음\n",
    "- `self.compiled_loss` : compile() 메서드에 전달한 손실 함수\n",
    "- `self.compiled_metrics` \n",
    "    - compile() 메서드에 전달된 지표 목록이 포함되어 있는 객체\n",
    "    - `self.compiled_metrics.update_state()를 호출하여 모든 지표를 동시에 업데이트 할 수 있음\n",
    "- `self.metrics` \n",
    "    - compile() 메서드에 전달한 실제 지표의 목록\n",
    "    - 앞서 `loss_tracking_metric`으로 수동으로 했던 것과 비슷하게 손실을 추적하는 지표도 포함 "
   ]
  },
  {
   "cell_type": "code",
   "metadata": {
    "colab_type": "code",
    "ExecuteTime": {
     "end_time": "2024-05-28T03:10:26.561187Z",
     "start_time": "2024-05-28T03:10:26.558215Z"
    }
   },
   "source": [
    "class CustomModel(keras.Model):\n",
    "    def train_step(self, data):\n",
    "        inputs, targets = data\n",
    "        with tf.GradientTape() as tape:\n",
    "            predictions = self(inputs, training=True)\n",
    "            loss = self.compiled_loss(targets, predictions) # 모델의 지표 업데이트\n",
    "        gradients = tape.gradient(loss, self.trainable_weights)\n",
    "        self.optimizer.apply_gradients(zip(gradients, self.trainable_weights))\n",
    "        self.compiled_metrics.update_state(targets, predictions) # 손실 계산\n",
    "        return {m.name: m.result() for m in self.metrics} # 측정 지표 이름과 현재 값을 매핑한 딕셔너리 반환"
   ],
   "outputs": [],
   "execution_count": 51
  },
  {
   "cell_type": "code",
   "metadata": {
    "colab_type": "code",
    "ExecuteTime": {
     "end_time": "2024-05-28T03:10:58.768716Z",
     "start_time": "2024-05-28T03:10:26.561845Z"
    }
   },
   "source": [
    "inputs = keras.Input(shape=(28 * 28,))\n",
    "features = layers.Dense(512, activation=\"relu\")(inputs)\n",
    "features = layers.Dropout(0.5)(features)\n",
    "outputs = layers.Dense(10, activation=\"softmax\")(features)\n",
    "model = CustomModel(inputs, outputs)\n",
    "\n",
    "model.compile(optimizer=keras.optimizers.RMSprop(),\n",
    "              loss=keras.losses.SparseCategoricalCrossentropy(),\n",
    "              metrics=[keras.metrics.SparseCategoricalAccuracy()])\n",
    "model.fit(train_images, train_labels, epochs=3)"
   ],
   "outputs": [
    {
     "name": "stdout",
     "output_type": "stream",
     "text": [
      "Epoch 1/3\n"
     ]
    },
    {
     "name": "stderr",
     "output_type": "stream",
     "text": [
      "2024-05-28 12:10:26.923011: I tensorflow/core/grappler/optimizers/custom_graph_optimizer_registry.cc:113] Plugin optimizer for device_type GPU is enabled.\n"
     ]
    },
    {
     "name": "stdout",
     "output_type": "stream",
     "text": [
      "1563/1563 [==============================] - 11s 7ms/step - loss: 0.2850 - sparse_categorical_accuracy: 0.9160\n",
      "Epoch 2/3\n",
      "1563/1563 [==============================] - 11s 7ms/step - loss: 0.1559 - sparse_categorical_accuracy: 0.9565\n",
      "Epoch 3/3\n",
      "1563/1563 [==============================] - 10s 7ms/step - loss: 0.1285 - sparse_categorical_accuracy: 0.9655\n"
     ]
    },
    {
     "data": {
      "text/plain": [
       "<keras.callbacks.History at 0x407c4eeb0>"
      ]
     },
     "execution_count": 52,
     "metadata": {},
     "output_type": "execute_result"
    }
   ],
   "execution_count": 52
  },
  {
   "cell_type": "markdown",
   "metadata": {
    "colab_type": "text"
   },
   "source": [
    "## Summary\n",
    "\n",
    "- 케라스는 **복잡성의 단계적 공개** 원칙을 기반으로 다양한 워크플로를 제공\n",
    "    - 워크플로는 부드럽게 서로 상호 운영이 가능\n",
    "- Sequential 클래스, 함수형 API를 사용하거나 Model 클래스를 상속하여 모델을 만들 수 있음\n",
    "    - 대부분 함수형 API 사용할 것\n",
    "- 모델을 훈련하고 평가하는 가장 간단한 방법 : 기본으로 제공되는 fit(), evaluate() 메서드 사용하는 것\n",
    "- 케라스 콜백 : fit() 메서드가 실행되는 동안 모델을 모니터링하고 모델의 상태에 따라 자동으로 행동을 수행할 수 있는 간단한 방법\n",
    "- train_step() 메서드를 오버라이딩하여 fit() 메서드의 동작을 완전히 제어할 수 있음\n",
    "- fit() 메서드를 넘어서 밑바닥부터 자신만의 훈련 루프를 작성할 수 도 있음\n",
    "    - 완전히 새로운 훈련 알고리즘을 구현하려는 연구자에게 유용한 기능   "
   ]
  }
 ],
 "metadata": {
  "colab": {
   "collapsed_sections": [],
   "name": "chapter07_working-with-keras.i",
   "private_outputs": false,
   "provenance": [],
   "toc_visible": true
  },
  "kernelspec": {
   "display_name": "Python 3",
   "language": "python",
   "name": "python3"
  },
  "language_info": {
   "codemirror_mode": {
    "name": "ipython",
    "version": 3
   },
   "file_extension": ".py",
   "mimetype": "text/x-python",
   "name": "python",
   "nbconvert_exporter": "python",
   "pygments_lexer": "ipython3",
   "version": "3.7.0"
  }
 },
 "nbformat": 4,
 "nbformat_minor": 0
}
