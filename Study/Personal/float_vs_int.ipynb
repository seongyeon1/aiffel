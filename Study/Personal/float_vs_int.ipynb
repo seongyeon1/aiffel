{
 "cells": [
  {
   "metadata": {},
   "cell_type": "markdown",
   "source": [
    "정확하게 말씀드리면, 정수형 연산에서 다루는 값이 달라지기보다는, **연산의 방식**과 **결과를 처리하는 방식**이 달라질 수 있습니다. 이는 특히 Python과 같은 고급 언어와 다양한 수치 계산 라이브러리에서 더 큰 차이를 보일 수 있습니다. 구체적으로 몇 가지 이유를 살펴보겠습니다.\n",
    "\n",
    "\n",
    "\n",
    "### 정수형 연산의 특성\n",
    "1. **계산상의 복잡도**:\n",
    "   정수형 연산에서도 매우 큰 숫자는 정확하게 다룰 수 있지만, 계산 시간이 많이 소요될 수 있습니다. 특히, Python의 `int` 타입은 임의 정밀도 연산을 허용하지만, 이에 따라서 계산 시간 및 메모리 사용량이 커질 수 있습니다.\n",
    "\n",
    "2. **예상하지 못한 오버플로우**:\n",
    "   큰 수를 다룰 때 정의된 범위를 초과하지 않더라도, 매우 큰 값을 계산하는 과정에서 시스템의 메모리나 처리 능력이 소진될 수 있습니다.\n",
    "\n",
    "### 부동 소수점 연산의 장점과 한계\n",
    "1. **부동 소수점 연산 방식**:\n",
    "   부동 소수점 연산에서는 근사 값을 사용하여 수학 연산을 수행합니다. 이는 고정된 비트 수 내에서 매우 큰 수와 매우 작은 수를 표현할 수 있는 장점이 있습니다. 하지만, 이는 정밀도 일부를 희생할 수 있습니다.\n",
    "\n",
    "2. **표준화된 연산**:\n",
    "   수치 계산 라이브러리는 일반적으로 부동 소수점 연산을 통해 표준화된 방식으로 숫자를 다룰 수 있습니다. 이는 일관된 결과를 보장합니다.\n",
    "\n",
    "\n",
    "### 부동 소수점과 정수형 연산의 구체적인 차이 예시\n",
    "다음은 이해를 돕기 위한 예시입니다."
   ],
   "id": "a349a45f8ee8b54f"
  },
  {
   "metadata": {},
   "cell_type": "markdown",
   "source": "#### 예시 1: 정수형 연산 시간과 메모리 문제",
   "id": "30f437023a8702e7"
  },
  {
   "metadata": {
    "ExecuteTime": {
     "end_time": "2024-05-24T07:37:56.756825Z",
     "start_time": "2024-05-24T07:37:56.749119Z"
    }
   },
   "cell_type": "code",
   "source": [
    "import time\n",
    "\n",
    "# 큰 정수 연산\n",
    "large_int = 10**20\n",
    "start_time = time.time()\n",
    "result = large_int ** 19\n",
    "elapsed_time = time.time() - start_time\n",
    "\n",
    "print(f\"Result of large int: {result}\")\n",
    "print(f\"Elapsed time (int): {elapsed_time:.5f} seconds\")\n"
   ],
   "id": "4fc8edc886d95ab",
   "outputs": [
    {
     "name": "stdout",
     "output_type": "stream",
     "text": [
      "Result of large int: 100000000000000000000000000000000000000000000000000000000000000000000000000000000000000000000000000000000000000000000000000000000000000000000000000000000000000000000000000000000000000000000000000000000000000000000000000000000000000000000000000000000000000000000000000000000000000000000000000000000000000000000000000000000000000000000000000000000000000000000000000000000000000000000\n",
      "Elapsed time (int): 0.00008 seconds\n"
     ]
    }
   ],
   "execution_count": 7
  },
  {
   "metadata": {},
   "cell_type": "markdown",
   "source": [
    "\n",
    "#### 예시 2: 부동 소수점 연산과 근사값"
   ],
   "id": "b26929e96a2b2aad"
  },
  {
   "metadata": {
    "ExecuteTime": {
     "end_time": "2024-05-24T07:37:57.936217Z",
     "start_time": "2024-05-24T07:37:57.909532Z"
    }
   },
   "cell_type": "code",
   "source": [
    "import numpy as np\n",
    "# 부동 소수점 연산\n",
    "large_float = 10.0**20\n",
    "start_time = time.time()\n",
    "result = large_float ** 19\n",
    "elapsed_time = time.time() - start_time\n",
    "\n",
    "print(f\"Result of large float: {result:.5e}\")\n",
    "print(f\"Elapsed time (float): {elapsed_time:.5f} seconds\")"
   ],
   "id": "197e93861ae3ea6a",
   "outputs": [
    {
     "ename": "OverflowError",
     "evalue": "(34, 'Result too large')",
     "output_type": "error",
     "traceback": [
      "\u001B[0;31m---------------------------------------------------------------------------\u001B[0m",
      "\u001B[0;31mOverflowError\u001B[0m                             Traceback (most recent call last)",
      "Cell \u001B[0;32mIn[8], line 5\u001B[0m\n\u001B[1;32m      3\u001B[0m large_float \u001B[38;5;241m=\u001B[39m \u001B[38;5;241m10.0\u001B[39m\u001B[38;5;241m*\u001B[39m\u001B[38;5;241m*\u001B[39m\u001B[38;5;241m20\u001B[39m\n\u001B[1;32m      4\u001B[0m start_time \u001B[38;5;241m=\u001B[39m time\u001B[38;5;241m.\u001B[39mtime()\n\u001B[0;32m----> 5\u001B[0m result \u001B[38;5;241m=\u001B[39m \u001B[43mlarge_float\u001B[49m\u001B[43m \u001B[49m\u001B[38;5;241;43m*\u001B[39;49m\u001B[38;5;241;43m*\u001B[39;49m\u001B[43m \u001B[49m\u001B[38;5;241;43m19\u001B[39;49m\n\u001B[1;32m      6\u001B[0m elapsed_time \u001B[38;5;241m=\u001B[39m time\u001B[38;5;241m.\u001B[39mtime() \u001B[38;5;241m-\u001B[39m start_time\n\u001B[1;32m      8\u001B[0m \u001B[38;5;28mprint\u001B[39m(\u001B[38;5;124mf\u001B[39m\u001B[38;5;124m\"\u001B[39m\u001B[38;5;124mResult of large float: \u001B[39m\u001B[38;5;132;01m{\u001B[39;00mresult\u001B[38;5;132;01m:\u001B[39;00m\u001B[38;5;124m.5e\u001B[39m\u001B[38;5;132;01m}\u001B[39;00m\u001B[38;5;124m\"\u001B[39m)\n",
      "\u001B[0;31mOverflowError\u001B[0m: (34, 'Result too large')"
     ]
    }
   ],
   "execution_count": 8
  },
  {
   "metadata": {},
   "cell_type": "markdown",
   "source": "이 두 예시를 통해서 큰 수를 다룰 때 부동 소수점 방식이 더 빠르게 연산을 수행할 수 있음을 알 수 있습니다. 그러나 부동 소수점 연산에서는 근사값이 포함되어 있다는 것을 주의해야 합니다",
   "id": "c2a86d486728e210"
  },
  {
   "metadata": {},
   "cell_type": "markdown",
   "source": [
    "#### 부동 소수점 연산의 일관성\n",
    "수치 계산 라이브러리 (예: NumPy)는 부동 소수점 연산을 사용하여 다양한 수치 문제를 효율적으로 처리합니다. 이는 수치적으로 안정된 결과를 보장하며, 예상치 못한 계산 오류를 줄이는 데 도움을 줍니다."
   ],
   "id": "40d90c9afc6e4118"
  },
  {
   "metadata": {
    "ExecuteTime": {
     "end_time": "2024-05-24T07:37:59.357091Z",
     "start_time": "2024-05-24T07:37:59.351818Z"
    }
   },
   "cell_type": "code",
   "source": [
    "import numpy as np\n",
    "\n",
    "x = np.array([1, 10, 1, 1, 1])\n",
    "x = x.astype('float')\n",
    "p = 19\n",
    "norm_x = np.linalg.norm(x, ord=p)\n",
    "making_norm = (sum(x**p))**(1/p)\n",
    "\n",
    "print(\"Result of numpy package norm function : %0.5f \" % norm_x)\n",
    "print(\"Result of making norm : %0.5f \" % making_norm)"
   ],
   "id": "41117c167f898bba",
   "outputs": [
    {
     "name": "stdout",
     "output_type": "stream",
     "text": [
      "Result of numpy package norm function : 10.00000 \n",
      "Result of making norm : 10.00000 \n"
     ]
    }
   ],
   "execution_count": 9
  },
  {
   "metadata": {},
   "cell_type": "markdown",
   "source": "위 코드는 부동 소수점 연산을 사용하여 일관된 결과를 출력합니다.",
   "id": "1c8b21a06f871964"
  },
  {
   "metadata": {
    "ExecuteTime": {
     "end_time": "2024-05-24T08:05:04.380761Z",
     "start_time": "2024-05-24T08:05:04.360109Z"
    }
   },
   "cell_type": "code",
   "source": [
    "import numpy as np\n",
    "\n",
    "x = np.array([1, 10, 1, 1, 1], dtype='object')\n",
    "# x = x.astype('int')\n",
    "p = 19\n",
    "norm_x = np.linalg.norm(x, ord=p)\n",
    "making_norm = (sum(x**p))**(1/p)\n",
    "\n",
    "print(\"Result of numpy package norm function : %0.5f \" % norm_x)\n",
    "print(\"Result of making norm : %0.5f \" % making_norm)"
   ],
   "id": "d3e9a8975e17f8a",
   "outputs": [
    {
     "name": "stdout",
     "output_type": "stream",
     "text": [
      "Result of numpy package norm function : 10.00000 \n",
      "Result of making norm : 10.00000 \n"
     ]
    }
   ],
   "execution_count": 49
  },
  {
   "metadata": {
    "ExecuteTime": {
     "end_time": "2024-05-24T08:14:40.027123Z",
     "start_time": "2024-05-24T08:14:40.020684Z"
    }
   },
   "cell_type": "code",
   "source": [
    "x = np.array([1, 10, 1, 1, 1])\n",
    "print(x[1] ** 19)\n",
    "print(10 ** 19)"
   ],
   "id": "938f7978ea6c6518",
   "outputs": [
    {
     "name": "stdout",
     "output_type": "stream",
     "text": [
      "-8446744073709551616\n",
      "10000000000000000000\n"
     ]
    }
   ],
   "execution_count": 62
  },
  {
   "metadata": {
    "ExecuteTime": {
     "end_time": "2024-05-24T08:22:11.826861Z",
     "start_time": "2024-05-24T08:22:11.821034Z"
    }
   },
   "cell_type": "code",
   "source": "print(type(x[1]), type(10))",
   "id": "737a913d6606fa09",
   "outputs": [
    {
     "name": "stdout",
     "output_type": "stream",
     "text": [
      "<class 'numpy.int64'> <class 'int'>\n"
     ]
    }
   ],
   "execution_count": 64
  },
  {
   "metadata": {
    "ExecuteTime": {
     "end_time": "2024-05-24T08:23:17.547172Z",
     "start_time": "2024-05-24T08:23:17.541121Z"
    }
   },
   "cell_type": "code",
   "source": [
    "import numpy as np\n",
    "\n",
    "x = np.array([1, 10, 1, 1, 1], dtype='object')\n",
    "p = 19\n",
    "norm_x = np.linalg.norm(x, ord=p)\n",
    "making_norm = (sum(x**p))**(1/p)\n",
    "\n",
    "print(\"Result of numpy package norm function : %0.5f \" % norm_x)\n",
    "print(\"Result of making norm : %0.5f \" % making_norm)"
   ],
   "id": "c1703414e81c5d48",
   "outputs": [
    {
     "name": "stdout",
     "output_type": "stream",
     "text": [
      "Result of numpy package norm function : 10.00000 \n",
      "Result of making norm : 10.00000 \n"
     ]
    }
   ],
   "execution_count": 65
  },
  {
   "metadata": {
    "ExecuteTime": {
     "end_time": "2024-05-24T08:24:43.111745Z",
     "start_time": "2024-05-24T08:24:43.105261Z"
    }
   },
   "cell_type": "code",
   "source": [
    "x1 = np.array([1, 10, 1, 1, 1])\n",
    "x2 = np.array([1, 10, 1, 1, 1], dtype='object')\n",
    "for n1, n2 in zip(x1, x2):\n",
    "    print(type(n1), type(n2))"
   ],
   "id": "fce01fba1e0b36d1",
   "outputs": [
    {
     "name": "stdout",
     "output_type": "stream",
     "text": [
      "<class 'numpy.int64'> <class 'int'>\n",
      "<class 'numpy.int64'> <class 'int'>\n",
      "<class 'numpy.int64'> <class 'int'>\n",
      "<class 'numpy.int64'> <class 'int'>\n",
      "<class 'numpy.int64'> <class 'int'>\n"
     ]
    }
   ],
   "execution_count": 67
  },
  {
   "metadata": {
    "ExecuteTime": {
     "end_time": "2024-05-24T08:07:40.934296Z",
     "start_time": "2024-05-24T08:07:40.931766Z"
    }
   },
   "cell_type": "code",
   "source": "result = []",
   "id": "a11f1e735a5d3ed9",
   "outputs": [],
   "execution_count": 55
  },
  {
   "metadata": {
    "ExecuteTime": {
     "end_time": "2024-05-24T07:41:10.965600Z",
     "start_time": "2024-05-24T07:41:10.959540Z"
    }
   },
   "cell_type": "code",
   "source": [
    "very_large_value = 10 ** 100\n",
    "\n",
    "print(f\"Very large value: {very_large_value}\")"
   ],
   "id": "c156c4aa05a86e38",
   "outputs": [
    {
     "name": "stdout",
     "output_type": "stream",
     "text": [
      "Very large value: 10000000000000000000000000000000000000000000000000000000000000000000000000000000000000000000000000000\n"
     ]
    }
   ],
   "execution_count": 14
  },
  {
   "metadata": {},
   "cell_type": "markdown",
   "source": [
    "### 요약\n",
    "\n",
    "\n",
    "- **정수형 연산**은 매우 큰 수를 정확하게 다룰 수 있지만, 계산 시간과 메모리 사용량에서 제한이 있을 수 있습니다. 이는 수치적으로 매우 큰 값을 다룰 때 처리 시간이나 메모리 소모로 이어질 수 있습니다.\n",
    "- **부동 소수점 연산**은 근사값을 사용하기 때문에 매우 큰 값이나 매우 작은 값을 효율적으로 다룰 수 있습니다. 다만, 정밀도 손실이 있을 수 있습니다.\n",
    "\n",
    "- 수치 계산 라이브러리는 부동 소수점 연산을 통해 표준화된 방식으로 계산을 수행하며, 일관된 결과를 제공할 수 있습니다.\n",
    "\n",
    "\n",
    "\n",
    "따라서, 부동 소수점 연산을 사용하여 계산의 일관성 및 효율성을 높이는 것이 권장됩니다. 이는 특히 큰 수치와 관련된 문제에서 유용합니다. 정수형 연산은 필요한 경우에만 사용하고, 일반적으로는 부동 소수점 연산을 사용하는 것이 바람직합니다."
   ],
   "id": "91c24ac753854663"
  },
  {
   "metadata": {},
   "cell_type": "markdown",
   "source": "# 파이썬 int 형 문제",
   "id": "ab017b1c634bf70d"
  },
  {
   "metadata": {
    "ExecuteTime": {
     "end_time": "2024-05-24T07:50:58.514185Z",
     "start_time": "2024-05-24T07:50:58.507852Z"
    }
   },
   "cell_type": "code",
   "source": [
    "import sys\n",
    "print(sys.maxsize)"
   ],
   "id": "d5946a5b2a44166f",
   "outputs": [
    {
     "name": "stdout",
     "output_type": "stream",
     "text": [
      "9223372036854775807\n"
     ]
    }
   ],
   "execution_count": 22
  },
  {
   "metadata": {
    "ExecuteTime": {
     "end_time": "2024-05-24T08:00:44.773228Z",
     "start_time": "2024-05-24T08:00:44.769367Z"
    }
   },
   "cell_type": "code",
   "source": "10 ** 19",
   "id": "1091b5da44313edd",
   "outputs": [
    {
     "data": {
      "text/plain": [
       "10000000000000000000"
      ]
     },
     "execution_count": 31,
     "metadata": {},
     "output_type": "execute_result"
    }
   ],
   "execution_count": 31
  },
  {
   "metadata": {
    "ExecuteTime": {
     "end_time": "2024-05-24T07:59:01.982741Z",
     "start_time": "2024-05-24T07:59:01.978475Z"
    }
   },
   "cell_type": "code",
   "source": [
    "import sys\n",
    "\n",
    "t1 = sys.maxsize\n",
    "t2 = sys.maxsize + 1 #이것도 type int\n",
    "\n",
    "print(t1)\n",
    "print(t2)\n",
    "print(type(t1))\n",
    "print(type(t2))"
   ],
   "id": "efffc50e98f40211",
   "outputs": [
    {
     "name": "stdout",
     "output_type": "stream",
     "text": [
      "9223372036854775807\n",
      "9223372036854775808\n",
      "<class 'int'>\n",
      "<class 'int'>\n",
      "36\n",
      "36\n"
     ]
    }
   ],
   "execution_count": 28
  },
  {
   "metadata": {
    "ExecuteTime": {
     "end_time": "2024-05-24T07:59:39.530506Z",
     "start_time": "2024-05-24T07:59:39.524077Z"
    }
   },
   "cell_type": "code",
   "source": [
    "a = 2 ** 29\n",
    "b = 2 ** 31\n",
    "c = 2 ** 59\n",
    "d = 2 ** 60\n",
    "\n",
    "print(sys.getsizeof(a))\n",
    "print(sys.getsizeof(b))\n",
    "print(sys.getsizeof(c))\n",
    "print(sys.getsizeof(d))"
   ],
   "id": "d141acf548d76b15",
   "outputs": [
    {
     "name": "stdout",
     "output_type": "stream",
     "text": [
      "28\n",
      "32\n",
      "32\n",
      "36\n"
     ]
    }
   ],
   "execution_count": 29
  },
  {
   "metadata": {},
   "cell_type": "code",
   "outputs": [],
   "execution_count": null,
   "source": "",
   "id": "3d28ee9a4e670edc"
  }
 ],
 "metadata": {
  "kernelspec": {
   "display_name": "Python 3",
   "language": "python",
   "name": "python3"
  },
  "language_info": {
   "codemirror_mode": {
    "name": "ipython",
    "version": 2
   },
   "file_extension": ".py",
   "mimetype": "text/x-python",
   "name": "python",
   "nbconvert_exporter": "python",
   "pygments_lexer": "ipython2",
   "version": "2.7.6"
  }
 },
 "nbformat": 4,
 "nbformat_minor": 5
}
